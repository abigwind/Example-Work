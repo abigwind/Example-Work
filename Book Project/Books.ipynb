{
 "cells": [
  {
   "cell_type": "markdown",
   "id": "da977892",
   "metadata": {},
   "source": [
    "Trying to learn how to webscrape by first using values in two different columns to do a google search and then scrape that page for publishing year, which would then be put back into the database to do more research."
   ]
  },
  {
   "cell_type": "code",
   "execution_count": 1,
   "id": "b6953c74",
   "metadata": {
    "scrolled": true
   },
   "outputs": [
    {
     "name": "stdout",
     "output_type": "stream",
     "text": [
      "      Author                        Title   Genre  Pub_Year  \\\n",
      "0  Gay, Ross  The Book of (More) Delights  Essays      2023   \n",
      "1  Gay, Ross  The Book of (More) Delights  Essays      2023   \n",
      "2  Gay, Ross  The Book of (More) Delights  Essays      2023   \n",
      "3  Gay, Ross  The Book of (More) Delights  Essays      2023   \n",
      "4  Gay, Ross  The Book of (More) Delights  Essays      2023   \n",
      "\n",
      "                                    Connective_Title  \\\n",
      "0  No Country for Eight-Spot Butterflies: A Lyric...   \n",
      "1  A Pattern Language: Towns, Buildings, Construv...   \n",
      "2                                           My Pinup   \n",
      "3   Animal Joy: A Book of Laughter and Resuscitation   \n",
      "4  Modernism in the Streets: A Life and Times in ...   \n",
      "\n",
      "                Connective_Author  Read  Own  \n",
      "0                   Aguon, Julian   0.0  0.0  \n",
      "1  Alexander, Christopher, et. al   0.0  0.0  \n",
      "2                     Als, Hilton   0.0  0.0  \n",
      "3                   Alsadir, Nuar   0.0  0.0  \n",
      "4                Berman, Marshall   0.0  0.0  \n"
     ]
    }
   ],
   "source": [
    "import pandas as pd\n",
    "\n",
    "\n",
    "file_path = '/Users/mattnelson/Desktop/GitHub/Example-Work/Book Project/Books - Sheet1.csv'  # Replace with the path to your file\n",
    "df = pd.read_csv(file_path)\n",
    "\n",
    "# Display the first few rows of the dataframe\n",
    "print(df.head())"
   ]
  },
  {
   "cell_type": "code",
   "execution_count": 2,
   "id": "8e35366a",
   "metadata": {},
   "outputs": [],
   "source": [
    "#Adding in the year column for the title\n",
    "df['Connective_year'] = None"
   ]
  },
  {
   "cell_type": "code",
   "execution_count": 10,
   "id": "1009c6ac",
   "metadata": {},
   "outputs": [
    {
     "data": {
      "text/html": [
       "<div>\n",
       "<style scoped>\n",
       "    .dataframe tbody tr th:only-of-type {\n",
       "        vertical-align: middle;\n",
       "    }\n",
       "\n",
       "    .dataframe tbody tr th {\n",
       "        vertical-align: top;\n",
       "    }\n",
       "\n",
       "    .dataframe thead th {\n",
       "        text-align: right;\n",
       "    }\n",
       "</style>\n",
       "<table border=\"1\" class=\"dataframe\">\n",
       "  <thead>\n",
       "    <tr style=\"text-align: right;\">\n",
       "      <th></th>\n",
       "      <th>Author</th>\n",
       "      <th>Title</th>\n",
       "      <th>Genre</th>\n",
       "      <th>Pub_Year</th>\n",
       "      <th>Connective_Title</th>\n",
       "      <th>Connective_Author</th>\n",
       "      <th>Read</th>\n",
       "      <th>Own</th>\n",
       "      <th>Connective_year</th>\n",
       "      <th>year</th>\n",
       "    </tr>\n",
       "  </thead>\n",
       "  <tbody>\n",
       "    <tr>\n",
       "      <th>0</th>\n",
       "      <td>Gay, Ross</td>\n",
       "      <td>The Book of (More) Delights</td>\n",
       "      <td>Essays</td>\n",
       "      <td>2023</td>\n",
       "      <td>No Country for Eight-Spot Butterflies: A Lyric...</td>\n",
       "      <td>Aguon, Julian</td>\n",
       "      <td>0.0</td>\n",
       "      <td>0.0</td>\n",
       "      <td>None</td>\n",
       "      <td>2022.0</td>\n",
       "    </tr>\n",
       "    <tr>\n",
       "      <th>1</th>\n",
       "      <td>Gay, Ross</td>\n",
       "      <td>The Book of (More) Delights</td>\n",
       "      <td>Essays</td>\n",
       "      <td>2023</td>\n",
       "      <td>A Pattern Language: Towns, Buildings, Construv...</td>\n",
       "      <td>Alexander, Christopher, et. al</td>\n",
       "      <td>0.0</td>\n",
       "      <td>0.0</td>\n",
       "      <td>None</td>\n",
       "      <td>1977.0</td>\n",
       "    </tr>\n",
       "    <tr>\n",
       "      <th>2</th>\n",
       "      <td>Gay, Ross</td>\n",
       "      <td>The Book of (More) Delights</td>\n",
       "      <td>Essays</td>\n",
       "      <td>2023</td>\n",
       "      <td>My Pinup</td>\n",
       "      <td>Als, Hilton</td>\n",
       "      <td>0.0</td>\n",
       "      <td>0.0</td>\n",
       "      <td>None</td>\n",
       "      <td>2022.0</td>\n",
       "    </tr>\n",
       "    <tr>\n",
       "      <th>3</th>\n",
       "      <td>Gay, Ross</td>\n",
       "      <td>The Book of (More) Delights</td>\n",
       "      <td>Essays</td>\n",
       "      <td>2023</td>\n",
       "      <td>Animal Joy: A Book of Laughter and Resuscitation</td>\n",
       "      <td>Alsadir, Nuar</td>\n",
       "      <td>0.0</td>\n",
       "      <td>0.0</td>\n",
       "      <td>None</td>\n",
       "      <td>2022.0</td>\n",
       "    </tr>\n",
       "    <tr>\n",
       "      <th>4</th>\n",
       "      <td>Gay, Ross</td>\n",
       "      <td>The Book of (More) Delights</td>\n",
       "      <td>Essays</td>\n",
       "      <td>2023</td>\n",
       "      <td>Modernism in the Streets: A Life and Times in ...</td>\n",
       "      <td>Berman, Marshall</td>\n",
       "      <td>0.0</td>\n",
       "      <td>0.0</td>\n",
       "      <td>None</td>\n",
       "      <td>2013.0</td>\n",
       "    </tr>\n",
       "    <tr>\n",
       "      <th>5</th>\n",
       "      <td>Gay, Ross</td>\n",
       "      <td>The Book of (More) Delights</td>\n",
       "      <td>Essays</td>\n",
       "      <td>2023</td>\n",
       "      <td>Why I Am Not Going to buy a Computer</td>\n",
       "      <td>Berry, Wendell</td>\n",
       "      <td>0.0</td>\n",
       "      <td>0.0</td>\n",
       "      <td>None</td>\n",
       "      <td>2022.0</td>\n",
       "    </tr>\n",
       "    <tr>\n",
       "      <th>6</th>\n",
       "      <td>Gay, Ross</td>\n",
       "      <td>The Book of (More) Delights</td>\n",
       "      <td>Essays</td>\n",
       "      <td>2023</td>\n",
       "      <td>The Body: An Essay</td>\n",
       "      <td>Boully, Jenny</td>\n",
       "      <td>0.0</td>\n",
       "      <td>0.0</td>\n",
       "      <td>None</td>\n",
       "      <td>2007.0</td>\n",
       "    </tr>\n",
       "    <tr>\n",
       "      <th>7</th>\n",
       "      <td>Gay, Ross</td>\n",
       "      <td>The Book of (More) Delights</td>\n",
       "      <td>Essays</td>\n",
       "      <td>2023</td>\n",
       "      <td>The Crying Book</td>\n",
       "      <td>Christle, Heather</td>\n",
       "      <td>0.0</td>\n",
       "      <td>1.0</td>\n",
       "      <td>None</td>\n",
       "      <td>2019.0</td>\n",
       "    </tr>\n",
       "    <tr>\n",
       "      <th>8</th>\n",
       "      <td>Gay, Ross</td>\n",
       "      <td>The Book of (More) Delights</td>\n",
       "      <td>Essays</td>\n",
       "      <td>2023</td>\n",
       "      <td>The Book of Light</td>\n",
       "      <td>Clifton, Lucille</td>\n",
       "      <td>1.0</td>\n",
       "      <td>0.0</td>\n",
       "      <td>None</td>\n",
       "      <td>1992.0</td>\n",
       "    </tr>\n",
       "    <tr>\n",
       "      <th>9</th>\n",
       "      <td>Gay, Ross</td>\n",
       "      <td>The Book of (More) Delights</td>\n",
       "      <td>Essays</td>\n",
       "      <td>2023</td>\n",
       "      <td>Bluest Nude: Poems</td>\n",
       "      <td>Codjoe, Ama</td>\n",
       "      <td>0.0</td>\n",
       "      <td>0.0</td>\n",
       "      <td>None</td>\n",
       "      <td>2022.0</td>\n",
       "    </tr>\n",
       "  </tbody>\n",
       "</table>\n",
       "</div>"
      ],
      "text/plain": [
       "      Author                        Title   Genre  Pub_Year  \\\n",
       "0  Gay, Ross  The Book of (More) Delights  Essays      2023   \n",
       "1  Gay, Ross  The Book of (More) Delights  Essays      2023   \n",
       "2  Gay, Ross  The Book of (More) Delights  Essays      2023   \n",
       "3  Gay, Ross  The Book of (More) Delights  Essays      2023   \n",
       "4  Gay, Ross  The Book of (More) Delights  Essays      2023   \n",
       "5  Gay, Ross  The Book of (More) Delights  Essays      2023   \n",
       "6  Gay, Ross  The Book of (More) Delights  Essays      2023   \n",
       "7  Gay, Ross  The Book of (More) Delights  Essays      2023   \n",
       "8  Gay, Ross  The Book of (More) Delights  Essays      2023   \n",
       "9  Gay, Ross  The Book of (More) Delights  Essays      2023   \n",
       "\n",
       "                                    Connective_Title  \\\n",
       "0  No Country for Eight-Spot Butterflies: A Lyric...   \n",
       "1  A Pattern Language: Towns, Buildings, Construv...   \n",
       "2                                           My Pinup   \n",
       "3   Animal Joy: A Book of Laughter and Resuscitation   \n",
       "4  Modernism in the Streets: A Life and Times in ...   \n",
       "5               Why I Am Not Going to buy a Computer   \n",
       "6                                 The Body: An Essay   \n",
       "7                                    The Crying Book   \n",
       "8                                  The Book of Light   \n",
       "9                                 Bluest Nude: Poems   \n",
       "\n",
       "                Connective_Author  Read  Own Connective_year    year  \n",
       "0                   Aguon, Julian   0.0  0.0            None  2022.0  \n",
       "1  Alexander, Christopher, et. al   0.0  0.0            None  1977.0  \n",
       "2                     Als, Hilton   0.0  0.0            None  2022.0  \n",
       "3                   Alsadir, Nuar   0.0  0.0            None  2022.0  \n",
       "4                Berman, Marshall   0.0  0.0            None  2013.0  \n",
       "5                  Berry, Wendell   0.0  0.0            None  2022.0  \n",
       "6                   Boully, Jenny   0.0  0.0            None  2007.0  \n",
       "7               Christle, Heather   0.0  1.0            None  2019.0  \n",
       "8                Clifton, Lucille   1.0  0.0            None  1992.0  \n",
       "9                     Codjoe, Ama   0.0  0.0            None  2022.0  "
      ]
     },
     "execution_count": 10,
     "metadata": {},
     "output_type": "execute_result"
    }
   ],
   "source": [
    "#Creating a test database with just the first 10 values\n",
    "\n",
    "test = df[:10]\n",
    "test"
   ]
  },
  {
   "cell_type": "code",
   "execution_count": 6,
   "id": "41c96b1d",
   "metadata": {},
   "outputs": [
    {
     "name": "stderr",
     "output_type": "stream",
     "text": [
      "/var/folders/2s/11ldfx_j2c9237b89l98fmdr0000gn/T/ipykernel_23631/567457228.py:36: SettingWithCopyWarning: \n",
      "A value is trying to be set on a copy of a slice from a DataFrame.\n",
      "Try using .loc[row_indexer,col_indexer] = value instead\n",
      "\n",
      "See the caveats in the documentation: https://pandas.pydata.org/pandas-docs/stable/user_guide/indexing.html#returning-a-view-versus-a-copy\n",
      "  test.at[index, 'year'] = year\n"
     ]
    },
    {
     "name": "stdout",
     "output_type": "stream",
     "text": [
      "      Author                        Title   Genre  Pub_Year  \\\n",
      "0  Gay, Ross  The Book of (More) Delights  Essays      2023   \n",
      "1  Gay, Ross  The Book of (More) Delights  Essays      2023   \n",
      "2  Gay, Ross  The Book of (More) Delights  Essays      2023   \n",
      "3  Gay, Ross  The Book of (More) Delights  Essays      2023   \n",
      "4  Gay, Ross  The Book of (More) Delights  Essays      2023   \n",
      "\n",
      "                                    Connective_Title  \\\n",
      "0  No Country for Eight-Spot Butterflies: A Lyric...   \n",
      "1  A Pattern Language: Towns, Buildings, Construv...   \n",
      "2                                           My Pinup   \n",
      "3   Animal Joy: A Book of Laughter and Resuscitation   \n",
      "4  Modernism in the Streets: A Life and Times in ...   \n",
      "\n",
      "                Connective_Author  Read  Own Connective_year    year  \n",
      "0                   Aguon, Julian   0.0  0.0            None  2022.0  \n",
      "1  Alexander, Christopher, et. al   0.0  0.0            None  1977.0  \n",
      "2                     Als, Hilton   0.0  0.0            None  2022.0  \n",
      "3                   Alsadir, Nuar   0.0  0.0            None  2022.0  \n",
      "4                Berman, Marshall   0.0  0.0            None  2013.0  \n"
     ]
    }
   ],
   "source": [
    "import requests\n",
    "from bs4 import BeautifulSoup\n",
    "import re\n",
    "\n",
    "def get_publishing_year(title, author):\n",
    "    query = f\"{title} {author} publishing year\"\n",
    "    url = f\"https://www.google.com/search?q={query}\"\n",
    "    headers = {\n",
    "        'User-Agent': 'Mozilla/5.0 (Windows NT 10.0; Win64; x64) AppleWebKit/537.36 (KHTML, like Gecko) Chrome/58.0.3029.110 Safari/537.36'\n",
    "    }\n",
    "\n",
    "    response = requests.get(url, headers=headers)\n",
    "    soup = BeautifulSoup(response.text, 'html.parser')\n",
    "\n",
    "    # Extract the publishing year from the search results using regex\n",
    "    try:\n",
    "        text = soup.get_text()\n",
    "        match = re.search(r'\\b(19|20)\\d{2}\\b', text)\n",
    "        if match:\n",
    "            year = int(match.group())\n",
    "            return year\n",
    "        else:\n",
    "            print(f\"No valid year found for {title} by {author}\")\n",
    "            return None\n",
    "    except Exception as e:\n",
    "        print(f\"Error extracting year for {title} by {author}: {e}\")\n",
    "        return None\n",
    "\n",
    "# Iterate through each book in the DataFrame, search for the publishing date, and update the DataFrame\n",
    "for index, row in test.iterrows():\n",
    "    if pd.isnull(row['Connective_year']):\n",
    "        title = row['Connective_Title']\n",
    "        author = row['Connective_Author']\n",
    "        year = get_publishing_year(title, author)\n",
    "        if year:\n",
    "            test.at[index, 'year'] = year\n",
    "\n",
    "# Display the updated DataFrame\n",
    "print(test.head())\n",
    "\n",
    "# Save the updated DataFrame to a new CSV file\n",
    "#df.to_csv('updated_books.csv', index=False)"
   ]
  },
  {
   "cell_type": "code",
   "execution_count": 9,
   "id": "3fff63f3",
   "metadata": {
    "scrolled": true
   },
   "outputs": [
    {
     "name": "stdout",
     "output_type": "stream",
     "text": [
      "No valid year found for Crituqe of Pure Reason by Kant, Immanuel\n",
      "No valid year found for The History of Mary Prince, a West Indian Slave, Related by Herself by Prince, Mary\n",
      "No valid year found for The History of Mary Prince, a West Indian Slave, Related by Herself by Prince, Mary\n",
      "No valid year found for The History of Mary Prince, a West Indian Slave, Related by Herself by Prince, Mary\n",
      "No valid year found for The History of Mary Prince, a West Indian Slave, Related by Herself by Prince, Mary\n",
      "No valid year found for Heaven/Earth by Connor, Linda\n",
      "No valid year found for Touching the Edge by McClure, Michael\n",
      "No valid year found for Black Music by Baraka, Amiri\n"
     ]
    }
   ],
   "source": [
    "#Need a timeout function because I kept getting this error: \n",
    "#            ('Connection aborted.', ConnectionResetError(54, 'Connection reset by peer'))\n",
    "import time\n",
    "\n",
    "for index, row in df.iterrows():\n",
    "    if pd.isnull(row['Connective_year']):\n",
    "        title = row['Connective_Title']\n",
    "        author = row['Connective_Author']\n",
    "        year = get_publishing_year(title, author)\n",
    "        if year:\n",
    "            df.at[index, 'year'] = year\n",
    "               # Retry logic for handling connection issues\n",
    "        retries = 3\n",
    "        for _ in range(retries):\n",
    "            year = get_publishing_year(title, author)\n",
    "            if year is not None:\n",
    "                break\n",
    "            time.sleep(5)  # Wait for 5 seconds before retrying\n",
    "\n",
    "        if year:\n",
    "            df.at[index, 'year'] = year"
   ]
  },
  {
   "cell_type": "code",
   "execution_count": 11,
   "id": "ba29507a",
   "metadata": {},
   "outputs": [],
   "source": [
    "df.to_csv('updated_books.csv', index=False)"
   ]
  },
  {
   "cell_type": "code",
   "execution_count": 13,
   "id": "2aa67333",
   "metadata": {},
   "outputs": [
    {
     "data": {
      "text/html": [
       "<div>\n",
       "<style scoped>\n",
       "    .dataframe tbody tr th:only-of-type {\n",
       "        vertical-align: middle;\n",
       "    }\n",
       "\n",
       "    .dataframe tbody tr th {\n",
       "        vertical-align: top;\n",
       "    }\n",
       "\n",
       "    .dataframe thead th {\n",
       "        text-align: right;\n",
       "    }\n",
       "</style>\n",
       "<table border=\"1\" class=\"dataframe\">\n",
       "  <thead>\n",
       "    <tr style=\"text-align: right;\">\n",
       "      <th></th>\n",
       "      <th>Author</th>\n",
       "      <th>Title</th>\n",
       "      <th>Genre</th>\n",
       "      <th>Pub_Year</th>\n",
       "      <th>Connective_Title</th>\n",
       "      <th>Connective_Author</th>\n",
       "      <th>Read</th>\n",
       "      <th>Own</th>\n",
       "      <th>Connective_year</th>\n",
       "      <th>year</th>\n",
       "    </tr>\n",
       "  </thead>\n",
       "  <tbody>\n",
       "    <tr>\n",
       "      <th>0</th>\n",
       "      <td>Gay, Ross</td>\n",
       "      <td>The Book of (More) Delights</td>\n",
       "      <td>Essays</td>\n",
       "      <td>2023</td>\n",
       "      <td>No Country for Eight-Spot Butterflies: A Lyric...</td>\n",
       "      <td>Aguon, Julian</td>\n",
       "      <td>0.0</td>\n",
       "      <td>0.0</td>\n",
       "      <td>None</td>\n",
       "      <td>2022.0</td>\n",
       "    </tr>\n",
       "    <tr>\n",
       "      <th>1</th>\n",
       "      <td>Gay, Ross</td>\n",
       "      <td>The Book of (More) Delights</td>\n",
       "      <td>Essays</td>\n",
       "      <td>2023</td>\n",
       "      <td>A Pattern Language: Towns, Buildings, Construv...</td>\n",
       "      <td>Alexander, Christopher, et. al</td>\n",
       "      <td>0.0</td>\n",
       "      <td>0.0</td>\n",
       "      <td>None</td>\n",
       "      <td>1977.0</td>\n",
       "    </tr>\n",
       "    <tr>\n",
       "      <th>2</th>\n",
       "      <td>Gay, Ross</td>\n",
       "      <td>The Book of (More) Delights</td>\n",
       "      <td>Essays</td>\n",
       "      <td>2023</td>\n",
       "      <td>My Pinup</td>\n",
       "      <td>Als, Hilton</td>\n",
       "      <td>0.0</td>\n",
       "      <td>0.0</td>\n",
       "      <td>None</td>\n",
       "      <td>2022.0</td>\n",
       "    </tr>\n",
       "    <tr>\n",
       "      <th>3</th>\n",
       "      <td>Gay, Ross</td>\n",
       "      <td>The Book of (More) Delights</td>\n",
       "      <td>Essays</td>\n",
       "      <td>2023</td>\n",
       "      <td>Animal Joy: A Book of Laughter and Resuscitation</td>\n",
       "      <td>Alsadir, Nuar</td>\n",
       "      <td>0.0</td>\n",
       "      <td>0.0</td>\n",
       "      <td>None</td>\n",
       "      <td>2022.0</td>\n",
       "    </tr>\n",
       "    <tr>\n",
       "      <th>4</th>\n",
       "      <td>Gay, Ross</td>\n",
       "      <td>The Book of (More) Delights</td>\n",
       "      <td>Essays</td>\n",
       "      <td>2023</td>\n",
       "      <td>Modernism in the Streets: A Life and Times in ...</td>\n",
       "      <td>Berman, Marshall</td>\n",
       "      <td>0.0</td>\n",
       "      <td>0.0</td>\n",
       "      <td>None</td>\n",
       "      <td>2013.0</td>\n",
       "    </tr>\n",
       "    <tr>\n",
       "      <th>...</th>\n",
       "      <td>...</td>\n",
       "      <td>...</td>\n",
       "      <td>...</td>\n",
       "      <td>...</td>\n",
       "      <td>...</td>\n",
       "      <td>...</td>\n",
       "      <td>...</td>\n",
       "      <td>...</td>\n",
       "      <td>...</td>\n",
       "      <td>...</td>\n",
       "    </tr>\n",
       "    <tr>\n",
       "      <th>1331</th>\n",
       "      <td>Benjamin, Ruha</td>\n",
       "      <td>Race after Technology</td>\n",
       "      <td>Math</td>\n",
       "      <td>2019</td>\n",
       "      <td>*Assimilation: An Alternative History</td>\n",
       "      <td>Ramíez, Catherine S.</td>\n",
       "      <td>0.0</td>\n",
       "      <td>0.0</td>\n",
       "      <td>None</td>\n",
       "      <td>2024.0</td>\n",
       "    </tr>\n",
       "    <tr>\n",
       "      <th>1332</th>\n",
       "      <td>Benjamin, Ruha</td>\n",
       "      <td>Race after Technology</td>\n",
       "      <td>Math</td>\n",
       "      <td>2019</td>\n",
       "      <td>*Spiraling Up: Discover Financial Serenity, Ma...</td>\n",
       "      <td>Medland, Steven</td>\n",
       "      <td>0.0</td>\n",
       "      <td>0.0</td>\n",
       "      <td>None</td>\n",
       "      <td>2024.0</td>\n",
       "    </tr>\n",
       "    <tr>\n",
       "      <th>1333</th>\n",
       "      <td>Benjamin, Ruha</td>\n",
       "      <td>Race after Technology</td>\n",
       "      <td>Math</td>\n",
       "      <td>2019</td>\n",
       "      <td>*Genius at Play: The Curious Mind of John Hort...</td>\n",
       "      <td>Roberts, Siobhan</td>\n",
       "      <td>0.0</td>\n",
       "      <td>0.0</td>\n",
       "      <td>None</td>\n",
       "      <td>2024.0</td>\n",
       "    </tr>\n",
       "    <tr>\n",
       "      <th>1334</th>\n",
       "      <td>Benjamin, Ruha</td>\n",
       "      <td>Race after Technology</td>\n",
       "      <td>Math</td>\n",
       "      <td>2019</td>\n",
       "      <td>*Conviction: The Making and Unmaking of the Vi...</td>\n",
       "      <td>Rollins, Oliver</td>\n",
       "      <td>0.0</td>\n",
       "      <td>0.0</td>\n",
       "      <td>None</td>\n",
       "      <td>2024.0</td>\n",
       "    </tr>\n",
       "    <tr>\n",
       "      <th>1335</th>\n",
       "      <td>Benjamin, Ruha</td>\n",
       "      <td>Race after Technology</td>\n",
       "      <td>Math</td>\n",
       "      <td>2019</td>\n",
       "      <td>*The Innovation Delusion: How Our Obsession wi...</td>\n",
       "      <td>Vinsel, Lee, and Andrew L. Russell</td>\n",
       "      <td>0.0</td>\n",
       "      <td>0.0</td>\n",
       "      <td>None</td>\n",
       "      <td>2024.0</td>\n",
       "    </tr>\n",
       "  </tbody>\n",
       "</table>\n",
       "<p>1336 rows × 10 columns</p>\n",
       "</div>"
      ],
      "text/plain": [
       "              Author                        Title   Genre  Pub_Year  \\\n",
       "0          Gay, Ross  The Book of (More) Delights  Essays      2023   \n",
       "1          Gay, Ross  The Book of (More) Delights  Essays      2023   \n",
       "2          Gay, Ross  The Book of (More) Delights  Essays      2023   \n",
       "3          Gay, Ross  The Book of (More) Delights  Essays      2023   \n",
       "4          Gay, Ross  The Book of (More) Delights  Essays      2023   \n",
       "...              ...                          ...     ...       ...   \n",
       "1331  Benjamin, Ruha        Race after Technology    Math      2019   \n",
       "1332  Benjamin, Ruha        Race after Technology    Math      2019   \n",
       "1333  Benjamin, Ruha        Race after Technology    Math      2019   \n",
       "1334  Benjamin, Ruha        Race after Technology    Math      2019   \n",
       "1335  Benjamin, Ruha        Race after Technology    Math      2019   \n",
       "\n",
       "                                       Connective_Title  \\\n",
       "0     No Country for Eight-Spot Butterflies: A Lyric...   \n",
       "1     A Pattern Language: Towns, Buildings, Construv...   \n",
       "2                                              My Pinup   \n",
       "3      Animal Joy: A Book of Laughter and Resuscitation   \n",
       "4     Modernism in the Streets: A Life and Times in ...   \n",
       "...                                                 ...   \n",
       "1331              *Assimilation: An Alternative History   \n",
       "1332  *Spiraling Up: Discover Financial Serenity, Ma...   \n",
       "1333  *Genius at Play: The Curious Mind of John Hort...   \n",
       "1334  *Conviction: The Making and Unmaking of the Vi...   \n",
       "1335  *The Innovation Delusion: How Our Obsession wi...   \n",
       "\n",
       "                       Connective_Author  Read  Own Connective_year    year  \n",
       "0                          Aguon, Julian   0.0  0.0            None  2022.0  \n",
       "1         Alexander, Christopher, et. al   0.0  0.0            None  1977.0  \n",
       "2                            Als, Hilton   0.0  0.0            None  2022.0  \n",
       "3                          Alsadir, Nuar   0.0  0.0            None  2022.0  \n",
       "4                       Berman, Marshall   0.0  0.0            None  2013.0  \n",
       "...                                  ...   ...  ...             ...     ...  \n",
       "1331                Ramíez, Catherine S.   0.0  0.0            None  2024.0  \n",
       "1332                     Medland, Steven   0.0  0.0            None  2024.0  \n",
       "1333                    Roberts, Siobhan   0.0  0.0            None  2024.0  \n",
       "1334                     Rollins, Oliver   0.0  0.0            None  2024.0  \n",
       "1335  Vinsel, Lee, and Andrew L. Russell   0.0  0.0            None  2024.0  \n",
       "\n",
       "[1336 rows x 10 columns]"
      ]
     },
     "execution_count": 13,
     "metadata": {},
     "output_type": "execute_result"
    }
   ],
   "source": [
    "df.head(-10)"
   ]
  },
  {
   "cell_type": "markdown",
   "id": "130b984c",
   "metadata": {},
   "source": [
    "If you notice that pretty much all the Ruha Benjamin books have a year of 2024 which tells me that there's something wrong with regex.\n",
    "\n",
    "Let us try again!"
   ]
  },
  {
   "cell_type": "markdown",
   "id": "0d5b87ca",
   "metadata": {},
   "source": [
    "This didn't work very quickly so I'm going to try and add a bar for progress\n",
    "\n",
    "\n",
    "from datetime import datetime\n",
    "\n",
    "# Load the Google Sheets file (as CSV or Excel)\n",
    "file_path2 = '/Users/mattnelson/Desktop/GitHub/Example-Work/Book Project/Books - Sheet1.csv'  # Replace with the path to your file\n",
    "df2 = pd.read_csv(file_path2)\n",
    "\n",
    "# Add a 'year' column initialized with None values\n",
    "df2['year'] = None\n",
    "\n",
    "# Get the current year\n",
    "current_year = datetime.now().year\n",
    "\n",
    "\n",
    "# Function to extract the publishing year from search results\n",
    "def get_publishing_year(title, author):\n",
    "    query = f\"{title} {author} publishing year\"\n",
    "    url = f\"https://www.google.com/search?q={query}\"\n",
    "    headers = {\n",
    "        'User-Agent': 'Mozilla/5.0 (Windows NT 10.0; Win64; x64) AppleWebKit/537.36 (KHTML, like Gecko) Chrome/58.0.3029.110 Safari/537.36'\n",
    "    }\n",
    "\n",
    "    try:\n",
    "        response = requests.get(url, headers=headers)\n",
    "        soup = BeautifulSoup(response.text, 'html.parser')\n",
    "\n",
    "        # Extract the publishing year from the search results using regex\n",
    "        text = soup.get_text()\n",
    "        match = re.search(r'\\b(19|20)\\d{2}\\b', text)\n",
    "        if match:\n",
    "            year = int(match.group())\n",
    "            # Validate that the year is in a plausible range\n",
    "            if 1800 <= year <= current_year:\n",
    "                return year\n",
    "            else:\n",
    "                print(f\"Invalid year {year} found for {title} by {author}\")\n",
    "                return None\n",
    "        else:\n",
    "            print(f\"No valid year found for {title} by {author}\")\n",
    "            return None\n",
    "    except Exception as e:\n",
    "        print(f\"Error extracting year for {title} by {author}: {e}\")\n",
    "        return None\n",
    "\n",
    "# Iterate through each book in the DataFrame, search for the publishing date, and update the DataFrame\n",
    "for index, row in df2.iterrows():\n",
    "    if pd.isnull(row['year']):\n",
    "        title = row['Connective_Title']\n",
    "        author = row['Connective_Author']\n",
    "        year = None\n",
    "\n",
    "        # Retry logic for handling connection issues\n",
    "        retries = 3\n",
    "        for _ in range(retries):\n",
    "            year = get_publishing_year(title, author)\n",
    "            if year is not None:\n",
    "                break\n",
    "            time.sleep(5)  # Wait for 5 seconds before retrying\n",
    "\n",
    "        if year:\n",
    "            df2.at[index, 'year'] = year\n",
    "\n",
    "# Display the updated DataFrame\n",
    "print(df.head())\n",
    "\n",
    "# Save the updated DataFrame to a new CSV file\n",
    "df2.to_csv('updated_books2.csv', index=False)"
   ]
  },
  {
   "cell_type": "code",
   "execution_count": 15,
   "id": "0898f9a1",
   "metadata": {
    "scrolled": true
   },
   "outputs": [
    {
     "name": "stderr",
     "output_type": "stream",
     "text": [
      "Processing books:   7%|█▌                     | 94/1346 [00:07<01:11, 17.44it/s]"
     ]
    },
    {
     "name": "stdout",
     "output_type": "stream",
     "text": [
      "Invalid year 2036 found for Condition of the Working Class in England by Engels, Frederich\n"
     ]
    },
    {
     "name": "stderr",
     "output_type": "stream",
     "text": [
      "Processing books:  18%|███▉                  | 238/1346 [00:19<01:35, 11.64it/s]"
     ]
    },
    {
     "name": "stdout",
     "output_type": "stream",
     "text": [
      "No valid year found for Alice's Adventures in Wonderland by Caroll, Lewis\n"
     ]
    },
    {
     "name": "stderr",
     "output_type": "stream",
     "text": [
      "Processing books:  18%|████                  | 249/1346 [00:19<01:23, 13.13it/s]"
     ]
    },
    {
     "name": "stdout",
     "output_type": "stream",
     "text": [
      "No valid year found for The Essential Dr. Jekyll & Mr. Hyde: THe Definitive Annotated Edition of Robert Louis Stevenson's Classic Novel by Stevenson, Robert Louis\n"
     ]
    },
    {
     "name": "stderr",
     "output_type": "stream",
     "text": [
      "Processing books:  22%|████▊                 | 296/1346 [00:23<01:19, 13.25it/s]"
     ]
    },
    {
     "name": "stdout",
     "output_type": "stream",
     "text": [
      "No valid year found for The Coming of the Third Reich by Evans, Richard\n"
     ]
    },
    {
     "name": "stderr",
     "output_type": "stream",
     "text": [
      "Processing books:  36%|███████▉              | 486/1346 [00:38<01:23, 10.32it/s]"
     ]
    },
    {
     "name": "stdout",
     "output_type": "stream",
     "text": [
      "No valid year found for Hamlet by Shakespeare, William\n"
     ]
    },
    {
     "name": "stderr",
     "output_type": "stream",
     "text": [
      "Processing books: 100%|█████████████████████| 1346/1346 [02:03<00:00, 10.87it/s]"
     ]
    },
    {
     "name": "stdout",
     "output_type": "stream",
     "text": [
      "      Author                        Title   Genre  Pub_Year  \\\n",
      "0  Gay, Ross  The Book of (More) Delights  Essays      2023   \n",
      "1  Gay, Ross  The Book of (More) Delights  Essays      2023   \n",
      "2  Gay, Ross  The Book of (More) Delights  Essays      2023   \n",
      "3  Gay, Ross  The Book of (More) Delights  Essays      2023   \n",
      "4  Gay, Ross  The Book of (More) Delights  Essays      2023   \n",
      "\n",
      "                                    Connective_Title  \\\n",
      "0  No Country for Eight-Spot Butterflies: A Lyric...   \n",
      "1  A Pattern Language: Towns, Buildings, Construv...   \n",
      "2                                           My Pinup   \n",
      "3   Animal Joy: A Book of Laughter and Resuscitation   \n",
      "4  Modernism in the Streets: A Life and Times in ...   \n",
      "\n",
      "                Connective_Author  Read  Own  year  \n",
      "0                   Aguon, Julian   0.0  0.0  2022  \n",
      "1  Alexander, Christopher, et. al   0.0  0.0  1977  \n",
      "2                     Als, Hilton   0.0  0.0  2022  \n",
      "3                   Alsadir, Nuar   0.0  0.0  2022  \n",
      "4                Berman, Marshall   0.0  0.0  2013  \n"
     ]
    },
    {
     "name": "stderr",
     "output_type": "stream",
     "text": [
      "\n"
     ]
    }
   ],
   "source": [
    "import pandas as pd\n",
    "import requests\n",
    "from bs4 import BeautifulSoup\n",
    "import re\n",
    "import time\n",
    "from datetime import datetime\n",
    "from concurrent.futures import ThreadPoolExecutor, as_completed\n",
    "from tqdm import tqdm\n",
    "\n",
    "# Load the Google Sheets file (as CSV or Excel)\n",
    "a = '/Users/mattnelson/Desktop/GitHub/Example-Work/Book Project/Books - Sheet1.csv'  # Replace with the path to your file\n",
    "df3 = pd.read_csv(a)\n",
    "\n",
    "# Add a 'year' column initialized with None values\n",
    "df3['year'] = None\n",
    "\n",
    "# Get the current year\n",
    "current_year = datetime.now().year\n",
    "\n",
    "# Function to extract the publishing year from search results\n",
    "def get_publishing_year(row):\n",
    "    title = row['Connective_Title']\n",
    "    author = row['Connective_Author']\n",
    "    query = f\"{title} {author} publishing in what year\"\n",
    "    url = f\"https://www.google.com/search?q={query}\"\n",
    "    headers = {\n",
    "        'User-Agent': 'Mozilla/5.0 (Windows NT 10.0; Win64; x64) AppleWebKit/537.36 (KHTML, like Gecko) Chrome/58.0.3029.110 Safari/537.36'\n",
    "    }\n",
    "\n",
    "    for _ in range(3):  # Retry logic\n",
    "        try:\n",
    "            response = requests.get(url, headers=headers)\n",
    "            soup = BeautifulSoup(response.text, 'html.parser')\n",
    "\n",
    "            # Extract the publishing year from the search results using regex\n",
    "            text = soup.get_text()\n",
    "            match = re.search(r'\\b(19|20)\\d{2}\\b', text)\n",
    "            if match:\n",
    "                year = int(match.group())\n",
    "                # Validate that the year is in a plausible range\n",
    "                if 1800 <= year <= current_year:\n",
    "                    return (row.name, year)\n",
    "                else:\n",
    "                    print(f\"Invalid year {year} found for {title} by {author}\")\n",
    "                    return (row.name, None)\n",
    "            else:\n",
    "                print(f\"No valid year found for {title} by {author}\")\n",
    "                return (row.name, None)\n",
    "        except Exception as e:\n",
    "            print(f\"Error extracting year for {title} by {author}: {e}\")\n",
    "            time.sleep(5)  # Wait for 5 seconds before retrying\n",
    "    return (row.name, None)\n",
    "\n",
    "# Function to update DataFrame with results\n",
    "def update_dataframe(results):\n",
    "    for index, year in results:\n",
    "        if year:\n",
    "            df3.at[index, 'year'] = year\n",
    "\n",
    "# Use ThreadPoolExecutor for concurrent requests with progress bar\n",
    "results = []\n",
    "with ThreadPoolExecutor(max_workers=10) as executor:\n",
    "    futures = {executor.submit(get_publishing_year, row): index for index, row in df3.iterrows()}\n",
    "    for future in tqdm(as_completed(futures), total=len(futures), desc=\"Processing books\"):\n",
    "        result = future.result()\n",
    "        if result:\n",
    "            results.append(result)\n",
    "\n",
    "# Update the DataFrame with the results\n",
    "update_dataframe(results)\n",
    "\n",
    "# Display the updated DataFrame\n",
    "print(df3.head())\n"
   ]
  },
  {
   "cell_type": "code",
   "execution_count": 20,
   "id": "1bce93b7",
   "metadata": {
    "scrolled": true
   },
   "outputs": [],
   "source": [
    "df3.to_csv('check_books.csv', index=False)"
   ]
  },
  {
   "cell_type": "markdown",
   "id": "cf6fee9b",
   "metadata": {},
   "source": [
    "After looking through the csv, the publishing dates stall out at Sho by Douglas Kearney. Going to try again."
   ]
  },
  {
   "cell_type": "code",
   "execution_count": 22,
   "id": "8243cb25",
   "metadata": {},
   "outputs": [
    {
     "name": "stderr",
     "output_type": "stream",
     "text": [
      "\r",
      "Processing books:   0%|                                | 0/1346 [00:00<?, ?it/s]"
     ]
    },
    {
     "name": "stdout",
     "output_type": "stream",
     "text": [
      "No valid year found for *The Age of Anxiety: A Baroque Eclogue by Auden, W.H.\n",
      "No valid year found for *The Return of the Soldier by West, Rebecca\n"
     ]
    },
    {
     "name": "stderr",
     "output_type": "stream",
     "text": [
      "\r",
      "Processing books:   0%|                        | 1/1346 [00:00<08:32,  2.62it/s]"
     ]
    },
    {
     "name": "stdout",
     "output_type": "stream",
     "text": [
      "No valid year found for The Body: An Essay by Boully, Jenny\n",
      "No valid year found for Slouching Towards Bethlehem by Didion, Joan\n",
      "No valid year found for The Unreal and the Real by Le Guin, Ursula K.\n",
      "No valid year found for Modernism in the Streets: A Life and Times in Essays by Berman, Marshall\n",
      "No valid year found for The Journalist and the Murderer by Malcolm, Janet\n"
     ]
    },
    {
     "name": "stderr",
     "output_type": "stream",
     "text": [
      "Processing books:   0%|                        | 4/1346 [00:00<03:51,  5.79it/s]"
     ]
    },
    {
     "name": "stdout",
     "output_type": "stream",
     "text": [
      "No valid year found for *Chaos and Night by Montherlant, Henry de\n",
      "No valid year found for Animal Joy: A Book of Laughter and Resuscitation by Alsadir, Nuar\n",
      "No valid year found for No Country for Eight-Spot Butterflies: A Lyric Essay by Aguon, Julian\n"
     ]
    },
    {
     "name": "stderr",
     "output_type": "stream",
     "text": [
      "\r",
      "Processing books:   0%|                        | 5/1346 [00:00<03:37,  6.17it/s]"
     ]
    },
    {
     "name": "stdout",
     "output_type": "stream",
     "text": [
      "No valid year found for *The Rings of Saturn by Sebald, W.G.\n",
      "No valid year found for Bluest Nude: Poems by Codjoe, Ama\n",
      "No valid year found for A Pattern Language: Towns, Buildings, Construvtion by Alexander, Christopher, et. al\n",
      "No valid year found for *Erewhon by Butler, Samuel\n",
      "No valid year found for *The Dry Salvages by Eliot, T.S.\n"
     ]
    },
    {
     "name": "stderr",
     "output_type": "stream",
     "text": [
      "\r",
      "Processing books:   1%|                        | 7/1346 [00:01<02:48,  7.93it/s]"
     ]
    },
    {
     "name": "stdout",
     "output_type": "stream",
     "text": [
      "No valid year found for Why I Am Not Going to buy a Computer by Berry, Wendell\n",
      "No valid year found for Of Solids and Surds: Notes for Noël Sturgeon, Marilyn Hacker, Josh Lukin, Mia Wolff, Bill Stribling and Bob White by Delaney, Samuel\n"
     ]
    },
    {
     "name": "stderr",
     "output_type": "stream",
     "text": [
      "\r",
      "Processing books:   1%|▏                       | 9/1346 [00:01<03:03,  7.27it/s]"
     ]
    },
    {
     "name": "stdout",
     "output_type": "stream",
     "text": [
      "No valid year found for The Brief Wonderous Life of Oscar Wao by Díaz, Junot\n",
      "No valid year found for To the Lighthouse by Woolf, Virginia\n",
      "No valid year found for My Pinup by Als, Hilton\n",
      "No valid year found for *The Captive Mind by Miłosz, Czesław\n",
      "No valid year found for *They Divided the Sky by Wolf, Christa\n"
     ]
    },
    {
     "name": "stderr",
     "output_type": "stream",
     "text": [
      "\r",
      "Processing books:   1%|▏                      | 11/1346 [00:01<03:26,  6.47it/s]"
     ]
    },
    {
     "name": "stdout",
     "output_type": "stream",
     "text": [
      "No valid year found for *Rabbit, Run by Updike, John\n",
      "No valid year found for *Out of Africa by Dinesen, Isak\n",
      "No valid year found for My Vocation by Ginzburg, Natalia\n",
      "No valid year found for Collected Stories of Colette by Colette\n",
      "No valid year found for Essays One by Davis, Lydia\n",
      "No valid year found for *Ignorance by Kundera, Milan\n",
      "No valid year found for Black Reconstruction by Du Bois, W.E.B.\n"
     ]
    },
    {
     "name": "stderr",
     "output_type": "stream",
     "text": [
      "\r",
      "Processing books:   1%|▏                      | 13/1346 [00:01<02:59,  7.42it/s]"
     ]
    },
    {
     "name": "stdout",
     "output_type": "stream",
     "text": [
      "No valid year found for The Book of Light by Clifton, Lucille\n",
      "No valid year found for The Black Agenda by Ford, Glen\n",
      "No valid year found for Sainte-Beuve: Selected Essays by Sainte-Beuve, Charles Augustin\n",
      "No valid year found for Collected Poems: 1950-2012 by Rich, Adrienne\n"
     ]
    },
    {
     "name": "stderr",
     "output_type": "stream",
     "text": [
      "\r",
      "Processing books:   1%|▎                      | 15/1346 [00:02<03:08,  7.05it/s]"
     ]
    },
    {
     "name": "stdout",
     "output_type": "stream",
     "text": [
      "No valid year found for *Girl by O'Brien, Edna\n",
      "No valid year found for The Crying Book by Christle, Heather\n",
      "No valid year found for W.E.B. Du Bois's Data Portraits: Visualizing Black America by Du Bois, W.E.B.\n"
     ]
    },
    {
     "name": "stderr",
     "output_type": "stream",
     "text": [
      "Processing books:   1%|▎                      | 19/1346 [00:02<02:22,  9.30it/s]"
     ]
    },
    {
     "name": "stdout",
     "output_type": "stream",
     "text": [
      "No valid year found for See/Saw: Looking at Photographs by Dyer, Geoff\n",
      "No valid year found for The Last Days of Roger Federer: ANd Other Essays by Dyer, Geoff\n",
      "No valid year found for Memory of Fire Trilogy by Galeano, Eduardo\n",
      "No valid year found for The Book of Embraces by Galeano, Eduardo\n",
      "No valid year found for *Gravity and Grace by Weil, Simone\n"
     ]
    },
    {
     "name": "stderr",
     "output_type": "stream",
     "text": [
      "Processing books:   2%|▍                      | 23/1346 [00:02<01:54, 11.53it/s]"
     ]
    },
    {
     "name": "stdout",
     "output_type": "stream",
     "text": [
      "No valid year found for Civilization and Its Discontents by Freud, Sigmund\n",
      "No valid year found for Growing Up Absurd by Goodman, Paul\n",
      "No valid year found for Taking a Long Look: Essays on Culture, Literature, and Feminism in Our Time by Gornick, Vivian\n",
      "No valid year found for *Wise Blood by O'Connor, Flannery\n",
      "No valid year found for Open Veins of Latin America: Five Centuries of the Pillage of a Continent by Galeano, Eduardo\n",
      "No valid year found for *The Human Stain by Roth, Philip\n"
     ]
    },
    {
     "name": "stderr",
     "output_type": "stream",
     "text": [
      "\r",
      "Processing books:   2%|▍                      | 25/1346 [00:03<03:05,  7.11it/s]"
     ]
    },
    {
     "name": "stdout",
     "output_type": "stream",
     "text": [
      "No valid year found for On Broswing (Field Notes, 5) by Guriel, Jason\n",
      "No valid year found for The Unwritten Book: An Investigation by Hunt, Samantha\n",
      "No valid year found for Prejudential: Black Ameirca and the Presdients by Kimberle, Margaret\n",
      "No valid year found for *Slaughterhouse-Five by Vonnegut, Kurt\n"
     ]
    },
    {
     "name": "stderr",
     "output_type": "stream",
     "text": [
      "\r",
      "Processing books:   2%|▍                      | 27/1346 [00:03<02:35,  8.46it/s]"
     ]
    },
    {
     "name": "stdout",
     "output_type": "stream",
     "text": [
      "No valid year found for Dear Science and Other Stories by McKittrick, Katherine\n",
      "No valid year found for *Game of Thrones by Martin, George R.R.\n",
      "No valid year found for Good-Bye to All That by Graves, Robert\n",
      "No valid year found for Two Lives: Gertude and Alice by Malcolm, Janet\n"
     ]
    },
    {
     "name": "stderr",
     "output_type": "stream",
     "text": [
      "\r",
      "Processing books:   2%|▍                      | 29/1346 [00:03<02:31,  8.71it/s]"
     ]
    },
    {
     "name": "stdout",
     "output_type": "stream",
     "text": [
      "No valid year found for Bullshit Jobs: A Theory by Graeber, David\n",
      "No valid year found for The Notebooks of Malte Laurids Brigge by Rilke, Rainer Maria\n",
      "No valid year found for The Gift by Hyde, Lewis\n"
     ]
    },
    {
     "name": "stderr",
     "output_type": "stream",
     "text": [
      "\r",
      "Processing books:   2%|▌                      | 31/1346 [00:04<03:21,  6.51it/s]"
     ]
    },
    {
     "name": "stdout",
     "output_type": "stream",
     "text": [
      "No valid year found for My Dog Tulip by Ackerley, J.R.\n",
      "No valid year found for Come Back in September: A Literary Education on West Sixty-Seventh Street, Manhattan by Pinckney, Daryl\n",
      "No valid year found for The Metamorphosis by Kafka, Franz\n",
      "No valid year found for Green Age by Ostriker, Alicia\n",
      "No valid year found for *Jazz by Morrison, Toni\n"
     ]
    },
    {
     "name": "stderr",
     "output_type": "stream",
     "text": [
      "Processing books:   3%|▌                      | 35/1346 [00:04<02:24,  9.04it/s]"
     ]
    },
    {
     "name": "stdout",
     "output_type": "stream",
     "text": [
      "No valid year found for The Origin of Others by Morrison, Toni\n",
      "No valid year found for The Last Thing: New & Selected Poems by Rosal, Patrick\n",
      "No valid year found for What Is Now Known Was Once Only Imagined: An (Auto)biography of Niki de Saint Phalle by Rudick, Nicole\n",
      "No valid year found for *The Ambassadors  by James, Henry\n",
      "No valid year found for Suppose a Sentence by Dillon, Brian\n",
      "No valid year found for *The Way of the World by Congreve, William\n"
     ]
    },
    {
     "name": "stderr",
     "output_type": "stream",
     "text": [
      "\r",
      "Processing books:   3%|▋                      | 37/1346 [00:05<03:35,  6.08it/s]"
     ]
    },
    {
     "name": "stdout",
     "output_type": "stream",
     "text": [
      "No valid year found for Letters to a Young Poet by Rilke, Rainer Maria\n",
      "No valid year found for *Dubliners by Joyce, James\n",
      "No valid year found for The Diary of Anne Frank by Frank, Anne\n",
      "No valid year found for Braiding Sweetgrass: Indigenous Wisdom, Scientific Knoweldge by Kimmerer, Robin Wall\n"
     ]
    },
    {
     "name": "stderr",
     "output_type": "stream",
     "text": [
      "\r",
      "Processing books:   3%|▋                      | 38/1346 [00:05<03:52,  5.62it/s]"
     ]
    },
    {
     "name": "stdout",
     "output_type": "stream",
     "text": [
      "No valid year found for *My Struggle by Knausgaard, Karl Ove\n",
      "No valid year found for Recollections of My Nonexistence by Solnit, Rebecca\n",
      "No valid year found for *Along Came a Spider by Patterson, James\n",
      "No valid year found for Letters of Flannery O'Connor by O'Connor, Flannery\n"
     ]
    },
    {
     "name": "stderr",
     "output_type": "stream",
     "text": [
      "\r",
      "Processing books:   3%|▋                      | 39/1346 [00:05<05:11,  4.19it/s]"
     ]
    },
    {
     "name": "stdout",
     "output_type": "stream",
     "text": [
      "No valid year found for Tractatus Logico-Philosophicus by Wittgenstein, Ludwig\n",
      "No valid year found for The Book of the Dead by Rukeyser, Muriel\n",
      "No valid year found for *Lake Wobegone Days by Keillor, Garrison\n",
      "No valid year found for Ill Nature by Williams, Joy\n",
      "No valid year found for The South: Jim Crow and its Afterlives by Reed, Adolph L., Jr.\n"
     ]
    },
    {
     "name": "stderr",
     "output_type": "stream",
     "text": [
      "\r",
      "Processing books:   3%|▋                      | 41/1346 [00:05<03:53,  5.58it/s]"
     ]
    },
    {
     "name": "stdout",
     "output_type": "stream",
     "text": [
      "No valid year found for Borealis by Sloan, Aisha Sabatini\n",
      "No valid year found for Orwell's Flowers by Solnit, Rebecca\n",
      "No valid year found for How Literature Saved My Life by Shields, David\n",
      "No valid year found for *The Last Days of Socrates by Plato\n",
      "No valid year found for *Letters from a Stoic by Seneca\n"
     ]
    },
    {
     "name": "stderr",
     "output_type": "stream",
     "text": [
      "\r",
      "Processing books:   3%|▊                      | 44/1346 [00:06<04:03,  5.34it/s]"
     ]
    },
    {
     "name": "stdout",
     "output_type": "stream",
     "text": [
      "No valid year found for *Michael Kohlhaas by Kleist, Heinrich von\n",
      "No valid year found for Black Beauty by Sewell, Anna\n",
      "No valid year found for *Selected Poems 1933-1993 by Erwart, Gavin\n",
      "No valid year found for World of Wonders: In Praise of Fireflies, Whale Sharks, and other Astonishments by Nezhukumatathil, Aimee\n",
      "No valid year found for A Field Guide to Getting Lost by Solnit, Rebecca\n",
      "No valid year found for The Mushroom at the End of the World by Tsing, Anna\n"
     ]
    },
    {
     "name": "stderr",
     "output_type": "stream",
     "text": [
      "\r",
      "Processing books:   3%|▊                      | 47/1346 [00:06<03:12,  6.76it/s]"
     ]
    },
    {
     "name": "stdout",
     "output_type": "stream",
     "text": [
      "No valid year found for *The Last Days of Mankind by Kraus, Karl\n",
      "No valid year found for King Lear by Shakespeare, William\n",
      "No valid year found for Devil at My Heels by Zamperini, Louis\n",
      "No valid year found for Crituqe of Pure Reason by Kant, Immanuel\n"
     ]
    },
    {
     "name": "stderr",
     "output_type": "stream",
     "text": [
      "\r",
      "Processing books:   4%|▊                      | 49/1346 [00:06<02:39,  8.11it/s]"
     ]
    },
    {
     "name": "stdout",
     "output_type": "stream",
     "text": [
      "No valid year found for Death Watch: A view from the Tenth Decade by Stern, Gerald\n",
      "No valid year found for Under the Sign of Saturn: Essays by Sontag, Susan\n",
      "No valid year found for Beautiful Joe: A Dog's Own Story by Saunders, Marshall\n",
      "No valid year found for White Fang by London, Jack\n",
      "No valid year found for The Unbearable Lightness of Being by Kundera, Milan\n"
     ]
    },
    {
     "name": "stderr",
     "output_type": "stream",
     "text": [
      "\r",
      "Processing books:   4%|▊                      | 51/1346 [00:07<02:50,  7.61it/s]"
     ]
    },
    {
     "name": "stdout",
     "output_type": "stream",
     "text": [
      "No valid year found for or, on being the other woman by White, Simone\n",
      "No valid year found for Soccer in Sun and Shadow by Galeano, Eduardo\n",
      "No valid year found for My Friend Flicka by O'Hara, Mary\n",
      "No valid year found for The Call of the Wild by London, Jack\n",
      "No valid year found for *Pale Fire by Nabokov, Vladimir\n",
      "No valid year found for Old Yeller by Gipson, Fred\n",
      "No valid year found for Anna Karenina by Tolstoy, Leo\n",
      "No valid year found for The Oxford Book of Death by Enright, D.J.\n"
     ]
    },
    {
     "name": "stderr",
     "output_type": "stream",
     "text": [
      "Processing books:   4%|▉                      | 55/1346 [00:07<02:42,  7.96it/s]"
     ]
    },
    {
     "name": "stdout",
     "output_type": "stream",
     "text": [
      "No valid year found for The Book of Delights by Gay, Ross\n",
      "No valid year found for *Dispatches by Herr, Michael\n",
      "No valid year found for The Divine Comedy by Dante\n",
      "No valid year found for The Illiad by Homer\n",
      "No valid year found for Uncle Tom's Cabin by Stowe, Harriet Beecher\n",
      "No valid year found for The Very Last Interview by Shields, David\n"
     ]
    },
    {
     "name": "stderr",
     "output_type": "stream",
     "text": [
      "\r",
      "Processing books:   4%|▉                      | 58/1346 [00:07<02:07, 10.13it/s]"
     ]
    },
    {
     "name": "stdout",
     "output_type": "stream",
     "text": [
      "No valid year found for *Swann's Way by Proust, Marcel\n",
      "No valid year found for *The Sea Wall by Duras, Marguerite\n",
      "No valid year found for Heart of Darkness by Conrad, Joseph\n",
      "No valid year found for The Argonauts by Nelson, Maggie\n",
      "No valid year found for Beyond Good and Evil by Nietzsche, Friedrich\n",
      "No valid year found for *Three Sisters by Chekhov, Anton\n",
      "No valid year found for *Road Dog by Leonard, Elmore\n",
      "No valid year found for *Time's Arrow by Amis, Martin\n",
      "No valid year found for Brothers and Keepers by Wideman, John Edgar\n",
      "No valid year found for Open Interval by Clief-Stefanon, Lyrae Van\n",
      "No valid year found for The Good Terrorist by Lessing, Doris\n"
     ]
    },
    {
     "name": "stderr",
     "output_type": "stream",
     "text": [
      "Processing books:   5%|█                      | 62/1346 [00:08<02:19,  9.20it/s]"
     ]
    },
    {
     "name": "stdout",
     "output_type": "stream",
     "text": [
      "No valid year found for Cooling Time: An American Poetry Vigil by Wright, C.D.\n",
      "No valid year found for *Geography III by Bishop, Elizabeth\n",
      "No valid year found for Uncle Tom's Cabin by Stowe, Harriet Beecher\n"
     ]
    },
    {
     "name": "stderr",
     "output_type": "stream",
     "text": [
      "\r",
      "Processing books:   5%|█                      | 64/1346 [00:08<02:14,  9.53it/s]"
     ]
    },
    {
     "name": "stdout",
     "output_type": "stream",
     "text": [
      "No valid year found for Slef Portrait by Ray, Man\n",
      "No valid year found for George Orwell's Diaries by Orwell, George\n",
      "No valid year found for *The Gorgeous Nothings by Dickinson, Emily\n",
      "No valid year found for The Dead Lecturer by Baraka, Amiri\n",
      "No valid year found for *Voices from Chernobyl by Alexievich, Svetlana\n",
      "No valid year found for Becoming Marianne Moore: The Early Poems 1907-1924 by Moore, Marianne\n",
      "No valid year found for *The Berlin Stories by Isherwood, Christopher\n"
     ]
    },
    {
     "name": "stderr",
     "output_type": "stream",
     "text": [
      "\r",
      "Processing books:   5%|█▏                     | 66/1346 [00:09<02:46,  7.68it/s]"
     ]
    },
    {
     "name": "stdout",
     "output_type": "stream",
     "text": [
      "No valid year found for The Black Maria by Girmay, Aracelis\n",
      "No valid year found for Orwell: My Country Right or Left: 1940-1943 by Orwell, Sonia and Ian Angus\n",
      "No valid year found for The Undercommons by Moten, Fred and Stefano Harney\n",
      "No valid year found for Wayward Lives, Beautiful Experiments: Intimate Histories of Social Upheaval by Hartman, Saidiya\n"
     ]
    },
    {
     "name": "stderr",
     "output_type": "stream",
     "text": [
      "\r",
      "Processing books:   5%|█▏                     | 67/1346 [00:09<03:07,  6.83it/s]"
     ]
    },
    {
     "name": "stdout",
     "output_type": "stream",
     "text": [
      "No valid year found for The Sovereignty of Quiet: Beyond Resistance in Black Culture by Quashie, KevinNo valid year found for And There Was Light by Lusseyran, Jacques\n",
      "No valid year found for Orwell: An Age Like This: 1920-1940 by Orwell, Sonia and Ian Angus\n",
      "\n",
      "No valid year found for The Complete Works of George Orwell by Orwell, George\n",
      "No valid year found for *Tales of Two Cities: The Best and Worst of Times In Today's New York by Cadogan, Garnette\n"
     ]
    },
    {
     "name": "stderr",
     "output_type": "stream",
     "text": [
      "Processing books:   5%|█▏                     | 71/1346 [00:09<02:24,  8.82it/s]"
     ]
    },
    {
     "name": "stdout",
     "output_type": "stream",
     "text": [
      "No valid year found for Orwell Remembered by Coppard, Audrey and Bernanrd Crick\n",
      "No valid year found for In the Wake: On Blackness and Being by Sharpe, Christina\n",
      "No valid year found for The Immense Journey by Eiseley, Loren\n",
      "No valid year found for What Will Be Always Has Been: The Words of Louis I. Kahn by Wurman, Richard Saul\n",
      "No valid year found for On Photography by Sontag, Susan\n",
      "No valid year found for *My American Kundiman by Rosal, Patrick\n",
      "No valid year found for *Harry Potter and the Sorcerer's Stone by Rowling, J.K.\n",
      "No valid year found for Coming Up For Air by Orwell, George\n"
     ]
    },
    {
     "name": "stderr",
     "output_type": "stream",
     "text": [
      "Processing books:   5%|█▎                     | 74/1346 [00:10<03:09,  6.71it/s]"
     ]
    },
    {
     "name": "stdout",
     "output_type": "stream",
     "text": [
      "No valid year found for *Before Yellow Tape: A Pulitzer Prize Winner's Fire Images by Formna, Stanley\n",
      "No valid year found for Humbolt's Gift by Bellow, Saul\n",
      "No valid year found for George Orwell: In Front of Your Nose: 1945-1950 by Orwell, Sonia and Ian Angus\n",
      "No valid year found for *Photographs by Warhol, Andy\n"
     ]
    },
    {
     "name": "stderr",
     "output_type": "stream",
     "text": [
      "Processing books:   6%|█▎                     | 77/1346 [00:10<02:24,  8.75it/s]"
     ]
    },
    {
     "name": "stdout",
     "output_type": "stream",
     "text": [
      "No valid year found for *Fire Road: The Napalm Girl's Journey through the Horrors of War to Faith, Forgiveness & Peace by Phan Thi, Kim Phuc\n",
      "No valid year found for As I Please: 1943-1945 by Orwell, Sonia and Ian Angus\n",
      "No valid year found for Eric and Us by Buddicom, Jacintha\n",
      "No valid year found for The Rose by Potter, Jennfer\n",
      "No valid year found for Nineteen Eighty-Four by Orwell, George\n",
      "No valid year found for *Natural Birth by Derricotte, Toi\n"
     ]
    },
    {
     "name": "stderr",
     "output_type": "stream",
     "text": [
      "\r",
      "Processing books:   6%|█▎                     | 79/1346 [00:10<02:42,  7.81it/s]"
     ]
    },
    {
     "name": "stdout",
     "output_type": "stream",
     "text": [
      "No valid year found for A Clergyman's Daughter by Orwell, George\n",
      "No valid year found for Braiding Sweetgrass by Kimmerer, Robin Wall\n",
      "No valid year found for *Directed by Desire by Jordan, June\n"
     ]
    },
    {
     "name": "stderr",
     "output_type": "stream",
     "text": [
      "Processing books:   6%|█▍                     | 82/1346 [00:11<02:46,  7.57it/s]"
     ]
    },
    {
     "name": "stdout",
     "output_type": "stream",
     "text": [
      "No valid year found for *American Sonnets by Stern, Gerald\n",
      "No valid year found for Purity and Danger: An Analysis of the Concepts of Pollution and Taboo by Douglas, Mary\n",
      "No valid year found for Gardening at Dragon's Gate by Johnson, Wendy\n",
      "No valid year found for *Everyday Mojo by Komunyakaa, Yusef\n",
      "No valid year found for The Road to Wigan Pier by Orwell, George\n",
      "No valid year found for Joyful Militancy: Building Thriving Reistance in Toxic Times by bergman, carla and Nick Montgomery\n"
     ]
    },
    {
     "name": "stderr",
     "output_type": "stream",
     "text": [
      "Processing books:   6%|█▍                     | 85/1346 [00:11<02:42,  7.76it/s]"
     ]
    },
    {
     "name": "stdout",
     "output_type": "stream",
     "text": [
      "No valid year found for The Crystal Spirit: A Study of George Orwell by Woodcock, George\n",
      "No valid year found for *Twenty Love Poems and A Song Of Despair by Neruda, Paublo\n",
      "No valid year found for The Lost Orwell: Being a Supplement to 'The Complete Works of George Orwell' by Orwell, George\n",
      "No valid year found for *America by Strauss, Zoe\n",
      "No valid year found for *Imporving Passions: Sentimental Aesthetics and American Film by Burnetts, Charles\n",
      "No valid year found for Tar Beach  by Ringgold, Faith\n",
      "No valid year found for *domina Un/blued by Kocher, Ruth Ellen\n"
     ]
    },
    {
     "name": "stderr",
     "output_type": "stream",
     "text": [
      "\r",
      "Processing books:   6%|█▍                     | 86/1346 [00:11<02:57,  7.10it/s]"
     ]
    },
    {
     "name": "stdout",
     "output_type": "stream",
     "text": [
      "No valid year found for The Communist Manifesto by Marx, Karl and Frederich Engels\n",
      "No valid year found for Condition of the Working Class in England by Engels, Frederich\n",
      "No valid year found for Georege Orwell: A Life in Letters by Orwell, George\n",
      "No valid year found for New Russia's Primer: The Story of the Five Year Plan by Ilin, M.\n",
      "No valid year found for *A Fourtune for Your Disaster by Abdurraqib, Hanif\n"
     ]
    },
    {
     "name": "stderr",
     "output_type": "stream",
     "text": [
      "\r",
      "Processing books:   7%|█▌                     | 90/1346 [00:12<02:20,  8.93it/s]"
     ]
    },
    {
     "name": "stdout",
     "output_type": "stream",
     "text": [
      "No valid year found for The Unreal and Real by Le Guin, Ursula K.\n",
      "No valid year found for Burmese Days by Orwell, George\n",
      "No valid year found for Keep the Aspidistra Flying by Orwell, George\n",
      "No valid year found for Remembering Orwell by Wadhams, Stephen\n",
      "No valid year found for *Lettermen by Everson, Kevin Jerome\n",
      "No valid year found for The Little Edges by Moten, Fred\n"
     ]
    },
    {
     "name": "stderr",
     "output_type": "stream",
     "text": [
      "\r",
      "Processing books:   7%|█▌                     | 94/1346 [00:12<01:59, 10.48it/s]"
     ]
    },
    {
     "name": "stdout",
     "output_type": "stream",
     "text": [
      "No valid year found for Black Looks by hooks, bell\n",
      "No valid year found for *Almost Midnight by Belton, Don\n",
      "No valid year found for The Little Prince by de Saint-Exupéry, Antoine\n",
      "No valid year found for Down and Out in Pairs and London by Orwell, George\n",
      "No valid year found for Zong! by Philip, M. NourbeSe\n"
     ]
    },
    {
     "name": "stderr",
     "output_type": "stream",
     "text": [
      "\r",
      "Processing books:   7%|█▋                     | 96/1346 [00:12<02:04, 10.00it/s]"
     ]
    },
    {
     "name": "stdout",
     "output_type": "stream",
     "text": [
      "No valid year found for Beloved by Morrison, ToniNo valid year found for Anthony Blunt: His Lives by Carter, Amanda\n",
      "\n",
      "No valid year found for Shadows, Fire, Snow: The Life of Tina Modotti by Albers, Patricia\n"
     ]
    },
    {
     "name": "stderr",
     "output_type": "stream",
     "text": [
      "\r",
      "Processing books:   7%|█▋                     | 98/1346 [00:12<02:08,  9.73it/s]"
     ]
    },
    {
     "name": "stdout",
     "output_type": "stream",
     "text": [
      "No valid year found for Vermeer in Bosnia by Weschler, Lawrence\n",
      "No valid year found for Playing in the Dark by Morrison, Toni\n",
      "No valid year found for William Shakespeare's Sonnets by Shakespeare, William\n",
      "No valid year found for Infants of the Spring by Powell, Anthony\n",
      "No valid year found for *Sugar Run Road by Ochester, Ed\n"
     ]
    },
    {
     "name": "stderr",
     "output_type": "stream",
     "text": [
      "\r",
      "Processing books:   8%|█▋                    | 101/1346 [00:13<02:18,  9.01it/s]"
     ]
    },
    {
     "name": "stdout",
     "output_type": "stream",
     "text": [
      "No valid year found for Homage to Catalonia by Orwell, George\n",
      "No valid year found for Race: A Theological Account by Carter, J. Kameron\n",
      "No valid year found for *Almost Midnight by Belton, Don\n",
      "No valid year found for To See The Earth Beefore the End of the World by Roberson, Ed\n"
     ]
    },
    {
     "name": "stderr",
     "output_type": "stream",
     "text": [
      "\r",
      "Processing books:   8%|█▋                    | 102/1346 [00:13<02:37,  7.88it/s]"
     ]
    },
    {
     "name": "stdout",
     "output_type": "stream",
     "text": [
      "No valid year found for Spain in Our Hearts: Americans in the Spanish Civil War: 1936-1939 by Hochschild, Adam\n"
     ]
    },
    {
     "name": "stderr",
     "output_type": "stream",
     "text": [
      "Processing books:   8%|█▋                    | 105/1346 [00:13<02:38,  7.84it/s]"
     ]
    },
    {
     "name": "stdout",
     "output_type": "stream",
     "text": [
      "No valid year found for Mexican Phoenix: Our Lady of Guadalupe: Image and Tradition Across Five Centuries by Brading, D.A.\n",
      "No valid year found for The Spanish Holocuast: Inquisition and Extermination in Twentieth-Century Spain by Preston, Paul\n",
      "No valid year found for The God That Failed by Crossman, Richard\n",
      "No valid year found for All the Right Enemies: The Life and Murder of Carlo Tresca by Gallagher, Dorothy\n"
     ]
    },
    {
     "name": "stderr",
     "output_type": "stream",
     "text": [
      "\r",
      "Processing books:   8%|█▋                    | 107/1346 [00:14<02:26,  8.45it/s]"
     ]
    },
    {
     "name": "stdout",
     "output_type": "stream",
     "text": [
      "No valid year found for Regarding the Pain of Others by Sontag, Susan\n",
      "No valid year found for Residence on Earth by Neruda, Pablo\n",
      "No valid year found for The Spanish Civil War: Revolution and Counterrevolution by Bolloten, Burnett\n"
     ]
    },
    {
     "name": "stderr",
     "output_type": "stream",
     "text": [
      "Processing books:   8%|█▊                    | 110/1346 [00:14<02:40,  7.72it/s]"
     ]
    },
    {
     "name": "stdout",
     "output_type": "stream",
     "text": [
      "No valid year found for Living My Life by Goldman, Emma\n",
      "No valid year found for *Fast Animal by Seibles, Tim\n",
      "No valid year found for *The Real Cause For Your Absence by Bauer, Curtis\n",
      "No valid year found for Pablo Neurda by Moran, Dominic\n"
     ]
    },
    {
     "name": "stderr",
     "output_type": "stream",
     "text": [
      "\r",
      "Processing books:   8%|█▊                    | 111/1346 [00:14<02:41,  7.63it/s]"
     ]
    },
    {
     "name": "stdout",
     "output_type": "stream",
     "text": [
      "No valid year found for *Watch Your Language by Hayes, Terrance\n",
      "No valid year found for Walden and Other Writings of Heny David Thoreau by Thoreau, Henry David\n",
      "No valid year found for *Annie John by Kincaid, Jamaica\n",
      "No valid year found for A Thousand Plateaus: Capitalism and Schizophrenia by Deleuze, Gilles and Félix Guttari\n",
      "No valid year found for Where Our Food Comes From: Retracing Nikolay Vavilov's Quest to End Famine by Nabhan, Gary Paul\n",
      "No valid year found for Orwell: The Transformation by Stansky, Peter and William Abrahams\n"
     ]
    },
    {
     "name": "stderr",
     "output_type": "stream",
     "text": [
      "\r",
      "Processing books:   9%|█▉                    | 115/1346 [00:14<02:05,  9.77it/s]"
     ]
    },
    {
     "name": "stdout",
     "output_type": "stream",
     "text": [
      "No valid year found for *Binding: A Preperation by Alex Chambers by Chambers, Alex\n",
      "No valid year found for Powerman and Iron Fist by Goodwin, Archie\n",
      "No valid year found for *The Photography of Jack Delano by Delano, Jack\n",
      "No valid year found for Marxism and Darwinism by Pannekoek, Anton\n",
      "No valid year found for Works by Stalin, J.V.\n"
     ]
    },
    {
     "name": "stderr",
     "output_type": "stream",
     "text": [
      "\r",
      "Processing books:   9%|█▉                    | 117/1346 [00:15<01:58, 10.34it/s]"
     ]
    },
    {
     "name": "stdout",
     "output_type": "stream",
     "text": [
      "No valid year found for Edith Wharton: A Biography by Lewis, R.W.B.\n",
      "No valid year found for Soviet Genetics and World Science by Julian Huxley\n",
      "No valid year found for *Third Voice by Kocher, Ruth Ellen\n",
      "No valid year found for *Starlight & Error by Bingham-Risher, Remica\n",
      "No valid year found for *American Family: A Syndrome by Comer, Nandi\n",
      "No valid year found for *Oceanic by Nezhukumatathil, Aimee\n",
      "No valid year found for Assignment in Utopia by Lyons, Eugee\n"
     ]
    },
    {
     "name": "stderr",
     "output_type": "stream",
     "text": [
      "\r",
      "Processing books:   9%|█▉                    | 119/1346 [00:15<02:43,  7.50it/s]"
     ]
    },
    {
     "name": "stdout",
     "output_type": "stream",
     "text": [
      "No valid year found for Twenty Letters to a Friend by Alliluyeva, SvetlanaNo valid year found for *The Catalyst by Mattingly, Chris\n",
      "\n",
      "No valid year found for The Unknown Stalin by Medvedev,Zhores A. and Roy Aleksandrovich\n",
      "No valid year found for *Uprock Headspin Scramble Dive by Rosal, Patrick\n"
     ]
    },
    {
     "name": "stderr",
     "output_type": "stream",
     "text": [
      "\r",
      "Processing books:   9%|█▉                    | 121/1346 [00:15<03:09,  6.47it/s]"
     ]
    },
    {
     "name": "stdout",
     "output_type": "stream",
     "text": [
      "No valid year found for *Teeth by Girmay, Aracelis\n",
      "No valid year found for Catalog of Unabashed Gratitude by Gay, Ross\n",
      "No valid year found for The Annotated Alice in Wonderland by Carroll, Lewis\n",
      "No valid year found for *Ramshackle Ode by Leonard, Keith\n",
      "No valid year found for *Of Being Dispersed by White, Simone\n"
     ]
    },
    {
     "name": "stderr",
     "output_type": "stream",
     "text": [
      "\r",
      "Processing books:   9%|█▉                    | 122/1346 [00:16<03:30,  5.81it/s]"
     ]
    },
    {
     "name": "stdout",
     "output_type": "stream",
     "text": [
      "No valid year found for The Book of Delights by Gay, Ross\n",
      "No valid year found for The Murder of Nikolai Vavilov: The Story of Stalin's Persecution of One of the Twentieth Century's Greatest Scientists by Pringle, Peter\n",
      "No valid year found for Stalin and the Scientists by Ings, Simon\n",
      "No valid year found for Molotov Remembers: Inside Kremlin Politics by Molotov, V.M. and Feliz Chuev\n",
      "No valid year found for The Near-Johannesburg Boy and Other Poems by Brooks, Gwendolyn\n"
     ]
    },
    {
     "name": "stderr",
     "output_type": "stream",
     "text": [
      "Processing books:   9%|██                    | 127/1346 [00:16<02:06,  9.63it/s]"
     ]
    },
    {
     "name": "stdout",
     "output_type": "stream",
     "text": [
      "No valid year found for Little Sparta by Gillanders, RobinNo valid year found for *Unreconstructed by Ochester, Ed\n",
      "\n",
      "No valid year found for Stop, Theif! by Linebaugh, Peter\n",
      "No valid year found for Notebooks by Victor Serge\n"
     ]
    },
    {
     "name": "stderr",
     "output_type": "stream",
     "text": [
      "\r",
      "Processing books:  10%|██                    | 129/1346 [00:16<02:12,  9.21it/s]"
     ]
    },
    {
     "name": "stdout",
     "output_type": "stream",
     "text": [
      "No valid year found for Frog and Toad Are Friends by Lobel, Arnold\n",
      "No valid year found for *Earth Democracy by Shiva, Vandana\n",
      "No valid year found for British Paintings in the Metropolitan Museum of Art, 1575-1875 by Baetjer, Katharine\n",
      "No valid year found for The Botany of Desire by Pollan, Michael\n",
      "No valid year found for *Kiss the Girls by Patterson, James\n",
      "No valid year found for British Portraits in the Metropolitan Museum of Art by Baetjer, Katharine\n"
     ]
    },
    {
     "name": "stderr",
     "output_type": "stream",
     "text": [
      "\r",
      "Processing books:  10%|██▏                   | 131/1346 [00:16<02:07,  9.54it/s]"
     ]
    },
    {
     "name": "stdout",
     "output_type": "stream",
     "text": [
      "No valid year found for Selected Poems by Clare, John\n",
      "No valid year found for My Garden (Book) by Kincaid, Jamaica\n"
     ]
    },
    {
     "name": "stderr",
     "output_type": "stream",
     "text": [
      "\r",
      "Processing books:  10%|██▏                   | 133/1346 [00:17<02:08,  9.44it/s]"
     ]
    },
    {
     "name": "stdout",
     "output_type": "stream",
     "text": [
      "No valid year found for Landscape as Photograph by Jussim, Estelle and Elizabeth Lindquist-Cock\n",
      "No valid year found for *Graiding Sweetgrass by Kimmerer, Robin Wall\n",
      "No valid year found for Gene Smith's Sink by Stephenson, Sam\n",
      "No valid year found for Collected Poems of Lucille Clifton by Clifton, Lucille\n",
      "No valid year found for Collected Poems of Robert Hayden by Hayden, Robert\n"
     ]
    },
    {
     "name": "stderr",
     "output_type": "stream",
     "text": [
      "\r",
      "Processing books:  10%|██▏                   | 135/1346 [00:17<02:25,  8.30it/s]"
     ]
    },
    {
     "name": "stdout",
     "output_type": "stream",
     "text": [
      "No valid year found for The Origins of Totalitarianism by Arendt, Hannah\n",
      "No valid year found for Atang: An Altar for Listening to the Beginning of the World by Rosal, Patrick\n",
      "No valid year found for This is Your Mind on Plants by Pollan, Michael\n",
      "No valid year found for Waiting for Godot by Beckett, Samuel\n",
      "No valid year found for *Cultural Amnesia by James, Clive\n",
      "No valid year found for On Beauty and Being Just by Scarry, Elaine\n",
      "No valid year found for Feel Free by Smith, Zadie\n",
      "No valid year found for The Complete French Poems of Rainer Maria Rilke by Rilke, Rainer Maria\n"
     ]
    },
    {
     "name": "stderr",
     "output_type": "stream",
     "text": [
      "Processing books:  10%|██▎                   | 138/1346 [00:17<02:24,  8.37it/s]"
     ]
    },
    {
     "name": "stdout",
     "output_type": "stream",
     "text": [
      "No valid year found for Lying by Bok, Sissela\n",
      "No valid year found for The Old Man and the Sea by Hemmingway, Ernest\n",
      "No valid year found for A Small Place by Kincaid, Jamaica\n",
      "No valid year found for The History of Mary Prince, a West Indian Slave, Related by Herself by Prince, Mary\n",
      "No valid year found for Things Fall Apart by Achebe, Chinua\n",
      "No valid year found for Sister Outsider by Lorde, Audre\n",
      "No valid year found for Capitalism: A Ghost Story by Roy, Arundhati\n",
      "No valid year found for Beloved by Morrison, Toni\n",
      "No valid year found for Benito Cereno by Melville, Herman\n",
      "No valid year found for The Autobiography of My Mother by Kincaid, Jamaica\n",
      "No valid year found for The Shape of Things by Weems, Carrie Mae\n"
     ]
    },
    {
     "name": "stderr",
     "output_type": "stream",
     "text": [
      "\r",
      "Processing books:  10%|██▎                   | 140/1346 [00:18<03:47,  5.30it/s]"
     ]
    },
    {
     "name": "stdout",
     "output_type": "stream",
     "text": [
      "No valid year found for Lucy by Kincaid, Jamaica\n",
      "No valid year found for Animal Farm by Orwell, George\n",
      "No valid year found for The Divine Comedy by Dante\n",
      "No valid year found for *Wishbone by Share, Don\n",
      "No valid year found for Another Time by Auden, W.H.\n",
      "No valid year found for A Christmas Carol by Dickens, Charles\n",
      "No valid year found for *The Complete Poems of Emily Dickinson by Dickinson, Emily\n"
     ]
    },
    {
     "name": "stderr",
     "output_type": "stream",
     "text": [
      "\r",
      "Processing books:  11%|██▎                   | 143/1346 [00:18<02:47,  7.19it/s]"
     ]
    },
    {
     "name": "stdout",
     "output_type": "stream",
     "text": [
      "No valid year found for Speak by Nabokov, Vladimir\n",
      "No valid year found for Black Music by Baraka, Amiri\n"
     ]
    },
    {
     "name": "stderr",
     "output_type": "stream",
     "text": [
      "\r",
      "Processing books:  11%|██▎                   | 144/1346 [00:18<03:09,  6.34it/s]"
     ]
    },
    {
     "name": "stdout",
     "output_type": "stream",
     "text": [
      "No valid year found for Candide by Voltaire\n",
      "No valid year found for How to Do Nothing: Resisting the Attention Economy by Odell, Jenny\n",
      "No valid year found for Culture and Imperialism by Said, Edward\n",
      "No valid year found for Au Natural: Ruminations on Nature by Bertuccio, Lucille\n",
      "No valid year found for Hoop Roots by Wideman, John Edgar\n",
      "No valid year found for The One Straw Revolution: An Introduction to Natural Farming by Fukuoka, Masanobu\n"
     ]
    },
    {
     "name": "stderr",
     "output_type": "stream",
     "text": [
      "Processing books:  11%|██▍                   | 149/1346 [00:19<02:15,  8.84it/s]"
     ]
    },
    {
     "name": "stdout",
     "output_type": "stream",
     "text": [
      "No valid year found for Wayward Lives, Beautiful Experiments: Intimate Histories of Social Upheaval by Hartman, Saidiya\n",
      "No valid year found for The Diary of Anïs Nin by Nin, Anïs\n",
      "No valid year found for George Orwell: Fugative From teh Camp of Victory by Rees, Ricahrd\n",
      "No valid year found for Soccer in Sun and Shadow by Galeano, Eduardo\n",
      "No valid year found for Mrs. Dalloway by Woolf, Virginia\n"
     ]
    },
    {
     "name": "stderr",
     "output_type": "stream",
     "text": [
      "\r",
      "Processing books:  11%|██▍                   | 151/1346 [00:19<02:19,  8.54it/s]"
     ]
    },
    {
     "name": "stdout",
     "output_type": "stream",
     "text": [
      "No valid year found for Titus Andronicus by Shakespeare, William\n",
      "No valid year found for *Almost Midnight by Belton, Don\n",
      "No valid year found for The Evil Hours: A Biography of Post Traumatic Stress Disorder by Morris, David J.\n",
      "No valid year found for Landscape and Ideology: The English Rustic Tradition: 1740-1860 by Bermingham, Ann\n",
      "No valid year found for The Gift by Hyde, Lewis\n"
     ]
    },
    {
     "name": "stderr",
     "output_type": "stream",
     "text": [
      "\r",
      "Processing books:  11%|██▌                   | 154/1346 [00:19<02:02,  9.72it/s]"
     ]
    },
    {
     "name": "stdout",
     "output_type": "stream",
     "text": [
      "No valid year found for On Violence and On Violence Against Women by Rose, Jacqueline\n",
      "No valid year found for Tropic of Cancer by Miller, Henry\n",
      "No valid year found for The Illiad by Homer\n",
      "No valid year found for The Odyssey by Homer\n",
      "No valid year found for Leaves of Grass by Whitman, Walt\n",
      "No valid year found for The Undercommons by Moten, Fred and Stefano Harney\n"
     ]
    },
    {
     "name": "stderr",
     "output_type": "stream",
     "text": [
      "\r",
      "Processing books:  12%|██▌                   | 156/1346 [00:19<01:58, 10.05it/s]"
     ]
    },
    {
     "name": "stdout",
     "output_type": "stream",
     "text": [
      "No valid year found for Hunger by Gay, Roxane\n",
      "No valid year found for Under My Skin by Lessing, Doris\n",
      "No valid year found for What We Talk About When We Talk About Rape by Abdulali, Sohaila\n",
      "No valid year found for The Reckonings by Johnson, Lacy M.\n",
      "No valid year found for The Souls of Black Folks by Du Bois, W.E.B\n"
     ]
    },
    {
     "name": "stderr",
     "output_type": "stream",
     "text": [
      "\r",
      "Processing books:  12%|██▌                   | 159/1346 [00:20<01:31, 12.93it/s]"
     ]
    },
    {
     "name": "stdout",
     "output_type": "stream",
     "text": [
      "No valid year found for The Walk by deBuys, Bill\n",
      "No valid year found for The Other Side by Johnson, Lacy M.\n",
      "No valid year found for Between Worlds: The Art of Bill Traylor by Traylor, Bill\n",
      "No valid year found for Black Reconstruction by Du Bois, W.E.B\n",
      "No valid year found for All Incomplete by Moten, Fred and Stefano Harney\n",
      "No valid year found for The Mushroom at the End of the World: On The Possibility of Life in Capitalist Ruins by Tsing, Anna\n"
     ]
    },
    {
     "name": "stderr",
     "output_type": "stream",
     "text": [
      "Processing books:  12%|██▋                   | 164/1346 [00:20<01:34, 12.49it/s]"
     ]
    },
    {
     "name": "stdout",
     "output_type": "stream",
     "text": [
      "No valid year found for The Unquiet Ghost: Russians Remember Stalin by Hochschild, Adam\n",
      "No valid year found for The Cat and the Moon and Certain Poems by Yates, W.B.\n",
      "No valid year found for Oedipus Rex by Sophocles\n",
      "No valid year found for Bullshit Jobs by Graeber, David\n",
      "No valid year found for Hope in the Dark by Solnit, Rebecca\n",
      "No valid year found for Vibes from the Scribes by The Last Poets\n",
      "No valid year found for Bartleby, The Scrivener by Melville, Herman\n",
      "No valid year found for Lamia, Isabella, The Eve of St Agnes, and Other Poems by Keats, John\n",
      "No valid year found for *Julius Caesar by Shakespeare, William\n"
     ]
    },
    {
     "name": "stderr",
     "output_type": "stream",
     "text": [
      "\r",
      "Processing books:  12%|██▋                   | 166/1346 [00:20<02:10,  9.03it/s]"
     ]
    },
    {
     "name": "stdout",
     "output_type": "stream",
     "text": [
      "No valid year found for The Metamorphoses by Ovid\n",
      "No valid year found for Prejudential: Black America and the Presidents by Kimberley, Margaret\n",
      "No valid year found for The Black Agenda by Ford, Glen\n",
      "No valid year found for *Josheph Cornell's Theater of the Mind: Selected Diaries, Letters and Files by Cornell, Joseph\n",
      "No valid year found for The White Goddess by Graves, Robert\n",
      "No valid year found for *A Sand Book by Reines, Ariana\n"
     ]
    },
    {
     "name": "stderr",
     "output_type": "stream",
     "text": [
      "\r",
      "Processing books:  12%|██▋                   | 168/1346 [00:21<02:32,  7.72it/s]"
     ]
    },
    {
     "name": "stdout",
     "output_type": "stream",
     "text": [
      "No valid year found for The Simple Truth by Levine, Philip\n",
      "No valid year found for Labyrinths by Borges, Jorge Luis\n",
      "No valid year found for Lord of the Flies by Golding, William\n",
      "No valid year found for *Changing, Changin by Girmay, Aracelis\n",
      "No valid year found for The Book of Laughter and Forgetting by Kundera, Milan\n",
      "No valid year found for The Diary of Anne Frank by Frank, Anne\n",
      "No valid year found for Sho by Kearney, Douglas\n"
     ]
    },
    {
     "name": "stderr",
     "output_type": "stream",
     "text": [
      "Processing books:  13%|██▊                   | 175/1346 [00:21<02:06,  9.26it/s]"
     ]
    },
    {
     "name": "stdout",
     "output_type": "stream",
     "text": [
      "No valid year found for A Midsummer NIght's Dream by Shakespeare, William\n",
      "No valid year found for Ways of Seeing by Berger, John\n",
      "No valid year found for *Ban En Banlieue by Kapil, Bhanu\n",
      "No valid year found for *Or, on Being the Other Woman by White, Simone\n",
      "No valid year found for The Prelude by Wordsworth, William\n"
     ]
    },
    {
     "name": "stderr",
     "output_type": "stream",
     "text": [
      "\r",
      "Processing books:  13%|██▉                   | 177/1346 [00:22<02:04,  9.37it/s]"
     ]
    },
    {
     "name": "stdout",
     "output_type": "stream",
     "text": [
      "No valid year found for The Painted Bird by Kosinski, Jerzy\n",
      "No valid year found for *A Very Large Array by Osman, Jena\n",
      "No valid year found for The Allegory of Love by Lewis, C.S.\n"
     ]
    },
    {
     "name": "stderr",
     "output_type": "stream",
     "text": [
      "\r",
      "Processing books:  13%|██▉                   | 179/1346 [00:22<02:09,  9.00it/s]"
     ]
    },
    {
     "name": "stdout",
     "output_type": "stream",
     "text": [
      "No valid year found for *Here is the Sweet Hand by harris, francine j.\n",
      "No valid year found for *The Messenger by Valentine, Jean\n",
      "No valid year found for Moby-Dick by Melville, Herman\n",
      "No valid year found for Lord Jim by Conrad, Joseph\n"
     ]
    },
    {
     "name": "stderr",
     "output_type": "stream",
     "text": [
      "\r",
      "Processing books:  13%|██▉                   | 181/1346 [00:22<02:15,  8.59it/s]"
     ]
    },
    {
     "name": "stdout",
     "output_type": "stream",
     "text": [
      "No valid year found for Song of the Lark by Cather, Willa\n",
      "No valid year found for Hoop Roots by Wideman, John Edgar\n",
      "No valid year found for Great Expectations by Dickens, Charles\n"
     ]
    },
    {
     "name": "stderr",
     "output_type": "stream",
     "text": [
      "\r",
      "Processing books:  14%|██▉                   | 183/1346 [00:22<02:03,  9.42it/s]"
     ]
    },
    {
     "name": "stdout",
     "output_type": "stream",
     "text": [
      "No valid year found for *Whereas by Soldier, Layli Long\n",
      "No valid year found for *American Sonnets for My Past and Future Assassin by Hayes, Terrance\n",
      "No valid year found for The Basketball Diaries by Carroll, Jim\n",
      "No valid year found for *Calamities by Gladman, Renee\n",
      "No valid year found for The Souls of Black Folk by Du Boise, W.E.B.\n",
      "No valid year found for Nightwood by Barnes, Djuna\n"
     ]
    },
    {
     "name": "stderr",
     "output_type": "stream",
     "text": [
      "\r",
      "Processing books:  14%|███                   | 185/1346 [00:22<01:50, 10.53it/s]"
     ]
    },
    {
     "name": "stdout",
     "output_type": "stream",
     "text": [
      "No valid year found for Deeper into the Movies by Kael, Pauline\n",
      "No valid year found for *The Undertaker's Daughter by Derricotte, Toi\n",
      "No valid year found for *Blessed as We Were by Stern, Gerald\n",
      "No valid year found for *The Essential Etheridge Knight by Knight, Etheridge\n",
      "No valid year found for *The Argonauts by Nelson, Maggie\n",
      "No valid year found for Memoirs of a Beatnik by di Prima, Diane\n",
      "No valid year found for *Blessing the Boats by Clifton, Lucille\n"
     ]
    },
    {
     "name": "stderr",
     "output_type": "stream",
     "text": [
      "Processing books:  14%|███                   | 189/1346 [00:23<02:24,  8.03it/s]"
     ]
    },
    {
     "name": "stdout",
     "output_type": "stream",
     "text": [
      "No valid year found for Fatheralong by Wideman, John Edgar\n",
      "No valid year found for *Things That I Do in the Dark by Jordan, June\n",
      "No valid year found for Against Interpretation by Sontag, Susan\n",
      "No valid year found for Nineteen Eighty-Four by Orwell, George\n",
      "No valid year found for Heaven/Earth by Connor, Linda\n"
     ]
    },
    {
     "name": "stderr",
     "output_type": "stream",
     "text": [
      "\r",
      "Processing books:  14%|███                   | 191/1346 [00:23<02:12,  8.70it/s]"
     ]
    },
    {
     "name": "stdout",
     "output_type": "stream",
     "text": [
      "No valid year found for *The Injustice of Place: Uncovering the Legacy of Poverty in America by Hedges, Chris\n",
      "No valid year found for The English Patient by Ondaatje, Michael\n",
      "No valid year found for *100 Love Sonnets by Neruda, Paublo\n",
      "No valid year found for Tender is the Night by Fitzgerald, F. Scott\n",
      "No valid year found for *Where Silence Reigns by Rilke, Rainer Maria\n",
      "No valid year found for Semina Culture: Wallace Berman & His Circle by Duncan, Michael and Kristine McKenna\n",
      "No valid year found for *The Winter Sun by Howe, Frannie\n"
     ]
    },
    {
     "name": "stderr",
     "output_type": "stream",
     "text": [
      "\r",
      "Processing books:  14%|███▏                  | 193/1346 [00:24<02:34,  7.48it/s]"
     ]
    },
    {
     "name": "stdout",
     "output_type": "stream",
     "text": [
      "No valid year found for Dune by Herbert, FrankNo valid year found for The Lord of the Rings by Tolkien, J.R.R.\n",
      "\n",
      "No valid year found for *Negroland by Jefferson, Margo\n",
      "No valid year found for *White Girls by Als, Hilton\n",
      "No valid year found for The Vertical Interrogation of Strangers by Kapil, Bhanu\n"
     ]
    },
    {
     "name": "stderr",
     "output_type": "stream",
     "text": [
      "\r",
      "Processing books:  14%|███▏                  | 195/1346 [00:24<02:25,  7.94it/s]"
     ]
    },
    {
     "name": "stdout",
     "output_type": "stream",
     "text": [
      "No valid year found for Jay Defeo: A Retrospective by Miller, Dana\n",
      "No valid year found for *A Field Guide to Getting Lost by Solnit, Rebecca\n",
      "No valid year found for *A Working Life by Myles, Eileen\n",
      "No valid year found for Metamorphoses by Ovid\n"
     ]
    },
    {
     "name": "stderr",
     "output_type": "stream",
     "text": [
      "Processing books:  15%|███▏                  | 197/1346 [00:24<02:49,  6.78it/s]"
     ]
    },
    {
     "name": "stdout",
     "output_type": "stream",
     "text": [
      "No valid year found for Richard Misrach on Landscape and Meaning by Misrach, Richard\n",
      "No valid year found for *Multiply/Divide: On the American Real and Surreal by Walters, Wendy S.\n",
      "No valid year found for Alice Neel: People Come First by Baum, Kelly and Randall Griffey\n"
     ]
    },
    {
     "name": "stderr",
     "output_type": "stream",
     "text": [
      "Processing books:  15%|███▎                  | 201/1346 [00:25<02:19,  8.22it/s]"
     ]
    },
    {
     "name": "stdout",
     "output_type": "stream",
     "text": [
      "No valid year found for The Wizard of Earthsea by Le Guin, Ursula K.No valid year found for On the Road by Kerouac, Jack\n",
      "\n",
      "No valid year found for It's All True by Connor, Bruce\n",
      "No valid year found for Danny and the Dinosaur by Hoff, Syd\n",
      "No valid year found for What the Living Do by Howe, Marie\n",
      "No valid year found for Touching the Edge by McClure, Michael\n"
     ]
    },
    {
     "name": "stderr",
     "output_type": "stream",
     "text": [
      "\r",
      "Processing books:  15%|███▎                  | 202/1346 [00:25<02:29,  7.68it/s]"
     ]
    },
    {
     "name": "stdout",
     "output_type": "stream",
     "text": [
      "No valid year found for Portrait and Dreams by Berkson, Bill\n",
      "No valid year found for Naked Lunch by Burroughs, William\n",
      "No valid year found for War Is a Force That Gives Us Meaning by Hedges, Chris\n"
     ]
    },
    {
     "name": "stderr",
     "output_type": "stream",
     "text": [
      "Processing books:  15%|███▎                  | 205/1346 [00:25<02:26,  7.79it/s]"
     ]
    },
    {
     "name": "stdout",
     "output_type": "stream",
     "text": [
      "No valid year found for A Season in Hell by Rimbaud, Arthur\n",
      "No valid year found for Thin Places by Kisner, Jordan\n",
      "No valid year found for *Madness, Rack, and Honey by Ruefle, Mary\n",
      "No valid year found for Savage Dreams: A Journey into the Hidden Wars of the American West by Solnit, Rebecca\n",
      "No valid year found for The H.D. Book by Duncan, Robert\n",
      "No valid year found for Hamlet by Shakespeare, William\n",
      "No valid year found for My Vocabulary Did This To Me by Spicer, Jack\n"
     ]
    },
    {
     "name": "stderr",
     "output_type": "stream",
     "text": [
      "\r",
      "Processing books:  15%|███▍                  | 208/1346 [00:26<01:49, 10.40it/s]"
     ]
    },
    {
     "name": "stdout",
     "output_type": "stream",
     "text": [
      "No valid year found for The Lost Lunar Baedeker: Pomes of Mina Loy by Loy, Mina\n",
      "No valid year found for Moby Dick by Melville, Herman\n",
      "No valid year found for *For Love of Comon Words by Scafidi, Steve\n",
      "No valid year found for Powerman and Iron Fist by Goodwin, Archie\n",
      "No valid year found for Secret Exhibition: Six California Artists of the Cold War Era by Solnit, Rebecca\n"
     ]
    },
    {
     "name": "stderr",
     "output_type": "stream",
     "text": [
      "\r",
      "Processing books:  16%|███▍                  | 210/1346 [00:26<02:19,  8.15it/s]"
     ]
    },
    {
     "name": "stdout",
     "output_type": "stream",
     "text": [
      "No valid year found for *A Fourtune for Your Disaster by Abdurraqib, Hanif\n",
      "No valid year found for New and Selected Poems of Thomas Lux: 1975-1995 by Lux, Thomas\n",
      "No valid year found for Son of the Morning Star: Custer and Little Big Horn by Connell, Evan S.\n",
      "No valid year found for The Gathering of My Name by Eady, Cornelius\n"
     ]
    },
    {
     "name": "stderr",
     "output_type": "stream",
     "text": [
      "\r",
      "Processing books:  16%|███▍                  | 214/1346 [00:26<01:31, 12.42it/s]"
     ]
    },
    {
     "name": "stdout",
     "output_type": "stream",
     "text": [
      "No valid year found for When Women Were Birds: Fifty-four Variations on Voice by Williams, Terry Tempest\n",
      "No valid year found for Huckleberry Finn by Twain, Mark\n",
      "No valid year found for Wanderlust by Solnit, Rebecca\n",
      "No valid year found for Women, Art, and Society by Chadwick, Whitney\n",
      "No valid year found for A Little Devil in America: Notes in Praise of Black Performance by Abdurraqib, Hanif\n"
     ]
    },
    {
     "name": "stderr",
     "output_type": "stream",
     "text": [
      "\r",
      "Processing books:  16%|███▌                  | 216/1346 [00:26<01:58,  9.50it/s]"
     ]
    },
    {
     "name": "stdout",
     "output_type": "stream",
     "text": [
      "No valid year found for Embrace Fearlessly The Burning World by Lopez, Barry\n",
      "No valid year found for Men Explain Things to Me by Solnit, Rebecca\n",
      "No valid year found for Passing Through by Kunitz, Stanley\n",
      "No valid year found for *Fear and Trembling by Kierkegaard, Søren\n"
     ]
    },
    {
     "name": "stderr",
     "output_type": "stream",
     "text": [
      "Processing books:  16%|███▌                  | 221/1346 [00:27<01:24, 13.36it/s]"
     ]
    },
    {
     "name": "stdout",
     "output_type": "stream",
     "text": [
      "No valid year found for The Double by Dostoyevsky, Fyodor\n",
      "No valid year found for The Price of the Ticket by Baldwin, James\n",
      "No valid year found for A Field Guide to Getting Lost by Solnit, Rebecca\n",
      "No valid year found for *Mathematical Development in Young Children: From children's ideas to classroom pracitice by Brizuela, Bárbara\n",
      "No valid year found for A Pardaise Built in Hell by Solnit, Rebecca\n",
      "No valid year found for Full Catastrophe Living by Kabat-Zinn, Jon\n",
      "No valid year found for *Fredoom Dreams by Kelley, Robin\n",
      "No valid year found for *Gender and the Abjection of Blackness by Broeck, Sabine\n",
      "No valid year found for On Marronage: Ethical Confrontations with Anti-Blackness by Saucier, P. Khalil and Tyron P. Woods\n",
      "No valid year found for Beloved by Morrison, Toni\n"
     ]
    },
    {
     "name": "stderr",
     "output_type": "stream",
     "text": [
      "\r",
      "Processing books:  17%|███▋                  | 223/1346 [00:27<02:18,  8.09it/s]"
     ]
    },
    {
     "name": "stdout",
     "output_type": "stream",
     "text": [
      "No valid year found for *The Repeating body by Brown, Kimberly Juanita\n",
      "No valid year found for The Uncanny by Freud, Sigmund\n",
      "No valid year found for Love and Death in the American Novel by Fiedler, Leslie\n",
      "No valid year found for The Portable Edgar Allan Poe by Poe, Edgar Allen\n",
      "No valid year found for The Way It Is: New and Selected Poems by Stafford, William\n",
      "No valid year found for Synchronicity by Jung, Carl\n",
      "No valid year found for *I've Been Meaning to Tell You: A Letter to My Daughter by Chariandy, David\n"
     ]
    },
    {
     "name": "stderr",
     "output_type": "stream",
     "text": [
      "\r",
      "Processing books:  17%|███▋                  | 226/1346 [00:27<01:52,  9.93it/s]"
     ]
    },
    {
     "name": "stdout",
     "output_type": "stream",
     "text": [
      "No valid year found for *Writing the Black Revolutionary Diva: Women's Subjectivity and the Decolonizing Text (Blacks in the Diaspora) by Brown, Kimberly Nichele\n",
      "No valid year found for The Double by Saramago, José\n"
     ]
    },
    {
     "name": "stderr",
     "output_type": "stream",
     "text": [
      "\r",
      "Processing books:  17%|███▋                  | 228/1346 [00:28<02:25,  7.66it/s]"
     ]
    },
    {
     "name": "stdout",
     "output_type": "stream",
     "text": [
      "No valid year found for *No Future by Edelman, Lee\n",
      "No valid year found for *Syllabus by Barry, Lynda\n",
      "No valid year found for *Education and Democracy at the End: The Crisis of Sense by Di Paolantonio, Mario\n",
      "No valid year found for The Beauty Myth by Wolf, Naomi\n",
      "No valid year found for White Teeth by Smith, Zadie\n"
     ]
    },
    {
     "name": "stderr",
     "output_type": "stream",
     "text": [
      "\r",
      "Processing books:  17%|███▊                  | 230/1346 [00:28<02:06,  8.85it/s]"
     ]
    },
    {
     "name": "stdout",
     "output_type": "stream",
     "text": [
      "No valid year found for A Lot of People Are Saying by Muirhead, Russell and Nancy L. Rosenblum\n",
      "No valid year found for Alice's Adventures in Wonderland by Caroll, Lewis\n",
      "No valid year found for *Who's Afraid of Gender by Butler, Judith\n",
      "No valid year found for *Black Post-Blackness: The Black Arts Movement and the 21st Century Black Aesthetics by Crawford, Margo\n",
      "No valid year found for *The Fall of the House of Usher by Poe, Edgar Allan\n"
     ]
    },
    {
     "name": "stderr",
     "output_type": "stream",
     "text": [
      "Processing books:  18%|███▊                  | 236/1346 [00:28<01:35, 11.64it/s]"
     ]
    },
    {
     "name": "stdout",
     "output_type": "stream",
     "text": [
      "No valid year found for Operation Shylock: A Confession by Roth, Philip\n",
      "No valid year found for *Chaning Minds, If Not Hearts: Political remedies for racial conflict by Glaser, James\n",
      "No valid year found for The Shock Doctrine by Klein, Naomi\n",
      "No valid year found for Image Matters: Archive, Photography, and the African Diaspora in Europe by Campt, Tina M.\n",
      "No valid year found for *Becoming Human: Matter and Meaning in an Antiblack World by Jackson, Zakiyyah Iman\n",
      "No valid year found for Emilio Uranga's Analysis of Mexican Being by Uranga, Emilio\n",
      "No valid year found for The Hard Road to Renewall: Thatcherism and the Crisis of the Left by Hall, Stewart\n"
     ]
    },
    {
     "name": "stderr",
     "output_type": "stream",
     "text": [
      "\r",
      "Processing books:  18%|███▉                  | 238/1346 [00:29<01:37, 11.39it/s]"
     ]
    },
    {
     "name": "stdout",
     "output_type": "stream",
     "text": [
      "No valid year found for *The Left Hand of Darkness by Le Guin, Ursula K.\n",
      "No valid year found for The Double: A psychanalytic Study by Rank, Otto\n",
      "No valid year found for *Under an African Sky by Hudson, Peter\n",
      "No valid year found for *Butch by Jones, Kima\n",
      "No valid year found for *Tropic Tendencies: Rhetoric, Popular Culture, and rhte Anglophone Carribean by Browne, Kevin\n",
      "No valid year found for *Edgework by Brown, Wendy\n",
      "No valid year found for The Twittering Machine by Seymour, Richard\n"
     ]
    },
    {
     "name": "stderr",
     "output_type": "stream",
     "text": [
      "Processing books:  18%|███▉                  | 242/1346 [00:29<02:06,  8.71it/s]"
     ]
    },
    {
     "name": "stdout",
     "output_type": "stream",
     "text": [
      "No valid year found for Ralph Waldo Emerson: Essays and Journals by Emerson, Ralph Waldo\n",
      "No valid year found for Black Skin, White Masks by Fanon, Frantz\n"
     ]
    },
    {
     "name": "stderr",
     "output_type": "stream",
     "text": [
      "Processing books:  18%|███▉                  | 244/1346 [00:29<02:26,  7.52it/s]"
     ]
    },
    {
     "name": "stdout",
     "output_type": "stream",
     "text": [
      "No valid year found for Rossetti: A Cristical Essay on His Art by Hueffer, Ford Maox\n",
      "No valid year found for *Dear Sicence and Other Stories by McKittrick, Katherine\n",
      "No valid year found for *Black Ghost of Empire by Manjapra, Kris\n",
      "No valid year found for A Map to the Door of No Return: Notes to Belonging by Brand, Dionne\n",
      "No valid year found for The Origins of Totalitarianism by Arendt, Hannah\n"
     ]
    },
    {
     "name": "stderr",
     "output_type": "stream",
     "text": [
      "\r",
      "Processing books:  18%|████                  | 247/1346 [00:30<01:50,  9.94it/s]"
     ]
    },
    {
     "name": "stdout",
     "output_type": "stream",
     "text": [
      "No valid year found for The Age of Surveillance Capitalism: The Fight for a Human Future at the New Frontier of Power by Zuboff, Shoshana\n",
      "No valid year found for The Portable Hannah Arendt by Arendt, Hannah\n",
      "No valid year found for Status Update: Celebrity, Publicity, and Branding in the Social Media Age by Marwick, Alice\n",
      "No valid year found for Dark Matters: On the Surveillance of Blackness by Browne, Simone\n",
      "No valid year found for The Ghosts of One's Self: Doppelgangers in Mystery, Horror and Science Fiction Films by Meehan, Paul\n"
     ]
    },
    {
     "name": "stderr",
     "output_type": "stream",
     "text": [
      "\r",
      "Processing books:  19%|████                  | 250/1346 [00:30<01:29, 12.31it/s]"
     ]
    },
    {
     "name": "stdout",
     "output_type": "stream",
     "text": [
      "No valid year found for The Viral Underclass: The Human Toll WHen Inequality and Disease Collide by Thrasher, Steven W.\n",
      "No valid year found for *We Do This 'Til We Free Us by Kaba, Mariame\n",
      "No valid year found for *Kontemporary Amerikan Poetry by Murillo, John\n",
      "No valid year found for *Less than Nothing by Žižek, Slavoj\n"
     ]
    },
    {
     "name": "stderr",
     "output_type": "stream",
     "text": [
      "\r",
      "Processing books:  19%|████                  | 252/1346 [00:30<01:49,  9.96it/s]"
     ]
    },
    {
     "name": "stdout",
     "output_type": "stream",
     "text": [
      "No valid year found for Feminist Theory: From Margin to Center by hooks, bell\n",
      "No valid year found for Original Narratives of Early American History: Narratives of Early Carolina 1650-1708 by Salley, Alexander\n",
      "No valid year found for *The Amalgamation Waltz: Race, Performance, and the Ruses of Memory by Nyong'o, Tavia\n"
     ]
    },
    {
     "name": "stderr",
     "output_type": "stream",
     "text": [
      "Processing books:  19%|████▏                 | 256/1346 [00:30<01:39, 10.93it/s]"
     ]
    },
    {
     "name": "stdout",
     "output_type": "stream",
     "text": [
      "No valid year found for Paradise Lost by Milton, John\n",
      "No valid year found for *City of Quartz by Davis, Mike\n",
      "No valid year found for The Predicament of Blackness: Postcolonial Ghana and the Politics of Race by Pierre, Jemima\n",
      "No valid year found for *Strange Gourmets by Litvak, Joseph\n",
      "No valid year found for Her Body and Other Parties by Machado, Carmen Maria\n"
     ]
    },
    {
     "name": "stderr",
     "output_type": "stream",
     "text": [
      "\r",
      "Processing books:  19%|████▏                 | 258/1346 [00:31<01:41, 10.72it/s]"
     ]
    },
    {
     "name": "stdout",
     "output_type": "stream",
     "text": [
      "No valid year found for Natural Causes: An Epidemic of Wellnes, the Certainty of Dying and Killing Ourselves to Live Longer by Ehrenreich, BarbaraNo valid year found for Rock My Soul: Black People and Self-Esteem by hooks, bell\n",
      "\n",
      "No valid year found for The Doppelgänger: Double Visions in German Literature by Webber, Andrew J.\n",
      "No valid year found for *Homecoming: the Story of African-American Farmers by Gilbert, Charlene\n",
      "No valid year found for *Remembering Generations: Race and Family in Contemporary African American Fiction by Rushdy, Ashraf\n"
     ]
    },
    {
     "name": "stderr",
     "output_type": "stream",
     "text": [
      "\r",
      "Processing books:  19%|████▏                 | 260/1346 [00:31<01:44, 10.42it/s]"
     ]
    },
    {
     "name": "stdout",
     "output_type": "stream",
     "text": [
      "No valid year found for Invisible Armies: The Impact of Disease on American History by Simpson, Howard\n",
      "No valid year found for *Wicked Flesh: Black Women, Intimacy, and Freedom in the Atlantic World by Johnson, Jessica Marie\n",
      "No valid year found for Permiting the Destruction of LIfe Unworthy of Life: its Measure and Form by Binding, Karl and Alfred Hoche\n",
      "No valid year found for *Amalgamation Schemes: Antiblackness and the Critique of Multiracialism by Sexton, Jared\n",
      "No valid year found for *The Development of Black Theater in America: From shadows to selves by Sanders, Leslie\n",
      "No valid year found for *Semiautomatic by Shockley, Evie\n",
      "No valid year found for The Knew: How a Culture of Conspiracy Keeps America Complacent by Kendzior, Sarah\n"
     ]
    },
    {
     "name": "stderr",
     "output_type": "stream",
     "text": [
      "Processing books:  20%|████▎                 | 264/1346 [00:31<02:01,  8.91it/s]"
     ]
    },
    {
     "name": "stdout",
     "output_type": "stream",
     "text": [
      "No valid year found for Asperger's Children: The Origins of Autism in Nazi Vienna by Sheffer, Edith\n",
      "No valid year found for The Second Body by Hildyard, Daisy\n",
      "No valid year found for In the Break: The Aesthetics of the Black Radical Tradition by Moten, Fred\n",
      "No valid year found for Habes Viscus: Racializing Assemblages, Biopolitics, and Black Feminist Theories of the Human by Weheliye, Alexander\n"
     ]
    },
    {
     "name": "stderr",
     "output_type": "stream",
     "text": [
      "\r",
      "Processing books:  20%|████▎                 | 266/1346 [00:32<02:44,  6.55it/s]"
     ]
    },
    {
     "name": "stdout",
     "output_type": "stream",
     "text": [
      "No valid year found for *Strolling in the Ruins by Smith, Faith\n",
      "No valid year found for Capitalist Realism: Is There No Alternative by Fisher, Mark\n",
      "No valid year found for Between the World and Me by Coates, Ta-Nehisi\n",
      "No valid year found for *The Intimacies of Four Continents by Lowe, Lisa\n"
     ]
    },
    {
     "name": "stderr",
     "output_type": "stream",
     "text": [
      "Processing books:  20%|████▍                 | 270/1346 [00:32<01:53,  9.51it/s]"
     ]
    },
    {
     "name": "stdout",
     "output_type": "stream",
     "text": [
      "No valid year found for The Essential Dr. Jekyll & Mr. Hyde: THe Definitive Annotated Edition of Robert Louis Stevenson's Classic Novel by Stevenson, Robert Louis\n",
      "No valid year found for Illuminations: Essays and Reflections by Benjamin, Walter\n",
      "No valid year found for The Wealth of Nations by Smith, Adam\n",
      "No valid year found for La Vieja: A Journal of Fire by Metzger, Deena\n",
      "No valid year found for *Selvage by Siklosi, Kate\n",
      "No valid year found for *Afropessimism by Wilderson III, Frank B.\n"
     ]
    },
    {
     "name": "stderr",
     "output_type": "stream",
     "text": [
      "\r",
      "Processing books:  20%|████▍                 | 272/1346 [00:33<02:43,  6.55it/s]"
     ]
    },
    {
     "name": "stdout",
     "output_type": "stream",
     "text": [
      "No valid year found for *Dissociative States: The Metaphysics of Blackness and the Psychic Afterlife of Slavery by Terrefe, Selamawit\n",
      "No valid year found for Culture and Imperialism by Said, Edward\n",
      "No valid year found for *Identity, Political Freedom and Collective Responsibility  by Souffrant, Eddy\n",
      "No valid year found for After the Fact? The Truth about Fake News by Gilroy-Ware, Marcus\n",
      "No valid year found for *Soundworks: Race, Sound, and Poetry in Production by Reed, Anthony\n",
      "No valid year found for *Pedagogy in the Novels of J.M. Coetzee: The Affect of Literature by Tarc, Aparna Mishra\n"
     ]
    },
    {
     "name": "stderr",
     "output_type": "stream",
     "text": [
      "\r",
      "Processing books:  20%|████▍                 | 274/1346 [00:33<02:47,  6.40it/s]"
     ]
    },
    {
     "name": "stdout",
     "output_type": "stream",
     "text": [
      "No valid year found for The Civil Contract of Photography by Azoulay, Ariella\n",
      "No valid year found for *Freedom is a Constant Struggle by Davis, Angela\n",
      "No valid year found for The Fire Next Time by Baldwin, James\n"
     ]
    },
    {
     "name": "stderr",
     "output_type": "stream",
     "text": [
      "\r",
      "Processing books:  20%|████▍                 | 275/1346 [00:33<02:52,  6.23it/s]"
     ]
    },
    {
     "name": "stdout",
     "output_type": "stream",
     "text": [
      "No valid year found for The Long Emancipation by Walcott, Rinaldo\n",
      "No valid year found for The Negro and Jamaica by Pim, Bedford\n",
      "No valid year found for Zong! by Philip, M. NourbeSe\n"
     ]
    },
    {
     "name": "stderr",
     "output_type": "stream",
     "text": [
      "\r",
      "Processing books:  21%|████▌                 | 276/1346 [00:34<03:27,  5.16it/s]"
     ]
    },
    {
     "name": "stdout",
     "output_type": "stream",
     "text": [
      "No valid year found for \"Exterminate All the Brutes\": One Man's Odyssey into the Heart of Darkness and the Origins of European Genocide by Lindqvist, Sven\n",
      "No valid year found for Black Jacks: African Ameircan Seaman in the Age of Sail by Bolster, W. Jeffrey\n",
      "No valid year found for The Blue Clerk by Brand, Dionne\n"
     ]
    },
    {
     "name": "stderr",
     "output_type": "stream",
     "text": [
      "Processing books:  21%|████▌                 | 279/1346 [00:34<02:53,  6.16it/s]"
     ]
    },
    {
     "name": "stdout",
     "output_type": "stream",
     "text": [
      "No valid year found for The Fourth World: An Indian Reality by Manuel, George and Michael Posluns\n",
      "No valid year found for The Conquest of Nature: Water, Landscape, and the Making of Modern Germany by Blackbourn, David\n",
      "No valid year found for Love Enough by Brand, Dionne\n",
      "No valid year found for Black, White, and in Color by Spillers, Hortense\n",
      "No valid year found for Ossuaries by Brand, Dionne\n",
      "No valid year found for Spectres of the Atlantics: Finance Capital, Slavery, and the Philosophy of History by Baucom, Ian\n",
      "No valid year found for The Rescue by Conrad, Joseph\n"
     ]
    },
    {
     "name": "stderr",
     "output_type": "stream",
     "text": [
      "\r",
      "Processing books:  21%|████▌                 | 282/1346 [00:34<01:51,  9.55it/s]"
     ]
    },
    {
     "name": "stdout",
     "output_type": "stream",
     "text": [
      "No valid year found for KL: A History of the Nazi Concentration Camps by Wachsmann, Nikolaus\n",
      "No valid year found for The Surgical Solution: A History of Involuntary Sterilization in the United States by Reilly, Phillip\n",
      "No valid year found for *Frottage: Frictions of Intimacy Across the Black Diaspora by Macharia, Keguro\n",
      "No valid year found for Hitler's American Model: The United States adn the Making of Nazi Race Law by Whitman, James Q.\n"
     ]
    },
    {
     "name": "stderr",
     "output_type": "stream",
     "text": [
      "Processing books:  21%|████▋                 | 287/1346 [00:35<01:48,  9.79it/s]"
     ]
    },
    {
     "name": "stdout",
     "output_type": "stream",
     "text": [
      "No valid year found for Inventory by Brand, DionneNo valid year found for The Reaper's Garden: Death and Power in the World of Atlantic Slavery by Brown, Vincent\n",
      "\n",
      "No valid year found for Anti-Semite and Jew by Sartre, Jean-Paul\n",
      "No valid year found for The Writting of the Disaster by Blanchot, Maurice\n",
      "No valid year found for Things That I Do in the Dark: Selected Poetry by Jordan, June\n",
      "No valid year found for Discourse on Colonialism by Césaire, Aimé\n",
      "No valid year found for Essays in Understanding: 1930-1945 by Arendt, Hannah\n",
      "No valid year found for Thirsty by Brand, Dionne\n",
      "No valid year found for Middle Passages by Brathwaite, Kamau\n",
      "No valid year found for On Property: Policing, Prisons, and the Call for Abolition by Alcott, Rinaldo\n",
      "No valid year found for Conversations with Nathaniel Mackey by Brathwaite, Kamau\n",
      "No valid year found for The Price of the Ticket by Baldwin, James\n",
      "No valid year found for *A Not So Quiet Nocturne by Williams, Jaye Austin\n"
     ]
    },
    {
     "name": "stderr",
     "output_type": "stream",
     "text": [
      "Processing books:  22%|████▊                 | 291/1346 [00:35<01:52,  9.36it/s]"
     ]
    },
    {
     "name": "stdout",
     "output_type": "stream",
     "text": [
      "No valid year found for Critique of Hegel's 'Philosophy of Right' by Marx, Karl\n",
      "No valid year found for Bound to Appear: Art, Slavery, and the Site of Blackness in Multicultural America by Copeland, Huey\n",
      "No valid year found for Krik? Krak! by Danticat, Edwidge\n",
      "No valid year found for The Descent of Man, and Selection in Relation to Sex by Darwin, Charles\n",
      "No valid year found for The Jewish Question: History of a Marxist Debate by Traverso, Enzo\n",
      "No valid year found for Slaves of the State: Black Incarceration from the Chain Gang to the Penitentiary  by Childs, Dennis\n",
      "No valid year found for Daughters of the Dust: The Making of an African American Woman's Film by Dash, Julie\n",
      "No valid year found for Breathing Race into the Machine: The Suprising Career of the Spirometer from Plantation to Growth by Braun, Lundy\n",
      "No valid year found for Between the World and Me by Coates, Ta-Nehisi\n"
     ]
    },
    {
     "name": "stderr",
     "output_type": "stream",
     "text": [
      "\r",
      "Processing books:  22%|████▊                 | 293/1346 [00:36<02:41,  6.51it/s]"
     ]
    },
    {
     "name": "stdout",
     "output_type": "stream",
     "text": [
      "No valid year found for Gesammelte Schriften by Benjamin, Walter\n",
      "No valid year found for The Letters of Rosa Luxemburg by Luxemburg, Rosa\n",
      "No valid year found for Children of Paradise by D'Augiar, Fred\n",
      "No valid year found for My Bondage and My Freedom by Douglas, Frederick\n",
      "No valid year found for DS (2) Dreamstories by Brathwaite, Kamau\n",
      "No valid year found for Narrative of the LIfe of Frederick Douglass, an American Slave, Written By Himself by Douglas, Frederick\n"
     ]
    },
    {
     "name": "stderr",
     "output_type": "stream",
     "text": [
      "\r",
      "Processing books:  22%|████▊                 | 295/1346 [00:36<02:24,  7.27it/s]"
     ]
    },
    {
     "name": "stdout",
     "output_type": "stream",
     "text": [
      "No valid year found for Proust Among the Nations: From Dreyfus to the Middle East by Rose, Jacqueline\n",
      "No valid year found for The Coming of the Third Reich by Evans, Richard\n",
      "No valid year found for The World and Africa: An Inquiry into the Part Which Africa Has Played in World History by Du Bois, W.E.B.\n"
     ]
    },
    {
     "name": "stderr",
     "output_type": "stream",
     "text": [
      "Processing books:  22%|████▉                 | 299/1346 [00:36<02:04,  8.42it/s]"
     ]
    },
    {
     "name": "stdout",
     "output_type": "stream",
     "text": [
      "No valid year found for Edward Said, A Legacy of Emancipation and Representation by Iskandar, Adel and Hakem Rustom\n",
      "No valid year found for The Pen and the Sword: Conversations with David Barsamian by Said, Edward\n",
      "No valid year found for Portnoy's Complaint by Roth, Philip\n",
      "No valid year found for Auschwitz and After by Delbo, Charlotte\n",
      "No valid year found for How to See a Work of Art in Total Darkness by English, Darby\n",
      "No valid year found for Toward the African Revolution by Fanon, Frantz\n",
      "No valid year found for In the Presence of Absence by Darwish, Mahmoud\n"
     ]
    },
    {
     "name": "stderr",
     "output_type": "stream",
     "text": [
      "\r",
      "Processing books:  22%|████▉                 | 301/1346 [00:37<03:01,  5.77it/s]"
     ]
    },
    {
     "name": "stdout",
     "output_type": "stream",
     "text": [
      "No valid year found for Brutal Imagination by Eady, Cornelius\n",
      "No valid year found for This Changes Everything by Klein, Naomi\n",
      "No valid year found for Ghostly Matters: Haunting and the Sociological Imagination by Gordon, Avery\n",
      "No valid year found for A Dictionary of Literary Devices: Gradus, AZ by Dupriez, B.M.\n"
     ]
    },
    {
     "name": "stderr",
     "output_type": "stream",
     "text": [
      "\r",
      "Processing books:  22%|████▉                 | 302/1346 [00:37<02:52,  6.04it/s]"
     ]
    },
    {
     "name": "stdout",
     "output_type": "stream",
     "text": [
      "No valid year found for Ain't I a Woman by hooks, bell\n",
      "No valid year found for Feeding the Ghosts by D'Augiar, Fred\n",
      "No valid year found for Invisible Man by Ellison, Ralph\n"
     ]
    },
    {
     "name": "stderr",
     "output_type": "stream",
     "text": [
      "\r",
      "Processing books:  23%|████▉                 | 303/1346 [00:37<03:32,  4.90it/s]"
     ]
    },
    {
     "name": "stdout",
     "output_type": "stream",
     "text": [
      "No valid year found for Routes and Roots: Navigating Carribbean and Pacific Island Literatures by DeLoughrey, Elizabeth M.\n",
      "No valid year found for Psychological Roots of the Climate Crisis: Neoliberal Exceptionalism and the Culture of Uncare by Weintrobe, Sally\n",
      "No valid year found for The Vagina Monologues by V\n",
      "No valid year found for Lose our Mother: A journey along the Atlantic Slave Route by Hartman, Saidiya\n",
      "No valid year found for Scenes from Subjection: Terror, Slavery, and Self-Making in Nineteenth Centry America by Hartman, Saidiya\n",
      "No valid year found for Bury the Chains: Prophets and Rebels in the Fight to Free an Empire's Slaves by Hochschild, Adam\n",
      "No valid year found for Fault Lines: Views Across Haiti's Divide by Bell, Beverly\n"
     ]
    },
    {
     "name": "stderr",
     "output_type": "stream",
     "text": [
      "\r",
      "Processing books:  23%|████▉                 | 305/1346 [00:38<03:56,  4.40it/s]"
     ]
    },
    {
     "name": "stdout",
     "output_type": "stream",
     "text": [
      "No valid year found for Passed On: African American Mourning Stories: A Memorial by Holloway, Karla\n",
      "No valid year found for Fables from the Women's Quarters by Harris, Claire\n",
      "No valid year found for The Picture of Dorian Gray by Wilde, Oscar\n"
     ]
    },
    {
     "name": "stderr",
     "output_type": "stream",
     "text": [
      "\r",
      "Processing books:  23%|█████                 | 307/1346 [00:38<03:14,  5.34it/s]"
     ]
    },
    {
     "name": "stdout",
     "output_type": "stream",
     "text": [
      "No valid year found for Notes on the State of Virginia by Jefferson, Thomas\n",
      "No valid year found for Underground to Palestine by Stone, I.F.\n",
      "No valid year found for Women, Race, & Class by Davis, Angela\n"
     ]
    },
    {
     "name": "stderr",
     "output_type": "stream",
     "text": [
      "\r",
      "Processing books:  23%|█████                 | 308/1346 [00:38<03:01,  5.73it/s]"
     ]
    },
    {
     "name": "stdout",
     "output_type": "stream",
     "text": [
      "No valid year found for Some of Us Did Not Die by Jordan, June\n",
      "No valid year found for Sister Outsider by Lorde, Audre\n",
      "No valid year found for In Search of the Black Fantastic: Politics and Popular Culture in the Post-Civil Rights Era by Iton, Richard\n"
     ]
    },
    {
     "name": "stderr",
     "output_type": "stream",
     "text": [
      "Processing books:  23%|█████                 | 310/1346 [00:39<02:56,  5.87it/s]"
     ]
    },
    {
     "name": "stdout",
     "output_type": "stream",
     "text": [
      "No valid year found for No Logo by Klein, Naomi\n",
      "No valid year found for The Right ot Look: A Counterhistory of Visuality by Mirzoeff, Nicholas\n",
      "No valid year found for The Best of I.F. Stone by Stone, I.F.\n",
      "No valid year found for Incidents in the life of a Slave Girl by Jacobs, Harriet A.\n"
     ]
    },
    {
     "name": "stderr",
     "output_type": "stream",
     "text": [
      "\r",
      "Processing books:  23%|█████                 | 311/1346 [00:39<03:09,  5.46it/s]"
     ]
    },
    {
     "name": "stdout",
     "output_type": "stream",
     "text": [
      "No valid year found for Claire of the Sea Light by Danticat, Edwidge\n",
      "No valid year found for Sweetness and Power: The Place of Sugar in Modern History by Mintz, Sidney\n",
      "No valid year found for Lean In by Sandberg, Sheryl\n"
     ]
    },
    {
     "name": "stderr",
     "output_type": "stream",
     "text": [
      "\r",
      "Processing books:  23%|█████                 | 312/1346 [00:39<02:58,  5.80it/s]"
     ]
    },
    {
     "name": "stdout",
     "output_type": "stream",
     "text": [
      "No valid year found for Nineteen Eighty-Four by Orwell, George\n",
      "No valid year found for Annotations by Keene, John\n",
      "No valid year found for Laboring Women: Reproduction and Gender in New World Slavery by Morgan, Jennifer\n",
      "No valid year found for Cutting a Figure: Fashioning Black Portraiture by Powell, Richard\n"
     ]
    },
    {
     "name": "stderr",
     "output_type": "stream",
     "text": [
      "Processing books:  23%|█████▏                | 314/1346 [00:39<03:06,  5.54it/s]"
     ]
    },
    {
     "name": "stdout",
     "output_type": "stream",
     "text": [
      "No valid year found for Who Speaks for Margaret Garner by Reinhardt, Mark\n",
      "No valid year found for *Faith, Hope and Carnage by Cave, Nick and Seán O'Hagan\n",
      "No valid year found for In the House that Race Built by Morrison, Toni and Angela Davis\n",
      "No valid year found for The Slave Ship: A Human History by Rediker, Marcus\n",
      "No valid year found for The Professor of Desire by Roth, Philip\n",
      "No valid year found for Ways of Escape by Greene, Graham\n"
     ]
    },
    {
     "name": "stderr",
     "output_type": "stream",
     "text": [
      "\r",
      "Processing books:  23%|█████▏                | 316/1346 [00:39<02:06,  8.16it/s]"
     ]
    },
    {
     "name": "stdout",
     "output_type": "stream",
     "text": [
      "No valid year found for *Health Communism by Adler-Bolton, Beatrice\n"
     ]
    },
    {
     "name": "stderr",
     "output_type": "stream",
     "text": [
      "\r",
      "Processing books:  24%|█████▏                | 318/1346 [00:40<02:41,  6.38it/s]"
     ]
    },
    {
     "name": "stdout",
     "output_type": "stream",
     "text": [
      "No valid year found for Monstrous Intimacies: Making Post-Slavery Subjects by Sharpe, Christina\n",
      "No valid year found for Slavery and the Enlightenmen in British Atlantic, 1750-1807 by Roberts, Justin\n",
      "No valid year found for Our Bodies, Ourselves by Boston Women's Health Collective\n",
      "No valid year found for Leaving a Doll's House by Bloom, Claire\n"
     ]
    },
    {
     "name": "stderr",
     "output_type": "stream",
     "text": [
      "Processing books:  24%|█████▏                | 321/1346 [00:40<02:17,  7.47it/s]"
     ]
    },
    {
     "name": "stdout",
     "output_type": "stream",
     "text": [
      "No valid year found for The Sovereignty of Good by Murdoch, Iris\n",
      "No valid year found for The Undercommons by Moten, Fred and Stefano Harney\n",
      "No valid year found for A Tale of Two Cities by Dickens, Charles\n",
      "No valid year found for Fish Story by Sekula, Allan\n",
      "No valid year found for Conversations with James Baldwin by Baldwin, James\n",
      "No valid year found for Flash of the Spirit: African and AFro-American Art and PHilosophy by Thompson, Robert Farris\n"
     ]
    },
    {
     "name": "stderr",
     "output_type": "stream",
     "text": [
      "\r",
      "Processing books:  24%|█████▎                | 323/1346 [00:41<02:13,  7.68it/s]"
     ]
    },
    {
     "name": "stdout",
     "output_type": "stream",
     "text": [
      "No valid year found for Socialsm or Barbarism: Selected Writings by Luxemburg, Rosa\n",
      "No valid year found for Internet for the People by Tarnoff, Ben\n"
     ]
    },
    {
     "name": "stderr",
     "output_type": "stream",
     "text": [
      "\r",
      "Processing books:  24%|█████▎                | 324/1346 [00:41<02:25,  7.01it/s]"
     ]
    },
    {
     "name": "stdout",
     "output_type": "stream",
     "text": [
      "No valid year found for Thiefing Sugar: Eroticism between Women in Carribbean Literature by Tinsley, Omise'eke Natash\n",
      "No valid year found for Siebenkäs by Paul, Jean\n"
     ]
    },
    {
     "name": "stderr",
     "output_type": "stream",
     "text": [
      "Processing books:  24%|█████▍                | 329/1346 [00:41<01:26, 11.76it/s]"
     ]
    },
    {
     "name": "stdout",
     "output_type": "stream",
     "text": [
      "No valid year found for Nobody is Supposed to Know: Black Sexuality on the Down Low by Snorton, C. Riley\n",
      "No valid year found for Beloved by Morrison, Toni\n",
      "No valid year found for Inflamed: Deep Medicine and the Anatomy of Justice by Marya, Rupa and Raj Patel\n",
      "No valid year found for Beyond Katrina: A Meditation on the Mississippi Gulf Coast by Threthewey, Natasha\n",
      "No valid year found for Women's Bodies, Women's Wisdom by Northrup, Christiane\n",
      "No valid year found for Reconsidering Reparations by Táíwò, Olúfęmi O.\n",
      "No valid year found for Goodbye, Columbus by Roth, Philip\n",
      "No valid year found for The Poetry of Yehuda Amichai by Amichai, Yehuda\n",
      "No valid year found for Saltwater Slavery: A Middle Passage from Africa to American Diaspora by Smallwood, Stephanie\n",
      "No valid year found for The Zong: A Massacre, the Law and the End of Slavery by Walvin, James\n",
      "No valid year found for Silencing the Past: Power and the Production of History by Trouillot, Michel-Rolph\n",
      "No valid year found for Citizen: An American Lyric by Rankine, Claudia\n",
      "No valid year found for The Gift by Hyde, Lewis\n"
     ]
    },
    {
     "name": "stderr",
     "output_type": "stream",
     "text": [
      "\r",
      "Processing books:  25%|█████▍                | 331/1346 [00:42<02:29,  6.77it/s]"
     ]
    },
    {
     "name": "stdout",
     "output_type": "stream",
     "text": [
      "No valid year found for Black Boy: A Record of Childhood and Youth by Wright, RichardNo valid year found for The End of Nature by McKibben, Bill\n",
      "\n",
      "No valid year found for The City & The City by Miéville, China\n"
     ]
    },
    {
     "name": "stderr",
     "output_type": "stream",
     "text": [
      "\r",
      "Processing books:  25%|█████▍                | 333/1346 [00:42<02:18,  7.30it/s]"
     ]
    },
    {
     "name": "stdout",
     "output_type": "stream",
     "text": [
      "No valid year found for The Jewish Question by Leon, Abraham\n",
      "No valid year found for Memory for Forgetting by Darwish, Mahmoud\n",
      "No valid year found for The Grey Album: On the Blackness of Blackness by Young, Kevin\n"
     ]
    },
    {
     "name": "stderr",
     "output_type": "stream",
     "text": [
      "\r",
      "Processing books:  25%|█████▍                | 334/1346 [00:42<02:35,  6.50it/s]"
     ]
    },
    {
     "name": "stdout",
     "output_type": "stream",
     "text": [
      "No valid year found for Birthing a Slave: Motherhood and Medicine in the Antebellus South by Schwartz, Marie Jenkins\n",
      "No valid year found for In the Real of Hungry Ghosts: Close Encounters with Addiction by Maté, Gabor\n",
      "No valid year found for You Have Not Yet Been Defeated by el-Fattah Alaa Abd\n",
      "No valid year found for Collected Poems, 1948-1984 by Walcott, Derek\n",
      "No valid year found for When the Body Says No: Exploring the Stress-Disease Connection by Maté, Gabor\n",
      "No valid year found for At the Full and Change of the Moon by Brand, Dionne\n"
     ]
    },
    {
     "name": "stderr",
     "output_type": "stream",
     "text": [
      "\r",
      "Processing books:  25%|█████▌                | 337/1346 [00:43<02:43,  6.17it/s]"
     ]
    },
    {
     "name": "stdout",
     "output_type": "stream",
     "text": [
      "No valid year found for *Poems of Phillis Wheatley by Wheatley, Phillis\n",
      "No valid year found for A Simple Heart by Falubert, Gustave\n",
      "No valid year found for Separation: Anxiety and Anger by Bowlby, John\n",
      "No valid year found for The Scarlet Letter by Hawthorne, Nathaniel\n",
      "No valid year found for Multiple Chronic Conditions in the United States by Buttorff, Christine\n",
      "No valid year found for The Last Hours of Ancient Sunlight: The Fate of the World and What We Can Do About It Before It's Too Late by Hartman, Thom\n"
     ]
    },
    {
     "name": "stderr",
     "output_type": "stream",
     "text": [
      "Processing books:  25%|█████▌                | 342/1346 [00:43<02:11,  7.62it/s]"
     ]
    },
    {
     "name": "stdout",
     "output_type": "stream",
     "text": [
      "No valid year found for Scattered: How Attention Deficit isorder Originates and What You Can Do About It by Maté, Gabor\n",
      "No valid year found for The Body Keeps the Score: Brain, Mind, and Body in the Healing of Trauma by van der Kolk, Bessel\n"
     ]
    },
    {
     "name": "stderr",
     "output_type": "stream",
     "text": [
      "Processing books:  26%|█████▋                | 345/1346 [00:43<01:54,  8.74it/s]"
     ]
    },
    {
     "name": "stdout",
     "output_type": "stream",
     "text": [
      "No valid year found for Healing Trauma Study Guide by Levine, Peter\n",
      "No valid year found for The Trauma of Everyday Life by Epstein, Mark\n",
      "No valid year found for *Probabilistic Networks and Expert Systems by Cowell, Robert G., Alexander Dawid, Steffen Lauritzen, and David Spiegelhalter\n",
      "No valid year found for None of Us Will Return by Delbo, Charlotte\n",
      "No valid year found for Red, White, and Black: Cinema and hte Structure of U.S. Antagonisms by Wilderson, Frank\n",
      "No valid year found for The Courage to Create by May, Rollo\n"
     ]
    },
    {
     "name": "stderr",
     "output_type": "stream",
     "text": [
      "\r",
      "Processing books:  26%|█████▋                | 347/1346 [00:44<01:55,  8.68it/s]"
     ]
    },
    {
     "name": "stdout",
     "output_type": "stream",
     "text": [
      "No valid year found for Hold On to Your Kids: Why Parents Need to Matter More Than Peers by Maté, Gabor and Gordon Neufeld\n",
      "No valid year found for Ardency: A Chronicle of the Amistad Rebels by Young, Kevin\n",
      "No valid year found for Dhammapada: The Sayings of the Buddha by Cleary, Thomas\n",
      "No valid year found for *Principles of Statistical Inference by Cox, David\n"
     ]
    },
    {
     "name": "stderr",
     "output_type": "stream",
     "text": [
      "\r",
      "Processing books:  26%|█████▋                | 348/1346 [00:44<01:52,  8.87it/s]"
     ]
    },
    {
     "name": "stdout",
     "output_type": "stream",
     "text": [
      "No valid year found for Educated: A Memior by Westover, Tara\n",
      "No valid year found for The Twilight of American Culture by Berman, Morris\n",
      "No valid year found for Roth: The Biography by Bailey, Blake\n"
     ]
    },
    {
     "name": "stderr",
     "output_type": "stream",
     "text": [
      "\r",
      "Processing books:  26%|█████▋                | 351/1346 [00:44<01:47,  9.27it/s]"
     ]
    },
    {
     "name": "stdout",
     "output_type": "stream",
     "text": [
      "No valid year found for *Active Statistics by Gelman, Andrew and Aki Vehtari\n",
      "No valid year found for Buddha MInd, Buddha body by Hahn, Thich Nhat\n",
      "No valid year found for Love, Anger, Madness: A Haitian Triptych by Vieux-Chauvet, Marie\n",
      "No valid year found for *The BUGS Book: A Practical Introduction by Best, Nicky\n"
     ]
    },
    {
     "name": "stderr",
     "output_type": "stream",
     "text": [
      "\r",
      "Processing books:  26%|█████▊                | 352/1346 [00:44<02:05,  7.93it/s]"
     ]
    },
    {
     "name": "stdout",
     "output_type": "stream",
     "text": [
      "No valid year found for *A Handbook of Small Data Sets by Hand, David, Fergus Daly, Kevin McConway, D. Lunn, and E. Ostrowski\n",
      "No valid year found for Pocket Guide to Interpersonal Neurobiology: An Integrative Handbook of the Mind by Siegel, Daniel\n",
      "No valid year found for Time by Hoffman, Eva\n",
      "No valid year found for American Hunger by Wright, Richard\n",
      "No valid year found for The Western Illusion of Human Nature by Sahlins, Marshal\n",
      "No valid year found for *Chance Encounters: A First Course in Data Analysis and Inference by Seber, George and Chris Wild\n"
     ]
    },
    {
     "name": "stderr",
     "output_type": "stream",
     "text": [
      "Processing books:  27%|█████▊                | 357/1346 [00:45<01:48,  9.09it/s]"
     ]
    },
    {
     "name": "stdout",
     "output_type": "stream",
     "text": [
      "No valid year found for Molecules of Emotion: Why  You Feel the Way You Feel by Pert, Candace\n",
      "No valid year found for Susan Sontag: The Complete Rolling Stone Interview by Cott, Jonathon\n",
      "No valid year found for The Signal and the Noise by Silver, Nate\n",
      "No valid year found for Facts from Figures by Moroney, M.J.\n",
      "No valid year found for No Contest: The Case Against Competition by Kohn, Alfie\n"
     ]
    },
    {
     "name": "stderr",
     "output_type": "stream",
     "text": [
      "\r",
      "Processing books:  27%|█████▊                | 359/1346 [00:45<01:33, 10.51it/s]"
     ]
    },
    {
     "name": "stdout",
     "output_type": "stream",
     "text": [
      "No valid year found for The World Unit Yesterday: What We Can Learn from Traditional Societies by Diamond, Jared\n",
      "No valid year found for *Making Mathematics Count by Smith, Adrian\n",
      "No valid year found for Embodying Black Experience: Stillness, Critical Memory, and the Black Body by Young, Harvey\n",
      "No valid year found for Biology of Freedom: Neural Plasticity, Experience, and the Unconscious by Ansermet, François and Pierre Magistretti\n",
      "No valid year found for Illness as Metapohr and AIDS and Its Metaphors by Sontag, Susan\n"
     ]
    },
    {
     "name": "stderr",
     "output_type": "stream",
     "text": [
      "\r",
      "Processing books:  27%|█████▉                | 361/1346 [00:45<01:34, 10.40it/s]"
     ]
    },
    {
     "name": "stdout",
     "output_type": "stream",
     "text": [
      "No valid year found for How to Lie With Statistics by Huff, Darrell\n",
      "No valid year found for The Continuum Concept: In Search of Happiness Lost by Liedloff, Jean\n",
      "No valid year found for Hitchhiker's Guide to the Galaxy by Adams, Douglas\n"
     ]
    },
    {
     "name": "stderr",
     "output_type": "stream",
     "text": [
      "\r",
      "Processing books:  27%|█████▉                | 363/1346 [00:45<01:48,  9.04it/s]"
     ]
    },
    {
     "name": "stdout",
     "output_type": "stream",
     "text": [
      "No valid year found for Shame: The Power of Caring by Kaufman, Gershen\n",
      "No valid year found for *The Road Ahead by Gates, Bill\n",
      "No valid year found for The Archaeology of Mind: Neuroeveolutionary Origins of Human Emotions by Panksepp, Jaak and Lucy Biven\n"
     ]
    },
    {
     "name": "stderr",
     "output_type": "stream",
     "text": [
      "\r",
      "Processing books:  27%|█████▉                | 364/1346 [00:46<02:16,  7.18it/s]"
     ]
    },
    {
     "name": "stdout",
     "output_type": "stream",
     "text": [
      "No valid year found for *Pensées by Pascal, Blaise\n",
      "No valid year found for The Age of Empathy: Nature's Lessons for a Kinder Society by de Waal, Frans\n",
      "No valid year found for The Development of the Unconsciuos Mind by Schore, Allan\n",
      "No valid year found for Child Honouring: How to Turn This World Around by Cavoukian, Raffi\n",
      "No valid year found for Descartes; Error: Emotion, Reason and the Human Brain by Damasio, Antonio R.\n",
      "No valid year found for Born For Love: Why Empathy is Essential--and Endagered by Szalavitz, Maia and Bruce D. Perry\n",
      "No valid year found for *Hereditary Genius by Galton, Francis\n",
      "No valid year found for *How to Make the World Add Up by Harford, Tim\n",
      "No valid year found for The Black Jacobians by James, C.L.R.\n"
     ]
    },
    {
     "name": "stderr",
     "output_type": "stream",
     "text": [
      "\r",
      "Processing books:  27%|██████                | 369/1346 [00:46<01:42,  9.53it/s]"
     ]
    },
    {
     "name": "stdout",
     "output_type": "stream",
     "text": [
      "No valid year found for The History of Childhood: The Untold Story of Child Abuse by deMause, Lloyd\n",
      "No valid year found for The Functional Art: An Introduction to Information Graphics and Visualization by Cairo, Alberto\n",
      "No valid year found for *Principles of Political Economy by Malthus, Thomas\n"
     ]
    },
    {
     "name": "stderr",
     "output_type": "stream",
     "text": [
      "\r",
      "Processing books:  27%|██████                | 370/1346 [00:46<02:07,  7.67it/s]"
     ]
    },
    {
     "name": "stdout",
     "output_type": "stream",
     "text": [
      "No valid year found for *Beckham: My World by Beckham, David\n",
      "No valid year found for Trauma and Memory: Brain and Body in Search for the Living Past by Levine, Peter\n",
      "No valid year found for *On the Origin of Species by Darwin, Charles\n",
      "No valid year found for Touching: The Human Significance of Skin by Montagu, Ashley\n",
      "No valid year found for *The Saints Amoung Us by Gallup, George\n"
     ]
    },
    {
     "name": "stderr",
     "output_type": "stream",
     "text": [
      "\r",
      "Processing books:  28%|██████                | 372/1346 [00:46<02:03,  7.88it/s]"
     ]
    },
    {
     "name": "stdout",
     "output_type": "stream",
     "text": [
      "No valid year found for *The Grammar of Science by Pearson, Karl\n",
      "No valid year found for *Sexual Behavior in the Human Male by Kinsey, Alfred\n",
      "No valid year found for *The Abilities of Man by Spearman, Charles\n",
      "No valid year found for *Passages from the Life of a Philosopher by Babbage, Charles\n",
      "No valid year found for Of Women Born: Motherhood as Experience and Institution by Rich, Adrienne\n",
      "No valid year found for A is for Advice: The Reassuring Kind by Stanger-Ross, Ilana\n",
      "No valid year found for I Ching by Zhou yi\n"
     ]
    },
    {
     "name": "stderr",
     "output_type": "stream",
     "text": [
      "\r",
      "Processing books:  28%|██████                | 374/1346 [00:47<01:49,  8.86it/s]"
     ]
    },
    {
     "name": "stdout",
     "output_type": "stream",
     "text": [
      "No valid year found for The Spirit Catches You and You Fall Down: A Hmong Child, her American Doctors, and the COllision of Two Cultures by Fadiman, Anne\n",
      "No valid year found for *Disquisitiones Arithmeticae by Gaus, Carl Friedrich\n",
      "No valid year found for *Principles of Medical Statistics by Hill, Austin Bradford\n",
      "No valid year found for The Design of Experiments by Fisher, Ronald\n",
      "No valid year found for New Revelations before Columbus  by Mann, Charles C.\n"
     ]
    },
    {
     "name": "stderr",
     "output_type": "stream",
     "text": [
      "Processing books:  28%|██████▏               | 378/1346 [00:47<01:50,  8.77it/s]"
     ]
    },
    {
     "name": "stdout",
     "output_type": "stream",
     "text": [
      "No valid year found for Through Pediatrics to Psycho-Analysis: Collected Papter by Winnicott, D.W.\n",
      "No valid year found for The Book of Why: The New Science of Cause and Effect by Pearl, Judea and D. Mackenzie\n",
      "No valid year found for *The Power of Placebos by Howick, Jeremy\n",
      "No valid year found for Bowling ALone: The Collapse and Revival of the American Community by Putnam, Robert D.\n",
      "No valid year found for Affect Regulation and the Origin of the Self: The Neurobioloy of Emotional Developments by Schore, Allan\n",
      "No valid year found for The Witches: Salem 1692 by Schiff, Stacy\n",
      "No valid year found for *Oeuvres de Pierre Fermat by Fermat, Pierre de\n",
      "No valid year found for Weapons of Math Destruction by O'Neil, Cathy\n"
     ]
    },
    {
     "name": "stderr",
     "output_type": "stream",
     "text": [
      "\r",
      "Processing books:  28%|██████▏               | 380/1346 [00:48<02:42,  5.93it/s]"
     ]
    },
    {
     "name": "stdout",
     "output_type": "stream",
     "text": [
      "No valid year found for *The Doctrine of Chances: or, A Method of Calculating the Probability of Events in Play by Moivre, Abraham de\n",
      "No valid year found for The Tech Solution: Creating Healthy Habits for Kids Growing Up in a Digital World by Kang, Shimi\n",
      "No valid year found for *Experiments on Plant Hybridization by Mendel, Gregor\n",
      "No valid year found for *Oeuvres Completes by Méré, Chevalier de\n",
      "No valid year found for *Ars Conjectandi by Bernoulli, Jacob\n"
     ]
    },
    {
     "name": "stderr",
     "output_type": "stream",
     "text": [
      "\r",
      "Processing books:  28%|██████▏               | 381/1346 [00:48<03:39,  4.39it/s]"
     ]
    },
    {
     "name": "stdout",
     "output_type": "stream",
     "text": [
      "No valid year found for *The Art of Political Lying by Arbuthnot, John\n",
      "No valid year found for *A Treastise of Mechanics by Poisson, Siméon Denis\n",
      "No valid year found for Columbus and Other Cannibals: The Wétiko Disease of Exploitation, Imperialism and Terrorism by Forbes, Jack D.\n"
     ]
    },
    {
     "name": "stderr",
     "output_type": "stream",
     "text": [
      "Processing books:  28%|██████▎               | 383/1346 [00:49<03:28,  4.63it/s]"
     ]
    },
    {
     "name": "stdout",
     "output_type": "stream",
     "text": [
      "No valid year found for Children and Families in the Social Enviornment by Garbarino, James\n",
      "No valid year found for i-Minds: how and Why Constant Connectivity is Rewiring Our Brains and What to Do About It by Swingle, Mari\n",
      "No valid year found for The Neuroscience of Human Relationships: Attachment and the Developing Social Brain by Cozolino, Louis\n",
      "No valid year found for *The Heritage Copernicus: Theories Pleasing to the Mind by Neyman, Jerzy\n",
      "No valid year found for An Essay Towards Solving a Problem in the Doctrine of Chances by Bayes, Thomas\n",
      "No valid year found for *The General Theory of Employement, Interest and Money by Keynes, John Maynard\n",
      "No valid year found for *Elements of Geometry by Legendre, Adrien-Marie\n",
      "No valid year found for AIQ: How Artificial Intelligence Works and How We Can Harness Its Power for a Better World by Polson, N and J. Scott\n",
      "No valid year found for *F.Y. Edgeworth's Contriubitons to Mathematical Statistics by Bowley, Arthur\n"
     ]
    },
    {
     "name": "stderr",
     "output_type": "stream",
     "text": [
      "\r",
      "Processing books:  29%|██████▎               | 385/1346 [00:49<04:06,  3.90it/s]"
     ]
    },
    {
     "name": "stdout",
     "output_type": "stream",
     "text": [
      "No valid year found for The Trouble with Twin Studies: A Reassessment of Twin Research in the Soical and Behavioral Sciences by Joseph, Jay\n",
      "No valid year found for The Forest People by Turnbull, Colin M.\n",
      "No valid year found for *This Time Is Different: Eight Centuries of Financial Folly by Reinhart, Carmen and Kenneth Rogoff\n",
      "No valid year found for *What If? by Munroe, Randall\n",
      "No valid year found for Thatcher and Thatcherism by Evans, E.J.\n"
     ]
    },
    {
     "name": "stderr",
     "output_type": "stream",
     "text": [
      "\r",
      "Processing books:  29%|██████▎               | 387/1346 [00:50<04:56,  3.24it/s]"
     ]
    },
    {
     "name": "stdout",
     "output_type": "stream",
     "text": [
      "No valid year found for Ritual, Magic and Initiation in the Life of an African Shaman by Somé, Malidoma Patrice\n",
      "No valid year found for *Beliefs, Attitudes, and Human Affair by Bem, Daryl\n",
      "No valid year found for Pre-Parenting by Verny, Thomas\n",
      "No valid year found for Sex by Numbers by Spiegelhalter, David\n",
      "No valid year found for The Truthful Art: Data, Charts, and Maps for Communication by Cairo, Alberto\n",
      "No valid year found for *How the Mind Works by Burt, Cyril\n"
     ]
    },
    {
     "name": "stderr",
     "output_type": "stream",
     "text": [
      "\r",
      "Processing books:  29%|██████▎               | 389/1346 [00:51<04:44,  3.36it/s]"
     ]
    },
    {
     "name": "stdout",
     "output_type": "stream",
     "text": [
      "No valid year found for Crazy Like Us: The Globalization of the American Psyche by Watters, Ethan\n",
      "No valid year found for Anatomy of an Epidemic: Magic Bullets, Psychiatric Drugs, and hte Astonishing Rise of MEntal Illness in America by Whitaker, Robert\n",
      "No valid year found for *Richard III by Shakespeare, William\n"
     ]
    },
    {
     "name": "stderr",
     "output_type": "stream",
     "text": [
      "\r",
      "Processing books:  29%|██████▍               | 391/1346 [00:51<03:44,  4.25it/s]"
     ]
    },
    {
     "name": "stdout",
     "output_type": "stream",
     "text": [
      "No valid year found for Touched with Fire: Manic-Depressive Illness and the Artistic Temperament by Jamison, Kay Redfeld\n",
      "No valid year found for The Orchid and teh Dandelion: Why Some Children Struggle and How All Can Thrive by Boyce, W. THomas\n"
     ]
    },
    {
     "name": "stderr",
     "output_type": "stream",
     "text": [
      "\r",
      "Processing books:  29%|██████▍               | 393/1346 [00:51<03:24,  4.66it/s]"
     ]
    },
    {
     "name": "stdout",
     "output_type": "stream",
     "text": [
      "No valid year found for *The Numerati by Baker, Stephen\n",
      "No valid year found for The Freedom to Be by Almaas, A.H.\n",
      "No valid year found for The Polyvagal Theory: Neurophysicological Foundations of Emotions, Attachment, Communication, Self-Regulation by Porges, Stephen S.\n",
      "No valid year found for *Good to Go: What the Athlete in All of Us Can Learn from the Strange Science of Recovery by Aschwanden, Christie\n"
     ]
    },
    {
     "name": "stderr",
     "output_type": "stream",
     "text": [
      "Processing books:  29%|██████▍               | 396/1346 [00:51<02:39,  5.95it/s]"
     ]
    },
    {
     "name": "stdout",
     "output_type": "stream",
     "text": [
      "No valid year found for *Structures of Schooling by Jaffe, Becky\n",
      "No valid year found for In My Own Moccasins: A Memior of Resilience by Knott, Helen\n",
      "No valid year found for *Beautiful Visualizations by Steele, Julie and Noah Iliinsky\n",
      "No valid year found for *Lou Boudreau: My Hall of Fame Life on the Field and Behind the Mic by Bourdreau, Lou\n",
      "No valid year found for Biology as Destiny: The Doctrince of DNA by Lewontin, R.C.\n"
     ]
    },
    {
     "name": "stderr",
     "output_type": "stream",
     "text": [
      "\r",
      "Processing books:  29%|██████▍               | 397/1346 [00:52<02:49,  5.61it/s]"
     ]
    },
    {
     "name": "stdout",
     "output_type": "stream",
     "text": [
      "No valid year found for *Shape by Ellenberg, Jordan\n",
      "No valid year found for Playing with Fire by Fleury, Theo\n",
      "No valid year found for Unfair: The New Science of Criminal Injustice by Benforado, Adam\n",
      "No valid year found for *Sequential Analysis by Wald, Abraham\n"
     ]
    },
    {
     "name": "stderr",
     "output_type": "stream",
     "text": [
      "\r",
      "Processing books:  30%|██████▌               | 398/1346 [00:52<02:34,  6.15it/s]"
     ]
    },
    {
     "name": "stdout",
     "output_type": "stream",
     "text": [
      "No valid year found for Trauma and Maddess in Mental Health Services by Hunter, Noël\n",
      "No valid year found for Childhood Under Siege: How Big Business Targets Children by Bakan, Joel\n",
      "No valid year found for *A Mathematical Question by Johnson, John\n",
      "No valid year found for *Some Applications of Statistics to Meteorology by Panofsky, Hans and Glenn Brier\n",
      "No valid year found for *Representing and Acquiring Geographic Knowledge by Davis, Ernie\n",
      "No valid year found for The Selling of the President 1968 by McGinniss, Joe\n",
      "No valid year found for Bills of Mortality by Graunt, Bill\n",
      "No valid year found for Freakonomics by Levitt, Steven and Stephen Dubner\n",
      "No valid year found for The Price of Inequalitiy: How Today's Divided Society Endangers Our Future by Stiglitz, Joseph E.\n"
     ]
    },
    {
     "name": "stderr",
     "output_type": "stream",
     "text": [
      "\r",
      "Processing books:  30%|██████▌               | 400/1346 [00:52<03:02,  5.18it/s]"
     ]
    },
    {
     "name": "stdout",
     "output_type": "stream",
     "text": [
      "No valid year found for How Politics Makes Us Sick: Neoliberal Epidemics by Schrecker, Ted and Clare Bambra\n",
      "No valid year found for *Minority Report by Dick, Philip K.\n",
      "No valid year found for Alienation by Reid, James\n"
     ]
    },
    {
     "name": "stderr",
     "output_type": "stream",
     "text": [
      "\r",
      "Processing books:  30%|██████▌               | 403/1346 [00:53<02:24,  6.51it/s]"
     ]
    },
    {
     "name": "stdout",
     "output_type": "stream",
     "text": [
      "No valid year found for Sapiens: A Brief History of Humankind  by Harari, Yuval Noah\n",
      "No valid year found for *Twitter and Tear Gas by Tufekci, Zeynep\n",
      "No valid year found for Raising Children in a Socially Toxic Enviornment by Garbarino, James\n",
      "No valid year found for Moneyball by Lewis, Michael\n",
      "No valid year found for *My Life as a Quant by Derman, Emanuel\n"
     ]
    },
    {
     "name": "stderr",
     "output_type": "stream",
     "text": [
      "\r",
      "Processing books:  30%|██████▌               | 405/1346 [00:53<03:03,  5.12it/s]"
     ]
    },
    {
     "name": "stdout",
     "output_type": "stream",
     "text": [
      "No valid year found for Marx's Concept of Man by Fromm, Erich\n",
      "No valid year found for The Globalization of Addiction: A Study in the Poverty of the Spirit by Alexander, Bruce\n",
      "No valid year found for *Fumbling Towards Repair by Kaba, Mariame\n",
      "No valid year found for *The Math Gene by Devlin, Keith\n"
     ]
    },
    {
     "name": "stderr",
     "output_type": "stream",
     "text": [
      "\r",
      "Processing books:  30%|██████▋               | 407/1346 [00:54<03:08,  4.99it/s]"
     ]
    },
    {
     "name": "stdout",
     "output_type": "stream",
     "text": [
      "No valid year found for The Invention on Nature: The Adventures of Alexander von Humbolt, the Lost Hero of Science by Wulf, Andrea\n",
      "No valid year found for Freakonomics by Lewis, Michael\n",
      "No valid year found for Undoing the Demos: Neoliberalism's Stealth Revolution by Brown, Wendy\n"
     ]
    },
    {
     "name": "stderr",
     "output_type": "stream",
     "text": [
      "\r",
      "Processing books:  30%|██████▋               | 408/1346 [00:54<03:33,  4.38it/s]"
     ]
    },
    {
     "name": "stdout",
     "output_type": "stream",
     "text": [
      "No valid year found for *A Philosopher Looks at Digital Communication by O'Neill, Onora\n",
      "No valid year found for The Jungle by Sinclair, Upton\n",
      "No valid year found for The Autobiography of Malcolm X by X, Malcolm\n",
      "No valid year found for The Stress of Life by Selye, János\n",
      "No valid year found for Anti-Semite and Jew by Sartre, Jean-Paul\n",
      "No valid year found for Dark Matters: On the Surveillance of Blackness by Browne, Simone\n",
      "No valid year found for *The Science of Hitting by Williams, Ted\n"
     ]
    },
    {
     "name": "stderr",
     "output_type": "stream",
     "text": [
      "Processing books:  31%|██████▊               | 413/1346 [00:55<02:25,  6.43it/s]"
     ]
    },
    {
     "name": "stdout",
     "output_type": "stream",
     "text": [
      "No valid year found for Economic and Philosophical Manuscripts by Marx, Karl\n",
      "No valid year found for Between the World and Me by Coates, Ta-Nehisi\n",
      "No valid year found for Oliver Twist by Dickens, Charles\n",
      "No valid year found for Together: The Healing Power of Human Connection in a Sometimes Lonely WOrld by Murthy, Vivek H.\n"
     ]
    },
    {
     "name": "stderr",
     "output_type": "stream",
     "text": [
      "\r",
      "Processing books:  31%|██████▊               | 414/1346 [00:55<02:45,  5.64it/s]"
     ]
    },
    {
     "name": "stdout",
     "output_type": "stream",
     "text": [
      "No valid year found for The Autobiography of Malcolm X by X, Malcolm\n",
      "No valid year found for *Unmasking AI: My Mission to Protect What is Human in a World of Machines by Buolamwini, Joy\n",
      "No valid year found for Black Skin, White Masks by Fanon, Frantz\n",
      "No valid year found for The Health Gap: The Challenge of an Unequal World by Marmot, Michael\n",
      "No valid year found for *Machine Learning: An Applied Mathematics by Wilmott, Paul\n"
     ]
    },
    {
     "name": "stderr",
     "output_type": "stream",
     "text": [
      "\r",
      "Processing books:  31%|██████▊               | 415/1346 [00:55<02:35,  6.00it/s]"
     ]
    },
    {
     "name": "stdout",
     "output_type": "stream",
     "text": [
      "No valid year found for *All In The Day's Work by Tarbell, Ida\n",
      "No valid year found for The Emperor's New Drugs: Exploding hte Antidepressant Myth by Kirsch, Irvin\n",
      "No valid year found for Algorithms of Oppression: How Search Engines Reinforce Racism by Noble, Safiya\n",
      "No valid year found for Weapons of Math Destruction: How Big Data Increases Inequality and Threatens Democracy by O'Neil, Cathy\n",
      "No valid year found for The Condemnation of Blackness: Race, Crime, and the Making of Modern Urban America by Muhammad, Khalil\n",
      "No valid year found for Automating Inequality: How High-Tech Tools Profile, Police, and Punish the Poor by Eubanks, Virginia\n"
     ]
    },
    {
     "name": "stderr",
     "output_type": "stream",
     "text": [
      "\r",
      "Processing books:  31%|██████▊               | 416/1346 [00:55<03:07,  4.95it/s]"
     ]
    },
    {
     "name": "stdout",
     "output_type": "stream",
     "text": [
      "No valid year found for Technically Wrong: Sexist Apps, Biased Algorithms, and Other Threats of Toxic Tech by Wachter-Boettcher, Sara\n",
      "No valid year found for Artificial Unintelligence: How Computers Misundesrstand the World by Broussard, Meredith\n",
      "No valid year found for Intercourse by Dworkin, Andrea\n",
      "No valid year found for The Boy Who Was Raised as a Dog (And Other Stories from a Child Psychiatrist's Notebook) by Perry, Bruce D. and Maia Szalavitz\n"
     ]
    },
    {
     "name": "stderr",
     "output_type": "stream",
     "text": [
      "Processing books:  31%|██████▊               | 418/1346 [00:55<02:30,  6.16it/s]"
     ]
    },
    {
     "name": "stdout",
     "output_type": "stream",
     "text": [
      "No valid year found for The New Jim Crow by Alexander, MichelleNo valid year found for *The Invention of the 'Underclass': A Study in the Politics of Knowledge by Wacquant, Loïc\n",
      "\n",
      "No valid year found for For Your Own Good: Hidden Cruelty in Child-Rearing and the Roots of Violence by Miller, Alice\n"
     ]
    },
    {
     "name": "stderr",
     "output_type": "stream",
     "text": [
      "Processing books:  31%|██████▊               | 420/1346 [00:56<02:59,  5.17it/s]"
     ]
    },
    {
     "name": "stdout",
     "output_type": "stream",
     "text": [
      "No valid year found for *Futureproof by Roose, KevinNo valid year found for *The White Storm by Gelin, Martin\n",
      "\n",
      "No valid year found for A Vindicaiton of the Rights of Women by Wollstonecraft, Mary\n",
      "No valid year found for *The Hawk and the Dove by Thompson, Nicholas\n",
      "No valid year found for *An Ugly Truth: Inside Facebook's Battle for Domination by Frenkel, Sheera, Cecilia Kang\n",
      "No valid year found for The Selfish Society by Gerhardt, Sue\n"
     ]
    },
    {
     "name": "stderr",
     "output_type": "stream",
     "text": [
      "\r",
      "Processing books:  31%|██████▉               | 422/1346 [00:56<02:21,  6.51it/s]"
     ]
    },
    {
     "name": "stdout",
     "output_type": "stream",
     "text": [
      "No valid year found for Social Determinants of Health: Canadian Perspectives by Raphael, Dennis\n",
      "No valid year found for Down Girl: The Logic of Misogyny by Manne, Kate\n",
      "No valid year found for *Crisis Vision: Race and the cultural production by Monahan, Torin\n"
     ]
    },
    {
     "name": "stderr",
     "output_type": "stream",
     "text": [
      "Processing books:  32%|██████▉               | 424/1346 [00:56<02:13,  6.89it/s]"
     ]
    },
    {
     "name": "stdout",
     "output_type": "stream",
     "text": [
      "No valid year found for Thicker Than Blood: How Racial Statistics Lie by Zuberi, Tufuku\n",
      "No valid year found for The Choice: Embrace the Possible by Eger, Edith Eva\n",
      "No valid year found for The Impact of Inequality: How to Make Sick Societies Healthier by Wilkinson, Richard\n",
      "No valid year found for *It's Complicated: The Social Lives of Networked Teens by boyd, danah\n"
     ]
    },
    {
     "name": "stderr",
     "output_type": "stream",
     "text": [
      "\r",
      "Processing books:  32%|██████▉               | 426/1346 [00:57<02:04,  7.39it/s]"
     ]
    },
    {
     "name": "stdout",
     "output_type": "stream",
     "text": [
      "No valid year found for Radical Remission: Surviving Cancer Against All Odds by Turner, Kelly\n",
      "No valid year found for James Baldwin: Collected Essays by Baldwin, James\n",
      "No valid year found for Punishing the Poor: The Neoliberal Government of Insecurity by Wacquant, Loïc\n",
      "No valid year found for Invisible Women: Exposing Data Bias in a World Designed for Men by Perez, Caroline Criado\n",
      "No valid year found for *Atlas of AI: Power, Politics, and the Planetary Costs of Artificial Intelligence by Crawford, Kate\n"
     ]
    },
    {
     "name": "stderr",
     "output_type": "stream",
     "text": [
      "Processing books:  32%|██████▉               | 428/1346 [00:57<02:09,  7.10it/s]"
     ]
    },
    {
     "name": "stdout",
     "output_type": "stream",
     "text": [
      "No valid year found for The Heart of the Buddha's Teaching by Hahn, Thich Nhat\n",
      "No valid year found for The Orestia by Aeschylus\n",
      "No valid year found for *Urban Outcasts by Wacquant, Loïc\n",
      "No valid year found for The Seven Storey Mountain: An Autobiography of Faith by Merton, Thomas\n"
     ]
    },
    {
     "name": "stderr",
     "output_type": "stream",
     "text": [
      "\r",
      "Processing books:  32%|███████               | 430/1346 [00:57<01:55,  7.96it/s]"
     ]
    },
    {
     "name": "stdout",
     "output_type": "stream",
     "text": [
      "No valid year found for The Cross of Redemption: Uncollected Writings by Baldwin, James\n",
      "No valid year found for The Poverty of Privacy Rights by Bridges, Khiara\n",
      "No valid year found for *Don't Call It Quits\" by Gaynor, Shana Lebowitz\n",
      "No valid year found for Neurobiology and the Development of Human Morality: Evolution, Culture, and Wisdom by Narvaez, Darcia\n",
      "No valid year found for Wages of Whiteness: Race and the Making of the American Working Class by Roediger, David\n",
      "No valid year found for Introduciton to the Internal Family Systems Model by Schwartz, Richard C.\n",
      "No valid year found for Cyber Racism: White Supremacy Online and the New Attack on Civil Rights by Daniels, Jessie\n"
     ]
    },
    {
     "name": "stderr",
     "output_type": "stream",
     "text": [
      "\r",
      "Processing books:  32%|███████               | 432/1346 [00:58<02:05,  7.31it/s]"
     ]
    },
    {
     "name": "stdout",
     "output_type": "stream",
     "text": [
      "No valid year found for The Political Mind by Lakoff, George\n",
      "No valid year found for The Art of Computer Programming by Knuth, Donald\n"
     ]
    },
    {
     "name": "stderr",
     "output_type": "stream",
     "text": [
      "\r",
      "Processing books:  32%|███████               | 433/1346 [00:58<02:36,  5.85it/s]"
     ]
    },
    {
     "name": "stdout",
     "output_type": "stream",
     "text": [
      "No valid year found for *Nice White Ladies: The Truth About White Supremeacy, Our Role in it, and How we can Help Dismantle It by Daniels, Jessie\n",
      "No valid year found for *Misogynoir Transformed: Black Women's Digital Resistance by Bailey, Moya\n",
      "No valid year found for *Morning After the Revolution: Dispatches from the Wrong Side of History by Bowles, Nellie\n",
      "No valid year found for The Gift by Eger, Edith\n",
      "No valid year found for The Murder of Christ: The Emotional Plague of Mankind by Reich, Wilhelm\n",
      "No valid year found for *Capital by Marx, Karl\n",
      "No valid year found for *Finding My Voice: My Journey to the West Wing and the Path Forward by Jarrett, Valerie\n"
     ]
    },
    {
     "name": "stderr",
     "output_type": "stream",
     "text": [
      "\r",
      "Processing books:  32%|███████               | 435/1346 [00:58<02:34,  5.89it/s]"
     ]
    },
    {
     "name": "stdout",
     "output_type": "stream",
     "text": [
      "No valid year found for One-Dimensional Man by Marcuse, Herbert\n",
      "No valid year found for The Ethnic Cleansing of Palestine by Pappe, Ilan\n",
      "No valid year found for Elements of the Real In Man by Almaas, A.H.\n"
     ]
    },
    {
     "name": "stderr",
     "output_type": "stream",
     "text": [
      "\r",
      "Processing books:  32%|███████▏              | 437/1346 [00:58<01:58,  7.67it/s]"
     ]
    },
    {
     "name": "stdout",
     "output_type": "stream",
     "text": [
      "No valid year found for *Do Not Call Us Negros: How 'Multicultural' TextbooksPerpetuate Racism by Wynter, Sylvia\n",
      "No valid year found for One Hundred Years' War on Palestine: A history of Settler Colonialism and Resistance by Khalidi, Rashid\n",
      "No valid year found for Habius Viscus: Racializing Assemblages, Biopolitics, and Black Feminist Thoeries of the Human by Weheliye, Alexander\n"
     ]
    },
    {
     "name": "stderr",
     "output_type": "stream",
     "text": [
      "\r",
      "Processing books:  33%|███████▏              | 438/1346 [00:58<02:13,  6.81it/s]"
     ]
    },
    {
     "name": "stdout",
     "output_type": "stream",
     "text": [
      "No valid year found for Spontaneous Evolution: Our Positive Future (And a Way to Get There from Here) by Lipton, Bruce H. and Steve Bhaerman\n",
      "No valid year found for The Mind and the Brain: Neuroplasticity and the Power of Mental Force by Schwartz, Jeffrey M. and Sharon Begley\n",
      "No valid year found for The Black Box Society: The Secret Algorithms That Control Money and Informaiton by Pasquale, Frank\n",
      "No valid year found for *Breaking Bots: Inventing A New Voice in the AI Revolution by Mars, Jason\n"
     ]
    },
    {
     "name": "stderr",
     "output_type": "stream",
     "text": [
      "\r",
      "Processing books:  33%|███████▏              | 440/1346 [00:59<02:09,  6.99it/s]"
     ]
    },
    {
     "name": "stdout",
     "output_type": "stream",
     "text": [
      "No valid year found for *The Alchemy of Race and Rights: A Diary of a Law Professor by Williams, Patricia\n",
      "No valid year found for *Hello Avatar: Rise of the Networked Generation by Coleman, B.\n",
      "No valid year found for Brain-Changing Strategies to Trauma-Proof Our Schools by Kline, Maggie\n",
      "No valid year found for *Sapiens by Harari, Yuval Noah\n",
      "No valid year found for *Insights: Film & Television by Trudy\n",
      "No valid year found for A Third University is Possible by paperson, la\n"
     ]
    },
    {
     "name": "stderr",
     "output_type": "stream",
     "text": [
      "Processing books:  33%|███████▎              | 444/1346 [00:59<01:26, 10.48it/s]"
     ]
    },
    {
     "name": "stdout",
     "output_type": "stream",
     "text": [
      "No valid year found for Empire of the Summer Moon: Quanah Parker and the Rise and Fall of the Comanches by Gwynne, S.C.No valid year found for In the Body of the World by V\n",
      "\n",
      "No valid year found for The Sane Society by Fromm, Erich\n",
      "No valid year found for Coyote Medicine: Lessons from Native American Healing by Mehl-Madrona, Lewis\n",
      "No valid year found for From The Ashes by Thistle, Jesse\n"
     ]
    },
    {
     "name": "stderr",
     "output_type": "stream",
     "text": [
      "\r",
      "Processing books:  33%|███████▎              | 446/1346 [00:59<01:19, 11.26it/s]"
     ]
    },
    {
     "name": "stdout",
     "output_type": "stream",
     "text": [
      "No valid year found for Vexy Thing: On Gender and Liberation by Perry, Imani\n",
      "No valid year found for A Chorus of Stones by Griffin, Susan\n",
      "No valid year found for *Discriminating Data: Correlation, Neighborhoods, and the New Politics of Recognition by Chun, Wendy Hui Kyong\n",
      "No valid year found for *Never Coming to a Theater Near You  by Turan, Kenneth\n",
      "No valid year found for Data Feminism by D'Ignazio, Catherine, and Lauren Klein\n",
      "No valid year found for Emergent Strategy: Shaping Change, Changing Worlds by brown, adrienne maree\n",
      "No valid year found for Black Girls Are From the Future: Essays on Race, Digial Creativity and Pop Culture by Jarmon, Renina\n",
      "No valid year found for It Didn't Start With You: How Inherited Family Trauma Shapes Who We Are and How To End the Cycle by Wolynn, Mark\n",
      "No valid year found for American Slavery, American Freedom: The Ordeal of Colonial Virginia by Morgan, Edmund S.\n"
     ]
    },
    {
     "name": "stderr",
     "output_type": "stream",
     "text": [
      "\r",
      "Processing books:  33%|███████▎              | 448/1346 [01:00<02:11,  6.82it/s]"
     ]
    },
    {
     "name": "stdout",
     "output_type": "stream",
     "text": [
      "No valid year found for *Under Ground by Daly, Michael\n",
      "No valid year found for The Growth of the Mind by Greenspan, Stanley\n",
      "No valid year found for The Life and Opinions of Tristram Shandy, Gentleman by Sterne, Laurence\n",
      "No valid year found for *How Innovation Works by Ridley, Matt\n"
     ]
    },
    {
     "name": "stderr",
     "output_type": "stream",
     "text": [
      "\r",
      "Processing books:  33%|███████▎              | 450/1346 [01:00<02:07,  7.02it/s]"
     ]
    },
    {
     "name": "stdout",
     "output_type": "stream",
     "text": [
      "No valid year found for Pink Ribbons, Inc.: Breast Cancer and the Politics of Philanthropy by King, Samantha\n",
      "No valid year found for The Telomere Effect: A Revolutionary Approach ot Living Younger, Healtheir, Longer by Blackburn, Elizabeth and Elissa Epel\n",
      "No valid year found for The Chomsky-Foucault Debate: On Human Nature by Chomsky, Noam\n",
      "No valid year found for *Race in North America: Origin and Evolution of a Worldview by Smedley, Audrey\n",
      "No valid year found for *The Next Civil War by Marche, Stephen\n"
     ]
    },
    {
     "name": "stderr",
     "output_type": "stream",
     "text": [
      "Processing books:  34%|███████▍              | 453/1346 [01:00<01:53,  7.89it/s]"
     ]
    },
    {
     "name": "stdout",
     "output_type": "stream",
     "text": [
      "No valid year found for The Vagina Monologues by V\n",
      "No valid year found for The Rise of the Network Society by Castells, Manuel\n",
      "No valid year found for The Secret Life of the Unborn Child by Verny, Thomas\n",
      "No valid year found for Amusing Ourselves to Death by Postman, Neil\n",
      "No valid year found for *Power and Technology by Van Dijk, J. A. G. M.\n"
     ]
    },
    {
     "name": "stderr",
     "output_type": "stream",
     "text": [
      "\r",
      "Processing books:  34%|███████▍              | 455/1346 [01:01<02:11,  6.76it/s]"
     ]
    },
    {
     "name": "stdout",
     "output_type": "stream",
     "text": [
      "No valid year found for The Anatomy of a Calling by Rankin, Lisa\n",
      "No valid year found for *The Portable Edgar Allan Poe by Poe, Edgar Allan\n",
      "No valid year found for Digitizing Race: Visual Cultures of the Internet by Nakamura, Lisa\n"
     ]
    },
    {
     "name": "stderr",
     "output_type": "stream",
     "text": [
      "\r",
      "Processing books:  34%|███████▍              | 457/1346 [01:01<02:21,  6.30it/s]"
     ]
    },
    {
     "name": "stdout",
     "output_type": "stream",
     "text": [
      "No valid year found for Cybertypes: Race, Ethnicity, and Identity on the Internet by Nakamura, Lisa\n",
      "No valid year found for Beautiful Boy: A Father's Journey Through His Son's Addiction by Sheff, David\n",
      "No valid year found for The Sweet Hereafter by Banks, Russel\n",
      "No valid year found for Cancer Ward by Solzhenitsyn, Aleksandr\n"
     ]
    },
    {
     "name": "stderr",
     "output_type": "stream",
     "text": [
      "\r",
      "Processing books:  34%|███████▌              | 460/1346 [01:01<02:10,  6.78it/s]"
     ]
    },
    {
     "name": "stdout",
     "output_type": "stream",
     "text": [
      "No valid year found for Digital Diaspora: A Race for Cyberspace by Everett, Anna\n",
      "No valid year found for *The White Mosque by Samatar, Sofia\n",
      "No valid year found for Lost Connections by Hari, Johann\n",
      "No valid year found for Prozac Nation by Wurtzel, Elizabeth\n",
      "No valid year found for *The Complete Poems of Emily Dickinson by Dickinson, Emily\n"
     ]
    },
    {
     "name": "stderr",
     "output_type": "stream",
     "text": [
      "\r",
      "Processing books:  34%|███████▌              | 463/1346 [01:02<01:42,  8.61it/s]"
     ]
    },
    {
     "name": "stdout",
     "output_type": "stream",
     "text": [
      "No valid year found for *White Lies: Race, Class, Gender and White Supremacist Discourse by Daniels, Jessie\n",
      "No valid year found for The Social Life of DNA: Race, Reparations, and Reconciliation by Nelson, Alondra\n",
      "No valid year found for Sates of Knolwedge: The Co-production of Science and Social Order by Jasanoff, Sheila\n",
      "No valid year found for Fighting For Space by Osborn, Bud\n",
      "No valid year found for *Kill Anything that Moves: The Real American War in Vietnam by Turse, Nick\n"
     ]
    },
    {
     "name": "stderr",
     "output_type": "stream",
     "text": [
      "Processing books:  35%|███████▌              | 466/1346 [01:02<01:34,  9.34it/s]"
     ]
    },
    {
     "name": "stdout",
     "output_type": "stream",
     "text": [
      "No valid year found for An Unquiet Mind by Jamison, Kay Redfeld\n",
      "No valid year found for Brave New Worlrd by Huxley, Aldous\n",
      "No valid year found for Hope in the Dark by Solnit, Rebecca\n",
      "No valid year found for Thin Description: Ethnography and the Hebrew Israelites of Jerusalem by Jackson, John L.\n",
      "No valid year found for Three Worlds of Relief: Race, Immigration, and the American Welfare Satate from the Progressive Era to the New Deal by Fox, Cybelle\n",
      "No valid year found for On Intersectionality by Crenshaw, Kimberlé\n",
      "No valid year found for Black Looks: Race and Representation by hooks, bell\n",
      "No valid year found for The White Tiger by Adiga, Aravind\n",
      "No valid year found for Robots: Fact, Fiction, and Prediction by Reichardt, Jasia\n",
      "No valid year found for More Beautiful and More Terrible: The Embrace and Transcendence of Racial Inequality by Perry, Imani\n",
      "No valid year found for AI Snake Oil: What Artificial Intelligence Can Do, What It Can't, and How to Tell the Difference by Narayanan, Arvind, and Sayash Kapoor\n"
     ]
    },
    {
     "name": "stderr",
     "output_type": "stream",
     "text": [
      "Processing books:  35%|███████▋              | 470/1346 [01:02<01:35,  9.14it/s]"
     ]
    },
    {
     "name": "stdout",
     "output_type": "stream",
     "text": [
      "No valid year found for BodyandSoul: The Black Panther Party and the Fight against Medical Discrimination by Nelson, Alondra\n",
      "No valid year found for Life by Richards, Keith\n",
      "No valid year found for The Adventures of Augie March by Bellow, Saul\n",
      "No valid year found for Salt Sugar Fat: How the Food Giants Hooked Us by Moss, Michael\n",
      "No valid year found for An Athropology of Roborts and AI: Annihilation Anxiety and Machine by Richardson, Kathleen\n"
     ]
    },
    {
     "name": "stderr",
     "output_type": "stream",
     "text": [
      "\r",
      "Processing books:  35%|███████▋              | 472/1346 [01:03<01:40,  8.68it/s]"
     ]
    },
    {
     "name": "stdout",
     "output_type": "stream",
     "text": [
      "No valid year found for Moody Bitches by Holland, Julie\n",
      "No valid year found for Afrofuturism 2.0: The Rise of 'Astro-Blackness by Anderson, Reynaldo, and Charles E. Jones\n",
      "No valid year found for *Enslaved Brains by Binder, O. O.\n",
      "No valid year found for I Don't Want to Talk About It: Overcoming the Secret Legacy of Male Depression by Real, Terry\n",
      "No valid year found for Landslide: The Final Days of the Trump Presidency by Wolff, Michael\n",
      "No valid year found for *The History of Intimacy by Baderoon, Gabeba\n",
      "No valid year found for *Critique and Praxis by Harcourt, Bernard\n"
     ]
    },
    {
     "name": "stderr",
     "output_type": "stream",
     "text": [
      "Processing books:  35%|███████▊              | 476/1346 [01:03<01:33,  9.28it/s]"
     ]
    },
    {
     "name": "stdout",
     "output_type": "stream",
     "text": [
      "No valid year found for The Crack in the Cosmic Egg: New Constructs of Mind and Reality by Pearce, Joseph Chilton\n",
      "No valid year found for *The Salt Eaters by Bambara, Toni Cade\n",
      "No valid year found for *And We Are Not Saved by Bell, Derrick\n",
      "No valid year found for Leaves of Grass by Whitman, Walt\n",
      "No valid year found for Report to Greco by Kazantzakis, Nikos\n",
      "No valid year found for Blessed with a Brain Tumor by Pye, Will\n"
     ]
    },
    {
     "name": "stderr",
     "output_type": "stream",
     "text": [
      "\r",
      "Processing books:  36%|███████▊              | 478/1346 [01:03<01:36,  9.04it/s]"
     ]
    },
    {
     "name": "stdout",
     "output_type": "stream",
     "text": [
      "No valid year found for Outsiders: Studies in the Sociology of Deviance by Becker, H.S.\n",
      "No valid year found for *The Many Faces of Evil by Rorty, Amélie\n",
      "No valid year found for The Corporation: The Pathalogical Pursuit of Profit and Power by Bakan, Joel\n",
      "No valid year found for No Logo by Klein, Naomi\n",
      "No valid year found for The Enigma of Diversity: The Language of Race and the Limits of Racial Justice by Berrey, Ellen\n",
      "No valid year found for *Scarcity: Why Having Too Little Means So Much by Shafir, Eldar, and Sendhil Mullainathan\n"
     ]
    },
    {
     "name": "stderr",
     "output_type": "stream",
     "text": [
      "\r",
      "Processing books:  36%|███████▊              | 480/1346 [01:04<02:15,  6.41it/s]"
     ]
    },
    {
     "name": "stdout",
     "output_type": "stream",
     "text": [
      "No valid year found for Captivating Technology: Race, Carceal Technoscience, and Liberatory Imagination by Benjamin, Ruha\n",
      "No valid year found for Ceremony by Silko, Leslie Marmon\n",
      "No valid year found for *Race, Culture, and the Revolt of the Black Athlete: The 1968 Olympic Protests and Their Aftermath by Hartmann, Douglas\n",
      "No valid year found for Racism without Racists: Colorblind Racism and the Persistence of Racial Inequality in the United States by Bonilla-Silva, Eduardo\n"
     ]
    },
    {
     "name": "stderr",
     "output_type": "stream",
     "text": [
      "\r",
      "Processing books:  36%|███████▉              | 482/1346 [01:04<01:54,  7.57it/s]"
     ]
    },
    {
     "name": "stdout",
     "output_type": "stream",
     "text": [
      "No valid year found for Social by Nature: The Promise and Peril of Sociogenomics by Bliss, Catherine\n",
      "No valid year found for Letters to a Young Poet by Rilke, Rainer Maria\n",
      "No valid year found for Never Broken: Songs Are Only Half the Story by Jewel\n"
     ]
    },
    {
     "name": "stderr",
     "output_type": "stream",
     "text": [
      "Processing books:  36%|███████▉              | 484/1346 [01:04<01:59,  7.21it/s]"
     ]
    },
    {
     "name": "stdout",
     "output_type": "stream",
     "text": [
      "No valid year found for Madness Explained: Psychosis and Human Nature by Bentall, Richard\n",
      "No valid year found for Race Decoded: The Genomic Fight for Social Justice by Bliss, Catherine\n",
      "No valid year found for *Predict and Surveil by Brayne, Sarah\n",
      "No valid year found for *Who Can You Trust?: How Technology Brought Us Together and Why It Might Drive Us Apart by Botsman, Rachel\n",
      "No valid year found for How The Other Half Lives by Riis, Jacob\n",
      "No valid year found for Breathing Race into the Machine: The Suprising Career of the Spirometer from Plantation to Growth by Braun, Lundy\n",
      "No valid year found for *One Drop: Shifting the Lens on Race by Blay, Yaba\n"
     ]
    },
    {
     "name": "stderr",
     "output_type": "stream",
     "text": [
      "\r",
      "Processing books:  36%|███████▉              | 485/1346 [01:04<01:59,  7.19it/s]"
     ]
    },
    {
     "name": "stdout",
     "output_type": "stream",
     "text": [
      "No valid year found for Being and Meaning in Life by Almaas, A.H.\n",
      "No valid year found for Memory Practices in the Sciences by Bowker, Geoffrey\n",
      "No valid year found for Les Misérables by Hugo, Victor\n"
     ]
    },
    {
     "name": "stderr",
     "output_type": "stream",
     "text": [
      "Processing books:  36%|███████▉              | 488/1346 [01:05<02:01,  7.07it/s]"
     ]
    },
    {
     "name": "stdout",
     "output_type": "stream",
     "text": [
      "No valid year found for What Happened to You? by Perry, Bruce and Oprah Winfrey\n",
      "No valid year found for Parable of the Sower by Butler, Octavia\n",
      "No valid year found for How to Change Your Mind: What the New Science of Psychedelics Teaches Us About Consciousness, Dying, Addiction, Depression and Transcendence by Pollan, Michael\n",
      "No valid year found for Unapologetic: A Black, Queer, and Feminist Mandate for Radical Social Movements by Carruthers, Charlene\n",
      "No valid year found for *Slouching Towards Bethleham by Didion, Joan\n",
      "No valid year found for 1 by Richardson, Sarah, and Hallam Stevens\n"
     ]
    },
    {
     "name": "stderr",
     "output_type": "stream",
     "text": [
      "\r",
      "Processing books:  36%|████████              | 490/1346 [01:05<01:57,  7.28it/s]"
     ]
    },
    {
     "name": "stdout",
     "output_type": "stream",
     "text": [
      "No valid year found for *Dragnet Nation: A Quest for Privacy, Security and Freedom in a World of Relentless Surveillance by Angwin, Julia\n",
      "No valid year found for Le goút de l'archive by Farge, Arlette\n",
      "No valid year found for *Distributed Blackness: African American Cybercultures by Brock, André Jr.\n",
      "No valid year found for The Gates of Paradise by Andrzejewski, Jerzy\n",
      "No valid year found for *Brunching with Ophelia by Chakraborthy, Angshukanta\n"
     ]
    },
    {
     "name": "stderr",
     "output_type": "stream",
     "text": [
      "\r",
      "Processing books:  37%|████████              | 492/1346 [01:05<02:00,  7.11it/s]"
     ]
    },
    {
     "name": "stdout",
     "output_type": "stream",
     "text": [
      "No valid year found for *Black Power Professionals: The Black Power Movement and American Social Work by Bell, Joyce M.\n",
      "No valid year found for Reborn: Journals and Notebooks, 1947-1963 by Sontag, Susan\n",
      "No valid year found for The Children's Crusade by Schwob, Marcel\n",
      "No valid year found for Black Feminist Thoughts: Knowledge, Consciousness, and the Politics of Empowerment by Collins, Patricia Hill\n"
     ]
    },
    {
     "name": "stderr",
     "output_type": "stream",
     "text": [
      "\r",
      "Processing books:  37%|████████              | 494/1346 [01:06<01:56,  7.34it/s]"
     ]
    },
    {
     "name": "stdout",
     "output_type": "stream",
     "text": [
      "No valid year found for *Design Justice by Costanza-Chock, Sasha\n",
      "No valid year found for Invisible Labor: Hidden Work in the Contemporary World by Crain, Marion, Winifred Poster, and Miriam Cherry\n",
      "No valid year found for Hope Against Hope by Mandelstam, Nadezhda\n",
      "No valid year found for Belladonna by Drndić, Daša\n",
      "No valid year found for *Backdoor to Eugenics by Duster, Troy\n"
     ]
    },
    {
     "name": "stderr",
     "output_type": "stream",
     "text": [
      "\r",
      "Processing books:  37%|████████              | 496/1346 [01:06<01:55,  7.37it/s]"
     ]
    },
    {
     "name": "stdout",
     "output_type": "stream",
     "text": [
      "No valid year found for *Coloured: How Classification Became Culture by Chutel, Lynsey, and Tessa Dooms\n",
      "No valid year found for As Consciousness Is Harnessed to Flesh: Notebooks and Journals, 1964-1980 by Sontag, Susan\n",
      "No valid year found for The Collected Works of Billy the Kid by Ondaatje, Michael\n",
      "No valid year found for Pornland: How Porn Has Hijacked Our Sexuality by Dines, Gail\n",
      "No valid year found for Hamlet by Shakespeare, William\n"
     ]
    },
    {
     "name": "stderr",
     "output_type": "stream",
     "text": [
      "Processing books:  37%|████████▏             | 502/1346 [01:06<01:14, 11.28it/s]"
     ]
    },
    {
     "name": "stdout",
     "output_type": "stream",
     "text": [
      "No valid year found for Relocated: Twenty Sculptures by Isamu Noguchi from Japan by Noguchi, Isamu\n",
      "No valid year found for A Brief History of Portable Literature by Vila-Matas, Enrique\n",
      "No valid year found for The Black Skycraper: Architecture and the Perception of Race by Brown, Adrienne R.\n",
      "No valid year found for Journal des faux-monnayeurs by Gide, André\n",
      "No valid year found for The Museum of Unconditional Surrender by Ugrešić, Dubravka\n",
      "No valid year found for Radio Benjamin by Benjamin, Walter\n",
      "No valid year found for Perpetual Inventory by Kraus, Rosalind E.\n",
      "No valid year found for Appropriating Technology: Vernacular Science and Social Power by Eglash, Ron, Jennifer L. Croissant, Giovanna Di Chiro, and Rayvon Fouché\n",
      "No valid year found for *Meme Wars by Donovan, Joan, Emily Dreyfuss, and Brian Friedberg\n",
      "No valid year found for *Racial Theories in Social Science: Systemic Racism Critique by Feagin, Joe, and Sean Elias\n",
      "No valid year found for The Age of Big Data Policing: Surveillance, Race, and the Future of Law Enforcement  by Ferguson, Andrew Guthrie\n",
      "No valid year found for Darkwater: Voices from within the Veil by Du Bois, W.E.B.\n",
      "No valid year found for Suprime Health: The American Health-Care System and Race-Based Medicine by Ehlers, Nadine, and Leslie Hinkson\n",
      "No valid year found for Art in the Light of Consciousness by Tsvetaeva, Marina\n"
     ]
    },
    {
     "name": "stderr",
     "output_type": "stream",
     "text": [
      "Processing books:  38%|████████▎             | 508/1346 [01:07<01:37,  8.57it/s]"
     ]
    },
    {
     "name": "stdout",
     "output_type": "stream",
     "text": [
      "No valid year found for *Killing Neighbors: Webs of Violence in Rwanda by Fujii, Lee Ann\n",
      "No valid year found for Poems of Jose Bergamin 1895-1983: Echoes of a Distant Sea (Hispanic Literature) by Bergamín, José\n",
      "No valid year found for Cyber Selves: Feminist Ethnographies of South Asian Women by Gajjala, Radhika\n",
      "No valid year found for The Soundscape  by Schafer, R. Murray\n",
      "No valid year found for Pedagogy of the Oppressed by Freire, Paulo\n",
      "No valid year found for What Algorithms Want: Imagination in the Age of Computing by Finn, Ed\n"
     ]
    },
    {
     "name": "stderr",
     "output_type": "stream",
     "text": [
      "\r",
      "Processing books:  38%|████████▎             | 510/1346 [01:08<02:05,  6.68it/s]"
     ]
    },
    {
     "name": "stdout",
     "output_type": "stream",
     "text": [
      "No valid year found for Discipline and Punish: The Birth of the Prison by Foucault, MichelNo valid year found for A Dying Colonialism by Fanon, Frantz\n",
      "\n",
      "No valid year found for *Anything that Moves: Renegade Chefs, Fearless Eaters, and the Making of a New American Food Culture by Goodyear, Dana\n",
      "No valid year found for A Field Guide to Getting Lost by Solnit, Rebecca\n",
      "No valid year found for In the Field: The Art of Field Recording by Lane, Cathy and Angus Carlye\n",
      "No valid year found for Democracy in Black: How Race Still Enslaves the American Soul by Glaude, Eddie S., Jf.\n",
      "No valid year found for Representing Others: White Views of Indigenous Peoples by Gidley, Mark\n"
     ]
    },
    {
     "name": "stderr",
     "output_type": "stream",
     "text": [
      "\r",
      "Processing books:  38%|████████▎             | 511/1346 [01:08<03:08,  4.43it/s]"
     ]
    },
    {
     "name": "stdout",
     "output_type": "stream",
     "text": [
      "No valid year found for Shopping for Identity: The Marketing of Ethnicity  by Halter, Marilyn\n",
      "No valid year found for Black Power: The Politics of Liberation in America by Hamilton, Charles V., and Kwame Ture\n",
      "No valid year found for Ilf and Petrov's American Road Trip by Ilf, Ilya and Evgeny Petrov\n",
      "No valid year found for Beautiful and the Damned: The Creation of Identity in Nineteenth-Century Photography by Hargreaves, Roger, and Peter Hamilton\n",
      "No valid year found for *What About This by Stanford, Frank\n"
     ]
    },
    {
     "name": "stderr",
     "output_type": "stream",
     "text": [
      "Processing books:  38%|████████▍             | 516/1346 [01:09<01:46,  7.80it/s]"
     ]
    },
    {
     "name": "stdout",
     "output_type": "stream",
     "text": [
      "No valid year found for Immediate Faimly by Mann, Sally\n",
      "No valid year found for Invisible Man by Ellison, Ralph\n",
      "No valid year found for Sound and Sentiment by Feld, Steven\n",
      "No valid year found for *Why is There Philosophy of Mathematics at All? by Hacking, Ian\n",
      "No valid year found for Pedro Páramo by Rulfo, Juan\n",
      "No valid year found for *Biased by Eberhardt, Jennifer L.\n",
      "No valid year found for The Heart is a Lonely Hunter by McCuller, Carson\n"
     ]
    },
    {
     "name": "stderr",
     "output_type": "stream",
     "text": [
      "\r",
      "Processing books:  38%|████████▍             | 518/1346 [01:09<01:57,  7.03it/s]"
     ]
    },
    {
     "name": "stdout",
     "output_type": "stream",
     "text": [
      "No valid year found for *Before Gentrification: The Creation of DC's Racial Wealth Gap by Golash-Boza, Tanya\n",
      "No valid year found for Octavia's Brood: Science Fiction Stories from Social Justice Movements by Imarisha, Walidah, and adrienne maree brown\n",
      "No valid year found for Diaries by Kafka, Franz\n",
      "No valid year found for On the Road by Kerouac, Jack\n"
     ]
    },
    {
     "name": "stderr",
     "output_type": "stream",
     "text": [
      "\r",
      "Processing books:  39%|████████▌             | 521/1346 [01:09<01:32,  8.92it/s]"
     ]
    },
    {
     "name": "stdout",
     "output_type": "stream",
     "text": [
      "No valid year found for The Collected Poems of Emily Dickinson by Dickinson, Emily\n",
      "No valid year found for The Lover  by Duras, Marguerite\n",
      "No valid year found for Race on the Brain: What Implicit Bias Gets Wrong about the Struggle for Racial Justice by Kahn, Jonathan\n",
      "No valid year found for Silicon Second Nature: Culturing Artifical Life in a Digital World by Helmreich, Stefan\n"
     ]
    },
    {
     "name": "stderr",
     "output_type": "stream",
     "text": [
      "\r",
      "Processing books:  39%|████████▌             | 523/1346 [01:09<01:20, 10.28it/s]"
     ]
    },
    {
     "name": "stdout",
     "output_type": "stream",
     "text": [
      "No valid year found for Community-Based System Dynamics by Hovmand, Peter\n",
      "No valid year found for Hiroshima Mon Amour  by Duras, Marguerite\n",
      "No valid year found for *Pensées by Pascal, Blaise\n",
      "No valid year found for Brown Girl in the Ring by Hopkins, Nalo\n",
      "No valid year found for Divine Variations: How Christian Thought Became Racial Science by Keel, Terence\n"
     ]
    },
    {
     "name": "stderr",
     "output_type": "stream",
     "text": [
      "\r",
      "Processing books:  39%|████████▌             | 525/1346 [01:10<01:27,  9.36it/s]"
     ]
    },
    {
     "name": "stdout",
     "output_type": "stream",
     "text": [
      "No valid year found for The Book With No Pictures by Novak, B.J.\n",
      "No valid year found for Lord of the Flies by Golding, William\n",
      "No valid year found for Don Quixote by Cervantes, Miguel de\n",
      "No valid year found for Are We Postracial Yet? by Goldberg, David T.\n",
      "No valid year found for *Journalism: A Very Short Introduction by Hargreaves, Ian\n"
     ]
    },
    {
     "name": "stderr",
     "output_type": "stream",
     "text": [
      "\r",
      "Processing books:  39%|████████▌             | 527/1346 [01:10<01:42,  8.01it/s]"
     ]
    },
    {
     "name": "stdout",
     "output_type": "stream",
     "text": [
      "No valid year found for Revisiting Race in a Genomic Age by Koenig Barbara, Sandra Soo-Jin Lee, and Sarah S. Richardson\n",
      "No valid year found for The Intersectional Internet: Race, Sex, Class and Culture by Noble, Safiya, and Brendesha Tynes\n",
      "No valid year found for Speculative Blackness: The Future of Race in Science Fiction by Carrington, André\n",
      "No valid year found for Cities of the Plain by McCarthy, Cormac\n"
     ]
    },
    {
     "name": "stderr",
     "output_type": "stream",
     "text": [
      "\r",
      "Processing books:  39%|████████▋             | 529/1346 [01:10<01:40,  8.14it/s]"
     ]
    },
    {
     "name": "stdout",
     "output_type": "stream",
     "text": [
      "No valid year found for Blood Meridian by McCarthy, Cormac\n",
      "No valid year found for The First Civil Right: How Liberals Built Prison America by Murakawa, Naomi\n",
      "No valid year found for The MindBody Code by Martinez, Mario\n"
     ]
    },
    {
     "name": "stderr",
     "output_type": "stream",
     "text": [
      "\r",
      "Processing books:  39%|████████▋             | 530/1346 [01:10<01:58,  6.90it/s]"
     ]
    },
    {
     "name": "stdout",
     "output_type": "stream",
     "text": [
      "No valid year found for Misbehaving Science: Controversy and the Development of Behavior Genetics by Panofsky, Aaron\n",
      "No valid year found for When My Brother Was an Aztec by Diaz, Natalie\n",
      "No valid year found for Borderlands/La Frontera by Anzaldúa, Gloria\n",
      "No valid year found for 2666 by Bolano, Roberto\n"
     ]
    },
    {
     "name": "stderr",
     "output_type": "stream",
     "text": [
      "\r",
      "Processing books:  40%|████████▋             | 532/1346 [01:11<01:35,  8.50it/s]"
     ]
    },
    {
     "name": "stdout",
     "output_type": "stream",
     "text": [
      "No valid year found for Blinded by Sight: Seeing Race through the Eyes of hte Blind by Obasogie, Osagie\n",
      "No valid year found for An Anthropology of Robots and AI: Annihilation Anxiety and Machines by Richardson, Kathleen\n",
      "No valid year found for The Devil in Silicon Valley: Northern California, Race, and Mexican-Americans by Pitti, Stephen\n",
      "No valid year found for Untitled for Barbara Loden by Léger, Nathalie\n"
     ]
    },
    {
     "name": "stderr",
     "output_type": "stream",
     "text": [
      "\r",
      "Processing books:  40%|████████▋             | 534/1346 [01:11<02:15,  6.00it/s]"
     ]
    },
    {
     "name": "stdout",
     "output_type": "stream",
     "text": [
      "No valid year found for Racial Formation in the United States: From the 1960s to the 1990s by Omi, Michael, and Howard Winant\n",
      "No valid year found for *House of Desires by Cruz, Sor Juana Inés de la\n",
      "No valid year found for Killing the Black: Race Reporduction, and the Meaning of Liberty by Roberts, Dorothy\n"
     ]
    },
    {
     "name": "stderr",
     "output_type": "stream",
     "text": [
      "Processing books:  40%|████████▊             | 537/1346 [01:11<01:46,  7.60it/s]"
     ]
    },
    {
     "name": "stdout",
     "output_type": "stream",
     "text": [
      "No valid year found for *Autobiography of Red by Carson, Anne\n",
      "No valid year found for All the Pretty Horses by McCarthy, Cormac\n",
      "No valid year found for Heart of Darkness by Conrad, Joseph\n",
      "No valid year found for *Memiors of the Hadrian by Yourcenar, Marguerite\n",
      "No valid year found for The Cantos by Pound, Ezra\n"
     ]
    },
    {
     "name": "stderr",
     "output_type": "stream",
     "text": [
      "\r",
      "Processing books:  40%|████████▊             | 540/1346 [01:12<01:20,  9.98it/s]"
     ]
    },
    {
     "name": "stdout",
     "output_type": "stream",
     "text": [
      "No valid year found for Fatal Invention: How Science, Politics, and Big Business Re-Create Race in the Twenty-First Century by Roberts, Dorothy\n",
      "No valid year found for Dancing Lessons for the Advanced in Age by Hrabal, Bohumil\n",
      "No valid year found for Bodyminds Reimagined: (Dis) Ability, Race, and Gender in Black Women's Speculative Fiction by Schalk, Sami\n",
      "No valid year found for Ours to Hack and to Own: The Rise of Platform Cooperativism: A New Vision for the Future of Work and a Fairer Internet by Scholz, Trebor, and Nathan Schneider\n",
      "No valid year found for Capitalism: A Ghost Story by Roy, Arundhati\n"
     ]
    },
    {
     "name": "stderr",
     "output_type": "stream",
     "text": [
      "\r",
      "Processing books:  40%|████████▊             | 542/1346 [01:12<01:27,  9.17it/s]"
     ]
    },
    {
     "name": "stdout",
     "output_type": "stream",
     "text": [
      "No valid year found for *Dear Life by Munro, Alice\n",
      "No valid year found for From Cochise to Geronimo: The Chiricahua Apaches, 1874-1886 by Sweeney, Edwin R.\n",
      "No valid year found for Lt. Charles Gatewod & His Apache Wars Memior by Gatewood, Charles\n",
      "No valid year found for In the Wake: On Blackness and Being by Sharpe, Christina\n",
      "No valid year found for W.E.B. Du Bois's Data Portraits: Visualizing Black America by Rusert, Britt, and Adrienne Brown\n"
     ]
    },
    {
     "name": "stderr",
     "output_type": "stream",
     "text": [
      "Processing books:  41%|████████▉             | 546/1346 [01:12<01:20,  9.95it/s]"
     ]
    },
    {
     "name": "stdout",
     "output_type": "stream",
     "text": [
      "No valid year found for Mangas Coloradas: Chief of the Chiricahua Apaches by Sweeney, Edwin R.\n",
      "No valid year found for Vision, Race, and Modernity: A Visual Economy of the Andean Image World by Poole, Deborah\n",
      "No valid year found for The North American Indian by Curtis, Edward S.\n",
      "No valid year found for *Paris Spleen by Baudelaire, Charles\n",
      "No valid year found for Cochise, Chiricahua Apache Chief by Sweeney, Edwin R.\n"
     ]
    },
    {
     "name": "stderr",
     "output_type": "stream",
     "text": [
      "\r",
      "Processing books:  41%|████████▉             | 548/1346 [01:12<01:12, 11.01it/s]"
     ]
    },
    {
     "name": "stdout",
     "output_type": "stream",
     "text": [
      "No valid year found for Mrs. Dalloway by Woolf, Virginia\n",
      "No valid year found for Native American DNA: Trival Belonging and the False Promise of Genetic Science by TallBear, Kim\n",
      "No valid year found for From #BlackLivesMatter to Black Liberation by Taylor, Keeanga-Yamahtta\n",
      "No valid year found for Medicating Race: Heart Disease and Durable Preoccupations with Difference by Pollock, Anne\n",
      "No valid year found for Medieval Robots: Mechanism, Magic, Nature, and Art by Truitt, Elly\n"
     ]
    },
    {
     "name": "stderr",
     "output_type": "stream",
     "text": [
      "\r",
      "Processing books:  41%|████████▉             | 550/1346 [01:13<02:06,  6.30it/s]"
     ]
    },
    {
     "name": "stdout",
     "output_type": "stream",
     "text": [
      "No valid year found for Dark Matter: A Century of Speculative Fiction from the AAfrican Diaspora by Thomas, Sheree Renee\n",
      "No valid year found for Twitter and Tear Gas: The Power and Fragility of Networked Protest by Tufekci, Zeynep\n",
      "No valid year found for *Selected Poems by Fenton by Fenton, James\n",
      "No valid year found for Practices of Looking: An Introduction to Visual Culture by Sturken, Marita\n",
      "No valid year found for Geronimo: His Own Story. The Autobiography of a Great Patriot Warrior by Geronimo\n",
      "No valid year found for Huckleberry Finn by Twain, Mark\n",
      "No valid year found for Genetics and the Unsettled Past: The Collision of DNA, Race, and History by Wailoo, Keith, Alondra Nelson, and Catherine Lee\n"
     ]
    },
    {
     "name": "stderr",
     "output_type": "stream",
     "text": [
      "\r",
      "Processing books:  41%|█████████             | 552/1346 [01:13<02:14,  5.91it/s]"
     ]
    },
    {
     "name": "stdout",
     "output_type": "stream",
     "text": [
      "No valid year found for Thicker than Blood: How Racial Statistics Lie by Zuberi, Tufuku\n",
      "No valid year found for Afrofuturism: The World of Black Sci-Fi and Fantasy Culture by Womack, Ytasha\n",
      "No valid year found for Litght is Like Water by Márquez, Gabriel García\n",
      "No valid year found for Habius Viscus: Racializing Assemblages, Biopolitics, and Black Feminist Theories of the Human by Weheliye, Alexander\n",
      "No valid year found for *Health Colonialism: Urban Wastelands and Hospital Frontiers by Krupar, Shiloh\n",
      "No valid year found for Photography: A Critical Introduction by Wells, Liz\n",
      "No valid year found for Simians, Cyborgs and Women: The Reinvention of Nature by Haraway, Donna\n"
     ]
    },
    {
     "name": "stderr",
     "output_type": "stream",
     "text": [
      "Processing books:  41%|█████████             | 554/1346 [01:14<02:24,  5.49it/s]"
     ]
    },
    {
     "name": "stdout",
     "output_type": "stream",
     "text": [
      "No valid year found for The Horse, the Wheel, and Language: How Broze-Age Riders from the Eurasian Steppes Shaped teh Modern Wordl by Anthony, David W.\n",
      "No valid year found for Owning Memory: How a Carribean Community Lost Its Archives and Found Its History by Bastian, Jeannette Allis\n"
     ]
    },
    {
     "name": "stderr",
     "output_type": "stream",
     "text": [
      "\r",
      "Processing books:  41%|█████████             | 555/1346 [01:14<02:57,  4.47it/s]"
     ]
    },
    {
     "name": "stdout",
     "output_type": "stream",
     "text": [
      "No valid year found for *Woke Racism: How a New Religion Has Betrayed Black America by McWhorter, John\n",
      "No valid year found for Dispossessed Lives: Enslaved Women, Violence and hte Archive by Fuentes, Marisa J.\n",
      "No valid year found for *The Collected Stories of Lydia Davis by Davis, Lydia\n",
      "No valid year found for Dwelling in the Archive: Women Writing House, Home, and History in Late Colonial India by Burton, Antoiette\n",
      "No valid year found for Technology and the African-American Experience: Needs and Opportunities by Sinclair, Bruce\n",
      "No valid year found for *The Human Genome Diversity Project: An Ethnography of Scientific Practice by M'Charek, Amade\n",
      "No valid year found for *Represent and Destroy by Melamed, Jodi\n",
      "No valid year found for Carceral Capitalism by Wang, Jackie\n",
      "No valid year found for *Understanding E-Carceration: Electronic Monitoring, the Surveillance State, and the Future of Mass Incarceration by Kilgore, James\n",
      "No valid year found for *Identity Capitalists: The Powerful Insiders who Exploit Diversity to Maintain Inequality by Leong, Nancy\n"
     ]
    },
    {
     "name": "stderr",
     "output_type": "stream",
     "text": [
      "\r",
      "Processing books:  41%|█████████             | 558/1346 [01:15<03:06,  4.23it/s]"
     ]
    },
    {
     "name": "stdout",
     "output_type": "stream",
     "text": [
      "No valid year found for *To Save Everything, Click Here by Morozov, Evgeny\n",
      "No valid year found for *Insomniac Dreams by Nabokov, Vladamir\n"
     ]
    },
    {
     "name": "stderr",
     "output_type": "stream",
     "text": [
      "\r",
      "Processing books:  42%|█████████▏            | 559/1346 [01:15<03:17,  3.99it/s]"
     ]
    },
    {
     "name": "stdout",
     "output_type": "stream",
     "text": [
      "No valid year found for *Genius Makers: The Mavericks Who Brough AI to Google, Facebook, and the World by Metz, Cade\n",
      "No valid year found for *Civilizing Natures: Race, Resources, and Modernity in Colonial South India by Philip, Kavita\n",
      "No valid year found for *Assimilation: An Alternative History by Ramíez, Catherine S.\n",
      "No valid year found for The Wide Sargasso Sea by Rhys, Jean\n",
      "No valid year found for *Chasing Innovation: Making Entrepreneurial Citizens in Modern India by Irani, Lilly\n"
     ]
    },
    {
     "name": "stderr",
     "output_type": "stream",
     "text": [
      "\r",
      "Processing books:  42%|█████████▏            | 561/1346 [01:15<02:22,  5.53it/s]"
     ]
    },
    {
     "name": "stdout",
     "output_type": "stream",
     "text": [
      "No valid year found for The Waste Land by Eliot, T.S.\n",
      "No valid year found for Body Rags by Kinnell, Galway\n"
     ]
    },
    {
     "name": "stderr",
     "output_type": "stream",
     "text": [
      "\r",
      "Processing books:  42%|█████████▏            | 562/1346 [01:16<02:40,  4.88it/s]"
     ]
    },
    {
     "name": "stdout",
     "output_type": "stream",
     "text": [
      "No valid year found for *Bitcoin is Magic: Internet Money, Memetic Warfare, and the End of Mere Reality by Morris, David\n",
      "No valid year found for Peter Pan by Barrie, J.M.\n",
      "No valid year found for Lost in the Archives by Comay, Rebecca\n",
      "No valid year found for *The Innovation Delusion: How Our Obsession with the New Has Disrupted the Work That Matters Most by Vinsel, Lee, and Andrew L. Russell\n"
     ]
    },
    {
     "name": "stderr",
     "output_type": "stream",
     "text": [
      "Processing books:  42%|█████████▏            | 565/1346 [01:16<02:04,  6.28it/s]"
     ]
    },
    {
     "name": "stdout",
     "output_type": "stream",
     "text": [
      "No valid year found for *Genius at Play: The Curious Mind of John Horton Conway by Roberts, Siobhan\n",
      "No valid year found for Mythology by Hamilton, Edith\n",
      "No valid year found for *Spiraling Up: Discover Financial Serenity, Make Work Optional, and Live Happily in Retirement by Medland, Steven\n",
      "No valid year found for The Good Earth by Buck, Pearl\n",
      "No valid year found for *Using Equit Audits in the Classroom to Reach and Teach All Students by McKenzie, Kathryn Bell, James Joseph Scheurich, and Linda Skrla\n",
      "No valid year found for *Modernity for the Masses by Leon, Ana Maria\n"
     ]
    },
    {
     "name": "stderr",
     "output_type": "stream",
     "text": [
      "\r",
      "Processing books:  42%|█████████▎            | 566/1346 [01:16<01:58,  6.60it/s]"
     ]
    },
    {
     "name": "stdout",
     "output_type": "stream",
     "text": [
      "No valid year found for Faust by Goethe, Johanne Wolfgang von\n",
      "No valid year found for *Conviction: The Making and Unmaking of the Violent Brain by Rollins, Oliver\n",
      "No valid year found for *The Performance Cortez: How Neuroscience is Redefining Athletic Genius by Schnobrun, Zach\n",
      "No valid year found for Duino Elegies by Rilke, Rainer Maria\n"
     ]
    },
    {
     "name": "stderr",
     "output_type": "stream",
     "text": [
      "Processing books:  42%|█████████▎            | 570/1346 [01:17<01:51,  6.96it/s]"
     ]
    },
    {
     "name": "stdout",
     "output_type": "stream",
     "text": [
      "No valid year found for *Deadly Biocultures: The Ethics of Life-Making by Ehlers, Nadine, and Shilo Krupar\n",
      "No valid year found for *Other People's Property: A Shadow History of Hip-Hop in White America by Tanz, Jason\n",
      "No valid year found for *Dead Souls by Gogol, Nikoli\n",
      "No valid year found for *The Whale and the Reactor: A Search for Limits in an Age of High Technology by Winner, Langdon\n",
      "No valid year found for *Genomics and the Reimagining of Personalized Medicine by Tutton, Richard\n",
      "No valid year found for Archive Fever: A Freudian Impression by Derrida, Jacques\n",
      "No valid year found for *Stories of Anton Chekhov by Chekhov, Anton\n",
      "No valid year found for *The Complete Grimm's Fairy Tales by Grimm, Jacob and Wilhelm Grimm\n",
      "No valid year found for Struwwelpetter by Hoffmann, Heinrich\n",
      "No valid year found for *Code for What?: Computer Science for Storytelling and Social Justice by Lee, Clifford, and Elisabeth Soep\n",
      "No valid year found for *Shaping Science: Organizations, Decisions, and Culture on NASA's Teams by Vertesi, Janet\n",
      "No valid year found for *Question Bridge: Black Males in America by Sinclair, Kamal\n"
     ]
    },
    {
     "name": "stderr",
     "output_type": "stream",
     "text": [
      "Processing books:  43%|█████████▍            | 575/1346 [01:17<01:27,  8.82it/s]"
     ]
    },
    {
     "name": "stdout",
     "output_type": "stream",
     "text": [
      "No valid year found for The Odyssey by Homer\n",
      "No valid year found for *Mobilizing Hope: Faith-Inspiried Activism for a Post-Civil Rights Generation by Taylor, Adam\n",
      "No valid year found for Mrs. Dalloway by Woolf, Virginia\n",
      "No valid year found for *Complete Poems of Heinrich Heine by Heine, Heinrich\n",
      "No valid year found for *Internet for the People: The Fight for Our Digital Future by Tarnoff, Ben\n",
      "No valid year found for *The YouTube Apparatus by Munger, Kevin\n",
      "No valid year found for Lives by Plutarch\n",
      "No valid year found for The Americans by Frank, Robert\n"
     ]
    },
    {
     "name": "stderr",
     "output_type": "stream",
     "text": [
      "Processing books:  43%|█████████▍            | 579/1346 [01:18<02:37,  4.86it/s]"
     ]
    },
    {
     "name": "stdout",
     "output_type": "stream",
     "text": [
      "No valid year found for The Notebooks of Malte Laurids Brigge by Rilke, Rainer Maria\n",
      "No valid year found for *The Complete Essays by Montagne, Michel de\n"
     ]
    },
    {
     "name": "stderr",
     "output_type": "stream",
     "text": [
      "Processing books:  43%|█████████▍            | 581/1346 [01:19<02:40,  4.76it/s]"
     ]
    },
    {
     "name": "stdout",
     "output_type": "stream",
     "text": [
      "No valid year found for The Diary of Anne Frank by Frank, Anne\n",
      "No valid year found for Gone With The Wind by Mitchell, Margaret\n",
      "No valid year found for Madame Bovary by Flaubert, Gustave\n"
     ]
    },
    {
     "name": "stderr",
     "output_type": "stream",
     "text": [
      "\r",
      "Processing books:  43%|█████████▌            | 583/1346 [01:19<02:02,  6.21it/s]"
     ]
    },
    {
     "name": "stdout",
     "output_type": "stream",
     "text": [
      "No valid year found for Anna Karenina by Tolstoy, Leo\n"
     ]
    },
    {
     "name": "stderr",
     "output_type": "stream",
     "text": [
      "\r",
      "Processing books:  43%|█████████▌            | 584/1346 [01:19<02:23,  5.33it/s]"
     ]
    },
    {
     "name": "stdout",
     "output_type": "stream",
     "text": [
      "No valid year found for *The Collected Poems of Paul Valéry by Valéry, Paul\n"
     ]
    },
    {
     "name": "stderr",
     "output_type": "stream",
     "text": [
      "Processing books:  44%|█████████▌            | 587/1346 [01:20<02:10,  5.84it/s]"
     ]
    },
    {
     "name": "stdout",
     "output_type": "stream",
     "text": [
      "No valid year found for Purity of the Heart is to Will One Thing by Kierkegaard, Søren\n",
      "No valid year found for *Hans Christian Andersen's Fairy Tales by Andersen, Hans Christian\n",
      "No valid year found for *Ideas for the Philosophy of the History of Mankind by Herder, Johann Gottfried\n",
      "No valid year found for *Eugene Onegin by Pushkin, Alexander\n",
      "No valid year found for *The Gold Sneakers by Monterroso, Augusto\n"
     ]
    },
    {
     "name": "stderr",
     "output_type": "stream",
     "text": [
      "\r",
      "Processing books:  44%|█████████▋            | 589/1346 [01:20<02:02,  6.16it/s]"
     ]
    },
    {
     "name": "stdout",
     "output_type": "stream",
     "text": [
      "No valid year found for *The Magic Mountain by Mann, Thomas\n",
      "No valid year found for Waiting for God by Weil, Simone\n",
      "No valid year found for Barbarism with a Human Face by Lévy, Bernard-Henri\n"
     ]
    },
    {
     "name": "stderr",
     "output_type": "stream",
     "text": [
      "\r",
      "Processing books:  44%|█████████▋            | 593/1346 [01:20<01:22,  9.15it/s]"
     ]
    },
    {
     "name": "stdout",
     "output_type": "stream",
     "text": [
      "No valid year found for *The Colette Omnibus by Colette\n"
     ]
    },
    {
     "name": "stderr",
     "output_type": "stream",
     "text": [
      "Processing books:  44%|█████████▋            | 596/1346 [01:21<01:32,  8.09it/s]"
     ]
    },
    {
     "name": "stdout",
     "output_type": "stream",
     "text": [
      "No valid year found for Lolita by Nabokov, Vladamir\n",
      "No valid year found for The Good Soldier by Ford, Ford Madox\n",
      "No valid year found for *The Train by Simenon, Georges\n"
     ]
    },
    {
     "name": "stderr",
     "output_type": "stream",
     "text": [
      "Processing books:  44%|█████████▊            | 598/1346 [01:21<01:42,  7.29it/s]"
     ]
    },
    {
     "name": "stdout",
     "output_type": "stream",
     "text": [
      "No valid year found for Infinite Jest by Wallace, David Foster\n",
      "No valid year found for *Nights at the Circus by Carter, Angela\n"
     ]
    },
    {
     "name": "stderr",
     "output_type": "stream",
     "text": [
      "Processing books:  45%|█████████▊            | 601/1346 [01:22<01:22,  9.08it/s]"
     ]
    },
    {
     "name": "stdout",
     "output_type": "stream",
     "text": [
      "No valid year found for *The Metaphysics by Aristotle\n",
      "No valid year found for An American Tragedy by Dreiser, Theodore\n",
      "No valid year found for *Strangers on a Train by Highsmith, Patricia\n",
      "No valid year found for *The Simple Truth by Hardwick, Elizabeth\n"
     ]
    },
    {
     "name": "stderr",
     "output_type": "stream",
     "text": [
      "Processing books:  45%|█████████▉            | 605/1346 [01:22<01:08, 10.75it/s]"
     ]
    },
    {
     "name": "stdout",
     "output_type": "stream",
     "text": [
      "No valid year found for Three Paths to the Lake by Bachmann, Ingeborg\n",
      "No valid year found for *Madame Bovary by Flaubert, Gustave\n",
      "No valid year found for Dream of Language by Bachmann, Ingeborg\n",
      "No valid year found for Women in Love by Lawrence, D.H.\n"
     ]
    },
    {
     "name": "stderr",
     "output_type": "stream",
     "text": [
      "Processing books:  45%|█████████▉            | 609/1346 [01:22<01:04, 11.39it/s]"
     ]
    },
    {
     "name": "stdout",
     "output_type": "stream",
     "text": [
      "No valid year found for *The Jouranl of Jules Renard by Renard, Jules\n",
      "No valid year found for The Feminine Mystique  by Friedan, Betty\n",
      "No valid year found for The Crack-Up by Fitzgerald, F. Scott\n",
      "No valid year found for *Eminent Victorians by Strachey, Lytton\n"
     ]
    },
    {
     "name": "stderr",
     "output_type": "stream",
     "text": [
      "Processing books:  46%|██████████            | 613/1346 [01:23<00:58, 12.61it/s]"
     ]
    },
    {
     "name": "stdout",
     "output_type": "stream",
     "text": [
      "No valid year found for The Golden Bowl by James, Henry\n",
      "No valid year found for *For Whom The Bell Tolls by Hemmingway, Ernest\n",
      "No valid year found for *As I Lay Dying by Faulkner, William\n"
     ]
    },
    {
     "name": "stderr",
     "output_type": "stream",
     "text": [
      "\r",
      "Processing books:  46%|██████████            | 615/1346 [01:23<00:56, 13.00it/s]"
     ]
    },
    {
     "name": "stdout",
     "output_type": "stream",
     "text": [
      "No valid year found for *Much Ado About Nothing by Shakespeare, WilliamNo valid year found for Crime and Punishment by Dostoevsky, Fyodor\n",
      "\n",
      "No valid year found for 10:04 by Lerner, Ben\n"
     ]
    },
    {
     "name": "stderr",
     "output_type": "stream",
     "text": [
      "\r",
      "Processing books:  46%|██████████            | 617/1346 [01:23<01:18,  9.27it/s]"
     ]
    },
    {
     "name": "stdout",
     "output_type": "stream",
     "text": [
      "No valid year found for *It by Christensen, Inger\n",
      "No valid year found for *Mrs. Dalloway by Woolf, Virginia\n",
      "No valid year found for *Wuthering Heights by Brontë, Emily\n"
     ]
    },
    {
     "name": "stderr",
     "output_type": "stream",
     "text": [
      "\r",
      "Processing books:  46%|██████████▏           | 620/1346 [01:23<01:25,  8.46it/s]"
     ]
    },
    {
     "name": "stdout",
     "output_type": "stream",
     "text": [
      "No valid year found for *No Exit by Sarte, Jean-Paul\n",
      "No valid year found for Why I Write by Orwell, George\n"
     ]
    },
    {
     "name": "stderr",
     "output_type": "stream",
     "text": [
      "Processing books:  46%|██████████▏           | 625/1346 [01:24<01:09, 10.45it/s]"
     ]
    },
    {
     "name": "stdout",
     "output_type": "stream",
     "text": [
      "No valid year found for Paradise Lost by Milton, John\n",
      "No valid year found for *The Metamorphasis by Kafka, Franz\n",
      "No valid year found for Twilight of the Idols by Nietzsche, Friedrich\n",
      "No valid year found for *The Fall by Camus, Albert\n",
      "No valid year found for *The Storyteller by Benjamin, Walter\n",
      "No valid year found for *Falconer by Cheever, John\n"
     ]
    },
    {
     "name": "stderr",
     "output_type": "stream",
     "text": [
      "\r",
      "Processing books:  47%|██████████▎           | 628/1346 [01:24<01:13,  9.78it/s]"
     ]
    },
    {
     "name": "stdout",
     "output_type": "stream",
     "text": [
      "No valid year found for The Years by Woolf, Virginia\n",
      "No valid year found for *The Rain in the Trees by Merwin, W.S.\n"
     ]
    },
    {
     "name": "stderr",
     "output_type": "stream",
     "text": [
      "Processing books:  47%|██████████▎           | 631/1346 [01:25<01:31,  7.78it/s]"
     ]
    },
    {
     "name": "stdout",
     "output_type": "stream",
     "text": [
      "No valid year found for *Dandelion Wine by Bradbury, Ray\n",
      "No valid year found for Bleak House by Dickens, Charles\n",
      "No valid year found for *Sula by Morrison, Toni\n",
      "No valid year found for *Jane Erye by Brontë, Charlotte\n"
     ]
    },
    {
     "name": "stderr",
     "output_type": "stream",
     "text": [
      "\r",
      "Processing books:  47%|██████████▎           | 634/1346 [01:25<01:25,  8.31it/s]"
     ]
    },
    {
     "name": "stdout",
     "output_type": "stream",
     "text": [
      "No valid year found for *The Picture of Dorian Grey by Wilde, Oscar\n",
      "No valid year found for Paul Clifford by Bulwer-Lytton, Edward\n"
     ]
    },
    {
     "name": "stderr",
     "output_type": "stream",
     "text": [
      "\r",
      "Processing books:  47%|██████████▍           | 636/1346 [01:25<01:31,  7.72it/s]"
     ]
    },
    {
     "name": "stdout",
     "output_type": "stream",
     "text": [
      "No valid year found for *Duino Elegies by Rilke, Rainer Maria\n",
      "No valid year found for The Complete Poems by Bishop, Elizabeth\n",
      "No valid year found for *A Wrinkle in Time by L'Engle, Madeleine\n",
      "No valid year found for Ariel by Plath, Sylvia\n"
     ]
    },
    {
     "name": "stderr",
     "output_type": "stream",
     "text": [
      "Processing books:  48%|██████████▍           | 642/1346 [01:26<01:06, 10.52it/s]"
     ]
    },
    {
     "name": "stdout",
     "output_type": "stream",
     "text": [
      "No valid year found for The Screwtape Letters by Lewis, C.S.\n",
      "No valid year found for Great Expectations by Dickens, Charles\n",
      "No valid year found for David Copperfield by Dickens, Charles\n",
      "No valid year found for Mortality by Hitchens, Christopher\n",
      "No valid year found for *The Testement of Mary by Tóibín, Colm\n"
     ]
    },
    {
     "name": "stderr",
     "output_type": "stream",
     "text": [
      "Processing books:  48%|██████████▌           | 647/1346 [01:26<01:01, 11.41it/s]"
     ]
    },
    {
     "name": "stdout",
     "output_type": "stream",
     "text": [
      "No valid year found for The Corrections by Franzen, Jonathan\n",
      "No valid year found for Four Quartets by Eliot, T.S.\n",
      "No valid year found for *Uncle Vanya by Chekhov, Anton\n",
      "No valid year found for Ulysses by Joyce, James\n"
     ]
    },
    {
     "name": "stderr",
     "output_type": "stream",
     "text": [
      "\r",
      "Processing books:  48%|██████████▌           | 649/1346 [01:27<01:36,  7.21it/s]"
     ]
    },
    {
     "name": "stdout",
     "output_type": "stream",
     "text": [
      "No valid year found for *Disgrace by Coetzeee, J.M.\n"
     ]
    },
    {
     "name": "stderr",
     "output_type": "stream",
     "text": [
      "Processing books:  48%|██████████▋           | 651/1346 [01:27<01:54,  6.08it/s]"
     ]
    },
    {
     "name": "stdout",
     "output_type": "stream",
     "text": [
      "No valid year found for Anna Karenina by Tolstoy, Leo\n",
      "No valid year found for *The Need For Roots by Weil, Simone\n"
     ]
    },
    {
     "name": "stderr",
     "output_type": "stream",
     "text": [
      "\r",
      "Processing books:  49%|██████████▋           | 653/1346 [01:27<01:32,  7.49it/s]"
     ]
    },
    {
     "name": "stdout",
     "output_type": "stream",
     "text": [
      "No valid year found for *Girl by O'Brien, Edna\n",
      "No valid year found for Our Mutual Friend by Dickens, Charles\n"
     ]
    },
    {
     "name": "stderr",
     "output_type": "stream",
     "text": [
      "\r",
      "Processing books:  49%|██████████▋           | 654/1346 [01:28<01:51,  6.21it/s]"
     ]
    },
    {
     "name": "stdout",
     "output_type": "stream",
     "text": [
      "No valid year found for Madame Bovary by Flaubert, Gustave\n",
      "No valid year found for Romeo and Juliet by Shakespeare, William\n",
      "No valid year found for Paris Splean by Baudelaire, Charles\n"
     ]
    },
    {
     "name": "stderr",
     "output_type": "stream",
     "text": [
      "Processing books:  49%|██████████▊           | 659/1346 [01:28<01:23,  8.19it/s]"
     ]
    },
    {
     "name": "stdout",
     "output_type": "stream",
     "text": [
      "No valid year found for *Less Than One by Brodsky, Joseph\n",
      "No valid year found for *The Naked and the Dead by Mailer, Norman\n",
      "No valid year found for *Written on the Body by Winterson, Jeanette\n",
      "No valid year found for Confessions by Rousseau, Jean-Jacques\n"
     ]
    },
    {
     "name": "stderr",
     "output_type": "stream",
     "text": [
      "\r",
      "Processing books:  49%|██████████▊           | 662/1346 [01:28<00:59, 11.47it/s]"
     ]
    },
    {
     "name": "stdout",
     "output_type": "stream",
     "text": [
      "No valid year found for Nineteen Eighty-Four by Orwell, George\n",
      "No valid year found for Howl by Ginsberg, Allen\n"
     ]
    },
    {
     "name": "stderr",
     "output_type": "stream",
     "text": [
      "\r",
      "Processing books:  49%|██████████▊           | 664/1346 [01:29<01:31,  7.47it/s]"
     ]
    },
    {
     "name": "stdout",
     "output_type": "stream",
     "text": [
      "No valid year found for *The Sea by Banville, John\n",
      "No valid year found for *The Comedians by Greene, Graham\n",
      "No valid year found for *The Uncommon Reader by Bennett, Alan\n"
     ]
    },
    {
     "name": "stderr",
     "output_type": "stream",
     "text": [
      "Processing books:  50%|██████████▉           | 668/1346 [01:29<01:08,  9.95it/s]"
     ]
    },
    {
     "name": "stdout",
     "output_type": "stream",
     "text": [
      "No valid year found for *Death on an Installment Plan by Céline, Louis-Ferdinand\n",
      "No valid year found for Autobiography: Living to Tell the Tale by Marquez, Gabriel García\n",
      "No valid year found for *Labyriths by Borges, Jorge Luis\n",
      "No valid year found for Slouching Towards Bethlehem by Didion, Joan\n"
     ]
    },
    {
     "name": "stderr",
     "output_type": "stream",
     "text": [
      "\r",
      "Processing books:  50%|██████████▉           | 670/1346 [01:29<01:11,  9.49it/s]"
     ]
    },
    {
     "name": "stdout",
     "output_type": "stream",
     "text": [
      "No valid year found for Ogden Nash's Zoo by Nash, Ogden\n",
      "No valid year found for *Wise Blood by O'Connor, Flannery\n"
     ]
    },
    {
     "name": "stderr",
     "output_type": "stream",
     "text": [
      "Processing books:  50%|███████████           | 674/1346 [01:30<01:08,  9.87it/s]"
     ]
    },
    {
     "name": "stdout",
     "output_type": "stream",
     "text": [
      "No valid year found for *The Nose by Gogol, Nikolai\n",
      "No valid year found for *Invisible Cities by Calvino, Italo\n",
      "No valid year found for *Thus Spoke Zarathustra by Nietzsche, Friedrich\n",
      "No valid year found for Pattern Recognition by Gibson, William\n",
      "No valid year found for *Essays in Persuasion by Keynes, John Maynard\n"
     ]
    },
    {
     "name": "stderr",
     "output_type": "stream",
     "text": [
      "Processing books:  51%|███████████▏          | 682/1346 [01:30<00:51, 12.94it/s]"
     ]
    },
    {
     "name": "stdout",
     "output_type": "stream",
     "text": [
      "No valid year found for Michael Robartes and the Dancer by Yates, W.B.\n",
      "No valid year found for *The Tennis Court Oath by Ashbery, John\n",
      "No valid year found for Mythology by Hamilton, Edith\n",
      "No valid year found for The Poetical Works by Hood, Thomas\n",
      "No valid year found for *The Harz Journey and Selected Prose by Heine, Heinrich\n",
      "No valid year found for *Poems by Larkin, Philip\n",
      "No valid year found for I Remember by Brainard, Joe\n"
     ]
    },
    {
     "name": "stderr",
     "output_type": "stream",
     "text": [
      "\r",
      "Processing books:  51%|███████████▏          | 684/1346 [01:31<01:21,  8.09it/s]"
     ]
    },
    {
     "name": "stdout",
     "output_type": "stream",
     "text": [
      "No valid year found for *The Tin Drum by Grass, Günter\n",
      "No valid year found for *The Double Agent by Blackmur, R.P.\n"
     ]
    },
    {
     "name": "stderr",
     "output_type": "stream",
     "text": [
      "\r",
      "Processing books:  51%|███████████▏          | 686/1346 [01:31<01:22,  8.00it/s]"
     ]
    },
    {
     "name": "stdout",
     "output_type": "stream",
     "text": [
      "No valid year found for *The Satanic Verses by Rushdie, Salman\n",
      "No valid year found for Nausea by Sarte, Jean-Paul\n"
     ]
    },
    {
     "name": "stderr",
     "output_type": "stream",
     "text": [
      "Processing books:  51%|███████████▎          | 690/1346 [01:31<01:11,  9.21it/s]"
     ]
    },
    {
     "name": "stdout",
     "output_type": "stream",
     "text": [
      "No valid year found for On the Road by Kerouac, Jack\n",
      "No valid year found for The Stranger by Camus, Albert\n",
      "No valid year found for *Judith Hearne by Moore, Brian\n",
      "No valid year found for *Waiting for Godot by Beckett, Samuel\n"
     ]
    },
    {
     "name": "stderr",
     "output_type": "stream",
     "text": [
      "Processing books:  52%|███████████▎          | 694/1346 [01:32<01:15,  8.67it/s]"
     ]
    },
    {
     "name": "stdout",
     "output_type": "stream",
     "text": [
      "No valid year found for *The American Language by Mencken, H.L.\n",
      "No valid year found for The Years by Woolf, Virginia\n",
      "No valid year found for Three Guineas by Woolf, Virginia\n",
      "No valid year found for Born Free by Adamson, Joy\n"
     ]
    },
    {
     "name": "stderr",
     "output_type": "stream",
     "text": [
      "Processing books:  52%|███████████▍          | 698/1346 [01:32<01:11,  9.05it/s]"
     ]
    },
    {
     "name": "stdout",
     "output_type": "stream",
     "text": [
      "No valid year found for *The Threepenny Opera by Brecht, Bertolt\n",
      "No valid year found for In Search of Lost Time by Proust, Marcel\n",
      "No valid year found for *A Single Man by Isherwood, Christopher\n"
     ]
    },
    {
     "name": "stderr",
     "output_type": "stream",
     "text": [
      "Processing books:  52%|███████████▍          | 701/1346 [01:33<01:20,  7.99it/s]"
     ]
    },
    {
     "name": "stdout",
     "output_type": "stream",
     "text": [
      "No valid year found for *Divine Comedies by Merrill, JamesNo valid year found for *A Brief History of Time by Hawking, Stephen\n",
      "\n",
      "No valid year found for *The Mezzanine by Baker, Nicholson\n"
     ]
    },
    {
     "name": "stderr",
     "output_type": "stream",
     "text": [
      "Processing books:  52%|███████████▍          | 703/1346 [01:33<01:43,  6.23it/s]"
     ]
    },
    {
     "name": "stdout",
     "output_type": "stream",
     "text": [
      "No valid year found for All the Poems by Smith, Stevie\n",
      "No valid year found for *When I Was Old by Simenon, Georges\n"
     ]
    },
    {
     "name": "stderr",
     "output_type": "stream",
     "text": [
      "Processing books:  52%|███████████▌          | 706/1346 [01:34<01:16,  8.38it/s]"
     ]
    },
    {
     "name": "stdout",
     "output_type": "stream",
     "text": [
      "No valid year found for The Waves by Woolf, Virginia\n",
      "No valid year found for *Molloy by Beckett, Samuel\n",
      "No valid year found for The Years by Ernaux, Annie\n"
     ]
    },
    {
     "name": "stderr",
     "output_type": "stream",
     "text": [
      "\r",
      "Processing books:  53%|███████████▌          | 707/1346 [01:34<02:41,  3.95it/s]"
     ]
    },
    {
     "name": "stdout",
     "output_type": "stream",
     "text": [
      "No valid year found for Fairy Tales by Andersen, Hans Christian\n",
      "No valid year found for *Opium: The Diary of His Cure by Cocteau, Jean\n"
     ]
    },
    {
     "name": "stderr",
     "output_type": "stream",
     "text": [
      "\r",
      "Processing books:  53%|███████████▌          | 709/1346 [01:35<02:07,  4.98it/s]"
     ]
    },
    {
     "name": "stdout",
     "output_type": "stream",
     "text": [
      "No valid year found for Sentimental Education by Flaubert, Gustave\n"
     ]
    },
    {
     "name": "stderr",
     "output_type": "stream",
     "text": [
      "\r",
      "Processing books:  53%|███████████▌          | 710/1346 [01:35<02:15,  4.70it/s]"
     ]
    },
    {
     "name": "stdout",
     "output_type": "stream",
     "text": [
      "No valid year found for *Body of This Death by Bogan, Louise\n"
     ]
    },
    {
     "name": "stderr",
     "output_type": "stream",
     "text": [
      "\r",
      "Processing books:  53%|███████████▌          | 711/1346 [01:35<02:19,  4.54it/s]"
     ]
    },
    {
     "name": "stdout",
     "output_type": "stream",
     "text": [
      "No valid year found for *On the Rez by Frazier, Ian\n",
      "No valid year found for Collected Stories of Colette by Colette\n"
     ]
    },
    {
     "name": "stderr",
     "output_type": "stream",
     "text": [
      "Processing books:  53%|███████████▋          | 715/1346 [01:36<01:34,  6.66it/s]"
     ]
    },
    {
     "name": "stdout",
     "output_type": "stream",
     "text": [
      "No valid year found for *To the Finland Station by White, Edmund\n",
      "No valid year found for Lessons of the Masters by Steiner, George\n",
      "No valid year found for *The Human Comedy by Balzac, Honoré de\n"
     ]
    },
    {
     "name": "stderr",
     "output_type": "stream",
     "text": [
      "Processing books:  53%|███████████▋          | 718/1346 [01:36<01:14,  8.40it/s]"
     ]
    },
    {
     "name": "stdout",
     "output_type": "stream",
     "text": [
      "No valid year found for *So Bright and Delicate by Keats, John\n",
      "No valid year found for *The Age of Anxiety: A Baroque Eclogue by Auden, W.H.\n",
      "No valid year found for *The Original Folk and Fairy Tales of Brothers Grimm by Grimm, Jacob and Wilhelm Grimm\n"
     ]
    },
    {
     "name": "stderr",
     "output_type": "stream",
     "text": [
      "\r",
      "Processing books:  53%|███████████▊          | 720/1346 [01:36<01:02, 10.01it/s]"
     ]
    },
    {
     "name": "stdout",
     "output_type": "stream",
     "text": [
      "No valid year found for *Orlando by Woolf, Virginia\n",
      "No valid year found for My Vocation by Ginzburg, Natalia\n"
     ]
    },
    {
     "name": "stderr",
     "output_type": "stream",
     "text": [
      "\r",
      "Processing books:  54%|███████████▊          | 722/1346 [01:36<01:09,  8.97it/s]"
     ]
    },
    {
     "name": "stdout",
     "output_type": "stream",
     "text": [
      "No valid year found for Disgrace by Coetzee, J.M.\n",
      "No valid year found for *Erewhon by Butler, Samuel\n"
     ]
    },
    {
     "name": "stderr",
     "output_type": "stream",
     "text": [
      "Processing books:  54%|███████████▊          | 725/1346 [01:37<01:25,  7.29it/s]"
     ]
    },
    {
     "name": "stdout",
     "output_type": "stream",
     "text": [
      "No valid year found for The Journalist and the Murderer by Malcolm, Janet\n",
      "No valid year found for *Rabbit, Run by Updike, John\n",
      "No valid year found for Slouching Towards Bethlehem by Didion, Joan\n"
     ]
    },
    {
     "name": "stderr",
     "output_type": "stream",
     "text": [
      "Processing books:  54%|███████████▉          | 728/1346 [01:37<01:21,  7.62it/s]"
     ]
    },
    {
     "name": "stdout",
     "output_type": "stream",
     "text": [
      "No valid year found for *Chaos and Night by Montherlant, Henry de\n",
      "No valid year found for *The Rings of Saturn by Sebald, W.G.\n",
      "No valid year found for *Out of Africa by Dinesen, Isak\n"
     ]
    },
    {
     "name": "stderr",
     "output_type": "stream",
     "text": [
      "Processing books:  54%|███████████▉          | 730/1346 [01:38<01:42,  6.03it/s]"
     ]
    },
    {
     "name": "stdout",
     "output_type": "stream",
     "text": [
      "No valid year found for *The Dry Salvages by Eliot, T.S.\n",
      "No valid year found for The Unreal and the Real by Le Guin, Ursula K.\n"
     ]
    },
    {
     "name": "stderr",
     "output_type": "stream",
     "text": [
      "Processing books:  54%|███████████▉          | 732/1346 [01:38<01:50,  5.58it/s]"
     ]
    },
    {
     "name": "stdout",
     "output_type": "stream",
     "text": [
      "No valid year found for To the Lighthouse by Woolf, Virginia\n",
      "No valid year found for Civilization and Its Discontents by Freud, Sigmund\n",
      "No valid year found for *The Return of the Soldier by West, Rebecca\n"
     ]
    },
    {
     "name": "stderr",
     "output_type": "stream",
     "text": [
      "Processing books:  55%|████████████          | 736/1346 [01:38<01:08,  8.89it/s]"
     ]
    },
    {
     "name": "stdout",
     "output_type": "stream",
     "text": [
      "No valid year found for *Girl by O'Brien, Edna\n",
      "No valid year found for *Jazz by Morrison, Toni\n",
      "No valid year found for *Wise Blood by O'Connor, Flannery\n"
     ]
    },
    {
     "name": "stderr",
     "output_type": "stream",
     "text": [
      "Processing books:  55%|████████████          | 738/1346 [01:39<01:31,  6.62it/s]"
     ]
    },
    {
     "name": "stdout",
     "output_type": "stream",
     "text": [
      "No valid year found for *The Human Stain by Roth, Philip\n",
      "No valid year found for *Ignorance by Kundera, Milan\n"
     ]
    },
    {
     "name": "stderr",
     "output_type": "stream",
     "text": [
      "\r",
      "Processing books:  55%|████████████          | 741/1346 [01:39<01:00, 10.00it/s]"
     ]
    },
    {
     "name": "stdout",
     "output_type": "stream",
     "text": [
      "No valid year found for *The Captive Mind by Miłosz, Czesław\n",
      "No valid year found for Collected Poems: 1950-2012 by Rich, Adrienne\n",
      "No valid year found for *The Ambassadors  by James, Henry\n",
      "No valid year found for *Gravity and Grace by Weil, Simone\n"
     ]
    },
    {
     "name": "stderr",
     "output_type": "stream",
     "text": [
      "\r",
      "Processing books:  55%|████████████▏         | 743/1346 [01:39<01:28,  6.79it/s]"
     ]
    },
    {
     "name": "stdout",
     "output_type": "stream",
     "text": [
      "No valid year found for I Remember by Perec, George\n",
      "No valid year found for *Lake Wobegone Days by Keillor, Garrison\n",
      "No valid year found for The Notebooks of Malte Laurids Brigge by Rilke, Rainer Maria\n"
     ]
    },
    {
     "name": "stderr",
     "output_type": "stream",
     "text": [
      "Processing books:  56%|████████████▏         | 748/1346 [01:40<01:07,  8.87it/s]"
     ]
    },
    {
     "name": "stdout",
     "output_type": "stream",
     "text": [
      "No valid year found for Good-Bye to All That by Graves, Robert\n",
      "No valid year found for My Dog Tulip by Ackerley, J.R.\n",
      "No valid year found for Sainte-Beuve: Selected Essays by Sainte-Beuve, Charles Augustin\n",
      "No valid year found for *Farewell to Arms by Hemmingway, Ernest\n"
     ]
    },
    {
     "name": "stderr",
     "output_type": "stream",
     "text": [
      "\r",
      "Processing books:  56%|████████████▎         | 750/1346 [01:40<01:25,  6.99it/s]"
     ]
    },
    {
     "name": "stdout",
     "output_type": "stream",
     "text": [
      "No valid year found for The Metamorphosis by Kafka, Franz\n"
     ]
    },
    {
     "name": "stderr",
     "output_type": "stream",
     "text": [
      "Processing books:  56%|████████████▎         | 752/1346 [01:41<01:35,  6.20it/s]"
     ]
    },
    {
     "name": "stdout",
     "output_type": "stream",
     "text": [
      "No valid year found for *The Way of the World by Congreve, William\n",
      "No valid year found for Letters to a Young Poet by Rilke, Rainer Maria\n"
     ]
    },
    {
     "name": "stderr",
     "output_type": "stream",
     "text": [
      "Processing books:  56%|████████████▎         | 755/1346 [01:41<01:38,  5.98it/s]"
     ]
    },
    {
     "name": "stdout",
     "output_type": "stream",
     "text": [
      "No valid year found for *They Divided the Sky by Wolf, Christa\n",
      "No valid year found for *My Struggle by Knausgaard, Karl Ove\n",
      "No valid year found for *Dubliners by Joyce, James\n",
      "No valid year found for The Diary of Anne Frank by Frank, Anne\n"
     ]
    },
    {
     "name": "stderr",
     "output_type": "stream",
     "text": [
      "\r",
      "Processing books:  56%|████████████▎         | 757/1346 [01:42<01:21,  7.21it/s]"
     ]
    },
    {
     "name": "stdout",
     "output_type": "stream",
     "text": [
      "No valid year found for Letters of Flannery O'Connor by O'Connor, Flannery\n"
     ]
    },
    {
     "name": "stderr",
     "output_type": "stream",
     "text": [
      "\r",
      "Processing books:  56%|████████████▍         | 759/1346 [01:42<01:38,  5.99it/s]"
     ]
    },
    {
     "name": "stdout",
     "output_type": "stream",
     "text": [
      "No valid year found for Tractatus Logico-Philosophicus by Wittgenstein, Ludwig\n",
      "No valid year found for Devil at My Heels by Zamperini, Louis\n",
      "No valid year found for *The Last Days of Socrates by Plato\n",
      "No valid year found for *Letters from a Stoic by Seneca\n"
     ]
    },
    {
     "name": "stderr",
     "output_type": "stream",
     "text": [
      "Processing books:  57%|████████████▍         | 763/1346 [01:42<01:18,  7.46it/s]"
     ]
    },
    {
     "name": "stdout",
     "output_type": "stream",
     "text": [
      "No valid year found for Ill Nature by Williams, Joy\n",
      "No valid year found for King Lear by Shakespeare, William\n"
     ]
    },
    {
     "name": "stderr",
     "output_type": "stream",
     "text": [
      "\r",
      "Processing books:  57%|████████████▍         | 764/1346 [01:43<01:20,  7.21it/s]"
     ]
    },
    {
     "name": "stdout",
     "output_type": "stream",
     "text": [
      "No valid year found for *Slaughterhouse-Five by Vonnegut, Kurt\n"
     ]
    },
    {
     "name": "stderr",
     "output_type": "stream",
     "text": [
      "\r",
      "Processing books:  57%|████████████▌         | 765/1346 [01:43<01:50,  5.26it/s]"
     ]
    },
    {
     "name": "stdout",
     "output_type": "stream",
     "text": [
      "No valid year found for *Selected Poems 1933-1993 by Erwart, Gavin\n",
      "No valid year found for *Michael Kohlhaas by Kleist, Heinrich von\n",
      "No valid year found for *Game of Thrones by Martin, George R.R.\n"
     ]
    },
    {
     "name": "stderr",
     "output_type": "stream",
     "text": [
      "Processing books:  57%|████████████▌         | 770/1346 [01:44<01:19,  7.23it/s]"
     ]
    },
    {
     "name": "stdout",
     "output_type": "stream",
     "text": [
      "No valid year found for *The Last Days of Mankind by Kraus, Karl\n",
      "No valid year found for Old Yeller by Gipson, Fred\n",
      "No valid year found for The Call of the Wild by London, Jack\n",
      "No valid year found for The Unbearable Lightness of Being by Kundera, Milan\n"
     ]
    },
    {
     "name": "stderr",
     "output_type": "stream",
     "text": [
      "Processing books:  58%|████████████▋         | 774/1346 [01:44<01:04,  8.91it/s]"
     ]
    },
    {
     "name": "stdout",
     "output_type": "stream",
     "text": [
      "No valid year found for Beautiful Joe: A Dog's Own Story by Saunders, Marshall\n",
      "No valid year found for My Friend Flicka by O'Hara, Mary\n",
      "No valid year found for *Along Came a Spider by Patterson, James\n",
      "No valid year found for White Fang by London, Jack\n"
     ]
    },
    {
     "name": "stderr",
     "output_type": "stream",
     "text": [
      "Processing books:  58%|████████████▋         | 777/1346 [01:44<01:16,  7.47it/s]"
     ]
    },
    {
     "name": "stdout",
     "output_type": "stream",
     "text": [
      "No valid year found for Anna Karenina by Tolstoy, Leo\n",
      "No valid year found for Uncle Tom's Cabin by Stowe, Harriet Beecher\n",
      "No valid year found for *Swann's Way by Proust, Marcel\n"
     ]
    },
    {
     "name": "stderr",
     "output_type": "stream",
     "text": [
      "Processing books:  58%|████████████▋         | 780/1346 [01:45<01:36,  5.89it/s]"
     ]
    },
    {
     "name": "stdout",
     "output_type": "stream",
     "text": [
      "No valid year found for *Dispatches by Herr, Michael\n",
      "No valid year found for The Oxford Book of Death by Enright, D.J.\n"
     ]
    },
    {
     "name": "stderr",
     "output_type": "stream",
     "text": [
      "Processing books:  58%|████████████▊         | 783/1346 [01:45<01:12,  7.75it/s]"
     ]
    },
    {
     "name": "stdout",
     "output_type": "stream",
     "text": [
      "No valid year found for *Geography III by Bishop, Elizabeth\n",
      "No valid year found for *Voices from Chernobyl by Alexievich, Svetlana\n",
      "No valid year found for Black Beauty by Sewell, Anna\n",
      "No valid year found for *The Berlin Stories by Isherwood, Christopher\n",
      "No valid year found for *Three Sisters by Chekhov, Anton\n"
     ]
    },
    {
     "name": "stderr",
     "output_type": "stream",
     "text": [
      "Processing books:  59%|████████████▉         | 789/1346 [01:46<00:52, 10.66it/s]"
     ]
    },
    {
     "name": "stdout",
     "output_type": "stream",
     "text": [
      "No valid year found for *Time's Arrow by Amis, Martin\n",
      "No valid year found for *The Gorgeous Nothings by Dickinson, Emily\n",
      "No valid year found for *Road Dog by Leonard, Elmore\n",
      "No valid year found for *Tales of Two Cities: The Best and Worst of Times In Today's New York by Cadogan, Garnette\n",
      "No valid year found for The Dead Lecturer by Baraka, Amiri\n"
     ]
    },
    {
     "name": "stderr",
     "output_type": "stream",
     "text": [
      "Processing books:  59%|████████████▉         | 793/1346 [01:46<01:00,  9.14it/s]"
     ]
    },
    {
     "name": "stdout",
     "output_type": "stream",
     "text": [
      "No valid year found for Wayward Lives, Beautiful Experiments: Intimate Histories of Social Upheaval by Hartman, Saidiya\n",
      "No valid year found for The Sovereignty of Quiet: Beyond Resistance in Black Culture by Quashie, Kevin\n",
      "No valid year found for The Black Maria by Girmay, Aracelis\n",
      "No valid year found for In the Wake: On Blackness and Being by Sharpe, Christina\n"
     ]
    },
    {
     "name": "stderr",
     "output_type": "stream",
     "text": [
      "\r",
      "Processing books:  59%|████████████▉         | 795/1346 [01:47<01:21,  6.74it/s]"
     ]
    },
    {
     "name": "stdout",
     "output_type": "stream",
     "text": [
      "No valid year found for *Photographs by Warhol, Andy\n",
      "No valid year found for *Harry Potter and the Sorcerer's Stone by Rowling, J.K.\n",
      "No valid year found for On Photography by Sontag, Susan\n"
     ]
    },
    {
     "name": "stderr",
     "output_type": "stream",
     "text": [
      "Processing books:  59%|█████████████         | 800/1346 [01:47<01:00,  9.09it/s]"
     ]
    },
    {
     "name": "stdout",
     "output_type": "stream",
     "text": [
      "No valid year found for *The Sea Wall by Duras, Marguerite\n",
      "No valid year found for *Before Yellow Tape: A Pulitzer Prize Winner's Fire Images by Formna, Stanley\n",
      "No valid year found for *Pale Fire by Nabokov, Vladimir\n",
      "No valid year found for *My American Kundiman by Rosal, Patrick\n"
     ]
    },
    {
     "name": "stderr",
     "output_type": "stream",
     "text": [
      "\r",
      "Processing books:  60%|█████████████         | 802/1346 [01:47<00:53, 10.09it/s]"
     ]
    },
    {
     "name": "stdout",
     "output_type": "stream",
     "text": [
      "No valid year found for *Fire Road: The Napalm Girl's Journey through the Horrors of War to Faith, Forgiveness & Peace by Phan Thi, Kim Phuc\n",
      "No valid year found for *Natural Birth by Derricotte, Toi\n"
     ]
    },
    {
     "name": "stderr",
     "output_type": "stream",
     "text": [
      "Processing books:  60%|█████████████▏        | 806/1346 [01:48<01:04,  8.41it/s]"
     ]
    },
    {
     "name": "stdout",
     "output_type": "stream",
     "text": [
      "No valid year found for *The Photography of Jack Delano by Delano, Jack\n",
      "No valid year found for The Undercommons by Moten, Fred and Stefano Harney\n",
      "No valid year found for *Directed by Desire by Jordan, June\n",
      "No valid year found for Humbolt's Gift by Bellow, Saul\n"
     ]
    },
    {
     "name": "stderr",
     "output_type": "stream",
     "text": [
      "\r",
      "Processing books:  60%|█████████████▏        | 808/1346 [01:48<00:53,  9.97it/s]"
     ]
    },
    {
     "name": "stdout",
     "output_type": "stream",
     "text": [
      "No valid year found for *domina Un/blued by Kocher, Ruth Ellen\n",
      "No valid year found for *Twenty Love Poems and A Song Of Despair by Neruda, Paublo\n"
     ]
    },
    {
     "name": "stderr",
     "output_type": "stream",
     "text": [
      "Processing books:  60%|█████████████▎        | 812/1346 [01:48<00:50, 10.64it/s]"
     ]
    },
    {
     "name": "stdout",
     "output_type": "stream",
     "text": [
      "No valid year found for Braiding Sweetgrass by Kimmerer, Robin Wall\n",
      "No valid year found for *American Sonnets by Stern, Gerald\n",
      "No valid year found for *Everyday Mojo by Komunyakaa, Yusef\n"
     ]
    },
    {
     "name": "stderr",
     "output_type": "stream",
     "text": [
      "\r",
      "Processing books:  60%|█████████████▎        | 814/1346 [01:49<01:04,  8.19it/s]"
     ]
    },
    {
     "name": "stdout",
     "output_type": "stream",
     "text": [
      "No valid year found for Zong! by Philip, M. NourbeSe\n",
      "No valid year found for *America by Strauss, Zoe\n",
      "No valid year found for The Good Terrorist by Lessing, Doris\n"
     ]
    },
    {
     "name": "stderr",
     "output_type": "stream",
     "text": [
      "\r",
      "Processing books:  61%|█████████████▎        | 816/1346 [01:49<00:56,  9.38it/s]"
     ]
    },
    {
     "name": "stdout",
     "output_type": "stream",
     "text": [
      "No valid year found for The Little Edges by Moten, Fred\n",
      "No valid year found for Edith Wharton: A Biography by Lewis, R.W.B.\n",
      "No valid year found for *Imporving Passions: Sentimental Aesthetics and American Film by Burnetts, Charles\n"
     ]
    },
    {
     "name": "stderr",
     "output_type": "stream",
     "text": [
      "\r",
      "Processing books:  61%|█████████████▍        | 819/1346 [01:49<00:53,  9.89it/s]"
     ]
    },
    {
     "name": "stdout",
     "output_type": "stream",
     "text": [
      "No valid year found for Tar Beach  by Ringgold, Faith\n"
     ]
    },
    {
     "name": "stderr",
     "output_type": "stream",
     "text": [
      "Processing books:  61%|█████████████▍        | 825/1346 [01:50<00:39, 13.13it/s]"
     ]
    },
    {
     "name": "stdout",
     "output_type": "stream",
     "text": [
      "No valid year found for Playing in the Dark by Morrison, Toni\n",
      "No valid year found for *Fast Animal by Seibles, Tim\n",
      "No valid year found for *Almost Midnight by Belton, Don\n",
      "No valid year found for Black Looks by hooks, bell\n",
      "No valid year found for Race: A Theological Account by Carter, J. Kameron\n",
      "No valid year found for *Lettermen by Everson, Kevin Jerome\n",
      "No valid year found for Regarding the Pain of Others by Sontag, Susan\n"
     ]
    },
    {
     "name": "stderr",
     "output_type": "stream",
     "text": [
      "\r",
      "Processing books:  61%|█████████████▌        | 827/1346 [01:50<00:41, 12.65it/s]"
     ]
    },
    {
     "name": "stdout",
     "output_type": "stream",
     "text": [
      "No valid year found for To See The Earth Beefore the End of the World by Roberson, Ed\n"
     ]
    },
    {
     "name": "stderr",
     "output_type": "stream",
     "text": [
      "\r",
      "Processing books:  62%|█████████████▌        | 829/1346 [01:50<00:49, 10.37it/s]"
     ]
    },
    {
     "name": "stdout",
     "output_type": "stream",
     "text": [
      "No valid year found for *A Fourtune for Your Disaster by Abdurraqib, Hanif\n",
      "No valid year found for *Almost Midnight by Belton, Don\n",
      "No valid year found for The Shape of Things by Weems, Carrie Mae\n",
      "No valid year found for Powerman and Iron Fist by Goodwin, Archie\n"
     ]
    },
    {
     "name": "stderr",
     "output_type": "stream",
     "text": [
      "Processing books:  62%|█████████████▋        | 835/1346 [01:51<00:43, 11.67it/s]"
     ]
    },
    {
     "name": "stdout",
     "output_type": "stream",
     "text": [
      "No valid year found for Beloved by Morrison, Toni\n",
      "No valid year found for *Sugar Run Road by Ochester, Ed\n",
      "No valid year found for *The Real Cause For Your Absence by Bauer, Curtis\n",
      "No valid year found for *American Family: A Syndrome by Comer, Nandi\n",
      "No valid year found for *Third Voice by Kocher, Ruth Ellen\n",
      "No valid year found for *Starlight & Error by Bingham-Risher, Remica\n"
     ]
    },
    {
     "name": "stderr",
     "output_type": "stream",
     "text": [
      "\r",
      "Processing books:  62%|█████████████▋        | 838/1346 [01:51<00:36, 14.05it/s]"
     ]
    },
    {
     "name": "stdout",
     "output_type": "stream",
     "text": [
      "No valid year found for *Oceanic by Nezhukumatathil, Aimee\n"
     ]
    },
    {
     "name": "stderr",
     "output_type": "stream",
     "text": [
      "\r",
      "Processing books:  62%|█████████████▋        | 840/1346 [01:51<00:53,  9.47it/s]"
     ]
    },
    {
     "name": "stdout",
     "output_type": "stream",
     "text": [
      "No valid year found for *Ramshackle Ode by Leonard, Keith\n",
      "No valid year found for *The Catalyst by Mattingly, Chris\n",
      "No valid year found for *Watch Your Language by Hayes, Terrance\n"
     ]
    },
    {
     "name": "stderr",
     "output_type": "stream",
     "text": [
      "\r",
      "Processing books:  63%|█████████████▊        | 842/1346 [01:51<00:48, 10.32it/s]"
     ]
    },
    {
     "name": "stdout",
     "output_type": "stream",
     "text": [
      "No valid year found for *Uprock Headspin Scramble Dive by Rosal, Patrick\n"
     ]
    },
    {
     "name": "stderr",
     "output_type": "stream",
     "text": [
      "\r",
      "Processing books:  63%|█████████████▊        | 844/1346 [01:52<01:05,  7.72it/s]"
     ]
    },
    {
     "name": "stdout",
     "output_type": "stream",
     "text": [
      "No valid year found for *Unreconstructed by Ochester, Ed\n",
      "No valid year found for Feel Free by Smith, Zadie\n",
      "No valid year found for *Teeth by Girmay, Aracelis\n"
     ]
    },
    {
     "name": "stderr",
     "output_type": "stream",
     "text": [
      "\r",
      "Processing books:  63%|█████████████▊        | 846/1346 [01:52<01:16,  6.53it/s]"
     ]
    },
    {
     "name": "stdout",
     "output_type": "stream",
     "text": [
      "No valid year found for Catalog of Unabashed Gratitude by Gay, Ross\n"
     ]
    },
    {
     "name": "stderr",
     "output_type": "stream",
     "text": [
      "\r",
      "Processing books:  63%|█████████████▊        | 847/1346 [01:53<01:38,  5.09it/s]"
     ]
    },
    {
     "name": "stdout",
     "output_type": "stream",
     "text": [
      "No valid year found for The Near-Johannesburg Boy and Other Poems by Brooks, Gwendolyn\n"
     ]
    },
    {
     "name": "stderr",
     "output_type": "stream",
     "text": [
      "\r",
      "Processing books:  63%|█████████████▊        | 848/1346 [01:53<01:58,  4.19it/s]"
     ]
    },
    {
     "name": "stdout",
     "output_type": "stream",
     "text": [
      "No valid year found for *Kiss the Girls by Patterson, James\n",
      "No valid year found for *Earth Democracy by Shiva, Vandana\n"
     ]
    },
    {
     "name": "stderr",
     "output_type": "stream",
     "text": [
      "Processing books:  63%|█████████████▉        | 853/1346 [01:53<01:06,  7.42it/s]"
     ]
    },
    {
     "name": "stdout",
     "output_type": "stream",
     "text": [
      "No valid year found for *Cultural Amnesia by James, Clive\n",
      "No valid year found for *Annie John by Kincaid, Jamaica\n",
      "No valid year found for The Book of Delights by Gay, Ross\n",
      "No valid year found for Waiting for Godot by Beckett, Samuel\n"
     ]
    },
    {
     "name": "stderr",
     "output_type": "stream",
     "text": [
      "Processing books:  64%|█████████████▉        | 856/1346 [01:54<01:11,  6.82it/s]"
     ]
    },
    {
     "name": "stdout",
     "output_type": "stream",
     "text": [
      "No valid year found for Collected Poems of Robert Hayden by Hayden, Robert\n",
      "No valid year found for Collected Poems of Lucille Clifton by Clifton, Lucille\n",
      "No valid year found for *Binding: A Preperation by Alex Chambers by Chambers, Alex\n",
      "No valid year found for Frog and Toad Are Friends by Lobel, Arnold\n"
     ]
    },
    {
     "name": "stderr",
     "output_type": "stream",
     "text": [
      "Processing books:  64%|██████████████        | 861/1346 [01:55<01:04,  7.50it/s]"
     ]
    },
    {
     "name": "stdout",
     "output_type": "stream",
     "text": [
      "No valid year found for *Of Being Dispersed by White, Simone\n",
      "No valid year found for Things Fall Apart by Achebe, Chinua\n",
      "No valid year found for Capitalism: A Ghost Story by Roy, Arundhati\n",
      "No valid year found for Another Time by Auden, W.H.\n"
     ]
    },
    {
     "name": "stderr",
     "output_type": "stream",
     "text": [
      "\r",
      "Processing books:  64%|██████████████        | 863/1346 [01:55<01:01,  7.84it/s]"
     ]
    },
    {
     "name": "stdout",
     "output_type": "stream",
     "text": [
      "No valid year found for This is Your Mind on Plants by Pollan, Michael\n",
      "No valid year found for Atang: An Altar for Listening to the Beginning of the World by Rosal, Patrick\n"
     ]
    },
    {
     "name": "stderr",
     "output_type": "stream",
     "text": [
      "\r",
      "Processing books:  64%|██████████████▏       | 865/1346 [01:55<00:59,  8.02it/s]"
     ]
    },
    {
     "name": "stdout",
     "output_type": "stream",
     "text": [
      "No valid year found for Benito Cereno by Melville, Herman\n",
      "No valid year found for Sister Outsider by Lorde, Audre\n",
      "No valid year found for The Old Man and the Sea by Hemmingway, Ernest\n"
     ]
    },
    {
     "name": "stderr",
     "output_type": "stream",
     "text": [
      "\r",
      "Processing books:  64%|██████████████▏       | 867/1346 [01:55<01:05,  7.32it/s]"
     ]
    },
    {
     "name": "stdout",
     "output_type": "stream",
     "text": [
      "No valid year found for Black Music by Baraka, Amiri\n"
     ]
    },
    {
     "name": "stderr",
     "output_type": "stream",
     "text": [
      "Processing books:  65%|██████████████▏       | 870/1346 [01:56<00:59,  8.01it/s]"
     ]
    },
    {
     "name": "stdout",
     "output_type": "stream",
     "text": [
      "No valid year found for Hoop Roots by Wideman, John Edgar\n",
      "No valid year found for Beloved by Morrison, Toni\n",
      "No valid year found for A Christmas Carol by Dickens, Charles\n"
     ]
    },
    {
     "name": "stderr",
     "output_type": "stream",
     "text": [
      "\r",
      "Processing books:  65%|██████████████▎       | 872/1346 [01:56<01:01,  7.77it/s]"
     ]
    },
    {
     "name": "stdout",
     "output_type": "stream",
     "text": [
      "No valid year found for *Almost Midnight by Belton, Don\n",
      "No valid year found for The Autobiography of My Mother by Kincaid, Jamaica\n",
      "No valid year found for Au Natural: Ruminations on Nature by Bertuccio, Lucille\n",
      "No valid year found for *The Messenger by Valentine, Jean\n"
     ]
    },
    {
     "name": "stderr",
     "output_type": "stream",
     "text": [
      "Processing books:  65%|██████████████▎       | 875/1346 [01:56<00:59,  7.95it/s]"
     ]
    },
    {
     "name": "stdout",
     "output_type": "stream",
     "text": [
      "No valid year found for Leaves of Grass by Whitman, Walt\n",
      "No valid year found for The Souls of Black Folks by Du Bois, W.E.B\n"
     ]
    },
    {
     "name": "stderr",
     "output_type": "stream",
     "text": [
      "Processing books:  65%|██████████████▎       | 878/1346 [01:57<01:05,  7.11it/s]"
     ]
    },
    {
     "name": "stdout",
     "output_type": "stream",
     "text": [
      "No valid year found for Wayward Lives, Beautiful Experiments: Intimate Histories of Social Upheaval by Hartman, Saidiya\n",
      "No valid year found for *Graiding Sweetgrass by Kimmerer, Robin Wall\n",
      "No valid year found for The Illiad by Homer\n"
     ]
    },
    {
     "name": "stderr",
     "output_type": "stream",
     "text": [
      "\r",
      "Processing books:  65%|██████████████▍       | 880/1346 [01:57<00:59,  7.79it/s]"
     ]
    },
    {
     "name": "stdout",
     "output_type": "stream",
     "text": [
      "No valid year found for *The Complete Poems of Emily Dickinson by Dickinson, Emily\n"
     ]
    },
    {
     "name": "stderr",
     "output_type": "stream",
     "text": [
      "Processing books:  66%|██████████████▍       | 882/1346 [01:57<01:05,  7.10it/s]"
     ]
    },
    {
     "name": "stdout",
     "output_type": "stream",
     "text": [
      "No valid year found for Vibes from the Scribes by The Last Poets\n",
      "No valid year found for Gene Smith's Sink by Stephenson, Sam\n",
      "No valid year found for The Undercommons by Moten, Fred and Stefano Harney\n"
     ]
    },
    {
     "name": "stderr",
     "output_type": "stream",
     "text": [
      "\r",
      "Processing books:  66%|██████████████▍       | 884/1346 [01:58<01:09,  6.64it/s]"
     ]
    },
    {
     "name": "stdout",
     "output_type": "stream",
     "text": [
      "No valid year found for The Mushroom at the End of the World: On The Possibility of Life in Capitalist Ruins by Tsing, Anna\n",
      "No valid year found for The Gift by Hyde, Lewis\n"
     ]
    },
    {
     "name": "stderr",
     "output_type": "stream",
     "text": [
      "Processing books:  66%|██████████████▌       | 888/1346 [01:58<00:58,  7.86it/s]"
     ]
    },
    {
     "name": "stdout",
     "output_type": "stream",
     "text": [
      "No valid year found for Soccer in Sun and Shadow by Galeano, Eduardo\n",
      "No valid year found for Black Reconstruction by Du Bois, W.E.B\n",
      "No valid year found for All Incomplete by Moten, Fred and Stefano Harney\n",
      "No valid year found for *Josheph Cornell's Theater of the Mind: Selected Diaries, Letters and Files by Cornell, Joseph\n"
     ]
    },
    {
     "name": "stderr",
     "output_type": "stream",
     "text": [
      "Processing books:  66%|██████████████▌       | 894/1346 [01:59<00:34, 13.00it/s]"
     ]
    },
    {
     "name": "stdout",
     "output_type": "stream",
     "text": [
      "No valid year found for The One Straw Revolution: An Introduction to Natural Farming by Fukuoka, Masanobu\n",
      "No valid year found for The Odyssey by Homer\n",
      "No valid year found for Between Worlds: The Art of Bill Traylor by Traylor, Bill\n",
      "No valid year found for Bullshit Jobs by Graeber, David\n",
      "No valid year found for *Wishbone by Share, Don\n",
      "No valid year found for *Julius Caesar by Shakespeare, William\n"
     ]
    },
    {
     "name": "stderr",
     "output_type": "stream",
     "text": [
      "Processing books:  67%|██████████████▋       | 898/1346 [01:59<00:30, 14.62it/s]"
     ]
    },
    {
     "name": "stdout",
     "output_type": "stream",
     "text": [
      "No valid year found for The Black Agenda by Ford, Glen\n",
      "No valid year found for Bartleby, The Scrivener by Melville, Herman\n",
      "No valid year found for *The Injustice of Place: Uncovering the Legacy of Poverty in America by Hedges, Chris\n"
     ]
    },
    {
     "name": "stderr",
     "output_type": "stream",
     "text": [
      "\r",
      "Processing books:  67%|██████████████▋       | 900/1346 [01:59<00:50,  8.77it/s]"
     ]
    },
    {
     "name": "stdout",
     "output_type": "stream",
     "text": [
      "No valid year found for *The Undertaker's Daughter by Derricotte, Toi\n",
      "No valid year found for *A Sand Book by Reines, Ariana\n",
      "No valid year found for *Here is the Sweet Hand by harris, francine j.\n",
      "No valid year found for *Ban En Banlieue by Kapil, Bhanu\n"
     ]
    },
    {
     "name": "stderr",
     "output_type": "stream",
     "text": [
      "\r",
      "Processing books:  67%|██████████████▊       | 904/1346 [02:00<00:40, 11.00it/s]"
     ]
    },
    {
     "name": "stdout",
     "output_type": "stream",
     "text": [
      "No valid year found for Hoop Roots by Wideman, John Edgar\n",
      "No valid year found for *Whereas by Soldier, Layli Long\n"
     ]
    },
    {
     "name": "stderr",
     "output_type": "stream",
     "text": [
      "\r",
      "Processing books:  67%|██████████████▊       | 906/1346 [02:00<00:40, 10.76it/s]"
     ]
    },
    {
     "name": "stdout",
     "output_type": "stream",
     "text": [
      "No valid year found for Prejudential: Black America and the Presidents by Kimberley, Margaret\n",
      "No valid year found for *Or, on Being the Other Woman by White, Simone\n",
      "No valid year found for *A Very Large Array by Osman, Jena\n"
     ]
    },
    {
     "name": "stderr",
     "output_type": "stream",
     "text": [
      "Processing books:  68%|██████████████▊       | 910/1346 [02:00<00:49,  8.80it/s]"
     ]
    },
    {
     "name": "stdout",
     "output_type": "stream",
     "text": [
      "No valid year found for *A Working Life by Myles, Eileen\n",
      "No valid year found for *Calamities by Gladman, Renee\n",
      "No valid year found for *American Sonnets for My Past and Future Assassin by Hayes, Terrance\n",
      "No valid year found for *Changing, Changin by Girmay, Aracelis\n"
     ]
    },
    {
     "name": "stderr",
     "output_type": "stream",
     "text": [
      "\r",
      "Processing books:  68%|██████████████▉       | 912/1346 [02:00<00:46,  9.24it/s]"
     ]
    },
    {
     "name": "stdout",
     "output_type": "stream",
     "text": [
      "No valid year found for *Things That I Do in the Dark by Jordan, June\n",
      "No valid year found for *100 Love Sonnets by Neruda, Paublo\n"
     ]
    },
    {
     "name": "stderr",
     "output_type": "stream",
     "text": [
      "\r",
      "Processing books:  68%|██████████████▉       | 914/1346 [02:01<01:18,  5.54it/s]"
     ]
    },
    {
     "name": "stdout",
     "output_type": "stream",
     "text": [
      "No valid year found for *Where Silence Reigns by Rilke, Rainer Maria\n",
      "No valid year found for *Blessing the Boats by Clifton, Lucille\n",
      "No valid year found for Fatheralong by Wideman, John Edgar\n"
     ]
    },
    {
     "name": "stderr",
     "output_type": "stream",
     "text": [
      "\r",
      "Processing books:  68%|██████████████▉       | 917/1346 [02:02<01:11,  5.97it/s]"
     ]
    },
    {
     "name": "stdout",
     "output_type": "stream",
     "text": [
      "No valid year found for *Multiply/Divide: On the American Real and Surreal by Walters, Wendy S.\n",
      "No valid year found for *The Essential Etheridge Knight by Knight, Etheridge\n"
     ]
    },
    {
     "name": "stderr",
     "output_type": "stream",
     "text": [
      "\r",
      "Processing books:  68%|███████████████       | 919/1346 [02:02<01:06,  6.38it/s]"
     ]
    },
    {
     "name": "stdout",
     "output_type": "stream",
     "text": [
      "No valid year found for *White Girls by Als, Hilton\n",
      "No valid year found for Sho by Kearney, Douglas\n"
     ]
    },
    {
     "name": "stderr",
     "output_type": "stream",
     "text": [
      "\r",
      "Processing books:  68%|███████████████       | 921/1346 [02:02<01:01,  6.86it/s]"
     ]
    },
    {
     "name": "stdout",
     "output_type": "stream",
     "text": [
      "No valid year found for *The Argonauts by Nelson, Maggie\n"
     ]
    },
    {
     "name": "stderr",
     "output_type": "stream",
     "text": [
      "Processing books:  69%|███████████████       | 925/1346 [02:03<00:50,  8.34it/s]"
     ]
    },
    {
     "name": "stdout",
     "output_type": "stream",
     "text": [
      "No valid year found for *Madness, Rack, and Honey by Ruefle, Mary\n",
      "No valid year found for *Syllabus by Barry, Lynda\n",
      "No valid year found for *For Love of Comon Words by Scafidi, Steve\n",
      "No valid year found for *Negroland by Jefferson, Margo\n"
     ]
    },
    {
     "name": "stderr",
     "output_type": "stream",
     "text": [
      "\r",
      "Processing books:  69%|███████████████▏      | 927/1346 [02:03<00:51,  8.14it/s]"
     ]
    },
    {
     "name": "stdout",
     "output_type": "stream",
     "text": [
      "No valid year found for *The Winter Sun by Howe, Frannie\n",
      "No valid year found for Metamorphoses by Ovid\n",
      "No valid year found for The Portable Edgar Allan Poe by Poe, Edgar Allen\n"
     ]
    },
    {
     "name": "stderr",
     "output_type": "stream",
     "text": [
      "Processing books:  69%|███████████████▏      | 932/1346 [02:03<00:33, 12.49it/s]"
     ]
    },
    {
     "name": "stdout",
     "output_type": "stream",
     "text": [
      "No valid year found for Powerman and Iron Fist by Goodwin, Archie\n",
      "No valid year found for *Blessed as We Were by Stern, Gerald\n",
      "No valid year found for War Is a Force That Gives Us Meaning by Hedges, Chris\n",
      "No valid year found for Hamlet by Shakespeare, William\n",
      "No valid year found for The Vertical Interrogation of Strangers by Kapil, Bhanu\n"
     ]
    },
    {
     "name": "stderr",
     "output_type": "stream",
     "text": [
      "Processing books:  70%|███████████████▎      | 936/1346 [02:04<00:38, 10.53it/s]"
     ]
    },
    {
     "name": "stdout",
     "output_type": "stream",
     "text": [
      "No valid year found for Moby Dick by Melville, Herman\n",
      "No valid year found for Passing Through by Kunitz, Stanley\n",
      "No valid year found for New and Selected Poems of Thomas Lux: 1975-1995 by Lux, Thomas\n"
     ]
    },
    {
     "name": "stderr",
     "output_type": "stream",
     "text": [
      "\r",
      "Processing books:  70%|███████████████▎      | 938/1346 [02:04<00:33, 12.07it/s]"
     ]
    },
    {
     "name": "stdout",
     "output_type": "stream",
     "text": [
      "No valid year found for Thin Places by Kisner, Jordan\n",
      "No valid year found for *A Field Guide to Getting Lost by Solnit, Rebecca\n",
      "No valid year found for What the Living Do by Howe, Marie\n"
     ]
    },
    {
     "name": "stderr",
     "output_type": "stream",
     "text": [
      "\r",
      "Processing books:  70%|███████████████▎      | 940/1346 [02:04<00:40,  9.98it/s]"
     ]
    },
    {
     "name": "stdout",
     "output_type": "stream",
     "text": [
      "No valid year found for Full Catastrophe Living by Kabat-Zinn, Jon\n",
      "No valid year found for *Mathematical Development in Young Children: From children's ideas to classroom pracitice by Brizuela, Bárbara\n"
     ]
    },
    {
     "name": "stderr",
     "output_type": "stream",
     "text": [
      "Processing books:  70%|███████████████▍      | 943/1346 [02:05<01:01,  6.51it/s]"
     ]
    },
    {
     "name": "stdout",
     "output_type": "stream",
     "text": [
      "No valid year found for Beloved by Morrison, Toni\n",
      "No valid year found for A Little Devil in America: Notes in Praise of Black Performance by Abdurraqib, Hanif\n"
     ]
    },
    {
     "name": "stderr",
     "output_type": "stream",
     "text": [
      "\r",
      "Processing books:  70%|███████████████▍      | 944/1346 [02:05<01:07,  6.00it/s]"
     ]
    },
    {
     "name": "stdout",
     "output_type": "stream",
     "text": [
      "No valid year found for *Chaning Minds, If Not Hearts: Political remedies for racial conflict by Glaser, James\n"
     ]
    },
    {
     "name": "stderr",
     "output_type": "stream",
     "text": [
      "Processing books:  70%|███████████████▍      | 946/1346 [02:05<01:14,  5.39it/s]"
     ]
    },
    {
     "name": "stdout",
     "output_type": "stream",
     "text": [
      "No valid year found for Danny and the Dinosaur by Hoff, Syd\n",
      "No valid year found for *Fredoom Dreams by Kelley, Robin\n"
     ]
    },
    {
     "name": "stderr",
     "output_type": "stream",
     "text": [
      "\r",
      "Processing books:  70%|███████████████▍      | 947/1346 [02:06<01:06,  5.99it/s]"
     ]
    },
    {
     "name": "stdout",
     "output_type": "stream",
     "text": [
      "No valid year found for *Writing the Black Revolutionary Diva: Women's Subjectivity and the Decolonizing Text (Blacks in the Diaspora) by Brown, Kimberly Nichele\n",
      "No valid year found for *The Repeating body by Brown, Kimberly Juanita\n"
     ]
    },
    {
     "name": "stderr",
     "output_type": "stream",
     "text": [
      "Processing books:  71%|███████████████▌      | 951/1346 [02:06<01:08,  5.77it/s]"
     ]
    },
    {
     "name": "stdout",
     "output_type": "stream",
     "text": [
      "No valid year found for *A Fourtune for Your Disaster by Abdurraqib, Hanif\n",
      "No valid year found for *I've Been Meaning to Tell You: A Letter to My Daughter by Chariandy, David\n",
      "No valid year found for The Gathering of My Name by Eady, Cornelius\n",
      "No valid year found for *Gender and the Abjection of Blackness by Broeck, Sabine\n"
     ]
    },
    {
     "name": "stderr",
     "output_type": "stream",
     "text": [
      "\r",
      "Processing books:  71%|███████████████▌      | 954/1346 [02:07<00:50,  7.72it/s]"
     ]
    },
    {
     "name": "stdout",
     "output_type": "stream",
     "text": [
      "No valid year found for *Black Post-Blackness: The Black Arts Movement and the 21st Century Black Aesthetics by Crawford, Margo\n",
      "No valid year found for *Education and Democracy at the End: The Crisis of Sense by Di Paolantonio, Mario\n"
     ]
    },
    {
     "name": "stderr",
     "output_type": "stream",
     "text": [
      "Processing books:  71%|███████████████▋      | 956/1346 [02:07<00:59,  6.59it/s]"
     ]
    },
    {
     "name": "stdout",
     "output_type": "stream",
     "text": [
      "No valid year found for *Tropic Tendencies: Rhetoric, Popular Culture, and rhte Anglophone Carribean by Browne, Kevin\n",
      "No valid year found for *Becoming Human: Matter and Meaning in an Antiblack World by Jackson, Zakiyyah Iman\n",
      "No valid year found for *Under an African Sky by Hudson, Peter\n",
      "No valid year found for *Black Ghost of Empire by Manjapra, Kris\n"
     ]
    },
    {
     "name": "stderr",
     "output_type": "stream",
     "text": [
      "Processing books:  71%|███████████████▋      | 961/1346 [02:07<00:43,  8.94it/s]"
     ]
    },
    {
     "name": "stdout",
     "output_type": "stream",
     "text": [
      "No valid year found for *No Future by Edelman, Lee\n",
      "No valid year found for *Wicked Flesh: Black Women, Intimacy, and Freedom in the Atlantic World by Johnson, Jessica Marie\n",
      "No valid year found for *The Intimacies of Four Continents by Lowe, Lisa\n"
     ]
    },
    {
     "name": "stderr",
     "output_type": "stream",
     "text": [
      "Processing books:  72%|███████████████▋      | 963/1346 [02:08<00:45,  8.44it/s]"
     ]
    },
    {
     "name": "stdout",
     "output_type": "stream",
     "text": [
      "No valid year found for *Frottage: Frictions of Intimacy Across the Black Diaspora by Macharia, Keguro\n",
      "No valid year found for *Butch by Jones, Kima\n"
     ]
    },
    {
     "name": "stderr",
     "output_type": "stream",
     "text": [
      "\r",
      "Processing books:  72%|███████████████▊      | 964/1346 [02:08<01:31,  4.17it/s]"
     ]
    },
    {
     "name": "stdout",
     "output_type": "stream",
     "text": [
      "No valid year found for *Kontemporary Amerikan Poetry by Murillo, John\n",
      "No valid year found for *Strange Gourmets by Litvak, Joseph\n",
      "No valid year found for Image Matters: Archive, Photography, and the African Diaspora in Europe by Campt, Tina M.\n"
     ]
    },
    {
     "name": "stderr",
     "output_type": "stream",
     "text": [
      "\r",
      "Processing books:  72%|███████████████▊      | 967/1346 [02:09<01:06,  5.71it/s]"
     ]
    },
    {
     "name": "stdout",
     "output_type": "stream",
     "text": [
      "No valid year found for *The Amalgamation Waltz: Race, Performance, and the Ruses of Memory by Nyong'o, Tavia\n",
      "No valid year found for On Marronage: Ethical Confrontations with Anti-Blackness by Saucier, P. Khalil and Tyron P. Woods\n"
     ]
    },
    {
     "name": "stderr",
     "output_type": "stream",
     "text": [
      "Processing books:  72%|███████████████▊      | 971/1346 [02:09<00:54,  6.89it/s]"
     ]
    },
    {
     "name": "stdout",
     "output_type": "stream",
     "text": [
      "No valid year found for The Predicament of Blackness: Postcolonial Ghana and the Politics of Race by Pierre, JemimaNo valid year found for In the Break: The Aesthetics of the Black Radical Tradition by Moten, Fred\n",
      "\n",
      "No valid year found for *We Do This 'Til We Free Us by Kaba, Mariame\n"
     ]
    },
    {
     "name": "stderr",
     "output_type": "stream",
     "text": [
      "\r",
      "Processing books:  72%|███████████████▉      | 973/1346 [02:09<00:48,  7.69it/s]"
     ]
    },
    {
     "name": "stdout",
     "output_type": "stream",
     "text": [
      "No valid year found for *Semiautomatic by Shockley, Evie\n",
      "No valid year found for *The Development of Black Theater in America: From shadows to selves by Sanders, Leslie\n"
     ]
    },
    {
     "name": "stderr",
     "output_type": "stream",
     "text": [
      "\r",
      "Processing books:  72%|███████████████▉      | 974/1346 [02:09<00:46,  7.94it/s]"
     ]
    },
    {
     "name": "stdout",
     "output_type": "stream",
     "text": [
      "No valid year found for *Amalgamation Schemes: Antiblackness and the Critique of Multiracialism by Sexton, Jared\n",
      "No valid year found for *Dear Sicence and Other Stories by McKittrick, Katherine\n",
      "No valid year found for *Remembering Generations: Race and Family in Contemporary African American Fiction by Rushdy, Ashraf\n"
     ]
    },
    {
     "name": "stderr",
     "output_type": "stream",
     "text": [
      "Processing books:  73%|████████████████      | 979/1346 [02:10<00:37,  9.67it/s]"
     ]
    },
    {
     "name": "stdout",
     "output_type": "stream",
     "text": [
      "No valid year found for *Strolling in the Ruins by Smith, Faith\n",
      "No valid year found for *Identity, Political Freedom and Collective Responsibility  by Souffrant, Eddy\n",
      "No valid year found for *Pedagogy in the Novels of J.M. Coetzee: The Affect of Literature by Tarc, Aparna Mishra\n"
     ]
    },
    {
     "name": "stderr",
     "output_type": "stream",
     "text": [
      "\r",
      "Processing books:  73%|████████████████      | 981/1346 [02:10<00:32, 11.39it/s]"
     ]
    },
    {
     "name": "stdout",
     "output_type": "stream",
     "text": [
      "No valid year found for Black, White, and in Color by Spillers, Hortense\n",
      "No valid year found for Habes Viscus: Racializing Assemblages, Biopolitics, and Black Feminist Theories of the Human by Weheliye, Alexander\n",
      "No valid year found for *Homecoming: the Story of African-American Farmers by Gilbert, Charlene\n"
     ]
    },
    {
     "name": "stderr",
     "output_type": "stream",
     "text": [
      "\r",
      "Processing books:  73%|████████████████      | 983/1346 [02:10<00:48,  7.46it/s]"
     ]
    },
    {
     "name": "stdout",
     "output_type": "stream",
     "text": [
      "No valid year found for *A Not So Quiet Nocturne by Williams, Jaye Austin\n",
      "No valid year found for Zong! by Philip, M. NourbeSe\n",
      "No valid year found for *Soundworks: Race, Sound, and Poetry in Production by Reed, Anthony\n"
     ]
    },
    {
     "name": "stderr",
     "output_type": "stream",
     "text": [
      "Processing books:  73%|████████████████▏     | 987/1346 [02:11<00:41,  8.64it/s]"
     ]
    },
    {
     "name": "stdout",
     "output_type": "stream",
     "text": [
      "No valid year found for The Long Emancipation by Walcott, Rinaldo\n",
      "No valid year found for The Civil Contract of Photography by Azoulay, Ariella\n"
     ]
    },
    {
     "name": "stderr",
     "output_type": "stream",
     "text": [
      "\r",
      "Processing books:  73%|████████████████▏     | 989/1346 [02:11<00:42,  8.38it/s]"
     ]
    },
    {
     "name": "stdout",
     "output_type": "stream",
     "text": [
      "No valid year found for Spectres of the Atlantics: Finance Capital, Slavery, and the Philosophy of History by Baucom, Ian\n",
      "No valid year found for Fault Lines: Views Across Haiti's Divide by Bell, Beverly\n"
     ]
    },
    {
     "name": "stderr",
     "output_type": "stream",
     "text": [
      "Processing books:  74%|████████████████▏     | 991/1346 [02:11<00:51,  6.96it/s]"
     ]
    },
    {
     "name": "stdout",
     "output_type": "stream",
     "text": [
      "No valid year found for The Writting of the Disaster by Blanchot, Maurice\n",
      "No valid year found for Black Jacks: African Ameircan Seaman in the Age of Sail by Bolster, W. Jeffrey\n",
      "No valid year found for *Dissociative States: The Metaphysics of Blackness and the Psychic Afterlife of Slavery by Terrefe, Selamawit\n"
     ]
    },
    {
     "name": "stderr",
     "output_type": "stream",
     "text": [
      "Processing books:  74%|████████████████▏     | 994/1346 [02:12<00:48,  7.27it/s]"
     ]
    },
    {
     "name": "stdout",
     "output_type": "stream",
     "text": [
      "No valid year found for Love Enough by Brand, Dionne\n",
      "No valid year found for Inventory by Brand, Dionne\n",
      "No valid year found for Ossuaries by Brand, Dionne\n"
     ]
    },
    {
     "name": "stderr",
     "output_type": "stream",
     "text": [
      "\r",
      "Processing books:  74%|████████████████▎     | 996/1346 [02:12<00:53,  6.57it/s]"
     ]
    },
    {
     "name": "stdout",
     "output_type": "stream",
     "text": [
      "No valid year found for The Blue Clerk by Brand, Dionne\n",
      "No valid year found for A Map to the Door of No Return: Notes to Belonging by Brand, Dionne\n",
      "No valid year found for DS (2) Dreamstories by Brathwaite, Kamau\n"
     ]
    },
    {
     "name": "stderr",
     "output_type": "stream",
     "text": [
      "\r",
      "Processing books:  74%|████████████████▎     | 999/1346 [02:13<00:45,  7.57it/s]"
     ]
    },
    {
     "name": "stdout",
     "output_type": "stream",
     "text": [
      "No valid year found for Middle Passages by Brathwaite, Kamau\n",
      "No valid year found for *Afropessimism by Wilderson III, Frank B.\n"
     ]
    },
    {
     "name": "stderr",
     "output_type": "stream",
     "text": [
      "\r",
      "Processing books:  74%|███████████████▌     | 1001/1346 [02:13<00:42,  8.06it/s]"
     ]
    },
    {
     "name": "stdout",
     "output_type": "stream",
     "text": [
      "No valid year found for Breathing Race into the Machine: The Suprising Career of the Spirometer from Plantation to Growth by Braun, Lundy\n",
      "No valid year found for Between the World and Me by Coates, Ta-Nehisi\n"
     ]
    },
    {
     "name": "stderr",
     "output_type": "stream",
     "text": [
      "Processing books:  75%|███████████████▋     | 1006/1346 [02:13<00:37,  9.02it/s]"
     ]
    },
    {
     "name": "stdout",
     "output_type": "stream",
     "text": [
      "No valid year found for Krik? Krak! by Danticat, Edwidge\n",
      "No valid year found for Bound to Appear: Art, Slavery, and the Site of Blackness in Multicultural America by Copeland, Huey\n",
      "No valid year found for Slaves of the State: Black Incarceration from the Chain Gang to the Penitentiary  by Childs, Dennis\n",
      "No valid year found for The Reaper's Garden: Death and Power in the World of Atlantic Slavery by Brown, Vincent\n"
     ]
    },
    {
     "name": "stderr",
     "output_type": "stream",
     "text": [
      "\r",
      "Processing books:  75%|███████████████▋     | 1008/1346 [02:14<00:36,  9.20it/s]"
     ]
    },
    {
     "name": "stdout",
     "output_type": "stream",
     "text": [
      "No valid year found for Daughters of the Dust: The Making of an African American Woman's Film by Dash, Julie\n",
      "No valid year found for *Selvage by Siklosi, Kate\n"
     ]
    },
    {
     "name": "stderr",
     "output_type": "stream",
     "text": [
      "Processing books:  75%|███████████████▊     | 1010/1346 [02:14<00:41,  8.14it/s]"
     ]
    },
    {
     "name": "stdout",
     "output_type": "stream",
     "text": [
      "No valid year found for Conversations with Nathaniel Mackey by Brathwaite, Kamau\n",
      "No valid year found for Feeding the Ghosts by D'Augiar, Fred\n"
     ]
    },
    {
     "name": "stderr",
     "output_type": "stream",
     "text": [
      "\r",
      "Processing books:  75%|███████████████▊     | 1012/1346 [02:14<00:34,  9.58it/s]"
     ]
    },
    {
     "name": "stdout",
     "output_type": "stream",
     "text": [
      "No valid year found for Auschwitz and After by Delbo, Charlotte\n",
      "No valid year found for Narrative of the LIfe of Frederick Douglass, an American Slave, Written By Himself by Douglas, Frederick\n"
     ]
    },
    {
     "name": "stderr",
     "output_type": "stream",
     "text": [
      "Processing books:  75%|███████████████▊     | 1014/1346 [02:14<00:46,  7.20it/s]"
     ]
    },
    {
     "name": "stdout",
     "output_type": "stream",
     "text": [
      "No valid year found for My Bondage and My Freedom by Douglas, Frederick\n",
      "No valid year found for Routes and Roots: Navigating Carribbean and Pacific Island Literatures by DeLoughrey, Elizabeth M.\n"
     ]
    },
    {
     "name": "stderr",
     "output_type": "stream",
     "text": [
      "\r",
      "Processing books:  75%|███████████████▊     | 1016/1346 [02:15<00:37,  8.74it/s]"
     ]
    },
    {
     "name": "stdout",
     "output_type": "stream",
     "text": [
      "No valid year found for How to See a Work of Art in Total Darkness by English, Darby\n",
      "No valid year found for Invisible Man by Ellison, Ralph\n",
      "No valid year found for Toward the African Revolution by Fanon, Frantz\n"
     ]
    },
    {
     "name": "stderr",
     "output_type": "stream",
     "text": [
      "Processing books:  76%|███████████████▉     | 1020/1346 [02:15<00:33,  9.69it/s]"
     ]
    },
    {
     "name": "stdout",
     "output_type": "stream",
     "text": [
      "No valid year found for Children of Paradise by D'Augiar, Fred\n",
      "No valid year found for Brutal Imagination by Eady, Cornelius\n",
      "No valid year found for A Dictionary of Literary Devices: Gradus, AZ by Dupriez, B.M.\n"
     ]
    },
    {
     "name": "stderr",
     "output_type": "stream",
     "text": [
      "\r",
      "Processing books:  76%|███████████████▉     | 1022/1346 [02:15<00:45,  7.09it/s]"
     ]
    },
    {
     "name": "stdout",
     "output_type": "stream",
     "text": [
      "No valid year found for Bury the Chains: Prophets and Rebels in the Fight to Free an Empire's Slaves by Hochschild, Adam\n",
      "No valid year found for The Undercommons by Moten, Fred and Stefano Harney\n"
     ]
    },
    {
     "name": "stderr",
     "output_type": "stream",
     "text": [
      "\r",
      "Processing books:  76%|███████████████▉     | 1025/1346 [02:16<00:37,  8.61it/s]"
     ]
    },
    {
     "name": "stdout",
     "output_type": "stream",
     "text": [
      "No valid year found for Lose our Mother: A journey along the Atlantic Slave Route by Hartman, Saidiya\n",
      "No valid year found for Passed On: African American Mourning Stories: A Memorial by Holloway, Karla\n",
      "No valid year found for The Gift by Hyde, Lewis\n"
     ]
    },
    {
     "name": "stderr",
     "output_type": "stream",
     "text": [
      "\r",
      "Processing books:  76%|████████████████     | 1026/1346 [02:16<00:37,  8.62it/s]"
     ]
    },
    {
     "name": "stdout",
     "output_type": "stream",
     "text": [
      "No valid year found for Claire of the Sea Light by Danticat, Edwidge\n",
      "No valid year found for Fables from the Women's Quarters by Harris, Claire\n",
      "No valid year found for Ghostly Matters: Haunting and the Sociological Imagination by Gordon, Avery\n"
     ]
    },
    {
     "name": "stderr",
     "output_type": "stream",
     "text": [
      "Processing books:  77%|████████████████     | 1031/1346 [02:16<00:30, 10.47it/s]"
     ]
    },
    {
     "name": "stdout",
     "output_type": "stream",
     "text": [
      "No valid year found for Notes on the State of Virginia by Jefferson, Thomas\n",
      "No valid year found for In Search of the Black Fantastic: Politics and Popular Culture in the Post-Civil Rights Era by Iton, Richard\n",
      "No valid year found for Scenes from Subjection: Terror, Slavery, and Self-Making in Nineteenth Centry America by Hartman, Saidiya\n",
      "No valid year found for Some of Us Did Not Die by Jordan, June\n"
     ]
    },
    {
     "name": "stderr",
     "output_type": "stream",
     "text": [
      "\r",
      "Processing books:  77%|████████████████     | 1033/1346 [02:16<00:27, 11.38it/s]"
     ]
    },
    {
     "name": "stdout",
     "output_type": "stream",
     "text": [
      "No valid year found for Incidents in the life of a Slave Girl by Jacobs, Harriet A.\n"
     ]
    },
    {
     "name": "stderr",
     "output_type": "stream",
     "text": [
      "\r",
      "Processing books:  77%|████████████████▏    | 1035/1346 [02:17<00:38,  8.08it/s]"
     ]
    },
    {
     "name": "stdout",
     "output_type": "stream",
     "text": [
      "No valid year found for Thirsty by Brand, Dionne\n",
      "No valid year found for Annotations by Keene, John\n",
      "No valid year found for The Right ot Look: A Counterhistory of Visuality by Mirzoeff, Nicholas\n"
     ]
    },
    {
     "name": "stderr",
     "output_type": "stream",
     "text": [
      "\r",
      "Processing books:  77%|████████████████▏    | 1037/1346 [02:17<00:41,  7.49it/s]"
     ]
    },
    {
     "name": "stdout",
     "output_type": "stream",
     "text": [
      "No valid year found for Sweetness and Power: The Place of Sugar in Modern History by Mintz, Sidney\n",
      "No valid year found for Cutting a Figure: Fashioning Black Portraiture by Powell, Richard\n"
     ]
    },
    {
     "name": "stderr",
     "output_type": "stream",
     "text": [
      "\r",
      "Processing books:  77%|████████████████▏    | 1039/1346 [02:17<00:42,  7.20it/s]"
     ]
    },
    {
     "name": "stdout",
     "output_type": "stream",
     "text": [
      "No valid year found for Fish Story by Sekula, Allan\n",
      "No valid year found for Slavery and the Enlightenmen in British Atlantic, 1750-1807 by Roberts, Justin\n"
     ]
    },
    {
     "name": "stderr",
     "output_type": "stream",
     "text": [
      "\r",
      "Processing books:  77%|████████████████▏    | 1041/1346 [02:18<00:39,  7.77it/s]"
     ]
    },
    {
     "name": "stdout",
     "output_type": "stream",
     "text": [
      "No valid year found for In the House that Race Built by Morrison, Toni and Angela Davis\n",
      "No valid year found for Birthing a Slave: Motherhood and Medicine in the Antebellus South by Schwartz, Marie Jenkins\n"
     ]
    },
    {
     "name": "stderr",
     "output_type": "stream",
     "text": [
      "\r",
      "Processing books:  77%|████████████████▎    | 1043/1346 [02:18<00:44,  6.74it/s]"
     ]
    },
    {
     "name": "stdout",
     "output_type": "stream",
     "text": [
      "No valid year found for Monstrous Intimacies: Making Post-Slavery Subjects by Sharpe, Christina\n",
      "No valid year found for Saltwater Slavery: A Middle Passage from Africa to American Diaspora by Smallwood, Stephanie\n"
     ]
    },
    {
     "name": "stderr",
     "output_type": "stream",
     "text": [
      "\r",
      "Processing books:  78%|████████████████▎    | 1045/1346 [02:18<00:44,  6.81it/s]"
     ]
    },
    {
     "name": "stdout",
     "output_type": "stream",
     "text": [
      "No valid year found for Nobody is Supposed to Know: Black Sexuality on the Down Low by Snorton, C. RileyNo valid year found for Citizen: An American Lyric by Rankine, Claudia\n",
      "\n",
      "No valid year found for Thiefing Sugar: Eroticism between Women in Carribbean Literature by Tinsley, Omise'eke Natash\n",
      "No valid year found for Beyond Katrina: A Meditation on the Mississippi Gulf Coast by Threthewey, Natasha\n"
     ]
    },
    {
     "name": "stderr",
     "output_type": "stream",
     "text": [
      "\r",
      "Processing books:  78%|████████████████▎    | 1049/1346 [02:18<00:30,  9.71it/s]"
     ]
    },
    {
     "name": "stdout",
     "output_type": "stream",
     "text": [
      "No valid year found for Laboring Women: Reproduction and Gender in New World Slavery by Morgan, Jennifer\n",
      "No valid year found for Who Speaks for Margaret Garner by Reinhardt, Mark\n"
     ]
    },
    {
     "name": "stderr",
     "output_type": "stream",
     "text": [
      "Processing books:  78%|████████████████▍    | 1053/1346 [02:19<00:29,  9.90it/s]"
     ]
    },
    {
     "name": "stdout",
     "output_type": "stream",
     "text": [
      "No valid year found for The Zong: A Massacre, the Law and the End of Slavery by Walvin, James\n",
      "No valid year found for Silencing the Past: Power and the Production of History by Trouillot, Michel-Rolph\n",
      "No valid year found for Love, Anger, Madness: A Haitian Triptych by Vieux-Chauvet, Marie\n"
     ]
    },
    {
     "name": "stderr",
     "output_type": "stream",
     "text": [
      "\r",
      "Processing books:  78%|████████████████▍    | 1055/1346 [02:19<00:34,  8.47it/s]"
     ]
    },
    {
     "name": "stdout",
     "output_type": "stream",
     "text": [
      "No valid year found for Black Boy: A Record of Childhood and Youth by Wright, Richard\n",
      "No valid year found for Collected Poems, 1948-1984 by Walcott, Derek\n",
      "No valid year found for Memory for Forgetting by Darwish, Mahmoud\n",
      "No valid year found for Red, White, and Black: Cinema and hte Structure of U.S. Antagonisms by Wilderson, Frank\n"
     ]
    },
    {
     "name": "stderr",
     "output_type": "stream",
     "text": [
      "\r",
      "Processing books:  79%|████████████████▌    | 1058/1346 [02:19<00:27, 10.56it/s]"
     ]
    },
    {
     "name": "stdout",
     "output_type": "stream",
     "text": [
      "No valid year found for The Grey Album: On the Blackness of Blackness by Young, Kevin\n",
      "No valid year found for Ardency: A Chronicle of the Amistad Rebels by Young, Kevin\n"
     ]
    },
    {
     "name": "stderr",
     "output_type": "stream",
     "text": [
      "\r",
      "Processing books:  79%|████████████████▌    | 1060/1346 [02:20<00:32,  8.92it/s]"
     ]
    },
    {
     "name": "stdout",
     "output_type": "stream",
     "text": [
      "No valid year found for The Slave Ship: A Human History by Rediker, Marcus\n",
      "No valid year found for The Black Jacobians by James, C.L.R.\n",
      "No valid year found for Flash of the Spirit: African and AFro-American Art and PHilosophy by Thompson, Robert Farris\n"
     ]
    },
    {
     "name": "stderr",
     "output_type": "stream",
     "text": [
      "Processing books:  79%|████████████████▌    | 1065/1346 [02:20<00:27, 10.11it/s]"
     ]
    },
    {
     "name": "stdout",
     "output_type": "stream",
     "text": [
      "No valid year found for *Poems of Phillis Wheatley by Wheatley, Phillis\n",
      "No valid year found for None of Us Will Return by Delbo, Charlotte\n",
      "No valid year found for At the Full and Change of the Moon by Brand, Dionne\n"
     ]
    },
    {
     "name": "stderr",
     "output_type": "stream",
     "text": [
      "\r",
      "Processing books:  79%|████████████████▋    | 1067/1346 [02:20<00:25, 11.09it/s]"
     ]
    },
    {
     "name": "stdout",
     "output_type": "stream",
     "text": [
      "No valid year found for *The BUGS Book: A Practical Introduction by Best, Nicky\n",
      "No valid year found for The Scarlet Letter by Hawthorne, Nathaniel\n"
     ]
    },
    {
     "name": "stderr",
     "output_type": "stream",
     "text": [
      "Processing books:  80%|████████████████▋    | 1071/1346 [02:21<00:26, 10.30it/s]"
     ]
    },
    {
     "name": "stdout",
     "output_type": "stream",
     "text": [
      "No valid year found for American Hunger by Wright, Richard\n",
      "No valid year found for *Principles of Statistical Inference by Cox, David\n",
      "No valid year found for Embodying Black Experience: Stillness, Critical Memory, and the Black Body by Young, Harvey\n",
      "No valid year found for *Making Mathematics Count by Smith, Adrian\n"
     ]
    },
    {
     "name": "stderr",
     "output_type": "stream",
     "text": [
      "Processing books:  80%|████████████████▊    | 1075/1346 [02:21<00:21, 12.34it/s]"
     ]
    },
    {
     "name": "stdout",
     "output_type": "stream",
     "text": [
      "No valid year found for *Chance Encounters: A First Course in Data Analysis and Inference by Seber, George and Chris Wild\n",
      "No valid year found for *Active Statistics by Gelman, Andrew and Aki Vehtari\n",
      "No valid year found for *A Handbook of Small Data Sets by Hand, David, Fergus Daly, Kevin McConway, D. Lunn, and E. Ostrowski\n",
      "No valid year found for *Pensées by Pascal, Blaise\n"
     ]
    },
    {
     "name": "stderr",
     "output_type": "stream",
     "text": [
      "\r",
      "Processing books:  80%|████████████████▊    | 1077/1346 [02:21<00:31,  8.60it/s]"
     ]
    },
    {
     "name": "stdout",
     "output_type": "stream",
     "text": [
      "No valid year found for The Signal and the Noise by Silver, Nate\n",
      "No valid year found for *Probabilistic Networks and Expert Systems by Cowell, Robert G., Alexander Dawid, Steffen Lauritzen, and David Spiegelhalter\n",
      "No valid year found for *How to Make the World Add Up by Harford, Tim\n"
     ]
    },
    {
     "name": "stderr",
     "output_type": "stream",
     "text": [
      "\r",
      "Processing books:  80%|████████████████▊    | 1079/1346 [02:22<00:31,  8.44it/s]"
     ]
    },
    {
     "name": "stdout",
     "output_type": "stream",
     "text": [
      "No valid year found for *Hereditary Genius by Galton, Francis\n",
      "No valid year found for Facts from Figures by Moroney, M.J.\n",
      "No valid year found for The Functional Art: An Introduction to Information Graphics and Visualization by Cairo, Alberto\n"
     ]
    },
    {
     "name": "stderr",
     "output_type": "stream",
     "text": [
      "\r",
      "Processing books:  80%|████████████████▉    | 1082/1346 [02:22<00:28,  9.40it/s]"
     ]
    },
    {
     "name": "stdout",
     "output_type": "stream",
     "text": [
      "No valid year found for *The Road Ahead by Gates, Bill\n",
      "No valid year found for *On the Origin of Species by Darwin, Charles\n"
     ]
    },
    {
     "name": "stderr",
     "output_type": "stream",
     "text": [
      "Processing books:  81%|████████████████▉    | 1086/1346 [02:22<00:26,  9.84it/s]"
     ]
    },
    {
     "name": "stdout",
     "output_type": "stream",
     "text": [
      "No valid year found for *Sexual Behavior in the Human Male by Kinsey, Alfred\n",
      "No valid year found for *The Grammar of Science by Pearson, Karl\n",
      "No valid year found for How to Lie With Statistics by Huff, Darrell\n",
      "No valid year found for *Passages from the Life of a Philosopher by Babbage, Charles\n"
     ]
    },
    {
     "name": "stderr",
     "output_type": "stream",
     "text": [
      "\r",
      "Processing books:  81%|████████████████▉    | 1088/1346 [02:22<00:26,  9.67it/s]"
     ]
    },
    {
     "name": "stdout",
     "output_type": "stream",
     "text": [
      "No valid year found for *The Abilities of Man by Spearman, Charles\n"
     ]
    },
    {
     "name": "stderr",
     "output_type": "stream",
     "text": [
      "\r",
      "Processing books:  81%|█████████████████    | 1090/1346 [02:23<00:28,  8.90it/s]"
     ]
    },
    {
     "name": "stdout",
     "output_type": "stream",
     "text": [
      "No valid year found for *The Saints Amoung Us by Gallup, George\n",
      "No valid year found for *Principles of Political Economy by Malthus, Thomas\n",
      "No valid year found for *Disquisitiones Arithmeticae by Gaus, Carl Friedrich\n"
     ]
    },
    {
     "name": "stderr",
     "output_type": "stream",
     "text": [
      "Processing books:  81%|█████████████████    | 1093/1346 [02:23<00:33,  7.51it/s]"
     ]
    },
    {
     "name": "stdout",
     "output_type": "stream",
     "text": [
      "No valid year found for *Experiments on Plant Hybridization by Mendel, Gregor\n",
      "No valid year found for *The Power of Placebos by Howick, Jeremy\n"
     ]
    },
    {
     "name": "stderr",
     "output_type": "stream",
     "text": [
      "\r",
      "Processing books:  81%|█████████████████    | 1095/1346 [02:23<00:29,  8.64it/s]"
     ]
    },
    {
     "name": "stdout",
     "output_type": "stream",
     "text": [
      "No valid year found for I Ching by Zhou yi\n",
      "No valid year found for *Elements of Geometry by Legendre, Adrien-Marie\n"
     ]
    },
    {
     "name": "stderr",
     "output_type": "stream",
     "text": [
      "\r",
      "Processing books:  81%|█████████████████    | 1096/1346 [02:24<00:32,  7.61it/s]"
     ]
    },
    {
     "name": "stdout",
     "output_type": "stream",
     "text": [
      "No valid year found for The Book of Why: The New Science of Cause and Effect by Pearl, Judea and D. Mackenzie\n",
      "No valid year found for *Some Applications of Statistics to Meteorology by Panofsky, Hans and Glenn Brier\n",
      "No valid year found for Hitchhiker's Guide to the Galaxy by Adams, Douglas\n"
     ]
    },
    {
     "name": "stderr",
     "output_type": "stream",
     "text": [
      "Processing books:  82%|█████████████████▏   | 1100/1346 [02:24<00:37,  6.50it/s]"
     ]
    },
    {
     "name": "stdout",
     "output_type": "stream",
     "text": [
      "No valid year found for The Design of Experiments by Fisher, Ronald\n",
      "No valid year found for *Oeuvres de Pierre Fermat by Fermat, Pierre de\n"
     ]
    },
    {
     "name": "stderr",
     "output_type": "stream",
     "text": [
      "Processing books:  82%|█████████████████▏   | 1103/1346 [02:25<00:28,  8.59it/s]"
     ]
    },
    {
     "name": "stdout",
     "output_type": "stream",
     "text": [
      "No valid year found for *The Doctrine of Chances: or, A Method of Calculating the Probability of Events in Play by Moivre, Abraham de\n",
      "No valid year found for *A Treastise of Mechanics by Poisson, Siméon Denis\n",
      "No valid year found for *Ars Conjectandi by Bernoulli, Jacob\n"
     ]
    },
    {
     "name": "stderr",
     "output_type": "stream",
     "text": [
      "\r",
      "Processing books:  82%|█████████████████▏   | 1105/1346 [02:25<00:30,  7.91it/s]"
     ]
    },
    {
     "name": "stdout",
     "output_type": "stream",
     "text": [
      "No valid year found for *What If? by Munroe, RandallNo valid year found for *Beckham: My World by Beckham, David\n",
      "\n",
      "No valid year found for *The Art of Political Lying by Arbuthnot, John\n"
     ]
    },
    {
     "name": "stderr",
     "output_type": "stream",
     "text": [
      "\r",
      "Processing books:  82%|█████████████████▎   | 1107/1346 [02:25<00:32,  7.32it/s]"
     ]
    },
    {
     "name": "stdout",
     "output_type": "stream",
     "text": [
      "No valid year found for *The Heritage Copernicus: Theories Pleasing to the Mind by Neyman, Jerzy\n"
     ]
    },
    {
     "name": "stderr",
     "output_type": "stream",
     "text": [
      "Processing books:  83%|█████████████████▎   | 1112/1346 [02:26<00:24,  9.61it/s]"
     ]
    },
    {
     "name": "stdout",
     "output_type": "stream",
     "text": [
      "No valid year found for *Richard III by Shakespeare, William\n",
      "No valid year found for *Oeuvres Completes by Méré, Chevalier de\n",
      "No valid year found for An Essay Towards Solving a Problem in the Doctrine of Chances by Bayes, Thomas\n",
      "No valid year found for AIQ: How Artificial Intelligence Works and How We Can Harness Its Power for a Better World by Polson, N and J. Scott\n",
      "No valid year found for *F.Y. Edgeworth's Contriubitons to Mathematical Statistics by Bowley, Arthur\n"
     ]
    },
    {
     "name": "stderr",
     "output_type": "stream",
     "text": [
      "\r",
      "Processing books:  83%|█████████████████▍   | 1114/1346 [02:26<00:29,  7.87it/s]"
     ]
    },
    {
     "name": "stdout",
     "output_type": "stream",
     "text": [
      "No valid year found for *Sequential Analysis by Wald, Abraham\n",
      "No valid year found for *Beliefs, Attitudes, and Human Affair by Bem, Daryl\n"
     ]
    },
    {
     "name": "stderr",
     "output_type": "stream",
     "text": [
      "\r",
      "Processing books:  83%|█████████████████▍   | 1115/1346 [02:26<00:38,  5.99it/s]"
     ]
    },
    {
     "name": "stdout",
     "output_type": "stream",
     "text": [
      "No valid year found for *A Philosopher Looks at Digital Communication by O'Neill, Onora\n",
      "No valid year found for *Good to Go: What the Athlete in All of Us Can Learn from the Strange Science of Recovery by Aschwanden, Christie\n",
      "No valid year found for *Principles of Medical Statistics by Hill, Austin Bradford\n"
     ]
    },
    {
     "name": "stderr",
     "output_type": "stream",
     "text": [
      "\r",
      "Processing books:  83%|█████████████████▍   | 1118/1346 [02:27<00:31,  7.19it/s]"
     ]
    },
    {
     "name": "stdout",
     "output_type": "stream",
     "text": [
      "No valid year found for Thatcher and Thatcherism by Evans, E.J.\n",
      "No valid year found for *This Time Is Different: Eight Centuries of Financial Folly by Reinhart, Carmen and Kenneth Rogoff\n"
     ]
    },
    {
     "name": "stderr",
     "output_type": "stream",
     "text": [
      "\r",
      "Processing books:  83%|█████████████████▍   | 1120/1346 [02:27<00:31,  7.21it/s]"
     ]
    },
    {
     "name": "stdout",
     "output_type": "stream",
     "text": [
      "No valid year found for Sex by Numbers by Spiegelhalter, David\n"
     ]
    },
    {
     "name": "stderr",
     "output_type": "stream",
     "text": [
      "Processing books:  83%|█████████████████▌   | 1123/1346 [02:27<00:29,  7.44it/s]"
     ]
    },
    {
     "name": "stdout",
     "output_type": "stream",
     "text": [
      "No valid year found for *Beautiful Visualizations by Steele, Julie and Noah Iliinsky\n",
      "No valid year found for Weapons of Math Destruction by O'Neil, Cathy\n",
      "No valid year found for *The Numerati by Baker, Stephen\n",
      "No valid year found for The Truthful Art: Data, Charts, and Maps for Communication by Cairo, Alberto\n"
     ]
    },
    {
     "name": "stderr",
     "output_type": "stream",
     "text": [
      "Processing books:  84%|█████████████████▌   | 1126/1346 [02:28<00:29,  7.47it/s]"
     ]
    },
    {
     "name": "stdout",
     "output_type": "stream",
     "text": [
      "No valid year found for *Shape by Ellenberg, Jordan\n",
      "No valid year found for *Structures of Schooling by Jaffe, Becky\n"
     ]
    },
    {
     "name": "stderr",
     "output_type": "stream",
     "text": [
      "\r",
      "Processing books:  84%|█████████████████▌   | 1127/1346 [02:28<00:31,  7.01it/s]"
     ]
    },
    {
     "name": "stdout",
     "output_type": "stream",
     "text": [
      "No valid year found for *Representing and Acquiring Geographic Knowledge by Davis, Ernie\n",
      "No valid year found for *The Science of Hitting by Williams, Ted\n",
      "No valid year found for *Lou Boudreau: My Hall of Fame Life on the Field and Behind the Mic by Bourdreau, Lou\n"
     ]
    },
    {
     "name": "stderr",
     "output_type": "stream",
     "text": [
      "\r",
      "Processing books:  84%|█████████████████▋   | 1130/1346 [02:28<00:27,  7.95it/s]"
     ]
    },
    {
     "name": "stdout",
     "output_type": "stream",
     "text": [
      "No valid year found for Freakonomics by Levitt, Steven and Stephen Dubner\n",
      "No valid year found for *The General Theory of Employement, Interest and Money by Keynes, John Maynard\n"
     ]
    },
    {
     "name": "stderr",
     "output_type": "stream",
     "text": [
      "Processing books:  84%|█████████████████▋   | 1133/1346 [02:29<00:26,  7.94it/s]"
     ]
    },
    {
     "name": "stdout",
     "output_type": "stream",
     "text": [
      "No valid year found for Bills of Mortality by Graunt, Bill\n",
      "No valid year found for Oliver Twist by Dickens, Charles\n",
      "No valid year found for The Selling of the President 1968 by McGinniss, Joe\n"
     ]
    },
    {
     "name": "stderr",
     "output_type": "stream",
     "text": [
      "\r",
      "Processing books:  84%|█████████████████▋   | 1135/1346 [02:29<00:25,  8.23it/s]"
     ]
    },
    {
     "name": "stdout",
     "output_type": "stream",
     "text": [
      "No valid year found for *How the Mind Works by Burt, Cyril\n",
      "No valid year found for *All In The Day's Work by Tarbell, Ida\n"
     ]
    },
    {
     "name": "stderr",
     "output_type": "stream",
     "text": [
      "Processing books:  84%|█████████████████▋   | 1137/1346 [02:29<00:31,  6.54it/s]"
     ]
    },
    {
     "name": "stdout",
     "output_type": "stream",
     "text": [
      "No valid year found for Unfair: The New Science of Criminal Injustice by Benforado, Adam\n",
      "No valid year found for *The Math Gene by Devlin, Keith\n"
     ]
    },
    {
     "name": "stderr",
     "output_type": "stream",
     "text": [
      "\r",
      "Processing books:  85%|█████████████████▊   | 1139/1346 [02:29<00:28,  7.30it/s]"
     ]
    },
    {
     "name": "stdout",
     "output_type": "stream",
     "text": [
      "No valid year found for The Jungle by Sinclair, Upton\n"
     ]
    },
    {
     "name": "stderr",
     "output_type": "stream",
     "text": [
      "Processing books:  85%|█████████████████▊   | 1141/1346 [02:30<00:31,  6.41it/s]"
     ]
    },
    {
     "name": "stdout",
     "output_type": "stream",
     "text": [
      "No valid year found for *Machine Learning: An Applied Mathematics by Wilmott, Paul\n",
      "No valid year found for *My Life as a Quant by Derman, Emanuel\n",
      "No valid year found for Black Skin, White Masks by Fanon, Frantz\n"
     ]
    },
    {
     "name": "stderr",
     "output_type": "stream",
     "text": [
      "\r",
      "Processing books:  85%|█████████████████▊   | 1143/1346 [02:30<00:28,  7.00it/s]"
     ]
    },
    {
     "name": "stdout",
     "output_type": "stream",
     "text": [
      "No valid year found for *Fumbling Towards Repair by Kaba, Mariame\n"
     ]
    },
    {
     "name": "stderr",
     "output_type": "stream",
     "text": [
      "Processing books:  85%|█████████████████▊   | 1145/1346 [02:31<00:33,  6.03it/s]"
     ]
    },
    {
     "name": "stdout",
     "output_type": "stream",
     "text": [
      "No valid year found for Freakonomics by Lewis, Michael\n",
      "No valid year found for *Twitter and Tear Gas by Tufekci, Zeynep\n"
     ]
    },
    {
     "name": "stderr",
     "output_type": "stream",
     "text": [
      "Processing books:  85%|█████████████████▉   | 1149/1346 [02:31<00:19, 10.01it/s]"
     ]
    },
    {
     "name": "stdout",
     "output_type": "stream",
     "text": [
      "No valid year found for Dark Matters: On the Surveillance of Blackness by Browne, Simone\n",
      "No valid year found for *A Mathematical Question by Johnson, John\n",
      "No valid year found for *Minority Report by Dick, Philip K.\n",
      "No valid year found for Artificial Unintelligence: How Computers Misundesrstand the World by Broussard, Meredith\n",
      "No valid year found for Undoing the Demos: Neoliberalism's Stealth Revolution by Brown, Wendy\n"
     ]
    },
    {
     "name": "stderr",
     "output_type": "stream",
     "text": [
      "Processing books:  86%|██████████████████   | 1156/1346 [02:32<00:17, 11.04it/s]"
     ]
    },
    {
     "name": "stdout",
     "output_type": "stream",
     "text": [
      "No valid year found for Automating Inequality: How High-Tech Tools Profile, Police, and Punish the Poor by Eubanks, Virginia\n",
      "No valid year found for Moneyball by Lewis, Michael\n",
      "No valid year found for Algorithms of Oppression: How Search Engines Reinforce Racism by Noble, Safiya\n",
      "No valid year found for Weapons of Math Destruction: How Big Data Increases Inequality and Threatens Democracy by O'Neil, Cathy\n",
      "No valid year found for Technically Wrong: Sexist Apps, Biased Algorithms, and Other Threats of Toxic Tech by Wachter-Boettcher, Sara\n",
      "No valid year found for *Unmasking AI: My Mission to Protect What is Human in a World of Machines by Buolamwini, Joy\n",
      "No valid year found for The New Jim Crow by Alexander, Michelle\n"
     ]
    },
    {
     "name": "stderr",
     "output_type": "stream",
     "text": [
      "Processing books:  86%|██████████████████   | 1160/1346 [02:32<00:18,  9.81it/s]"
     ]
    },
    {
     "name": "stdout",
     "output_type": "stream",
     "text": [
      "No valid year found for Punishing the Poor: The Neoliberal Government of Insecurity by Wacquant, Loïc\n",
      "No valid year found for Thicker Than Blood: How Racial Statistics Lie by Zuberi, Tufuku\n",
      "No valid year found for *Urban Outcasts by Wacquant, Loïc\n"
     ]
    },
    {
     "name": "stderr",
     "output_type": "stream",
     "text": [
      "\r",
      "Processing books:  86%|██████████████████▏  | 1162/1346 [02:32<00:20,  9.18it/s]"
     ]
    },
    {
     "name": "stdout",
     "output_type": "stream",
     "text": [
      "No valid year found for The Condemnation of Blackness: Race, Crime, and the Making of Modern Urban America by Muhammad, Khalil\n",
      "No valid year found for James Baldwin: Collected Essays by Baldwin, James\n",
      "No valid year found for *The Invention of the 'Underclass': A Study in the Politics of Knowledge by Wacquant, Loïc\n"
     ]
    },
    {
     "name": "stderr",
     "output_type": "stream",
     "text": [
      "Processing books:  87%|██████████████████▏  | 1166/1346 [02:33<00:16, 10.99it/s]"
     ]
    },
    {
     "name": "stdout",
     "output_type": "stream",
     "text": [
      "No valid year found for *The White Storm by Gelin, Martin\n",
      "No valid year found for *Futureproof by Roose, Kevin\n",
      "No valid year found for *The Hawk and the Dove by Thompson, Nicholas\n",
      "No valid year found for *An Ugly Truth: Inside Facebook's Battle for Domination by Frenkel, Sheera, Cecilia Kang\n"
     ]
    },
    {
     "name": "stderr",
     "output_type": "stream",
     "text": [
      "\r",
      "Processing books:  87%|██████████████████▏  | 1168/1346 [02:33<00:14, 12.20it/s]"
     ]
    },
    {
     "name": "stdout",
     "output_type": "stream",
     "text": [
      "No valid year found for *It's Complicated: The Social Lives of Networked Teens by boyd, danah\n",
      "No valid year found for *Don't Call It Quits\" by Gaynor, Shana Lebowitz\n"
     ]
    },
    {
     "name": "stderr",
     "output_type": "stream",
     "text": [
      "Processing books:  87%|██████████████████▎  | 1172/1346 [02:33<00:17,  9.69it/s]"
     ]
    },
    {
     "name": "stdout",
     "output_type": "stream",
     "text": [
      "No valid year found for *Morning After the Revolution: Dispatches from the Wrong Side of History by Bowles, Nellie\n",
      "No valid year found for The Autobiography of Malcolm X by X, Malcolm\n",
      "No valid year found for *Atlas of AI: Power, Politics, and the Planetary Costs of Artificial Intelligence by Crawford, Kate\n"
     ]
    },
    {
     "name": "stderr",
     "output_type": "stream",
     "text": [
      "\r",
      "Processing books:  87%|██████████████████▎  | 1174/1346 [02:33<00:15, 11.12it/s]"
     ]
    },
    {
     "name": "stdout",
     "output_type": "stream",
     "text": [
      "No valid year found for *Crisis Vision: Race and the cultural production by Monahan, Torin\n",
      "No valid year found for The Art of Computer Programming by Knuth, Donald\n",
      "No valid year found for Wages of Whiteness: Race and the Making of the American Working Class by Roediger, David\n",
      "No valid year found for Pink Ribbons, Inc.: Breast Cancer and the Politics of Philanthropy by King, Samantha\n"
     ]
    },
    {
     "name": "stderr",
     "output_type": "stream",
     "text": [
      "Processing books:  88%|██████████████████▍  | 1179/1346 [02:34<00:13, 12.50it/s]"
     ]
    },
    {
     "name": "stdout",
     "output_type": "stream",
     "text": [
      "No valid year found for *Capital by Marx, Karl\n",
      "No valid year found for The Cross of Redemption: Uncollected Writings by Baldwin, James\n",
      "No valid year found for The Poverty of Privacy Rights by Bridges, Khiara\n",
      "No valid year found for *Sapiens by Harari, Yuval Noah\n"
     ]
    },
    {
     "name": "stderr",
     "output_type": "stream",
     "text": [
      "\r",
      "Processing books:  88%|██████████████████▍  | 1182/1346 [02:34<00:11, 13.82it/s]"
     ]
    },
    {
     "name": "stdout",
     "output_type": "stream",
     "text": [
      "No valid year found for *Nice White Ladies: The Truth About White Supremeacy, Our Role in it, and How we can Help Dismantle It by Daniels, Jessie\n",
      "No valid year found for *Misogynoir Transformed: Black Women's Digital Resistance by Bailey, Moya\n"
     ]
    },
    {
     "name": "stderr",
     "output_type": "stream",
     "text": [
      "\r",
      "Processing books:  88%|██████████████████▍  | 1184/1346 [02:34<00:17,  9.19it/s]"
     ]
    },
    {
     "name": "stdout",
     "output_type": "stream",
     "text": [
      "No valid year found for One-Dimensional Man by Marcuse, Herbert\n",
      "No valid year found for *The Alchemy of Race and Rights: A Diary of a Law Professor by Williams, Patricia\n"
     ]
    },
    {
     "name": "stderr",
     "output_type": "stream",
     "text": [
      "\r",
      "Processing books:  88%|██████████████████▌  | 1186/1346 [02:34<00:15, 10.62it/s]"
     ]
    },
    {
     "name": "stdout",
     "output_type": "stream",
     "text": [
      "No valid year found for Habius Viscus: Racializing Assemblages, Biopolitics, and Black Feminist Thoeries of the Human by Weheliye, Alexander\n",
      "No valid year found for Cyber Racism: White Supremacy Online and the New Attack on Civil Rights by Daniels, Jessie\n",
      "No valid year found for *Breaking Bots: Inventing A New Voice in the AI Revolution by Mars, Jason\n"
     ]
    },
    {
     "name": "stderr",
     "output_type": "stream",
     "text": [
      "\r",
      "Processing books:  88%|██████████████████▌  | 1188/1346 [02:35<00:18,  8.64it/s]"
     ]
    },
    {
     "name": "stdout",
     "output_type": "stream",
     "text": [
      "No valid year found for Black Girls Are From the Future: Essays on Race, Digial Creativity and Pop Culture by Jarmon, ReninaNo valid year found for *Do Not Call Us Negros: How 'Multicultural' TextbooksPerpetuate Racism by Wynter, Sylvia\n",
      "\n",
      "No valid year found for The Black Box Society: The Secret Algorithms That Control Money and Informaiton by Pasquale, Frank\n"
     ]
    },
    {
     "name": "stderr",
     "output_type": "stream",
     "text": [
      "\r",
      "Processing books:  88%|██████████████████▌  | 1191/1346 [02:35<00:18,  8.32it/s]"
     ]
    },
    {
     "name": "stdout",
     "output_type": "stream",
     "text": [
      "No valid year found for A Third University is Possible by paperson, la\n",
      "No valid year found for *Hello Avatar: Rise of the Networked Generation by Coleman, B.\n"
     ]
    },
    {
     "name": "stderr",
     "output_type": "stream",
     "text": [
      "Processing books:  89%|██████████████████▋  | 1195/1346 [02:36<00:18,  8.16it/s]"
     ]
    },
    {
     "name": "stdout",
     "output_type": "stream",
     "text": [
      "No valid year found for *Race in North America: Origin and Evolution of a Worldview by Smedley, Audrey\n",
      "No valid year found for Vexy Thing: On Gender and Liberation by Perry, Imani\n",
      "No valid year found for Emergent Strategy: Shaping Change, Changing Worlds by brown, adrienne maree\n",
      "No valid year found for More Beautiful and More Terrible: The Embrace and Transcendence of Racial Inequality by Perry, Imani\n",
      "No valid year found for American Slavery, American Freedom: The Ordeal of Colonial Virginia by Morgan, Edmund S.\n"
     ]
    },
    {
     "name": "stderr",
     "output_type": "stream",
     "text": [
      "\r",
      "Processing books:  89%|██████████████████▋  | 1198/1346 [02:36<00:13, 10.81it/s]"
     ]
    },
    {
     "name": "stdout",
     "output_type": "stream",
     "text": [
      "No valid year found for *Insights: Film & Television by Trudy\n",
      "No valid year found for *Discriminating Data: Correlation, Neighborhoods, and the New Politics of Recognition by Chun, Wendy Hui Kyong\n"
     ]
    },
    {
     "name": "stderr",
     "output_type": "stream",
     "text": [
      "Processing books:  89%|██████████████████▊  | 1202/1346 [02:37<00:17,  8.40it/s]"
     ]
    },
    {
     "name": "stdout",
     "output_type": "stream",
     "text": [
      "No valid year found for *Power and Technology by Van Dijk, J. A. G. M.\n",
      "No valid year found for *Finding My Voice: My Journey to the West Wing and the Path Forward by Jarrett, Valerie\n",
      "No valid year found for *Under Ground by Daly, Michael\n",
      "No valid year found for *Never Coming to a Theater Near You  by Turan, Kenneth\n"
     ]
    },
    {
     "name": "stderr",
     "output_type": "stream",
     "text": [
      "\r",
      "Processing books:  89%|██████████████████▊  | 1204/1346 [02:37<00:17,  8.33it/s]"
     ]
    },
    {
     "name": "stdout",
     "output_type": "stream",
     "text": [
      "No valid year found for Data Feminism by D'Ignazio, Catherine, and Lauren Klein\n",
      "No valid year found for *How Innovation Works by Ridley, Matt\n"
     ]
    },
    {
     "name": "stderr",
     "output_type": "stream",
     "text": [
      "\r",
      "Processing books:  90%|██████████████████▊  | 1206/1346 [02:37<00:19,  7.07it/s]"
     ]
    },
    {
     "name": "stdout",
     "output_type": "stream",
     "text": [
      "No valid year found for *Kill Anything that Moves: The Real American War in Vietnam by Turse, Nick\n",
      "No valid year found for *The Next Civil War by Marche, Stephen\n"
     ]
    },
    {
     "name": "stderr",
     "output_type": "stream",
     "text": [
      "Processing books:  90%|██████████████████▉  | 1210/1346 [02:38<00:15,  8.74it/s]"
     ]
    },
    {
     "name": "stdout",
     "output_type": "stream",
     "text": [
      "No valid year found for *White Lies: Race, Class, Gender and White Supremacist Discourse by Daniels, Jessie\n",
      "No valid year found for Cybertypes: Race, Ethnicity, and Identity on the Internet by Nakamura, Lisa\n",
      "No valid year found for Digitizing Race: Visual Cultures of the Internet by Nakamura, Lisa\n"
     ]
    },
    {
     "name": "stderr",
     "output_type": "stream",
     "text": [
      "Processing books:  90%|██████████████████▉  | 1213/1346 [02:38<00:21,  6.30it/s]"
     ]
    },
    {
     "name": "stdout",
     "output_type": "stream",
     "text": [
      "No valid year found for Thin Description: Ethnography and the Hebrew Israelites of Jerusalem by Jackson, John L.\n",
      "No valid year found for The Rise of the Network Society by Castells, Manuel\n",
      "No valid year found for The Social Life of DNA: Race, Reparations, and Reconciliation by Nelson, Alondra\n"
     ]
    },
    {
     "name": "stderr",
     "output_type": "stream",
     "text": [
      "\r",
      "Processing books:  90%|██████████████████▉  | 1214/1346 [02:38<00:22,  5.76it/s]"
     ]
    },
    {
     "name": "stdout",
     "output_type": "stream",
     "text": [
      "No valid year found for *Critique and Praxis by Harcourt, Bernard\n"
     ]
    },
    {
     "name": "stderr",
     "output_type": "stream",
     "text": [
      "\r",
      "Processing books:  90%|██████████████████▉  | 1215/1346 [02:39<00:25,  5.19it/s]"
     ]
    },
    {
     "name": "stdout",
     "output_type": "stream",
     "text": [
      "No valid year found for On Intersectionality by Crenshaw, Kimberlé\n",
      "No valid year found for Digital Diaspora: A Race for Cyberspace by Everett, Anna\n",
      "No valid year found for *The White Mosque by Samatar, Sofia\n"
     ]
    },
    {
     "name": "stderr",
     "output_type": "stream",
     "text": [
      "Processing books:  91%|███████████████████  | 1220/1346 [02:39<00:18,  6.98it/s]"
     ]
    },
    {
     "name": "stdout",
     "output_type": "stream",
     "text": [
      "No valid year found for Three Worlds of Relief: Race, Immigration, and the American Welfare Satate from the Progressive Era to the New Deal by Fox, Cybelle\n",
      "No valid year found for Robots: Fact, Fiction, and Prediction by Reichardt, Jasia\n",
      "No valid year found for *Enslaved Brains by Binder, O. O.\n"
     ]
    },
    {
     "name": "stderr",
     "output_type": "stream",
     "text": [
      "Processing books:  91%|███████████████████  | 1223/1346 [02:40<00:15,  7.70it/s]"
     ]
    },
    {
     "name": "stdout",
     "output_type": "stream",
     "text": [
      "No valid year found for 1 by Richardson, Sarah, and Hallam Stevens\n",
      "No valid year found for An Athropology of Roborts and AI: Annihilation Anxiety and Machine by Richardson, Kathleen\n",
      "No valid year found for AI Snake Oil: What Artificial Intelligence Can Do, What It Can't, and How to Tell the Difference by Narayanan, Arvind, and Sayash Kapoor\n",
      "No valid year found for BodyandSoul: The Black Panther Party and the Fight against Medical Discrimination by Nelson, Alondra\n"
     ]
    },
    {
     "name": "stderr",
     "output_type": "stream",
     "text": [
      "\r",
      "Processing books:  91%|███████████████████  | 1225/1346 [02:40<00:24,  4.99it/s]"
     ]
    },
    {
     "name": "stdout",
     "output_type": "stream",
     "text": [
      "No valid year found for *Dragnet Nation: A Quest for Privacy, Security and Freedom in a World of Relentless Surveillance by Angwin, Julia\n",
      "No valid year found for *And We Are Not Saved by Bell, Derrick\n",
      "No valid year found for *The Salt Eaters by Bambara, Toni Cade\n"
     ]
    },
    {
     "name": "stderr",
     "output_type": "stream",
     "text": [
      "\r",
      "Processing books:  91%|███████████████████▏ | 1228/1346 [02:41<00:17,  6.63it/s]"
     ]
    },
    {
     "name": "stdout",
     "output_type": "stream",
     "text": [
      "No valid year found for Outsiders: Studies in the Sociology of Deviance by Becker, H.S.\n",
      "No valid year found for *The History of Intimacy by Baderoon, Gabeba\n",
      "No valid year found for *The Many Faces of Evil by Rorty, Amélie\n"
     ]
    },
    {
     "name": "stderr",
     "output_type": "stream",
     "text": [
      "Processing books:  92%|███████████████████▏ | 1232/1346 [02:41<00:18,  6.32it/s]"
     ]
    },
    {
     "name": "stdout",
     "output_type": "stream",
     "text": [
      "No valid year found for *Race, Culture, and the Revolt of the Black Athlete: The 1968 Olympic Protests and Their Aftermath by Hartmann, Douglas\n",
      "No valid year found for The Enigma of Diversity: The Language of Race and the Limits of Racial Justice by Berrey, Ellen\n",
      "No valid year found for *Black Power Professionals: The Black Power Movement and American Social Work by Bell, Joyce M.\n",
      "No valid year found for *Scarcity: Why Having Too Little Means So Much by Shafir, Eldar, and Sendhil Mullainathan\n"
     ]
    },
    {
     "name": "stderr",
     "output_type": "stream",
     "text": [
      "Processing books:  92%|███████████████████▎ | 1237/1346 [02:42<00:11,  9.58it/s]"
     ]
    },
    {
     "name": "stdout",
     "output_type": "stream",
     "text": [
      "No valid year found for Social by Nature: The Promise and Peril of Sociogenomics by Bliss, Catherine\n",
      "No valid year found for Black Looks: Race and Representation by hooks, bell\n",
      "No valid year found for Race Decoded: The Genomic Fight for Social Justice by Bliss, Catherine\n"
     ]
    },
    {
     "name": "stderr",
     "output_type": "stream",
     "text": [
      "\r",
      "Processing books:  92%|███████████████████▎ | 1239/1346 [02:42<00:12,  8.73it/s]"
     ]
    },
    {
     "name": "stdout",
     "output_type": "stream",
     "text": [
      "No valid year found for *Who Can You Trust?: How Technology Brought Us Together and Why It Might Drive Us Apart by Botsman, Rachel\n",
      "No valid year found for Afrofuturism 2.0: The Rise of 'Astro-Blackness by Anderson, Reynaldo, and Charles E. Jones\n"
     ]
    },
    {
     "name": "stderr",
     "output_type": "stream",
     "text": [
      "\r",
      "Processing books:  92%|███████████████████▎ | 1241/1346 [02:42<00:10,  9.89it/s]"
     ]
    },
    {
     "name": "stdout",
     "output_type": "stream",
     "text": [
      "No valid year found for Sates of Knolwedge: The Co-production of Science and Social Order by Jasanoff, SheilaNo valid year found for Memory Practices in the Sciences by Bowker, Geoffrey\n",
      "\n",
      "No valid year found for *Predict and Surveil by Brayne, Sarah\n"
     ]
    },
    {
     "name": "stderr",
     "output_type": "stream",
     "text": [
      "\r",
      "Processing books:  92%|███████████████████▍ | 1243/1346 [02:43<00:16,  6.31it/s]"
     ]
    },
    {
     "name": "stdout",
     "output_type": "stream",
     "text": [
      "No valid year found for Captivating Technology: Race, Carceal Technoscience, and Liberatory Imagination by Benjamin, Ruha\n",
      "No valid year found for Parable of the Sower by Butler, Octavia\n",
      "No valid year found for The Black Skycraper: Architecture and the Perception of Race by Brown, Adrienne R.\n"
     ]
    },
    {
     "name": "stderr",
     "output_type": "stream",
     "text": [
      "\r",
      "Processing books:  93%|███████████████████▍ | 1246/1346 [02:43<00:13,  7.56it/s]"
     ]
    },
    {
     "name": "stdout",
     "output_type": "stream",
     "text": [
      "No valid year found for Unapologetic: A Black, Queer, and Feminist Mandate for Radical Social Movements by Carruthers, Charlene\n",
      "No valid year found for Speculative Blackness: The Future of Race in Science Fiction by Carrington, André\n",
      "No valid year found for *Distributed Blackness: African American Cybercultures by Brock, André Jr.\n",
      "No valid year found for Breathing Race into the Machine: The Suprising Career of the Spirometer from Plantation to Growth by Braun, Lundy\n"
     ]
    },
    {
     "name": "stderr",
     "output_type": "stream",
     "text": [
      "\r",
      "Processing books:  93%|███████████████████▌ | 1250/1346 [02:43<00:09, 10.08it/s]"
     ]
    },
    {
     "name": "stdout",
     "output_type": "stream",
     "text": [
      "No valid year found for Racism without Racists: Colorblind Racism and the Persistence of Racial Inequality in the United States by Bonilla-Silva, Eduardo\n"
     ]
    },
    {
     "name": "stderr",
     "output_type": "stream",
     "text": [
      "\r",
      "Processing books:  93%|███████████████████▌ | 1252/1346 [02:43<00:10,  9.11it/s]"
     ]
    },
    {
     "name": "stdout",
     "output_type": "stream",
     "text": [
      "No valid year found for *Coloured: How Classification Became Culture by Chutel, Lynsey, and Tessa Dooms\n",
      "No valid year found for Black Feminist Thoughts: Knowledge, Consciousness, and the Politics of Empowerment by Collins, Patricia Hill\n"
     ]
    },
    {
     "name": "stderr",
     "output_type": "stream",
     "text": [
      "Processing books:  93%|███████████████████▌ | 1257/1346 [02:44<00:08, 10.12it/s]"
     ]
    },
    {
     "name": "stdout",
     "output_type": "stream",
     "text": [
      "No valid year found for *Meme Wars by Donovan, Joan, Emily Dreyfuss, and Brian Friedberg\n",
      "No valid year found for Darkwater: Voices from within the Veil by Du Bois, W.E.B.\n",
      "No valid year found for Suprime Health: The American Health-Care System and Race-Based Medicine by Ehlers, Nadine, and Leslie Hinkson\n",
      "No valid year found for *Backdoor to Eugenics by Duster, Troy\n",
      "No valid year found for *One Drop: Shifting the Lens on Race by Blay, Yaba\n"
     ]
    },
    {
     "name": "stderr",
     "output_type": "stream",
     "text": [
      "\r",
      "Processing books:  94%|███████████████████▋ | 1260/1346 [02:44<00:07, 11.19it/s]"
     ]
    },
    {
     "name": "stdout",
     "output_type": "stream",
     "text": [
      "No valid year found for A Dying Colonialism by Fanon, Frantz\n",
      "No valid year found for *Design Justice by Costanza-Chock, Sasha\n",
      "No valid year found for Invisible Labor: Hidden Work in the Contemporary World by Crain, Marion, Winifred Poster, and Miriam Cherry\n",
      "No valid year found for Appropriating Technology: Vernacular Science and Social Power by Eglash, Ron, Jennifer L. Croissant, Giovanna Di Chiro, and Rayvon Fouché\n"
     ]
    },
    {
     "name": "stderr",
     "output_type": "stream",
     "text": [
      "\r",
      "Processing books:  94%|███████████████████▋ | 1262/1346 [02:45<00:10,  8.03it/s]"
     ]
    },
    {
     "name": "stdout",
     "output_type": "stream",
     "text": [
      "No valid year found for *Killing Neighbors: Webs of Violence in Rwanda by Fujii, Lee Ann\n",
      "No valid year found for *Racial Theories in Social Science: Systemic Racism Critique by Feagin, Joe, and Sean Elias\n"
     ]
    },
    {
     "name": "stderr",
     "output_type": "stream",
     "text": [
      "\r",
      "Processing books:  94%|███████████████████▋ | 1264/1346 [02:45<00:11,  7.45it/s]"
     ]
    },
    {
     "name": "stdout",
     "output_type": "stream",
     "text": [
      "No valid year found for Democracy in Black: How Race Still Enslaves the American Soul by Glaude, Eddie S., Jf.\n",
      "No valid year found for Cyber Selves: Feminist Ethnographies of South Asian Women by Gajjala, Radhika\n"
     ]
    },
    {
     "name": "stderr",
     "output_type": "stream",
     "text": [
      "\r",
      "Processing books:  94%|███████████████████▊ | 1266/1346 [02:45<00:11,  6.70it/s]"
     ]
    },
    {
     "name": "stdout",
     "output_type": "stream",
     "text": [
      "No valid year found for Discipline and Punish: The Birth of the Prison by Foucault, Michel\n"
     ]
    },
    {
     "name": "stderr",
     "output_type": "stream",
     "text": [
      "\r",
      "Processing books:  94%|███████████████████▊ | 1267/1346 [02:46<00:13,  6.06it/s]"
     ]
    },
    {
     "name": "stdout",
     "output_type": "stream",
     "text": [
      "No valid year found for Representing Others: White Views of Indigenous Peoples by Gidley, Mark\n",
      "No valid year found for Are We Postracial Yet? by Goldberg, David T.\n"
     ]
    },
    {
     "name": "stderr",
     "output_type": "stream",
     "text": [
      "Processing books:  94%|███████████████████▊ | 1271/1346 [02:46<00:10,  7.30it/s]"
     ]
    },
    {
     "name": "stdout",
     "output_type": "stream",
     "text": [
      "No valid year found for *Before Gentrification: The Creation of DC's Racial Wealth Gap by Golash-Boza, Tanya\n",
      "No valid year found for Black Power: The Politics of Liberation in America by Hamilton, Charles V., and Kwame Ture\n",
      "No valid year found for *Brunching with Ophelia by Chakraborthy, Angshukanta\n"
     ]
    },
    {
     "name": "stderr",
     "output_type": "stream",
     "text": [
      "Processing books:  95%|███████████████████▉ | 1275/1346 [02:46<00:06, 11.11it/s]"
     ]
    },
    {
     "name": "stdout",
     "output_type": "stream",
     "text": [
      "No valid year found for Shopping for Identity: The Marketing of Ethnicity  by Halter, Marilyn\n",
      "No valid year found for What Algorithms Want: Imagination in the Age of Computing by Finn, Ed\n",
      "No valid year found for The Age of Big Data Policing: Surveillance, Race, and the Future of Law Enforcement  by Ferguson, Andrew Guthrie\n",
      "No valid year found for Simians, Cyborgs and Women: The Reinvention of Nature by Haraway, Donna\n",
      "No valid year found for *Why is There Philosophy of Mathematics at All? by Hacking, Ian\n"
     ]
    },
    {
     "name": "stderr",
     "output_type": "stream",
     "text": [
      "Processing books:  95%|███████████████████▉ | 1280/1346 [02:47<00:05, 11.17it/s]"
     ]
    },
    {
     "name": "stdout",
     "output_type": "stream",
     "text": [
      "No valid year found for Silicon Second Nature: Culturing Artifical Life in a Digital World by Helmreich, Stefan\n",
      "No valid year found for *Anything that Moves: Renegade Chefs, Fearless Eaters, and the Making of a New American Food Culture by Goodyear, Dana\n",
      "No valid year found for *Journalism: A Very Short Introduction by Hargreaves, Ian\n",
      "No valid year found for Beautiful and the Damned: The Creation of Identity in Nineteenth-Century Photography by Hargreaves, Roger, and Peter Hamilton\n"
     ]
    },
    {
     "name": "stderr",
     "output_type": "stream",
     "text": [
      "\r",
      "Processing books:  95%|████████████████████ | 1282/1346 [02:47<00:05, 12.34it/s]"
     ]
    },
    {
     "name": "stdout",
     "output_type": "stream",
     "text": [
      "No valid year found for *Biased by Eberhardt, Jennifer L.\n",
      "No valid year found for Brown Girl in the Ring by Hopkins, Nalo\n",
      "No valid year found for Octavia's Brood: Science Fiction Stories from Social Justice Movements by Imarisha, Walidah, and adrienne maree brown\n"
     ]
    },
    {
     "name": "stderr",
     "output_type": "stream",
     "text": [
      "\r",
      "Processing books:  95%|████████████████████ | 1284/1346 [02:47<00:06, 10.26it/s]"
     ]
    },
    {
     "name": "stdout",
     "output_type": "stream",
     "text": [
      "No valid year found for Race on the Brain: What Implicit Bias Gets Wrong about the Struggle for Racial Justice by Kahn, Jonathan\n",
      "No valid year found for The Intersectional Internet: Race, Sex, Class and Culture by Noble, Safiya, and Brendesha Tynes\n",
      "No valid year found for Pedagogy of the Oppressed by Freire, Paulo\n"
     ]
    },
    {
     "name": "stderr",
     "output_type": "stream",
     "text": [
      "Processing books:  96%|████████████████████ | 1289/1346 [02:48<00:05, 10.27it/s]"
     ]
    },
    {
     "name": "stdout",
     "output_type": "stream",
     "text": [
      "No valid year found for Revisiting Race in a Genomic Age by Koenig Barbara, Sandra Soo-Jin Lee, and Sarah S. Richardson\n",
      "No valid year found for Blinded by Sight: Seeing Race through the Eyes of hte Blind by Obasogie, Osagie\n",
      "No valid year found for Community-Based System Dynamics by Hovmand, Peter\n"
     ]
    },
    {
     "name": "stderr",
     "output_type": "stream",
     "text": [
      "\r",
      "Processing books:  96%|████████████████████▏| 1291/1346 [02:48<00:04, 11.01it/s]"
     ]
    },
    {
     "name": "stdout",
     "output_type": "stream",
     "text": [
      "No valid year found for The Devil in Silicon Valley: Northern California, Race, and Mexican-Americans by Pitti, Stephen\n",
      "No valid year found for Killing the Black: Race Reporduction, and the Meaning of Liberty by Roberts, Dorothy\n",
      "No valid year found for Misbehaving Science: Controversy and the Development of Behavior Genetics by Panofsky, Aaron\n"
     ]
    },
    {
     "name": "stderr",
     "output_type": "stream",
     "text": [
      "\r",
      "Processing books:  96%|████████████████████▏| 1293/1346 [02:48<00:05, 10.52it/s]"
     ]
    },
    {
     "name": "stdout",
     "output_type": "stream",
     "text": [
      "No valid year found for Divine Variations: How Christian Thought Became Racial Science by Keel, Terence\n"
     ]
    },
    {
     "name": "stderr",
     "output_type": "stream",
     "text": [
      "\r",
      "Processing books:  96%|████████████████████▏| 1295/1346 [02:49<00:06,  7.97it/s]"
     ]
    },
    {
     "name": "stdout",
     "output_type": "stream",
     "text": [
      "No valid year found for Fatal Invention: How Science, Politics, and Big Business Re-Create Race in the Twenty-First Century by Roberts, Dorothy\n",
      "No valid year found for Medicating Race: Heart Disease and Durable Preoccupations with Difference by Pollock, Anne\n"
     ]
    },
    {
     "name": "stderr",
     "output_type": "stream",
     "text": [
      "Processing books:  96%|████████████████████▎| 1298/1346 [02:49<00:06,  7.82it/s]"
     ]
    },
    {
     "name": "stdout",
     "output_type": "stream",
     "text": [
      "No valid year found for W.E.B. Du Bois's Data Portraits: Visualizing Black America by Rusert, Britt, and Adrienne Brown\n",
      "No valid year found for The First Civil Right: How Liberals Built Prison America by Murakawa, Naomi\n",
      "No valid year found for Technology and the African-American Experience: Needs and Opportunities by Sinclair, Bruce\n"
     ]
    },
    {
     "name": "stderr",
     "output_type": "stream",
     "text": [
      "Processing books:  97%|████████████████████▎| 1301/1346 [02:49<00:05,  8.36it/s]"
     ]
    },
    {
     "name": "stdout",
     "output_type": "stream",
     "text": [
      "No valid year found for Vision, Race, and Modernity: A Visual Economy of the Andean Image World by Poole, Deborah\n",
      "No valid year found for Native American DNA: Trival Belonging and the False Promise of Genetic Science by TallBear, Kim\n",
      "No valid year found for In the Wake: On Blackness and Being by Sharpe, Christina\n",
      "No valid year found for Racial Formation in the United States: From the 1960s to the 1990s by Omi, Michael, and Howard Winant\n"
     ]
    },
    {
     "name": "stderr",
     "output_type": "stream",
     "text": [
      "\r",
      "Processing books:  97%|████████████████████▎| 1303/1346 [02:50<00:05,  8.35it/s]"
     ]
    },
    {
     "name": "stdout",
     "output_type": "stream",
     "text": [
      "No valid year found for Bodyminds Reimagined: (Dis) Ability, Race, and Gender in Black Women's Speculative Fiction by Schalk, Sami\n"
     ]
    },
    {
     "name": "stderr",
     "output_type": "stream",
     "text": [
      "Processing books:  97%|████████████████████▎| 1305/1346 [02:50<00:05,  6.93it/s]"
     ]
    },
    {
     "name": "stdout",
     "output_type": "stream",
     "text": [
      "No valid year found for Practices of Looking: An Introduction to Visual Culture by Sturken, Marita\n",
      "No valid year found for Twitter and Tear Gas: The Power and Fragility of Networked Protest by Tufekci, Zeynep\n"
     ]
    },
    {
     "name": "stderr",
     "output_type": "stream",
     "text": [
      "Processing books:  97%|████████████████████▍| 1308/1346 [02:50<00:04,  8.73it/s]"
     ]
    },
    {
     "name": "stdout",
     "output_type": "stream",
     "text": [
      "No valid year found for Capitalism: A Ghost Story by Roy, Arundhati\n",
      "No valid year found for From #BlackLivesMatter to Black Liberation by Taylor, Keeanga-Yamahtta\n",
      "No valid year found for Genetics and the Unsettled Past: The Collision of DNA, Race, and History by Wailoo, Keith, Alondra Nelson, and Catherine Lee\n",
      "No valid year found for Photography: A Critical Introduction by Wells, Liz\n"
     ]
    },
    {
     "name": "stderr",
     "output_type": "stream",
     "text": [
      "Processing books:  97%|████████████████████▍| 1312/1346 [02:51<00:03,  9.32it/s]"
     ]
    },
    {
     "name": "stdout",
     "output_type": "stream",
     "text": [
      "No valid year found for Habius Viscus: Racializing Assemblages, Biopolitics, and Black Feminist Theories of the Human by Weheliye, Alexander\n",
      "No valid year found for Ours to Hack and to Own: The Rise of Platform Cooperativism: A New Vision for the Future of Work and a Fairer Internet by Scholz, Trebor, and Nathan Schneider\n",
      "No valid year found for Dark Matter: A Century of Speculative Fiction from the AAfrican Diaspora by Thomas, Sheree Renee\n"
     ]
    },
    {
     "name": "stderr",
     "output_type": "stream",
     "text": [
      "\r",
      "Processing books:  98%|████████████████████▌| 1314/1346 [02:51<00:02, 10.68it/s]"
     ]
    },
    {
     "name": "stdout",
     "output_type": "stream",
     "text": [
      "No valid year found for Afrofuturism: The World of Black Sci-Fi and Fantasy Culture by Womack, Ytasha\n",
      "No valid year found for *Health Colonialism: Urban Wastelands and Hospital Frontiers by Krupar, Shiloh\n",
      "No valid year found for Medieval Robots: Mechanism, Magic, Nature, and Art by Truitt, Elly\n",
      "No valid year found for Carceral Capitalism by Wang, Jackie\n"
     ]
    },
    {
     "name": "stderr",
     "output_type": "stream",
     "text": [
      "\r",
      "Processing books:  98%|████████████████████▌| 1317/1346 [02:51<00:02, 11.03it/s]"
     ]
    },
    {
     "name": "stdout",
     "output_type": "stream",
     "text": [
      "No valid year found for Thicker than Blood: How Racial Statistics Lie by Zuberi, Tufuku\n",
      "No valid year found for *Woke Racism: How a New Religion Has Betrayed Black America by McWhorter, John\n"
     ]
    },
    {
     "name": "stderr",
     "output_type": "stream",
     "text": [
      "\r",
      "Processing books:  98%|████████████████████▌| 1319/1346 [02:51<00:02, 10.37it/s]"
     ]
    },
    {
     "name": "stdout",
     "output_type": "stream",
     "text": [
      "No valid year found for *Deadly Biocultures: The Ethics of Life-Making by Ehlers, Nadine, and Shilo Krupar\n"
     ]
    },
    {
     "name": "stderr",
     "output_type": "stream",
     "text": [
      "\r",
      "Processing books:  98%|████████████████████▌| 1321/1346 [02:52<00:02,  9.64it/s]"
     ]
    },
    {
     "name": "stdout",
     "output_type": "stream",
     "text": [
      "No valid year found for *Represent and Destroy by Melamed, Jodi\n",
      "No valid year found for *Genius Makers: The Mavericks Who Brough AI to Google, Facebook, and the World by Metz, Cade\n",
      "No valid year found for *Understanding E-Carceration: Electronic Monitoring, the Surveillance State, and the Future of Mass Incarceration by Kilgore, James\n",
      "No valid year found for *To Save Everything, Click Here by Morozov, Evgeny\n"
     ]
    },
    {
     "name": "stderr",
     "output_type": "stream",
     "text": [
      "\r",
      "Processing books:  98%|████████████████████▋| 1324/1346 [02:52<00:02,  9.88it/s]"
     ]
    },
    {
     "name": "stdout",
     "output_type": "stream",
     "text": [
      "No valid year found for *The Human Genome Diversity Project: An Ethnography of Scientific Practice by M'Charek, AmadeNo valid year found for *Bitcoin is Magic: Internet Money, Memetic Warfare, and the End of Mere Reality by Morris, David\n",
      "\n",
      "No valid year found for *Identity Capitalists: The Powerful Insiders who Exploit Diversity to Maintain Inequality by Leong, Nancy\n",
      "No valid year found for *Chasing Innovation: Making Entrepreneurial Citizens in Modern India by Irani, Lilly\n"
     ]
    },
    {
     "name": "stderr",
     "output_type": "stream",
     "text": [
      "Processing books:  99%|████████████████████▊| 1330/1346 [02:52<00:01, 10.99it/s]"
     ]
    },
    {
     "name": "stdout",
     "output_type": "stream",
     "text": [
      "No valid year found for *Spiraling Up: Discover Financial Serenity, Make Work Optional, and Live Happily in Retirement by Medland, Steven\n",
      "No valid year found for *The YouTube Apparatus by Munger, Kevin\n",
      "No valid year found for *The Performance Cortez: How Neuroscience is Redefining Athletic Genius by Schnobrun, Zach\n"
     ]
    },
    {
     "name": "stderr",
     "output_type": "stream",
     "text": [
      "\r",
      "Processing books:  99%|████████████████████▊| 1332/1346 [02:52<00:01, 11.72it/s]"
     ]
    },
    {
     "name": "stdout",
     "output_type": "stream",
     "text": [
      "No valid year found for *Modernity for the Masses by Leon, Ana Maria\n",
      "No valid year found for *Genius at Play: The Curious Mind of John Horton Conway by Roberts, Siobhan\n",
      "No valid year found for *Assimilation: An Alternative History by Ramíez, Catherine S.\n"
     ]
    },
    {
     "name": "stderr",
     "output_type": "stream",
     "text": [
      "\r",
      "Processing books:  99%|████████████████████▊| 1334/1346 [02:53<00:01,  8.32it/s]"
     ]
    },
    {
     "name": "stdout",
     "output_type": "stream",
     "text": [
      "No valid year found for *Other People's Property: A Shadow History of Hip-Hop in White America by Tanz, Jason\n",
      "No valid year found for *The Innovation Delusion: How Our Obsession with the New Has Disrupted the Work That Matters Most by Vinsel, Lee, and Andrew L. Russell\n"
     ]
    },
    {
     "name": "stderr",
     "output_type": "stream",
     "text": [
      "Processing books:  99%|████████████████████▊| 1337/1346 [02:53<00:01,  7.46it/s]"
     ]
    },
    {
     "name": "stdout",
     "output_type": "stream",
     "text": [
      "No valid year found for *Mobilizing Hope: Faith-Inspiried Activism for a Post-Civil Rights Generation by Taylor, Adam\n",
      "No valid year found for *Internet for the People: The Fight for Our Digital Future by Tarnoff, Ben\n"
     ]
    },
    {
     "name": "stderr",
     "output_type": "stream",
     "text": [
      "\r",
      "Processing books:  99%|████████████████████▉| 1339/1346 [02:54<00:00,  7.79it/s]"
     ]
    },
    {
     "name": "stdout",
     "output_type": "stream",
     "text": [
      "No valid year found for *Question Bridge: Black Males in America by Sinclair, Kamal\n",
      "No valid year found for *Code for What?: Computer Science for Storytelling and Social Justice by Lee, Clifford, and Elisabeth Soep\n",
      "No valid year found for *Genomics and the Reimagining of Personalized Medicine by Tutton, Richard\n"
     ]
    },
    {
     "name": "stderr",
     "output_type": "stream",
     "text": [
      "\r",
      "Processing books: 100%|████████████████████▉| 1341/1346 [02:54<00:00,  9.29it/s]"
     ]
    },
    {
     "name": "stdout",
     "output_type": "stream",
     "text": [
      "No valid year found for *Shaping Science: Organizations, Decisions, and Culture on NASA's Teams by Vertesi, Janet\n",
      "No valid year found for *The Whale and the Reactor: A Search for Limits in an Age of High Technology by Winner, Langdon\n"
     ]
    },
    {
     "name": "stderr",
     "output_type": "stream",
     "text": [
      "\r",
      "Processing books: 100%|████████████████████▉| 1343/1346 [02:54<00:00,  9.06it/s]"
     ]
    },
    {
     "name": "stdout",
     "output_type": "stream",
     "text": [
      "No valid year found for *Conviction: The Making and Unmaking of the Violent Brain by Rollins, Oliver\n",
      "No valid year found for *Using Equit Audits in the Classroom to Reach and Teach All Students by McKenzie, Kathryn Bell, James Joseph Scheurich, and Linda Skrla\n"
     ]
    },
    {
     "name": "stderr",
     "output_type": "stream",
     "text": [
      "\r",
      "Processing books: 100%|████████████████████▉| 1345/1346 [02:56<00:00,  2.73it/s]"
     ]
    },
    {
     "name": "stdout",
     "output_type": "stream",
     "text": [
      "No valid year found for *Civilizing Natures: Race, Resources, and Modernity in Colonial South India by Philip, Kavita\n"
     ]
    },
    {
     "name": "stderr",
     "output_type": "stream",
     "text": [
      "Processing books: 100%|█████████████████████| 1346/1346 [03:07<00:00,  7.17it/s]"
     ]
    },
    {
     "name": "stdout",
     "output_type": "stream",
     "text": [
      "No valid year found for An Anthropology of Robots and AI: Annihilation Anxiety and Machines by Richardson, Kathleen\n",
      "      Author                        Title   Genre  Pub_Year  \\\n",
      "0  Gay, Ross  The Book of (More) Delights  Essays      2023   \n",
      "1  Gay, Ross  The Book of (More) Delights  Essays      2023   \n",
      "2  Gay, Ross  The Book of (More) Delights  Essays      2023   \n",
      "3  Gay, Ross  The Book of (More) Delights  Essays      2023   \n",
      "4  Gay, Ross  The Book of (More) Delights  Essays      2023   \n",
      "\n",
      "                                    Connective_Title  \\\n",
      "0  No Country for Eight-Spot Butterflies: A Lyric...   \n",
      "1  A Pattern Language: Towns, Buildings, Construv...   \n",
      "2                                           My Pinup   \n",
      "3   Animal Joy: A Book of Laughter and Resuscitation   \n",
      "4  Modernism in the Streets: A Life and Times in ...   \n",
      "\n",
      "                Connective_Author  Read  Own  year  \n",
      "0                   Aguon, Julian   0.0  0.0  None  \n",
      "1  Alexander, Christopher, et. al   0.0  0.0  None  \n",
      "2                     Als, Hilton   0.0  0.0  None  \n",
      "3                   Alsadir, Nuar   0.0  0.0  None  \n",
      "4                Berman, Marshall   0.0  0.0  None  \n"
     ]
    },
    {
     "name": "stderr",
     "output_type": "stream",
     "text": [
      "\n"
     ]
    }
   ],
   "source": [
    "import pandas as pd\n",
    "import requests\n",
    "from bs4 import BeautifulSoup\n",
    "import re\n",
    "import time\n",
    "from datetime import datetime\n",
    "from concurrent.futures import ThreadPoolExecutor, as_completed\n",
    "from tqdm import tqdm\n",
    "\n",
    "# Load the Google Sheets file (as CSV or Excel)\n",
    "b = '/Users/mattnelson/Desktop/GitHub/Example-Work/Book Project/Books - Sheet1.csv'  # Replace with the path to your file\n",
    "df5 = pd.read_csv(b)\n",
    "\n",
    "# Add a 'year' column initialized with None values\n",
    "df5['year'] = None\n",
    "\n",
    "# Get the current year\n",
    "current_year = datetime.now().year\n",
    "\n",
    "# Function to extract the publishing year from search results\n",
    "def get_publishing_year(row):\n",
    "    title = row['Connective_Title']\n",
    "    author = row['Connective_Author']\n",
    "    query = f\"{title} {author} published in what year\"\n",
    "    url = f\"https://www.google.com/search?q={query}\"\n",
    "    headers = {\n",
    "        'User-Agent': 'Mozilla/5.0 (Windows NT 10.0; Win64; x64) AppleWebKit/537.36 (KHTML, like Gecko) Chrome/58.0.3029.110 Safari/537.36'\n",
    "    }\n",
    "\n",
    "    for _ in range(3):  # Retry logic\n",
    "        try:\n",
    "            response = requests.get(url, headers=headers)\n",
    "            soup = BeautifulSoup(response.text, 'html.parser')\n",
    "\n",
    "            # Extract the publishing year from the search results using regex\n",
    "            text = soup.get_text()\n",
    "            # Look for years within sentences containing keywords like \"published\"\n",
    "            match = re.search(r'\\b(?:published|released|first edition|year)\\D*(19|20)\\d{2}\\b', text, re.IGNORECASE)\n",
    "            if match:\n",
    "                year = int(match.group(1))\n",
    "                # Validate that the year is in a plausible range\n",
    "                if 1800 <= year <= current_year:\n",
    "                    return (row.name, year)\n",
    "                else:\n",
    "                    print(f\"Invalid year {year} found for {title} by {author}\")\n",
    "                    return (row.name, None)\n",
    "            else:\n",
    "                print(f\"No valid year found for {title} by {author}\")\n",
    "                return (row.name, None)\n",
    "        except Exception as e:\n",
    "            print(f\"Error extracting year for {title} by {author}: {e}\")\n",
    "            time.sleep(5)  # Wait for 5 seconds before retrying\n",
    "    return (row.name, None)\n",
    "\n",
    "# Function to update DataFrame with results\n",
    "def update_dataframe(results):\n",
    "    for index, year in results:\n",
    "        if year:\n",
    "            df5.at[index, 'year'] = year\n",
    "\n",
    "# Use ThreadPoolExecutor for concurrent requests with progress bar\n",
    "results = []\n",
    "with ThreadPoolExecutor(max_workers=10) as executor:\n",
    "    futures = {executor.submit(get_publishing_year, row): index for index, row in df.iterrows()}\n",
    "    for future in tqdm(as_completed(futures), total=len(futures), desc=\"Processing books\"):\n",
    "        result = future.result()\n",
    "        if result:\n",
    "            results.append(result)\n",
    "\n",
    "# Update the DataFrame with the results\n",
    "update_dataframe(results)\n",
    "\n",
    "# Display the updated DataFrame\n",
    "print(df5.head())"
   ]
  },
  {
   "cell_type": "code",
   "execution_count": 24,
   "id": "00562876",
   "metadata": {},
   "outputs": [],
   "source": [
    "df5.to_csv('check_books_2.csv', index=False)"
   ]
  },
  {
   "cell_type": "code",
   "execution_count": null,
   "id": "02db0a1d",
   "metadata": {},
   "outputs": [
    {
     "name": "stderr",
     "output_type": "stream",
     "text": [
      "\r",
      "Processing books:   0%|                                | 0/1346 [00:00<?, ?it/s]"
     ]
    },
    {
     "name": "stdout",
     "output_type": "stream",
     "text": [
      "Debug: Text extracted for The Body: An Essay by Boully, Jenny:\n",
      "The Body: An Essay Boully, Jenny published in what year - Google Search×Please click here if you are not redirected within a few seconds.    AllBooksImagesShopping Maps Videos News Search tools    Any timeAny timePast hourPast 24 hoursPast weekPast monthPast yearAll resultsAll resultsVerbatimThe body / Originally published2002The bodyBook by Jenny Boully4.2/5 · Goodreads\n",
      "4.2/5 · AbeBooks\n",
      "Cultural Writing. Poetry. Essays. Comprised of footnotes to a non-existent text, THE BODY: AN ESSAY is a medi\n",
      "Debug: No valid year found in matches for The Body: An Essay by Boully, Jenny: ['19', '20', '20', '20', '19', '20', '20', '20', '20', '20', '20']\n",
      "Debug: Text extracted for Modernism in the Streets: A Life and Times in Essays by Berman, Marshall:\n",
      "Modernism in the Streets: A Life and Times in Essays Berman, Marshall published in what year - Google Search×Please click here if you are not redirected within a few seconds.    AllBooksShoppingImages Maps Videos News Search tools    Any timeAny timePast hourPast 24 hoursPast weekPast monthPast yearAll resultsAll resultsVerbatimModernism in the Streets: A Life and Times in Essays | Verso Bookswww.versobooks.com › products › 255-modernism-in-the-streets Free 6–7 day delivery over $40 In stockConc\n",
      "Debug: No valid year found in matches for Modernism in the Streets: A Life and Times in Essays by Berman, Marshall: ['20', '19', '20', '20', '20', '20', '20', '20', '20', '19', '20', '20']\n",
      "Debug: Text extracted for My Pinup by Als, Hilton:\n",
      "My Pinup Als, Hilton published in what year - Google Search×Please click here if you are not redirected within a few seconds.    AllImagesBooksShopping Maps Videos News Search tools    Any timeAny timePast hourPast 24 hoursPast weekPast monthPast yearAll resultsAll resultsVerbatimMy PinupBook by Hilton Als3.7/5 · Goodreads\n",
      "Marrying the memoir and essay forms while exploring desire, Prince, and racism, Hilton Als’s My Pinup expands and delivers love. ... Google BooksOriginally published: 2022Auth\n",
      "Debug: No valid year found in matches for My Pinup by Als, Hilton: ['20', '20', '20', '20', '19', '20', '20', '20', '20', '20']\n",
      "Debug: Text extracted for No Country for Eight-Spot Butterflies: A Lyric Essay by Aguon, Julian:\n",
      "No Country for Eight-Spot Butterflies: A Lyric Essay Aguon, Julian published in what year - Google Search×Please click here if you are not redirected within a few seconds.    AllImagesShoppingNews Maps Videos Books Search tools    Any timeAny timePast hourPast 24 hoursPast weekPast monthPast yearAll resultsAll resultsVerbatimNo Country for Eight-Spot Butterflies: A Lyric Essay / Originally publishedOctober 25, 2022No Country for Eight-Spot Butterflies by Julian Aguonwww.penguinrandomhouse.com › \n",
      "Debug: No valid year found in matches for No Country for Eight-Spot Butterflies: A Lyric Essay by Aguon, Julian: ['20', '20', '20', '20', '20', '20', '20', '20']\n",
      "Debug: Text extracted for A Pattern Language: Towns, Buildings, Construvtion by Alexander, Christopher, et. al:\n",
      "A Pattern Language: Towns, Buildings, Construvtion Alexander, Christopher, et. al published in what year - Google Search×Please click here if you are not redirected within a few seconds.    AllImagesBooksShopping Maps Videos News Search tools    Any timeAny timePast hourPast 24 hoursPast weekPast monthPast yearAll resultsAll resultsVerbatimShowing results for A Pattern Language: Towns, Buildings, Construction Alexander, Christopher, et. al published in what yearSearch instead for A Pattern Langu\n",
      "Debug: No valid year found in matches for A Pattern Language: Towns, Buildings, Construvtion by Alexander, Christopher, et. al: ['19', '19', '19', '19', '20', '19']\n",
      "Debug: Text extracted for Bluest Nude: Poems by Codjoe, Ama:\n",
      "Bluest Nude: Poems Codjoe, Ama published in what year - Google Search×Please click here if you are not redirected within a few seconds.    AllImagesVideosNews Maps Shopping Books Search tools    Any timeAny timePast hourPast 24 hoursPast weekPast monthPast yearAll resultsAll resultsVerbatimBluest Nude: Poems / Originally publishedSeptember 13, 2022Bluest Nude | Milkweed Editionsmilkweed.org › book › bluest-nude$9.99Ama Codjoe's highly anticipated debut collection brings generous light to the inn\n",
      "Debug: No valid year found in matches for Bluest Nude: Poems by Codjoe, Ama: ['20', '20', '20', '20', '19', '20', '20', '20', '20', '20', '20']\n",
      "Debug: Text extracted for The Crying Book by Christle, Heather:\n",
      "The Crying Book Christle, Heather published in what year - Google Search×Please click here if you are not redirected within a few seconds.    AllShoppingImagesBooks Maps Videos News Search tools    Any timeAny timePast hourPast 24 hoursPast weekPast monthPast yearAll resultsAll resultsVerbatimThe Crying Book by Heather Christle | Goodreadswww.goodreads.com › book › show › 43835525-the-crying-bookRating  3.8  (531)   · $11.99Nov 5, 2019 · 208 pages, Paperback. First published November 5, 2019. Bo\n",
      "Debug: No valid year found in matches for The Crying Book by Christle, Heather: ['20', '20', '20', '20', '20', '20', '20']\n",
      "Debug: Text extracted for Why I Am Not Going to buy a Computer by Berry, Wendell:\n",
      "Why I Am Not Going to buy a Computer Berry, Wendell published in what year - Google Search×Please click here if you are not redirected within a few seconds.    AllNewsImagesShopping Maps Videos Books Search tools    Any timeAny timePast hourPast 24 hoursPast weekPast monthPast yearAll resultsAll resultsVerbatimWhy I Am Not Going to Buy a Computer: Essays / Originally publishedMay 1987WENDELL BERRY WHY I AM NOT GOING TO BUY A COMPUTER ...www.amazon.com › WENDELL-COMPUTER-ANGLAIS-PENGUIN-MO...Rati\n",
      "Debug: No valid year found in matches for Why I Am Not Going to buy a Computer by Berry, Wendell: ['19', '19', '20', '19', '20', '19', '20', '20', '20', '20']\n",
      "Debug: Text extracted for Animal Joy: A Book of Laughter and Resuscitation by Alsadir, Nuar:\n",
      "Animal Joy: A Book of Laughter and Resuscitation Alsadir, Nuar published in what year - Google Search×Please click here if you are not redirected within a few seconds.    AllBooksImagesShopping Maps Videos News Search tools    Any timeAny timePast hourPast 24 hoursPast weekPast monthPast yearAll resultsAll resultsVerbatimAnimal Joy: A Book of Laughter and Resuscitation / Originally publishedAugust 2022Animal Joy | Graywolf Presswww.graywolfpress.org › books › animal-joyAug 16, 2022 · Taking laug\n",
      "Debug: No valid year found in matches for Animal Joy: A Book of Laughter and Resuscitation by Alsadir, Nuar: ['20', '20', '20', '20', '20', '20', '20', '20', '20', '20', '20']\n",
      "Debug: Text extracted for The Book of Light by Clifton, Lucille:\n",
      "The Book of Light Clifton, Lucille published in what year - Google Search×Please click here if you are not redirected within a few seconds.    AllImagesBooksShopping Maps Videos News Search tools    Any timeAny timePast hourPast 24 hoursPast weekPast monthPast yearAll resultsAll resultsVerbatimThe book of light / Originally published1993People also askWhen did Lucille Clifton publish her first poem?How many children's books did Lucille Clifton write?What is Lucille Clifton's writing style?When d\n",
      "Debug: No valid year found in matches for The Book of Light by Clifton, Lucille: ['19', '19', '20', '19', '20', '19', '20', '19', '20', '20']\n",
      "Debug: Text extracted for Modernism in the Streets: A Life and Times in Essays by Berman, Marshall:\n",
      "Modernism in the Streets: A Life and Times in Essays Berman, Marshall published in what year - Google Search×Please click here if you are not redirected within a few seconds.    AllBooksShoppingImages Maps Videos News Search tools    Any timeAny timePast hourPast 24 hoursPast weekPast monthPast yearAll resultsAll resultsVerbatimModernism in the Streets: A Life and Times in Essays | Verso Bookswww.versobooks.com › products › 255-modernism-in-the-streets In stockConcluding with his last essay, com\n",
      "Debug: No valid year found in matches for Modernism in the Streets: A Life and Times in Essays by Berman, Marshall: ['20', '19', '20', '20', '20', '20', '20', '20', '20', '20', '20', '19', '20']\n",
      "Debug: Text extracted for Bluest Nude: Poems by Codjoe, Ama:\n",
      "Bluest Nude: Poems Codjoe, Ama published in what year - Google Search×Please click here if you are not redirected within a few seconds.    AllImagesVideosNews Maps Shopping Books Search tools    Any timeAny timePast hourPast 24 hoursPast weekPast monthPast yearAll resultsAll resultsVerbatimBluest Nude: Poems / Originally publishedSeptember 13, 2022Bluest Nude | Milkweed Editionsmilkweed.org › book › bluest-nude$9.99Ama Codjoe's highly anticipated debut collection brings generous light to the innDebug: Text extracted for My Pinup by Als, Hilton:\n",
      "My Pinup Als, Hilton published in what year - Google Search×Please click here if you are not redirected within a few seconds.    AllImagesBooksShopping Maps Videos News Search tools    Any timeAny timePast hourPast 24 hoursPast weekPast monthPast yearAll resultsAll resultsVerbatimMy PinupBook by Hilton Als3.7/5 · Goodreads\n",
      "Marrying the memoir and essay forms while exploring desire, Prince, and racism, Hilton Als’s My Pinup expands and delivers love. ... Google BooksOriginally published: 2022Auth\n",
      "Debug: No valid year found in matches for My Pinup by Als, Hilton: ['20', '20', '20', '20', '19', '20', '20', '20', '20', '20']\n",
      "\n",
      "Debug: No valid year found in matches for Bluest Nude: Poems by Codjoe, Ama: ['20', '20', '20', '20', '19', '20', '20', '20', '20', '20', '20']\n",
      "Debug: Text extracted for A Pattern Language: Towns, Buildings, Construvtion by Alexander, Christopher, et. al:\n",
      "A Pattern Language: Towns, Buildings, Construvtion Alexander, Christopher, et. al published in what year - Google Search×Please click here if you are not redirected within a few seconds.    AllImagesBooksShopping Maps Videos News Search tools    Any timeAny timePast hourPast 24 hoursPast weekPast monthPast yearAll resultsAll resultsVerbatimShowing results for A Pattern Language: Towns, Buildings, Construction Alexander, Christopher, et. al published in what yearSearch instead for A Pattern Langu\n",
      "Debug: No valid year found in matches for A Pattern Language: Towns, Buildings, Construvtion by Alexander, Christopher, et. al: ['19', '19', '19', '19', '20', '19']\n",
      "Debug: Text extracted for The Body: An Essay by Boully, Jenny:\n",
      "The Body: An Essay Boully, Jenny published in what year - Google Search×Please click here if you are not redirected within a few seconds.    AllBooksImagesShopping Maps Videos News Search tools    Any timeAny timePast hourPast 24 hoursPast weekPast monthPast yearAll resultsAll resultsVerbatimThe body / Originally published2002The bodyBook by Jenny Boully4.2/5 · Goodreads\n",
      "4.2/5 · AbeBooks\n",
      "Cultural Writing. Poetry. Essays. Comprised of footnotes to a non-existent text, THE BODY: AN ESSAY is a medi\n",
      "Debug: No valid year found in matches for The Body: An Essay by Boully, Jenny: ['19', '20', '20', '20', '19', '20', '20', '20', '20', '20', '20']\n",
      "Debug: Text extracted for No Country for Eight-Spot Butterflies: A Lyric Essay by Aguon, Julian:\n",
      "No Country for Eight-Spot Butterflies: A Lyric Essay Aguon, Julian published in what year - Google Search×Please click here if you are not redirected within a few seconds.    AllImagesShoppingNews Maps Videos Books Search tools    Any timeAny timePast hourPast 24 hoursPast weekPast monthPast yearAll resultsAll resultsVerbatimNo Country for Eight-Spot Butterflies: A Lyric Essay / Originally publishedOctober 25, 2022No Country for Eight-Spot Butterflies by Julian Aguonwww.penguinrandomhouse.com › \n",
      "Debug: No valid year found in matches for No Country for Eight-Spot Butterflies: A Lyric Essay by Aguon, Julian: ['20', '20', '20', '20', '20', '20']\n",
      "Debug: Text extracted for The Crying Book by Christle, Heather:\n",
      "The Crying Book Christle, Heather published in what year - Google Search×Please click here if you are not redirected within a few seconds.    AllImagesBooksNews Maps Videos Shopping Search tools    Any timeAny timePast hourPast 24 hoursPast weekPast monthPast yearAll resultsAll resultsVerbatimThe Crying Book by Heather Christle | Goodreadswww.goodreads.com › book › show › 43835525-the-crying-bookRating  3.8  (531)   · $11.99Nov 5, 2019 · 208 pages, Paperback. First published November 5, 2019. Bo\n",
      "Debug: No valid year found in matches for The Crying Book by Christle, Heather: ['20', '20', '20', '20', '20', '20', '20']\n"
     ]
    },
    {
     "name": "stdout",
     "output_type": "stream",
     "text": [
      "Debug: Text extracted for The Book of Light by Clifton, Lucille:\n",
      "The Book of Light Clifton, Lucille published in what year - Google Search×Please click here if you are not redirected within a few seconds.    AllShoppingImagesBooks Maps Videos News Search tools    Any timeAny timePast hourPast 24 hoursPast weekPast monthPast yearAll resultsAll resultsVerbatimThe book of light / Originally published1993People also askWhen did Lucille Clifton publish her first poem?How many children's books did Lucille Clifton write?What is Lucille Clifton's writing style?When d\n",
      "Debug: No valid year found in matches for The Book of Light by Clifton, Lucille: ['19', '20', '19', '20', '19', '20', '20', '20', '19', '19']\n",
      "Debug: Text extracted for Animal Joy: A Book of Laughter and Resuscitation by Alsadir, Nuar:\n",
      "Animal Joy: A Book of Laughter and Resuscitation Alsadir, Nuar published in what year - Google Search×Please click here if you are not redirected within a few seconds.    AllBooksImagesShopping Maps Videos News Search tools    Any timeAny timePast hourPast 24 hoursPast weekPast monthPast yearAll resultsAll resultsVerbatimAnimal Joy: A Book of Laughter and Resuscitation / Originally publishedAugust 2022Animal Joy | Graywolf Presswww.graywolfpress.org › books › animal-joyAug 16, 2022 · Taking laug\n",
      "Debug: No valid year found in matches for Animal Joy: A Book of Laughter and Resuscitation by Alsadir, Nuar: ['20', '20', '20', '20', '20', '20', '20', '20', '20', '20', '20']\n",
      "Debug: Text extracted for Why I Am Not Going to buy a Computer by Berry, Wendell:\n",
      "Why I Am Not Going to buy a Computer Berry, Wendell published in what year - Google Search×Please click here if you are not redirected within a few seconds.    AllNewsImagesShopping Maps Videos Books Search tools    Any timeAny timePast hourPast 24 hoursPast weekPast monthPast yearAll resultsAll resultsVerbatimWhy I Am Not Going to Buy a Computer: Essays / Originally publishedMay 1987Why I Am Not Going to Buy a Computer: EssaysBook by Wendell Berry3.7/5 · Goodreads\n",
      "'Do I wish to keep up with the\n",
      "Debug: No valid year found in matches for Why I Am Not Going to buy a Computer by Berry, Wendell: ['19', '20', '19', '20', '19', '20', '20', '20', '20']\n"
     ]
    },
    {
     "name": "stderr",
     "output_type": "stream",
     "text": [
      "Processing books:   0%|                        | 4/1346 [00:02<09:03,  2.47it/s]"
     ]
    },
    {
     "name": "stdout",
     "output_type": "stream",
     "text": [
      "Debug: Text extracted for My Pinup by Als, Hilton:\n",
      "My Pinup Als, Hilton published in what year - Google Search×Please click here if you are not redirected within a few seconds.    AllImagesBooksShopping Maps Videos News Search tools    Any timeAny timePast hourPast 24 hoursPast weekPast monthPast yearAll resultsAll resultsVerbatimMy PinupBook by Hilton Als3.7/5 · Goodreads\n",
      "Marrying the memoir and essay forms while exploring desire, Prince, and racism, Hilton Als’s My Pinup expands and delivers love. ... Google BooksOriginally published: 2022Auth\n",
      "Debug: No valid year found in matches for My Pinup by Als, Hilton: ['20', '20', '20', '20', '19', '20', '20', '20', '20', '20']\n",
      "Debug: Text extracted for Modernism in the Streets: A Life and Times in Essays by Berman, Marshall:\n",
      "Modernism in the Streets: A Life and Times in Essays Berman, Marshall published in what year - Google Search×Please click here if you are not redirected within a few seconds.    AllBooksShoppingImages Maps Videos News Search tools    Any timeAny timePast hourPast 24 hoursPast weekPast monthPast yearAll resultsAll resultsVerbatimProduct informationPublisher‎Verso (April 18, 2017)Language‎EnglishHardcover‎400 pagesISBN-10‎1784784982ISBN-13‎978-1784784980Modernism in the Streets: A Life and Times i\n",
      "Debug: No valid year found in matches for Modernism in the Streets: A Life and Times in Essays by Berman, Marshall: ['20', '19', '20', '20', '20', '20', '20', '20', '20']\n",
      "Debug: Text extracted for Bluest Nude: Poems by Codjoe, Ama:\n",
      "Bluest Nude: Poems Codjoe, Ama published in what year - Google Search×Please click here if you are not redirected within a few seconds.    AllImagesVideosNews Maps Shopping Books Search tools    Any timeAny timePast hourPast 24 hoursPast weekPast monthPast yearAll resultsAll resultsVerbatimBluest Nude: Poems / Originally publishedSeptember 13, 2022Bluest Nude | Milkweed Editionsmilkweed.org › book › bluest-nude$9.99Ama Codjoe's highly anticipated debut collection brings generous light to the inn\n",
      "Debug: No valid year found in matches for Bluest Nude: Poems by Codjoe, Ama: ['20', '20', '20', '20', '19', '20', '20', '20', '20', '20', '20']\n",
      "Debug: Text extracted for The Body: An Essay by Boully, Jenny:\n",
      "The Body: An Essay Boully, Jenny published in what year - Google Search×Please click here if you are not redirected within a few seconds.    AllBooksImagesShopping Maps Videos News Search tools    Any timeAny timePast hourPast 24 hoursPast weekPast monthPast yearAll resultsAll resultsVerbatimThe body / Originally published2002The bodyBook by Jenny Boully4.2/5 · Goodreads\n",
      "4.2/5 · AbeBooks\n",
      "Cultural Writing. Poetry. Essays. Comprised of footnotes to a non-existent text, THE BODY: AN ESSAY is a medi\n",
      "Debug: No valid year found in matches for The Body: An Essay by Boully, Jenny: ['19', '20', '20', '20', '19', '20', '20', '20', '20', '20', '20']\n",
      "Debug: Text extracted for No Country for Eight-Spot Butterflies: A Lyric Essay by Aguon, Julian:\n",
      "No Country for Eight-Spot Butterflies: A Lyric Essay Aguon, Julian published in what year - Google Search×Please click here if you are not redirected within a few seconds.    AllImagesShoppingNews Maps Videos Books Search tools    Any timeAny timePast hourPast 24 hoursPast weekPast monthPast yearAll resultsAll resultsVerbatimNo Country for Eight-Spot Butterflies: A Lyric Essay / Originally publishedOctober 25, 2022No Country for Eight-Spot Butterflies by Julian Aguonwww.penguinrandomhouse.com › \n",
      "Debug: No valid year found in matches for No Country for Eight-Spot Butterflies: A Lyric Essay by Aguon, Julian: ['20', '20', '20', '20']\n",
      "Debug: Text extracted for A Pattern Language: Towns, Buildings, Construvtion by Alexander, Christopher, et. al:\n",
      "A Pattern Language: Towns, Buildings, Construvtion Alexander, Christopher, et. al published in what year - Google Search×Please click here if you are not redirected within a few seconds.    AllImagesBooksShopping Maps Videos News Search tools    Any timeAny timePast hourPast 24 hoursPast weekPast monthPast yearAll resultsAll resultsVerbatimShowing results for A Pattern Language: Towns, Buildings, Construction Alexander, Christopher, et. al published in what yearSearch instead for A Pattern Langu\n",
      "Debug: No valid year found in matches for A Pattern Language: Towns, Buildings, Construvtion by Alexander, Christopher, et. al: ['19', '19', '19', '19', '20', '19']\n",
      "Debug: Text extracted for The Crying Book by Christle, Heather:\n",
      "The Crying Book Christle, Heather published in what year - Google Search×Please click here if you are not redirected within a few seconds.    AllShoppingImagesBooks Maps Videos News Search tools    Any timeAny timePast hourPast 24 hoursPast weekPast monthPast yearAll resultsAll resultsVerbatimThe Crying Book by Heather Christle | Goodreadswww.goodreads.com › book › show › 43835525-the-crying-bookRating  3.8  (531)   · $11.99Nov 5, 2019 · 208 pages, Paperback. First published November 5, 2019. Bo\n",
      "Debug: No valid year found in matches for The Crying Book by Christle, Heather: ['20', '20', '20', '20', '20', '20', '20']\n"
     ]
    },
    {
     "name": "stderr",
     "output_type": "stream",
     "text": [
      "\r",
      "Processing books:   1%|▏                       | 8/1346 [00:02<04:47,  4.65it/s]"
     ]
    },
    {
     "name": "stdout",
     "output_type": "stream",
     "text": [
      "Debug: Text extracted for Animal Joy: A Book of Laughter and Resuscitation by Alsadir, Nuar:\n",
      "Animal Joy: A Book of Laughter and Resuscitation Alsadir, Nuar published in what year - Google Search×Please click here if you are not redirected within a few seconds.    AllBooksImagesShopping Maps Videos News Search tools    Any timeAny timePast hourPast 24 hoursPast weekPast monthPast yearAll resultsAll resultsVerbatimAnimal Joy: A Book of Laughter and Resuscitation / Originally publishedAugust 2022Animal Joy | Graywolf Presswww.graywolfpress.org › books › animal-joyAug 16, 2022 · Taking laug\n",
      "Debug: No valid year found in matches for Animal Joy: A Book of Laughter and Resuscitation by Alsadir, Nuar: ['20', '20', '20', '20', '20', '20', '20', '20', '20', '20', '20']\n",
      "Debug: Text extracted for The Book of Light by Clifton, Lucille:\n",
      "The Book of Light Clifton, Lucille published in what year - Google Search×Please click here if you are not redirected within a few seconds.    AllImagesBooksShopping Maps Videos News Search tools    Any timeAny timePast hourPast 24 hoursPast weekPast monthPast yearAll resultsAll resultsVerbatimThe book of light / Originally published1993People also askWhen did Lucille Clifton publish her first poem?How many children's books did Lucille Clifton write?What is Lucille Clifton's writing style?When d\n",
      "Debug: No valid year found in matches for The Book of Light by Clifton, Lucille: ['19', '20', '19', '19', '20', '20', '20', '19', '20', '19']\n",
      "Debug: Text extracted for Why I Am Not Going to buy a Computer by Berry, Wendell:\n",
      "Why I Am Not Going to buy a Computer Berry, Wendell published in what year - Google Search×Please click here if you are not redirected within a few seconds.    AllNewsImagesShopping Maps Videos Books Search tools    Any timeAny timePast hourPast 24 hoursPast weekPast monthPast yearAll resultsAll resultsVerbatimWhy I Am Not Going to Buy a Computer: Essays / Originally publishedMay 1987Why I Am Not Going to Buy a Computer: EssaysBook by Wendell Berry3.7/5 · Goodreads\n",
      "'Do I wish to keep up with the\n",
      "Debug: No valid year found in matches for Why I Am Not Going to buy a Computer by Berry, Wendell: ['19', '19', '20', '19', '20', '19', '20', '20', '20', '20']\n",
      "Debug: Text extracted for Essays One by Davis, Lydia:\n",
      "Essays One Davis, Lydia published in what year - Google Search×Please click here if you are not redirected within a few seconds.    AllNewsShoppingImages Maps Videos Books Search tools    Any timeAny timePast hourPast 24 hoursPast weekPast monthPast yearAll resultsAll resultsVerbatimEssays One / Originally publishedNovember 12, 2019People also askWhen did Lydia Davis start writing?When was the first essay written?What is the composition of the essay?What is the concept of essay writing?Essays On\n",
      "Debug: No valid year found in matches for Essays One by Davis, Lydia: ['20', '20', '20', '20', '20', '20', '20', '20', '20', '20', '20']\n",
      "Debug: Text extracted for Of Solids and Surds: Notes for Noël Sturgeon, Marilyn Hacker, Josh Lukin, Mia Wolff, Bill Stribling and Bob White by Delaney, Samuel:\n",
      "Of Solids and Surds: Notes for Noël Sturgeon, Marilyn Hacker, Josh Lukin, Mia Wolff, Bill Stribling and Bob White Delaney, Samuel published in what year - Google Search×Please click here if you are not redirected within a few seconds.    AllNewsBooksImages Maps Videos Shopping Search tools    Any timeAny timePast hourPast 24 hoursPast weekPast monthPast yearAll resultsAll resultsVerbatimOf Solids and Surds: Notes for Noël Sturgeon, Marilyn Hacker, Josh ...www.amazon.com › Solids-Surds-Sturgeon-M\n",
      "Debug: No valid year found in matches for Of Solids and Surds: Notes for Noël Sturgeon, Marilyn Hacker, Josh Lukin, Mia Wolff, Bill Stribling and Bob White by Delaney, Samuel: ['20', '20', '20', '20', '20', '20', '20']\n",
      "Debug: Text extracted for W.E.B. Du Bois's Data Portraits: Visualizing Black America by Du Bois, W.E.B.:\n",
      "W.E.B. Du Bois's Data Portraits: Visualizing Black America Du Bois, W.E.B. published in what year - Google Search×Please click here if you are not redirected within a few seconds.    AllBooksImagesShopping Maps Videos News Search tools    Any timeAny timePast hourPast 24 hoursPast weekPast monthPast yearAll resultsAll resultsVerbatimThe stunning spiral diagram on the front is just one of the sixty-three data portraits, or “infographics,” created by Du Bois and his team as part of the American Ne\n",
      "Debug: No valid year found in matches for W.E.B. Du Bois's Data Portraits: Visualizing Black America by Du Bois, W.E.B.: ['19', '19', '20', '19', '20', '19', '20', '19', '20', '20', '19']\n",
      "Debug: Text extracted for The Last Days of Roger Federer: ANd Other Essays by Dyer, Geoff:\n",
      "The Last Days of Roger Federer: ANd Other Essays Dyer, Geoff published in what year - Google Search×Please click here if you are not redirected within a few seconds.    AllNewsBooksShopping Images Maps Videos Search tools    Any timeAny timePast hourPast 24 hoursPast weekPast monthPast yearAll resultsAll resultsVerbatimThe Last Days of Roger Federer is a summation of Dyer's passions, and the perfect introduction to his sly and joyous work. The paper back of The Last Days of Roger Federer is publ\n",
      "Debug: No valid year found in matches for The Last Days of Roger Federer: ANd Other Essays by Dyer, Geoff: ['20', '20', '20', '20', '20', '20', '20', '20', '20']\n",
      "Debug: Text extracted for The Brief Wonderous Life of Oscar Wao by Díaz, Junot:\n",
      "The Brief Wonderous Life of Oscar Wao Díaz, Junot published in what year - Google Search×Please click here if you are not redirected within a few seconds.    AllImagesBooksNews Maps Videos Shopping Search tools    Any timeAny timePast hourPast 24 hoursPast weekPast monthPast yearAll resultsAll resultsVerbatimShowing results for The Brief Wondrous Life of Oscar Wao Díaz, Junot published in what yearSearch instead for The Brief Wonderous Life of Oscar Wao Díaz, Junot published in what yearThe Brie\n",
      "Debug: No valid year found in matches for The Brief Wonderous Life of Oscar Wao by Díaz, Junot: ['20', '20', '20', '20', '20', '20', '19', '19', '19', '19', '19', '19']\n",
      "Debug: Text extracted for Suppose a Sentence by Dillon, Brian:\n",
      "Suppose a Sentence Dillon, Brian published in what year - Google Search×Please click here if you are not redirected within a few seconds.    AllBooksShoppingImages Maps Videos News Search tools    Any timeAny timePast hourPast 24 hoursPast weekPast monthPast yearAll resultsAll resultsVerbatimSuppose a Sentence / Originally publishedSeptember 2020Suppose a Sentence: 9781681375243: Dillon, Brian: Bookswww.amazon.com › Suppose-Sentence-Brian-DillonRating  4.5  (169)   · $5.99 deliveryBook details ;\n",
      "Debug: No valid year found in matches for Suppose a Sentence by Dillon, Brian: ['20', '20', '20', '20', '20', '20', '20', '19', '20', '20', '20', '20', '20', '20', '20', '20']\n",
      "Debug: Text extracted for Black Reconstruction by Du Bois, W.E.B.:\n",
      "Black Reconstruction Du Bois, W.E.B. published in what year - Google Search×Please click here if you are not redirected within a few seconds.    AllBooksImagesNews Maps Videos Shopping Search tools    Any timeAny timePast hourPast 24 hoursPast weekPast monthPast yearAll resultsAll resultsVerbatimUpon its publication in 1935, W.E.B. Du Bois's Black Reconstruction offered a radical new assessment of the post–Civil War era, a time when African American progress was met with a white supremacist back\n",
      "Debug: No valid year found in matches for Black Reconstruction by Du Bois, W.E.B.: ['19', '19', '19', '20', '20', '19', '19', '19', '19', '20', '19', '19']\n",
      "Debug: Text extracted for The Black Agenda by Ford, Glen:\n",
      "The Black Agenda Ford, Glen published in what year - Google Search×Please click here if you are not redirected within a few seconds.    AllNewsShoppingImages Maps Videos Books Search tools    Any timeAny timePast hourPast 24 hoursPast weekPast monthPast yearAll resultsAll resultsVerbatimThe Black Agenda / Originally publishedSeptember 2021The Black Agenda - AK Presswww.akpress.org › the-black-agenda$21.95 365-day returnsIn this stunning overview, Glen Ford draws from his work for Black Agenda Re\n",
      "Debug: No valid year found in matches for The Black Agenda by Ford, Glen: ['20', '20', '20', '20', '20', '20', '20', '20', '20', '20', '20']\n",
      "Debug: Text extracted for The Book of Embraces by Galeano, Eduardo:\n",
      "The Book of Embraces Galeano, Eduardo published in what year - Google Search×Please click here if you are not redirected within a few seconds.    AllBooksImagesNews Maps Videos Shopping Search tools    Any timeAny timePast hourPast 24 hoursPast weekPast monthPast yearAll resultsAll resultsVerbatimThe Book of Embraces / Originally published1989The Book of EmbracesBook by Eduardo Galeano4.3/5 · Goodreads\n",
      "Eduardo Galeano's is considered a passionate literary voice. In \"The Book of Embraces\", he emp\n",
      "Debug: No valid year found in matches for The Book of Embraces by Galeano, Eduardo: ['19', '20', '19', '19', '19', '20', '20', '19', '19', '19', '19', '19']\n",
      "Debug: Text extracted for Essays One by Davis, Lydia:\n",
      "Essays One Davis, Lydia published in what year - Google Search×Please click here if you are not redirected within a few seconds.    AllNewsImagesBooks Maps Videos Shopping Search tools    Any timeAny timePast hourPast 24 hoursPast weekPast monthPast yearAll resultsAll resultsVerbatimEssays One / Originally publishedNovember 12, 2019People also askWhen did Lydia Davis start writing?When was the first essay written?Who is the author named Davis?What is the composition of the essay?Essays One: Davi\n",
      "Debug: No valid year found in matches for Essays One by Davis, Lydia: ['20', '20', '20', '20', '20', '20', '20', '20', '20', '20', '20']\n",
      "Debug: Text extracted for Of Solids and Surds: Notes for Noël Sturgeon, Marilyn Hacker, Josh Lukin, Mia Wolff, Bill Stribling and Bob White by Delaney, Samuel:\n",
      "Of Solids and Surds: Notes for Noël Sturgeon, Marilyn Hacker, Josh Lukin, Mia Wolff, Bill Stribling and Bob White Delaney, Samuel published in what year - Google Search×Please click here if you are not redirected within a few seconds.    AllNewsBooksImages Maps Videos Shopping Search tools    Any timeAny timePast hourPast 24 hoursPast weekPast monthPast yearAll resultsAll resultsVerbatimOf Solids and Surds: Notes for Noël Sturgeon, Marilyn Hacker, Josh ...www.amazon.com › Solids-Surds-Sturgeon-M\n",
      "Debug: No valid year found in matches for Of Solids and Surds: Notes for Noël Sturgeon, Marilyn Hacker, Josh Lukin, Mia Wolff, Bill Stribling and Bob White by Delaney, Samuel: ['20', '20', '20', '20', '20', '20', '20']\n"
     ]
    },
    {
     "name": "stdout",
     "output_type": "stream",
     "text": [
      "Debug: Text extracted for The Last Days of Roger Federer: ANd Other Essays by Dyer, Geoff:\n",
      "The Last Days of Roger Federer: ANd Other Essays Dyer, Geoff published in what year - Google Search×Please click here if you are not redirected within a few seconds.    AllNewsBooksImages Maps Videos Shopping Search tools    Any timeAny timePast hourPast 24 hoursPast weekPast monthPast yearAll resultsAll resultsVerbatimThe Last Days of Roger Federer is a summation of Dyer's passions, and the perfect introduction to his sly and joyous work. The paper back of The Last Days of Roger Federer is publ\n",
      "Debug: No valid year found in matches for The Last Days of Roger Federer: ANd Other Essays by Dyer, Geoff: ['20', '20', '20', '20', '20', '20', '20', '20', '20']\n",
      "Debug: Text extracted for W.E.B. Du Bois's Data Portraits: Visualizing Black America by Du Bois, W.E.B.:\n",
      "W.E.B. Du Bois's Data Portraits: Visualizing Black America Du Bois, W.E.B. published in what year - Google Search×Please click here if you are not redirected within a few seconds.    AllBooksImagesShopping Maps Videos News Search tools    Any timeAny timePast hourPast 24 hoursPast weekPast monthPast yearAll resultsAll resultsVerbatimThe stunning spiral diagram on the front is just one of the sixty-three data portraits, or “infographics,” created by Du Bois and his team as part of the American Ne\n",
      "Debug: No valid year found in matches for W.E.B. Du Bois's Data Portraits: Visualizing Black America by Du Bois, W.E.B.: ['19', '19', '20', '19', '20', '19', '20', '20', '19', '20', '19']\n",
      "Debug: Text extracted for See/Saw: Looking at Photographs by Dyer, Geoff:\n",
      "See/Saw: Looking at Photographs Dyer, Geoff published in what year - Google Search×Please click here if you are not redirected within a few seconds.    AllImagesBooksShopping Maps Videos News Search tools    Any timeAny timePast hourPast 24 hoursPast weekPast monthPast yearAll resultsAll resultsVerbatimSee/Saw: Looking at Photographs / Originally published2021See/Saw: Looking at PhotographsBook by Geoff Dyer4/5 · Goodreads\n",
      "4/5 · AbeBooks\n",
      "See/Saw' is an illuminating history of how photographs fra\n",
      "Debug: No valid year found in matches for See/Saw: Looking at Photographs by Dyer, Geoff: ['20', '20', '20', '20', '20', '20', '20']\n",
      "Debug: Text extracted for The Brief Wonderous Life of Oscar Wao by Díaz, Junot:\n",
      "The Brief Wonderous Life of Oscar Wao Díaz, Junot published in what year - Google Search×Please click here if you are not redirected within a few seconds.    AllImagesBooksNews Maps Videos Shopping Search tools    Any timeAny timePast hourPast 24 hoursPast weekPast monthPast yearAll resultsAll resultsVerbatimShowing results for The Brief Wondrous Life of Oscar Wao Díaz, Junot published in what yearSearch instead for The Brief Wonderous Life of Oscar Wao Díaz, Junot published in what yearThe Brie\n",
      "Debug: No valid year found in matches for The Brief Wonderous Life of Oscar Wao by Díaz, Junot: ['20', '20', '20', '20', '20', '20', '20']\n",
      "Debug: Text extracted for Black Reconstruction by Du Bois, W.E.B.:\n",
      "Black Reconstruction Du Bois, W.E.B. published in what year - Google Search×Please click here if you are not redirected within a few seconds.    AllBooksShoppingImages Maps Videos News Search tools    Any timeAny timePast hourPast 24 hoursPast weekPast monthPast yearAll resultsAll resultsVerbatimUpon its publication in 1935, W.E.B. Du Bois's Black Reconstruction offered a radical new assessment of the post–Civil War era, a time when African American progress was met with a white supremacist back\n",
      "Debug: No valid year found in matches for Black Reconstruction by Du Bois, W.E.B.: ['19', '19', '19', '20', '20', '19', '19', '19', '19', '20', '19', '19']\n"
     ]
    },
    {
     "name": "stderr",
     "output_type": "stream",
     "text": [
      "\r",
      "Processing books:   1%|▏                      | 11/1346 [00:03<06:51,  3.24it/s]"
     ]
    },
    {
     "name": "stdout",
     "output_type": "stream",
     "text": [
      "Debug: Text extracted for The Black Agenda by Ford, Glen:\n",
      "The Black Agenda Ford, Glen published in what year - Google Search×Please click here if you are not redirected within a few seconds.    AllNewsShoppingImages Maps Videos Books Search tools    Any timeAny timePast hourPast 24 hoursPast weekPast monthPast yearAll resultsAll resultsVerbatimThe Black Agenda / Originally publishedSeptember 2021The Black Agenda - AK Presswww.akpress.org › the-black-agenda$21.95In this stunning overview, Glen Ford draws from his work for Black Agenda Report, one of the\n",
      "Debug: No valid year found in matches for The Black Agenda by Ford, Glen: ['20', '20', '20', '20', '20', '20', '20', '20', '20', '20', '20']\n",
      "Debug: Text extracted for Suppose a Sentence by Dillon, Brian:\n",
      "Suppose a Sentence Dillon, Brian published in what year - Google Search×Please click here if you are not redirected within a few seconds.    AllBooksShoppingImages Maps Videos News Search tools    Any timeAny timePast hourPast 24 hoursPast weekPast monthPast yearAll resultsAll resultsVerbatimSuppose a Sentence / Originally publishedSeptember 2020Suppose a Sentence: 9781681375243: Dillon, Brian: Bookswww.amazon.com › Suppose-Sentence-Brian-DillonRating  4.5  (169)   · $5.99 deliveryBook details ;\n",
      "Debug: No valid year found in matches for Suppose a Sentence by Dillon, Brian: ['20', '20', '20', '20', '20', '20', '20', '19', '20', '20', '20', '20', '20', '20', '20']\n",
      "Debug: Text extracted for Essays One by Davis, Lydia:\n",
      "Essays One Davis, Lydia published in what year - Google Search×Please click here if you are not redirected within a few seconds.    AllNewsImagesBooks Maps Videos Shopping Search tools    Any timeAny timePast hourPast 24 hoursPast weekPast monthPast yearAll resultsAll resultsVerbatimEssays One / Originally publishedNovember 12, 2019People also askWhen did Lydia Davis start writing?When was the first essay written?What is the composition of the essay?What is the concept of essay writing?Essays On\n",
      "Debug: No valid year found in matches for Essays One by Davis, Lydia: ['20', '20', '20', '20', '20', '20', '20', '20', '20', '20', '20']\n"
     ]
    },
    {
     "name": "stderr",
     "output_type": "stream",
     "text": [
      "\r",
      "Processing books:   1%|▏                      | 14/1346 [00:03<04:43,  4.69it/s]"
     ]
    },
    {
     "name": "stdout",
     "output_type": "stream",
     "text": [
      "Debug: Text extracted for W.E.B. Du Bois's Data Portraits: Visualizing Black America by Du Bois, W.E.B.:\n",
      "W.E.B. Du Bois's Data Portraits: Visualizing Black America Du Bois, W.E.B. published in what year - Google Search×Please click here if you are not redirected within a few seconds.    AllBooksImagesShopping Maps Videos News Search tools    Any timeAny timePast hourPast 24 hoursPast weekPast monthPast yearAll resultsAll resultsVerbatimDu Bois's Data Portraits: Visualizing Black America. The colorful charts, graphs, and maps presented at the 1900 Paris Exposition by famed sociologist and black righ\n",
      "Debug: No valid year found in matches for W.E.B. Du Bois's Data Portraits: Visualizing Black America by Du Bois, W.E.B.: ['19', '19', '19', '20', '20', '19', '20', '19', '20', '19', '19']\n",
      "Debug: Text extracted for Of Solids and Surds: Notes for Noël Sturgeon, Marilyn Hacker, Josh Lukin, Mia Wolff, Bill Stribling and Bob White by Delaney, Samuel:\n",
      "Of Solids and Surds: Notes for Noël Sturgeon, Marilyn Hacker, Josh Lukin, Mia Wolff, Bill Stribling and Bob White Delaney, Samuel published in what year - Google Search×Please click here if you are not redirected within a few seconds.    AllNewsBooksImages Maps Videos Shopping Search tools    Any timeAny timePast hourPast 24 hoursPast weekPast monthPast yearAll resultsAll resultsVerbatimOf Solids and Surds: Notes for Noël Sturgeon, Marilyn Hacker, Josh ...www.amazon.com › Solids-Surds-Sturgeon-M\n",
      "Debug: No valid year found in matches for Of Solids and Surds: Notes for Noël Sturgeon, Marilyn Hacker, Josh Lukin, Mia Wolff, Bill Stribling and Bob White by Delaney, Samuel: ['20', '20', '20', '20', '20', '20', '20', '20', '20']\n",
      "Debug: Text extracted for The Book of Embraces by Galeano, Eduardo:\n",
      "The Book of Embraces Galeano, Eduardo published in what year - Google Search×Please click here if you are not redirected within a few seconds.    AllBooksImagesNews Maps Videos Shopping Search tools    Any timeAny timePast hourPast 24 hoursPast weekPast monthPast yearAll resultsAll resultsVerbatimThe Book of Embraces / Originally published1989The Book of EmbracesBook by Eduardo Galeano4.3/5 · Goodreads\n",
      "Eduardo Galeano's is considered a passionate literary voice. In \"The Book of Embraces\", he emp\n",
      "Debug: No valid year found in matches for The Book of Embraces by Galeano, Eduardo: ['19', '20', '19', '19', '19', '19', '20', '20', '19', '19', '19', '19']\n",
      "Debug: Text extracted for The Last Days of Roger Federer: ANd Other Essays by Dyer, Geoff:\n",
      "The Last Days of Roger Federer: ANd Other Essays Dyer, Geoff published in what year - Google Search×Please click here if you are not redirected within a few seconds.    AllNewsBooksImages Maps Videos Shopping Search tools    Any timeAny timePast hourPast 24 hoursPast weekPast monthPast yearAll resultsAll resultsVerbatimThe Last Days of Roger Federer is a summation of Dyer's passions, and the perfect introduction to his sly and joyous work. The paper back of The Last Days of Roger Federer is publ\n",
      "Debug: No valid year found in matches for The Last Days of Roger Federer: ANd Other Essays by Dyer, Geoff: ['20', '20', '20', '20', '20', '20', '20', '20']\n"
     ]
    },
    {
     "name": "stderr",
     "output_type": "stream",
     "text": [
      "\r",
      "Processing books:   1%|▎                      | 16/1346 [00:04<04:26,  5.00it/s]"
     ]
    },
    {
     "name": "stdout",
     "output_type": "stream",
     "text": [
      "Debug: Text extracted for See/Saw: Looking at Photographs by Dyer, Geoff:\n",
      "See/Saw: Looking at Photographs Dyer, Geoff published in what year - Google Search×Please click here if you are not redirected within a few seconds.    AllImagesBooksShopping Maps Videos News Search tools    Any timeAny timePast hourPast 24 hoursPast weekPast monthPast yearAll resultsAll resultsVerbatimSee/Saw: Looking at Photographs / Originally published2021See/Saw: Looking at Photographs: Dyer, Geoff - Amazon.comwww.amazon.com › See-Saw-Looking-at-PhotographsRating  4.4  (115)   · $22.52  · 3\n",
      "Debug: No valid year found in matches for See/Saw: Looking at Photographs by Dyer, Geoff: ['20', '20', '20', '20', '20', '20', '20', '20', '20', '20', '20', '20', '20']\n",
      "Debug: Text extracted for Black Reconstruction by Du Bois, W.E.B.:\n",
      "Black Reconstruction Du Bois, W.E.B. published in what year - Google Search×Please click here if you are not redirected within a few seconds.    AllBooksShoppingImages Maps Videos News Search tools    Any timeAny timePast hourPast 24 hoursPast weekPast monthPast yearAll resultsAll resultsVerbatimUpon its publication in 1935, W.E.B. Du Bois's Black Reconstruction offered a radical new assessment of the post–Civil War era, a time when African American progress was met with a white supremacist back\n",
      "Debug: No valid year found in matches for Black Reconstruction by Du Bois, W.E.B.: ['19', '19', '19', '20', '20', '19', '19', '19', '19', '20', '19', '20', '19']\n",
      "Debug: Text extracted for Suppose a Sentence by Dillon, Brian:\n",
      "Suppose a Sentence Dillon, Brian published in what year - Google Search×Please click here if you are not redirected within a few seconds.    AllBooksShoppingImages Maps Videos News Search tools    Any timeAny timePast hourPast 24 hoursPast weekPast monthPast yearAll resultsAll resultsVerbatimSuppose a Sentence / Originally publishedSeptember 2020Suppose a Sentence: 9781681375243: Dillon, Brian: Bookswww.amazon.com › Suppose-Sentence-Brian-DillonRating  4.5  (169)   · $5.99 deliveryBook details ;\n",
      "Debug: No valid year found in matches for Suppose a Sentence by Dillon, Brian: ['20', '20', '20', '20', '20', '20', '20', '19', '20', '20', '20', '20', '20', '20', '20']\n",
      "Debug: Text extracted for The Brief Wonderous Life of Oscar Wao by Díaz, Junot:\n",
      "The Brief Wonderous Life of Oscar Wao Díaz, Junot published in what year - Google Search×Please click here if you are not redirected within a few seconds.    AllImagesBooksNews Maps Videos Shopping Search tools    Any timeAny timePast hourPast 24 hoursPast weekPast monthPast yearAll resultsAll resultsVerbatimShowing results for The Brief Wondrous Life of Oscar Wao Díaz, Junot published in what yearSearch instead for The Brief Wonderous Life of Oscar Wao Díaz, Junot published in what yearThe Brie\n",
      "Debug: No valid year found in matches for The Brief Wonderous Life of Oscar Wao by Díaz, Junot: ['20', '20', '20', '20', '20', '20', '19', '19', '19', '19', '19', '19']\n",
      "Debug: Text extracted for The Black Agenda by Ford, Glen:\n",
      "The Black Agenda Ford, Glen published in what year - Google Search×Please click here if you are not redirected within a few seconds.    AllNewsImagesShopping Maps Videos Books Search tools    Any timeAny timePast hourPast 24 hoursPast weekPast monthPast yearAll resultsAll resultsVerbatimThe Black Agenda / Originally publishedSeptember 2021The Black Agenda - AK Presswww.akpress.org › the-black-agenda$21.95 365-day returnsIn this stunning overview, Glen Ford draws from his work for Black Agenda Re\n",
      "Debug: No valid year found in matches for The Black Agenda by Ford, Glen: ['20', '20', '20', '20', '20', '20', '20', '20', '20', '20', '20']\n",
      "Debug: Text extracted for Memory of Fire Trilogy by Galeano, Eduardo:\n",
      "Memory of Fire Trilogy Galeano, Eduardo published in what year - Google Search×Please click here if you are not redirected within a few seconds.    AllBooksNewsImages Maps Videos Shopping Search tools    Any timeAny timePast hourPast 24 hoursPast weekPast monthPast yearAll resultsAll resultsVerbatimEduardo Galeano's Memory of Fire trilogy is a grand mosaic of lyrical North and South American history that meditates on the Old World and the painful creation of the New World.Apr 24, 2023Eduardo Gal\n",
      "Debug: No valid year found in matches for Memory of Fire Trilogy by Galeano, Eduardo: ['19', '19', '19', '19', '20', '20']\n",
      "Debug: Text extracted for Soccer in Sun and Shadow by Galeano, Eduardo:\n",
      "Soccer in Sun and Shadow Galeano, Eduardo published in what year - Google Search×Please click here if you are not redirected within a few seconds.    AllBooksImagesNews Maps Videos Shopping Search tools    Any timeAny timePast hourPast 24 hoursPast weekPast monthPast yearAll resultsAll resultsVerbatimSoccer in Sun and Shadow / Originally published1995People also askWhat is the story of soccer in sun and shadow?Who is global soccer's pre eminent man of letters?Soccer in Sun and Shadow: 9781568584\n",
      "Debug: No valid year found in matches for Soccer in Sun and Shadow by Galeano, Eduardo: ['20', '20', '19', '20', '19', '20', '19', '20', '20']\n",
      "Debug: Text extracted for Growing Up Absurd by Goodman, Paul:\n",
      "Growing Up Absurd Goodman, Paul published in what year - Google Search×Please click here if you are not redirected within a few seconds.    AllBooksImagesNews Maps Videos Shopping Search tools    Any timeAny timePast hourPast 24 hoursPast weekPast monthPast yearAll resultsAll resultsVerbatimGrowing Up Absurd / Originally published1960Growing Up AbsurdBook by Paul GoodmanGrowing Up Absurd is a 1960 book by Paul Goodman on the relationship between American juvenile delinquency and societal opportu\n",
      "Debug: No valid year found in matches for Growing Up Absurd by Goodman, Paul: ['19', '20', '19', '19', '19', '19', '19', '19']\n",
      "Debug: Text extracted for Open Veins of Latin America: Five Centuries of the Pillage of a Continent by Galeano, Eduardo:\n",
      "Open Veins of Latin America: Five Centuries of the Pillage of a Continent Galeano, Eduardo published in what year - Google Search×Please click here if you are not redirected within a few seconds.    AllBooksShoppingNews Images Maps Videos Search tools    Any timeAny timePast hourPast 24 hoursPast weekPast monthPast yearAll resultsAll resultsVerbatimOpen Veins of Latin AmericaAuthorEduardo GaleanoPublication date1971Publication placeUruguayPublished in English1973 (1st edition) 1997 (25th anniv. \n",
      "Debug: No valid year found in matches for Open Veins of Latin America: Five Centuries of the Pillage of a Continent by Galeano, Eduardo: ['19', '20', '20', '20', '19', '19', '19']\n"
     ]
    },
    {
     "name": "stderr",
     "output_type": "stream",
     "text": [
      "\r",
      "Processing books:   1%|▎                      | 19/1346 [00:04<03:55,  5.63it/s]"
     ]
    },
    {
     "name": "stdout",
     "output_type": "stream",
     "text": [
      "Debug: Text extracted for The Book of Embraces by Galeano, Eduardo:\n",
      "The Book of Embraces Galeano, Eduardo published in what year - Google Search×Please click here if you are not redirected within a few seconds.    AllBooksImagesNews Maps Videos Shopping Search tools    Any timeAny timePast hourPast 24 hoursPast weekPast monthPast yearAll resultsAll resultsVerbatimThe Book of Embraces / Originally published1989The Book of EmbracesBook by Eduardo Galeano4.3/5 · Goodreads\n",
      "Eduardo Galeano's is considered a passionate literary voice. In \"The Book of Embraces\", he emp\n",
      "Debug: No valid year found in matches for The Book of Embraces by Galeano, Eduardo: ['19', '20', '19', '19', '19', '19', '20', '20', '19', '19', '19', '19']\n",
      "Debug: Text extracted for Taking a Long Look: Essays on Culture, Literature, and Feminism in Our Time by Gornick, Vivian:\n",
      "Taking a Long Look: Essays on Culture, Literature, and Feminism in Our Time Gornick, Vivian published in what year - Google Search×Please click here if you are not redirected within a few seconds.    AllBooksNewsImages Maps Videos Shopping Search tools    Any timeAny timePast hourPast 24 hoursPast weekPast monthPast yearAll resultsAll resultsVerbatimBibliographic informationTitleTaking A Long Look: Essays on Culture, Literature, and Feminism in Our TimeAuthorVivian GornickPublisherVerso Books, 2\n",
      "Debug: No valid year found in matches for Taking a Long Look: Essays on Culture, Literature, and Feminism in Our Time by Gornick, Vivian: ['20', '20', '20', '20', '20']\n"
     ]
    },
    {
     "name": "stderr",
     "output_type": "stream",
     "text": [
      "\r",
      "Processing books:   1%|▎                      | 20/1346 [00:04<04:16,  5.17it/s]"
     ]
    },
    {
     "name": "stdout",
     "output_type": "stream",
     "text": [
      "Debug: Text extracted for See/Saw: Looking at Photographs by Dyer, Geoff:\n",
      "See/Saw: Looking at Photographs Dyer, Geoff published in what year - Google Search×Please click here if you are not redirected within a few seconds.    AllImagesBooksShopping Maps Videos News Search tools    Any timeAny timePast hourPast 24 hoursPast weekPast monthPast yearAll resultsAll resultsVerbatimSee/Saw: Looking at Photographs / Originally published2021See/Saw: Looking at PhotographsBook by Geoff Dyer4/5 · Goodreads\n",
      "See/Saw' is an illuminating history of how photographs frame and change o\n",
      "Debug: No valid year found in matches for See/Saw: Looking at Photographs by Dyer, Geoff: ['20', '20', '20', '20', '20', '20', '20', '20', '20', '20']\n",
      "Debug: Text extracted for Memory of Fire Trilogy by Galeano, Eduardo:\n",
      "Memory of Fire Trilogy Galeano, Eduardo published in what year - Google Search×Please click here if you are not redirected within a few seconds.    AllBooksNewsImages Maps Videos Shopping Search tools    Any timeAny timePast hourPast 24 hoursPast weekPast monthPast yearAll resultsAll resultsVerbatimEduardo Galeano's Memory of Fire trilogy is a grand mosaic of lyrical North and South American history that meditates on the Old World and the painful creation of the New World.Apr 24, 2023Eduardo Gal\n",
      "Debug: No valid year found in matches for Memory of Fire Trilogy by Galeano, Eduardo: ['19', '19', '19', '19', '20', '20']\n",
      "Debug: Text extracted for Bullshit Jobs: A Theory by Graeber, David:\n",
      "Bullshit Jobs: A Theory Graeber, David published in what year - Google Search×Please click here if you are not redirected within a few seconds.    AllNewsBooksImages Maps Videos Shopping Search tools    Any timeAny timePast hourPast 24 hoursPast weekPast monthPast yearAll resultsAll resultsVerbatimBullshit Jobs / Originally publishedMay 15, 2018Bullshit JobsBook by David Graeber4/5 · Goodreads\n",
      "4/5 · AbeBooks\n",
      "Bullshit Jobs: A Theory is a 2018 book by anthropologist David Graeber that postulates t\n",
      "Debug: No valid year found in matches for Bullshit Jobs: A Theory by Graeber, David: ['20', '20', '20', '20', '20', '20', '20']\n",
      "Debug: Text extracted for Soccer in Sun and Shadow by Galeano, Eduardo:\n",
      "Soccer in Sun and Shadow Galeano, Eduardo published in what year - Google Search×Please click here if you are not redirected within a few seconds.    AllBooksImagesNews Maps Videos Shopping Search tools    Any timeAny timePast hourPast 24 hoursPast weekPast monthPast yearAll resultsAll resultsVerbatimSoccer in Sun and Shadow / Originally published1995People also askWhat is the story of soccer in sun and shadow?Who is global soccer's pre eminent man of letters?Soccer in Sun and Shadow: 9781568584\n",
      "Debug: No valid year found in matches for Soccer in Sun and Shadow by Galeano, Eduardo: ['20', '20', '20', '19', '19', '20', '19', '20', '20']\n",
      "Debug: Text extracted for Open Veins of Latin America: Five Centuries of the Pillage of a Continent by Galeano, Eduardo:\n",
      "Open Veins of Latin America: Five Centuries of the Pillage of a Continent Galeano, Eduardo published in what year - Google Search×Please click here if you are not redirected within a few seconds.    AllBooksNewsImages Maps Videos Shopping Search tools    Any timeAny timePast hourPast 24 hoursPast weekPast monthPast yearAll resultsAll resultsVerbatimOpen Veins of Latin AmericaAuthorEduardo GaleanoPublication date1971Publication placeUruguayPublished in English1973 (1st edition) 1997 (25th anniv. \n",
      "Debug: No valid year found in matches for Open Veins of Latin America: Five Centuries of the Pillage of a Continent by Galeano, Eduardo: ['19', '20', '20', '19', '20', '19']\n",
      "Debug: Text extracted for Growing Up Absurd by Goodman, Paul:\n",
      "Growing Up Absurd Goodman, Paul published in what year - Google Search×Please click here if you are not redirected within a few seconds.    AllBooksImagesNews Maps Videos Shopping Search tools    Any timeAny timePast hourPast 24 hoursPast weekPast monthPast yearAll resultsAll resultsVerbatimGrowing Up Absurd / Originally published1960Growing Up AbsurdBook by Paul GoodmanGrowing Up Absurd is a 1960 book by Paul Goodman on the relationship between American juvenile delinquency and societal opportu\n",
      "Debug: No valid year found in matches for Growing Up Absurd by Goodman, Paul: ['19', '19', '20', '19', '19', '19', '19', '19']\n",
      "Debug: Text extracted for The Unwritten Book: An Investigation by Hunt, Samantha:\n",
      "The Unwritten Book: An Investigation Hunt, Samantha published in what year - Google Search×Please click here if you are not redirected within a few seconds.    AllBooksImagesNews Maps Videos Shopping Search tools    Any timeAny timePast hourPast 24 hoursPast weekPast monthPast yearAll resultsAll resultsVerbatimThe Unwritten Book: An Investigation / Originally publishedApril 5, 2022The Unwritten Book: An Investigation: Hunt, Samantha - Amazon.comwww.amazon.com › Unwritten-Book-Investigation-Saman\n",
      "Debug: No valid year found in matches for The Unwritten Book: An Investigation by Hunt, Samantha: ['20', '20', '20', '20', '20', '20']\n",
      "Debug: Text extracted for On Broswing (Field Notes, 5) by Guriel, Jason:\n",
      "On Broswing (Field Notes, 5) Guriel, Jason published in what year - Google Search×Please click here if you are not redirected within a few seconds.    AllNewsImagesBooks Maps Videos Shopping Search tools    Any timeAny timePast hourPast 24 hoursPast weekPast monthPast yearAll resultsAll resultsVerbatimShowing results for On Browsing (Field Notes, 5) Gurriel, Jason published in what yearSearch instead for On Broswing (Field Notes, 5) Guriel, Jason published in what yearOn Browsing (Field Notes, 5\n",
      "Debug: No valid year found in matches for On Broswing (Field Notes, 5) by Guriel, Jason: ['20', '20', '20', '20', '20', '20', '20', '20']\n",
      "Debug: Text extracted for The Gift by Hyde, Lewis:\n",
      "The Gift Hyde, Lewis published in what year - Google Search×Please click here if you are not redirected within a few seconds.    AllShoppingBooksImages Maps Videos News Search tools    Any timeAny timePast hourPast 24 hoursPast weekPast monthPast yearAll resultsAll resultsVerbatimThe Gift: Imagination and the Erotic Life of Property is a 1983 book by Lewis Hyde, in which the author examines the importance of gifts, their flow and movement and the impact that the modern market place has had on th\n",
      "Debug: No valid year found in matches for The Gift by Hyde, Lewis: ['19', '19', '20', '20', '19', '19', '19', '20', '19', '19']\n",
      "Debug: Text extracted for Taking a Long Look: Essays on Culture, Literature, and Feminism in Our Time by Gornick, Vivian:\n",
      "Taking a Long Look: Essays on Culture, Literature, and Feminism in Our Time Gornick, Vivian published in what year - Google Search×Please click here if you are not redirected within a few seconds.    AllBooksNewsImages Maps Videos Shopping Search tools    Any timeAny timePast hourPast 24 hoursPast weekPast monthPast yearAll resultsAll resultsVerbatimBibliographic informationTitleTaking A Long Look: Essays on Culture, Literature, and Feminism in Our TimeAuthorVivian GornickPublisherVerso Books, 2\n",
      "Debug: No valid year found in matches for Taking a Long Look: Essays on Culture, Literature, and Feminism in Our Time by Gornick, Vivian: ['20', '20', '20', '20', '20']\n",
      "Debug: Text extracted for Bullshit Jobs: A Theory by Graeber, David:\n",
      "Bullshit Jobs: A Theory Graeber, David published in what year - Google Search×Please click here if you are not redirected within a few seconds.    AllNewsBooksImages Maps Videos Shopping Search tools    Any timeAny timePast hourPast 24 hoursPast weekPast monthPast yearAll resultsAll resultsVerbatimBullshit Jobs / Originally publishedMay 15, 2018Bullshit JobsBook by David Graeber4/5 · Goodreads\n",
      "4/5 · AbeBooks\n",
      "Bullshit Jobs: A Theory is a 2018 book by anthropologist David Graeber that postulates t\n",
      "Debug: No valid year found in matches for Bullshit Jobs: A Theory by Graeber, David: ['20', '20', '20', '20', '20', '20', '20', '20']\n"
     ]
    },
    {
     "name": "stderr",
     "output_type": "stream",
     "text": [
      "Processing books:   2%|▍                      | 23/1346 [00:05<04:43,  4.66it/s]"
     ]
    },
    {
     "name": "stdout",
     "output_type": "stream",
     "text": [
      "Debug: Text extracted for Memory of Fire Trilogy by Galeano, Eduardo:\n",
      "Memory of Fire Trilogy Galeano, Eduardo published in what year - Google Search×Please click here if you are not redirected within a few seconds.    AllBooksNewsImages Maps Videos Shopping Search tools    Any timeAny timePast hourPast 24 hoursPast weekPast monthPast yearAll resultsAll resultsVerbatimEduardo Galeano's Memory of Fire trilogy is a grand mosaic of lyrical North and South American history that meditates on the Old World and the painful creation of the New World.Apr 24, 2023Eduardo Gal\n",
      "Debug: No valid year found in matches for Memory of Fire Trilogy by Galeano, Eduardo: ['19', '19', '19', '19', '20', '20']\n",
      "Debug: Text extracted for Soccer in Sun and Shadow by Galeano, Eduardo:\n",
      "Soccer in Sun and Shadow Galeano, Eduardo published in what year - Google Search×Please click here if you are not redirected within a few seconds.    AllBooksImagesNews Maps Videos Shopping Search tools    Any timeAny timePast hourPast 24 hoursPast weekPast monthPast yearAll resultsAll resultsVerbatimSoccer in Sun and Shadow / Originally published1995People also askWhat is the story of soccer in sun and shadow?Who is global soccer's pre eminent man of letters?Soccer in Sun and Shadow: 9781568584\n",
      "Debug: No valid year found in matches for Soccer in Sun and Shadow by Galeano, Eduardo: ['20', '20', '19', '20', '19', '20', '19', '20', '20']\n",
      "Debug: Text extracted for Open Veins of Latin America: Five Centuries of the Pillage of a Continent by Galeano, Eduardo:\n",
      "Open Veins of Latin America: Five Centuries of the Pillage of a Continent Galeano, Eduardo published in what year - Google Search×Please click here if you are not redirected within a few seconds.    AllBooksNewsImages Maps Videos Shopping Search tools    Any timeAny timePast hourPast 24 hoursPast weekPast monthPast yearAll resultsAll resultsVerbatimOpen Veins of Latin AmericaAuthorEduardo GaleanoPublication date1971Publication placeUruguayPublished in English1973 (1st edition) 1997 (25th anniv. \n",
      "Debug: No valid year found in matches for Open Veins of Latin America: Five Centuries of the Pillage of a Continent by Galeano, Eduardo: ['19', '20', '20', '19', '20', '19', '19']\n",
      "Debug: Text extracted for Growing Up Absurd by Goodman, Paul:\n",
      "Growing Up Absurd Goodman, Paul published in what year - Google Search×Please click here if you are not redirected within a few seconds.    AllBooksImagesNews Maps Videos Shopping Search tools    Any timeAny timePast hourPast 24 hoursPast weekPast monthPast yearAll resultsAll resultsVerbatimGrowing Up Absurd / Originally published1960Growing Up AbsurdBook by Paul GoodmanGrowing Up Absurd is a 1960 book by Paul Goodman on the relationship between American juvenile delinquency and societal opportu\n",
      "Debug: No valid year found in matches for Growing Up Absurd by Goodman, Paul: ['19', '19', '20', '19', '19', '19', '19', '19']\n",
      "Debug: Text extracted for Prejudential: Black Ameirca and the Presdients by Kimberle, Margaret:\n",
      "Prejudential: Black Ameirca and the Presdients Kimberle, Margaret published in what year - Google Search×Please click here if you are not redirected within a few seconds.    AllBooksImagesNews Maps Videos Shopping Search tools    Any timeAny timePast hourPast 24 hoursPast weekPast monthPast yearAll resultsAll resultsVerbatimShowing results for Presidential: Black America and the Presidents Kimberle, Margaret published in what yearSearch instead for Prejudential: Black Ameirca and the Presdients \n",
      "Debug: No valid year found in matches for Prejudential: Black Ameirca and the Presdients by Kimberle, Margaret: ['20', '20', '20', '20', '20']\n"
     ]
    },
    {
     "name": "stderr",
     "output_type": "stream",
     "text": [
      "\r",
      "Processing books:   2%|▍                      | 25/1346 [00:06<04:00,  5.48it/s]"
     ]
    },
    {
     "name": "stdout",
     "output_type": "stream",
     "text": [
      "Debug: Text extracted for The Unwritten Book: An Investigation by Hunt, Samantha:\n",
      "The Unwritten Book: An Investigation Hunt, Samantha published in what year - Google Search×Please click here if you are not redirected within a few seconds.    AllBooksImagesNews Maps Videos Shopping Search tools    Any timeAny timePast hourPast 24 hoursPast weekPast monthPast yearAll resultsAll resultsVerbatimThe Unwritten Book: An Investigation / Originally publishedApril 5, 2022The Unwritten Book: An Investigation: Hunt, Samantha - Amazon.comwww.amazon.com › Unwritten-Book-Investigation-Saman\n",
      "Debug: No valid year found in matches for The Unwritten Book: An Investigation by Hunt, Samantha: ['20', '20', '20', '20', '20', '20']\n",
      "Debug: Text extracted for On Broswing (Field Notes, 5) by Guriel, Jason:\n",
      "On Broswing (Field Notes, 5) Guriel, Jason published in what year - Google Search×Please click here if you are not redirected within a few seconds.    AllNewsImagesShopping Maps Videos Books Search tools    Any timeAny timePast hourPast 24 hoursPast weekPast monthPast yearAll resultsAll resultsVerbatimShowing results for On Browsing (Field Notes, 5) Gurriel, Jason published in what yearSearch instead for On Broswing (Field Notes, 5) Guriel, Jason published in what yearOn Browsing (Field Notes, 5\n",
      "Debug: No valid year found in matches for On Broswing (Field Notes, 5) by Guriel, Jason: ['20', '20', '20', '20', '20', '20', '20', '20']\n",
      "Debug: Text extracted for Taking a Long Look: Essays on Culture, Literature, and Feminism in Our Time by Gornick, Vivian:\n",
      "Taking a Long Look: Essays on Culture, Literature, and Feminism in Our Time Gornick, Vivian published in what year - Google Search×Please click here if you are not redirected within a few seconds.    AllBooksNewsImages Maps Videos Shopping Search tools    Any timeAny timePast hourPast 24 hoursPast weekPast monthPast yearAll resultsAll resultsVerbatimBibliographic informationTitleTaking A Long Look: Essays on Culture, Literature, and Feminism in Our TimeAuthorVivian GornickPublisherVerso Books, 2\n",
      "Debug: No valid year found in matches for Taking a Long Look: Essays on Culture, Literature, and Feminism in Our Time by Gornick, Vivian: ['20', '20', '20', '20', '20']\n"
     ]
    },
    {
     "name": "stderr",
     "output_type": "stream",
     "text": [
      "\r",
      "Processing books:   2%|▍                      | 26/1346 [00:06<04:27,  4.93it/s]"
     ]
    },
    {
     "name": "stdout",
     "output_type": "stream",
     "text": [
      "Debug: Text extracted for The Gift by Hyde, Lewis:\n",
      "The Gift Hyde, Lewis published in what year - Google Search×Please click here if you are not redirected within a few seconds.    AllBooksImagesShopping Maps Videos News Search tools    Any timeAny timePast hourPast 24 hoursPast weekPast monthPast yearAll resultsAll resultsVerbatimThe Gift: Imagination and the Erotic Life of Property is a 1983 book by Lewis Hyde, in which the author examines the importance of gifts, their flow and movement and the impact that the modern market place has had on th\n",
      "Debug: No valid year found in matches for The Gift by Hyde, Lewis: ['19', '19', '20', '20', '19', '19', '19', '20', '19']\n",
      "Debug: Text extracted for Braiding Sweetgrass: Indigenous Wisdom, Scientific Knoweldge by Kimmerer, Robin Wall:\n",
      "Braiding Sweetgrass: Indigenous Wisdom, Scientific Knoweldge Kimmerer, Robin Wall published in what year - Google Search×Please click here if you are not redirected within a few seconds.    AllBooksShoppingImages Maps Videos News Search tools    Any timeAny timePast hourPast 24 hoursPast weekPast monthPast yearAll resultsAll resultsVerbatimShowing results for Braiding Sweetgrass: Indigenous Wisdom, Scientific Knowledge Kimmerer, Robin Wall published in what yearSearch instead for Braiding Sweetg\n",
      "Debug: No valid year found in matches for Braiding Sweetgrass: Indigenous Wisdom, Scientific Knoweldge by Kimmerer, Robin Wall: ['20', '20', '20', '20']\n",
      "Debug: Text extracted for Bullshit Jobs: A Theory by Graeber, David:\n",
      "Bullshit Jobs: A Theory Graeber, David published in what year - Google Search×Please click here if you are not redirected within a few seconds.    AllNewsBooksImages Maps Videos Shopping Search tools    Any timeAny timePast hourPast 24 hoursPast weekPast monthPast yearAll resultsAll resultsVerbatimBullshit Jobs / Originally publishedMay 15, 2018Bullshit JobsBook by David Graeber4/5 · Goodreads\n",
      "4/5 · AbeBooks\n",
      "Bullshit Jobs: A Theory is a 2018 book by anthropologist David Graeber that postulates t\n",
      "Debug: No valid year found in matches for Bullshit Jobs: A Theory by Graeber, David: ['20', '20', '20', '20', '20', '20', '20', '20']\n"
     ]
    },
    {
     "name": "stderr",
     "output_type": "stream",
     "text": [
      "\r",
      "Processing books:   2%|▍                      | 27/1346 [00:06<04:33,  4.82it/s]"
     ]
    },
    {
     "name": "stdout",
     "output_type": "stream",
     "text": [
      "Debug: Text extracted for Prejudential: Black Ameirca and the Presdients by Kimberle, Margaret:\n",
      "Prejudential: Black Ameirca and the Presdients Kimberle, Margaret published in what year - Google Search×Please click here if you are not redirected within a few seconds.    AllBooksImagesNews Maps Videos Shopping Search tools    Any timeAny timePast hourPast 24 hoursPast weekPast monthPast yearAll resultsAll resultsVerbatimShowing results for Presidential: Black America and the Presidents Kimberle, Margaret published in what yearSearch instead for Prejudential: Black Ameirca and the Presdients \n",
      "Debug: No valid year found in matches for Prejudential: Black Ameirca and the Presdients by Kimberle, Margaret: ['20', '20', '20', '20', '20']\n",
      "Debug: Text extracted for The Unwritten Book: An Investigation by Hunt, Samantha:\n",
      "The Unwritten Book: An Investigation Hunt, Samantha published in what year - Google Search×Please click here if you are not redirected within a few seconds.    AllBooksImagesNews Maps Videos Shopping Search tools    Any timeAny timePast hourPast 24 hoursPast weekPast monthPast yearAll resultsAll resultsVerbatimThe Unwritten Book: An Investigation / Originally publishedApril 5, 2022The Unwritten Book: An Investigation: Hunt, Samantha - Amazon.comwww.amazon.com › Unwritten-Book-Investigation-Saman\n",
      "Debug: No valid year found in matches for The Unwritten Book: An Investigation by Hunt, Samantha: ['20', '20', '20', '20', '20', '20']\n",
      "Debug: Text extracted for Dear Science and Other Stories by McKittrick, Katherine:\n",
      "Dear Science and Other Stories McKittrick, Katherine published in what year - Google Search×Please click here if you are not redirected within a few seconds.    AllBooksImagesNews Maps Videos Shopping Search tools    Any timeAny timePast hourPast 24 hoursPast weekPast monthPast yearAll resultsAll resultsVerbatimDear Science and Other Stories / Originally publishedDecember 14, 2020Dear Science and Other Stories - Duke University Presswww.dukeupress.edu › dear-science-and-other-stories$25.95In Dea\n",
      "Debug: No valid year found in matches for Dear Science and Other Stories by McKittrick, Katherine: ['20', '20', '19', '20', '20', '20', '20']\n"
     ]
    },
    {
     "name": "stderr",
     "output_type": "stream",
     "text": [
      "\r",
      "Processing books:   2%|▍                      | 28/1346 [00:06<04:28,  4.91it/s]"
     ]
    },
    {
     "name": "stdout",
     "output_type": "stream",
     "text": [
      "Debug: Text extracted for On Broswing (Field Notes, 5) by Guriel, Jason:\n",
      "On Broswing (Field Notes, 5) Guriel, Jason published in what year - Google Search×Please click here if you are not redirected within a few seconds.    AllNewsImagesBooks Maps Videos Shopping Search tools    Any timeAny timePast hourPast 24 hoursPast weekPast monthPast yearAll resultsAll resultsVerbatimShowing results for On Browsing (Field Notes, 5) Gurriel, Jason published in what yearSearch instead for On Broswing (Field Notes, 5) Guriel, Jason published in what yearOn Browsing (Field Notes, 5\n",
      "Debug: No valid year found in matches for On Broswing (Field Notes, 5) by Guriel, Jason: ['20', '20', '20', '20', '20', '20', '20', '20']\n",
      "Debug: Text extracted for Two Lives: Gertude and Alice by Malcolm, Janet:\n",
      "Two Lives: Gertude and Alice Malcolm, Janet published in what year - Google Search×Please click here if you are not redirected within a few seconds.    AllImagesNewsShopping Maps Videos Books Search tools    Any timeAny timePast hourPast 24 hoursPast weekPast monthPast yearAll resultsAll resultsVerbatimShowing results for Two Lives: Gertrude and Alice Malcolm, Janet published in what yearSearch instead for Two Lives: Gertude and Alice Malcolm, Janet published in what yearTwo Lives: Gertrude and \n",
      "Debug: No valid year found in matches for Two Lives: Gertude and Alice by Malcolm, Janet: ['20', '20', '20', '20', '19', '20', '20']\n",
      "Debug: Text extracted for The Gift by Hyde, Lewis:\n",
      "The Gift Hyde, Lewis published in what year - Google Search×Please click here if you are not redirected within a few seconds.    AllBooksImagesShopping Maps Videos News Search tools    Any timeAny timePast hourPast 24 hoursPast weekPast monthPast yearAll resultsAll resultsVerbatimThe Gift: Imagination and the Erotic Life of Property is a 1983 book by Lewis Hyde, in which the author examines the importance of gifts, their flow and movement and the impact that the modern market place has had on th\n",
      "Debug: No valid year found in matches for The Gift by Hyde, Lewis: ['19', '19', '20', '20', '19', '19', '19', '20', '19']\n",
      "Debug: Text extracted for Braiding Sweetgrass: Indigenous Wisdom, Scientific Knoweldge by Kimmerer, Robin Wall:\n",
      "Braiding Sweetgrass: Indigenous Wisdom, Scientific Knoweldge Kimmerer, Robin Wall published in what year - Google Search×Please click here if you are not redirected within a few seconds.    AllBooksShoppingImages Maps Videos News Search tools    Any timeAny timePast hourPast 24 hoursPast weekPast monthPast yearAll resultsAll resultsVerbatimShowing results for Braiding Sweetgrass: Indigenous Wisdom, Scientific Knowledge Kimmerer, Robin Wall published in what yearSearch instead for Braiding Sweetg\n",
      "Debug: No valid year found in matches for Braiding Sweetgrass: Indigenous Wisdom, Scientific Knoweldge by Kimmerer, Robin Wall: ['20', '20', '20', '20']\n",
      "Debug: Text extracted for The Origin of Others by Morrison, Toni:\n",
      "The Origin of Others Morrison, Toni published in what year - Google Search×Please click here if you are not redirected within a few seconds.    AllBooksImagesNews Maps Videos Shopping Search tools    Any timeAny timePast hourPast 24 hoursPast weekPast monthPast yearAll resultsAll resultsVerbatimThe Origin of Others / Originally publishedSeptember 18, 2017People also askWhen was The Origin of the Others written?What is The Origin of Others Toni Morrison about?When was Toni Morrison first publishe\n",
      "Debug: No valid year found in matches for The Origin of Others by Morrison, Toni: ['20', '20', '20', '20', '20', '20', '20', '20', '20', '20', '20', '20', '20', '20', '20', '20']\n",
      "Debug: Text extracted for Green Age by Ostriker, Alicia:\n",
      "Green Age Ostriker, Alicia published in what year - Google Search×Please click here if you are not redirected within a few seconds.    AllImagesNewsShopping Maps Videos Books Search tools    Any timeAny timePast hourPast 24 hoursPast weekPast monthPast yearAll resultsAll resultsVerbatimGreen age / Originally published1989Green ageBook by Alicia OstrikerThe variety of subjects in Green Age is characteristic of Alicia Suskin Ostriker’s writing: from the opening poem, “Fifty,” funny, courageous, an\n",
      "Debug: No valid year found in matches for Green Age by Ostriker, Alicia: ['19', '19', '19', '19', '19', '20', '20', '20', '19']\n",
      "Debug: Text extracted for World of Wonders: In Praise of Fireflies, Whale Sharks, and other Astonishments by Nezhukumatathil, Aimee:\n",
      "World of Wonders: In Praise of Fireflies, Whale Sharks, and other Astonishments Nezhukumatathil, Aimee published in what year - Google Search×Please click here if you are not redirected within a few seconds.    AllNewsImagesBooks Maps Videos Shopping Search tools    Any timeAny timePast hourPast 24 hoursPast weekPast monthPast yearAll resultsAll resultsVerbatimPublished: Minneapolis, Minnesota : Milkweed Editions, [2020].World of wonders : : in praise of fireflies, whale sharks,...or.catalog.lio\n",
      "Debug: No valid year found in matches for World of Wonders: In Praise of Fireflies, Whale Sharks, and other Astonishments by Nezhukumatathil, Aimee: ['20', '20', '20', '20']\n"
     ]
    },
    {
     "name": "stderr",
     "output_type": "stream",
     "text": [
      "\r",
      "Processing books:   2%|▌                      | 30/1346 [00:07<04:14,  5.16it/s]"
     ]
    },
    {
     "name": "stdout",
     "output_type": "stream",
     "text": [
      "Debug: Text extracted for Dear Science and Other Stories by McKittrick, Katherine:\n",
      "Dear Science and Other Stories McKittrick, Katherine published in what year - Google Search×Please click here if you are not redirected within a few seconds.    AllBooksImagesNews Maps Videos Shopping Search tools    Any timeAny timePast hourPast 24 hoursPast weekPast monthPast yearAll resultsAll resultsVerbatimDear Science and Other Stories / Originally publishedDecember 14, 2020Dear Science and Other Stories - Duke University Presswww.dukeupress.edu › dear-science-and-other-stories$25.95In Dea\n",
      "Debug: No valid year found in matches for Dear Science and Other Stories by McKittrick, Katherine: ['20', '20', '19', '20', '20', '20', '20']\n",
      "Debug: Text extracted for Prejudential: Black Ameirca and the Presdients by Kimberle, Margaret:\n",
      "Prejudential: Black Ameirca and the Presdients Kimberle, Margaret published in what year - Google Search×Please click here if you are not redirected within a few seconds.    AllBooksImagesNews Maps Videos Shopping Search tools    Any timeAny timePast hourPast 24 hoursPast weekPast monthPast yearAll resultsAll resultsVerbatimShowing results for Presidential: Black America and the Presidents Kimberle, Margaret published in what yearSearch instead for Prejudential: Black Ameirca and the Presdients \n",
      "Debug: No valid year found in matches for Prejudential: Black Ameirca and the Presdients by Kimberle, Margaret: ['20', '20', '20', '20', '20', '20']\n",
      "Debug: Text extracted for Come Back in September: A Literary Education on West Sixty-Seventh Street, Manhattan by Pinckney, Daryl:\n",
      "Come Back in September: A Literary Education on West Sixty-Seventh Street, Manhattan Pinckney, Daryl published in what year - Google Search×Please click here if you are not redirected within a few seconds.    AllBooksNewsImages Maps Videos Shopping Search tools    Any timeAny timePast hourPast 24 hoursPast weekPast monthPast yearAll resultsAll resultsVerbatimCome Back in September: A Literary Education on West Sixty ...www.amazon.com › Come-Back-September-Education-Sixty-SeventhRating  4.4  (40)\n",
      "Debug: No valid year found in matches for Come Back in September: A Literary Education on West Sixty-Seventh Street, Manhattan by Pinckney, Daryl: ['20', '20', '20', '20', '20', '20', '20']\n",
      "Debug: Text extracted for Green Age by Ostriker, Alicia:\n",
      "Green Age Ostriker, Alicia published in what year - Google Search×Please click here if you are not redirected within a few seconds.    AllImagesNewsShopping Maps Videos Books Search tools    Any timeAny timePast hourPast 24 hoursPast weekPast monthPast yearAll resultsAll resultsVerbatimGreen age / Originally published1989Green ageBook by Alicia OstrikerThe variety of subjects in Green Age is characteristic of Alicia Suskin Ostriker’s writing: from the opening poem, “Fifty,” funny, courageous, an\n",
      "Debug: No valid year found in matches for Green Age by Ostriker, Alicia: ['19', '19', '19', '19', '19', '20', '20', '20', '19']\n",
      "Debug: Text extracted for The Last Thing: New & Selected Poems by Rosal, Patrick:\n",
      "The Last Thing: New - Google Search×Please click here if you are not redirected within a few seconds.    AllImagesVideosNews Maps Shopping Books Search tools    Any timeAny timePast hourPast 24 hoursPast weekPast monthPast yearAll resultsAll resultsVerbatimThe Last Thing: New & Selected PoemsBook by Patrick RosalA momentous collection from the author of Brooklyn Antediluvian, winner of the 2017 Lenore Marshall Prize from Academy of American Poets For nearly two decades, Patrick Rosal has been on\n",
      "Debug: No valid year found in matches for The Last Thing: New & Selected Poems by Rosal, Patrick: ['20', '20', '20', '20', '20', '20', '20', '20', '20', '20']\n",
      "Debug: Text extracted for The South: Jim Crow and its Afterlives by Reed, Adolph L., Jr.:\n",
      "The South: Jim Crow and its Afterlives Reed, Adolph L., Jr. published in what year - Google Search×Please click here if you are not redirected within a few seconds.    AllBooksImagesNews Maps Videos Shopping Search tools    Any timeAny timePast hourPast 24 hoursPast weekPast monthPast yearAll resultsAll resultsVerbatimThe South: Jim Crow and Its Afterlives / Originally publishedMay 31, 2022The South: Jim Crow and Its Afterlives (Jacobin) - Amazon.comwww.amazon.com › South-Jim-Crow-Its-Afterlives\n",
      "Debug: No valid year found in matches for The South: Jim Crow and its Afterlives by Reed, Adolph L., Jr.: ['20', '19', '20', '20', '20', '20', '20', '20', '20', '20']\n"
     ]
    },
    {
     "name": "stderr",
     "output_type": "stream",
     "text": [
      "\r",
      "Processing books:   2%|▌                      | 31/1346 [00:07<06:11,  3.54it/s]"
     ]
    },
    {
     "name": "stdout",
     "output_type": "stream",
     "text": [
      "Debug: Text extracted for Braiding Sweetgrass: Indigenous Wisdom, Scientific Knoweldge by Kimmerer, Robin Wall:\n",
      "Braiding Sweetgrass: Indigenous Wisdom, Scientific Knoweldge Kimmerer, Robin Wall published in what year - Google Search×Please click here if you are not redirected within a few seconds.    AllBooksImagesShopping Maps Videos News Search tools    Any timeAny timePast hourPast 24 hoursPast weekPast monthPast yearAll resultsAll resultsVerbatimShowing results for Braiding Sweetgrass: Indigenous Wisdom, Scientific Knowledge Kimmerer, Robin Wall published in what yearSearch instead for Braiding Sweetg\n",
      "Debug: No valid year found in matches for Braiding Sweetgrass: Indigenous Wisdom, Scientific Knoweldge by Kimmerer, Robin Wall: ['20', '20', '20', '20']\n",
      "Debug: Text extracted for World of Wonders: In Praise of Fireflies, Whale Sharks, and other Astonishments by Nezhukumatathil, Aimee:\n",
      "World of Wonders: In Praise of Fireflies, Whale Sharks, and other Astonishments Nezhukumatathil, Aimee published in what year - Google Search×Please click here if you are not redirected within a few seconds.    AllNewsImagesBooks Maps Videos Shopping Search tools    Any timeAny timePast hourPast 24 hoursPast weekPast monthPast yearAll resultsAll resultsVerbatimPublished: Minneapolis, Minnesota : Milkweed Editions, [2020].World of wonders : : in praise of fireflies, whale sharks,...or.catalog.lio\n",
      "Debug: No valid year found in matches for World of Wonders: In Praise of Fireflies, Whale Sharks, and other Astonishments by Nezhukumatathil, Aimee: ['20', '20', '20', '20']\n",
      "Debug: Text extracted for Dear Science and Other Stories by McKittrick, Katherine:\n",
      "Dear Science and Other Stories McKittrick, Katherine published in what year - Google Search×Please click here if you are not redirected within a few seconds.    AllBooksImagesNews Maps Videos Shopping Search tools    Any timeAny timePast hourPast 24 hoursPast weekPast monthPast yearAll resultsAll resultsVerbatimDear Science and Other Stories / Originally publishedDecember 14, 2020Dear Science and Other Stories - Duke University Presswww.dukeupress.edu › dear-science-and-other-stories$25.95In Dea\n",
      "Debug: No valid year found in matches for Dear Science and Other Stories by McKittrick, Katherine: ['20', '20', '20', '20', '19', '20', '20']\n",
      "Debug: Text extracted for Two Lives: Gertude and Alice by Malcolm, Janet:\n",
      "Two Lives: Gertude and Alice Malcolm, Janet published in what year - Google Search×Please click here if you are not redirected within a few seconds.    AllImagesNewsShopping Maps Videos Books Search tools    Any timeAny timePast hourPast 24 hoursPast weekPast monthPast yearAll resultsAll resultsVerbatimShowing results for Two Lives: Gertrude and Alice Malcolm, Janet published in what yearSearch instead for Two Lives: Gertude and Alice Malcolm, Janet published in what yearTwo Lives: Gertrude and \n",
      "Debug: No valid year found in matches for Two Lives: Gertude and Alice by Malcolm, Janet: ['20', '20', '20', '20', '19', '20', '20', '20']\n",
      "Debug: Text extracted for The Origin of Others by Morrison, Toni:\n",
      "The Origin of Others Morrison, Toni published in what year - Google Search×Please click here if you are not redirected within a few seconds.    AllBooksImagesNews Maps Videos Shopping Search tools    Any timeAny timePast hourPast 24 hoursPast weekPast monthPast yearAll resultsAll resultsVerbatimThe Origin of Others / Originally publishedSeptember 18, 2017People also askWhen was The Origin of the Others written?What is The Origin of Others Toni Morrison about?When was Toni Morrison first publishe\n",
      "Debug: No valid year found in matches for The Origin of Others by Morrison, Toni: ['20', '20', '20', '20', '20', '20', '20', '20', '20', '20', '20', '20', '20', '20', '20', '20']\n",
      "Debug: Text extracted for Come Back in September: A Literary Education on West Sixty-Seventh Street, Manhattan by Pinckney, Daryl:\n",
      "Come Back in September: A Literary Education on West Sixty-Seventh Street, Manhattan Pinckney, Daryl published in what year - Google Search×Please click here if you are not redirected within a few seconds.    AllBooksNewsImages Maps Videos Shopping Search tools    Any timeAny timePast hourPast 24 hoursPast weekPast monthPast yearAll resultsAll resultsVerbatimCome Back in September: A Literary Education on West Sixty ...www.amazon.com › Come-Back-September-Education-Sixty-SeventhRating  4.4  (40)\n",
      "Debug: No valid year found in matches for Come Back in September: A Literary Education on West Sixty-Seventh Street, Manhattan by Pinckney, Daryl: ['20', '20', '20', '20', '20', '20', '20']\n"
     ]
    },
    {
     "name": "stderr",
     "output_type": "stream",
     "text": [
      "\r",
      "Processing books:   2%|▌                      | 33/1346 [00:08<05:18,  4.12it/s]"
     ]
    },
    {
     "name": "stdout",
     "output_type": "stream",
     "text": [
      "Debug: Text extracted for Green Age by Ostriker, Alicia:\n",
      "Green Age Ostriker, Alicia published in what year - Google Search×Please click here if you are not redirected within a few seconds.    AllImagesNewsShopping Maps Videos Books Search tools    Any timeAny timePast hourPast 24 hoursPast weekPast monthPast yearAll resultsAll resultsVerbatimGreen age / Originally published1989Green ageBook by Alicia OstrikerThe variety of subjects in Green Age is characteristic of Alicia Suskin Ostriker’s writing: from the opening poem, “Fifty,” funny, courageous, an\n",
      "Debug: No valid year found in matches for Green Age by Ostriker, Alicia: ['19', '19', '19', '19', '19', '20', '20', '20', '19']\n",
      "Debug: Text extracted for The Last Thing: New & Selected Poems by Rosal, Patrick:\n",
      "The Last Thing: New - Google Search×Please click here if you are not redirected within a few seconds.    AllImagesVideosNews Maps Shopping Books Search tools    Any timeAny timePast hourPast 24 hoursPast weekPast monthPast yearAll resultsAll resultsVerbatimThe Last Thing: New & Selected PoemsBook by Patrick RosalA momentous collection from the author of Brooklyn Antediluvian, winner of the 2017 Lenore Marshall Prize from Academy of American Poets For nearly two decades, Patrick Rosal has been on\n",
      "Debug: No valid year found in matches for The Last Thing: New & Selected Poems by Rosal, Patrick: ['20', '20', '20', '20', '20', '20', '20', '20', '20', '20']\n"
     ]
    },
    {
     "name": "stderr",
     "output_type": "stream",
     "text": [
      "\r",
      "Processing books:   3%|▌                      | 34/1346 [00:08<05:12,  4.20it/s]"
     ]
    },
    {
     "name": "stdout",
     "output_type": "stream",
     "text": [
      "Debug: Text extracted for World of Wonders: In Praise of Fireflies, Whale Sharks, and other Astonishments by Nezhukumatathil, Aimee:\n",
      "World of Wonders: In Praise of Fireflies, Whale Sharks, and other Astonishments Nezhukumatathil, Aimee published in what year - Google Search×Please click here if you are not redirected within a few seconds.    AllNewsImagesBooks Maps Videos Shopping Search tools    Any timeAny timePast hourPast 24 hoursPast weekPast monthPast yearAll resultsAll resultsVerbatimPublished: Minneapolis, Minnesota : Milkweed Editions, [2020].World of wonders : : in praise of fireflies, whale sharks,...or.catalog.lio\n",
      "Debug: No valid year found in matches for World of Wonders: In Praise of Fireflies, Whale Sharks, and other Astonishments by Nezhukumatathil, Aimee: ['20', '20', '20', '20']\n",
      "Debug: Text extracted for The South: Jim Crow and its Afterlives by Reed, Adolph L., Jr.:\n",
      "The South: Jim Crow and its Afterlives Reed, Adolph L., Jr. published in what year - Google Search×Please click here if you are not redirected within a few seconds.    AllBooksImagesShopping Maps Videos News Search tools    Any timeAny timePast hourPast 24 hoursPast weekPast monthPast yearAll resultsAll resultsVerbatimThe South: Jim Crow and Its Afterlives / Originally publishedMay 31, 2022The South: Jim Crow and Its Afterlives (Jacobin) - Amazon.comwww.amazon.com › South-Jim-Crow-Its-Afterlives\n",
      "Debug: No valid year found in matches for The South: Jim Crow and its Afterlives by Reed, Adolph L., Jr.: ['20', '19', '20', '20', '20', '20', '20', '20']\n",
      "Debug: Text extracted for The Book of the Dead by Rukeyser, Muriel:\n",
      "The Book of the Dead Rukeyser, Muriel published in what year - Google Search×Please click here if you are not redirected within a few seconds.    AllImagesShoppingNews Maps Videos Books Search tools    Any timeAny timePast hourPast 24 hoursPast weekPast monthPast yearAll resultsAll resultsVerbatimThe Book of the Dead by Muriel Rukeyser was published as part of her 1938 volume U.S. 1. The poem, which is probably the most ambitious and least understood work of Depression-era American verse, commem\n",
      "Debug: No valid year found in matches for The Book of the Dead by Rukeyser, Muriel: ['19', '19', '19', '19', '19', '20', '20', '19', '20', '20', '19', '19', '19']\n"
     ]
    },
    {
     "name": "stderr",
     "output_type": "stream",
     "text": [
      "Processing books:   3%|▋                      | 38/1346 [00:08<03:10,  6.87it/s]"
     ]
    },
    {
     "name": "stdout",
     "output_type": "stream",
     "text": [
      "Debug: Text extracted for Two Lives: Gertude and Alice by Malcolm, Janet:\n",
      "Two Lives: Gertude and Alice Malcolm, Janet published in what year - Google Search×Please click here if you are not redirected within a few seconds.    AllImagesNewsBooks Maps Videos Shopping Search tools    Any timeAny timePast hourPast 24 hoursPast weekPast monthPast yearAll resultsAll resultsVerbatimShowing results for Two Lives: Gertrude and Alice Malcolm, Janet published in what yearSearch instead for Two Lives: Gertude and Alice Malcolm, Janet published in what yearTwo Lives: Gertrude and \n",
      "Debug: No valid year found in matches for Two Lives: Gertude and Alice by Malcolm, Janet: ['20', '20', '20', '20', '19', '20', '20']\n",
      "Debug: Text extracted for Come Back in September: A Literary Education on West Sixty-Seventh Street, Manhattan by Pinckney, Daryl:\n",
      "Come Back in September: A Literary Education on West Sixty-Seventh Street, Manhattan Pinckney, Daryl published in what year - Google Search×Please click here if you are not redirected within a few seconds.    AllBooksNewsImages Maps Videos Shopping Search tools    Any timeAny timePast hourPast 24 hoursPast weekPast monthPast yearAll resultsAll resultsVerbatimCome Back in September: A Literary Education on West Sixty ...www.amazon.com › Come-Back-September-Education-Sixty-SeventhRating  4.4  (40)\n",
      "Debug: No valid year found in matches for Come Back in September: A Literary Education on West Sixty-Seventh Street, Manhattan by Pinckney, Daryl: ['20', '20', '20', '20', '20', '20', '20']\n",
      "Debug: Text extracted for The Origin of Others by Morrison, Toni:\n",
      "The Origin of Others Morrison, Toni published in what year - Google Search×Please click here if you are not redirected within a few seconds.    AllBooksImagesNews Maps Videos Shopping Search tools    Any timeAny timePast hourPast 24 hoursPast weekPast monthPast yearAll resultsAll resultsVerbatimThe Origin of Others / Originally publishedSeptember 18, 2017People also askWhen was The Origin of the Others written?What is The Origin of Others Toni Morrison about?When was Toni Morrison first publishe\n",
      "Debug: No valid year found in matches for The Origin of Others by Morrison, Toni: ['20', '20', '20', '20', '20', '20', '20', '20', '20', '20', '20', '20', '20', '20', '20', '20']\n",
      "Debug: Text extracted for The Last Thing: New & Selected Poems by Rosal, Patrick:\n",
      "The Last Thing: New - Google Search×Please click here if you are not redirected within a few seconds.    AllImagesVideosNews Maps Shopping Books Search tools    Any timeAny timePast hourPast 24 hoursPast weekPast monthPast yearAll resultsAll resultsVerbatimThe Last Thing: New & Selected PoemsBook by Patrick RosalA momentous collection from the author of Brooklyn Antediluvian, winner of the 2017 Lenore Marshall Prize from Academy of American Poets For nearly two decades, Patrick Rosal has been on\n",
      "Debug: No valid year found in matches for The Last Thing: New & Selected Poems by Rosal, Patrick: ['20', '20', '20', '20', '20', '20', '20', '20', '20', '20']\n",
      "Debug: Text extracted for The Very Last Interview by Shields, David:\n",
      "The Very Last Interview Shields, David published in what year - Google Search×Please click here if you are not redirected within a few seconds.    AllNewsImagesVideos Maps Shopping Books Search tools    Any timeAny timePast hourPast 24 hoursPast weekPast monthPast yearAll resultsAll resultsVerbatimThe Very Last Interview / Originally publishedApril 12, 2022The Very Last Interview - New York Review Bookswww.nyrb.com › products › the-very-last-interview$14.95 In stockApr 12, 2022 · As Chuck Kloste\n",
      "Debug: No valid year found in matches for The Very Last Interview by Shields, David: ['20', '20', '20', '19', '20', '20', '20', '20', '20', '20', '20']\n",
      "Debug: Text extracted for What Is Now Known Was Once Only Imagined: An (Auto)biography of Niki de Saint Phalle by Rudick, Nicole:\n",
      "What Is Now Known Was Once Only Imagined: An (Auto)biography of Niki de Saint Phalle Rudick, Nicole published in what year - Google Search×Please click here if you are not redirected within a few seconds.    AllImagesBooksShopping Maps Videos News Search tools    Any timeAny timePast hourPast 24 hoursPast weekPast monthPast yearAll resultsAll resultsVerbatimNiki de Saint Phalle, What Is Now Known Was Once Only Imagined, 1979, offset print, 18 x 24 inches, in What Is Now Known Was Once Only Imagi\n",
      "Debug: No valid year found in matches for What Is Now Known Was Once Only Imagined: An (Auto)biography of Niki de Saint Phalle by Rudick, Nicole: ['19', '20', '20', '20', '20', '20']\n",
      "Debug: Text extracted for The Book of the Dead by Rukeyser, Muriel:\n",
      "The Book of the Dead Rukeyser, Muriel published in what year - Google Search×Please click here if you are not redirected within a few seconds.    AllImagesNewsBooks Maps Videos Shopping Search tools    Any timeAny timePast hourPast 24 hoursPast weekPast monthPast yearAll resultsAll resultsVerbatimThe Book of the Dead by Muriel Rukeyser was published as part of her 1938 volume U.S. 1. The poem, which is probably the most ambitious and least understood work of Depression-era American verse, commem\n",
      "Debug: No valid year found in matches for The Book of the Dead by Rukeyser, Muriel: ['19', '19', '19', '19', '19', '20', '20', '19', '20', '20', '19', '19', '19']\n",
      "Debug: Text extracted for How Literature Saved My Life by Shields, David:\n",
      "How Literature Saved My Life Shields, David published in what year - Google Search×Please click here if you are not redirected within a few seconds.    AllBooksImagesNews Maps Videos Shopping Search tools    Any timeAny timePast hourPast 24 hoursPast weekPast monthPast yearAll resultsAll resultsVerbatimHow Literature Saved My Life / Originally published2013How Literature Saved My Life: Shields, David - Amazon.comwww.amazon.com › How-Literature-Saved-My-LifeRating  3.7  (77)   · $6.99  · 30-day r\n",
      "Debug: No valid year found in matches for How Literature Saved My Life by Shields, David: ['20', '20', '20', '20', '20', '20', '20', '20', '20', '20', '19', '19', '20', '20']\n",
      "Debug: Text extracted for The South: Jim Crow and its Afterlives by Reed, Adolph L., Jr.:\n",
      "The South: Jim Crow and its Afterlives Reed, Adolph L., Jr. published in what year - Google Search×Please click here if you are not redirected within a few seconds.    AllBooksImagesShopping Maps Videos News Search tools    Any timeAny timePast hourPast 24 hoursPast weekPast monthPast yearAll resultsAll resultsVerbatimThe South: Jim Crow and Its Afterlives / Originally publishedMay 31, 2022The South: Jim Crow and Its Afterlives (Jacobin) - Amazon.comwww.amazon.com › South-Jim-Crow-Its-Afterlives\n",
      "Debug: No valid year found in matches for The South: Jim Crow and its Afterlives by Reed, Adolph L., Jr.: ['20', '19', '20', '20', '20', '20', '20', '20']\n",
      "Debug: Text extracted for Borealis by Sloan, Aisha Sabatini:\n",
      "Borealis Sloan, Aisha Sabatini published in what year - Google Search×Please click here if you are not redirected within a few seconds.    AllImagesNewsShopping Maps Videos Books Search tools    Any timeAny timePast hourPast 24 hoursPast weekPast monthPast yearAll resultsAll resultsVerbatimBorealis / Originally published2021Borealis - Coffee House Presscoffeehousepress.org › products › borealis$14.95An essay by Aisha Sabatini Sloan November 2, 2021 • 5.5 x 7 • 144 pages • 978-1-56689-619-1 Art a\n",
      "Debug: No valid year found in matches for Borealis by Sloan, Aisha Sabatini: ['20', '20', '20', '20', '20', '20', '20', '19', '20', '20', '20', '20', '20']\n",
      "Debug: Text extracted for Orwell's Flowers by Solnit, Rebecca:\n",
      "Orwell's Flowers Solnit, Rebecca published in what year - Google Search×Please click here if you are not redirected within a few seconds.    AllImagesBooksNews Maps Videos Shopping Search tools    Any timeAny timePast hourPast 24 hoursPast weekPast monthPast yearAll resultsAll resultsVerbatimOrwell's Roses by Rebecca Solnit - Penguin Random Housewww.penguinrandomhouse.com › Books In stock“In the spring of 1936, a writer planted roses.” So be-gins Rebecca Solnit's new book, a reflection on George\n",
      "Debug: No valid year found in matches for Orwell's Flowers by Solnit, Rebecca: ['19', '20', '19', '20', '19', '19', '19', '20', '19', '20', '19', '20', '19', '20', '20', '20']\n",
      "Debug: Text extracted for Recollections of My Nonexistence by Solnit, Rebecca:\n",
      "Recollections of My Nonexistence Solnit, Rebecca published in what year - Google Search×Please click here if you are not redirected within a few seconds.    AllBooksShoppingImages Maps Videos News Search tools    Any timeAny timePast hourPast 24 hoursPast weekPast monthPast yearAll resultsAll resultsVerbatimRecollections of My Non-Existence / Originally publishedMarch 5, 2020People also askWhat is the theme of Recollections of My Nonexistence?What is the synopsis of recollections of my non exist\n",
      "Debug: No valid year found in matches for Recollections of My Nonexistence by Solnit, Rebecca: ['20', '20', '19', '20', '20', '20', '20', '20', '19', '20', '19', '20', '20', '20', '20']\n"
     ]
    },
    {
     "name": "stderr",
     "output_type": "stream",
     "text": [
      "\r",
      "Processing books:   3%|▋                      | 40/1346 [00:09<04:46,  4.56it/s]"
     ]
    },
    {
     "name": "stdout",
     "output_type": "stream",
     "text": [
      "Debug: Text extracted for Under the Sign of Saturn: Essays by Sontag, Susan:\n",
      "Under the Sign of Saturn: Essays Sontag, Susan published in what year - Google Search×Please click here if you are not redirected within a few seconds.    AllImagesShoppingBooks Maps Videos News Search tools    Any timeAny timePast hourPast 24 hoursPast weekPast monthPast yearAll resultsAll resultsVerbatimUnder the Sign of Saturn is Susan Sontag's third collection of criticism, comprising seven essays. The collection was originally published in 1980.Under the Sign of Saturn - Wikipediaen.wikiped\n",
      "Debug: No valid year found in matches for Under the Sign of Saturn: Essays by Sontag, Susan: ['19', '19', '19', '19', '19', '19', '19', '19', '19', '20', '19', '19', '20', '20', '19', '19', '19', '19', '19', '19']\n",
      "Debug: Text extracted for A Field Guide to Getting Lost by Solnit, Rebecca:\n",
      "A Field Guide to Getting Lost Solnit, Rebecca published in what year - Google Search×Please click here if you are not redirected within a few seconds.    AllShoppingBooksImages Maps Videos News Search tools    Any timeAny timePast hourPast 24 hoursPast weekPast monthPast yearAll resultsAll resultsVerbatimA Field Guide to Getting Lost by Rebecca Solnitwww.penguinrandomhouse.com › Books$18.00 Free 0–2 day delivery over $20 In stockWritten as a series of autobiographical essays, A Field Guide to Ge\n",
      "Debug: No valid year found in matches for A Field Guide to Getting Lost by Solnit, Rebecca: ['20', '20', '20', '20', '20', '20', '20', '20', '20', '20', '20', '20', '20', '20', '20', '20']\n",
      "Debug: Text extracted for The Book of the Dead by Rukeyser, Muriel:\n",
      "The Book of the Dead Rukeyser, Muriel published in what year - Google Search×Please click here if you are not redirected within a few seconds.    AllImagesNewsBooks Maps Videos Shopping Search tools    Any timeAny timePast hourPast 24 hoursPast weekPast monthPast yearAll resultsAll resultsVerbatimThe Book of the Dead by Muriel Rukeyser was published as part of her 1938 volume U.S. 1. The poem, which is probably the most ambitious and least understood work of Depression-era American verse, commem\n",
      "Debug: No valid year found in matches for The Book of the Dead by Rukeyser, Muriel: ['19', '19', '19', '19', '19', '20', '20', '19', '20', '20', '19', '19', '19']\n",
      "Debug: Text extracted for What Is Now Known Was Once Only Imagined: An (Auto)biography of Niki de Saint Phalle by Rudick, Nicole:\n",
      "What Is Now Known Was Once Only Imagined: An (Auto)biography of Niki de Saint Phalle Rudick, Nicole published in what year - Google Search×Please click here if you are not redirected within a few seconds.    AllImagesBooksShopping Maps Videos News Search tools    Any timeAny timePast hourPast 24 hoursPast weekPast monthPast yearAll resultsAll resultsVerbatimMarch 2, 2022. Niki de Saint Phalle, What Is Now Known Was Once Only Imagined, 1979, offset print, 18 x 24 inches, in What Is Now Known Was \n",
      "Debug: No valid year found in matches for What Is Now Known Was Once Only Imagined: An (Auto)biography of Niki de Saint Phalle by Rudick, Nicole: ['20', '19', '20', '20', '20', '20', '20']\n",
      "Debug: Text extracted for Borealis by Sloan, Aisha Sabatini:\n",
      "Borealis Sloan, Aisha Sabatini published in what year - Google Search×Please click here if you are not redirected within a few seconds.    AllImagesNewsBooks Maps Videos Shopping Search tools    Any timeAny timePast hourPast 24 hoursPast weekPast monthPast yearAll resultsAll resultsVerbatimBorealis / Originally published2021Borealis - Coffee House Presscoffeehousepress.org › products › borealis$14.95An essay by Aisha Sabatini Sloan November 2, 2021 • 5.5 x 7 • 144 pages • 978-1-56689-619-1 Art a\n",
      "Debug: No valid year found in matches for Borealis by Sloan, Aisha Sabatini: ['20', '20', '20', '20', '20', '20', '20', '20', '20']\n",
      "Debug: Text extracted for The Very Last Interview by Shields, David:\n",
      "The Very Last Interview Shields, David published in what year - Google Search×Please click here if you are not redirected within a few seconds.    AllNewsImagesVideos Maps Shopping Books Search tools    Any timeAny timePast hourPast 24 hoursPast weekPast monthPast yearAll resultsAll resultsVerbatimThe Very Last Interview / Originally publishedApril 12, 2022The Very Last Interview - New York Review Bookswww.nyrb.com › products › the-very-last-interview$14.95 In stockApr 12, 2022 · As Chuck Kloste\n",
      "Debug: No valid year found in matches for The Very Last Interview by Shields, David: ['20', '20', '20', '19', '20', '20', '20', '20', '20', '20', '20', '20']\n",
      "Debug: Text extracted for Orwell's Flowers by Solnit, Rebecca:\n",
      "Orwell's Flowers Solnit, Rebecca published in what year - Google Search×Please click here if you are not redirected within a few seconds.    AllImagesBooksShopping Maps Videos News Search tools    Any timeAny timePast hourPast 24 hoursPast weekPast monthPast yearAll resultsAll resultsVerbatimOrwell's Roses by Rebecca Solnit - Penguin Random Housewww.penguinrandomhouse.com › Books$18.00“In the spring of 1936, a writer planted roses.” So be-gins Rebecca Solnit's new book, a reflection on George Or\n",
      "Debug: No valid year found in matches for Orwell's Flowers by Solnit, Rebecca: ['19', '20', '19', '20', '19', '19', '20', '19', '19', '20', '19', '20', '19', '20', '20', '20']\n",
      "Debug: Text extracted for Recollections of My Nonexistence by Solnit, Rebecca:\n",
      "Recollections of My Nonexistence Solnit, Rebecca published in what year - Google Search×Please click here if you are not redirected within a few seconds.    AllBooksShoppingImages Maps Videos News Search tools    Any timeAny timePast hourPast 24 hoursPast weekPast monthPast yearAll resultsAll resultsVerbatimRecollections of My Non-Existence / Originally publishedMarch 5, 2020People also askWhat is the theme of Recollections of My Nonexistence?What is the synopsis of recollections of my non exist\n",
      "Debug: No valid year found in matches for Recollections of My Nonexistence by Solnit, Rebecca: ['20', '20', '19', '20', '20', '20', '20', '20', '19', '20', '19', '20', '20', '20', '20']\n",
      "Debug: Text extracted for How Literature Saved My Life by Shields, David:\n",
      "How Literature Saved My Life Shields, David published in what year - Google Search×Please click here if you are not redirected within a few seconds.    AllBooksImagesNews Maps Videos Shopping Search tools    Any timeAny timePast hourPast 24 hoursPast weekPast monthPast yearAll resultsAll resultsVerbatimHow Literature Saved My Life / Originally published2013How Literature Saved My Life: Shields, David - Amazon.comwww.amazon.com › How-Literature-Saved-My-LifeRating  3.7  (77)   · $6.99Book details\n",
      "Debug: No valid year found in matches for How Literature Saved My Life by Shields, David: ['20', '20', '20', '20', '20', '20', '19', '19', '20', '20', '20', '20', '20']\n",
      "Debug: Text extracted for A Field Guide to Getting Lost by Solnit, Rebecca:\n",
      "A Field Guide to Getting Lost Solnit, Rebecca published in what year - Google Search×Please click here if you are not redirected within a few seconds.    AllBooksImagesNews Maps Videos Shopping Search tools    Any timeAny timePast hourPast 24 hoursPast weekPast monthPast yearAll resultsAll resultsVerbatimA Field Guide to Getting Lost by Rebecca Solnitwww.penguinrandomhouse.com › Books In stockWritten as a series of autobiographical essays, A Field Guide to Getting Lost draws on emblematic moment\n",
      "Debug: No valid year found in matches for A Field Guide to Getting Lost by Solnit, Rebecca: ['20', '20', '20', '20', '20', '20', '20', '20', '20', '20', '20', '20', '20', '20', '20', '20']\n",
      "Debug: Text extracted for Under the Sign of Saturn: Essays by Sontag, Susan:\n",
      "Under the Sign of Saturn: Essays Sontag, Susan published in what year - Google Search×Please click here if you are not redirected within a few seconds.    AllImagesShoppingBooks Maps Videos News Search tools    Any timeAny timePast hourPast 24 hoursPast weekPast monthPast yearAll resultsAll resultsVerbatimUnder the Sign of Saturn is Susan Sontag's third collection of criticism, comprising seven essays. The collection was originally published in 1980.Under the Sign of Saturn - Wikipediaen.wikiped\n",
      "Debug: No valid year found in matches for Under the Sign of Saturn: Essays by Sontag, Susan: ['19', '19', '19', '19', '19', '19', '19', '19', '19', '20', '19', '19', '20', '20', '19', '19', '19', '19', '19', '19']\n",
      "Debug: Text extracted for Death Watch: A view from the Tenth Decade by Stern, Gerald:\n",
      "Death Watch: A view from the Tenth Decade Stern, Gerald published in what year - Google Search×Please click here if you are not redirected within a few seconds.    AllImagesShoppingNews Maps Videos Books Search tools    Any timeAny timePast hourPast 24 hoursPast weekPast monthPast yearAll resultsAll resultsVerbatimDeath Watch: A View from the Tenth Decade / Originally publishedDecember 19, 2016Death Watch: A View from the Tenth Decade: Stern, Geraldwww.amazon.com › Death-Watch-View-Tenth-DecadeR\n",
      "Debug: No valid year found in matches for Death Watch: A view from the Tenth Decade by Stern, Gerald: ['20', '20', '20', '20', '20', '20', '20', '20', '19', '19']\n",
      "Debug: Text extracted for The Mushroom at the End of the World by Tsing, Anna:\n",
      "The Mushroom at the End of the World Tsing, Anna published in what year - Google Search×Please click here if you are not redirected within a few seconds.    AllBooksImagesNews Maps Videos Shopping Search tools    Any timeAny timePast hourPast 24 hoursPast weekPast monthPast yearAll resultsAll resultsVerbatimAnna Lowenhaupt Tsing, 2015. \"The Mushroom at the End of the World: On the Possibility of Life in Capitalist Ruins,\" Economics Books, Princeton University Press, edition 1, number 10581.The M\n",
      "Debug: No valid year found in matches for The Mushroom at the End of the World by Tsing, Anna: ['20', '20', '20', '20']\n"
     ]
    },
    {
     "name": "stderr",
     "output_type": "stream",
     "text": [
      "Processing books:   3%|▋                      | 43/1346 [00:10<04:43,  4.59it/s]"
     ]
    },
    {
     "name": "stdout",
     "output_type": "stream",
     "text": [
      "Debug: Text extracted for Borealis by Sloan, Aisha Sabatini:\n",
      "Borealis Sloan, Aisha Sabatini published in what year - Google Search×Please click here if you are not redirected within a few seconds.    AllImagesNewsShopping Maps Videos Books Search tools    Any timeAny timePast hourPast 24 hoursPast weekPast monthPast yearAll resultsAll resultsVerbatimBorealis / Originally published2021Borealis - Coffee House Presscoffeehousepress.org › products › borealis$14.95An essay by Aisha Sabatini Sloan November 2, 2021 • 5.5 x 7 • 144 pages • 978-1-56689-619-1 Art a\n",
      "Debug: No valid year found in matches for Borealis by Sloan, Aisha Sabatini: ['20', '20', '20', '20', '20', '20', '20', '19', '20', '20', '20', '20', '20']\n",
      "Debug: Text extracted for What Is Now Known Was Once Only Imagined: An (Auto)biography of Niki de Saint Phalle by Rudick, Nicole:\n",
      "What Is Now Known Was Once Only Imagined: An (Auto)biography of Niki de Saint Phalle Rudick, Nicole published in what year - Google Search×Please click here if you are not redirected within a few seconds.    AllImagesBooksShopping Maps Videos News Search tools    Any timeAny timePast hourPast 24 hoursPast weekPast monthPast yearAll resultsAll resultsVerbatimMarch 2, 2022. Niki de Saint Phalle, What Is Now Known Was Once Only Imagined, 1979, offset print, 18 x 24 inches, in What Is Now Known Was \n",
      "Debug: No valid year found in matches for What Is Now Known Was Once Only Imagined: An (Auto)biography of Niki de Saint Phalle by Rudick, Nicole: ['20', '19', '20', '20', '20', '20', '20']\n",
      "Debug: Text extracted for The Very Last Interview by Shields, David:\n",
      "The Very Last Interview Shields, David published in what year - Google Search×Please click here if you are not redirected within a few seconds.    AllNewsShoppingImages Maps Videos Books Search tools    Any timeAny timePast hourPast 24 hoursPast weekPast monthPast yearAll resultsAll resultsVerbatimThe Very Last Interview / Originally publishedApril 12, 2022The Very Last Interview - New York Review Bookswww.nyrb.com › products › the-very-last-interview$14.95 In stockApr 12, 2022 · As Chuck Kloste\n",
      "Debug: No valid year found in matches for The Very Last Interview by Shields, David: ['20', '20', '20', '19', '20', '20', '20', '20', '20', '20', '20', '20']\n",
      "Debug: Text extracted for Orwell's Flowers by Solnit, Rebecca:\n",
      "Orwell's Flowers Solnit, Rebecca published in what year - Google Search×Please click here if you are not redirected within a few seconds.    AllImagesBooksShopping Maps Videos News Search tools    Any timeAny timePast hourPast 24 hoursPast weekPast monthPast yearAll resultsAll resultsVerbatimOrwell's Roses by Rebecca Solnit - Penguin Random Housewww.penguinrandomhouse.com › Books Free 0–2 day delivery over $20 In stock“In the spring of 1936, a writer planted roses.” So be-gins Rebecca Solnit's n\n",
      "Debug: No valid year found in matches for Orwell's Flowers by Solnit, Rebecca: ['19', '20', '19', '20', '19', '19', '20', '19', '19', '20', '19', '20', '19', '20', '20', '20']\n"
     ]
    },
    {
     "name": "stderr",
     "output_type": "stream",
     "text": [
      "Processing books:   4%|▊                      | 48/1346 [00:10<03:05,  7.01it/s]"
     ]
    },
    {
     "name": "stdout",
     "output_type": "stream",
     "text": [
      "Debug: Text extracted for A Field Guide to Getting Lost by Solnit, Rebecca:\n",
      "A Field Guide to Getting Lost Solnit, Rebecca published in what year - Google Search×Please click here if you are not redirected within a few seconds.    AllBooksImagesNews Maps Videos Shopping Search tools    Any timeAny timePast hourPast 24 hoursPast weekPast monthPast yearAll resultsAll resultsVerbatimA Field Guide to Getting Lost by Rebecca Solnitwww.penguinrandomhouse.com › Books In stockWritten as a series of autobiographical essays, A Field Guide to Getting Lost draws on emblematic moment\n",
      "Debug: No valid year found in matches for A Field Guide to Getting Lost by Solnit, Rebecca: ['20', '20', '20', '20', '20', '20', '20', '20', '20', '20', '20', '20', '20', '20', '20', '20']\n",
      "Debug: Text extracted for Under the Sign of Saturn: Essays by Sontag, Susan:\n",
      "Under the Sign of Saturn: Essays Sontag, Susan published in what year - Google Search×Please click here if you are not redirected within a few seconds.    AllImagesShoppingBooks Maps Videos News Search tools    Any timeAny timePast hourPast 24 hoursPast weekPast monthPast yearAll resultsAll resultsVerbatimUnder the Sign of Saturn is Susan Sontag's third collection of criticism, comprising seven essays. The collection was originally published in 1980.Under the Sign of Saturn - Wikipediaen.wikiped\n",
      "Debug: No valid year found in matches for Under the Sign of Saturn: Essays by Sontag, Susan: ['19', '19', '19', '19', '19', '19', '19', '20', '19', '19', '19', '19', '20', '20', '19', '19', '19', '19', '19', '19']\n",
      "Debug: Text extracted for Recollections of My Nonexistence by Solnit, Rebecca:\n",
      "Recollections of My Nonexistence Solnit, Rebecca published in what year - Google Search×Please click here if you are not redirected within a few seconds.    AllBooksShoppingImages Maps Videos News Search tools    Any timeAny timePast hourPast 24 hoursPast weekPast monthPast yearAll resultsAll resultsVerbatimRecollections of My Non-Existence / Originally publishedMarch 5, 2020People also askWhat is the theme of Recollections of My Nonexistence?What is the synopsis of recollections of my non exist\n",
      "Debug: No valid year found in matches for Recollections of My Nonexistence by Solnit, Rebecca: ['20', '20', '19', '20', '20', '20', '20', '20', '19', '20', '19', '20', '20']\n",
      "Debug: Text extracted for How Literature Saved My Life by Shields, David:\n",
      "How Literature Saved My Life Shields, David published in what year - Google Search×Please click here if you are not redirected within a few seconds.    AllBooksImagesShopping Maps Videos News Search tools    Any timeAny timePast hourPast 24 hoursPast weekPast monthPast yearAll resultsAll resultsVerbatimHow Literature Saved My Life / Originally published2013How Literature Saved My Life: Shields, David - Amazon.comwww.amazon.com › How-Literature-Saved-My-LifeRating  3.7  (77)   · $6.99Book details\n",
      "Debug: No valid year found in matches for How Literature Saved My Life by Shields, David: ['20', '20', '20', '20', '20', '20', '20', '20', '19', '19', '20', '20', '20', '20', '20']\n",
      "Debug: Text extracted for The Mushroom at the End of the World by Tsing, Anna:\n",
      "The Mushroom at the End of the World Tsing, Anna published in what year - Google Search×Please click here if you are not redirected within a few seconds.    AllBooksImagesNews Maps Videos Shopping Search tools    Any timeAny timePast hourPast 24 hoursPast weekPast monthPast yearAll resultsAll resultsVerbatimAnna Lowenhaupt Tsing, 2015. \"The Mushroom at the End of the World: On the Possibility of Life in Capitalist Ruins,\" Economics Books, Princeton University Press, edition 1, number 10581.The M\n",
      "Debug: No valid year found in matches for The Mushroom at the End of the World by Tsing, Anna: ['20', '20', '20']\n",
      "Debug: Text extracted for or, on being the other woman by White, Simone:\n",
      "or, on being the other woman White, Simone published in what year - Google Search×Please click here if you are not redirected within a few seconds.    AllImagesBooksNews Maps Videos Shopping Search tools    Any timeAny timePast hourPast 24 hoursPast weekPast monthPast yearAll resultsAll resultsVerbatimOr, on Being the Other Woman / Originally publishedJuly 11, 2022or, on being the other woman - Duke University Presswww.dukeupress.edu › or-on-being-the-other-woman$17.95In or, on being the other w\n",
      "Debug: No valid year found in matches for or, on being the other woman by White, Simone: ['20', '20', '20', '20', '20', '20']\n",
      "Debug: Text extracted for Cooling Time: An American Poetry Vigil by Wright, C.D.:\n",
      "Cooling Time: An American Poetry Vigil Wright, C.D. published in what year - Google Search×Please click here if you are not redirected within a few seconds.    AllBooksShoppingImages Maps Videos News Search tools    Any timeAny timePast hourPast 24 hoursPast weekPast monthPast yearAll resultsAll resultsVerbatimCooling time / Originally published2005Cooling Time: An American Poetry Vigil: Wright, C.D. - Amazon.comwww.amazon.com › Cooling-Time-American-Poetry-VigilRating  4.6  (15)  Cooling Time i\n",
      "Debug: No valid year found in matches for Cooling Time: An American Poetry Vigil by Wright, C.D.: ['20', '19', '20', '20', '19', '20', '20']\n",
      "Debug: Text extracted for Death Watch: A view from the Tenth Decade by Stern, Gerald:\n",
      "Death Watch: A view from the Tenth Decade Stern, Gerald published in what year - Google Search×Please click here if you are not redirected within a few seconds.    AllImagesNewsVideos Maps Shopping Books Search tools    Any timeAny timePast hourPast 24 hoursPast weekPast monthPast yearAll resultsAll resultsVerbatimDeath Watch: A View from the Tenth Decade / Originally publishedDecember 19, 2016Death Watch: A View from the Tenth Decade: Stern, Geraldwww.amazon.com › Death-Watch-View-Tenth-DecadeR\n",
      "Debug: No valid year found in matches for Death Watch: A view from the Tenth Decade by Stern, Gerald: ['20', '20', '20', '20', '20', '19', '19', '20', '20', '20']\n",
      "Debug: Text extracted for Beyond Good and Evil by Nietzsche, Friedrich:\n",
      "Beyond Good and Evil Nietzsche, Friedrich published in what year - Google Search×Please click here if you are not redirected within a few seconds.    AllBooksImagesNews Maps Videos Shopping Search tools    Any timeAny timePast hourPast 24 hoursPast weekPast monthPast yearAll resultsAll resultsVerbatimIn Beyond Good and Evil (1886), he wrote with approval of “the distinguished type of morality,” according to which “one has duties only toward one's equals; toward beings of a lower rank, toward eve\n",
      "Debug: No valid year found in matches for Beyond Good and Evil by Nietzsche, Friedrich: ['20', '20', '20']\n",
      "Debug: Text extracted for Crituqe of Pure Reason by Kant, Immanuel:\n",
      "Crituqe of Pure Reason Kant, Immanuel published in what year - Google Search×Please click here if you are not redirected within a few seconds.    AllShoppingBooksImages Maps Videos News Search tools    Any timeAny timePast hourPast 24 hoursPast weekPast monthPast yearAll resultsAll resultsVerbatimShowing results for Critique of Pure Reason Kant, Immanuel published in what yearSearch instead for Crituqe of Pure Reason Kant, Immanuel published in what yearThe Kritik der reinen Vernunft (1781, 1787\n",
      "Debug: No valid year found in matches for Crituqe of Pure Reason by Kant, Immanuel: ['20', '19']\n",
      "Debug: Text extracted for The Divine Comedy by Dante:\n",
      "The Divine Comedy Dante published in what year - Google Search×Please click here if you are not redirected within a few seconds.    AllImagesBooksVideos Maps News Shopping Search tools    Any timeAny timePast hourPast 24 hoursPast weekPast monthPast yearAll resultsAll resultsVerbatimThe Divine Comedy of Dante Alighieri / Originally publishedApril 11, 1472The Divine Comedy of Dante AlighieriBook by Dante Alighieri\"'The Divine Comedy' begins in a shadowed forest on Good Friday in the year 1300. It\n",
      "Debug: No valid year found in matches for The Divine Comedy by Dante: ['20', '20', '20']\n",
      "Debug: Text extracted for The Illiad by Homer:\n",
      "The Illiad Homer published in what year - Google Search×Please click here if you are not redirected within a few seconds.    AllShoppingImagesBooks Maps Videos News Search tools    Any timeAny timePast hourPast 24 hoursPast weekPast monthPast yearAll resultsAll resultsVerbatimShowing results for The Iliad Homer published in what yearSearch instead for The Illiad Homer published in what yearIliadLanguageHomeric GreekGenre(s)Epic poetryPublication date1488Published in English1598Iliad - Wikipediae\n",
      "Debug: No valid year found in matches for The Illiad by Homer: ['20', '20', '20', '20', '20']\n",
      "Debug: Text extracted for The Mushroom at the End of the World by Tsing, Anna:\n",
      "The Mushroom at the End of the World Tsing, Anna published in what year - Google Search×Please click here if you are not redirected within a few seconds.    AllBooksImagesNews Maps Videos Shopping Search tools    Any timeAny timePast hourPast 24 hoursPast weekPast monthPast yearAll resultsAll resultsVerbatimAnna Lowenhaupt Tsing, 2015. \"The Mushroom at the End of the World: On the Possibility of Life in Capitalist Ruins,\" Economics Books, Princeton University Press, edition 1, number 10581.The M\n",
      "Debug: No valid year found in matches for The Mushroom at the End of the World by Tsing, Anna: ['20', '20', '20', '20']\n",
      "Debug: Text extracted for The Book of Delights by Gay, Ross:\n",
      "The Book of Delights Gay, Ross published in what year - Google Search×Please click here if you are not redirected within a few seconds.    AllImagesBooksNews Maps Videos Shopping Search tools    Any timeAny timePast hourPast 24 hoursPast weekPast monthPast yearAll resultsAll resultsVerbatimThe Book of Delights - ROSS GAYwww.rossgay.net › the-book-of-delightsIn The Book of Delights offers up a genre-defying volume of lyric essays written over one tumultuous year. The first nonfiction book from aw\n",
      "Debug: No valid year found in matches for The Book of Delights by Gay, Ross: ['20', '20', '20', '20', '20', '19', '20']\n"
     ]
    },
    {
     "name": "stdout",
     "output_type": "stream",
     "text": [
      "Debug: Text extracted for Beyond Good and Evil by Nietzsche, Friedrich:\n",
      "Beyond Good and Evil Nietzsche, Friedrich published in what year - Google Search×Please click here if you are not redirected within a few seconds.    AllBooksImagesNews Maps Videos Shopping Search tools    Any timeAny timePast hourPast 24 hoursPast weekPast monthPast yearAll resultsAll resultsVerbatimIn Beyond Good and Evil (1886), he wrote with approval of “the distinguished type of morality,” according to which “one has duties only toward one's equals; toward beings of a lower rank, toward eve\n",
      "Debug: No valid year found in matches for Beyond Good and Evil by Nietzsche, Friedrich: ['20', '20', '20']\n",
      "Debug: Text extracted for or, on being the other woman by White, Simone:\n",
      "or, on being the other woman White, Simone published in what year - Google Search×Please click here if you are not redirected within a few seconds.    AllImagesBooksNews Maps Videos Shopping Search tools    Any timeAny timePast hourPast 24 hoursPast weekPast monthPast yearAll resultsAll resultsVerbatimOr, on Being the Other Woman / Originally publishedJuly 11, 2022or, on being the other woman - Duke University Presswww.dukeupress.edu › or-on-being-the-other-woman$17.95In or, on being the other w\n",
      "Debug: No valid year found in matches for or, on being the other woman by White, Simone: ['20', '20', '20', '20', '20', '20', '20']\n"
     ]
    },
    {
     "name": "stderr",
     "output_type": "stream",
     "text": [
      "\r",
      "Processing books:   4%|▊                      | 50/1346 [00:11<05:45,  3.75it/s]"
     ]
    },
    {
     "name": "stdout",
     "output_type": "stream",
     "text": [
      "Debug: Text extracted for What Will Be Always Has Been: The Words of Louis I. Kahn by Wurman, Richard Saul:\n",
      "What Will Be Always Has Been: The Words of Louis I. Kahn Wurman, Richard Saul published in what year - Google Search×Please click here if you are not redirected within a few seconds.    AllImagesNewsBooks Maps Videos Shopping Search tools    Any timeAny timePast hourPast 24 hoursPast weekPast monthPast yearAll resultsAll resultsVerbatimBibliographic informationTitleWhat Will be Has Always Been: The Words of Louis I. KahnAuthorsLouis I. Kahn, Richard Saul WurmanEditorRichard Saul WurmanEditionill\n",
      "Debug: No valid year found in matches for What Will Be Always Has Been: The Words of Louis I. Kahn by Wurman, Richard Saul: ['19', '19', '20', '20', '19', '19', '19', '19', '19', '19']\n",
      "Debug: Text extracted for Cooling Time: An American Poetry Vigil by Wright, C.D.:\n",
      "Cooling Time: An American Poetry Vigil Wright, C.D. published in what year - Google Search×Please click here if you are not redirected within a few seconds.    AllShoppingBooksImages Maps Videos News Search tools    Any timeAny timePast hourPast 24 hoursPast weekPast monthPast yearAll resultsAll resultsVerbatimCooling time / Originally published2005Cooling Time: An American Poetry Vigil: Wright, C.D. - Amazon.comwww.amazon.com › Cooling-Time-American-Poetry-VigilRating  4.6  (15)  Cooling Time i\n",
      "Debug: No valid year found in matches for Cooling Time: An American Poetry Vigil by Wright, C.D.: ['20', '20', '19', '20', '19', '20']\n",
      "Debug: Text extracted for Death Watch: A view from the Tenth Decade by Stern, Gerald:\n",
      "Death Watch: A view from the Tenth Decade Stern, Gerald published in what year - Google Search×Please click here if you are not redirected within a few seconds.    AllImagesShoppingNews Maps Videos Books Search tools    Any timeAny timePast hourPast 24 hoursPast weekPast monthPast yearAll resultsAll resultsVerbatimDeath Watch: A View from the Tenth Decade / Originally publishedDecember 19, 2016Death Watch: A View from the Tenth DecadeBook by Gerald Stern3.9/5 · AbeBooks\n",
      "Gerald Stern, National Bo\n",
      "Debug: No valid year found in matches for Death Watch: A view from the Tenth Decade by Stern, Gerald: ['20', '20', '20', '20', '20', '20', '20', '19', '19', '20']\n",
      "Debug: Text extracted for The Illiad by Homer:\n",
      "The Illiad Homer published in what year - Google Search×Please click here if you are not redirected within a few seconds.    AllImagesBooksVideos Maps News Shopping Search tools    Any timeAny timePast hourPast 24 hoursPast weekPast monthPast yearAll resultsAll resultsVerbatimShowing results for The Iliad Homer published in what yearSearch instead for The Illiad Homer published in what yearIliadLanguageHomeric GreekGenre(s)Epic poetryPublication date1488Published in English1598Iliad - Wikipediae\n",
      "Debug: No valid year found in matches for The Illiad by Homer: ['20', '20', '20', '20']\n",
      "Debug: Text extracted for The Divine Comedy by Dante:\n",
      "The Divine Comedy Dante published in what year - Google Search×Please click here if you are not redirected within a few seconds.    AllShoppingImagesBooks Maps Videos News Search tools    Any timeAny timePast hourPast 24 hoursPast weekPast monthPast yearAll resultsAll resultsVerbatimThe Divine Comedy of Dante Alighieri / Originally publishedApril 11, 1472The Divine Comedy of Dante AlighieriBook by Dante Alighieri\"'The Divine Comedy' begins in a shadowed forest on Good Friday in the year 1300. It\n",
      "Debug: No valid year found in matches for The Divine Comedy by Dante: ['20', '20', '20', '20']\n",
      "Debug: Text extracted for Crituqe of Pure Reason by Kant, Immanuel:\n",
      "Crituqe of Pure Reason Kant, Immanuel published in what year - Google Search×Please click here if you are not redirected within a few seconds.    AllBooksImagesShopping Maps Videos News Search tools    Any timeAny timePast hourPast 24 hoursPast weekPast monthPast yearAll resultsAll resultsVerbatimShowing results for Critique of Pure Reason Kant, Immanuel published in what yearSearch instead for Crituqe of Pure Reason Kant, Immanuel published in what yearThe Kritik der reinen Vernunft (1781, 1787\n",
      "Debug: No valid year found in matches for Crituqe of Pure Reason by Kant, Immanuel: ['20', '19']\n"
     ]
    },
    {
     "name": "stderr",
     "output_type": "stream",
     "text": [
      "\r",
      "Processing books:   4%|▊                      | 51/1346 [00:12<06:03,  3.56it/s]"
     ]
    },
    {
     "name": "stdout",
     "output_type": "stream",
     "text": [
      "Debug: Text extracted for The Argonauts by Nelson, Maggie:\n",
      "The Argonauts Nelson, Maggie published in what year - Google Search×Please click here if you are not redirected within a few seconds.    AllImagesBooksNews Maps Videos Shopping Search tools    Any timeAny timePast hourPast 24 hoursPast weekPast monthPast yearAll resultsAll resultsVerbatimThe Argonauts is a book by poet and critic Maggie Nelson, published in 2015.The Argonauts - Wikipediaen.wikipedia.org › wiki › The_ArgonautsAbout Featured SnippetsThe ArgonautsBook by Maggie NelsonView allThe Ar\n",
      "Debug: No valid year found in matches for The Argonauts by Nelson, Maggie: ['20', '20', '20', '20', '20', '19', '20', '20', '20', '20', '20']\n",
      "Debug: Text extracted for The Book of Delights by Gay, Ross:\n",
      "The Book of Delights Gay, Ross published in what year - Google Search×Please click here if you are not redirected within a few seconds.    AllImagesShoppingBooks Maps Videos News Search tools    Any timeAny timePast hourPast 24 hoursPast weekPast monthPast yearAll resultsAll resultsVerbatimThe Book of Delights - ROSS GAYwww.rossgay.net › the-book-of-delightsIn The Book of Delights offers up a genre-defying volume of lyric essays written over one tumultuous year. The first nonfiction book from aw\n",
      "Debug: No valid year found in matches for The Book of Delights by Gay, Ross: ['20', '20', '20', '20', '20', '19', '20']\n",
      "Debug: Text extracted for or, on being the other woman by White, Simone:\n",
      "or, on being the other woman White, Simone published in what year - Google Search×Please click here if you are not redirected within a few seconds.    AllImagesBooksNews Maps Videos Shopping Search tools    Any timeAny timePast hourPast 24 hoursPast weekPast monthPast yearAll resultsAll resultsVerbatimOr, on Being the Other Woman / Originally publishedJuly 11, 2022or, on being the other woman - Duke University Presswww.dukeupress.edu › or-on-being-the-other-woman$17.95In or, on being the other w\n",
      "Debug: No valid year found in matches for or, on being the other woman by White, Simone: ['20', '20', '20', '20', '20', '20']\n",
      "Debug: Text extracted for Beyond Good and Evil by Nietzsche, Friedrich:\n",
      "Beyond Good and Evil Nietzsche, Friedrich published in what year - Google Search×Please click here if you are not redirected within a few seconds.    AllShoppingBooksImages Maps Videos News Search tools    Any timeAny timePast hourPast 24 hoursPast weekPast monthPast yearAll resultsAll resultsVerbatimIn Beyond Good and Evil (1886), he wrote with approval of “the distinguished type of morality,” according to which “one has duties only toward one's equals; toward beings of a lower rank, toward eve\n",
      "Debug: No valid year found in matches for Beyond Good and Evil by Nietzsche, Friedrich: ['20', '20', '20']\n",
      "Debug: Text extracted for What Will Be Always Has Been: The Words of Louis I. Kahn by Wurman, Richard Saul:\n",
      "What Will Be Always Has Been: The Words of Louis I. Kahn Wurman, Richard Saul published in what year - Google Search×Please click here if you are not redirected within a few seconds.    AllImagesNewsBooks Maps Videos Shopping Search tools    Any timeAny timePast hourPast 24 hoursPast weekPast monthPast yearAll resultsAll resultsVerbatimBibliographic informationTitleWhat Will be Has Always Been: The Words of Louis I. KahnAuthorsLouis I. Kahn, Richard Saul WurmanEditorRichard Saul WurmanEditionill\n",
      "Debug: No valid year found in matches for What Will Be Always Has Been: The Words of Louis I. Kahn by Wurman, Richard Saul: ['19', '19', '19', '19', '19', '19', '19']\n",
      "Debug: Text extracted for Cooling Time: An American Poetry Vigil by Wright, C.D.:\n",
      "Cooling Time: An American Poetry Vigil Wright, C.D. published in what year - Google Search×Please click here if you are not redirected within a few seconds.    AllBooksShoppingImages Maps Videos News Search tools    Any timeAny timePast hourPast 24 hoursPast weekPast monthPast yearAll resultsAll resultsVerbatimCooling time / Originally published2005Cooling Time: An American Poetry Vigil: Wright, C.D. - Amazon.comwww.amazon.com › Cooling-Time-American-Poetry-VigilRating  4.6  (15)  Cooling Time i\n",
      "Debug: No valid year found in matches for Cooling Time: An American Poetry Vigil by Wright, C.D.: ['20', '20', '19', '20', '20', '20']\n"
     ]
    },
    {
     "name": "stderr",
     "output_type": "stream",
     "text": [
      "Processing books:   4%|▉                      | 57/1346 [00:12<03:30,  6.11it/s]"
     ]
    },
    {
     "name": "stdout",
     "output_type": "stream",
     "text": [
      "Debug: Text extracted for The Illiad by Homer:\n",
      "The Illiad Homer published in what year - Google Search×Please click here if you are not redirected within a few seconds.    AllShoppingImagesBooks Maps Videos News Search tools    Any timeAny timePast hourPast 24 hoursPast weekPast monthPast yearAll resultsAll resultsVerbatimShowing results for The Iliad Homer published in what yearSearch instead for The Illiad Homer published in what yearIliadLanguageHomeric GreekGenre(s)Epic poetryPublication date1488Published in English1598Iliad - Wikipediae\n",
      "Debug: No valid year found in matches for The Illiad by Homer: ['20', '20', '20', '20']\n",
      "Debug: Text extracted for The Argonauts by Nelson, Maggie:\n",
      "The Argonauts Nelson, Maggie published in what year - Google Search×Please click here if you are not redirected within a few seconds.    AllImagesBooksNews Maps Videos Shopping Search tools    Any timeAny timePast hourPast 24 hoursPast weekPast monthPast yearAll resultsAll resultsVerbatimThe Argonauts is a book by poet and critic Maggie Nelson, published in 2015.The Argonauts - Wikipediaen.wikipedia.org › wiki › The_ArgonautsAbout Featured SnippetsThe ArgonautsBook by Maggie NelsonView allThe Ar\n",
      "Debug: No valid year found in matches for The Argonauts by Nelson, Maggie: ['20', '20', '20', '20', '20', '19', '20', '20', '20', '20']\n",
      "Debug: Text extracted for The Divine Comedy by Dante:\n",
      "The Divine Comedy Dante published in what year - Google Search×Please click here if you are not redirected within a few seconds.    AllImagesBooksVideos Maps News Shopping Search tools    Any timeAny timePast hourPast 24 hoursPast weekPast monthPast yearAll resultsAll resultsVerbatimThe Divine Comedy of Dante Alighieri / Originally publishedApril 11, 1472The Divine Comedy of Dante AlighieriBook by Dante Alighieri\"'The Divine Comedy' begins in a shadowed forest on Good Friday in the year 1300. It\n",
      "Debug: No valid year found in matches for The Divine Comedy by Dante: ['20', '20', '20']\n",
      "Debug: Text extracted for Heart of Darkness by Conrad, Joseph:\n",
      "Heart of Darkness Conrad, Joseph published in what year - Google Search×Please click here if you are not redirected within a few seconds.    AllBooksImagesShopping Maps Videos News Search tools    Any timeAny timePast hourPast 24 hoursPast weekPast monthPast yearAll resultsAll resultsVerbatimHeart of Darkness / Originally publishedApril 1899Heart of DarknessNovella by Joseph Conrad3.4/5 · Goodreads\n",
      "Heart of Darkness is a novella by Polish-English novelist Joseph Conrad in which the sailor Charle\n",
      "Debug: No valid year found in matches for Heart of Darkness by Conrad, Joseph: ['19', '19', '19', '19', '20', '19']\n",
      "Debug: Text extracted for The Book of Delights by Gay, Ross:\n",
      "The Book of Delights Gay, Ross published in what year - Google Search×Please click here if you are not redirected within a few seconds.    AllImagesBooksNews Maps Videos Shopping Search tools    Any timeAny timePast hourPast 24 hoursPast weekPast monthPast yearAll resultsAll resultsVerbatimThe Book of Delights - ROSS GAYwww.rossgay.net › the-book-of-delightsIn The Book of Delights offers up a genre-defying volume of lyric essays written over one tumultuous year. The first nonfiction book from aw\n",
      "Debug: No valid year found in matches for The Book of Delights by Gay, Ross: ['20', '20', '20', '20', '20', '19', '20']\n",
      "Debug: Text extracted for Crituqe of Pure Reason by Kant, Immanuel:\n",
      "Crituqe of Pure Reason Kant, Immanuel published in what year - Google Search×Please click here if you are not redirected within a few seconds.    AllBooksImagesShopping Maps Videos News Search tools    Any timeAny timePast hourPast 24 hoursPast weekPast monthPast yearAll resultsAll resultsVerbatimShowing results for Critique of Pure Reason Kant, Immanuel published in what yearSearch instead for Crituqe of Pure Reason Kant, Immanuel published in what yearThe Kritik der reinen Vernunft (1781, 1787\n",
      "Debug: No valid year found in matches for Crituqe of Pure Reason by Kant, Immanuel: ['20', '19']\n",
      "Debug: Text extracted for Open Interval by Clief-Stefanon, Lyrae Van:\n",
      "Open Interval Clief-Stefanon, Lyrae Van published in what year - Google Search×Please click here if you are not redirected within a few seconds.    AllImagesBooksShopping Maps Videos News Search tools    Any timeAny timePast hourPast 24 hoursPast weekPast monthPast yearAll resultsAll resultsVerbatimIn April 2009, Van Clief-Stefanon published her second poetry collection, ]Open Interval[, which was a finalist for the National Book Award.Lyrae van Clief-Stefanon - Wikipediaen.wikipedia.org › wiki \n",
      "Debug: No valid year found in matches for Open Interval by Clief-Stefanon, Lyrae Van: ['20', '20', '20', '20', '20', '20', '19', '20', '20', '20', '20', '20', '20', '20']\n",
      "Debug: Text extracted for Brothers and Keepers by Wideman, John Edgar:\n",
      "Brothers and Keepers Wideman, John Edgar published in what year - Google Search×Please click here if you are not redirected within a few seconds.    AllNewsImagesBooks Maps Videos Shopping Search tools    Any timeAny timePast hourPast 24 hoursPast weekPast monthPast yearAll resultsAll resultsVerbatimBrothers and Keepers is a memoir written by John Edgar Wideman. It was published by Holt, Rinehart and Winston in 1984.Brothers and Keepers - Wikipediaen.wikipedia.org › wiki › Brothers_and_KeepersAb\n",
      "Debug: No valid year found in matches for Brothers and Keepers by Wideman, John Edgar: ['19', '19', '20', '19', '19', '20', '19', '20', '19', '19', '19']\n"
     ]
    },
    {
     "name": "stderr",
     "output_type": "stream",
     "text": [
      "\r",
      "Processing books:   4%|█                      | 59/1346 [00:13<04:01,  5.34it/s]"
     ]
    },
    {
     "name": "stdout",
     "output_type": "stream",
     "text": [
      "Debug: Text extracted for What Will Be Always Has Been: The Words of Louis I. Kahn by Wurman, Richard Saul:\n",
      "What Will Be Always Has Been: The Words of Louis I. Kahn Wurman, Richard Saul published in what year - Google Search×Please click here if you are not redirected within a few seconds.    AllImagesNewsBooks Maps Videos Shopping Search tools    Any timeAny timePast hourPast 24 hoursPast weekPast monthPast yearAll resultsAll resultsVerbatimBibliographic informationTitleWhat Will be Has Always Been: The Words of Louis I. KahnAuthorsLouis I. Kahn, Richard Saul WurmanEditorRichard Saul WurmanEditionill\n",
      "Debug: No valid year found in matches for What Will Be Always Has Been: The Words of Louis I. Kahn by Wurman, Richard Saul: ['19', '19', '20', '20', '19', '19', '19', '19', '19', '19']\n",
      "Debug: Text extracted for The Argonauts by Nelson, Maggie:\n",
      "The Argonauts Nelson, Maggie published in what year - Google Search×Please click here if you are not redirected within a few seconds.    AllImagesBooksShopping Maps Videos News Search tools    Any timeAny timePast hourPast 24 hoursPast weekPast monthPast yearAll resultsAll resultsVerbatimThe Argonauts is a book by poet and critic Maggie Nelson, published in 2015.The Argonauts - Wikipediaen.wikipedia.org › wiki › The_ArgonautsAbout Featured SnippetsThe ArgonautsBook by Maggie NelsonView allThe Ar\n",
      "Debug: No valid year found in matches for The Argonauts by Nelson, Maggie: ['20', '20', '20', '20', '20', '19', '20', '20', '20', '20']\n",
      "Debug: Text extracted for Heart of Darkness by Conrad, Joseph:\n",
      "Heart of Darkness Conrad, Joseph published in what year - Google Search×Please click here if you are not redirected within a few seconds.    AllBooksImagesShopping Maps Videos News Search tools    Any timeAny timePast hourPast 24 hoursPast weekPast monthPast yearAll resultsAll resultsVerbatimHeart of Darkness, novella by Joseph Conrad that was first published in 1899 in Blackwood's Edinburgh Magazine and then in Conrad's Youth: and Two Other Stories (1902).6 days agoHeart of Darkness | Summary, \n",
      "Debug: No valid year found in matches for Heart of Darkness by Conrad, Joseph: ['19', '19', '19', '19', '19', '20', '19']\n",
      "Debug: Text extracted for Open Interval by Clief-Stefanon, Lyrae Van:\n",
      "Open Interval Clief-Stefanon, Lyrae Van published in what year - Google Search×Please click here if you are not redirected within a few seconds.    AllImagesBooksShopping Maps Videos News Search tools    Any timeAny timePast hourPast 24 hoursPast weekPast monthPast yearAll resultsAll resultsVerbatimIn April 2009, Van Clief-Stefanon published her second poetry collection, ]Open Interval[, which was a finalist for the National Book Award.Lyrae van Clief-Stefanon - Wikipediaen.wikipedia.org › wiki Debug: Text extracted for George Orwell's Diaries by Orwell, George:\n",
      "George Orwell's Diaries Orwell, George published in what year - Google Search×Please click here if you are not redirected within a few seconds.    AllBooksImagesNews Maps Videos Shopping Search tools    Any timeAny timePast hourPast 24 hoursPast weekPast monthPast yearAll resultsAll resultsVerbatimGeorge Orwell Diaries - Amazon.comwww.amazon.com › George-Orwell-DiariesRating  4.5  (142)   · $18.42His unique political allegory, Animal Farm was published in 1945, and it was this novel, together wi\n",
      "Debug: No valid year found in matches for George Orwell's Diaries by Orwell, George: ['19', '19', '19', '19', '19', '19', '20', '19', '20', '19', '19', '20', '19', '19', '20', '20', '19', '19', '20', '20', '19', '19', '20', '19', '19']\n",
      "\n",
      "Debug: No valid year found in matches for Open Interval by Clief-Stefanon, Lyrae Van: ['20', '20', '20', '20', '20', '20', '19', '20', '20', '20', '20', '20', '20', '20']\n",
      "Debug: Text extracted for Slef Portrait by Ray, Man:\n",
      "Slef Portrait Ray, Man published in what year - Google Search×Please click here if you are not redirected within a few seconds.    AllImagesShoppingVideos Maps News Books Search tools    Any timeAny timePast hourPast 24 hoursPast weekPast monthPast yearAll resultsAll resultsVerbatimShowing results for Self Portrait Ray, Man published in what yearSearch instead for Slef Portrait Ray, Man published in what yearCollection - Untitled (Self-Portrait with Camera) - The Jewish Museumthejewishmuseum.org\n",
      "Debug: No valid year found in matches for Slef Portrait by Ray, Man: ['20', '20', '19', '19', '19', '20', '19', '19', '19', '19', '19', '20']\n",
      "Debug: Text extracted for Uncle Tom's Cabin by Stowe, Harriet Beecher:\n",
      "Uncle Tom's Cabin Stowe, Harriet Beecher published in what year - Google Search×Please click here if you are not redirected within a few seconds.    AllShoppingImagesBooks Maps Videos News Search tools    Any timeAny timePast hourPast 24 hoursPast weekPast monthPast yearAll resultsAll resultsVerbatimOn March 20 of 1852, Uncle Tom's Cabin was officially published. By the time the book came out an eager public was waiting to buy it, and over 10,000 copies of the two-volume work were sold in the fi\n",
      "Debug: No valid year found in matches for Uncle Tom's Cabin by Stowe, Harriet Beecher: ['20', '20', '20', '20']\n",
      "Debug: Text extracted for Purity and Danger: An Analysis of the Concepts of Pollution and Taboo by Douglas, Mary:\n",
      "Purity and Danger: An Analysis of the Concepts of Pollution and Taboo Douglas, Mary published in what year - Google Search×Please click here if you are not redirected within a few seconds.    AllBooksImagesShopping Maps Videos News Search tools    Any timeAny timePast hourPast 24 hoursPast weekPast monthPast yearAll resultsAll resultsVerbatim[1966] 2002. Purity and Danger: An Analysis of Concepts of Pol- lution and Taboo. New York: Routledge Classics. Douglas, Mary.Dec 1, 2023Mary Douglas, Purit\n",
      "Debug: No valid year found in matches for Purity and Danger: An Analysis of the Concepts of Pollution and Taboo by Douglas, Mary: ['19', '20', '19', '19', '19', '19', '19', '19', '20', '20', '19', '19']\n",
      "Debug: Text extracted for The Complete Works of George Orwell by Orwell, George:\n",
      "The Complete Works of George Orwell Orwell, George published in what year - Google Search×Please click here if you are not redirected within a few seconds.    AllShoppingBooksImages Maps Videos News Search tools    Any timeAny timePast hourPast 24 hoursPast weekPast monthPast yearAll resultsAll resultsVerbatimGeorge Orwell bibliography - Wikipediaen.wikipedia.org › wiki › George_Orwell_bibliographyThe complete texts Orwell wrote for the Observer are collected in Orwell: The Observer Years publis\n",
      "Debug: No valid year found in matches for The Complete Works of George Orwell by Orwell, George: ['20', '19', '19', '19', '19', '19', '19', '19', '19', '19', '19', '19', '19', '19', '19', '19', '20', '19', '19']\n",
      "Debug: Text extracted for Brothers and Keepers by Wideman, John Edgar:\n",
      "Brothers and Keepers Wideman, John Edgar published in what year - Google Search×Please click here if you are not redirected within a few seconds.    AllNewsImagesBooks Maps Videos Shopping Search tools    Any timeAny timePast hourPast 24 hoursPast weekPast monthPast yearAll resultsAll resultsVerbatimBrothers and Keepers is a memoir written by John Edgar Wideman. It was published by Holt, Rinehart and Winston in 1984.Brothers and Keepers - Wikipediaen.wikipedia.org › wiki › Brothers_and_KeepersAb\n",
      "Debug: No valid year found in matches for Brothers and Keepers by Wideman, John Edgar: ['19', '19', '20', '19', '19', '20', '19', '20', '19', '19', '19', '19', '19', '20']\n"
     ]
    },
    {
     "name": "stderr",
     "output_type": "stream",
     "text": [
      "\r",
      "Processing books:   4%|█                      | 60/1346 [00:14<05:43,  3.74it/s]"
     ]
    },
    {
     "name": "stdout",
     "output_type": "stream",
     "text": [
      "Debug: Text extracted for Becoming Marianne Moore: The Early Poems 1907-1924 by Moore, Marianne:\n",
      "Becoming Marianne Moore: The Early Poems 1907-1924 Moore, Marianne published in what year - Google Search×Please click here if you are not redirected within a few seconds.    AllImagesBooksShopping Maps Videos News Search tools    Any timeAny timePast hourPast 24 hoursPast weekPast monthPast yearAll resultsAll resultsVerbatimBecoming Marianne Moore: The Early Poems, 1907-1924www.ucpress.edu › book › becoming-marianne-moore$73.95The reprint is followed by a collection of facsimiles that presents \n",
      "Debug: No valid year found in matches for Becoming Marianne Moore: The Early Poems 1907-1924 by Moore, Marianne: ['19', '19', '19', '19', '19', '19', '19', '19', '20', '19', '19', '19', '19', '19', '19', '19', '19', '19', '19', '19', '19', '19', '19', '19', '19', '19', '20', '19', '19', '19', '20', '19', '19', '19', '19', '19']\n",
      "Debug: Text extracted for Heart of Darkness by Conrad, Joseph:\n",
      "Heart of Darkness Conrad, Joseph published in what year - Google Search×Please click here if you are not redirected within a few seconds.    AllShoppingBooksImages Maps Videos News Search tools    Any timeAny timePast hourPast 24 hoursPast weekPast monthPast yearAll resultsAll resultsVerbatimHeart of Darkness, novella by Joseph Conrad that was first published in 1899 in Blackwood's Edinburgh Magazine and then in Conrad's Youth: and Two Other Stories (1902).6 days agoHeart of Darkness | Summary, \n",
      "Debug: No valid year found in matches for Heart of Darkness by Conrad, Joseph: ['19', '19', '19', '19', '19', '20', '19']\n",
      "Debug: Text extracted for Open Interval by Clief-Stefanon, Lyrae Van:\n",
      "Open Interval Clief-Stefanon, Lyrae Van published in what year - Google Search×Please click here if you are not redirected within a few seconds.    AllImagesBooksShopping Maps Videos News Search tools    Any timeAny timePast hourPast 24 hoursPast weekPast monthPast yearAll resultsAll resultsVerbatimIn April 2009, Van Clief-Stefanon published her second poetry collection, ]Open Interval[, which was a finalist for the National Book Award.Lyrae van Clief-Stefanon - Wikipediaen.wikipedia.org › wiki \n",
      "Debug: No valid year found in matches for Open Interval by Clief-Stefanon, Lyrae Van: ['20', '20', '20', '20', '20', '20', '19', '20', '20', '20', '20', '20', '20', '20']\n",
      "Debug: Text extracted for George Orwell's Diaries by Orwell, George:\n",
      "George Orwell's Diaries Orwell, George published in what year - Google Search×Please click here if you are not redirected within a few seconds.    AllBooksImagesShopping Maps Videos News Search tools    Any timeAny timePast hourPast 24 hoursPast weekPast monthPast yearAll resultsAll resultsVerbatimGeorge Orwell Diaries - Amazon.comwww.amazon.com › George-Orwell-DiariesRating  4.5  (142)   · $18.42His unique political allegory, Animal Farm was published in 1945, and it was this novel, together wi\n",
      "Debug: No valid year found in matches for George Orwell's Diaries by Orwell, George: ['19', '19', '19', '19', '19', '19', '20', '19', '20', '19', '19', '20', '19', '19', '20', '20', '19', '19', '20', '20', '19', '19', '20', '19', '19']\n",
      "Debug: Text extracted for Uncle Tom's Cabin by Stowe, Harriet Beecher:\n",
      "Uncle Tom's Cabin Stowe, Harriet Beecher published in what year - Google Search×Please click here if you are not redirected within a few seconds.    AllShoppingImagesBooks Maps Videos News Search tools    Any timeAny timePast hourPast 24 hoursPast weekPast monthPast yearAll resultsAll resultsVerbatimOn March 20 of 1852, Uncle Tom's Cabin was officially published. By the time the book came out an eager public was waiting to buy it, and over 10,000 copies of the two-volume work were sold in the fi\n",
      "Debug: No valid year found in matches for Uncle Tom's Cabin by Stowe, Harriet Beecher: ['20', '20', '20']\n",
      "Debug: Text extracted for Slef Portrait by Ray, Man:\n",
      "Slef Portrait Ray, Man published in what year - Google Search×Please click here if you are not redirected within a few seconds.    AllImagesVideosNews Maps Shopping Books Search tools    Any timeAny timePast hourPast 24 hoursPast weekPast monthPast yearAll resultsAll resultsVerbatimShowing results for Self Portrait Ray, Man published in what yearSearch instead for Slef Portrait Ray, Man published in what yearCollection - Untitled (Self-Portrait with Camera) - The Jewish Museumthejewishmuseum.org\n",
      "Debug: No valid year found in matches for Slef Portrait by Ray, Man: ['20', '20', '19', '19', '19', '20', '19', '19', '19', '19', '19']\n",
      "Debug: Text extracted for The Immense Journey by Eiseley, Loren:\n",
      "The Immense Journey Eiseley, Loren published in what year - Google Search×Please click here if you are not redirected within a few seconds.    AllShoppingImagesBooks Maps Videos News Search tools    Any timeAny timePast hourPast 24 hoursPast weekPast monthPast yearAll resultsAll resultsVerbatimThe immense journey / Originally published1957Immense Journey by Loren Eiseley, First Edition (8 results)www.abebooks.com › book-search › title › immense-journey › author › fir...30-day returnsYear of Publ\n",
      "Debug: No valid year found in matches for The Immense Journey by Eiseley, Loren: ['19', '19', '19', '19', '20', '20', '19', '19', '20', '20', '19', '19']\n",
      "Debug: Text extracted for Purity and Danger: An Analysis of the Concepts of Pollution and Taboo by Douglas, Mary:\n",
      "Purity and Danger: An Analysis of the Concepts of Pollution and Taboo Douglas, Mary published in what year - Google Search×Please click here if you are not redirected within a few seconds.    AllBooksImagesShopping Maps Videos News Search tools    Any timeAny timePast hourPast 24 hoursPast weekPast monthPast yearAll resultsAll resultsVerbatim[1966] 2002. Purity and Danger: An Analysis of Concepts of Pol- lution and Taboo. New York: Routledge Classics. Douglas, Mary.Dec 1, 2023Mary Douglas, Purit\n",
      "Debug: No valid year found in matches for Purity and Danger: An Analysis of the Concepts of Pollution and Taboo by Douglas, Mary: ['19', '20', '19', '19', '19', '19', '19', '19', '20', '20', '19', '19']\n"
     ]
    },
    {
     "name": "stderr",
     "output_type": "stream",
     "text": [
      "\r",
      "Processing books:   5%|█                      | 62/1346 [00:14<05:03,  4.23it/s]"
     ]
    },
    {
     "name": "stdout",
     "output_type": "stream",
     "text": [
      "Debug: Text extracted for Brothers and Keepers by Wideman, John Edgar:\n",
      "Brothers and Keepers Wideman, John Edgar published in what year - Google Search×Please click here if you are not redirected within a few seconds.    AllNewsImagesBooks Maps Videos Shopping Search tools    Any timeAny timePast hourPast 24 hoursPast weekPast monthPast yearAll resultsAll resultsVerbatimBrothers and Keepers is a memoir written by John Edgar Wideman. It was published by Holt, Rinehart and Winston in 1984.Brothers and Keepers - Wikipediaen.wikipedia.org › wiki › Brothers_and_KeepersAb\n",
      "Debug: No valid year found in matches for Brothers and Keepers by Wideman, John Edgar: ['19', '19', '20', '19', '19', '20', '19', '20', '19', '19', '19', '19']\n",
      "Debug: Text extracted for The Complete Works of George Orwell by Orwell, George:\n",
      "The Complete Works of George Orwell Orwell, George published in what year - Google Search×Please click here if you are not redirected within a few seconds.    AllBooksImagesShopping Maps Videos News Search tools    Any timeAny timePast hourPast 24 hoursPast weekPast monthPast yearAll resultsAll resultsVerbatimGeorge Orwell bibliography - Wikipediaen.wikipedia.org › wiki › George_Orwell_bibliographyThe complete texts Orwell wrote for the Observer are collected in Orwell: The Observer Years publis\n",
      "Debug: No valid year found in matches for The Complete Works of George Orwell by Orwell, George: ['20', '19', '19', '19', '19', '19', '19', '19', '19', '19', '19', '19', '19', '19', '19', '19', '20', '19', '19']\n",
      "Debug: Text extracted for Becoming Marianne Moore: The Early Poems 1907-1924 by Moore, Marianne:\n",
      "Becoming Marianne Moore: The Early Poems 1907-1924 Moore, Marianne published in what year - Google Search×Please click here if you are not redirected within a few seconds.    AllImagesBooksShopping Maps Videos News Search tools    Any timeAny timePast hourPast 24 hoursPast weekPast monthPast yearAll resultsAll resultsVerbatimBecoming Marianne Moore: The Early Poems, 1907-1924www.ucpress.edu › book › becoming-marianne-moore$73.95The reprint is followed by a collection of facsimiles that presents \n",
      "Debug: No valid year found in matches for Becoming Marianne Moore: The Early Poems 1907-1924 by Moore, Marianne: ['19', '19', '19', '19', '19', '19', '19', '19', '20', '19', '19', '19', '19', '19', '19', '19', '19', '19', '19', '19', '19', '19', '19', '19', '19', '19', '20', '19', '19', '19', '20', '19', '19', '19', '19', '19']\n"
     ]
    },
    {
     "name": "stderr",
     "output_type": "stream",
     "text": [
      "Processing books:   5%|█▏                     | 66/1346 [00:15<03:35,  5.95it/s]"
     ]
    },
    {
     "name": "stdout",
     "output_type": "stream",
     "text": [
      "Debug: Text extracted for George Orwell's Diaries by Orwell, George:\n",
      "George Orwell's Diaries Orwell, George published in what year - Google Search×Please click here if you are not redirected within a few seconds.    AllBooksImagesShopping Maps Videos News Search tools    Any timeAny timePast hourPast 24 hoursPast weekPast monthPast yearAll resultsAll resultsVerbatimGeorge Orwell Diaries - Amazon.comwww.amazon.com › George-Orwell-DiariesRating  4.5  (142)   · $18.42  · 30-day returnsHis unique political allegory, Animal Farm was published in 1945, and it was this \n",
      "Debug: No valid year found in matches for George Orwell's Diaries by Orwell, George: ['19', '19', '19', '19', '19', '19', '20', '19', '20', '19', '19', '20', '19', '19', '20', '20', '19', '19', '20', '20', '19', '19', '20', '19', '19']\n",
      "Debug: Text extracted for Orwell: My Country Right or Left: 1940-1943 by Orwell, Sonia and Ian Angus:\n",
      "Orwell: My Country Right or Left: 1940-1943 Orwell, Sonia and Ian Angus published in what year - Google Search×Please click here if you are not redirected within a few seconds.    AllImagesBooksNews Maps Videos Shopping Search tools    Any timeAny timePast hourPast 24 hoursPast weekPast monthPast yearAll resultsAll resultsVerbatimMy Country Right or Left 1940 - 1943: Collected Essays, Journalism ...www.amazon.com › Country-Right-Left-1940-JournalismRating  4.6  (7)   · $19.03His unique political\n",
      "Debug: No valid year found in matches for Orwell: My Country Right or Left: 1940-1943 by Orwell, Sonia and Ian Angus: ['19', '19', '19', '19', '19', '19', '19', '19', '19', '19', '19', '19', '19', '19', '19', '19', '19', '19', '19', '19', '19', '19', '19', '19', '19', '19', '19', '19', '19', '19', '19', '19', '19', '19', '19', '19', '19', '19', '19', '19']\n",
      "Debug: Text extracted for Slef Portrait by Ray, Man:\n",
      "Slef Portrait Ray, Man published in what year - Google Search×Please click here if you are not redirected within a few seconds.    AllImagesShoppingVideos Maps News Books Search tools    Any timeAny timePast hourPast 24 hoursPast weekPast monthPast yearAll resultsAll resultsVerbatimShowing results for Self Portrait Ray, Man published in what yearSearch instead for Slef Portrait Ray, Man published in what yearSelf Portrait / Originally published1963People also askWhen was self-portrait published?\n",
      "Debug: No valid year found in matches for Slef Portrait by Ray, Man: ['20', '20', '19', '19', '19', '20', '19', '19', '19', '19', '19', '20']\n",
      "Debug: Text extracted for Uncle Tom's Cabin by Stowe, Harriet Beecher:\n",
      "Uncle Tom's Cabin Stowe, Harriet Beecher published in what year - Google Search×Please click here if you are not redirected within a few seconds.    AllImagesBooksShopping Maps Videos News Search tools    Any timeAny timePast hourPast 24 hoursPast weekPast monthPast yearAll resultsAll resultsVerbatimOn March 20 of 1852, Uncle Tom's Cabin was officially published. By the time the book came out an eager public was waiting to buy it, and over 10,000 copies of the two-volume work were sold in the fi\n",
      "Debug: No valid year found in matches for Uncle Tom's Cabin by Stowe, Harriet Beecher: ['20', '20', '20']\n",
      "Debug: Text extracted for Purity and Danger: An Analysis of the Concepts of Pollution and Taboo by Douglas, Mary:\n",
      "Purity and Danger: An Analysis of the Concepts of Pollution and Taboo Douglas, Mary published in what year - Google Search×Please click here if you are not redirected within a few seconds.    AllBooksImagesShopping Maps Videos News Search tools    Any timeAny timePast hourPast 24 hoursPast weekPast monthPast yearAll resultsAll resultsVerbatim[1966] 2002. Purity and Danger: An Analysis of Concepts of Pol- lution and Taboo. New York: Routledge Classics. Douglas, Mary.Dec 1, 2023Mary Douglas, Purit\n",
      "Debug: No valid year found in matches for Purity and Danger: An Analysis of the Concepts of Pollution and Taboo by Douglas, Mary: ['19', '20', '19', '19', '19', '19', '19', '19', '20', '20', '19', '19']\n"
     ]
    },
    {
     "name": "stderr",
     "output_type": "stream",
     "text": [
      "\r",
      "Processing books:   5%|█▏                     | 68/1346 [00:15<03:24,  6.25it/s]"
     ]
    },
    {
     "name": "stdout",
     "output_type": "stream",
     "text": [
      "Debug: Text extracted for The Immense Journey by Eiseley, Loren:\n",
      "The Immense Journey Eiseley, Loren published in what year - Google Search×Please click here if you are not redirected within a few seconds.    AllShoppingImagesBooks Maps Videos News Search tools    Any timeAny timePast hourPast 24 hoursPast weekPast monthPast yearAll resultsAll resultsVerbatimThe immense journey / Originally published1957Immense Journey by Loren Eiseley, First Edition (8 results)www.abebooks.com › book-search › title › immense-journey › author › fir...Year of Publication Ascend\n",
      "Debug: No valid year found in matches for The Immense Journey by Eiseley, Loren: ['19', '19', '19', '19', '20', '20', '19', '20', '20', '19', '19']\n",
      "Debug: Text extracted for The Rose by Potter, Jennfer:\n",
      "The Rose Potter, Jennfer published in what year - Google Search×Please click here if you are not redirected within a few seconds.    AllImagesNewsVideos Maps Shopping Books Search tools    Any timeAny timePast hourPast 24 hoursPast weekPast monthPast yearAll resultsAll resultsVerbatimShowing results for The Rose Potter, Jennifer published in what yearSearch instead for The Rose Potter, Jennfer published in what yearThe Rose: A True History / Originally published2010The Rose: Potter, Jennifer - A\n",
      "Debug: No valid year found in matches for The Rose by Potter, Jennfer: ['19', '19', '20', '20', '20']\n",
      "Debug: Text extracted for Orwell: An Age Like This: 1920-1940 by Orwell, Sonia and Ian Angus:\n",
      "Orwell: An Age Like This: 1920-1940 Orwell, Sonia and Ian Angus published in what year - Google Search×Please click here if you are not redirected within a few seconds.    AllImagesBooksShopping Maps Videos News Search tools    Any timeAny timePast hourPast 24 hoursPast weekPast monthPast yearAll resultsAll resultsVerbatimAn Age Like This, 1920-1940 (Collected Essays, Journalism and ...www.amazon.com › 1920-1940-Collected-Essays-Journalism-LettersRating  5.0  (7)   · $11.00  · 30-day returnsAn A\n",
      "Debug: No valid year found in matches for Orwell: An Age Like This: 1920-1940 by Orwell, Sonia and Ian Angus: ['19', '19', '19', '19', '19', '19', '19', '19', '19', '19', '19', '19', '19', '19', '19', '19', '19', '19', '19', '19', '19', '19', '19', '19', '19', '19', '19', '19', '19', '19', '19', '19', '19', '19', '19', '19', '20', '19', '19', '20', '19', '19', '19', '19', '19', '19', '19', '19']\n",
      "Debug: Text extracted for The Complete Works of George Orwell by Orwell, George:\n",
      "The Complete Works of George Orwell Orwell, George published in what year - Google Search×Please click here if you are not redirected within a few seconds.    AllBooksImagesShopping Maps Videos News Search tools    Any timeAny timePast hourPast 24 hoursPast weekPast monthPast yearAll resultsAll resultsVerbatimGeorge Orwell bibliography - Wikipediaen.wikipedia.org › wiki › George_Orwell_bibliographyThe complete texts Orwell wrote for the Observer are collected in Orwell: The Observer Years publis\n",
      "Debug: No valid year found in matches for The Complete Works of George Orwell by Orwell, George: ['20', '19', '19', '19', '19', '19', '19', '19', '19', '19', '19', '19', '20', '19', '19', '20', '19', '19', '19', '19', '19']\n",
      "Debug: Text extracted for Becoming Marianne Moore: The Early Poems 1907-1924 by Moore, Marianne:\n",
      "Becoming Marianne Moore: The Early Poems 1907-1924 Moore, Marianne published in what year - Google Search×Please click here if you are not redirected within a few seconds.    AllImagesBooksShopping Maps Videos News Search tools    Any timeAny timePast hourPast 24 hoursPast weekPast monthPast yearAll resultsAll resultsVerbatimBecoming Marianne Moore: The Early Poems, 1907-1924www.ucpress.edu › book › becoming-marianne-moore$73.95The reprint is followed by a collection of facsimiles that presents \n",
      "Debug: No valid year found in matches for Becoming Marianne Moore: The Early Poems 1907-1924 by Moore, Marianne: ['19', '19', '19', '19', '19', '19', '19', '19', '20', '19', '19', '19', '19', '19', '19', '19', '20', '19', '19', '19', '19', '19', '19', '19', '19', '19', '19', '19', '19', '19', '20', '19', '19', '19', '19', '19']\n",
      "Debug: Text extracted for Orwell: My Country Right or Left: 1940-1943 by Orwell, Sonia and Ian Angus:\n",
      "Orwell: My Country Right or Left: 1940-1943 Orwell, Sonia and Ian Angus published in what year - Google Search×Please click here if you are not redirected within a few seconds.    AllImagesBooksNews Maps Videos Shopping Search tools    Any timeAny timePast hourPast 24 hoursPast weekPast monthPast yearAll resultsAll resultsVerbatimMy Country Right or Left 1940 - 1943: Collected Essays, Journalism ...www.amazon.com › Country-Right-Left-1940-JournalismRating  4.6  (7)   · $19.03His unique political\n",
      "Debug: No valid year found in matches for Orwell: My Country Right or Left: 1940-1943 by Orwell, Sonia and Ian Angus: ['19', '19', '19', '19', '19', '19', '19', '19', '19', '19', '19', '19', '19', '19', '19', '19', '19', '19', '19', '19', '19', '19', '19', '19', '19', '19', '19', '19', '19', '19', '19', '19', '19', '19', '19', '19', '19', '19', '19', '19']\n",
      "Debug: Text extracted for And There Was Light by Lusseyran, Jacques:\n",
      "And There Was Light Lusseyran, Jacques published in what year - Google Search×Please click here if you are not redirected within a few seconds.    AllImagesBooksShopping Maps Videos News Search tools    Any timeAny timePast hourPast 24 hoursPast weekPast monthPast yearAll resultsAll resultsVerbatimAnd There was Light / Originally published1953People also askWhen was \"And there was light\" written?What is the book about the blind man in ww2?How did Jacques Lusseyran go blind?And There Was Light: A\n",
      "Debug: No valid year found in matches for And There Was Light by Lusseyran, Jacques: ['20', '20', '20', '19', '19', '19', '20', '19', '19']\n",
      "Debug: Text extracted for Orwell Remembered by Coppard, Audrey and Bernanrd Crick:\n",
      "Orwell Remembered Coppard, Audrey and Bernanrd Crick published in what year - Google Search×Please click here if you are not redirected within a few seconds.    AllBooksImagesNews Maps Videos Shopping Search tools    Any timeAny timePast hourPast 24 hoursPast weekPast monthPast yearAll resultsAll resultsVerbatimShowing results for Orwell Remembered Coppard, Audrey and Bernard Crick published in what yearSearch instead for Orwell Remembered Coppard, Audrey and Bernanrd Crick published in what yea\n",
      "Debug: No valid year found in matches for Orwell Remembered by Coppard, Audrey and Bernanrd Crick: ['19', '19', '19', '19', '19', '19', '19', '19', '19', '19', '19', '19', '19']\n",
      "Debug: Text extracted for Eric and Us by Buddicom, Jacintha:\n",
      "Eric and Us Buddicom, Jacintha published in what year - Google Search×Please click here if you are not redirected within a few seconds.    AllNewsImagesBooks Maps Videos Shopping Search tools    Any timeAny timePast hourPast 24 hoursPast weekPast monthPast yearAll resultsAll resultsVerbatimEric & Us / Originally published1974Eric & UsBook by Jacintha BuddicomEric & Us is a 1974 memoir by Jacintha Buddicom recalling her childhood friendship with Eric Blair, the real name of author George Orwell. \n",
      "Debug: No valid year found in matches for Eric and Us by Buddicom, Jacintha: ['19', '19', '19', '19', '19', '19', '20', '19', '20', '20', '20', '20', '20', '20', '20', '20', '20', '20', '20', '20', '20', '19']\n",
      "Debug: Text extracted for Coming Up For Air by Orwell, George:\n",
      "Coming Up For Air Orwell, George published in what year - Google Search×Please click here if you are not redirected within a few seconds.    AllImagesBooksShopping Maps Videos News Search tools    Any timeAny timePast hourPast 24 hoursPast weekPast monthPast yearAll resultsAll resultsVerbatimComing Up for Air is the seventh book and fourth novel by English writer George Orwell, published in June 1939 by Victor Gollancz.Coming Up for Air - Wikipediaen.wikipedia.org › wiki › Coming_Up_for_AirAbout\n",
      "Debug: No valid year found in matches for Coming Up For Air by Orwell, George: ['19', '19', '19', '19', '19', '19', '19', '19', '19', '19', '19', '19', '19', '20', '19', '19', '19', '20', '20', '19', '19', '19', '19']\n",
      "Debug: Text extracted for Orwell: An Age Like This: 1920-1940 by Orwell, Sonia and Ian Angus:\n",
      "Orwell: An Age Like This: 1920-1940 Orwell, Sonia and Ian Angus published in what year - Google Search×Please click here if you are not redirected within a few seconds.    AllImagesBooksShopping Maps Videos News Search tools    Any timeAny timePast hourPast 24 hoursPast weekPast monthPast yearAll resultsAll resultsVerbatimAn Age Like This, 1920-1940 (Collected Essays, Journalism and ...www.amazon.com › 1920-1940-Collected-Essays-Journalism-LettersRating  5.0  (7)   · $11.00  · 30-day returnsAn A\n",
      "Debug: No valid year found in matches for Orwell: An Age Like This: 1920-1940 by Orwell, Sonia and Ian Angus: ['19', '19', '19', '19', '19', '19', '19', '19', '19', '19', '19', '19', '19', '19', '19', '19', '19', '19', '19', '19', '19', '19', '19', '19', '19', '19', '19', '19', '19', '19', '19', '19', '19', '19', '19', '19', '19', '19', '20', '19', '19', '20', '19', '19', '19', '19']\n"
     ]
    },
    {
     "name": "stderr",
     "output_type": "stream",
     "text": [
      "\r",
      "Processing books:   5%|█▏                     | 69/1346 [00:16<05:23,  3.95it/s]"
     ]
    },
    {
     "name": "stdout",
     "output_type": "stream",
     "text": [
      "Debug: Text extracted for The Rose by Potter, Jennfer:\n",
      "The Rose Potter, Jennfer published in what year - Google Search×Please click here if you are not redirected within a few seconds.    AllImagesNewsVideos Maps Shopping Books Search tools    Any timeAny timePast hourPast 24 hoursPast weekPast monthPast yearAll resultsAll resultsVerbatimShowing results for The Rose Potter, Jennifer published in what yearSearch instead for The Rose Potter, Jennfer published in what yearThe Rose: A True History / Originally published2010The Rose: Potter, Jennifer - A\n",
      "Debug: No valid year found in matches for The Rose by Potter, Jennfer: ['19', '19', '20', '20', '20', '20', '20']\n",
      "Debug: Text extracted for Nineteen Eighty-Four by Orwell, George:\n",
      "Nineteen Eighty-Four Orwell, George published in what year - Google Search×Please click here if you are not redirected within a few seconds.    AllShoppingImagesBooks Maps Videos News Search tools    Any timeAny timePast hourPast 24 hoursPast weekPast monthPast yearAll resultsAll resultsVerbatimNineteen Eighty-four, novel by English author George Orwell published in 1949 as a warning against totalitarianism.Jun 3, 2024Nineteen Eighty-four | Summary, Characters, Analysis, & Factswww.britannica.co\n",
      "Debug: No valid year found in matches for Nineteen Eighty-Four by Orwell, George: ['19', '19', '19', '19', '19', '19', '19', '19', '19', '19', '19', '19', '20', '19', '19', '19', '20', '19', '19', '19', '19', '19', '19', '19', '19', '19', '19', '19', '19', '19', '19', '19', '19', '19', '19']\n",
      "Debug: Text extracted for Orwell: My Country Right or Left: 1940-1943 by Orwell, Sonia and Ian Angus:\n",
      "Orwell: My Country Right or Left: 1940-1943 Orwell, Sonia and Ian Angus published in what year - Google Search×Please click here if you are not redirected within a few seconds.    AllImagesBooksNews Maps Videos Shopping Search tools    Any timeAny timePast hourPast 24 hoursPast weekPast monthPast yearAll resultsAll resultsVerbatimMy Country Right or Left 1940 - 1943: Collected Essays, Journalism ...www.amazon.com › Country-Right-Left-1940-JournalismRating  4.6  (7)   · $19.03His unique political\n",
      "Debug: No valid year found in matches for Orwell: My Country Right or Left: 1940-1943 by Orwell, Sonia and Ian Angus: ['19', '19', '19', '19', '19', '19', '19', '19', '19', '19', '19', '19', '19', '19', '19', '19', '19', '19', '19', '19', '19', '19', '19', '19', '19', '19', '19', '19', '19', '19', '19', '19', '19', '19', '19', '19', '19', '19', '19', '19']\n",
      "Debug: Text extracted for The Immense Journey by Eiseley, Loren:\n",
      "The Immense Journey Eiseley, Loren published in what year - Google Search×Please click here if you are not redirected within a few seconds.    AllImagesBooksShopping Maps Videos News Search tools    Any timeAny timePast hourPast 24 hoursPast weekPast monthPast yearAll resultsAll resultsVerbatimThe immense journey / Originally published1957The immense journeyBook by Loren EiseleyA collection of essays by the head of the Department of Anthropology at the University of Pennsylvania has its central \n",
      "Debug: No valid year found in matches for The Immense Journey by Eiseley, Loren: ['19', '19', '19', '19', '20', '20', '19', '19', '20', '20', '19']\n",
      "Debug: Text extracted for George Orwell: In Front of Your Nose: 1945-1950 by Orwell, Sonia and Ian Angus:\n",
      "George Orwell: In Front of Your Nose: 1945-1950 Orwell, Sonia and Ian Angus published in what year - Google Search×Please click here if you are not redirected within a few seconds.    AllImagesBooksNews Maps Videos Shopping Search tools    Any timeAny timePast hourPast 24 hoursPast weekPast monthPast yearAll resultsAll resultsVerbatimIn Front of Your Nose, 1945-1950 (Collected Essays, Journalism ...www.amazon.com › 1945-1950-Collected-Essays-Journalism-LettersRating  4.8  (15)   · $35.00... Geor\n",
      "Debug: No valid year found in matches for George Orwell: In Front of Your Nose: 1945-1950 by Orwell, Sonia and Ian Angus: ['19', '19', '19', '19', '19', '19', '19', '19', '19', '19', '19', '19', '19', '19', '19', '19', '19', '19', '19', '19', '19', '19', '19', '19', '19', '19', '19', '19', '19', '19', '19', '19', '19', '19', '19', '19', '19', '19', '19', '19', '19', '19', '19', '19']\n"
     ]
    },
    {
     "name": "stderr",
     "output_type": "stream",
     "text": [
      "\r",
      "Processing books:   5%|█▏                     | 71/1346 [00:16<04:47,  4.44it/s]"
     ]
    },
    {
     "name": "stdout",
     "output_type": "stream",
     "text": [
      "Debug: Text extracted for And There Was Light by Lusseyran, Jacques:\n",
      "And There Was Light Lusseyran, Jacques published in what year - Google Search×Please click here if you are not redirected within a few seconds.    AllImagesBooksShopping Maps Videos News Search tools    Any timeAny timePast hourPast 24 hoursPast weekPast monthPast yearAll resultsAll resultsVerbatimAnd There was Light / Originally published1953People also askWhen was \"And there was light\" written?What is the book about the blind man in ww2?How did Jacques Lusseyran go blind?And There Was Light: A\n",
      "Debug: No valid year found in matches for And There Was Light by Lusseyran, Jacques: ['20', '20', '20', '19', '19', '19', '20', '19', '19']\n",
      "Debug: Text extracted for Orwell Remembered by Coppard, Audrey and Bernanrd Crick:\n",
      "Orwell Remembered Coppard, Audrey and Bernanrd Crick published in what year - Google Search×Please click here if you are not redirected within a few seconds.    AllBooksImagesNews Maps Videos Shopping Search tools    Any timeAny timePast hourPast 24 hoursPast weekPast monthPast yearAll resultsAll resultsVerbatimShowing results for Orwell Remembered Coppard, Audrey and Bernard Crick published in what yearSearch instead for Orwell Remembered Coppard, Audrey and Bernanrd Crick published in what yea\n",
      "Debug: No valid year found in matches for Orwell Remembered by Coppard, Audrey and Bernanrd Crick: ['19', '19', '19', '19', '19', '19', '19', '19', '19', '19', '19', '19', '19', '19', '19', '19']\n",
      "Debug: Text extracted for Eric and Us by Buddicom, Jacintha:\n",
      "Eric and Us Buddicom, Jacintha published in what year - Google Search×Please click here if you are not redirected within a few seconds.    AllNewsImagesBooks Maps Videos Shopping Search tools    Any timeAny timePast hourPast 24 hoursPast weekPast monthPast yearAll resultsAll resultsVerbatimEric & Us / Originally published1974Eric & UsBook by Jacintha BuddicomEric & Us is a 1974 memoir by Jacintha Buddicom recalling her childhood friendship with Eric Blair, the real name of author George Orwell. \n",
      "Debug: No valid year found in matches for Eric and Us by Buddicom, Jacintha: ['19', '19', '19', '19', '19', '19', '20', '19', '20', '20', '20', '20', '20', '20', '20', '20', '20', '20', '20', '20', '20', '19']\n",
      "Debug: Text extracted for Orwell: An Age Like This: 1920-1940 by Orwell, Sonia and Ian Angus:\n",
      "Orwell: An Age Like This: 1920-1940 Orwell, Sonia and Ian Angus published in what year - Google Search×Please click here if you are not redirected within a few seconds.    AllImagesBooksShopping Maps Videos News Search tools    Any timeAny timePast hourPast 24 hoursPast weekPast monthPast yearAll resultsAll resultsVerbatimAn Age Like This, 1920-1940 (Collected Essays, Journalism and ...www.amazon.com › 1920-1940-Collected-Essays-Journalism-LettersRating  5.0  (7)   · $11.00An Age Like This, 1920\n",
      "Debug: No valid year found in matches for Orwell: An Age Like This: 1920-1940 by Orwell, Sonia and Ian Angus: ['19', '19', '19', '19', '19', '19', '19', '19', '19', '19', '19', '19', '19', '19', '19', '19', '19', '19', '19', '19', '19', '19', '19', '19', '19', '19', '19', '19', '19', '19', '19', '19', '19', '19', '19', '19', '19', '19', '20', '19', '19', '20', '19', '19', '19', '19', '19', '19']\n",
      "Debug: Text extracted for Coming Up For Air by Orwell, George:\n",
      "Coming Up For Air Orwell, George published in what year - Google Search×Please click here if you are not redirected within a few seconds.    AllImagesBooksNews Maps Videos Shopping Search tools    Any timeAny timePast hourPast 24 hoursPast weekPast monthPast yearAll resultsAll resultsVerbatimComing Up for Air is the seventh book and fourth novel by English writer George Orwell, published in June 1939 by Victor Gollancz.Coming Up for Air - Wikipediaen.wikipedia.org › wiki › Coming_Up_for_AirAbout\n",
      "Debug: No valid year found in matches for Coming Up For Air by Orwell, George: ['19', '19', '19', '19', '19', '19', '19', '19', '19', '19', '19', '19', '20', '19', '19', '19', '20', '20', '19', '19', '19', '19', '19']\n"
     ]
    },
    {
     "name": "stderr",
     "output_type": "stream",
     "text": [
      "Processing books:   5%|█▏                     | 73/1346 [00:16<04:56,  4.30it/s]"
     ]
    },
    {
     "name": "stdout",
     "output_type": "stream",
     "text": [
      "Debug: Text extracted for As I Please: 1943-1945 by Orwell, Sonia and Ian Angus:\n",
      "As I Please: 1943-1945 Orwell, Sonia and Ian Angus published in what year - Google Search×Please click here if you are not redirected within a few seconds.    AllImagesBooksShopping Maps Videos News Search tools    Any timeAny timePast hourPast 24 hoursPast weekPast monthPast yearAll resultsAll resultsVerbatimAs I Please 1943-1945 (The Collected Essays, Journalism and ...www.amazon.com › Please-1943-1945-Collected-Journalism-LettersRating  5.0  (7) Book details ; Print length. 435 pages ; LanguaDebug: Text extracted for The Rose by Potter, Jennfer:\n",
      "The Rose Potter, Jennfer published in what year - Google Search×Please click here if you are not redirected within a few seconds.    AllImagesNewsVideos Maps Shopping Books Search tools    Any timeAny timePast hourPast 24 hoursPast weekPast monthPast yearAll resultsAll resultsVerbatimShowing results for The Rose Potter, Jennifer published in what yearSearch instead for The Rose Potter, Jennfer published in what yearThe Rose: A True History / Originally published2010The Rose: Potter, Jennifer - A\n",
      "Debug: No valid year found in matches for The Rose by Potter, Jennfer: ['19', '19', '20', '20', '20', '20', '20']\n",
      "\n",
      "Debug: No valid year found in matches for As I Please: 1943-1945 by Orwell, Sonia and Ian Angus: ['19', '19', '19', '19', '19', '19', '19', '19', '19', '19', '19', '19', '19', '19', '19', '19', '19', '19', '19', '19', '19', '20', '19', '19', '19', '19', '19', '19', '19', '19', '19', '19', '19', '19', '20', '19', '19', '19', '19', '19', '19', '19', '19', '19', '19', '19', '19', '20']\n",
      "Debug: Text extracted for Nineteen Eighty-Four by Orwell, George:\n",
      "Nineteen Eighty-Four Orwell, George published in what year - Google Search×Please click here if you are not redirected within a few seconds.    AllImagesBooksShopping Maps Videos News Search tools    Any timeAny timePast hourPast 24 hoursPast weekPast monthPast yearAll resultsAll resultsVerbatimNineteen Eighty-four, novel by English author George Orwell published in 1949 as a warning against totalitarianism.Jun 3, 2024Nineteen Eighty-four | Summary, Characters, Analysis, & Factswww.britannica.co\n",
      "Debug: No valid year found in matches for Nineteen Eighty-Four by Orwell, George: ['19', '19', '19', '19', '19', '19', '19', '19', '19', '19', '19', '19', '20', '19', '19', '19', '20', '19', '19', '19', '19', '19', '19', '19', '19', '19', '19', '19', '19', '19', '19', '19', '19', '19', '19']\n",
      "Debug: Text extracted for George Orwell: In Front of Your Nose: 1945-1950 by Orwell, Sonia and Ian Angus:\n",
      "George Orwell: In Front of Your Nose: 1945-1950 Orwell, Sonia and Ian Angus published in what year - Google Search×Please click here if you are not redirected within a few seconds.    AllImagesBooksNews Maps Videos Shopping Search tools    Any timeAny timePast hourPast 24 hoursPast weekPast monthPast yearAll resultsAll resultsVerbatimIn Front of Your Nose, 1945-1950 (Collected Essays, Journalism ...www.amazon.com › 1945-1950-Collected-Essays-Journalism-LettersRating  4.8  (15)   · $35.00... Geor\n",
      "Debug: No valid year found in matches for George Orwell: In Front of Your Nose: 1945-1950 by Orwell, Sonia and Ian Angus: ['19', '19', '19', '19', '19', '19', '19', '19', '19', '19', '19', '19', '19', '19', '19', '19', '19', '19', '19', '19', '19', '19', '19', '19', '19', '19', '19', '19', '19', '19', '19', '19', '19', '19', '19', '19', '19', '19', '19', '19', '19', '19', '19']\n",
      "Debug: Text extracted for Georege Orwell: A Life in Letters by Orwell, George:\n",
      "Georege Orwell: A Life in Letters Orwell, George published in what year - Google Search×Please click here if you are not redirected within a few seconds.    AllShoppingBooksImages Maps Videos News Search tools    Any timeAny timePast hourPast 24 hoursPast weekPast monthPast yearAll resultsAll resultsVerbatimShowing results for George Orwell: A Life in Letters Orwell, George published in what yearSearch instead for Georege Orwell: A Life in Letters Orwell, George published in what yearGeorge Orwe\n",
      "Debug: No valid year found in matches for Georege Orwell: A Life in Letters by Orwell, George: ['20', '19', '19', '19', '19', '19', '20', '20', '20', '20', '20', '19', '19', '19', '20', '19', '19', '20', '20', '19', '19', '19']\n",
      "Debug: Text extracted for Orwell Remembered by Coppard, Audrey and Bernanrd Crick:\n",
      "Orwell Remembered Coppard, Audrey and Bernanrd Crick published in what year - Google Search×Please click here if you are not redirected within a few seconds.    AllBooksImagesNews Maps Videos Shopping Search tools    Any timeAny timePast hourPast 24 hoursPast weekPast monthPast yearAll resultsAll resultsVerbatimShowing results for Orwell Remembered Coppard, Audrey and Bernard Crick published in what yearSearch instead for Orwell Remembered Coppard, Audrey and Bernanrd Crick published in what yea\n",
      "Debug: No valid year found in matches for Orwell Remembered by Coppard, Audrey and Bernanrd Crick: ['19', '19', '19', '19', '19', '19', '19', '19', '19', '19', '19', '19', '19']\n",
      "Debug: Text extracted for Eric and Us by Buddicom, Jacintha:\n",
      "Eric and Us Buddicom, Jacintha published in what year - Google Search×Please click here if you are not redirected within a few seconds.    AllNewsImagesBooks Maps Videos Shopping Search tools    Any timeAny timePast hourPast 24 hoursPast weekPast monthPast yearAll resultsAll resultsVerbatimEric & Us / Originally published1974Eric & UsBook by Jacintha BuddicomEric & Us is a 1974 memoir by Jacintha Buddicom recalling her childhood friendship with Eric Blair, the real name of author George Orwell. \n",
      "Debug: No valid year found in matches for Eric and Us by Buddicom, Jacintha: ['19', '19', '19', '19', '19', '19', '20', '19', '20', '20', '20', '20', '20', '20', '20', '20', '20', '20', '20', '20', '20', '19']\n",
      "Debug: Text extracted for And There Was Light by Lusseyran, Jacques:\n",
      "And There Was Light Lusseyran, Jacques published in what year - Google Search×Please click here if you are not redirected within a few seconds.    AllImagesBooksShopping Maps Videos News Search tools    Any timeAny timePast hourPast 24 hoursPast weekPast monthPast yearAll resultsAll resultsVerbatimAnd There was Light / Originally published1953People also askWhen was \"And there was light\" written?What is the book about the blind man in ww2?And There Was Light: Autobiography of Jacques Lusseyran: \n",
      "Debug: No valid year found in matches for And There Was Light by Lusseyran, Jacques: ['20', '20', '20', '19', '19', '19', '20', '19', '19']\n"
     ]
    },
    {
     "name": "stderr",
     "output_type": "stream",
     "text": [
      "\r",
      "Processing books:   6%|█▎                     | 76/1346 [00:16<02:58,  7.12it/s]"
     ]
    },
    {
     "name": "stdout",
     "output_type": "stream",
     "text": [
      "Debug: Text extracted for Coming Up For Air by Orwell, George:\n",
      "Coming Up For Air Orwell, George published in what year - Google Search×Please click here if you are not redirected within a few seconds.    AllImagesBooksShopping Maps Videos News Search tools    Any timeAny timePast hourPast 24 hoursPast weekPast monthPast yearAll resultsAll resultsVerbatimComing Up for Air is the seventh book and fourth novel by English writer George Orwell, published in June 1939 by Victor Gollancz.Coming Up for Air - Wikipediaen.wikipedia.org › wiki › Coming_Up_for_AirAbout\n",
      "Debug: No valid year found in matches for Coming Up For Air by Orwell, George: ['19', '19', '19', '19', '19', '19', '19', '19', '19', '19', '19', '19', '20', '19', '19', '19', '19', '20', '20', '19', '19', '19']\n",
      "Debug: Text extracted for Remembering Orwell by Wadhams, Stephen:\n",
      "Remembering Orwell Wadhams, Stephen published in what year - Google Search×Please click here if you are not redirected within a few seconds.    AllImagesNewsBooks Maps Videos Shopping Search tools    Any timeAny timePast hourPast 24 hoursPast weekPast monthPast yearAll resultsAll resultsVerbatimRemembering Orwell / Originally published1984Remembering OrwellBook4.4/5 · AbeBooks\n",
      "Originally published: 1984People also askWhat year was 1984 published?How was 1984 received when it was published in 194\n",
      "Debug: No valid year found in matches for Remembering Orwell by Wadhams, Stephen: ['19', '19', '19', '19', '19', '19', '19', '19', '19', '19', '19', '19']\n",
      "Debug: Text extracted for George Orwell: In Front of Your Nose: 1945-1950 by Orwell, Sonia and Ian Angus:\n",
      "George Orwell: In Front of Your Nose: 1945-1950 Orwell, Sonia and Ian Angus published in what year - Google Search×Please click here if you are not redirected within a few seconds.    AllImagesBooksShopping Maps Videos News Search tools    Any timeAny timePast hourPast 24 hoursPast weekPast monthPast yearAll resultsAll resultsVerbatimIn Front of Your Nose, 1945-1950 (Collected Essays, Journalism ...www.amazon.com › 1945-1950-Collected-Essays-Journalism-LettersRating  4.8  (15)   · $35.00  · 30-d\n",
      "Debug: No valid year found in matches for George Orwell: In Front of Your Nose: 1945-1950 by Orwell, Sonia and Ian Angus: ['19', '19', '19', '19', '19', '19', '19', '19', '19', '19', '19', '19', '19', '19', '19', '19', '19', '19', '19', '19', '19', '19', '19', '19', '19', '19', '19', '19', '19', '19', '19', '19', '19', '19', '19', '19', '19', '19', '19', '19', '19', '19', '19']\n",
      "Debug: Text extracted for As I Please: 1943-1945 by Orwell, Sonia and Ian Angus:\n",
      "As I Please: 1943-1945 Orwell, Sonia and Ian Angus published in what year - Google Search×Please click here if you are not redirected within a few seconds.    AllImagesBooksNews Maps Videos Shopping Search tools    Any timeAny timePast hourPast 24 hoursPast weekPast monthPast yearAll resultsAll resultsVerbatimAs I Please 1943-1945 (The Collected Essays, Journalism and ...www.amazon.com › Please-1943-1945-Collected-Journalism-LettersRating  5.0  (7) Book details ; Print length. 435 pages ; Langua\n",
      "Debug: No valid year found in matches for As I Please: 1943-1945 by Orwell, Sonia and Ian Angus: ['19', '19', '19', '19', '19', '19', '19', '19', '19', '19', '19', '19', '19', '19', '19', '20', '19', '19', '19', '19', '19', '19', '19', '19', '19', '19', '19', '19', '19', '19', '20', '19', '19', '19', '19', '19', '19', '19', '19', '19', '19', '19', '19', '19', '19']\n"
     ]
    },
    {
     "name": "stderr",
     "output_type": "stream",
     "text": [
      "\r",
      "Processing books:   6%|█▎                     | 78/1346 [00:17<03:49,  5.53it/s]"
     ]
    },
    {
     "name": "stdout",
     "output_type": "stream",
     "text": [
      "Debug: Text extracted for The Road to Wigan Pier by Orwell, George:\n",
      "The Road to Wigan Pier Orwell, George published in what year - Google Search×Please click here if you are not redirected within a few seconds.    AllImagesBooksVideos Maps News Shopping Search tools    Any timeAny timePast hourPast 24 hoursPast weekPast monthPast yearAll resultsAll resultsVerbatimThe Road to Wigan PierBook by George OrwellThe Road to Wigan Pier is a book by the English writer George Orwell, first published in 1937. The first half of this work documents his sociological investiga\n",
      "Debug: No valid year found in matches for The Road to Wigan Pier by Orwell, George: ['19', '19', '19', '20', '19', '19', '19', '20', '19', '19', '19', '20', '20', '19', '20', '19']\n",
      "Debug: Text extracted for Nineteen Eighty-Four by Orwell, George:\n",
      "Nineteen Eighty-Four Orwell, George published in what year - Google Search×Please click here if you are not redirected within a few seconds.    AllShoppingImagesBooks Maps Videos News Search tools    Any timeAny timePast hourPast 24 hoursPast weekPast monthPast yearAll resultsAll resultsVerbatimNineteen Eighty-four, novel by English author George Orwell published in 1949 as a warning against totalitarianism.Jun 3, 2024Nineteen Eighty-four | Summary, Characters, Analysis, & Factswww.britannica.co\n",
      "Debug: No valid year found in matches for Nineteen Eighty-Four by Orwell, George: ['19', '19', '19', '19', '19', '19', '19', '19', '19', '19', '19', '19', '20', '19', '19', '19', '20', '19', '19', '19', '19', '19', '19', '19', '19', '19', '19', '19', '19', '19', '19', '19', '19', '19', '19']\n",
      "Debug: Text extracted for A Clergyman's Daughter by Orwell, George:\n",
      "A Clergyman's Daughter Orwell, George published in what year - Google Search×Please click here if you are not redirected within a few seconds.    AllBooksImagesNews Maps Videos Shopping Search tools    Any timeAny timePast hourPast 24 hoursPast weekPast monthPast yearAll resultsAll resultsVerbatimprotagonist of Orwell's next novel, A Clergyman's Daughter (1935), is an unhappy spinster who achieves a brief and accidental liberation in her experiences among some agricultural laborers.5 days agoA C\n",
      "Debug: No valid year found in matches for A Clergyman's Daughter by Orwell, George: ['19', '19', '19', '19', '19', '19', '20', '19', '19', '19', '19', '20', '19', '19', '19', '19']\n",
      "Debug: Text extracted for Georege Orwell: A Life in Letters by Orwell, George:\n",
      "Georege Orwell: A Life in Letters Orwell, George published in what year - Google Search×Please click here if you are not redirected within a few seconds.    AllBooksImagesShopping Maps Videos News Search tools    Any timeAny timePast hourPast 24 hoursPast weekPast monthPast yearAll resultsAll resultsVerbatimShowing results for George Orwell: A Life in Letters Orwell, George published in what yearSearch instead for Georege Orwell: A Life in Letters Orwell, George published in what yearGeorge Orwe\n",
      "Debug: No valid year found in matches for Georege Orwell: A Life in Letters by Orwell, George: ['20', '19', '19', '19', '19', '19', '20', '20', '20', '20', '20', '20', '19', '19', '19', '19', '19', '19', '20', '20', '19', '19']\n"
     ]
    },
    {
     "name": "stderr",
     "output_type": "stream",
     "text": [
      "\r",
      "Processing books:   6%|█▎                     | 79/1346 [00:18<05:00,  4.22it/s]"
     ]
    },
    {
     "name": "stdout",
     "output_type": "stream",
     "text": [
      "Debug: Text extracted for The Lost Orwell: Being a Supplement to 'The Complete Works of George Orwell' by Orwell, George:\n",
      "The Lost Orwell: Being a Supplement to 'The Complete Works of George Orwell' Orwell, George published in what year - Google Search×Please click here if you are not redirected within a few seconds.    AllShoppingBooksImages Maps Videos News Search tools    Any timeAny timePast hourPast 24 hoursPast weekPast monthPast yearAll resultsAll resultsVerbatimThe Lost Orwell: Being a Supplement to the Complete Works of ...www.amazon.com › Lost-Orwell-Supplement-Complete-GeorgeRating  4.6  (3)  His unique \n",
      "Debug: No valid year found in matches for The Lost Orwell: Being a Supplement to 'The Complete Works of George Orwell' by Orwell, George: ['19', '19', '19', '19', '19', '20', '20', '19', '20', '20', '20', '20', '20', '20', '20', '20']\n",
      "Debug: Text extracted for The Crystal Spirit: A Study of George Orwell by Woodcock, George:\n",
      "The Crystal Spirit: A Study of George Orwell Woodcock, George published in what year - Google Search×Please click here if you are not redirected within a few seconds.    AllShoppingImagesBooks Maps Videos News Search tools    Any timeAny timePast hourPast 24 hoursPast weekPast monthPast yearAll resultsAll resultsVerbatimThe Crystal Spirit: A Study of George Orwell / Originally published1966The Crystal Spirit: A Study of George OrwellBook by George Woodcock\"The Crystal Spirit\" is a revealing look\n",
      "Debug: No valid year found in matches for The Crystal Spirit: A Study of George Orwell by Woodcock, George: ['19', '19', '19', '19', '19', '19', '19', '19', '19', '19']\n",
      "Debug: Text extracted for Remembering Orwell by Wadhams, Stephen:\n",
      "Remembering Orwell Wadhams, Stephen published in what year - Google Search×Please click here if you are not redirected within a few seconds.    AllImagesNewsBooks Maps Videos Shopping Search tools    Any timeAny timePast hourPast 24 hoursPast weekPast monthPast yearAll resultsAll resultsVerbatimRemembering Orwell / Originally published1984Remembering OrwellBook4.4/5 · AbeBooks\n",
      "4.4/5 · Goodreads\n",
      "Originally published: 1984Remembering Orwell: Wadhams, Stephen - Amazon.comwww.amazon.com › Rememberin\n",
      "Debug: No valid year found in matches for Remembering Orwell by Wadhams, Stephen: ['19', '19', '19', '19', '19', '19', '19', '19', '19', '19', '19', '19', '19']\n",
      "Debug: Text extracted for As I Please: 1943-1945 by Orwell, Sonia and Ian Angus:\n",
      "As I Please: 1943-1945 Orwell, Sonia and Ian Angus published in what year - Google Search×Please click here if you are not redirected within a few seconds.    AllImagesBooksNews Maps Videos Shopping Search tools    Any timeAny timePast hourPast 24 hoursPast weekPast monthPast yearAll resultsAll resultsVerbatimAs I Please 1943-1945 (The Collected Essays, Journalism and ...www.amazon.com › Please-1943-1945-Collected-Journalism-LettersRating  5.0  (7) Book details ; Print length. 435 pages ; Langua\n",
      "Debug: No valid year found in matches for As I Please: 1943-1945 by Orwell, Sonia and Ian Angus: ['19', '19', '19', '19', '19', '19', '19', '19', '19', '19', '19', '19', '19', '19', '19', '19', '19', '19', '19', '19', '19', '19', '19', '19', '20', '19', '19', '19', '19', '19', '19', '20', '19', '19', '19', '19', '19', '19', '19', '19', '19', '19', '19', '19', '19', '19', '19']\n",
      "Debug: Text extracted for Gardening at Dragon's Gate by Johnson, Wendy:\n",
      "Gardening at Dragon's Gate Johnson, Wendy published in what year - Google Search×Please click here if you are not redirected within a few seconds.    AllImagesNewsVideos Maps Shopping Books Search tools    Any timeAny timePast hourPast 24 hoursPast weekPast monthPast yearAll resultsAll resultsVerbatimGardening at the Dragon's Gate: At Work in the Wild and Cultivated World / Originally published2008Gardening at the Dragon's Gate: At Work in the Wild and Cultivated WorldBook by Wendy Johnson4.2/5 \n",
      "Debug: No valid year found in matches for Gardening at Dragon's Gate by Johnson, Wendy: ['19', '20', '20', '20', '20', '19']\n"
     ]
    },
    {
     "name": "stderr",
     "output_type": "stream",
     "text": [
      "\r",
      "Processing books:   6%|█▎                     | 80/1346 [00:18<04:58,  4.24it/s]"
     ]
    },
    {
     "name": "stdout",
     "output_type": "stream",
     "text": [
      "Debug: Text extracted for The Road to Wigan Pier by Orwell, George:\n",
      "The Road to Wigan Pier Orwell, George published in what year - Google Search×Please click here if you are not redirected within a few seconds.    AllImagesBooksVideos Maps News Shopping Search tools    Any timeAny timePast hourPast 24 hoursPast weekPast monthPast yearAll resultsAll resultsVerbatimThe Road to Wigan PierBook by George OrwellThe Road to Wigan Pier is a book by the English writer George Orwell, first published in 1937. The first half of this work documents his sociological investiga\n",
      "Debug: No valid year found in matches for The Road to Wigan Pier by Orwell, George: ['19', '19', '19', '20', '19', '19', '19', '20', '19', '19', '19', '20', '20', '19', '20', '19']\n",
      "Debug: Text extracted for A Clergyman's Daughter by Orwell, George:\n",
      "A Clergyman's Daughter Orwell, George published in what year - Google Search×Please click here if you are not redirected within a few seconds.    AllBooksImagesNews Maps Videos Shopping Search tools    Any timeAny timePast hourPast 24 hoursPast weekPast monthPast yearAll resultsAll resultsVerbatimprotagonist of Orwell's next novel, A Clergyman's Daughter (1935), is an unhappy spinster who achieves a brief and accidental liberation in her experiences among some agricultural laborers.5 days agoA C\n",
      "Debug: No valid year found in matches for A Clergyman's Daughter by Orwell, George: ['19', '19', '19', '19', '19', '19', '20', '19', '19', '19', '19', '20', '19', '19', '19', '19']\n",
      "Debug: Text extracted for Georege Orwell: A Life in Letters by Orwell, George:\n",
      "Georege Orwell: A Life in Letters Orwell, George published in what year - Google Search×Please click here if you are not redirected within a few seconds.    AllBooksImagesShopping Maps Videos News Search tools    Any timeAny timePast hourPast 24 hoursPast weekPast monthPast yearAll resultsAll resultsVerbatimShowing results for George Orwell: A Life in Letters Orwell, George published in what yearSearch instead for Georege Orwell: A Life in Letters Orwell, George published in what yearGeorge Orwe\n",
      "Debug: No valid year found in matches for Georege Orwell: A Life in Letters by Orwell, George: ['20', '19', '19', '19', '19', '19', '20', '20', '20', '20', '20', '19', '19', '19', '20', '19', '19', '20', '20', '19', '19', '19']\n",
      "Debug: Text extracted for The Botany of Desire by Pollan, Michael:\n",
      "The Botany of Desire Pollan, Michael published in what year - Google Search×Please click here if you are not redirected within a few seconds.    AllNewsShoppingImages Maps Videos Books Search tools    Any timeAny timePast hourPast 24 hoursPast weekPast monthPast yearAll resultsAll resultsVerbatimThe Botany of Desire: A Plant's-Eye View of the World is a 2001 nonfiction book by journalist Michael Pollan.The Botany of Desire - Wikipediaen.wikipedia.org › wiki › The_Botany_of_DesireAbout Featured S\n",
      "Debug: No valid year found in matches for The Botany of Desire by Pollan, Michael: ['20', '20', '20', '20', '20', '20', '20', '20']\n",
      "Debug: Text extracted for Joyful Militancy: Building Thriving Reistance in Toxic Times by bergman, carla and Nick Montgomery:\n",
      "Joyful Militancy: Building Thriving Reistance in Toxic Times bergman, carla and Nick Montgomery published in what year - Google Search×Please click here if you are not redirected within a few seconds.    AllNewsImagesBooks Maps Videos Shopping Search tools    Any timeAny timePast hourPast 24 hoursPast weekPast monthPast yearAll resultsAll resultsVerbatimShowing results for Joyful Militancy: Building Thriving Resistance in Toxic Times bergman, carla and Nick Montgomery published in what yearSearc\n",
      "Debug: No valid year found in matches for Joyful Militancy: Building Thriving Reistance in Toxic Times by bergman, carla and Nick Montgomery: ['20', '20', '20', '20', '20', '20']\n"
     ]
    },
    {
     "name": "stderr",
     "output_type": "stream",
     "text": [
      "\r",
      "Processing books:   6%|█▍                     | 81/1346 [00:18<05:29,  3.84it/s]"
     ]
    },
    {
     "name": "stdout",
     "output_type": "stream",
     "text": [
      "Debug: Text extracted for The Lost Orwell: Being a Supplement to 'The Complete Works of George Orwell' by Orwell, George:\n",
      "The Lost Orwell: Being a Supplement to 'The Complete Works of George Orwell' Orwell, George published in what year - Google Search×Please click here if you are not redirected within a few seconds.    AllBooksShoppingImages Maps Videos News Search tools    Any timeAny timePast hourPast 24 hoursPast weekPast monthPast yearAll resultsAll resultsVerbatimThe Lost Orwell: Being a Supplement to the Complete Works of ...www.amazon.com › Lost-Orwell-Supplement-Complete-GeorgeRating  4.6  (3)  His unique \n",
      "Debug: No valid year found in matches for The Lost Orwell: Being a Supplement to 'The Complete Works of George Orwell' by Orwell, George: ['19', '19', '19', '19', '19', '20', '20', '19', '20', '20', '20', '20', '20', '20', '20', '20']\n",
      "Debug: Text extracted for The Crystal Spirit: A Study of George Orwell by Woodcock, George:\n",
      "The Crystal Spirit: A Study of George Orwell Woodcock, George published in what year - Google Search×Please click here if you are not redirected within a few seconds.    AllShoppingImagesBooks Maps Videos News Search tools    Any timeAny timePast hourPast 24 hoursPast weekPast monthPast yearAll resultsAll resultsVerbatimThe Crystal Spirit: A Study of George Orwell / Originally published1966The Crystal Spirit: A Study of George OrwellBook by George Woodcock\"The Crystal Spirit\" is a revealing look\n",
      "Debug: No valid year found in matches for The Crystal Spirit: A Study of George Orwell by Woodcock, George: ['19', '19', '19', '19', '19', '19', '19', '19', '19', '19']\n",
      "Debug: Text extracted for Remembering Orwell by Wadhams, Stephen:\n",
      "Remembering Orwell Wadhams, Stephen published in what year - Google Search×Please click here if you are not redirected within a few seconds.    AllImagesNewsBooks Maps Videos Shopping Search tools    Any timeAny timePast hourPast 24 hoursPast weekPast monthPast yearAll resultsAll resultsVerbatimRemembering Orwell / Originally published1984Remembering OrwellBook4.4/5 · AbeBooks\n",
      "4.4/5 · Goodreads\n",
      "Originally published: 1984People also askWhat year was 1984 published?How was 1984 received when it wa\n",
      "Debug: No valid year found in matches for Remembering Orwell by Wadhams, Stephen: ['19', '19', '19', '19', '19', '19', '19', '19', '19', '19', '19', '19', '19', '19']\n"
     ]
    },
    {
     "name": "stderr",
     "output_type": "stream",
     "text": [
      "\r",
      "Processing books:   6%|█▍                     | 82/1346 [00:18<05:38,  3.73it/s]"
     ]
    },
    {
     "name": "stdout",
     "output_type": "stream",
     "text": [
      "Debug: Text extracted for The Road to Wigan Pier by Orwell, George:\n",
      "The Road to Wigan Pier Orwell, George published in what year - Google Search×Please click here if you are not redirected within a few seconds.    AllShoppingImagesBooks Maps Videos News Search tools    Any timeAny timePast hourPast 24 hoursPast weekPast monthPast yearAll resultsAll resultsVerbatimThe Road to Wigan PierBook by George Orwell3.9/5 · Goodreads\n",
      "The Road to Wigan Pier is a book by the English writer George Orwell, first published in 1937. The first half of this work documents his soci\n",
      "Debug: No valid year found in matches for The Road to Wigan Pier by Orwell, George: ['19', '19', '19', '20', '19', '19', '19', '20', '19', '19', '19', '20', '20', '19', '20', '19', '19', '19']\n",
      "Debug: Text extracted for Gardening at Dragon's Gate by Johnson, Wendy:\n",
      "Gardening at Dragon's Gate Johnson, Wendy published in what year - Google Search×Please click here if you are not redirected within a few seconds.    AllImagesNewsVideos Maps Shopping Books Search tools    Any timeAny timePast hourPast 24 hoursPast weekPast monthPast yearAll resultsAll resultsVerbatimGardening at the Dragon's Gate: At Work in the Wild and Cultivated World / Originally published2008Gardening at the Dragon's Gate: At Work in the Wild and Cultivated WorldBook by Wendy Johnson4.2/5 \n",
      "Debug: No valid year found in matches for Gardening at Dragon's Gate by Johnson, Wendy: ['19', '20', '20', '20']\n",
      "Debug: Text extracted for The Communist Manifesto by Marx, Karl and Frederich Engels:\n",
      "The Communist Manifesto Marx, Karl and Frederich Engels published in what year - Google Search×Please click here if you are not redirected within a few seconds.    AllBooksImagesShopping Maps Videos News Search tools    Any timeAny timePast hourPast 24 hoursPast weekPast monthPast yearAll resultsAll resultsVerbatimIncluding results for The Communist Manifesto Marx, Karl and Friedrich Engels published in what yearSearch only for The Communist Manifesto Marx, Karl and Frederich Engels published in\n",
      "Debug: No valid year found in matches for The Communist Manifesto by Marx, Karl and Frederich Engels: ['20', '20', '20']\n",
      "Debug: Text extracted for The Botany of Desire by Pollan, Michael:\n",
      "The Botany of Desire Pollan, Michael published in what year - Google Search×Please click here if you are not redirected within a few seconds.    AllNewsShoppingImages Maps Videos Books Search tools    Any timeAny timePast hourPast 24 hoursPast weekPast monthPast yearAll resultsAll resultsVerbatimThe Botany of Desire: A Plant's-Eye View of the World is a 2001 nonfiction book by journalist Michael Pollan.The Botany of Desire - Wikipediaen.wikipedia.org › wiki › The_Botany_of_DesireAbout Featured S\n",
      "Debug: No valid year found in matches for The Botany of Desire by Pollan, Michael: ['20', '20', '20', '20', '20', '20']\n"
     ]
    },
    {
     "name": "stderr",
     "output_type": "stream",
     "text": [
      "\r",
      "Processing books:   6%|█▍                     | 83/1346 [00:19<05:22,  3.92it/s]"
     ]
    },
    {
     "name": "stdout",
     "output_type": "stream",
     "text": [
      "Debug: Text extracted for The Lost Orwell: Being a Supplement to 'The Complete Works of George Orwell' by Orwell, George:\n",
      "The Lost Orwell: Being a Supplement to 'The Complete Works of George Orwell' Orwell, George published in what year - Google Search×Please click here if you are not redirected within a few seconds.    AllBooksShoppingImages Maps Videos News Search tools    Any timeAny timePast hourPast 24 hoursPast weekPast monthPast yearAll resultsAll resultsVerbatimThe Lost Orwell: Being a Supplement to the Complete Works of ...www.amazon.com › Lost-Orwell-Supplement-Complete-GeorgeRating  4.6  (3)   · 30-day r\n",
      "Debug: No valid year found in matches for The Lost Orwell: Being a Supplement to 'The Complete Works of George Orwell' by Orwell, George: ['19', '19', '19', '19', '19', '20', '20', '19', '20', '20', '20', '20', '20', '20', '20', '20']\n",
      "Debug: Text extracted for New Russia's Primer: The Story of the Five Year Plan by Ilin, M.:\n",
      "New Russia's Primer: The Story of the Five Year Plan Ilin, M. published in what year - Google Search×Please click here if you are not redirected within a few seconds.    AllImagesShoppingNews Maps Videos Books Search tools    Any timeAny timePast hourPast 24 hoursPast weekPast monthPast yearAll resultsAll resultsVerbatimDid you mean: New Russia's Primer: The Story of the Five Year Plan In, M. published in what yearNew Russia's Primer: The Story of the Five-Year Plan - Amazon.comwww.amazon.com › \n",
      "Debug: No valid year found in matches for New Russia's Primer: The Story of the Five Year Plan by Ilin, M.: ['19', '19', '19', '19', '19', '19', '19', '19', '19', '19', '19', '19']\n",
      "Debug: Text extracted for The Crystal Spirit: A Study of George Orwell by Woodcock, George:\n",
      "The Crystal Spirit: A Study of George Orwell Woodcock, George published in what year - Google Search×Please click here if you are not redirected within a few seconds.    AllImagesBooksShopping Maps Videos News Search tools    Any timeAny timePast hourPast 24 hoursPast weekPast monthPast yearAll resultsAll resultsVerbatimThe Crystal Spirit: A Study of George Orwell / Originally published1966The Crystal Spirit: A Study of George OrwellBook by George Woodcock\"The Crystal Spirit\" is a revealing look\n",
      "Debug: No valid year found in matches for The Crystal Spirit: A Study of George Orwell by Woodcock, George: ['19', '19', '19', '19', '19', '19', '19', '19', '19', '19']\n",
      "Debug: Text extracted for Joyful Militancy: Building Thriving Reistance in Toxic Times by bergman, carla and Nick Montgomery:\n",
      "Joyful Militancy: Building Thriving Reistance in Toxic Times bergman, carla and Nick Montgomery published in what year - Google Search×Please click here if you are not redirected within a few seconds.    AllNewsImagesBooks Maps Videos Shopping Search tools    Any timeAny timePast hourPast 24 hoursPast weekPast monthPast yearAll resultsAll resultsVerbatimShowing results for Joyful Militancy: Building Thriving Resistance in Toxic Times bergman, carla and Nick Montgomery published in what yearSearc\n",
      "Debug: No valid year found in matches for Joyful Militancy: Building Thriving Reistance in Toxic Times by bergman, carla and Nick Montgomery: ['20', '20', '20', '20', '20', '20', '20']\n"
     ]
    },
    {
     "name": "stderr",
     "output_type": "stream",
     "text": [
      "\r",
      "Processing books:   6%|█▍                     | 85/1346 [00:19<05:01,  4.18it/s]"
     ]
    },
    {
     "name": "stdout",
     "output_type": "stream",
     "text": [
      "Debug: Text extracted for Condition of the Working Class in England by Engels, Frederich:\n",
      "Condition of the Working Class in England Engels, Frederich published in what year - Google Search×Please click here if you are not redirected within a few seconds.    AllBooksImagesNews Maps Videos Shopping Search tools    Any timeAny timePast hourPast 24 hoursPast weekPast monthPast yearAll resultsAll resultsVerbatimShowing results for Condition of the Working Class in England Engels, Friedrich published in what yearSearch instead for Condition of the Working Class in England Engels, Frederich\n",
      "Debug: No valid year found in matches for Condition of the Working Class in England by Engels, Frederich: ['20', '20', '20']\n",
      "Debug: Text extracted for The Unreal and Real by Le Guin, Ursula K.:\n",
      "The Unreal and Real Le Guin, Ursula K. published in what year - Google Search×Please click here if you are not redirected within a few seconds.    AllImagesBooksShopping Maps Videos News Search tools    Any timeAny timePast hourPast 24 hoursPast weekPast monthPast yearAll resultsAll resultsVerbatimThe Unreal and the Real: The Selected Short Stories of Ursula K. Le Guin / Originally published2012The Unreal and the Real: The Selected Short Stories of Ursula K. Le GuinBook by Ursula K. Le Guin3.8/5\n",
      "Debug: No valid year found in matches for The Unreal and Real by Le Guin, Ursula K.: ['20', '19', '20', '20', '20', '20', '20', '19']\n",
      "Debug: Text extracted for A Clergyman's Daughter by Orwell, George:\n",
      "A Clergyman's Daughter Orwell, George published in what year - Google Search×Please click here if you are not redirected within a few seconds.    AllBooksImagesShopping Maps Videos News Search tools    Any timeAny timePast hourPast 24 hoursPast weekPast monthPast yearAll resultsAll resultsVerbatimprotagonist of Orwell's next novel, A Clergyman's Daughter (1935), is an unhappy spinster who achieves a brief and accidental liberation in her experiences among some agricultural laborers.5 days agoA C\n",
      "Debug: No valid year found in matches for A Clergyman's Daughter by Orwell, George: ['19', '19', '19', '19', '19', '19', '20', '19', '19', '19', '19', '20', '19', '19', '19', '19']\n"
     ]
    },
    {
     "name": "stderr",
     "output_type": "stream",
     "text": [
      "\r",
      "Processing books:   6%|█▍                     | 86/1346 [00:19<05:03,  4.15it/s]"
     ]
    },
    {
     "name": "stdout",
     "output_type": "stream",
     "text": [
      "Debug: Text extracted for The Communist Manifesto by Marx, Karl and Frederich Engels:\n",
      "The Communist Manifesto Marx, Karl and Frederich Engels published in what year - Google Search×Please click here if you are not redirected within a few seconds.    AllBooksImagesShopping Maps Videos News Search tools    Any timeAny timePast hourPast 24 hoursPast weekPast monthPast yearAll resultsAll resultsVerbatimIncluding results for The Communist Manifesto Marx, Karl and Friedrich Engels published in what yearSearch only for The Communist Manifesto Marx, Karl and Frederich Engels published in\n",
      "Debug: No valid year found in matches for The Communist Manifesto by Marx, Karl and Frederich Engels: ['20', '20', '20']\n",
      "Debug: Text extracted for New Russia's Primer: The Story of the Five Year Plan by Ilin, M.:\n",
      "New Russia's Primer: The Story of the Five Year Plan Ilin, M. published in what year - Google Search×Please click here if you are not redirected within a few seconds.    AllImagesShoppingNews Maps Videos Books Search tools    Any timeAny timePast hourPast 24 hoursPast weekPast monthPast yearAll resultsAll resultsVerbatimDid you mean: New Russia's Primer: The Story of the Five Year Plan In, M. published in what yearNew Russia's Primer: The Story of the Five-Year Plan - Amazon.comwww.amazon.com › \n",
      "Debug: No valid year found in matches for New Russia's Primer: The Story of the Five Year Plan by Ilin, M.: ['19', '19', '19', '19', '19', '19', '19', '19', '19', '20', '19', '19', '19']\n",
      "Debug: Text extracted for The Botany of Desire by Pollan, Michael:\n",
      "The Botany of Desire Pollan, Michael published in what year - Google Search×Please click here if you are not redirected within a few seconds.    AllNewsShoppingImages Maps Videos Books Search tools    Any timeAny timePast hourPast 24 hoursPast weekPast monthPast yearAll resultsAll resultsVerbatimThe Botany of Desire: A Plant's-Eye View of the World is a 2001 nonfiction book by journalist Michael Pollan.The Botany of Desire - Wikipediaen.wikipedia.org › wiki › The_Botany_of_DesireAbout Featured S\n",
      "Debug: No valid year found in matches for The Botany of Desire by Pollan, Michael: ['20', '20', '20', '20', '20', '20']\n"
     ]
    },
    {
     "name": "stderr",
     "output_type": "stream",
     "text": [
      "\r",
      "Processing books:   7%|█▌                     | 88/1346 [00:19<03:32,  5.92it/s]"
     ]
    },
    {
     "name": "stdout",
     "output_type": "stream",
     "text": [
      "Debug: Text extracted for Gardening at Dragon's Gate by Johnson, Wendy:\n",
      "Gardening at Dragon's Gate Johnson, Wendy published in what year - Google Search×Please click here if you are not redirected within a few seconds.    AllImagesNewsVideos Maps Shopping Books Search tools    Any timeAny timePast hourPast 24 hoursPast weekPast monthPast yearAll resultsAll resultsVerbatimGardening at the Dragon's Gate: At Work in the Wild and Cultivated World / Originally published2008Gardening at the Dragon's Gate: At Work in the Wild and Cultivated WorldBook by Wendy Johnson4.2/5 \n",
      "Debug: No valid year found in matches for Gardening at Dragon's Gate by Johnson, Wendy: ['19', '20', '20', '20', '19']\n",
      "Debug: Text extracted for Keep the Aspidistra Flying by Orwell, George:\n",
      "Keep the Aspidistra Flying Orwell, George published in what year - Google Search×Please click here if you are not redirected within a few seconds.    AllImagesBooksVideos Maps News Shopping Search tools    Any timeAny timePast hourPast 24 hoursPast weekPast monthPast yearAll resultsAll resultsVerbatimKeep the Aspidistra Flying, first published in 1936, is a socially critical novel by George Orwell.Keep the Aspidistra Flying - Wikipediaen.wikipedia.org › wiki › Keep_the_Aspidistra_FlyingAbout Fea\n",
      "Debug: No valid year found in matches for Keep the Aspidistra Flying by Orwell, George: ['19', '19', '19', '20', '19', '20', '19', '20', '19', '19', '19', '19', '20', '19', '19', '19', '20', '20', '19', '19', '20', '20', '19', '20', '20', '19', '19', '20', '19']\n",
      "Debug: Text extracted for Burmese Days by Orwell, George:\n",
      "Burmese Days Orwell, George published in what year - Google Search×Please click here if you are not redirected within a few seconds.    AllImagesBooksNews Maps Videos Shopping Search tools    Any timeAny timePast hourPast 24 hoursPast weekPast monthPast yearAll resultsAll resultsVerbatimPublished in the USA in 1934 and the UK in 1935, Burmese Days was George Orwell's first novel. An examination of the debasing effect of empire on occupied and occupier, the novel follows John Flory, a timber-merc\n",
      "Debug: No valid year found in matches for Burmese Days by Orwell, George: ['19', '19', '19', '19', '19', '19', '20', '19', '19', '19', '19', '19', '20', '20', '20', '20']\n",
      "Debug: Text extracted for Joyful Militancy: Building Thriving Reistance in Toxic Times by bergman, carla and Nick Montgomery:\n",
      "Joyful Militancy: Building Thriving Reistance in Toxic Times bergman, carla and Nick Montgomery published in what year - Google Search×Please click here if you are not redirected within a few seconds.    AllNewsImagesBooks Maps Videos Shopping Search tools    Any timeAny timePast hourPast 24 hoursPast weekPast monthPast yearAll resultsAll resultsVerbatimShowing results for Joyful Militancy: Building Thriving Resistance in Toxic Times bergman, carla and Nick Montgomery published in what yearSearc\n",
      "Debug: No valid year found in matches for Joyful Militancy: Building Thriving Reistance in Toxic Times by bergman, carla and Nick Montgomery: ['20', '20', '20', '20', '20', '20', '20']\n"
     ]
    },
    {
     "name": "stderr",
     "output_type": "stream",
     "text": [
      "\r",
      "Processing books:   7%|█▌                     | 89/1346 [00:20<04:26,  4.72it/s]"
     ]
    },
    {
     "name": "stdout",
     "output_type": "stream",
     "text": [
      "Debug: Text extracted for Condition of the Working Class in England by Engels, Frederich:\n",
      "Condition of the Working Class in England Engels, Frederich published in what year - Google Search×Please click here if you are not redirected within a few seconds.    AllBooksImagesNews Maps Videos Shopping Search tools    Any timeAny timePast hourPast 24 hoursPast weekPast monthPast yearAll resultsAll resultsVerbatimShowing results for Condition of the Working Class in England Engels, Friedrich published in what yearSearch instead for Condition of the Working Class in England Engels, Frederich\n",
      "Debug: No valid year found in matches for Condition of the Working Class in England by Engels, Frederich: ['20', '20', '20']\n",
      "Debug: Text extracted for The Unreal and Real by Le Guin, Ursula K.:\n",
      "The Unreal and Real Le Guin, Ursula K. published in what year - Google Search×Please click here if you are not redirected within a few seconds.    AllImagesBooksShopping Maps Videos News Search tools    Any timeAny timePast hourPast 24 hoursPast weekPast monthPast yearAll resultsAll resultsVerbatimThe Unreal and the Real: The Selected Short Stories of Ursula K. Le Guin / Originally published2012The Unreal and the Real: The Selected Short Stories of Ursula K. Le GuinBook by Ursula K. Le Guin3.8/5\n",
      "Debug: No valid year found in matches for The Unreal and Real by Le Guin, Ursula K.: ['20', '19', '20', '19', '20', '20', '20', '20', '20']\n",
      "Debug: Text extracted for The Communist Manifesto by Marx, Karl and Frederich Engels:\n",
      "The Communist Manifesto Marx, Karl and Frederich Engels published in what year - Google Search×Please click here if you are not redirected within a few seconds.    AllBooksImagesShopping Maps Videos News Search tools    Any timeAny timePast hourPast 24 hoursPast weekPast monthPast yearAll resultsAll resultsVerbatimIncluding results for The Communist Manifesto Marx, Karl and Friedrich Engels published in what yearSearch only for The Communist Manifesto Marx, Karl and Frederich Engels published in\n",
      "Debug: No valid year found in matches for The Communist Manifesto by Marx, Karl and Frederich Engels: ['20', '20', '20']\n"
     ]
    },
    {
     "name": "stderr",
     "output_type": "stream",
     "text": [
      "\r",
      "Processing books:   7%|█▌                     | 90/1346 [00:20<04:13,  4.96it/s]"
     ]
    },
    {
     "name": "stdout",
     "output_type": "stream",
     "text": [
      "Debug: Text extracted for Down and Out in Pairs and London by Orwell, George:\n",
      "Down and Out in Pairs and London Orwell, George published in what year - Google Search×Please click here if you are not redirected within a few seconds.    AllImagesBooksNews Maps Videos Shopping Search tools    Any timeAny timePast hourPast 24 hoursPast weekPast monthPast yearAll resultsAll resultsVerbatimShowing results for Down and Out in Paris and London Orwell, George published in what yearSearch instead for Down and Out in Pairs and London Orwell, George published in what yearDown and Out \n",
      "Debug: No valid year found in matches for Down and Out in Pairs and London by Orwell, George: ['19', '19', '19', '19', '19', '19', '19', '19', '19', '20', '19', '19', '19', '19']\n",
      "Debug: Text extracted for New Russia's Primer: The Story of the Five Year Plan by Ilin, M.:\n",
      "New Russia's Primer: The Story of the Five Year Plan Ilin, M. published in what year - Google Search×Please click here if you are not redirected within a few seconds.    AllImagesShoppingNews Maps Videos Books Search tools    Any timeAny timePast hourPast 24 hoursPast weekPast monthPast yearAll resultsAll resultsVerbatimDid you mean: New Russia's Primer: The Story of the Five Year Plan In, M. published in what yearNew Russia's Primer: The Story of the Five-Year Plan - Amazon.comwww.amazon.com › \n",
      "Debug: No valid year found in matches for New Russia's Primer: The Story of the Five Year Plan by Ilin, M.: ['19', '19', '19', '19', '19', '19', '19', '19', '19']\n",
      "Debug: Text extracted for Burmese Days by Orwell, George:\n",
      "Burmese Days Orwell, George published in what year - Google Search×Please click here if you are not redirected within a few seconds.    AllImagesBooksShopping Maps Videos News Search tools    Any timeAny timePast hourPast 24 hoursPast weekPast monthPast yearAll resultsAll resultsVerbatimPublished in the USA in 1934 and the UK in 1935, Burmese Days was George Orwell's first novel. An examination of the debasing effect of empire on occupied and occupier, the novel follows John Flory, a timber-merc\n",
      "Debug: No valid year found in matches for Burmese Days by Orwell, George: ['19', '19', '19', '19', '19', '19', '20', '20', '20', '20', '20', '19', '19', '19', '19', '19', '20', '19']\n",
      "Debug: Text extracted for The Little Prince by de Saint-Exupéry, Antoine:\n",
      "The Little Prince de Saint-Exupéry, Antoine published in what year - Google Search×Please click here if you are not redirected within a few seconds.    AllImagesShoppingBooks Maps Videos News Search tools    Any timeAny timePast hourPast 24 hoursPast weekPast monthPast yearAll resultsAll resultsVerbatimIt was during his time in the United States that Saint-Exupéry wrote The Little Prince, which was published there in 1943.Sep 19, 2020The Little Prince's Last Flight: The Story of Antoine de Saint\n",
      "Debug: No valid year found in matches for The Little Prince by de Saint-Exupéry, Antoine: ['19', '20', '19', '20', '20', '20', '20', '20', '19', '19', '19']\n",
      "Debug: Text extracted for Keep the Aspidistra Flying by Orwell, George:\n",
      "Keep the Aspidistra Flying Orwell, George published in what year - Google Search×Please click here if you are not redirected within a few seconds.    AllImagesBooksVideos Maps News Shopping Search tools    Any timeAny timePast hourPast 24 hoursPast weekPast monthPast yearAll resultsAll resultsVerbatimKeep the Aspidistra Flying, first published in 1936, is a socially critical novel by George Orwell.Keep the Aspidistra Flying - Wikipediaen.wikipedia.org › wiki › Keep_the_Aspidistra_FlyingAbout Fea\n",
      "Debug: No valid year found in matches for Keep the Aspidistra Flying by Orwell, George: ['19', '19', '19', '20', '19', '19', '20', '19', '19', '19', '19', '20', '19', '19', '19', '20', '20', '19', '20', '19', '19', '20', '19', '19', '20', '20', '19', '19']\n",
      "Debug: Text extracted for Orwell: The Transformation by Stansky, Peter and William Abrahams:\n",
      "Orwell: The Transformation Stansky, Peter and William Abrahams published in what year - Google Search×Please click here if you are not redirected within a few seconds.    AllImagesBooksNews Maps Videos Shopping Search tools    Any timeAny timePast hourPast 24 hoursPast weekPast monthPast yearAll resultsAll resultsVerbatimOrwell, the transformation / Originally published1979People also askWhen was George Orwell book published?What did Orwell do between 1941 and 1943?When was Animal Farm published\n",
      "Debug: No valid year found in matches for Orwell: The Transformation by Stansky, Peter and William Abrahams: ['19', '19', '19', '19', '19', '19', '19', '19', '19', '19', '19', '19', '19', '19', '19']\n",
      "Debug: Text extracted for The Unreal and Real by Le Guin, Ursula K.:\n",
      "The Unreal and Real Le Guin, Ursula K. published in what year - Google Search×Please click here if you are not redirected within a few seconds.    AllShoppingImagesBooks Maps Videos News Search tools    Any timeAny timePast hourPast 24 hoursPast weekPast monthPast yearAll resultsAll resultsVerbatimThe Unreal and the Real: The Selected Short Stories of Ursula K. Le Guin / Originally published2012The Unreal and the Real: The Selected Short Stories of Ursula K. Le GuinBook by Ursula K. Le Guin3.8/5\n",
      "Debug: No valid year found in matches for The Unreal and Real by Le Guin, Ursula K.: ['20', '19', '19', '20', '20', '20', '20']\n"
     ]
    },
    {
     "name": "stderr",
     "output_type": "stream",
     "text": [
      "Processing books:   7%|█▌                     | 92/1346 [00:20<04:34,  4.57it/s]"
     ]
    },
    {
     "name": "stdout",
     "output_type": "stream",
     "text": [
      "Debug: Text extracted for Shadows, Fire, Snow: The Life of Tina Modotti by Albers, Patricia:\n",
      "Shadows, Fire, Snow: The Life of Tina Modotti Albers, Patricia published in what year - Google Search×Please click here if you are not redirected within a few seconds.    AllImagesNewsVideos Maps Shopping Books Search tools    Any timeAny timePast hourPast 24 hoursPast weekPast monthPast yearAll resultsAll resultsVerbatimShadows, Fire, Snow: The Life of Tina Modotti / Originally published1999Shadows, Fire, Snow The Life of Tina Modottiwww.ucpress.edu › book › shadows-fire-snow£30.00Shadows, Fire\n",
      "Debug: No valid year found in matches for Shadows, Fire, Snow: The Life of Tina Modotti by Albers, Patricia: ['20', '19', '19', '20', '20', '19', '19', '19']\n",
      "Debug: Text extracted for Condition of the Working Class in England by Engels, Frederich:\n",
      "Condition of the Working Class in England Engels, Frederich published in what year - Google Search×Please click here if you are not redirected within a few seconds.    AllBooksImagesNews Maps Videos Shopping Search tools    Any timeAny timePast hourPast 24 hoursPast weekPast monthPast yearAll resultsAll resultsVerbatimShowing results for Condition of the Working Class in England Engels, Friedrich published in what yearSearch instead for Condition of the Working Class in England Engels, Frederich\n",
      "Debug: No valid year found in matches for Condition of the Working Class in England by Engels, Frederich: ['20', '20', '20']\n",
      "Debug: Text extracted for Down and Out in Pairs and London by Orwell, George:\n",
      "Down and Out in Pairs and London Orwell, George published in what year - Google Search×Please click here if you are not redirected within a few seconds.    AllShoppingImagesBooks Maps Videos News Search tools    Any timeAny timePast hourPast 24 hoursPast weekPast monthPast yearAll resultsAll resultsVerbatimShowing results for Down and Out in Paris and London Orwell, George published in what yearSearch instead for Down and Out in Pairs and London Orwell, George published in what yearDown and Out \n",
      "Debug: No valid year found in matches for Down and Out in Pairs and London by Orwell, George: ['19', '19', '19', '19', '19', '19', '19', '19', '19', '20', '19', '19', '19', '19']\n",
      "Debug: Text extracted for William Shakespeare's Sonnets by Shakespeare, William:\n",
      "William Shakespeare's Sonnets Shakespeare, William published in what year - Google Search×Please click here if you are not redirected within a few seconds.    AllImagesBooksNews Maps Videos Shopping Search tools    Any timeAny timePast hourPast 24 hoursPast weekPast monthPast yearAll resultsAll resultsVerbatimShakespeare's Sonnets / Originally published1609Shakespeare's SonnetsPoem by William ShakespeareWilliam Shakespeare wrote sonnets on a variety of themes. When discussing or referring to Sha\n",
      "Debug: No valid year found in matches for William Shakespeare's Sonnets by Shakespeare, William: ['20', '20', '20']\n"
     ]
    },
    {
     "name": "stderr",
     "output_type": "stream",
     "text": [
      "\r",
      "Processing books:   7%|█▌                     | 93/1346 [00:21<04:52,  4.29it/s]"
     ]
    },
    {
     "name": "stdout",
     "output_type": "stream",
     "text": [
      "Debug: Text extracted for Burmese Days by Orwell, George:\n",
      "Burmese Days Orwell, George published in what year - Google Search×Please click here if you are not redirected within a few seconds.    AllImagesBooksShopping Maps Videos News Search tools    Any timeAny timePast hourPast 24 hoursPast weekPast monthPast yearAll resultsAll resultsVerbatimPublished in the USA in 1934 and the UK in 1935, Burmese Days was George Orwell's first novel. An examination of the debasing effect of empire on occupied and occupier, the novel follows John Flory, a timber-merc\n",
      "Debug: No valid year found in matches for Burmese Days by Orwell, George: ['19', '19', '19', '19', '19', '19', '19', '20', '19', '19', '19', '19', '19', '20', '20', '20', '20']\n",
      "Debug: Text extracted for Mexican Phoenix: Our Lady of Guadalupe: Image and Tradition Across Five Centuries by Brading, D.A.:\n",
      "Mexican Phoenix: Our Lady of Guadalupe: Image and Tradition Across Five Centuries Brading, D.A. published in what year - Google Search×Please click here if you are not redirected within a few seconds.    AllImagesBooksNews Maps Videos Shopping Search tools    Any timeAny timePast hourPast 24 hoursPast weekPast monthPast yearAll resultsAll resultsVerbatimOur Lady of Guadalupe: Image and Tradition Across Five Centuriesbooks.google.com › History › Latin America › MexicoDavid Brading is Professor of\n",
      "Debug: No valid year found in matches for Mexican Phoenix: Our Lady of Guadalupe: Image and Tradition Across Five Centuries by Brading, D.A.: ['20', '20', '20', '20']\n",
      "Debug: Text extracted for Orwell: The Transformation by Stansky, Peter and William Abrahams:\n",
      "Orwell: The Transformation Stansky, Peter and William Abrahams published in what year - Google Search×Please click here if you are not redirected within a few seconds.    AllImagesBooksNews Maps Videos Shopping Search tools    Any timeAny timePast hourPast 24 hoursPast weekPast monthPast yearAll resultsAll resultsVerbatimOrwell, the transformation / Originally published1979People also askWhen was George Orwell book published?What did Orwell do between 1941 and 1943?When was Animal Farm published\n",
      "Debug: No valid year found in matches for Orwell: The Transformation by Stansky, Peter and William Abrahams: ['19', '19', '19', '19', '19', '19', '19', '19', '19', '19', '19', '19', '19', '19', '19', '19']\n",
      "Debug: Text extracted for The Little Prince by de Saint-Exupéry, Antoine:\n",
      "The Little Prince de Saint-Exupéry, Antoine published in what year - Google Search×Please click here if you are not redirected within a few seconds.    AllImagesShoppingBooks Maps Videos News Search tools    Any timeAny timePast hourPast 24 hoursPast weekPast monthPast yearAll resultsAll resultsVerbatimIt was during his time in the United States that Saint-Exupéry wrote The Little Prince, which was published there in 1943.Sep 19, 2020The Little Prince's Last Flight: The Story of Antoine de Saint\n",
      "Debug: No valid year found in matches for The Little Prince by de Saint-Exupéry, Antoine: ['19', '20', '19', '20', '20', '20', '20', '20', '19', '19', '19', '20', '19']\n"
     ]
    },
    {
     "name": "stderr",
     "output_type": "stream",
     "text": [
      "\r",
      "Processing books:   7%|█▌                     | 94/1346 [00:21<04:42,  4.43it/s]"
     ]
    },
    {
     "name": "stdout",
     "output_type": "stream",
     "text": [
      "Debug: Text extracted for Keep the Aspidistra Flying by Orwell, George:\n",
      "Keep the Aspidistra Flying Orwell, George published in what year - Google Search×Please click here if you are not redirected within a few seconds.    AllImagesBooksVideos Maps News Shopping Search tools    Any timeAny timePast hourPast 24 hoursPast weekPast monthPast yearAll resultsAll resultsVerbatimKeep the Aspidistra Flying / Originally publishedApril 20, 1936Keep the Aspidistra FlyingNovel by George Orwell3.9/5 · Goodreads\n",
      "Keep the Aspidistra Flying, first published in 1936, is a socially cr\n",
      "Debug: No valid year found in matches for Keep the Aspidistra Flying by Orwell, George: ['19', '19', '20', '19', '19', '20', '19', '19', '19', '19', '20', '19', '19', '19', '20', '20', '19', '20', '19', '19', '20', '19', '19', '20', '20', '19', '19']\n",
      "Debug: Text extracted for Anthony Blunt: His Lives by Carter, Amanda:\n",
      "Anthony Blunt: His Lives Carter, Amanda published in what year - Google Search×Please click here if you are not redirected within a few seconds.    AllBooksImagesNews Maps Videos Shopping Search tools    Any timeAny timePast hourPast 24 hoursPast weekPast monthPast yearAll resultsAll resultsVerbatimProduct informationPublisher‎Pan Books; New Ed edition (October 11, 2002)Language‎EnglishPaperback‎600 pagesISBN-10‎0330367668ISBN-13‎978-0330367660Anthony Blunt: Carter, Miranda - Amazon.comwww.amazo\n",
      "Debug: No valid year found in matches for Anthony Blunt: His Lives by Carter, Amanda: ['20', '20', '20', '20', '20', '19', '20', '20']\n"
     ]
    },
    {
     "name": "stderr",
     "output_type": "stream",
     "text": [
      "\r",
      "Processing books:   7%|█▌                     | 95/1346 [00:21<05:20,  3.90it/s]"
     ]
    },
    {
     "name": "stdout",
     "output_type": "stream",
     "text": [
      "Debug: Text extracted for Vermeer in Bosnia by Weschler, Lawrence:\n",
      "Vermeer in Bosnia Weschler, Lawrence published in what year - Google Search×Please click here if you are not redirected within a few seconds.    AllNewsImagesBooks Maps Videos Shopping Search tools    Any timeAny timePast hourPast 24 hoursPast weekPast monthPast yearAll resultsAll resultsVerbatimVermeer in Bosnia / Originally published2004Vermeer in Bosnia: Cultural Comedies and Political Tragedieswww.amazon.com › Vermeer-Bosnia-Cultural-Political-TragediesRating  4.6  (6)   · $20.45In this coll\n",
      "Debug: No valid year found in matches for Vermeer in Bosnia by Weschler, Lawrence: ['19', '20', '20', '20', '20', '20', '20', '20', '20', '20']\n",
      "Debug: Text extracted for Down and Out in Pairs and London by Orwell, George:\n",
      "Down and Out in Pairs and London Orwell, George published in what year - Google Search×Please click here if you are not redirected within a few seconds.    AllShoppingImagesBooks Maps Videos News Search tools    Any timeAny timePast hourPast 24 hoursPast weekPast monthPast yearAll resultsAll resultsVerbatimShowing results for Down and Out in Paris and London Orwell, George published in what yearSearch instead for Down and Out in Pairs and London Orwell, George published in what yearDown and Out \n",
      "Debug: No valid year found in matches for Down and Out in Pairs and London by Orwell, George: ['19', '19', '19', '19', '19', '19', '19', '19', '19', '20', '19', '19', '19', '19']\n",
      "Debug: Text extracted for Shadows, Fire, Snow: The Life of Tina Modotti by Albers, Patricia:\n",
      "Shadows, Fire, Snow: The Life of Tina Modotti Albers, Patricia published in what year - Google Search×Please click here if you are not redirected within a few seconds.    AllImagesNewsVideos Maps Shopping Books Search tools    Any timeAny timePast hourPast 24 hoursPast weekPast monthPast yearAll resultsAll resultsVerbatimShadows, Fire, Snow: The Life of Tina Modotti / Originally published1999Shadows, Fire, Snow The Life of Tina Modottiwww.ucpress.edu › book › shadows-fire-snow£30.00Shadows, Fire\n",
      "Debug: No valid year found in matches for Shadows, Fire, Snow: The Life of Tina Modotti by Albers, Patricia: ['20', '19', '19', '20', '19', '20', '20', '19', '19', '19']\n",
      "Debug: Text extracted for Orwell: The Transformation by Stansky, Peter and William Abrahams:\n",
      "Orwell: The Transformation Stansky, Peter and William Abrahams published in what year - Google Search×Please click here if you are not redirected within a few seconds.    AllImagesBooksNews Maps Videos Shopping Search tools    Any timeAny timePast hourPast 24 hoursPast weekPast monthPast yearAll resultsAll resultsVerbatimOrwell, the transformation / Originally published1979People also askWhat did Orwell do between 1941 and 1943?When was 1984 published?What year did George Orwell write?What are t\n",
      "Debug: No valid year found in matches for Orwell: The Transformation by Stansky, Peter and William Abrahams: ['19', '19', '19', '19', '19', '19', '19', '19', '19', '19', '19', '19', '19', '19', '19', '19', '19', '19']\n",
      "Debug: Text extracted for Infants of the Spring by Powell, Anthony:\n",
      "Infants of the Spring Powell, Anthony published in what year - Google Search×Please click here if you are not redirected within a few seconds.    AllImagesNewsShopping Maps Videos Books Search tools    Any timeAny timePast hourPast 24 hoursPast weekPast monthPast yearAll resultsAll resultsVerbatimInfants of the Spring: The Memoirs of Anthony Powell - Amazon.comwww.amazon.com › Infants-Spring-Memoirs-Anthony-PowellRating  3.0  (1)   · $6.98The first volume of memoirs from the author of 'A Dance T\n",
      "Debug: No valid year found in matches for Infants of the Spring by Powell, Anthony: ['19', '20', '19', '19', '19', '19', '19', '19', '19', '19', '19', '19', '19', '19']\n"
     ]
    },
    {
     "name": "stderr",
     "output_type": "stream",
     "text": [
      "\r",
      "Processing books:   7%|█▋                     | 97/1346 [00:22<04:18,  4.83it/s]"
     ]
    },
    {
     "name": "stdout",
     "output_type": "stream",
     "text": [
      "Debug: Text extracted for William Shakespeare's Sonnets by Shakespeare, William:\n",
      "William Shakespeare's Sonnets Shakespeare, William published in what year - Google Search×Please click here if you are not redirected within a few seconds.    AllImagesBooksNews Maps Videos Shopping Search tools    Any timeAny timePast hourPast 24 hoursPast weekPast monthPast yearAll resultsAll resultsVerbatimShakespeare's collection of 154 poems in the English sonnet form was first published in 1609. This late date is surprising for several reasons. Eleven years earlier, in 1598, Francis Meres \n",
      "Debug: No valid year found in matches for William Shakespeare's Sonnets by Shakespeare, William: ['20', '20', '20', '20', '20']\n",
      "Debug: Text extracted for Mexican Phoenix: Our Lady of Guadalupe: Image and Tradition Across Five Centuries by Brading, D.A.:\n",
      "Mexican Phoenix: Our Lady of Guadalupe: Image and Tradition Across Five Centuries Brading, D.A. published in what year - Google Search×Please click here if you are not redirected within a few seconds.    AllImagesShoppingBooks Maps Videos News Search tools    Any timeAny timePast hourPast 24 hoursPast weekPast monthPast yearAll resultsAll resultsVerbatimOur Lady of Guadalupe: Image and Tradition Across Five Centuriesbooks.google.com › History › Latin America › MexicoDavid Brading is Professor of\n",
      "Debug: No valid year found in matches for Mexican Phoenix: Our Lady of Guadalupe: Image and Tradition Across Five Centuries by Brading, D.A.: ['20', '20', '20']\n",
      "Debug: Text extracted for Homage to Catalonia by Orwell, George:\n",
      "Homage to Catalonia Orwell, George published in what year - Google Search×Please click here if you are not redirected within a few seconds.    AllBooksImagesNews Maps Videos Shopping Search tools    Any timeAny timePast hourPast 24 hoursPast weekPast monthPast yearAll resultsAll resultsVerbatimHomage to Catalonia, autobiographical account by George Orwell of his experience as a volunteer for the Republicans in the Spanish Civil War, published in 1938.Jun 3, 2024Homage to Catalonia | Spanish Civi\n",
      "Debug: No valid year found in matches for Homage to Catalonia by Orwell, George: ['19', '19', '19', '19', '20', '19', '19', '19', '19', '19', '19', '19', '19', '19', '20', '20', '19', '19']\n",
      "Debug: Text extracted for The Little Prince by de Saint-Exupéry, Antoine:\n",
      "The Little Prince de Saint-Exupéry, Antoine published in what year - Google Search×Please click here if you are not redirected within a few seconds.    AllImagesBooksVideos Maps News Shopping Search tools    Any timeAny timePast hourPast 24 hoursPast weekPast monthPast yearAll resultsAll resultsVerbatimThe Little Prince / Originally publishedApril 6, 1943The Little PrinceNovella by Antoine de Saint-ExupéryThe Little Prince is a novella written and illustrated by French writer and military pilot \n",
      "Debug: No valid year found in matches for The Little Prince by de Saint-Exupéry, Antoine: ['19', '20', '19', '20', '20', '20', '20', '20', '19', '19', '19']\n",
      "Debug: Text extracted for Anthony Blunt: His Lives by Carter, Amanda:\n",
      "Anthony Blunt: His Lives Carter, Amanda published in what year - Google Search×Please click here if you are not redirected within a few seconds.    AllBooksImagesNews Maps Videos Shopping Search tools    Any timeAny timePast hourPast 24 hoursPast weekPast monthPast yearAll resultsAll resultsVerbatimProduct informationPublisher‎Pan Books; New Ed edition (October 11, 2002)Language‎EnglishPaperback‎600 pagesISBN-10‎0330367668ISBN-13‎978-0330367660Anthony Blunt: Carter, Miranda - Amazon.comwww.amazo\n",
      "Debug: No valid year found in matches for Anthony Blunt: His Lives by Carter, Amanda: ['20', '20', '20', '20', '20', '19', '20', '20']\n",
      "Debug: Text extracted for Vermeer in Bosnia by Weschler, Lawrence:\n",
      "Vermeer in Bosnia Weschler, Lawrence published in what year - Google Search×Please click here if you are not redirected within a few seconds.    AllNewsImagesBooks Maps Videos Shopping Search tools    Any timeAny timePast hourPast 24 hoursPast weekPast monthPast yearAll resultsAll resultsVerbatimVermeer in Bosnia / Originally published2004Vermeer in Bosnia: Cultural Comedies and Political Tragedieswww.amazon.com › Vermeer-Bosnia-Cultural-Political-TragediesRating  4.6  (6)   · $20.45In this coll\n",
      "Debug: No valid year found in matches for Vermeer in Bosnia by Weschler, Lawrence: ['19', '20', '20', '20', '20', '20', '20', '20', '20', '20']\n"
     ]
    },
    {
     "name": "stderr",
     "output_type": "stream",
     "text": [
      "Processing books:   7%|█▋                    | 100/1346 [00:22<04:06,  5.06it/s]"
     ]
    },
    {
     "name": "stdout",
     "output_type": "stream",
     "text": [
      "Debug: Text extracted for Infants of the Spring by Powell, Anthony:\n",
      "Infants of the Spring Powell, Anthony published in what year - Google Search×Please click here if you are not redirected within a few seconds.    AllImagesNewsShopping Maps Videos Books Search tools    Any timeAny timePast hourPast 24 hoursPast weekPast monthPast yearAll resultsAll resultsVerbatimInfants of the Spring: The Memoirs of Anthony Powell - Amazon.comwww.amazon.com › Infants-Spring-Memoirs-Anthony-PowellRating  3.0  (1)   · $6.98The first volume of memoirs from the author of 'A Dance T\n",
      "Debug: No valid year found in matches for Infants of the Spring by Powell, Anthony: ['19', '19', '19', '20', '19', '19', '19', '19', '19', '19', '19', '19', '19', '19']\n",
      "Debug: Text extracted for The God That Failed by Crossman, Richard:\n",
      "The God That Failed Crossman, Richard published in what year - Google Search×Please click here if you are not redirected within a few seconds.    AllImagesBooksShopping Maps Videos News Search tools    Any timeAny timePast hourPast 24 hoursPast weekPast monthPast yearAll resultsAll resultsVerbatimGod that failed / Originally published1949God that failedBook by Richard Crossman4/5 · Goodreads\n",
      "Introduction: R. Crossman.--pt. I. The initiates: Arthur Koestler, Ignazio Silone, Richard Wright.--pt. I\n",
      "Debug: No valid year found in matches for The God That Failed by Crossman, Richard: ['19', '19', '19', '19', '20', '19', '19', '19']\n",
      "Debug: Text extracted for Mexican Phoenix: Our Lady of Guadalupe: Image and Tradition Across Five Centuries by Brading, D.A.:\n",
      "Mexican Phoenix: Our Lady of Guadalupe: Image and Tradition Across Five Centuries Brading, D.A. published in what year - Google Search×Please click here if you are not redirected within a few seconds.    AllImagesBooksNews Maps Videos Shopping Search tools    Any timeAny timePast hourPast 24 hoursPast weekPast monthPast yearAll resultsAll resultsVerbatimOur Lady of Guadalupe: Image and Tradition Across Five Centuriesbooks.google.com › History › Latin America › MexicoDavid Brading is Professor of\n",
      "Debug: No valid year found in matches for Mexican Phoenix: Our Lady of Guadalupe: Image and Tradition Across Five Centuries by Brading, D.A.: ['20', '20', '20', '20', '20']\n",
      "Debug: Text extracted for Homage to Catalonia by Orwell, George:\n",
      "Homage to Catalonia Orwell, George published in what year - Google Search×Please click here if you are not redirected within a few seconds.    AllBooksImagesNews Maps Videos Shopping Search tools    Any timeAny timePast hourPast 24 hoursPast weekPast monthPast yearAll resultsAll resultsVerbatimHomage to Catalonia, autobiographical account by George Orwell of his experience as a volunteer for the Republicans in the Spanish Civil War, published in 1938.Jun 3, 2024Homage to Catalonia | Spanish Civi\n",
      "Debug: No valid year found in matches for Homage to Catalonia by Orwell, George: ['19', '19', '19', '19', '19', '19', '19', '19', '20', '19', '19', '19', '19', '19', '19', '19']\n",
      "Debug: Text extracted for Spain in Our Hearts: Americans in the Spanish Civil War: 1936-1939 by Hochschild, Adam:\n",
      "Spain in Our Hearts: Americans in the Spanish Civil War: 1936-1939 Hochschild, Adam published in what year - Google Search×Please click here if you are not redirected within a few seconds.    AllBooksImagesNews Maps Videos Shopping Search tools    Any timeAny timePast hourPast 24 hoursPast weekPast monthPast yearAll resultsAll resultsVerbatimSpain in Our Hearts: Americans in the Spanish Civil War, 1936–1939 is a non-fiction book by Adam Hochschild that was first published by Houghton Mifflin Har\n",
      "Debug: No valid year found in matches for Spain in Our Hearts: Americans in the Spanish Civil War: 1936-1939 by Hochschild, Adam: ['19', '19', '19', '19', '20', '19', '19', '19', '19', '19', '19', '19', '20', '19', '19', '19', '20', '19', '19', '19', '19', '19', '20', '19', '19', '19', '19', '19', '20', '19', '19']\n",
      "Debug: Text extracted for William Shakespeare's Sonnets by Shakespeare, William:\n",
      "William Shakespeare's Sonnets Shakespeare, William published in what year - Google Search×Please click here if you are not redirected within a few seconds.    AllImagesBooksNews Maps Videos Shopping Search tools    Any timeAny timePast hourPast 24 hoursPast weekPast monthPast yearAll resultsAll resultsVerbatimShakespeare's collection of 154 poems in the English sonnet form was first published in 1609. This late date is surprising for several reasons. Eleven years earlier, in 1598, Francis Meres \n",
      "Debug: No valid year found in matches for William Shakespeare's Sonnets by Shakespeare, William: ['20', '20', '20', '20', '20']\n",
      "Debug: Text extracted for Anthony Blunt: His Lives by Carter, Amanda:\n",
      "Anthony Blunt: His Lives Carter, Amanda published in what year - Google Search×Please click here if you are not redirected within a few seconds.    AllBooksImagesNews Maps Videos Shopping Search tools    Any timeAny timePast hourPast 24 hoursPast weekPast monthPast yearAll resultsAll resultsVerbatimProduct informationPublisher‎Pan Books; New Ed edition (October 11, 2002)Language‎EnglishPaperback‎600 pagesISBN-10‎0330367668ISBN-13‎978-0330367660Anthony Blunt: Carter, Miranda - Amazon.comwww.amazo\n",
      "Debug: No valid year found in matches for Anthony Blunt: His Lives by Carter, Amanda: ['20', '20', '20', '20', '20', '20']\n"
     ]
    },
    {
     "name": "stderr",
     "output_type": "stream",
     "text": [
      "Processing books:   8%|█▋                    | 102/1346 [00:22<03:26,  6.01it/s]"
     ]
    },
    {
     "name": "stdout",
     "output_type": "stream",
     "text": [
      "Debug: Text extracted for All the Right Enemies: The Life and Murder of Carlo Tresca by Gallagher, Dorothy:\n",
      "All the Right Enemies: The Life and Murder of Carlo Tresca Gallagher, Dorothy published in what year - Google Search×Please click here if you are not redirected within a few seconds.    AllImagesNewsBooks Maps Videos Shopping Search tools    Any timeAny timePast hourPast 24 hoursPast weekPast monthPast yearAll resultsAll resultsVerbatimAll the Right Enemies / Originally published1988All the Right EnemiesBook by Dorothy Gallagher4.1/5 · Goodreads\n",
      "All the Right Enemies: The Life and Murder of Carl\n",
      "Debug: No valid year found in matches for All the Right Enemies: The Life and Murder of Carlo Tresca by Gallagher, Dorothy: ['19', '19', '19', '19', '19', '20', '19', '19', '19', '19', '19', '20']\n",
      "Debug: Text extracted for Shadows, Fire, Snow: The Life of Tina Modotti by Albers, Patricia:\n",
      "Shadows, Fire, Snow: The Life of Tina Modotti Albers, Patricia published in what year - Google Search×Please click here if you are not redirected within a few seconds.    AllImagesNewsShopping Maps Videos Books Search tools    Any timeAny timePast hourPast 24 hoursPast weekPast monthPast yearAll resultsAll resultsVerbatimShadows, Fire, Snow: The Life of Tina Modotti / Originally published1999Shadows, Fire, Snow The Life of Tina Modottiwww.ucpress.edu › book › shadows-fire-snow£30.00Shadows, Fire\n",
      "Debug: No valid year found in matches for Shadows, Fire, Snow: The Life of Tina Modotti by Albers, Patricia: ['20', '19', '19', '20', '19', '20']\n",
      "Debug: Text extracted for Vermeer in Bosnia by Weschler, Lawrence:\n",
      "Vermeer in Bosnia Weschler, Lawrence published in what year - Google Search×Please click here if you are not redirected within a few seconds.    AllNewsImagesBooks Maps Videos Shopping Search tools    Any timeAny timePast hourPast 24 hoursPast weekPast monthPast yearAll resultsAll resultsVerbatimVermeer in Bosnia / Originally published2004Vermeer in Bosnia: Cultural Comedies and Political Tragedieswww.amazon.com › Vermeer-Bosnia-Cultural-Political-TragediesRating  4.6  (6)   · $20.45In this coll\n",
      "Debug: No valid year found in matches for Vermeer in Bosnia by Weschler, Lawrence: ['19', '20', '20', '20', '20', '20', '20', '20', '20', '20', '20']\n"
     ]
    },
    {
     "name": "stderr",
     "output_type": "stream",
     "text": [
      "\r",
      "Processing books:   8%|█▋                    | 103/1346 [00:23<03:55,  5.29it/s]"
     ]
    },
    {
     "name": "stdout",
     "output_type": "stream",
     "text": [
      "Debug: Text extracted for The God That Failed by Crossman, Richard:\n",
      "The God That Failed Crossman, Richard published in what year - Google Search×Please click here if you are not redirected within a few seconds.    AllImagesBooksShopping Maps Videos News Search tools    Any timeAny timePast hourPast 24 hoursPast weekPast monthPast yearAll resultsAll resultsVerbatimGod that failed / Originally published1949God that failedBook by Richard Crossman4/5 · Goodreads\n",
      "Introduction: R. Crossman.--pt. I. The initiates: Arthur Koestler, Ignazio Silone, Richard Wright.--pt. I\n",
      "Debug: No valid year found in matches for The God That Failed by Crossman, Richard: ['19', '19', '19', '19', '20', '19', '19', '19']\n",
      "Debug: Text extracted for Infants of the Spring by Powell, Anthony:\n",
      "Infants of the Spring Powell, Anthony published in what year - Google Search×Please click here if you are not redirected within a few seconds.    AllImagesNewsBooks Maps Videos Shopping Search tools    Any timeAny timePast hourPast 24 hoursPast weekPast monthPast yearAll resultsAll resultsVerbatimInfants of the Spring: The Memoirs of Anthony Powell - Amazon.comwww.amazon.com › Infants-Spring-Memoirs-Anthony-PowellRating  3.0  (1)   · $6.98The first volume of memoirs from the author of 'A Dance T\n",
      "Debug: No valid year found in matches for Infants of the Spring by Powell, Anthony: ['19', '20', '19', '19', '19', '19', '19', '19', '19', '19', '19', '19', '20', '19', '19']\n",
      "Debug: Text extracted for Spain in Our Hearts: Americans in the Spanish Civil War: 1936-1939 by Hochschild, Adam:\n",
      "Spain in Our Hearts: Americans in the Spanish Civil War: 1936-1939 Hochschild, Adam published in what year - Google Search×Please click here if you are not redirected within a few seconds.    AllBooksImagesNews Maps Videos Shopping Search tools    Any timeAny timePast hourPast 24 hoursPast weekPast monthPast yearAll resultsAll resultsVerbatimSpain in Our Hearts: Americans in the Spanish Civil War, 1936–1939 is a non-fiction book by Adam Hochschild that was first published by Houghton Mifflin Har\n",
      "Debug: No valid year found in matches for Spain in Our Hearts: Americans in the Spanish Civil War: 1936-1939 by Hochschild, Adam: ['19', '19', '19', '19', '20', '19', '19', '19', '19', '19', '19', '19', '19', '20', '19', '19', '20', '19', '19', '19', '19', '19', '20', '19', '19', '19', '19', '19', '20', '19', '19']\n",
      "Debug: Text extracted for Homage to Catalonia by Orwell, George:\n",
      "Homage to Catalonia Orwell, George published in what year - Google Search×Please click here if you are not redirected within a few seconds.    AllBooksImagesNews Maps Videos Shopping Search tools    Any timeAny timePast hourPast 24 hoursPast weekPast monthPast yearAll resultsAll resultsVerbatimHomage to Catalonia, autobiographical account by George Orwell of his experience as a volunteer for the Republicans in the Spanish Civil War, published in 1938.Jun 3, 2024Homage to Catalonia | Spanish Civi\n",
      "Debug: No valid year found in matches for Homage to Catalonia by Orwell, George: ['19', '19', '19', '19', '19', '19', '19', '19', '20', '19', '19', '19', '19', '19', '19', '19']\n",
      "Debug: Text extracted for All the Right Enemies: The Life and Murder of Carlo Tresca by Gallagher, Dorothy:\n",
      "All the Right Enemies: The Life and Murder of Carlo Tresca Gallagher, Dorothy published in what year - Google Search×Please click here if you are not redirected within a few seconds.    AllImagesNewsBooks Maps Videos Shopping Search tools    Any timeAny timePast hourPast 24 hoursPast weekPast monthPast yearAll resultsAll resultsVerbatimAll the Right Enemies / Originally published1988All the Right EnemiesBook by Dorothy Gallagher4.1/5 · Goodreads\n",
      "5/5 · amazon.co.jp\n",
      "All the Right Enemies: The Life\n",
      "Debug: No valid year found in matches for All the Right Enemies: The Life and Murder of Carlo Tresca by Gallagher, Dorothy: ['19', '19', '19', '19', '19', '20', '19', '19', '19', '19', '20', '19']\n",
      "Debug: Text extracted for The Spanish Civil War: Revolution and Counterrevolution by Bolloten, Burnett:\n",
      "The Spanish Civil War: Revolution and Counterrevolution Bolloten, Burnett published in what year - Google Search×Please click here if you are not redirected within a few seconds.    AllBooksImagesNews Maps Videos Shopping Search tools    Any timeAny timePast hourPast 24 hoursPast weekPast monthPast yearAll resultsAll resultsVerbatimThe Spanish Civil War / Originally published1991The Spanish Civil War: Revolution and Counterrevolutionwww.amazon.com › Spanish-Civil-War-Revolution-Counterrevolution\n",
      "Debug: No valid year found in matches for The Spanish Civil War: Revolution and Counterrevolution by Bolloten, Burnett: ['19', '19', '19', '19', '19', '19', '19', '19', '19', '19', '19', '20', '19', '19', '20', '19', '19', '19', '19', '19']\n",
      "Debug: Text extracted for The Spanish Holocuast: Inquisition and Extermination in Twentieth-Century Spain by Preston, Paul:\n",
      "The Spanish Holocuast: Inquisition and Extermination in Twentieth-Century Spain Preston, Paul published in what year - Google Search×Please click here if you are not redirected within a few seconds.    AllNewsBooksImages Maps Videos Shopping Search tools    Any timeAny timePast hourPast 24 hoursPast weekPast monthPast yearAll resultsAll resultsVerbatimShowing results for The Spanish Holocaust: Inquisition and Extermination in Twentieth-Century Spain Preston, Paul published in what yearSearch ins\n",
      "Debug: No valid year found in matches for The Spanish Holocuast: Inquisition and Extermination in Twentieth-Century Spain by Preston, Paul: ['20', '20', '19', '19', '20', '20', '19', '20']\n",
      "Debug: Text extracted for Residence on Earth by Neruda, Pablo:\n",
      "Residence on Earth Neruda, Pablo published in what year - Google Search×Please click here if you are not redirected within a few seconds.    AllImagesNewsBooks Maps Videos Shopping Search tools    Any timeAny timePast hourPast 24 hoursPast weekPast monthPast yearAll resultsAll resultsVerbatimResidence on Earth / Originally published1933Residence on EarthBook by Pablo NerudaResidence on Earth is book of poetry by Chilean poet Pablo Neruda. Residence on Earth came out in three volumes, in 1933, 19\n",
      "Debug: No valid year found in matches for Residence on Earth by Neruda, Pablo: ['19', '19', '19', '19', '19', '19', '20', '19', '19', '19', '19', '19', '20', '20', '19', '19']\n",
      "Debug: Text extracted for Living My Life by Goldman, Emma:\n",
      "Living My Life Goldman, Emma published in what year - Google Search×Please click here if you are not redirected within a few seconds.    AllImagesBooksNews Maps Videos Shopping Search tools    Any timeAny timePast hourPast 24 hoursPast weekPast monthPast yearAll resultsAll resultsVerbatimLiving My Life is the autobiography of Lithuanian-born anarchist Emma Goldman, who became internationally renowned as an activist based in the United States. It was published in two volumes in 1931 (Alfred A. Kn\n",
      "Debug: No valid year found in matches for Living My Life by Goldman, Emma: ['19', '19', '19', '19', '19', '20', '19', '19', '19', '19', '19', '19', '19']\n"
     ]
    },
    {
     "name": "stderr",
     "output_type": "stream",
     "text": [
      "Processing books:   8%|█▋                    | 107/1346 [00:24<03:49,  5.40it/s]"
     ]
    },
    {
     "name": "stdout",
     "output_type": "stream",
     "text": [
      "Debug: Text extracted for The God That Failed by Crossman, Richard:\n",
      "The God That Failed Crossman, Richard published in what year - Google Search×Please click here if you are not redirected within a few seconds.    AllImagesBooksShopping Maps Videos News Search tools    Any timeAny timePast hourPast 24 hoursPast weekPast monthPast yearAll resultsAll resultsVerbatimGod that failed / Originally published1949God that failedBook by Richard Crossman4/5 · Goodreads\n",
      "Introduction: R. Crossman.--pt. I. The initiates: Arthur Koestler, Ignazio Silone, Richard Wright.--pt. I\n",
      "Debug: No valid year found in matches for The God That Failed by Crossman, Richard: ['19', '19', '19', '19', '20', '19', '19', '19']\n",
      "Debug: Text extracted for Spain in Our Hearts: Americans in the Spanish Civil War: 1936-1939 by Hochschild, Adam:\n",
      "Spain in Our Hearts: Americans in the Spanish Civil War: 1936-1939 Hochschild, Adam published in what year - Google Search×Please click here if you are not redirected within a few seconds.    AllBooksImagesNews Maps Videos Shopping Search tools    Any timeAny timePast hourPast 24 hoursPast weekPast monthPast yearAll resultsAll resultsVerbatimSpain in Our Hearts: Americans in the Spanish Civil War, 1936–1939 is a non-fiction book by Adam Hochschild that was first published by Houghton Mifflin Har\n",
      "Debug: No valid year found in matches for Spain in Our Hearts: Americans in the Spanish Civil War: 1936-1939 by Hochschild, Adam: ['19', '19', '19', '19', '20', '19', '19', '19', '19', '19', '19', '19', '19', '20', '19', '19', '20', '19', '19', '19', '19', '19', '20', '19', '19', '19', '19', '19', '20', '19', '19']\n",
      "Debug: Text extracted for A Thousand Plateaus: Capitalism and Schizophrenia by Deleuze, Gilles and Félix Guttari:\n",
      "A Thousand Plateaus: Capitalism and Schizophrenia Deleuze, Gilles and Félix Guttari published in what year - Google Search×Please click here if you are not redirected within a few seconds.    AllBooksImagesShopping Maps Videos News Search tools    Any timeAny timePast hourPast 24 hoursPast weekPast monthPast yearAll resultsAll resultsVerbatimShowing results for A Thousand Plateaus: Capitalism and Schizophrenia Deleuze, Gilles and Félix Guattari published in what yearSearch instead for A Thousand\n",
      "Debug: No valid year found in matches for A Thousand Plateaus: Capitalism and Schizophrenia by Deleuze, Gilles and Félix Guttari: ['19', '19', '19', '19', '20', '19', '20']\n",
      "Debug: Text extracted for All the Right Enemies: The Life and Murder of Carlo Tresca by Gallagher, Dorothy:\n",
      "All the Right Enemies: The Life and Murder of Carlo Tresca Gallagher, Dorothy published in what year - Google Search×Please click here if you are not redirected within a few seconds.    AllImagesNewsBooks Maps Videos Shopping Search tools    Any timeAny timePast hourPast 24 hoursPast weekPast monthPast yearAll resultsAll resultsVerbatimAll the Right Enemies / Originally published1988All the Right EnemiesBook by Dorothy Gallagher4.1/5 · Goodreads\n",
      "5/5 · amazon.co.jp\n",
      "All the Right Enemies: The Life\n",
      "Debug: No valid year found in matches for All the Right Enemies: The Life and Murder of Carlo Tresca by Gallagher, Dorothy: ['19', '19', '19', '19', '19', '19', '20', '19', '19', '19', '19', '20', '19']\n",
      "Debug: Text extracted for Notebooks by Victor Serge:\n",
      "Notebooks Victor Serge published in what year - Google Search×Please click here if you are not redirected within a few seconds.    AllShoppingImagesNews Maps Videos Books Search tools    Any timeAny timePast hourPast 24 hoursPast weekPast monthPast yearAll resultsAll resultsVerbatimVictor Serge's notebooks, 1936-47.Aug 4, 2020Victor Serge's notebooks, 1936-47 | Workers' Libertywww.workersliberty.org › story › victor-serges-notebooks-1936-47About Featured SnippetsNotebooks: 1936-1947 (New York Re\n",
      "Debug: No valid year found in matches for Notebooks by Victor Serge: ['19', '19', '19', '19', '19', '19', '19', '19', '20', '19', '19', '19', '19', '20', '20', '19', '19', '19', '19', '19', '19', '20', '19', '19', '20', '19', '19', '20', '19', '19', '19', '20', '19', '19', '19']\n",
      "Debug: Text extracted for The Spanish Holocuast: Inquisition and Extermination in Twentieth-Century Spain by Preston, Paul:\n",
      "The Spanish Holocuast: Inquisition and Extermination in Twentieth-Century Spain Preston, Paul published in what year - Google Search×Please click here if you are not redirected within a few seconds.    AllNewsBooksShopping Images Maps Videos Search tools    Any timeAny timePast hourPast 24 hoursPast weekPast monthPast yearAll resultsAll resultsVerbatimShowing results for The Spanish Holocaust: Inquisition and Extermination in Twentieth-Century Spain Preston, Paul published in what yearSearch ins\n",
      "Debug: No valid year found in matches for The Spanish Holocuast: Inquisition and Extermination in Twentieth-Century Spain by Preston, Paul: ['19', '19', '20', '20', '20', '20', '19', '20', '20']\n",
      "Debug: Text extracted for Pablo Neurda by Moran, Dominic:\n",
      "Pablo Neurda Moran, Dominic published in what year - Google Search×Please click here if you are not redirected within a few seconds.    AllImagesNewsBooks Maps Videos Shopping Search tools    Any timeAny timePast hourPast 24 hoursPast weekPast monthPast yearAll resultsAll resultsVerbatimShowing results for Pablo Neruda Moran, Dominic published in what yearSearch instead for Pablo Neurda Moran, Dominic published in what yearPablo Neruda (Critical Lives) / Originally published2005People also askWh\n",
      "Debug: No valid year found in matches for Pablo Neurda by Moran, Dominic: ['19', '19', '19', '19', '19', '20', '19', '20', '20', '19', '19', '19']\n",
      "Debug: Text extracted for Living My Life by Goldman, Emma:\n",
      "Living My Life Goldman, Emma published in what year - Google Search×Please click here if you are not redirected within a few seconds.    AllImagesBooksNews Maps Videos Shopping Search tools    Any timeAny timePast hourPast 24 hoursPast weekPast monthPast yearAll resultsAll resultsVerbatimLiving My Life is the autobiography of Lithuanian-born anarchist Emma Goldman, who became internationally renowned as an activist based in the United States. It was published in two volumes in 1931 (Alfred A. Kn\n",
      "Debug: No valid year found in matches for Living My Life by Goldman, Emma: ['19', '19', '19', '19', '19', '20', '19', '19', '19', '19', '19', '19']\n",
      "Debug: Text extracted for Residence on Earth by Neruda, Pablo:\n",
      "Residence on Earth Neruda, Pablo published in what year - Google Search×Please click here if you are not redirected within a few seconds.    AllImagesNewsBooks Maps Videos Shopping Search tools    Any timeAny timePast hourPast 24 hoursPast weekPast monthPast yearAll resultsAll resultsVerbatimResidence on Earth / Originally published1933Residence on EarthBook by Pablo NerudaResidence on Earth is book of poetry by Chilean poet Pablo Neruda. Residence on Earth came out in three volumes, in 1933, 19\n",
      "Debug: No valid year found in matches for Residence on Earth by Neruda, Pablo: ['19', '19', '19', '19', '19', '19', '20', '19', '19', '19', '19', '19', '20', '20', '19', '19']\n",
      "Debug: Text extracted for The Spanish Civil War: Revolution and Counterrevolution by Bolloten, Burnett:\n",
      "The Spanish Civil War: Revolution and Counterrevolution Bolloten, Burnett published in what year - Google Search×Please click here if you are not redirected within a few seconds.    AllBooksImagesNews Maps Videos Shopping Search tools    Any timeAny timePast hourPast 24 hoursPast weekPast monthPast yearAll resultsAll resultsVerbatimThe Spanish Civil War / Originally published1991The Spanish Civil WarBook by Burnett Bolloten4.2/5 · AbeBooks\n",
      "The Spanish Civil War (1939-1939) was one of the bloodieDebug: Text extracted for A Thousand Plateaus: Capitalism and Schizophrenia by Deleuze, Gilles and Félix Guttari:\n",
      "A Thousand Plateaus: Capitalism and Schizophrenia Deleuze, Gilles and Félix Guttari published in what year - Google Search×Please click here if you are not redirected within a few seconds.    AllBooksImagesShopping Maps Videos News Search tools    Any timeAny timePast hourPast 24 hoursPast weekPast monthPast yearAll resultsAll resultsVerbatimShowing results for A Thousand Plateaus: Capitalism and Schizophrenia Deleuze, Gilles and Félix Guattari published in what yearSearch instead for A Thousand\n",
      "Debug: No valid year found in matches for A Thousand Plateaus: Capitalism and Schizophrenia by Deleuze, Gilles and Félix Guttari: ['19', '19', '19', '19', '20', '19', '20', '19']\n",
      "\n",
      "Debug: No valid year found in matches for The Spanish Civil War: Revolution and Counterrevolution by Bolloten, Burnett: ['19', '19', '19', '19', '19', '19', '19', '19', '19', '20', '19', '19', '20', '19', '19', '19', '19', '19']\n",
      "Debug: Text extracted for Works by Stalin, J.V.:\n",
      "Works Stalin, J.V. published in what year - Google Search×Please click here if you are not redirected within a few seconds.    AllImagesNewsBooks Maps Videos Shopping Search tools    Any timeAny timePast hourPast 24 hoursPast weekPast monthPast yearAll resultsAll resultsVerbatimJ. V. Stalin Works Volume 1 1901-1907 - Amazon.comwww.amazon.com › J-V-Stalin-Works-1901-1907Rating  5.0  (1)   · $40.99This paperback edition of the set had been published in English by Red Star Press from London, Englan\n",
      "Debug: No valid year found in matches for Works by Stalin, J.V.: ['19', '19', '19', '19', '19', '19', '19', '19', '19', '19', '19', '19', '19', '19', '19', '19', '19', '19', '19']\n",
      "Debug: Text extracted for Where Our Food Comes From: Retracing Nikolay Vavilov's Quest to End Famine by Nabhan, Gary Paul:\n",
      "Where Our Food Comes From: Retracing Nikolay Vavilov's Quest to End Famine Nabhan, Gary Paul published in what year - Google Search×Please click here if you are not redirected within a few seconds.    AllImagesNewsBooks Maps Videos Shopping Search tools    Any timeAny timePast hourPast 24 hoursPast weekPast monthPast yearAll resultsAll resultsVerbatimProduct informationPublisher‎Island Press; 1St Edition (March 16, 2011)Dimensions‎6 x 0.87 x 9 inchesBest Sellers Rank#1,946,939 in Books (See Top \n",
      "Debug: No valid year found in matches for Where Our Food Comes From: Retracing Nikolay Vavilov's Quest to End Famine by Nabhan, Gary Paul: ['20', '20', '20', '20', '19']\n",
      "Debug: Text extracted for Notebooks by Victor Serge:\n",
      "Notebooks Victor Serge published in what year - Google Search×Please click here if you are not redirected within a few seconds.    AllShoppingImagesNews Maps Videos Books Search tools    Any timeAny timePast hourPast 24 hoursPast weekPast monthPast yearAll resultsAll resultsVerbatimVictor Serge's notebooks, 1936-47.Aug 4, 2020Victor Serge's notebooks, 1936-47 | Workers' Libertywww.workersliberty.org › story › victor-serges-notebooks-1936-47About Featured SnippetsNotebooks - New York Review Books\n",
      "Debug: No valid year found in matches for Notebooks by Victor Serge: ['19', '19', '19', '20', '19', '19', '19', '19', '19', '19', '19', '19', '19', '19', '19', '19', '19', '20', '20', '19', '19', '19', '19', '19', '19', '19', '20', '19', '19', '19', '19', '19', '20', '19', '19', '19']\n"
     ]
    },
    {
     "name": "stderr",
     "output_type": "stream",
     "text": [
      "\r",
      "Processing books:   8%|█▊                    | 108/1346 [00:24<06:47,  3.04it/s]"
     ]
    },
    {
     "name": "stdout",
     "output_type": "stream",
     "text": [
      "Debug: Text extracted for Pablo Neurda by Moran, Dominic:\n",
      "Pablo Neurda Moran, Dominic published in what year - Google Search×Please click here if you are not redirected within a few seconds.    AllImagesNewsBooks Maps Videos Shopping Search tools    Any timeAny timePast hourPast 24 hoursPast weekPast monthPast yearAll resultsAll resultsVerbatimShowing results for Pablo Neruda Moran, Dominic published in what yearSearch instead for Pablo Neurda Moran, Dominic published in what yearPablo Neruda (Critical Lives) / Originally published2005People also askWh\n",
      "Debug: No valid year found in matches for Pablo Neurda by Moran, Dominic: ['19', '19', '19', '19', '19', '20', '19', '20', '20', '19', '19', '19', '20', '20', '20']\n",
      "Debug: Text extracted for Walden and Other Writings of Heny David Thoreau by Thoreau, Henry David:\n",
      "Walden and Other Writings of Heny David Thoreau Thoreau, Henry David published in what year - Google Search×Please click here if you are not redirected within a few seconds.    AllBooksShoppingImages Maps Videos News Search tools    Any timeAny timePast hourPast 24 hoursPast weekPast monthPast yearAll resultsAll resultsVerbatimShowing results for Walden and Other Writings of Henry David Thoreau Thoreau, Henry David published in what yearSearch instead for Walden and Other Writings of Heny David \n",
      "Debug: No valid year found in matches for Walden and Other Writings of Heny David Thoreau by Thoreau, Henry David: ['19', '19', '19']\n",
      "Debug: Text extracted for The Spanish Holocuast: Inquisition and Extermination in Twentieth-Century Spain by Preston, Paul:\n",
      "The Spanish Holocuast: Inquisition and Extermination in Twentieth-Century Spain Preston, Paul published in what year - Google Search×Please click here if you are not redirected within a few seconds.    AllNewsBooksShopping Images Maps Videos Search tools    Any timeAny timePast hourPast 24 hoursPast weekPast monthPast yearAll resultsAll resultsVerbatimShowing results for The Spanish Holocaust: Inquisition and Extermination in Twentieth-Century Spain Preston, Paul published in what yearSearch ins\n",
      "Debug: No valid year found in matches for The Spanish Holocuast: Inquisition and Extermination in Twentieth-Century Spain by Preston, Paul: ['19', '19', '20', '20', '20', '19', '20', '20']\n",
      "Debug: Text extracted for Residence on Earth by Neruda, Pablo:\n",
      "Residence on Earth Neruda, Pablo published in what year - Google Search×Please click here if you are not redirected within a few seconds.    AllImagesNewsBooks Maps Videos Shopping Search tools    Any timeAny timePast hourPast 24 hoursPast weekPast monthPast yearAll resultsAll resultsVerbatimResidence on Earth / Originally published1933Residence on EarthBook by Pablo Neruda4.4/5 · Goodreads\n",
      "Residence on Earth is book of poetry by Chilean poet Pablo Neruda. Residence on Earth came out in three vo\n",
      "Debug: No valid year found in matches for Residence on Earth by Neruda, Pablo: ['19', '19', '19', '19', '19', '19', '20', '19', '19', '19', '19', '19', '19', '19', '19']\n"
     ]
    },
    {
     "name": "stderr",
     "output_type": "stream",
     "text": [
      "Processing books:   8%|█▊                    | 112/1346 [00:25<04:03,  5.06it/s]"
     ]
    },
    {
     "name": "stdout",
     "output_type": "stream",
     "text": [
      "Debug: Text extracted for Living My Life by Goldman, Emma:\n",
      "Living My Life Goldman, Emma published in what year - Google Search×Please click here if you are not redirected within a few seconds.    AllImagesBooksNews Maps Videos Shopping Search tools    Any timeAny timePast hourPast 24 hoursPast weekPast monthPast yearAll resultsAll resultsVerbatimLiving My Life is the autobiography of Lithuanian-born anarchist Emma Goldman, who became internationally renowned as an activist based in the United States. It was published in two volumes in 1931 (Alfred A. Kn\n",
      "Debug: No valid year found in matches for Living My Life by Goldman, Emma: ['19', '19', '19', '19', '19', '20', '19', '19', '19', '19', '19', '19', '19']\n",
      "Debug: Text extracted for A Thousand Plateaus: Capitalism and Schizophrenia by Deleuze, Gilles and Félix Guttari:\n",
      "A Thousand Plateaus: Capitalism and Schizophrenia Deleuze, Gilles and Félix Guttari published in what year - Google Search×Please click here if you are not redirected within a few seconds.    AllBooksImagesShopping Maps Videos News Search tools    Any timeAny timePast hourPast 24 hoursPast weekPast monthPast yearAll resultsAll resultsVerbatimShowing results for A Thousand Plateaus: Capitalism and Schizophrenia Deleuze, Gilles and Félix Guattari published in what yearSearch instead for A Thousand\n",
      "Debug: No valid year found in matches for A Thousand Plateaus: Capitalism and Schizophrenia by Deleuze, Gilles and Félix Guttari: ['19', '19', '19', '19', '20', '19', '20', '20', '19']\n",
      "Debug: Text extracted for Where Our Food Comes From: Retracing Nikolay Vavilov's Quest to End Famine by Nabhan, Gary Paul:\n",
      "Where Our Food Comes From: Retracing Nikolay Vavilov's Quest to End Famine Nabhan, Gary Paul published in what year - Google Search×Please click here if you are not redirected within a few seconds.    AllImagesNewsBooks Maps Videos Shopping Search tools    Any timeAny timePast hourPast 24 hoursPast weekPast monthPast yearAll resultsAll resultsVerbatimWhere Our Food Comes From: Retracing Nikolay Vavilov's Quest to ...www.amazon.com › Where-Our-Food-Comes-RetracingRating  4.5  (44)   · $30.00In Wh\n",
      "Debug: No valid year found in matches for Where Our Food Comes From: Retracing Nikolay Vavilov's Quest to End Famine by Nabhan, Gary Paul: ['20', '20', '20', '20']\n",
      "Debug: Text extracted for Works by Stalin, J.V.:\n",
      "Works Stalin, J.V. published in what year - Google Search×Please click here if you are not redirected within a few seconds.    AllImagesNewsBooks Maps Videos Shopping Search tools    Any timeAny timePast hourPast 24 hoursPast weekPast monthPast yearAll resultsAll resultsVerbatimJ. V. Stalin Works Volume 1 1901-1907 - Amazon.comwww.amazon.com › J-V-Stalin-Works-1901-1907Rating  5.0  (1)   · $40.99This paperback edition of the set had been published in English by Red Star Press from London, Englan\n",
      "Debug: No valid year found in matches for Works by Stalin, J.V.: ['19', '19', '19', '19', '19', '19', '19', '19', '19', '19', '19', '19', '20', '19', '19', '19', '19', '19', '19', '19']\n",
      "Debug: Text extracted for Notebooks by Victor Serge:\n",
      "Notebooks Victor Serge published in what year - Google Search×Please click here if you are not redirected within a few seconds.    AllImagesNewsShopping Maps Videos Books Search tools    Any timeAny timePast hourPast 24 hoursPast weekPast monthPast yearAll resultsAll resultsVerbatimVictor Serge's notebooks, 1936-47.Aug 4, 2020Victor Serge's notebooks, 1936-47 | Workers' Libertywww.workersliberty.org › story › victor-serges-notebooks-1936-47About Featured SnippetsNotebooks: 1936-1947 (New York Re\n",
      "Debug: No valid year found in matches for Notebooks by Victor Serge: ['19', '19', '19', '19', '19', '19', '19', '19', '20', '19', '19', '19', '19', '20', '20', '19', '19', '19', '19', '19', '19', '20', '19', '19', '20', '19', '19', '20', '19', '19', '19', '19', '19']\n"
     ]
    },
    {
     "name": "stderr",
     "output_type": "stream",
     "text": [
      "\r",
      "Processing books:   8%|█▊                    | 113/1346 [00:25<04:06,  5.01it/s]"
     ]
    },
    {
     "name": "stdout",
     "output_type": "stream",
     "text": [
      "Debug: Text extracted for Walden and Other Writings of Heny David Thoreau by Thoreau, Henry David:\n",
      "Walden and Other Writings of Heny David Thoreau Thoreau, Henry David published in what year - Google Search×Please click here if you are not redirected within a few seconds.    AllBooksShoppingImages Maps Videos News Search tools    Any timeAny timePast hourPast 24 hoursPast weekPast monthPast yearAll resultsAll resultsVerbatimShowing results for Walden and Other Writings of Henry David Thoreau Thoreau, Henry David published in what yearSearch instead for Walden and Other Writings of Heny David \n",
      "Debug: No valid year found in matches for Walden and Other Writings of Heny David Thoreau by Thoreau, Henry David: ['19', '19', '19']\n",
      "Debug: Text extracted for Pablo Neurda by Moran, Dominic:\n",
      "Pablo Neurda Moran, Dominic published in what year - Google Search×Please click here if you are not redirected within a few seconds.    AllImagesNewsBooks Maps Videos Shopping Search tools    Any timeAny timePast hourPast 24 hoursPast weekPast monthPast yearAll resultsAll resultsVerbatimShowing results for Pablo Neruda Moran, Dominic published in what yearSearch instead for Pablo Neurda Moran, Dominic published in what yearPablo Neruda (Critical Lives) / Originally published2005People also askWh\n",
      "Debug: No valid year found in matches for Pablo Neurda by Moran, Dominic: ['19', '19', '19', '19', '19', '20', '19', '20', '20', '19', '19', '19']\n",
      "Debug: Text extracted for The Spanish Civil War: Revolution and Counterrevolution by Bolloten, Burnett:\n",
      "The Spanish Civil War: Revolution and Counterrevolution Bolloten, Burnett published in what year - Google Search×Please click here if you are not redirected within a few seconds.    AllBooksImagesNews Maps Videos Shopping Search tools    Any timeAny timePast hourPast 24 hoursPast weekPast monthPast yearAll resultsAll resultsVerbatimThe Spanish Civil War / Originally published1991The Spanish Civil War: Revolution and Counterrevolutionwww.amazon.com › Spanish-Civil-War-Revolution-Counterrevolution\n",
      "Debug: No valid year found in matches for The Spanish Civil War: Revolution and Counterrevolution by Bolloten, Burnett: ['19', '19', '19', '19', '19', '19', '19', '19', '19', '19', '19', '20', '19', '19', '20', '19', '19', '19', '19', '19']\n"
     ]
    },
    {
     "name": "stderr",
     "output_type": "stream",
     "text": [
      "\r",
      "Processing books:   9%|█▉                    | 115/1346 [00:25<03:43,  5.50it/s]"
     ]
    },
    {
     "name": "stdout",
     "output_type": "stream",
     "text": [
      "Debug: Text extracted for Soviet Genetics and World Science by Julian Huxley:\n",
      "Soviet Genetics and World Science Julian Huxley published in what year - Google Search×Please click here if you are not redirected within a few seconds.    AllNewsBooksImages Maps Videos Shopping Search tools    Any timeAny timePast hourPast 24 hoursPast weekPast monthPast yearAll resultsAll resultsVerbatimSoviet Genetics and World Science. Lysenko and the Meaning of ...www.amazon.com › Genetics-Science-Lysenko-Meaning-Heredity$9.02Soviet Genetics and World Science. Lysenko and the Meaning of He\n",
      "Debug: No valid year found in matches for Soviet Genetics and World Science by Julian Huxley: ['19', '19', '19', '20', '19', '19', '19', '19', '19', '20', '20']\n",
      "Debug: Text extracted for Marxism and Darwinism by Pannekoek, Anton:\n",
      "Marxism and Darwinism Pannekoek, Anton published in what year - Google Search×Please click here if you are not redirected within a few seconds.    AllImagesBooksNews Maps Videos Shopping Search tools    Any timeAny timePast hourPast 24 hoursPast weekPast monthPast yearAll resultsAll resultsVerbatimMarxism and Darwinism / Originally published1912Marxism and DarwinismBook by Anton Pannekoek3.7/5 · Goodreads\n",
      "A materialist interpretation of the origin of species and the ascent of humankind by the so\n",
      "Debug: No valid year found in matches for Marxism and Darwinism by Pannekoek, Anton: ['19', '19', '19', '20', '19', '20', '19', '19', '19', '19', '19']\n",
      "Debug: Text extracted for Works by Stalin, J.V.:\n",
      "Works Stalin, J.V. published in what year - Google Search×Please click here if you are not redirected within a few seconds.    AllImagesNewsBooks Maps Videos Shopping Search tools    Any timeAny timePast hourPast 24 hoursPast weekPast monthPast yearAll resultsAll resultsVerbatimJ. V. Stalin Works Volume 1 1901-1907 - Amazon.comwww.amazon.com › J-V-Stalin-Works-1901-1907Rating  5.0  (1)   · $40.99This paperback edition of the set had been published in English by Red Star Press from London, Englan\n",
      "Debug: No valid year found in matches for Works by Stalin, J.V.: ['19', '19', '19', '19', '19', '19', '19', '19', '19', '19', '19', '19', '20', '19', '19', '19', '19', '19', '19', '19']\n",
      "Debug: Text extracted for Assignment in Utopia by Lyons, Eugee:\n",
      "Assignment in Utopia Lyons, Eugee published in what year - Google Search×Please click here if you are not redirected within a few seconds.    AllBooksImagesNews Maps Videos Shopping Search tools    Any timeAny timePast hourPast 24 hoursPast weekPast monthPast yearAll resultsAll resultsVerbatimShowing results for Assignment in Utopia Lyons, Eugene published in what yearSearch instead for Assignment in Utopia Lyons, Eugee published in what yearAssignment in Utopia / Originally published1937Assignm\n",
      "Debug: No valid year found in matches for Assignment in Utopia by Lyons, Eugee: ['19', '19', '19', '19', '19', '19', '19', '19', '19', '20']\n"
     ]
    },
    {
     "name": "stderr",
     "output_type": "stream",
     "text": [
      "\r",
      "Processing books:   9%|█▉                    | 116/1346 [00:26<03:36,  5.69it/s]"
     ]
    },
    {
     "name": "stdout",
     "output_type": "stream",
     "text": [
      "Debug: Text extracted for Where Our Food Comes From: Retracing Nikolay Vavilov's Quest to End Famine by Nabhan, Gary Paul:\n",
      "Where Our Food Comes From: Retracing Nikolay Vavilov's Quest to End Famine Nabhan, Gary Paul published in what year - Google Search×Please click here if you are not redirected within a few seconds.    AllImagesNewsBooks Maps Videos Shopping Search tools    Any timeAny timePast hourPast 24 hoursPast weekPast monthPast yearAll resultsAll resultsVerbatimWhere Our Food Comes From: Retracing Nikolay Vavilov's Quest to ...www.amazon.com › Where-Our-Food-Comes-RetracingRating  4.5  (44)   · $30.00In Wh\n",
      "Debug: No valid year found in matches for Where Our Food Comes From: Retracing Nikolay Vavilov's Quest to End Famine by Nabhan, Gary Paul: ['20', '20', '20', '20']\n",
      "Debug: Text extracted for The Unquiet Ghost: Russians Remember Stalin by Hochschild, Adam:\n",
      "The Unquiet Ghost: Russians Remember Stalin Hochschild, Adam published in what year - Google Search×Please click here if you are not redirected within a few seconds.    AllImagesNewsBooks Maps Videos Shopping Search tools    Any timeAny timePast hourPast 24 hoursPast weekPast monthPast yearAll resultsAll resultsVerbatimThe Unquiet Ghost / Originally published1994Amazon.com: The Unquiet Ghost: Russians Remember Stalinwww.amazon.com › Unquiet-Ghost-Russians-Remember-StalinRating  4.5  (187)   · $1\n",
      "Debug: No valid year found in matches for The Unquiet Ghost: Russians Remember Stalin by Hochschild, Adam: ['19', '19', '19', '19', '19', '19', '19', '19', '19', '19', '20', '19']\n",
      "Debug: Text extracted for The Murder of Nikolai Vavilov: The Story of Stalin's Persecution of One of the Twentieth Century's Greatest Scientists by Pringle, Peter:\n",
      "The Murder of Nikolai Vavilov: The Story of Stalin's Persecution of One of the Twentieth Century's Greatest Scientists Pringle, Peter published in what year - Google Search×Please click here if you are not redirected within a few seconds.    AllNewsBooksImages Maps Videos Shopping Search tools    Any timeAny timePast hourPast 24 hoursPast weekPast monthPast yearAll resultsAll resultsVerbatimAmazon.com: The Murder of Nikolai Vavilov: The Story of Stalin's ...www.amazon.com › Murder-Nikolai-Vavilo\n",
      "Debug: No valid year found in matches for The Murder of Nikolai Vavilov: The Story of Stalin's Persecution of One of the Twentieth Century's Greatest Scientists by Pringle, Peter: ['20', '20', '19', '20']\n"
     ]
    },
    {
     "name": "stderr",
     "output_type": "stream",
     "text": [
      "\r",
      "Processing books:   9%|█▉                    | 117/1346 [00:26<04:15,  4.81it/s]"
     ]
    },
    {
     "name": "stdout",
     "output_type": "stream",
     "text": [
      "Debug: Text extracted for Walden and Other Writings of Heny David Thoreau by Thoreau, Henry David:\n",
      "Walden and Other Writings of Heny David Thoreau Thoreau, Henry David published in what year - Google Search×Please click here if you are not redirected within a few seconds.    AllBooksShoppingImages Maps Videos News Search tools    Any timeAny timePast hourPast 24 hoursPast weekPast monthPast yearAll resultsAll resultsVerbatimShowing results for Walden and Other Writings of Henry David Thoreau Thoreau, Henry David published in what yearSearch instead for Walden and Other Writings of Heny David \n",
      "Debug: No valid year found in matches for Walden and Other Writings of Heny David Thoreau by Thoreau, Henry David: ['19', '19', '20', '19']\n",
      "Debug: Text extracted for Soviet Genetics and World Science by Julian Huxley:\n",
      "Soviet Genetics and World Science Julian Huxley published in what year - Google Search×Please click here if you are not redirected within a few seconds.    AllNewsBooksImages Maps Videos Shopping Search tools    Any timeAny timePast hourPast 24 hoursPast weekPast monthPast yearAll resultsAll resultsVerbatimSoviet Genetics and World Science. Lysenko and the Meaning of ...www.amazon.com › Genetics-Science-Lysenko-Meaning-Heredity$9.02Soviet Genetics and World Science. Lysenko and the Meaning of He\n",
      "Debug: No valid year found in matches for Soviet Genetics and World Science by Julian Huxley: ['19', '19', '19', '19', '20', '19', '19', '19', '19', '20', '20']\n",
      "Debug: Text extracted for Stalin and the Scientists by Ings, Simon:\n",
      "Stalin and the Scientists Ings, Simon published in what year - Google Search×Please click here if you are not redirected within a few seconds.    AllNewsImagesBooks Maps Videos Shopping Search tools    Any timeAny timePast hourPast 24 hoursPast weekPast monthPast yearAll resultsAll resultsVerbatimStalin and the Scientists / Originally publishedOctober 6, 2016Stalin and the ScientistsBook by Simon IngsStalin and the Scientists: A History of Triumph and Tragedy 1905–1953 is a 2016 popular science \n",
      "Debug: No valid year found in matches for Stalin and the Scientists by Ings, Simon: ['19', '19', '20', '19', '19', '20', '19', '19', '19', '19', '19', '20', '19', '19', '19', '19', '20', '19', '20', '19', '19', '19', '19']\n",
      "Debug: Text extracted for Assignment in Utopia by Lyons, Eugee:\n",
      "Assignment in Utopia Lyons, Eugee published in what year - Google Search×Please click here if you are not redirected within a few seconds.    AllBooksImagesNews Maps Videos Shopping Search tools    Any timeAny timePast hourPast 24 hoursPast weekPast monthPast yearAll resultsAll resultsVerbatimShowing results for Assignment in Utopia Lyons, Eugene published in what yearSearch instead for Assignment in Utopia Lyons, Eugee published in what yearAssignment in Utopia / Originally published1937Assignm\n",
      "Debug: No valid year found in matches for Assignment in Utopia by Lyons, Eugee: ['19', '19', '19', '19', '19', '19', '19', '19', '19', '20', '19', '19']\n",
      "Debug: Text extracted for The Unknown Stalin by Medvedev,Zhores A. and Roy Aleksandrovich:\n",
      "The Unknown Stalin Medvedev,Zhores A. and Roy Aleksandrovich published in what year - Google Search×Please click here if you are not redirected within a few seconds.    AllImagesBooksNews Maps Videos Shopping Search tools    Any timeAny timePast hourPast 24 hoursPast weekPast monthPast yearAll resultsAll resultsVerbatimThe Unknown Stalin / Originally published2001The Unknown Stalin: 9781585675029 - Amazon.comwww.amazon.com › Stalin-Roy-MedvedevRating  4.5  (11)   · In stockRoy Medvedev is the hi\n",
      "Debug: No valid year found in matches for The Unknown Stalin by Medvedev,Zhores A. and Roy Aleksandrovich: ['20', '20', '20', '19']\n",
      "Debug: Text extracted for Molotov Remembers: Inside Kremlin Politics by Molotov, V.M. and Feliz Chuev:\n",
      "Molotov Remembers: Inside Kremlin Politics Molotov, V.M. and Feliz Chuev published in what year - Google Search×Please click here if you are not redirected within a few seconds.    AllImagesBooksNews Maps Videos Shopping Search tools    Any timeAny timePast hourPast 24 hoursPast weekPast monthPast yearAll resultsAll resultsVerbatimDid you mean: Molotov Remembers: Inside Kremlin Politics Molotov, V.M. and Felix Chuev published in what yearMolotov Remembers: Inside Kremlin Politics is a 1993 book \n",
      "Debug: No valid year found in matches for Molotov Remembers: Inside Kremlin Politics by Molotov, V.M. and Feliz Chuev: ['19', '19', '19', '20', '20']\n",
      "Debug: Text extracted for Marxism and Darwinism by Pannekoek, Anton:\n",
      "Marxism and Darwinism Pannekoek, Anton published in what year - Google Search×Please click here if you are not redirected within a few seconds.    AllImagesBooksNews Maps Videos Shopping Search tools    Any timeAny timePast hourPast 24 hoursPast weekPast monthPast yearAll resultsAll resultsVerbatimMarxism and Darwinism / Originally published1912Marxism and DarwinismBook by Anton Pannekoek3.7/5 · Goodreads\n",
      "A materialist interpretation of the origin of species and the ascent of humankind by the so\n",
      "Debug: No valid year found in matches for Marxism and Darwinism by Pannekoek, Anton: ['19', '19', '19', '20', '19', '20', '19', '19', '19', '19']\n",
      "Debug: Text extracted for The Murder of Nikolai Vavilov: The Story of Stalin's Persecution of One of the Twentieth Century's Greatest Scientists by Pringle, Peter:\n",
      "The Murder of Nikolai Vavilov: The Story of Stalin's Persecution of One of the Twentieth Century's Greatest Scientists Pringle, Peter published in what year - Google Search×Please click here if you are not redirected within a few seconds.    AllNewsBooksImages Maps Videos Shopping Search tools    Any timeAny timePast hourPast 24 hoursPast weekPast monthPast yearAll resultsAll resultsVerbatimThe Murder of Nikolai Vavilov: The Story of Stalin's Persecution of ...www.amazon.com › Murder-Nikolai-Vav\n",
      "Debug: No valid year found in matches for The Murder of Nikolai Vavilov: The Story of Stalin's Persecution of One of the Twentieth Century's Greatest Scientists by Pringle, Peter: ['19', '20', '20']\n",
      "Debug: Text extracted for Twenty Letters to a Friend by Alliluyeva, Svetlana:\n",
      "Twenty Letters to a Friend Alliluyeva, Svetlana published in what year - Google Search×Please click here if you are not redirected within a few seconds.    AllImagesBooksNews Maps Videos Shopping Search tools    Any timeAny timePast hourPast 24 hoursPast weekPast monthPast yearAll resultsAll resultsVerbatimTwenty Letters to a Friend / Originally published1967Twenty Letters to a FriendBook by Svetlana Alliluyeva3.8/5 · Goodreads\n",
      "3.8/5 · AbeBooks\n",
      "“Fascinating from the first page to the last . . . \n",
      "Debug: No valid year found in matches for Twenty Letters to a Friend by Alliluyeva, Svetlana: ['19', '19', '19', '20', '19', '19', '19', '19', '19', '19', '19', '19']\n"
     ]
    },
    {
     "name": "stderr",
     "output_type": "stream",
     "text": [
      "Processing books:   9%|█▉                    | 119/1346 [00:27<05:43,  3.58it/s]"
     ]
    },
    {
     "name": "stdout",
     "output_type": "stream",
     "text": [
      "Debug: Text extracted for Soviet Genetics and World Science by Julian Huxley:\n",
      "Soviet Genetics and World Science Julian Huxley published in what year - Google Search×Please click here if you are not redirected within a few seconds.    AllNewsBooksImages Maps Videos Shopping Search tools    Any timeAny timePast hourPast 24 hoursPast weekPast monthPast yearAll resultsAll resultsVerbatimSoviet Genetics and World Science. Lysenko and the Meaning of ...www.amazon.com › Genetics-Science-Lysenko-Meaning-Heredity$9.02Soviet Genetics and World Science. Lysenko and the Meaning of HeDebug: Text extracted for The Unquiet Ghost: Russians Remember Stalin by Hochschild, Adam:\n",
      "The Unquiet Ghost: Russians Remember Stalin Hochschild, Adam published in what year - Google Search×Please click here if you are not redirected within a few seconds.    AllImagesNewsBooks Maps Videos Shopping Search tools    Any timeAny timePast hourPast 24 hoursPast weekPast monthPast yearAll resultsAll resultsVerbatimThe Unquiet Ghost / Originally published1994The Unquiet GhostBook by Adam Hochschild4.2/5 · Goodreads\n",
      "4.2/5 · AbeBooks\n",
      "Examines the harsh reality of people living with the legacy \n",
      "Debug: No valid year found in matches for The Unquiet Ghost: Russians Remember Stalin by Hochschild, Adam: ['19', '19', '19', '19', '19', '19', '19', '19', '19', '20', '19']\n",
      "\n",
      "Debug: No valid year found in matches for Soviet Genetics and World Science by Julian Huxley: ['19', '19', '19', '20', '19', '19', '19', '19', '20', '20', '19']\n",
      "Debug: Text extracted for The Annotated Alice in Wonderland by Carroll, Lewis:\n",
      "The Annotated Alice in Wonderland Carroll, Lewis published in what year - Google Search×Please click here if you are not redirected within a few seconds.    AllImagesBooksShopping Maps Videos News Search tools    Any timeAny timePast hourPast 24 hoursPast weekPast monthPast yearAll resultsAll resultsVerbatimThe original book was first published in 1960. It has been reprinted several times and translated into French, Italian, Japanese, Portuguese, Russian, Spanish, German and Hebrew. In 1990, a s\n",
      "Debug: No valid year found in matches for The Annotated Alice in Wonderland by Carroll, Lewis: ['19', '19', '19', '19', '20', '19', '19', '19', '20', '19', '19', '19']\n",
      "Debug: Text extracted for Molotov Remembers: Inside Kremlin Politics by Molotov, V.M. and Feliz Chuev:\n",
      "Molotov Remembers: Inside Kremlin Politics Molotov, V.M. and Feliz Chuev published in what year - Google Search×Please click here if you are not redirected within a few seconds.    AllImagesBooksNews Maps Videos Shopping Search tools    Any timeAny timePast hourPast 24 hoursPast weekPast monthPast yearAll resultsAll resultsVerbatimDid you mean: Molotov Remembers: Inside Kremlin Politics Molotov, V.M. and Felix Chuev published in what yearMolotov Remembers: Inside Kremlin Politics is a 1993 book \n",
      "Debug: No valid year found in matches for Molotov Remembers: Inside Kremlin Politics by Molotov, V.M. and Feliz Chuev: ['19', '20', '20', '20', '19']\n",
      "Debug: Text extracted for Assignment in Utopia by Lyons, Eugee:\n",
      "Assignment in Utopia Lyons, Eugee published in what year - Google Search×Please click here if you are not redirected within a few seconds.    AllBooksImagesNews Maps Videos Shopping Search tools    Any timeAny timePast hourPast 24 hoursPast weekPast monthPast yearAll resultsAll resultsVerbatimShowing results for Assignment in Utopia Lyons, Eugene published in what yearSearch instead for Assignment in Utopia Lyons, Eugee published in what yearAssignment in Utopia / Originally published1937Assignm\n",
      "Debug: No valid year found in matches for Assignment in Utopia by Lyons, Eugee: ['19', '19', '19', '19', '19', '19', '19', '19', '19', '20', '19', '19']\n",
      "Debug: Text extracted for Stalin and the Scientists by Ings, Simon:\n",
      "Stalin and the Scientists Ings, Simon published in what year - Google Search×Please click here if you are not redirected within a few seconds.    AllNewsImagesBooks Maps Videos Shopping Search tools    Any timeAny timePast hourPast 24 hoursPast weekPast monthPast yearAll resultsAll resultsVerbatimStalin and the Scientists / Originally publishedOctober 6, 2016Stalin and the ScientistsBook by Simon Ings3.7/5 · Goodreads\n",
      "Stalin and the Scientists: A History of Triumph and Tragedy 1905–1953 is a 201\n",
      "Debug: No valid year found in matches for Stalin and the Scientists by Ings, Simon: ['19', '19', '20', '19', '19', '19', '19', '19', '20', '19', '19', '20', '19', '19', '19', '19', '20', '19', '20', '19', '19', '19', '19']\n"
     ]
    },
    {
     "name": "stderr",
     "output_type": "stream",
     "text": [
      "\r",
      "Processing books:   9%|█▉                    | 120/1346 [00:27<06:20,  3.22it/s]"
     ]
    },
    {
     "name": "stdout",
     "output_type": "stream",
     "text": [
      "Debug: Text extracted for The Unknown Stalin by Medvedev,Zhores A. and Roy Aleksandrovich:\n",
      "The Unknown Stalin Medvedev,Zhores A. and Roy Aleksandrovich published in what year - Google Search×Please click here if you are not redirected within a few seconds.    AllImagesBooksNews Maps Videos Shopping Search tools    Any timeAny timePast hourPast 24 hoursPast weekPast monthPast yearAll resultsAll resultsVerbatimThe Unknown Stalin / Originally published2001The Unknown Stalin: 9781585675029 - Amazon.comwww.amazon.com › Stalin-Roy-MedvedevRating  4.5  (11)   · 30-day returnsRoy Medvedev is \n",
      "Debug: No valid year found in matches for The Unknown Stalin by Medvedev,Zhores A. and Roy Aleksandrovich: ['20', '20', '20', '19']\n",
      "Debug: Text extracted for Marxism and Darwinism by Pannekoek, Anton:\n",
      "Marxism and Darwinism Pannekoek, Anton published in what year - Google Search×Please click here if you are not redirected within a few seconds.    AllImagesBooksNews Maps Videos Shopping Search tools    Any timeAny timePast hourPast 24 hoursPast weekPast monthPast yearAll resultsAll resultsVerbatimMarxism and Darwinism / Originally published1912Marxism and DarwinismBook by Anton Pannekoek3.7/5 · Goodreads\n",
      "A materialist interpretation of the origin of species and the ascent of humankind by the so\n",
      "Debug: No valid year found in matches for Marxism and Darwinism by Pannekoek, Anton: ['19', '19', '19', '20', '19', '20', '19', '19', '19', '19']\n"
     ]
    },
    {
     "name": "stderr",
     "output_type": "stream",
     "text": [
      "\r",
      "Processing books:   9%|█▉                    | 121/1346 [00:27<05:47,  3.53it/s]"
     ]
    },
    {
     "name": "stdout",
     "output_type": "stream",
     "text": [
      "Debug: Text extracted for Molotov Remembers: Inside Kremlin Politics by Molotov, V.M. and Feliz Chuev:\n",
      "Molotov Remembers: Inside Kremlin Politics Molotov, V.M. and Feliz Chuev published in what year - Google Search×Please click here if you are not redirected within a few seconds.    AllImagesBooksNews Maps Videos Shopping Search tools    Any timeAny timePast hourPast 24 hoursPast weekPast monthPast yearAll resultsAll resultsVerbatimDid you mean: Molotov Remembers: Inside Kremlin Politics Molotov, V.M. and Felix Chuev published in what yearMolotov Remembers: Inside Kremlin Politics is a 1993 book \n",
      "Debug: No valid year found in matches for Molotov Remembers: Inside Kremlin Politics by Molotov, V.M. and Feliz Chuev: ['19', '19', '19', '20', '20']\n",
      "Debug: Text extracted for The Murder of Nikolai Vavilov: The Story of Stalin's Persecution of One of the Twentieth Century's Greatest Scientists by Pringle, Peter:\n",
      "The Murder of Nikolai Vavilov: The Story of Stalin's Persecution of One of the Twentieth Century's Greatest Scientists Pringle, Peter published in what year - Google Search×Please click here if you are not redirected within a few seconds.    AllNewsBooksImages Maps Videos Shopping Search tools    Any timeAny timePast hourPast 24 hoursPast weekPast monthPast yearAll resultsAll resultsVerbatimAmazon.com: The Murder of Nikolai Vavilov: The Story of Stalin's ...www.amazon.com › Murder-Nikolai-Vavilo\n",
      "Debug: No valid year found in matches for The Murder of Nikolai Vavilov: The Story of Stalin's Persecution of One of the Twentieth Century's Greatest Scientists by Pringle, Peter: ['20', '20', '20', '19']\n",
      "Debug: Text extracted for Little Sparta by Gillanders, Robin:\n",
      "Little Sparta Gillanders, Robin published in what year - Google Search×Please click here if you are not redirected within a few seconds.    AllShoppingImagesNews Maps Videos Books Search tools    Any timeAny timePast hourPast 24 hoursPast weekPast monthPast yearAll resultsAll resultsVerbatimExhibition by Robin Gillanders - Little Spartawww.littlesparta.org.uk › exhibition-by-robin-gillandersThe exhibition presents important photographs made at Little Sparta, the garden of artist/poet Ian Hamilto\n",
      "Debug: No valid year found in matches for Little Sparta by Gillanders, Robin: ['19', '20', '20', '19', '19', '19', '19', '19', '19', '20', '19']\n",
      "Debug: Text extracted for The Unquiet Ghost: Russians Remember Stalin by Hochschild, Adam:\n",
      "The Unquiet Ghost: Russians Remember Stalin Hochschild, Adam published in what year - Google Search×Please click here if you are not redirected within a few seconds.    AllImagesNewsBooks Maps Videos Shopping Search tools    Any timeAny timePast hourPast 24 hoursPast weekPast monthPast yearAll resultsAll resultsVerbatimThe Unquiet Ghost / Originally published1994The Unquiet GhostBook by Adam Hochschild4.2/5 · Goodreads\n",
      "4.2/5 · AbeBooks\n",
      "Examines the harsh reality of people living with the legacy \n",
      "Debug: No valid year found in matches for The Unquiet Ghost: Russians Remember Stalin by Hochschild, Adam: ['19', '19', '19', '19', '19', '19', '19', '19', '19', '19', '20']\n",
      "Debug: Text extracted for Stalin and the Scientists by Ings, Simon:\n",
      "Stalin and the Scientists Ings, Simon published in what year - Google Search×Please click here if you are not redirected within a few seconds.    AllNewsImagesBooks Maps Videos Shopping Search tools    Any timeAny timePast hourPast 24 hoursPast weekPast monthPast yearAll resultsAll resultsVerbatimStalin and the Scientists / Originally publishedOctober 6, 2016Stalin and the ScientistsBook by Simon Ings3.7/5 · Goodreads\n",
      "Stalin and the Scientists: A History of Triumph and Tragedy 1905–1953 is a 201\n",
      "Debug: No valid year found in matches for Stalin and the Scientists by Ings, Simon: ['19', '19', '20', '19', '19', '19', '19', '19', '20', '19', '19', '20', '19', '19', '19', '19', '20', '19', '20', '19', '19', '19', '19', '19', '19']\n",
      "Debug: Text extracted for Twenty Letters to a Friend by Alliluyeva, Svetlana:\n",
      "Twenty Letters to a Friend Alliluyeva, Svetlana published in what year - Google Search×Please click here if you are not redirected within a few seconds.    AllImagesBooksNews Maps Videos Shopping Search tools    Any timeAny timePast hourPast 24 hoursPast weekPast monthPast yearAll resultsAll resultsVerbatimTwenty Letters to a Friend / Originally published1967Twenty Letters to a FriendBook by Svetlana Alliluyeva3.8/5 · Goodreads\n",
      "3.8/5 · AbeBooks\n",
      "“Fascinating from the first page to the last . . . \n",
      "Debug: No valid year found in matches for Twenty Letters to a Friend by Alliluyeva, Svetlana: ['19', '19', '19', '20', '19', '19', '19', '19', '19', '19', '19', '19']\n"
     ]
    },
    {
     "name": "stderr",
     "output_type": "stream",
     "text": [
      "\r",
      "Processing books:   9%|██                    | 125/1346 [00:28<02:54,  6.98it/s]"
     ]
    },
    {
     "name": "stdout",
     "output_type": "stream",
     "text": [
      "Debug: Text extracted for The Unknown Stalin by Medvedev,Zhores A. and Roy Aleksandrovich:\n",
      "The Unknown Stalin Medvedev,Zhores A. and Roy Aleksandrovich published in what year - Google Search×Please click here if you are not redirected within a few seconds.    AllImagesBooksNews Maps Videos Shopping Search tools    Any timeAny timePast hourPast 24 hoursPast weekPast monthPast yearAll resultsAll resultsVerbatimThe Unknown Stalin / Originally published2001The Unknown Stalin: 9781585675029 - Amazon.comwww.amazon.com › Stalin-Roy-MedvedevRating  4.5  (11)   · In stockRoy Medvedev is the hi\n",
      "Debug: No valid year found in matches for The Unknown Stalin by Medvedev,Zhores A. and Roy Aleksandrovich: ['20', '20', '20', '19']\n",
      "Debug: Text extracted for The Annotated Alice in Wonderland by Carroll, Lewis:\n",
      "The Annotated Alice in Wonderland Carroll, Lewis published in what year - Google Search×Please click here if you are not redirected within a few seconds.    AllShoppingImagesBooks Maps Videos News Search tools    Any timeAny timePast hourPast 24 hoursPast weekPast monthPast yearAll resultsAll resultsVerbatimThe Annotated AliceBook by Lewis Carroll7.5/10 · Dayton Metro Library | BiblioCommons\n",
      "The Annotated Alice is a 1960 book by Martin Gardner incorporating the text of Lewis Carroll's major tale\n",
      "Debug: No valid year found in matches for The Annotated Alice in Wonderland by Carroll, Lewis: ['19', '19', '19', '19', '20', '19', '19', '20', '19', '19', '19']\n",
      "Debug: Text extracted for Stop, Theif! by Linebaugh, Peter:\n",
      "Stop, Theif! Linebaugh, Peter published in what year - Google Search×Please click here if you are not redirected within a few seconds.    AllImagesShoppingBooks Maps Videos News Search tools    Any timeAny timePast hourPast 24 hoursPast weekPast monthPast yearAll resultsAll resultsVerbatimShowing results for Stop, Thief! Linebaugh, Peter published in what yearSearch instead for Stop, Theif! Linebaugh, Peter published in what yearStop, Thief! The Commons, Enclosures, and Resistance / Originally p\n",
      "Debug: No valid year found in matches for Stop, Theif! by Linebaugh, Peter: ['19', '19', '20', '20', '20', '20']\n",
      "Debug: Text extracted for Selected Poems by Clare, John:\n",
      "Selected Poems Clare, John published in what year - Google Search×Please click here if you are not redirected within a few seconds.    AllImagesNewsBooks Maps Videos Shopping Search tools    Any timeAny timePast hourPast 24 hoursPast weekPast monthPast yearAll resultsAll resultsVerbatimSelected Poems (Penguin Classics): 9780140437249: Clare, John ...www.amazon.com › Selected-Poems-Penguin-Classics-ClareRating  4.4  (25)   · $24.41  · In stockBook details ; Print length. 400 pages ; Language. Eng\n",
      "Debug: No valid year found in matches for Selected Poems by Clare, John: ['20', '20', '19', '19', '19', '19', '19', '20', '19']\n",
      "Debug: Text extracted for Landscape as Photograph by Jussim, Estelle and Elizabeth Lindquist-Cock:\n",
      "Landscape as Photograph Jussim, Estelle and Elizabeth Lindquist-Cock published in what year - Google Search×Please click here if you are not redirected within a few seconds.    AllImagesNewsBooks Maps Videos Shopping Search tools    Any timeAny timePast hourPast 24 hoursPast weekPast monthPast yearAll resultsAll resultsVerbatimLandscape As Photograph: Jussim, Estelle, Lindquist-Cock, Elizabethwww.amazon.com › Landscape-As-Photograph-Estelle-JussimRating  5.0  (1)   · $7.38Landscape As Photograph\n",
      "Debug: No valid year found in matches for Landscape as Photograph by Jussim, Estelle and Elizabeth Lindquist-Cock: ['19', '19', '19', '19', '19', '19', '19', '19']\n",
      "Debug: Text extracted for Little Sparta by Gillanders, Robin:\n",
      "Little Sparta Gillanders, Robin published in what year - Google Search×Please click here if you are not redirected within a few seconds.    AllShoppingImagesNews Maps Videos Books Search tools    Any timeAny timePast hourPast 24 hoursPast weekPast monthPast yearAll resultsAll resultsVerbatimExhibition by Robin Gillanders - Little Spartawww.littlesparta.org.uk › exhibition-by-robin-gillandersThe exhibition presents important photographs made at Little Sparta, the garden of artist/poet Ian Hamilto\n",
      "Debug: No valid year found in matches for Little Sparta by Gillanders, Robin: ['19', '20', '20', '19', '19', '19', '19', '19', '20', '19', '19', '20', '19']\n"
     ]
    },
    {
     "name": "stderr",
     "output_type": "stream",
     "text": [
      "\r",
      "Processing books:   9%|██                    | 126/1346 [00:28<04:49,  4.21it/s]"
     ]
    },
    {
     "name": "stdout",
     "output_type": "stream",
     "text": [
      "Debug: Text extracted for Twenty Letters to a Friend by Alliluyeva, Svetlana:\n",
      "Twenty Letters to a Friend Alliluyeva, Svetlana published in what year - Google Search×Please click here if you are not redirected within a few seconds.    AllImagesBooksNews Maps Videos Shopping Search tools    Any timeAny timePast hourPast 24 hoursPast weekPast monthPast yearAll resultsAll resultsVerbatimTwenty Letters to a Friend / Originally published1967Twenty Letters to a FriendBook by Svetlana Alliluyeva3.8/5 · Goodreads\n",
      "3.8/5 · AbeBooks\n",
      "“Fascinating from the first page to the last . . . \n",
      "Debug: No valid year found in matches for Twenty Letters to a Friend by Alliluyeva, Svetlana: ['19', '19', '19', '20', '19', '19', '19', '19', '19', '19', '19', '19']\n",
      "Debug: Text extracted for The Annotated Alice in Wonderland by Carroll, Lewis:\n",
      "The Annotated Alice in Wonderland Carroll, Lewis published in what year - Google Search×Please click here if you are not redirected within a few seconds.    AllImagesBooksShopping Maps Videos News Search tools    Any timeAny timePast hourPast 24 hoursPast weekPast monthPast yearAll resultsAll resultsVerbatimThe Annotated AliceBook by Lewis Carroll7.5/10 · Dayton Metro Library | BiblioCommons\n",
      "The Annotated Alice is a 1960 book by Martin Gardner incorporating the text of Lewis Carroll's major tale\n",
      "Debug: No valid year found in matches for The Annotated Alice in Wonderland by Carroll, Lewis: ['19', '19', '19', '19', '20', '19', '19', '20', '19', '19', '19']\n",
      "Debug: Text extracted for British Portraits in the Metropolitan Museum of Art by Baetjer, Katharine:\n",
      "British Portraits in the Metropolitan Museum of Art Baetjer, Katharine published in what year - Google Search×Please click here if you are not redirected within a few seconds.    AllImagesNewsShopping Maps Videos Books Search tools    Any timeAny timePast hourPast 24 hoursPast weekPast monthPast yearAll resultsAll resultsVerbatimBritish Portraits in The Metropolitan Museum of Artwww.metmuseum.org › met-publications › british-portraits-the-metropolita...\"British Portraits in The Metropolitan Muse\n",
      "Debug: No valid year found in matches for British Portraits in the Metropolitan Museum of Art by Baetjer, Katharine: ['19', '19', '19', '20', '19', '19', '19', '19', '19', '20']\n",
      "Debug: Text extracted for Landscape and Ideology: The English Rustic Tradition: 1740-1860 by Bermingham, Ann:\n",
      "Landscape and Ideology: The English Rustic Tradition: 1740-1860 Bermingham, Ann published in what year - Google Search×Please click here if you are not redirected within a few seconds.    AllShoppingBooksImages Maps Videos News Search tools    Any timeAny timePast hourPast 24 hoursPast weekPast monthPast yearAll resultsAll resultsVerbatimLandscape and ideology / Originally published1986Landscape and Ideology: The English Rustic Tradition, 1740-1860www.amazon.com › Landscape-Ideology-English-Trad\n",
      "Debug: No valid year found in matches for Landscape and Ideology: The English Rustic Tradition: 1740-1860 by Bermingham, Ann: ['19', '19', '19', '19', '19', '19']\n"
     ]
    },
    {
     "name": "stderr",
     "output_type": "stream",
     "text": [
      "\r",
      "Processing books:  10%|██                    | 128/1346 [00:29<04:52,  4.16it/s]"
     ]
    },
    {
     "name": "stdout",
     "output_type": "stream",
     "text": [
      "Debug: Text extracted for The History of Mary Prince, a West Indian Slave, Related by Herself by Prince, Mary:\n",
      "The History of Mary Prince, a West Indian Slave, Related by Herself Prince, Mary published in what year - Google Search×Please click here if you are not redirected within a few seconds.    AllBooksImagesNews Maps Videos Shopping Search tools    Any timeAny timePast hourPast 24 hoursPast weekPast monthPast yearAll resultsAll resultsVerbatimPringle edited and published Prince's History in 1831; it became so popular that three editions were printed that year. The publication was followed by a serie\n",
      "Debug: No year matches found for The History of Mary Prince, a West Indian Slave, Related by Herself by Prince, Mary\n",
      "Debug: Text extracted for British Paintings in the Metropolitan Museum of Art, 1575-1875 by Baetjer, Katharine:\n",
      "British Paintings in the Metropolitan Museum of Art, 1575-1875 Baetjer, Katharine published in what year - Google Search×Please click here if you are not redirected within a few seconds.    AllImagesShoppingNews Maps Videos Books Search tools    Any timeAny timePast hourPast 24 hoursPast weekPast monthPast yearAll resultsAll resultsVerbatimBritish Paintings in the Metropolitan Museum of Art, 1575-1875 / Originally published2009British Paintings in The Metropolitan Museum of Art, 1575–1875www.met\n",
      "Debug: No valid year found in matches for British Paintings in the Metropolitan Museum of Art, 1575-1875 by Baetjer, Katharine: ['20', '20', '20', '20', '20']\n",
      "Debug: Text extracted for Landscape as Photograph by Jussim, Estelle and Elizabeth Lindquist-Cock:\n",
      "Landscape as Photograph Jussim, Estelle and Elizabeth Lindquist-Cock published in what year - Google Search×Please click here if you are not redirected within a few seconds.    AllImagesNewsBooks Maps Videos Shopping Search tools    Any timeAny timePast hourPast 24 hoursPast weekPast monthPast yearAll resultsAll resultsVerbatimLandscape As Photograph: Jussim, Estelle, Lindquist-Cock, Elizabethwww.amazon.com › Landscape-As-Photograph-Estelle-JussimRating  5.0  (1)   · $7.38Landscape As Photograph\n",
      "Debug: No valid year found in matches for Landscape as Photograph by Jussim, Estelle and Elizabeth Lindquist-Cock: ['19', '19', '19', '19', '19', '19', '19', '19']\n",
      "Debug: Text extracted for Little Sparta by Gillanders, Robin:\n",
      "Little Sparta Gillanders, Robin published in what year - Google Search×Please click here if you are not redirected within a few seconds.    AllImagesNewsShopping Maps Videos Books Search tools    Any timeAny timePast hourPast 24 hoursPast weekPast monthPast yearAll resultsAll resultsVerbatimExhibition by Robin Gillanders - Little Spartawww.littlesparta.org.uk › exhibition-by-robin-gillandersThe exhibition presents important photographs made at Little Sparta, the garden of artist/poet Ian Hamilto\n",
      "Debug: No valid year found in matches for Little Sparta by Gillanders, Robin: ['19', '20', '20', '19', '19', '19', '19', '19', '20', '19', '19', '20', '19']\n",
      "Debug: Text extracted for Selected Poems by Clare, John:\n",
      "Selected Poems Clare, John published in what year - Google Search×Please click here if you are not redirected within a few seconds.    AllImagesNewsBooks Maps Videos Shopping Search tools    Any timeAny timePast hourPast 24 hoursPast weekPast monthPast yearAll resultsAll resultsVerbatimSelected Poems (Penguin Classics): 9780140437249: Clare, John ...www.amazon.com › Selected-Poems-Penguin-Classics-ClareRating  4.4  (25)   · $24.41  · In stockBook details ; Print length. 400 pages ; Language. Eng\n",
      "Debug: No valid year found in matches for Selected Poems by Clare, John: ['20', '20', '19', '19', '19', '19', '19', '20', '19']\n",
      "Debug: Text extracted for Stop, Theif! by Linebaugh, Peter:\n",
      "Stop, Theif! Linebaugh, Peter published in what year - Google Search×Please click here if you are not redirected within a few seconds.    AllImagesBooksNews Maps Videos Shopping Search tools    Any timeAny timePast hourPast 24 hoursPast weekPast monthPast yearAll resultsAll resultsVerbatimShowing results for Stop, Thief! Linebaugh, Peter published in what yearSearch instead for Stop, Theif! Linebaugh, Peter published in what yearStop, Thief! The Commons, Enclosures, and Resistance / Originally p\n",
      "Debug: No valid year found in matches for Stop, Theif! by Linebaugh, Peter: ['19', '19', '20', '20', '20', '20']\n",
      "Debug: Text extracted for My Garden (Book) by Kincaid, Jamaica:\n",
      "My Garden (Book) Kincaid, Jamaica published in what year - Google Search×Please click here if you are not redirected within a few seconds.    AllShoppingImagesBooks Maps Videos News Search tools    Any timeAny timePast hourPast 24 hoursPast weekPast monthPast yearAll resultsAll resultsVerbatimMy Garden Book / Originally published1991My Garden BookBook by Jamaica Kincaid3.7/5 · Goodreads\n",
      "3.8/5 · AbeBooks\n",
      "‘[Kincaid] is able to do something that is almost never done in garden writing, and do it ver\n",
      "Debug: No valid year found in matches for My Garden (Book) by Kincaid, Jamaica: ['20', '20', '20', '20', '19', '19', '19', '19', '20', '19', '20', '20', '19', '19']\n",
      "Debug: Text extracted for Landscape and Ideology: The English Rustic Tradition: 1740-1860 by Bermingham, Ann:\n",
      "Landscape and Ideology: The English Rustic Tradition: 1740-1860 Bermingham, Ann published in what year - Google Search×Please click here if you are not redirected within a few seconds.    AllBooksImagesShopping Maps Videos News Search tools    Any timeAny timePast hourPast 24 hoursPast weekPast monthPast yearAll resultsAll resultsVerbatimLandscape and ideology / Originally published1986Landscape and Ideology: The English Rustic Tradition, 1740-1860www.amazon.com › Landscape-Ideology-English-Trad\n",
      "Debug: No valid year found in matches for Landscape and Ideology: The English Rustic Tradition: 1740-1860 by Bermingham, Ann: ['19', '19', '19', '19', '19', '19']\n",
      "Debug: Text extracted for British Portraits in the Metropolitan Museum of Art by Baetjer, Katharine:\n",
      "British Portraits in the Metropolitan Museum of Art Baetjer, Katharine published in what year - Google Search×Please click here if you are not redirected within a few seconds.    AllImagesShoppingNews Maps Videos Books Search tools    Any timeAny timePast hourPast 24 hoursPast weekPast monthPast yearAll resultsAll resultsVerbatimBritish Portraits in The Metropolitan Museum of Artwww.metmuseum.org › met-publications › british-portraits-the-metropolita...\"British Portraits in The Metropolitan Muse\n",
      "Debug: No valid year found in matches for British Portraits in the Metropolitan Museum of Art by Baetjer, Katharine: ['19', '19', '19', '19', '20', '19', '19', '19', '20', '19', '19']\n",
      "Debug: Text extracted for A Small Place by Kincaid, Jamaica:\n",
      "A Small Place Kincaid, Jamaica published in what year - Google Search×Please click here if you are not redirected within a few seconds.    AllImagesBooksShopping Maps Videos News Search tools    Any timeAny timePast hourPast 24 hoursPast weekPast monthPast yearAll resultsAll resultsVerbatimA Small Place (1988), a three-part essay, continued her depiction of Antigua and her rage at its despoliation. Kincaid's treatment of the themes of family relationships, personhood, and the taint of colonialis\n",
      "Debug: No valid year found in matches for A Small Place by Kincaid, Jamaica: ['19', '19', '19', '19', '20', '20', '20', '19', '19', '19']\n"
     ]
    },
    {
     "name": "stderr",
     "output_type": "stream",
     "text": [
      "Processing books:  10%|██                    | 130/1346 [00:30<05:51,  3.46it/s]"
     ]
    },
    {
     "name": "stdout",
     "output_type": "stream",
     "text": [
      "Debug: Text extracted for Landscape as Photograph by Jussim, Estelle and Elizabeth Lindquist-Cock:\n",
      "Landscape as Photograph Jussim, Estelle and Elizabeth Lindquist-Cock published in what year - Google Search×Please click here if you are not redirected within a few seconds.    AllImagesNewsBooks Maps Videos Shopping Search tools    Any timeAny timePast hourPast 24 hoursPast weekPast monthPast yearAll resultsAll resultsVerbatimLandscape As Photograph: Jussim, Estelle, Lindquist-Cock, Elizabethwww.amazon.com › Landscape-As-Photograph-Estelle-JussimRating  5.0  (1)   · $7.38Landscape As Photograph\n",
      "Debug: No valid year found in matches for Landscape as Photograph by Jussim, Estelle and Elizabeth Lindquist-Cock: ['19', '19', '19', '19', '19', '19', '19', '19']\n",
      "Debug: Text extracted for The History of Mary Prince, a West Indian Slave, Related by Herself by Prince, Mary:\n",
      "The History of Mary Prince, a West Indian Slave, Related by Herself Prince, Mary published in what year - Google Search×Please click here if you are not redirected within a few seconds.    AllBooksImagesNews Maps Videos Shopping Search tools    Any timeAny timePast hourPast 24 hoursPast weekPast monthPast yearAll resultsAll resultsVerbatimPringle edited and published Prince's History in 1831; it became so popular that three editions were printed that year. The publication was followed by a serie\n",
      "Debug: No year matches found for The History of Mary Prince, a West Indian Slave, Related by Herself by Prince, Mary\n",
      "Debug: Text extracted for British Paintings in the Metropolitan Museum of Art, 1575-1875 by Baetjer, Katharine:\n",
      "British Paintings in the Metropolitan Museum of Art, 1575-1875 Baetjer, Katharine published in what year - Google Search×Please click here if you are not redirected within a few seconds.    AllImagesShoppingNews Maps Videos Books Search tools    Any timeAny timePast hourPast 24 hoursPast weekPast monthPast yearAll resultsAll resultsVerbatimBritish Paintings in the Metropolitan Museum of Art, 1575-1875 / Originally published2009People also askWhich American artist was a founder of the British Roy\n",
      "Debug: No valid year found in matches for British Paintings in the Metropolitan Museum of Art, 1575-1875 by Baetjer, Katharine: ['20', '20']\n",
      "Debug: Text extracted for British Portraits in the Metropolitan Museum of Art by Baetjer, Katharine:\n",
      "British Portraits in the Metropolitan Museum of Art Baetjer, Katharine published in what year - Google Search×Please click here if you are not redirected within a few seconds.    AllImagesNewsShopping Maps Videos Books Search tools    Any timeAny timePast hourPast 24 hoursPast weekPast monthPast yearAll resultsAll resultsVerbatimBritish Portraits in The Metropolitan Museum of Artwww.metmuseum.org › met-publications › british-portraits-the-metropolita...\"British Portraits in The Metropolitan Muse\n",
      "Debug: No valid year found in matches for British Portraits in the Metropolitan Museum of Art by Baetjer, Katharine: ['19', '19', '19', '20', '19', '19', '19', '20', '19', '19']\n"
     ]
    },
    {
     "name": "stderr",
     "output_type": "stream",
     "text": [
      "\r",
      "Processing books:  10%|██▏                   | 133/1346 [00:30<03:21,  6.03it/s]"
     ]
    },
    {
     "name": "stdout",
     "output_type": "stream",
     "text": [
      "Debug: Text extracted for Selected Poems by Clare, John:\n",
      "Selected Poems Clare, John published in what year - Google Search×Please click here if you are not redirected within a few seconds.    AllImagesShoppingNews Maps Videos Books Search tools    Any timeAny timePast hourPast 24 hoursPast weekPast monthPast yearAll resultsAll resultsVerbatimSelected Poems (Penguin Classics): 9780140437249: Clare, John ...www.amazon.com › Selected-Poems-Penguin-Classics-ClareRating  4.4  (25)   · $24.41  · In stockBook details ; Print length. 400 pages ; Language. EngDebug: Text extracted for Stop, Theif! by Linebaugh, Peter:\n",
      "Stop, Theif! Linebaugh, Peter published in what year - Google Search×Please click here if you are not redirected within a few seconds.    AllImagesBooksNews Maps Videos Shopping Search tools    Any timeAny timePast hourPast 24 hoursPast weekPast monthPast yearAll resultsAll resultsVerbatimShowing results for Stop, Thief! Linebaugh, Peter published in what yearSearch instead for Stop, Theif! Linebaugh, Peter published in what yearStop, Thief! The Commons, Enclosures, and Resistance / Originally p\n",
      "Debug: No valid year found in matches for Stop, Theif! by Linebaugh, Peter: ['19', '19', '20', '20', '20', '20']\n",
      "\n",
      "Debug: No valid year found in matches for Selected Poems by Clare, John: ['20', '20', '19', '19', '20', '19', '19', '19', '19']\n",
      "Debug: Text extracted for On Beauty and Being Just by Scarry, Elaine:\n",
      "On Beauty and Being Just Scarry, Elaine published in what year - Google Search×Please click here if you are not redirected within a few seconds.    AllShoppingImagesBooks Maps Videos News Search tools    Any timeAny timePast hourPast 24 hoursPast weekPast monthPast yearAll resultsAll resultsVerbatimOn Beauty and Being Just / Originally published1999On Beauty and Being Just | Princeton University Presspress.princeton.edu › books › paperback › on-beauty-and-being-just$19.95Scarry, author of the la\n",
      "Debug: No valid year found in matches for On Beauty and Being Just by Scarry, Elaine: ['19', '20', '20', '20', '20', '19', '20', '19']\n",
      "Debug: Text extracted for Landscape and Ideology: The English Rustic Tradition: 1740-1860 by Bermingham, Ann:\n",
      "Landscape and Ideology: The English Rustic Tradition: 1740-1860 Bermingham, Ann published in what year - Google Search×Please click here if you are not redirected within a few seconds.    AllBooksImagesShopping Maps Videos News Search tools    Any timeAny timePast hourPast 24 hoursPast weekPast monthPast yearAll resultsAll resultsVerbatimLandscape and ideology / Originally published1986Landscape and Ideology: The English Rustic Tradition, 1740-1860www.amazon.com › Landscape-Ideology-English-Trad\n",
      "Debug: No valid year found in matches for Landscape and Ideology: The English Rustic Tradition: 1740-1860 by Bermingham, Ann: ['19', '19', '19', '19', '19', '19']\n",
      "Debug: Text extracted for A Small Place by Kincaid, Jamaica:\n",
      "A Small Place Kincaid, Jamaica published in what year - Google Search×Please click here if you are not redirected within a few seconds.    AllImagesBooksShopping Maps Videos News Search tools    Any timeAny timePast hourPast 24 hoursPast weekPast monthPast yearAll resultsAll resultsVerbatimA Small Place (1988), a three-part essay, continued her depiction of Antigua and her rage at its despoliation. Kincaid's treatment of the themes of family relationships, personhood, and the taint of colonialis\n",
      "Debug: No valid year found in matches for A Small Place by Kincaid, Jamaica: ['19', '19', '19', '19', '20', '20', '20', '19', '19', '19']\n",
      "Debug: Text extracted for My Garden (Book) by Kincaid, Jamaica:\n",
      "My Garden (Book) Kincaid, Jamaica published in what year - Google Search×Please click here if you are not redirected within a few seconds.    AllImagesBooksShopping Maps Videos News Search tools    Any timeAny timePast hourPast 24 hoursPast weekPast monthPast yearAll resultsAll resultsVerbatimMy Garden Book / Originally published1991My Garden BookBook by Jamaica Kincaid3.7/5 · Goodreads\n",
      "3.8/5 · AbeBooks\n",
      "‘[Kincaid] is able to do something that is almost never done in garden writing, and do it ver\n",
      "Debug: No valid year found in matches for My Garden (Book) by Kincaid, Jamaica: ['20', '20', '20', '20', '19', '19', '19', '19', '20', '20', '20', '19']\n",
      "Debug: Text extracted for The Complete French Poems of Rainer Maria Rilke by Rilke, Rainer Maria:\n",
      "The Complete French Poems of Rainer Maria Rilke Rilke, Rainer Maria published in what year - Google Search×Please click here if you are not redirected within a few seconds.    AllImagesShoppingBooks Maps Videos News Search tools    Any timeAny timePast hourPast 24 hoursPast weekPast monthPast yearAll resultsAll resultsVerbatimThe Complete French Poems: Rilke, Rainer Maria, Poulin Jr., A.www.amazon.com › Complete-French-Poems-Rainer-MariaRating  4.8  (25)   · 30-day returnsOriginally published as\n",
      "Debug: No valid year found in matches for The Complete French Poems of Rainer Maria Rilke by Rilke, Rainer Maria: ['20', '19', '19', '19', '19', '19', '19']\n",
      "Debug: Text extracted for Lying by Bok, Sissela:\n",
      "Lying Bok, Sissela published in what year - Google Search×Please click here if you are not redirected within a few seconds.    AllImagesBooksNews Maps Videos Shopping Search tools    Any timeAny timePast hourPast 24 hoursPast weekPast monthPast yearAll resultsAll resultsVerbatimLying / Originally published1978LyingBook by Sissela BokLying: Moral Choice in Public and Private Life is a 1978 book by philosopher Sissela Bok that covers the ethical issues in lying, such as intent, result, context, an\n",
      "Debug: No valid year found in matches for Lying by Bok, Sissela: ['19', '19', '19', '19', '19', '19', '19']\n",
      "Debug: Text extracted for On Beauty and Being Just by Scarry, Elaine:\n",
      "On Beauty and Being Just Scarry, Elaine published in what year - Google Search×Please click here if you are not redirected within a few seconds.    AllImagesBooksVideos Maps News Shopping Search tools    Any timeAny timePast hourPast 24 hoursPast weekPast monthPast yearAll resultsAll resultsVerbatimOn Beauty and Being Just / Originally published1999On Beauty and Being Just | Princeton University Presspress.princeton.edu › books › paperback › on-beauty-and-being-just$19.95Scarry, author of the la\n",
      "Debug: No valid year found in matches for On Beauty and Being Just by Scarry, Elaine: ['19', '20', '20', '20', '19', '19', '20', '19']\n",
      "Debug: Text extracted for A Small Place by Kincaid, Jamaica:\n",
      "A Small Place Kincaid, Jamaica published in what year - Google Search×Please click here if you are not redirected within a few seconds.    AllImagesBooksNews Maps Videos Shopping Search tools    Any timeAny timePast hourPast 24 hoursPast weekPast monthPast yearAll resultsAll resultsVerbatimA Small Place (1988), a three-part essay, continued her depiction of Antigua and her rage at its despoliation. Kincaid's treatment of the themes of family relationships, personhood, and the taint of colonialis\n",
      "Debug: No valid year found in matches for A Small Place by Kincaid, Jamaica: ['19', '19', '19', '19', '20', '20', '20', '19', '19', '19']\n"
     ]
    },
    {
     "name": "stderr",
     "output_type": "stream",
     "text": [
      "Processing books:  10%|██▏                   | 137/1346 [00:30<03:35,  5.61it/s]"
     ]
    },
    {
     "name": "stdout",
     "output_type": "stream",
     "text": [
      "Debug: Text extracted for Speak by Nabokov, Vladimir:\n",
      "Speak Nabokov, Vladimir published in what year - Google Search×Please click here if you are not redirected within a few seconds.    AllImagesBooksNews Maps Videos Shopping Search tools    Any timeAny timePast hourPast 24 hoursPast weekPast monthPast yearAll resultsAll resultsVerbatimSpeak, Memory / Originally published1951Speak, MemoryBook by Vladimir Nabokov4.1/5 · Goodreads\n",
      "Speak, Memory is a memoir by writer Vladimir Nabokov. The book includes individual essays published between 1936 and 1951\n",
      "Debug: No valid year found in matches for Speak by Nabokov, Vladimir: ['19', '19', '19', '19', '19', '19', '19', '19', '20', '19', '19', '19', '19', '19', '19', '19', '20', '19', '20', '20', '20']\n",
      "Debug: Text extracted for The History of Mary Prince, a West Indian Slave, Related by Herself by Prince, Mary:\n",
      "The History of Mary Prince, a West Indian Slave, Related by Herself Prince, Mary published in what year - Google Search×Please click here if you are not redirected within a few seconds.    AllBooksImagesNews Maps Videos Shopping Search tools    Any timeAny timePast hourPast 24 hoursPast weekPast monthPast yearAll resultsAll resultsVerbatimPringle edited and published Prince's History in 1831; it became so popular that three editions were printed that year. The publication was followed by a serie\n",
      "Debug: No year matches found for The History of Mary Prince, a West Indian Slave, Related by Herself by Prince, Mary\n",
      "Debug: Text extracted for British Paintings in the Metropolitan Museum of Art, 1575-1875 by Baetjer, Katharine:\n",
      "British Paintings in the Metropolitan Museum of Art, 1575-1875 Baetjer, Katharine published in what year - Google Search×Please click here if you are not redirected within a few seconds.    AllImagesShoppingNews Maps Videos Books Search tools    Any timeAny timePast hourPast 24 hoursPast weekPast monthPast yearAll resultsAll resultsVerbatimBritish Paintings in the Metropolitan Museum of Art, 1575-1875 / Originally published2009British Paintings in The Metropolitan Museum of Art, 1575–1875www.met\n",
      "Debug: No valid year found in matches for British Paintings in the Metropolitan Museum of Art, 1575-1875 by Baetjer, Katharine: ['20', '20', '20', '20', '20']\n",
      "Debug: Text extracted for George Orwell: Fugative From teh Camp of Victory by Rees, Ricahrd:\n",
      "George Orwell: Fugative From teh Camp of Victory Rees, Ricahrd published in what year - Google Search×Please click here if you are not redirected within a few seconds.    AllNewsImagesBooks Maps Videos Shopping Search tools    Any timeAny timePast hourPast 24 hoursPast weekPast monthPast yearAll resultsAll resultsVerbatimShowing results for George Orwell: Fugitive From the Camp of Victory Rees, Richard published in what yearSearch instead for George Orwell: Fugative From teh Camp of Victory Rees\n",
      "Debug: No valid year found in matches for George Orwell: Fugative From teh Camp of Victory by Rees, Ricahrd: ['19', '19', '19', '19', '19', '19', '19', '19', '19', '19', '20', '19', '19']\n",
      "Debug: Text extracted for My Garden (Book) by Kincaid, Jamaica:\n",
      "My Garden (Book) Kincaid, Jamaica published in what year - Google Search×Please click here if you are not redirected within a few seconds.    AllShoppingImagesBooks Maps Videos News Search tools    Any timeAny timePast hourPast 24 hoursPast weekPast monthPast yearAll resultsAll resultsVerbatimMy Garden Book / Originally published1991My Garden BookBook by Jamaica Kincaid3.7/5 · Goodreads\n",
      "3.8/5 · AbeBooks\n",
      "‘[Kincaid] is able to do something that is almost never done in garden writing, and do it ver\n",
      "Debug: No valid year found in matches for My Garden (Book) by Kincaid, Jamaica: ['20', '20', '20', '20', '19', '19', '19', '19', '20', '20', '20', '19']\n",
      "Debug: Text extracted for The Origins of Totalitarianism by Arendt, Hannah:\n",
      "The Origins of Totalitarianism Arendt, Hannah published in what year - Google Search×Please click here if you are not redirected within a few seconds.    AllBooksImagesNews Maps Videos Shopping Search tools    Any timeAny timePast hourPast 24 hoursPast weekPast monthPast yearAll resultsAll resultsVerbatimThe Origins of Totalitarianism / Originally published1951The Origins of TotalitarianismBook by Hannah ArendtThe Origins of Totalitarianism, published in 1951, was Hannah Arendt's first major wor\n",
      "Debug: No valid year found in matches for The Origins of Totalitarianism by Arendt, Hannah: ['19', '19', '19', '19', '20', '19', '20', '19', '20', '19', '20', '20', '19', '19']\n",
      "Debug: Text extracted for On Beauty and Being Just by Scarry, Elaine:\n",
      "On Beauty and Being Just Scarry, Elaine published in what year - Google Search×Please click here if you are not redirected within a few seconds.    AllShoppingImagesBooks Maps Videos News Search tools    Any timeAny timePast hourPast 24 hoursPast weekPast monthPast yearAll resultsAll resultsVerbatimOn Beauty and Being Just / Originally published1999On Beauty and Being Just | Princeton University Presspress.princeton.edu › books › paperback › on-beauty-and-being-just$19.95Scarry, author of the la\n",
      "Debug: No valid year found in matches for On Beauty and Being Just by Scarry, Elaine: ['19', '20', '20', '20', '20', '19', '20', '19']\n",
      "Debug: Text extracted for Lying by Bok, Sissela:\n",
      "Lying Bok, Sissela published in what year - Google Search×Please click here if you are not redirected within a few seconds.    AllImagesBooksShopping Maps Videos News Search tools    Any timeAny timePast hourPast 24 hoursPast weekPast monthPast yearAll resultsAll resultsVerbatimLying / Originally published1978LyingBook by Sissela BokLying: Moral Choice in Public and Private Life is a 1978 book by philosopher Sissela Bok that covers the ethical issues in lying, such as intent, result, context, an\n",
      "Debug: No valid year found in matches for Lying by Bok, Sissela: ['19', '19', '19', '19', '19', '19', '19', '20']\n",
      "Debug: Text extracted for The Complete French Poems of Rainer Maria Rilke by Rilke, Rainer Maria:\n",
      "The Complete French Poems of Rainer Maria Rilke Rilke, Rainer Maria published in what year - Google Search×Please click here if you are not redirected within a few seconds.    AllImagesShoppingBooks Maps Videos News Search tools    Any timeAny timePast hourPast 24 hoursPast weekPast monthPast yearAll resultsAll resultsVerbatimThe Complete French Poems: Rilke, Rainer Maria, Poulin Jr., A.www.amazon.com › Complete-French-Poems-Rainer-MariaRating  4.8  (25)   · $15.48  · 30-day returnsOriginally pu\n",
      "Debug: No valid year found in matches for The Complete French Poems of Rainer Maria Rilke by Rilke, Rainer Maria: ['20', '19', '19', '19', '19', '19']\n",
      "Debug: Text extracted for George Orwell: Fugative From teh Camp of Victory by Rees, Ricahrd:\n",
      "George Orwell: Fugative From teh Camp of Victory Rees, Ricahrd published in what year - Google Search×Please click here if you are not redirected within a few seconds.    AllNewsImagesBooks Maps Videos Shopping Search tools    Any timeAny timePast hourPast 24 hoursPast weekPast monthPast yearAll resultsAll resultsVerbatimShowing results for George Orwell: Fugitive From the Camp of Victory Rees, Richard published in what yearSearch instead for George Orwell: Fugative From teh Camp of Victory Rees\n",
      "Debug: No valid year found in matches for George Orwell: Fugative From teh Camp of Victory by Rees, Ricahrd: ['19', '19', '19', '19', '19', '19', '19', '19', '19', '19', '19', '20', '19']\n",
      "Debug: Text extracted for Speak by Nabokov, Vladimir:\n",
      "Speak Nabokov, Vladimir published in what year - Google Search×Please click here if you are not redirected within a few seconds.    AllImagesBooksNews Maps Videos Shopping Search tools    Any timeAny timePast hourPast 24 hoursPast weekPast monthPast yearAll resultsAll resultsVerbatimSpeak, Memory / Originally published1951Speak, MemoryBook by Vladimir Nabokov4.1/5 · Goodreads\n",
      "Speak, Memory is a memoir by writer Vladimir Nabokov. The book includes individual essays published between 1936 and 1951\n",
      "Debug: No valid year found in matches for Speak by Nabokov, Vladimir: ['19', '19', '19', '19', '19', '19', '19', '19', '19', '20', '19', '19', '19', '19', '19', '19', '19', '19', '19', '19', '19']\n",
      "Debug: Text extracted for Candide by Voltaire:\n",
      "Candide Voltaire published in what year - Google Search×Please click here if you are not redirected within a few seconds.    AllShoppingBooksImages Maps Videos News Search tools    Any timeAny timePast hourPast 24 hoursPast weekPast monthPast yearAll resultsAll resultsVerbatimCandide, satirical novel published in 1759 that is the best-known work by Voltaire.May 25, 2024Candide | Introduction & Summary - Britannicawww.britannica.com › Literature › Fictional CharactersAbout Featured SnippetsCandid\n",
      "Debug: No valid year found in matches for Candide by Voltaire: ['20', '20', '20']\n",
      "Debug: Text extracted for Tropic of Cancer by Miller, Henry:\n",
      "Tropic of Cancer Miller, Henry published in what year - Google Search×Please click here if you are not redirected within a few seconds.    AllImagesBooksNews Maps Videos Shopping Search tools    Any timeAny timePast hourPast 24 hoursPast weekPast monthPast yearAll resultsAll resultsVerbatimTropic of Cancer, autobiographical novel by Henry Miller, published in France in 1934 and, because of censorship, not published in the United States until 1961.Tropic of Cancer | Beat Generation, Paris, Autobi\n",
      "Debug: No valid year found in matches for Tropic of Cancer by Miller, Henry: ['19', '19', '19', '19', '19', '19', '19', '19', '19', '19', '20', '19', '19', '19']\n",
      "Debug: Text extracted for The Divine Comedy by Dante:\n",
      "The Divine Comedy Dante published in what year - Google Search×Please click here if you are not redirected within a few seconds.    AllShoppingImagesBooks Maps Videos News Search tools    Any timeAny timePast hourPast 24 hoursPast weekPast monthPast yearAll resultsAll resultsVerbatimThe Divine Comedy of Dante Alighieri / Originally publishedApril 11, 1472The Divine Comedy of Dante AlighieriBook by Dante Alighieri\"'The Divine Comedy' begins in a shadowed forest on Good Friday in the year 1300. It\n",
      "Debug: No valid year found in matches for The Divine Comedy by Dante: ['20', '20', '20']\n",
      "Debug: Text extracted for Animal Farm by Orwell, George:\n",
      "Animal Farm Orwell, George published in what year - Google Search×Please click here if you are not redirected within a few seconds.    AllImagesBooksVideos Maps News Shopping Search tools    Any timeAny timePast hourPast 24 hoursPast weekPast monthPast yearAll resultsAll resultsVerbatimPublished in 1945, George Orwell's novel 'Animal Farm' is an allegory of the Russian Revolution of 1917. The characters and the fall of the farm represents the uprising in Russia and the rise of Joseph Stalin. Alt\n",
      "Debug: No valid year found in matches for Animal Farm by Orwell, George: ['19', '19', '19', '19', '19', '19', '19', '19', '19', '19', '19', '19', '19', '19', '19', '19', '19', '19', '19', '19', '19']\n"
     ]
    },
    {
     "name": "stderr",
     "output_type": "stream",
     "text": [
      "Processing books:  10%|██▎                   | 140/1346 [00:32<05:13,  3.85it/s]"
     ]
    },
    {
     "name": "stdout",
     "output_type": "stream",
     "text": [
      "Debug: Text extracted for Lying by Bok, Sissela:\n",
      "Lying Bok, Sissela published in what year - Google Search×Please click here if you are not redirected within a few seconds.    AllImagesBooksShopping Maps Videos News Search tools    Any timeAny timePast hourPast 24 hoursPast weekPast monthPast yearAll resultsAll resultsVerbatimLying / Originally published1978LyingBook by Sissela BokLying: Moral Choice in Public and Private Life is a 1978 book by philosopher Sissela Bok that covers the ethical issues in lying, such as intent, result, context, an\n",
      "Debug: No valid year found in matches for Lying by Bok, Sissela: ['19', '19', '19', '19', '19', '19']\n",
      "Debug: Text extracted for The Origins of Totalitarianism by Arendt, Hannah:\n",
      "The Origins of Totalitarianism Arendt, Hannah published in what year - Google Search×Please click here if you are not redirected within a few seconds.    AllBooksShoppingImages Maps Videos News Search tools    Any timeAny timePast hourPast 24 hoursPast weekPast monthPast yearAll resultsAll resultsVerbatimThe Origins of Totalitarianism / Originally published1951The Origins of TotalitarianismBook by Hannah ArendtThe Origins of Totalitarianism, published in 1951, was Hannah Arendt's first major wor\n",
      "Debug: No valid year found in matches for The Origins of Totalitarianism by Arendt, Hannah: ['19', '19', '19', '19', '20', '19', '20', '19', '20', '20', '19', '19', '20', '19']\n",
      "Debug: Text extracted for Culture and Imperialism by Said, Edward:\n",
      "Culture and Imperialism Said, Edward published in what year - Google Search×Please click here if you are not redirected within a few seconds.    AllBooksImagesNews Maps Videos Shopping Search tools    Any timeAny timePast hourPast 24 hoursPast weekPast monthPast yearAll resultsAll resultsVerbatimCulture and Imperialism is a 1993 collection of thematically related essays by Palestinian-American academic Edward Said, tracing the connection between imperialism and culture throughout the 18th, 19th,\n",
      "Debug: No valid year found in matches for Culture and Imperialism by Said, Edward: ['19', '19', '19', '19', '19', '19', '19']\n",
      "Debug: Text extracted for George Orwell: Fugative From teh Camp of Victory by Rees, Ricahrd:\n",
      "George Orwell: Fugative From teh Camp of Victory Rees, Ricahrd published in what year - Google Search×Please click here if you are not redirected within a few seconds.    AllNewsImagesBooks Maps Videos Shopping Search tools    Any timeAny timePast hourPast 24 hoursPast weekPast monthPast yearAll resultsAll resultsVerbatimShowing results for George Orwell: Fugitive From the Camp of Victory Rees, Richard published in what yearSearch instead for George Orwell: Fugative From teh Camp of Victory Rees\n",
      "Debug: No valid year found in matches for George Orwell: Fugative From teh Camp of Victory by Rees, Ricahrd: ['19', '19', '19', '19', '19', '19', '19', '19', '19', '19', '19', '19', '20', '19']\n",
      "Debug: Text extracted for The Complete French Poems of Rainer Maria Rilke by Rilke, Rainer Maria:\n",
      "The Complete French Poems of Rainer Maria Rilke Rilke, Rainer Maria published in what year - Google Search×Please click here if you are not redirected within a few seconds.    AllShoppingImagesBooks Maps Videos News Search tools    Any timeAny timePast hourPast 24 hoursPast weekPast monthPast yearAll resultsAll resultsVerbatimThe Complete French Poems: Rilke, Rainer Maria, Poulin Jr., A.www.amazon.com › Complete-French-Poems-Rainer-MariaRating  4.8  (25)  Originally published as four clothbound \n",
      "Debug: No valid year found in matches for The Complete French Poems of Rainer Maria Rilke by Rilke, Rainer Maria: ['20', '19', '19', '19', '19', '19']\n",
      "Debug: Text extracted for Speak by Nabokov, Vladimir:\n",
      "Speak Nabokov, Vladimir published in what year - Google Search×Please click here if you are not redirected within a few seconds.    AllImagesBooksNews Maps Videos Shopping Search tools    Any timeAny timePast hourPast 24 hoursPast weekPast monthPast yearAll resultsAll resultsVerbatimSpeak, Memory / Originally published1951Speak, MemoryBook by Vladimir Nabokov4.1/5 · Goodreads\n",
      "Speak, Memory is a memoir by writer Vladimir Nabokov. The book includes individual essays published between 1936 and 1951\n",
      "Debug: No valid year found in matches for Speak by Nabokov, Vladimir: ['19', '19', '19', '19', '19', '19', '19', '19', '19', '19', '19', '19', '19', '19', '19', '19', '20', '19']\n",
      "Debug: Text extracted for Candide by Voltaire:\n",
      "Candide Voltaire published in what year - Google Search×Please click here if you are not redirected within a few seconds.    AllBooksImagesNews Maps Videos Shopping Search tools    Any timeAny timePast hourPast 24 hoursPast weekPast monthPast yearAll resultsAll resultsVerbatimCandide, satirical novel published in 1759 that is the best-known work by Voltaire.May 25, 2024Candide | Introduction & Summary - Britannicawww.britannica.com › Literature › Fictional CharactersAbout Featured SnippetsCandid\n",
      "Debug: No valid year found in matches for Candide by Voltaire: ['20', '20', '20']\n",
      "Debug: Text extracted for Animal Farm by Orwell, George:\n",
      "Animal Farm Orwell, George published in what year - Google Search×Please click here if you are not redirected within a few seconds.    AllImagesShoppingBooks Maps Videos News Search tools    Any timeAny timePast hourPast 24 hoursPast weekPast monthPast yearAll resultsAll resultsVerbatimAnimal Farm / Originally publishedAugust 17, 1945Animal FarmNovella by George OrwellAnimal Farm is a satirical allegorical novella, in the form of a beast fable, by George Orwell, first published in England on 17 \n",
      "Debug: No valid year found in matches for Animal Farm by Orwell, George: ['19', '19', '19', '19', '19', '19', '19', '19', '19', '19', '19', '19', '19', '19', '19', '19', '19', '19', '19']\n",
      "Debug: Text extracted for The Divine Comedy by Dante:\n",
      "The Divine Comedy Dante published in what year - Google Search×Please click here if you are not redirected within a few seconds.    AllImagesBooksVideos Maps News Shopping Search tools    Any timeAny timePast hourPast 24 hoursPast weekPast monthPast yearAll resultsAll resultsVerbatimThe Divine Comedy of Dante Alighieri / Originally publishedApril 11, 1472The Divine Comedy of Dante AlighieriBook by Dante Alighieri\"'The Divine Comedy' begins in a shadowed forest on Good Friday in the year 1300. It\n",
      "Debug: No valid year found in matches for The Divine Comedy by Dante: ['20', '20', '20', '20']\n"
     ]
    },
    {
     "name": "stderr",
     "output_type": "stream",
     "text": [
      "\r",
      "Processing books:  11%|██▎                   | 143/1346 [00:32<05:06,  3.92it/s]"
     ]
    },
    {
     "name": "stdout",
     "output_type": "stream",
     "text": [
      "Debug: Text extracted for Tropic of Cancer by Miller, Henry:\n",
      "Tropic of Cancer Miller, Henry published in what year - Google Search×Please click here if you are not redirected within a few seconds.    AllImagesBooksNews Maps Videos Shopping Search tools    Any timeAny timePast hourPast 24 hoursPast weekPast monthPast yearAll resultsAll resultsVerbatimTropic of Cancer / Originally published1934Tropic of CancerNovel by Henry Miller3.7/5 · Goodreads\n",
      "Tropic of Cancer is an autobiographical novel by Henry Miller that is best known as \"notorious for its candid sDebug: Text extracted for Culture and Imperialism by Said, Edward:\n",
      "Culture and Imperialism Said, Edward published in what year - Google Search×Please click here if you are not redirected within a few seconds.    AllBooksImagesNews Maps Videos Shopping Search tools    Any timeAny timePast hourPast 24 hoursPast weekPast monthPast yearAll resultsAll resultsVerbatimCulture and Imperialism is a 1993 collection of thematically related essays by Palestinian-American academic Edward Said, tracing the connection between imperialism and culture throughout the 18th, 19th,\n",
      "Debug: No valid year found in matches for Culture and Imperialism by Said, Edward: ['19', '19', '19', '19', '19', '19', '19']\n",
      "\n",
      "Debug: No valid year found in matches for Tropic of Cancer by Miller, Henry: ['19', '19', '19', '19', '19', '19', '19', '19', '19', '20', '19']\n",
      "Debug: Text extracted for Lucy by Kincaid, Jamaica:\n",
      "Lucy Kincaid, Jamaica published in what year - Google Search×Please click here if you are not redirected within a few seconds.    AllNewsImagesBooks Maps Videos Shopping Search tools    Any timeAny timePast hourPast 24 hoursPast weekPast monthPast yearAll resultsAll resultsVerbatimLucy (novel)1990 first edition coverAuthorJamaica KincaidPublisherFarrar Straus & GirouxPublication dateSeptember 1990Publication placeUnited StatesLucy (novel) - Wikipediaen.wikipedia.org › wiki › Lucy_(novel)About Fe\n",
      "Debug: No valid year found in matches for Lucy by Kincaid, Jamaica: ['19', '19', '19', '19', '20', '19', '20', '20', '20', '19', '20', '19', '20', '20', '19']\n",
      "Debug: Text extracted for Candide by Voltaire:\n",
      "Candide Voltaire published in what year - Google Search×Please click here if you are not redirected within a few seconds.    AllShoppingBooksImages Maps Videos News Search tools    Any timeAny timePast hourPast 24 hoursPast weekPast monthPast yearAll resultsAll resultsVerbatimCandide, satirical novel published in 1759 that is the best-known work by Voltaire.May 25, 2024Candide | Introduction & Summary - Britannicawww.britannica.com › Literature › Fictional CharactersAbout Featured SnippetsCandid\n",
      "Debug: No valid year found in matches for Candide by Voltaire: ['20', '20', '20', '20', '20']\n",
      "Debug: Text extracted for The Origins of Totalitarianism by Arendt, Hannah:\n",
      "The Origins of Totalitarianism Arendt, Hannah published in what year - Google Search×Please click here if you are not redirected within a few seconds.    AllBooksImagesNews Maps Videos Shopping Search tools    Any timeAny timePast hourPast 24 hoursPast weekPast monthPast yearAll resultsAll resultsVerbatimThe Origins of Totalitarianism / Originally published1951The Origins of TotalitarianismBook by Hannah ArendtThe Origins of Totalitarianism, published in 1951, was Hannah Arendt's first major wor\n",
      "Debug: No valid year found in matches for The Origins of Totalitarianism by Arendt, Hannah: ['19', '19', '19', '19', '19', '19', '20', '19', '20', '19', '20', '20', '19', '19', '20', '19']\n",
      "Debug: Text extracted for The Diary of Anïs Nin by Nin, Anïs:\n",
      "The Diary of Anïs Nin Nin, Anïs published in what year - Google Search×Please click here if you are not redirected within a few seconds.    AllBooksImagesShopping Maps Videos News Search tools    Any timeAny timePast hourPast 24 hoursPast weekPast monthPast yearAll resultsAll resultsVerbatimShe gained commercial and critical success with the publication of the first volume of her diary (1966); to date, fifteen diary volumes have been published.The Diary of Anais Nin (Vol. One 1931-1934) - Amazon\n",
      "Debug: No valid year found in matches for The Diary of Anïs Nin by Nin, Anïs: ['19', '19', '19', '19', '19', '19', '19', '19', '19', '19', '19', '19', '19', '19', '19', '19', '19', '19', '19', '19', '19', '19', '19', '19', '19', '19', '19', '19', '19', '19', '19', '19', '19', '19', '19', '19', '19', '19', '19', '19', '19', '19', '19', '19', '19', '19']\n",
      "Debug: Text extracted for Mrs. Dalloway by Woolf, Virginia:\n",
      "Mrs. Dalloway Woolf, Virginia published in what year - Google Search×Please click here if you are not redirected within a few seconds.    AllBooksImagesShopping Maps Videos News Search tools    Any timeAny timePast hourPast 24 hoursPast weekPast monthPast yearAll resultsAll resultsVerbatimDalloway, novel by Virginia Woolf published in 1925. It examines one day in the life of Clarissa Dalloway, an upper-class Londoner married to a member of Parliament.May 21, 2024Mrs. Dalloway | Summary, Context,\n",
      "Debug: No valid year found in matches for Mrs. Dalloway by Woolf, Virginia: ['19', '19', '19', '20', '20', '19', '19', '19', '19', '19', '19', '20', '19', '20', '19', '19', '19', '19']\n",
      "Debug: Text extracted for How to Do Nothing: Resisting the Attention Economy by Odell, Jenny:\n",
      "How to Do Nothing: Resisting the Attention Economy Odell, Jenny published in what year - Google Search×Please click here if you are not redirected within a few seconds.    AllImagesNewsBooks Maps Videos Shopping Search tools    Any timeAny timePast hourPast 24 hoursPast weekPast monthPast yearAll resultsAll resultsVerbatim(Book) Published: Brooklyn, NY : Melville House, [2019].How to do nothing : : resisting the attention economy / - Catalog Homecmc.marmot.org › RecordAbout Featured SnippetsHow \n",
      "Debug: No valid year found in matches for How to Do Nothing: Resisting the Attention Economy by Odell, Jenny: ['20', '20', '20', '20', '20', '20', '20']\n"
     ]
    },
    {
     "name": "stderr",
     "output_type": "stream",
     "text": [
      "\r",
      "Processing books:  11%|██▎                   | 145/1346 [00:33<04:40,  4.28it/s]"
     ]
    },
    {
     "name": "stdout",
     "output_type": "stream",
     "text": [
      "Debug: Text extracted for Animal Farm by Orwell, George:\n",
      "Animal Farm Orwell, George published in what year - Google Search×Please click here if you are not redirected within a few seconds.    AllImagesShoppingBooks Maps Videos News Search tools    Any timeAny timePast hourPast 24 hoursPast weekPast monthPast yearAll resultsAll resultsVerbatimPublished in 1945, George Orwell's novel 'Animal Farm' is an allegory of the Russian Revolution of 1917. The characters and the fall of the farm represents the uprising in Russia and the rise of Joseph Stalin. Alt\n",
      "Debug: No valid year found in matches for Animal Farm by Orwell, George: ['19', '19', '19', '19', '19', '19', '19', '19', '19', '19', '19', '19', '19', '19', '19', '19', '19', '19', '19', '19', '19']\n",
      "Debug: Text extracted for Tropic of Cancer by Miller, Henry:\n",
      "Tropic of Cancer Miller, Henry published in what year - Google Search×Please click here if you are not redirected within a few seconds.    AllImagesBooksNews Maps Videos Shopping Search tools    Any timeAny timePast hourPast 24 hoursPast weekPast monthPast yearAll resultsAll resultsVerbatimTropic of Cancer, autobiographical novel by Henry Miller, published in France in 1934 and, because of censorship, not published in the United States until 1961.Tropic of Cancer | Beat Generation, Paris, Autobi\n",
      "Debug: No valid year found in matches for Tropic of Cancer by Miller, Henry: ['19', '19', '19', '19', '19', '19', '19', '19', '19', '20', '19']\n",
      "Debug: Text extracted for Culture and Imperialism by Said, Edward:\n",
      "Culture and Imperialism Said, Edward published in what year - Google Search×Please click here if you are not redirected within a few seconds.    AllBooksImagesNews Maps Videos Shopping Search tools    Any timeAny timePast hourPast 24 hoursPast weekPast monthPast yearAll resultsAll resultsVerbatimCulture and Imperialism is a 1993 collection of thematically related essays by Palestinian-American academic Edward Said, tracing the connection between imperialism and culture throughout the 18th, 19th,\n",
      "Debug: No valid year found in matches for Culture and Imperialism by Said, Edward: ['19', '19', '19', '19', '19', '19', '19']\n"
     ]
    },
    {
     "name": "stderr",
     "output_type": "stream",
     "text": [
      "\r",
      "Processing books:  11%|██▍                   | 148/1346 [00:33<03:26,  5.79it/s]"
     ]
    },
    {
     "name": "stdout",
     "output_type": "stream",
     "text": [
      "Debug: Text extracted for The Divine Comedy by Dante:\n",
      "The Divine Comedy Dante published in what year - Google Search×Please click here if you are not redirected within a few seconds.    AllShoppingImagesBooks Maps Videos News Search tools    Any timeAny timePast hourPast 24 hoursPast weekPast monthPast yearAll resultsAll resultsVerbatimThe Divine Comedy of Dante Alighieri / Originally publishedApril 11, 1472The Divine Comedy of Dante AlighieriBook by Dante Alighieri\"'The Divine Comedy' begins in a shadowed forest on Good Friday in the year 1300. It\n",
      "Debug: No valid year found in matches for The Divine Comedy by Dante: ['20', '20', '20']\n",
      "Debug: Text extracted for Lucy by Kincaid, Jamaica:\n",
      "Lucy Kincaid, Jamaica published in what year - Google Search×Please click here if you are not redirected within a few seconds.    AllNewsImagesBooks Maps Videos Shopping Search tools    Any timeAny timePast hourPast 24 hoursPast weekPast monthPast yearAll resultsAll resultsVerbatimLucy (novel)1990 first edition coverAuthorJamaica KincaidPublisherFarrar Straus & GirouxPublication dateSeptember 1990Publication placeUnited StatesLucy (novel) - Wikipediaen.wikipedia.org › wiki › Lucy_(novel)About Fe\n",
      "Debug: No valid year found in matches for Lucy by Kincaid, Jamaica: ['19', '19', '19', '19', '20', '19', '20', '20', '20', '19', '20', '19', '20', '20', '19']\n",
      "Debug: Text extracted for The Diary of Anïs Nin by Nin, Anïs:\n",
      "The Diary of Anïs Nin Nin, Anïs published in what year - Google Search×Please click here if you are not redirected within a few seconds.    AllBooksImagesShopping Maps Videos News Search tools    Any timeAny timePast hourPast 24 hoursPast weekPast monthPast yearAll resultsAll resultsVerbatimShe gained commercial and critical success with the publication of the first volume of her diary (1966); to date, fifteen diary volumes have been published.The Diary of Anais Nin (Vol. One 1931-1934) - Amazon\n",
      "Debug: No valid year found in matches for The Diary of Anïs Nin by Nin, Anïs: ['19', '19', '19', '19', '19', '19', '19', '19', '19', '19', '19', '19', '19', '19', '19', '19', '19', '19', '19', '19', '19', '19', '19', '19', '19', '19', '19', '19', '19', '19', '19', '19', '19', '19', '19', '19', '19', '19', '19', '19', '19', '19', '19', '19', '19', '19']\n",
      "Debug: Text extracted for Mrs. Dalloway by Woolf, Virginia:\n",
      "Mrs. Dalloway Woolf, Virginia published in what year - Google Search×Please click here if you are not redirected within a few seconds.    AllBooksImagesNews Maps Videos Shopping Search tools    Any timeAny timePast hourPast 24 hoursPast weekPast monthPast yearAll resultsAll resultsVerbatimDalloway, novel by Virginia Woolf published in 1925. It examines one day in the life of Clarissa Dalloway, an upper-class Londoner married to a member of Parliament.May 21, 2024Mrs. Dalloway | Summary, Context,\n",
      "Debug: No valid year found in matches for Mrs. Dalloway by Woolf, Virginia: ['19', '19', '19', '20', '20', '19', '19', '19', '19', '19', '19', '20', '19', '20', '19', '19', '19', '19']\n",
      "Debug: Text extracted for How to Do Nothing: Resisting the Attention Economy by Odell, Jenny:\n",
      "How to Do Nothing: Resisting the Attention Economy Odell, Jenny published in what year - Google Search×Please click here if you are not redirected within a few seconds.    AllImagesNewsBooks Maps Videos Shopping Search tools    Any timeAny timePast hourPast 24 hoursPast weekPast monthPast yearAll resultsAll resultsVerbatim(Book) Published: Brooklyn, NY : Melville House, [2019].How to do nothing : : resisting the attention economy / - Catalog Homecmc.marmot.org › RecordAbout Featured SnippetsHow \n",
      "Debug: No valid year found in matches for How to Do Nothing: Resisting the Attention Economy by Odell, Jenny: ['20', '20', '20', '20', '20', '20', '20']\n",
      "Debug: Text extracted for The Walk by deBuys, Bill:\n",
      "The Walk deBuys, Bill published in what year - Google Search×Please click here if you are not redirected within a few seconds.    AllNewsImagesShopping Maps Videos Books Search tools    Any timeAny timePast hourPast 24 hoursPast weekPast monthPast yearAll resultsAll resultsVerbatimThe Walk / Originally published2007The WalkBook by William duBuys4/5 · Goodreads\n",
      "Set, like River of Traps,  on a small farm in a New Mexican mountain valley that the author has tended since 1977, The Walk explores the \n",
      "Debug: No valid year found in matches for The Walk by deBuys, Bill: ['19', '19', '20', '20', '20', '19', '20', '20', '19', '19', '20', '20', '19']\n",
      "Debug: Text extracted for The Evil Hours: A Biography of Post Traumatic Stress Disorder by Morris, David J.:\n",
      "The Evil Hours: A Biography of Post Traumatic Stress Disorder Morris, David J. published in what year - Google Search×Please click here if you are not redirected within a few seconds.    AllBooksNewsImages Maps Videos Shopping Search tools    Any timeAny timePast hourPast 24 hoursPast weekPast monthPast yearAll resultsAll resultsVerbatimThe Evil Hours: A Biography of Post-Traumatic Stress Disorder / Originally publishedJanuary 20, 2015The Evil Hours: A Biography of Post-traumatic Stress Disorder\n",
      "Debug: No valid year found in matches for The Evil Hours: A Biography of Post Traumatic Stress Disorder by Morris, David J.: ['20', '19', '20', '20', '20', '20', '20']\n"
     ]
    },
    {
     "name": "stderr",
     "output_type": "stream",
     "text": [
      "\r",
      "Processing books:  11%|██▍                   | 149/1346 [00:34<04:57,  4.02it/s]"
     ]
    },
    {
     "name": "stdout",
     "output_type": "stream",
     "text": [
      "Debug: Text extracted for Under My Skin by Lessing, Doris:\n",
      "Under My Skin Lessing, Doris published in what year - Google Search×Please click here if you are not redirected within a few seconds.    AllBooksImagesShopping Maps Videos News Search tools    Any timeAny timePast hourPast 24 hoursPast weekPast monthPast yearAll resultsAll resultsVerbatimUnder My Skin / Originally published1994Under My SkinBook by Doris Lessing4.1/5 · Goodreads\n",
      "5/5 · ThriftBooks\n",
      "Under My Skin: Volume One of My Autobiography, to 1949 was the first volume of Doris Lessing's autobi\n",
      "Debug: No valid year found in matches for Under My Skin by Lessing, Doris: ['19', '19', '19', '19', '20', '19', '19', '19', '19', '20', '19', '19', '19', '19', '19', '19', '19']\n",
      "Debug: Text extracted for On Violence and On Violence Against Women by Rose, Jacqueline:\n",
      "On Violence and On Violence Against Women Rose, Jacqueline published in what year - Google Search×Please click here if you are not redirected within a few seconds.    AllBooksNewsShopping Images Maps Videos Search tools    Any timeAny timePast hourPast 24 hoursPast weekPast monthPast yearAll resultsAll resultsVerbatimOn Violence and On Violence Against Women / Originally published2021People also askHow many times has VAWA been reauthorized?On Violence and On Violence Against Women - Amazon.comww\n",
      "Debug: No valid year found in matches for On Violence and On Violence Against Women by Rose, Jacqueline: ['20', '20', '20', '20']\n",
      "Debug: Text extracted for The Diary of Anïs Nin by Nin, Anïs:\n",
      "The Diary of Anïs Nin Nin, Anïs published in what year - Google Search×Please click here if you are not redirected within a few seconds.    AllBooksImagesShopping Maps Videos News Search tools    Any timeAny timePast hourPast 24 hoursPast weekPast monthPast yearAll resultsAll resultsVerbatimShe gained commercial and critical success with the publication of the first volume of her diary (1966); to date, fifteen diary volumes have been published.The Diary of Anais Nin (Vol. One 1931-1934) - Amazon\n",
      "Debug: No valid year found in matches for The Diary of Anïs Nin by Nin, Anïs: ['19', '19', '19', '19', '19', '19', '19', '19', '19', '19', '19', '19', '19', '19', '19', '19', '19', '19', '19', '19', '19', '19', '19', '19', '19', '19', '19', '19', '19', '19', '19', '19', '19', '19', '19', '19', '19', '19', '19', '19', '19', '19', '19', '19', '19', '19']\n",
      "Debug: Text extracted for Titus Andronicus by Shakespeare, William:\n",
      "Titus Andronicus Shakespeare, William published in what year - Google Search×Please click here if you are not redirected within a few seconds.    AllImagesNewsShopping Maps Videos Books Search tools    Any timeAny timePast hourPast 24 hoursPast weekPast monthPast yearAll resultsAll resultsVerbatimTitus Andronicus, probably written between 1588 and 1593, appeared in three quarto editions from 1594 to 1601 with no named author. It was first published under William Shakespeare's name in the 1623 Fi\n",
      "Debug: No valid year found in matches for Titus Andronicus by Shakespeare, William: ['19', '19', '20', '20', '20', '20', '20']\n",
      "Debug: Text extracted for How to Do Nothing: Resisting the Attention Economy by Odell, Jenny:\n",
      "How to Do Nothing: Resisting the Attention Economy Odell, Jenny published in what year - Google Search×Please click here if you are not redirected within a few seconds.    AllImagesNewsBooks Maps Videos Shopping Search tools    Any timeAny timePast hourPast 24 hoursPast weekPast monthPast yearAll resultsAll resultsVerbatim(Book) Published: Brooklyn, NY : Melville House, [2019].How to do nothing : : resisting the attention economy / - Catalog Homecmc.marmot.org › RecordAbout Featured SnippetsHow \n",
      "Debug: No valid year found in matches for How to Do Nothing: Resisting the Attention Economy by Odell, Jenny: ['20', '20', '20', '20', '20', '20', '20']\n",
      "Debug: Text extracted for What We Talk About When We Talk About Rape by Abdulali, Sohaila:\n",
      "What We Talk About When We Talk About Rape Abdulali, Sohaila published in what year - Google Search×Please click here if you are not redirected within a few seconds.    AllNewsBooksImages Maps Videos Shopping Search tools    Any timeAny timePast hourPast 24 hoursPast weekPast monthPast yearAll resultsAll resultsVerbatimWhat We Talk About When We Talk About Rape / Originally publishedOctober 25, 2018What We Talk About When We Talk About Rape | The New Pressthenewpress.com › books › what-we-talk-a\n",
      "Debug: No valid year found in matches for What We Talk About When We Talk About Rape by Abdulali, Sohaila: ['20', '20', '19', '20', '20']\n",
      "Debug: Text extracted for Lucy by Kincaid, Jamaica:\n",
      "Lucy Kincaid, Jamaica published in what year - Google Search×Please click here if you are not redirected within a few seconds.    AllNewsImagesBooks Maps Videos Shopping Search tools    Any timeAny timePast hourPast 24 hoursPast weekPast monthPast yearAll resultsAll resultsVerbatimLucy (novel)1990 first edition coverAuthorJamaica KincaidPublisherFarrar Straus & GirouxPublication dateSeptember 1990Publication placeUnited StatesLucy (novel) - Wikipediaen.wikipedia.org › wiki › Lucy_(novel)About Fe\n",
      "Debug: No valid year found in matches for Lucy by Kincaid, Jamaica: ['19', '19', '19', '19', '20', '20', '19', '19', '20', '20', '19', '19', '19']\n"
     ]
    },
    {
     "name": "stderr",
     "output_type": "stream",
     "text": [
      "\r",
      "Processing books:  11%|██▍                   | 152/1346 [00:34<03:43,  5.35it/s]"
     ]
    },
    {
     "name": "stdout",
     "output_type": "stream",
     "text": [
      "Debug: Text extracted for The Walk by deBuys, Bill:\n",
      "The Walk deBuys, Bill published in what year - Google Search×Please click here if you are not redirected within a few seconds.    AllNewsImagesMaps Videos Shopping Books Search tools    Any timeAny timePast hourPast 24 hoursPast weekPast monthPast yearAll resultsAll resultsVerbatimThe Walk / Originally published2007The WalkBook by William duBuys4/5 · Goodreads\n",
      "Set, like River of Traps,  on a small farm in a New Mexican mountain valley that the author has tended since 1977, The Walk explores the \n",
      "Debug: No valid year found in matches for The Walk by deBuys, Bill: ['19', '19', '20', '20', '20', '19', '20', '20', '19', '19', '20', '19', '20', '20']\n",
      "Debug: Text extracted for Mrs. Dalloway by Woolf, Virginia:\n",
      "Mrs. Dalloway Woolf, Virginia published in what year - Google Search×Please click here if you are not redirected within a few seconds.    AllBooksImagesShopping Maps Videos News Search tools    Any timeAny timePast hourPast 24 hoursPast weekPast monthPast yearAll resultsAll resultsVerbatimDalloway, novel by Virginia Woolf published in 1925. It examines one day in the life of Clarissa Dalloway, an upper-class Londoner married to a member of Parliament.May 21, 2024Mrs. Dalloway | Summary, Context,\n",
      "Debug: No valid year found in matches for Mrs. Dalloway by Woolf, Virginia: ['19', '19', '19', '20', '20', '19', '19', '19', '19', '19', '19', '20', '19', '20', '19', '19', '19', '19']\n",
      "Debug: Text extracted for Under My Skin by Lessing, Doris:\n",
      "Under My Skin Lessing, Doris published in what year - Google Search×Please click here if you are not redirected within a few seconds.    AllBooksImagesShopping Maps Videos News Search tools    Any timeAny timePast hourPast 24 hoursPast weekPast monthPast yearAll resultsAll resultsVerbatimUnder My Skin / Originally published1994Under My SkinBook by Doris Lessing4.1/5 · Goodreads\n",
      "5/5 · ThriftBooks\n",
      "Under My Skin: Volume One of My Autobiography, to 1949 was the first volume of Doris Lessing's autobi\n",
      "Debug: No valid year found in matches for Under My Skin by Lessing, Doris: ['19', '19', '19', '19', '20', '19', '19', '19', '19', '20', '19', '19', '19', '19', '19', '19', '19']\n",
      "Debug: Text extracted for The Evil Hours: A Biography of Post Traumatic Stress Disorder by Morris, David J.:\n",
      "The Evil Hours: A Biography of Post Traumatic Stress Disorder Morris, David J. published in what year - Google Search×Please click here if you are not redirected within a few seconds.    AllBooksNewsImages Maps Videos Shopping Search tools    Any timeAny timePast hourPast 24 hoursPast weekPast monthPast yearAll resultsAll resultsVerbatimThe Evil Hours: A Biography of Post-Traumatic Stress Disorder / Originally publishedJanuary 20, 2015The Evil Hours: A Biography of Post-traumatic Stress Disorder\n",
      "Debug: No valid year found in matches for The Evil Hours: A Biography of Post Traumatic Stress Disorder by Morris, David J.: ['20', '19', '20', '20', '20', '20', '20']\n"
     ]
    },
    {
     "name": "stderr",
     "output_type": "stream",
     "text": [
      "\r",
      "Processing books:  11%|██▌                   | 153/1346 [00:35<05:10,  3.84it/s]"
     ]
    },
    {
     "name": "stdout",
     "output_type": "stream",
     "text": [
      "Debug: Text extracted for Hunger by Gay, Roxane:\n",
      "Hunger Gay, Roxane published in what year - Google Search×Please click here if you are not redirected within a few seconds.    AllImagesNewsBooks Maps Videos Shopping Search tools    Any timeAny timePast hourPast 24 hoursPast weekPast monthPast yearAll resultsAll resultsVerbatimHunger / Originally publishedJune 13, 2017HungerBook by Roxane Gay4.2/5 · Goodreads\n",
      "Hunger: A Memoir of (My) Body is a 2017 memoir by Roxane Gay, published on June 13, 2017, by HarperCollins in New York, New York.\n",
      "Gay has\n",
      "Debug: No valid year found in matches for Hunger by Gay, Roxane: ['20', '20', '20', '20', '19', '20', '20', '20', '20', '20', '20', '20', '20']\n",
      "Debug: Text extracted for On Violence and On Violence Against Women by Rose, Jacqueline:\n",
      "On Violence and On Violence Against Women Rose, Jacqueline published in what year - Google Search×Please click here if you are not redirected within a few seconds.    AllBooksNewsShopping Images Maps Videos Search tools    Any timeAny timePast hourPast 24 hoursPast weekPast monthPast yearAll resultsAll resultsVerbatimOn Violence and On Violence Against Women / Originally published2021People also askHow many times has VAWA been reauthorized?On Violence and On Violence Against Women - Amazon.comww\n",
      "Debug: No valid year found in matches for On Violence and On Violence Against Women by Rose, Jacqueline: ['20', '20', '20', '20']\n",
      "Debug: Text extracted for Lord of the Flies by Golding, William:\n",
      "Lord of the Flies Golding, William published in what year - Google Search×Please click here if you are not redirected within a few seconds.    AllImagesNewsBooks Maps Videos Shopping Search tools    Any timeAny timePast hourPast 24 hoursPast weekPast monthPast yearAll resultsAll resultsVerbatimLord of the Flies, novel by William Golding, published in 1954.May 28, 2024Lord of the Flies | Symbolism, Allegory, Allegorical Novel | Britannicawww.britannica.com › Literature › Novels & Short StoriesAbo\n",
      "Debug: No valid year found in matches for Lord of the Flies by Golding, William: ['19', '19', '19', '19', '19', '19', '19', '19', '19', '19', '19', '19', '19']\n",
      "Debug: Text extracted for The Walk by deBuys, Bill:\n",
      "The Walk deBuys, Bill published in what year - Google Search×Please click here if you are not redirected within a few seconds.    AllNewsImagesShopping Maps Videos Books Search tools    Any timeAny timePast hourPast 24 hoursPast weekPast monthPast yearAll resultsAll resultsVerbatimThe Walk / Originally published2007The WalkBook by William duBuys4/5 · Goodreads\n",
      "Set, like River of Traps,  on a small farm in a New Mexican mountain valley that the author has tended since 1977, The Walk explores the \n",
      "Debug: No valid year found in matches for The Walk by deBuys, Bill: ['19', '19', '20', '20', '20', '19', '20', '20', '19', '19', '20', '19', '20', '20']\n",
      "Debug: Text extracted for Titus Andronicus by Shakespeare, William:\n",
      "Titus Andronicus Shakespeare, William published in what year - Google Search×Please click here if you are not redirected within a few seconds.    AllImagesNewsBooks Maps Videos Shopping Search tools    Any timeAny timePast hourPast 24 hoursPast weekPast monthPast yearAll resultsAll resultsVerbatimTitus Andronicus, probably written between 1588 and 1593, appeared in three quarto editions from 1594 to 1601 with no named author. It was first published under William Shakespeare's name in the 1623 Fi\n",
      "Debug: No valid year found in matches for Titus Andronicus by Shakespeare, William: ['19', '19', '20', '20', '20', '20', '20']\n",
      "Debug: Text extracted for What We Talk About When We Talk About Rape by Abdulali, Sohaila:\n",
      "What We Talk About When We Talk About Rape Abdulali, Sohaila published in what year - Google Search×Please click here if you are not redirected within a few seconds.    AllNewsBooksImages Maps Videos Shopping Search tools    Any timeAny timePast hourPast 24 hoursPast weekPast monthPast yearAll resultsAll resultsVerbatimWhat We Talk About When We Talk About Rape / Originally publishedOctober 25, 2018What We Talk About When We Talk About Rape | The New Pressthenewpress.com › books › what-we-talk-a\n",
      "Debug: No valid year found in matches for What We Talk About When We Talk About Rape by Abdulali, Sohaila: ['20', '20', '19', '20']\n"
     ]
    },
    {
     "name": "stderr",
     "output_type": "stream",
     "text": [
      "\r",
      "Processing books:  11%|██▌                   | 154/1346 [00:35<05:16,  3.77it/s]"
     ]
    },
    {
     "name": "stdout",
     "output_type": "stream",
     "text": [
      "Debug: Text extracted for The Other Side by Johnson, Lacy M.:\n",
      "The Other Side Johnson, Lacy M. published in what year - Google Search×Please click here if you are not redirected within a few seconds.    AllImagesNewsShopping Maps Videos Books Search tools    Any timeAny timePast hourPast 24 hoursPast weekPast monthPast yearAll resultsAll resultsVerbatimThe Other Side : A memoir / Originally publishedJuly 15, 2014The Other Side : A memoirBook by Lacy M. Johnson4/5 · Goodreads\n",
      "Lacy Johnson's rich and poetic memoir, The Other Side, chronicles her brutal kidnap\n",
      "Debug: No valid year found in matches for The Other Side by Johnson, Lacy M.: ['20', '20', '20', '20', '20', '20']\n",
      "Debug: Text extracted for The Reckonings by Johnson, Lacy M.:\n",
      "The Reckonings Johnson, Lacy M. published in what year - Google Search×Please click here if you are not redirected within a few seconds.    AllNewsImagesBooks Maps Videos Shopping Search tools    Any timeAny timePast hourPast 24 hoursPast weekPast monthPast yearAll resultsAll resultsVerbatimThe Reckonings: Essays / Originally publishedOctober 9, 2018The Reckonings: EssaysBook by Lacy M. Johnson4.3/5 · Goodreads\n",
      "“Unflinching and honest…both timely and timeless” (Houston Chronicle), this extraordi\n",
      "Debug: No valid year found in matches for The Reckonings by Johnson, Lacy M.: ['20', '20', '20', '20', '20', '20', '20', '20', '20', '20', '20']\n",
      "Debug: Text extracted for Under My Skin by Lessing, Doris:\n",
      "Under My Skin Lessing, Doris published in what year - Google Search×Please click here if you are not redirected within a few seconds.    AllBooksImagesShopping Maps Videos News Search tools    Any timeAny timePast hourPast 24 hoursPast weekPast monthPast yearAll resultsAll resultsVerbatimUnder My Skin / Originally published1994Under My SkinBook by Doris Lessing4.1/5 · Goodreads\n",
      "5/5 · ThriftBooks\n",
      "Under My Skin: Volume One of My Autobiography, to 1949 was the first volume of Doris Lessing's autobi\n",
      "Debug: No valid year found in matches for Under My Skin by Lessing, Doris: ['19', '19', '19', '19', '20', '19', '19', '19', '19', '20', '19', '19', '19', '19', '19', '19', '19']\n"
     ]
    },
    {
     "name": "stderr",
     "output_type": "stream",
     "text": [
      "Processing books:  12%|██▌                   | 156/1346 [00:35<04:17,  4.62it/s]"
     ]
    },
    {
     "name": "stdout",
     "output_type": "stream",
     "text": [
      "Debug: Text extracted for The Evil Hours: A Biography of Post Traumatic Stress Disorder by Morris, David J.:\n",
      "The Evil Hours: A Biography of Post Traumatic Stress Disorder Morris, David J. published in what year - Google Search×Please click here if you are not redirected within a few seconds.    AllBooksNewsImages Maps Videos Shopping Search tools    Any timeAny timePast hourPast 24 hoursPast weekPast monthPast yearAll resultsAll resultsVerbatimThe Evil Hours: A Biography of Post-Traumatic Stress Disorder / Originally publishedJanuary 20, 2015The Evil Hours: A Biography of Post-traumatic Stress Disorder\n",
      "Debug: No valid year found in matches for The Evil Hours: A Biography of Post Traumatic Stress Disorder by Morris, David J.: ['20', '19', '20', '20', '20', '20', '20']\n",
      "Debug: Text extracted for What We Talk About When We Talk About Rape by Abdulali, Sohaila:\n",
      "What We Talk About When We Talk About Rape Abdulali, Sohaila published in what year - Google Search×Please click here if you are not redirected within a few seconds.    AllNewsBooksImages Maps Videos Shopping Search tools    Any timeAny timePast hourPast 24 hoursPast weekPast monthPast yearAll resultsAll resultsVerbatimWhat We Talk About When We Talk About Rape / Originally publishedOctober 25, 2018What We Talk About When We Talk About Rape | The New Pressthenewpress.com › books › what-we-talk-a\n",
      "Debug: No valid year found in matches for What We Talk About When We Talk About Rape by Abdulali, Sohaila: ['20', '20', '19', '20', '20']\n",
      "Debug: Text extracted for Hunger by Gay, Roxane:\n",
      "Hunger Gay, Roxane published in what year - Google Search×Please click here if you are not redirected within a few seconds.    AllImagesNewsBooks Maps Videos Shopping Search tools    Any timeAny timePast hourPast 24 hoursPast weekPast monthPast yearAll resultsAll resultsVerbatimHunger: A Memoir of (My) Body is a 2017 memoir by Roxane Gay, published on June 13, 2017, by HarperCollins in New York, New York.Hunger: A Memoir of (My) Body - Wikipediaen.wikipedia.org › wiki › Hunger:_A_Memoir_of_(My)_\n",
      "Debug: No valid year found in matches for Hunger by Gay, Roxane: ['20', '20', '20', '20', '20', '20', '20', '19', '20', '20', '20', '20', '20', '20', '20']\n"
     ]
    },
    {
     "name": "stderr",
     "output_type": "stream",
     "text": [
      "Processing books:  12%|██▌                   | 158/1346 [00:35<03:28,  5.69it/s]"
     ]
    },
    {
     "name": "stdout",
     "output_type": "stream",
     "text": [
      "Debug: Text extracted for Titus Andronicus by Shakespeare, William:\n",
      "Titus Andronicus Shakespeare, William published in what year - Google Search×Please click here if you are not redirected within a few seconds.    AllImagesNewsShopping Maps Videos Books Search tools    Any timeAny timePast hourPast 24 hoursPast weekPast monthPast yearAll resultsAll resultsVerbatimTitus Andronicus, probably written between 1588 and 1593, appeared in three quarto editions from 1594 to 1601 with no named author. It was first published under William Shakespeare's name in the 1623 Fi\n",
      "Debug: No valid year found in matches for Titus Andronicus by Shakespeare, William: ['19', '19', '20', '20', '20', '20', '20']\n",
      "Debug: Text extracted for Hope in the Dark by Solnit, Rebecca:\n",
      "Hope in the Dark Solnit, Rebecca published in what year - Google Search×Please click here if you are not redirected within a few seconds.    AllImagesBooksNews Maps Videos Shopping Search tools    Any timeAny timePast hourPast 24 hoursPast weekPast monthPast yearAll resultsAll resultsVerbatimHope in the Dark | HaymarketBooks.orgwww.haymarketbooks.org › books › 791-hope-in-the-dark$9.59A book as powerful and influential as Rebecca Solnit's Men Explain Things to Me, her Hope in the Dark was writte\n",
      "Debug: No valid year found in matches for Hope in the Dark by Solnit, Rebecca: ['20', '20', '20', '20', '20', '20']\n",
      "Debug: Text extracted for Lord of the Flies by Golding, William:\n",
      "Lord of the Flies Golding, William published in what year - Google Search×Please click here if you are not redirected within a few seconds.    AllImagesNewsBooks Maps Videos Shopping Search tools    Any timeAny timePast hourPast 24 hoursPast weekPast monthPast yearAll resultsAll resultsVerbatimLord of the Flies, novel by William Golding, published in 1954.May 28, 2024Lord of the Flies | Symbolism, Allegory, Allegorical Novel | Britannicawww.britannica.com › Literature › Novels & Short StoriesAbo\n",
      "Debug: No valid year found in matches for Lord of the Flies by Golding, William: ['19', '19', '19', '19', '19', '19', '19', '19', '19', '19', '19', '19', '19']\n",
      "Debug: Text extracted for On Violence and On Violence Against Women by Rose, Jacqueline:\n",
      "On Violence and On Violence Against Women Rose, Jacqueline published in what year - Google Search×Please click here if you are not redirected within a few seconds.    AllBooksNewsShopping Images Maps Videos Search tools    Any timeAny timePast hourPast 24 hoursPast weekPast monthPast yearAll resultsAll resultsVerbatimOn Violence and On Violence Against Women / Originally published2021On Violence and On Violence Against Women - Amazon.comwww.amazon.com › Violence-Against-WomenRating  4.4  (41)  J\n",
      "Debug: No valid year found in matches for On Violence and On Violence Against Women by Rose, Jacqueline: ['20', '20', '20', '20']\n"
     ]
    },
    {
     "name": "stderr",
     "output_type": "stream",
     "text": [
      "\r",
      "Processing books:  12%|██▌                   | 159/1346 [00:36<03:43,  5.32it/s]"
     ]
    },
    {
     "name": "stdout",
     "output_type": "stream",
     "text": [
      "Debug: Text extracted for Nightwood by Barnes, Djuna:\n",
      "Nightwood Barnes, Djuna published in what year - Google Search×Please click here if you are not redirected within a few seconds.    AllImagesBooksNews Maps Videos Shopping Search tools    Any timeAny timePast hourPast 24 hoursPast weekPast monthPast yearAll resultsAll resultsVerbatimNightwood / Originally published1936NightwoodNovel by Djuna Barnes3.6/5 · Goodreads\n",
      "Nightwood is a 1936 novel by American author Djuna Barnes that was first published by publishing house Faber and Faber. It is one of\n",
      "Debug: No valid year found in matches for Nightwood by Barnes, Djuna: ['19', '19', '19', '19', '19', '19', '19', '19', '20', '19', '19', '20', '19', '19']\n",
      "Debug: Text extracted for The Other Side by Johnson, Lacy M.:\n",
      "The Other Side Johnson, Lacy M. published in what year - Google Search×Please click here if you are not redirected within a few seconds.    AllImagesNewsBooks Maps Videos Shopping Search tools    Any timeAny timePast hourPast 24 hoursPast weekPast monthPast yearAll resultsAll resultsVerbatimThe Other Side : A memoir / Originally publishedJuly 15, 2014The Other Side : A memoirBook by Lacy M. Johnson4/5 · Goodreads\n",
      "Lacy Johnson's rich and poetic memoir, The Other Side, chronicles her brutal kidnap\n",
      "Debug: No valid year found in matches for The Other Side by Johnson, Lacy M.: ['20', '20', '20', '20']\n",
      "Debug: Text extracted for Hunger by Gay, Roxane:\n",
      "Hunger Gay, Roxane published in what year - Google Search×Please click here if you are not redirected within a few seconds.    AllImagesNewsBooks Maps Videos Shopping Search tools    Any timeAny timePast hourPast 24 hoursPast weekPast monthPast yearAll resultsAll resultsVerbatimHunger: A Memoir of (My) Body is a 2017 memoir by Roxane Gay, published on June 13, 2017, by HarperCollins in New York, New York.Hunger: A Memoir of (My) Body - Wikipediaen.wikipedia.org › wiki › Hunger:_A_Memoir_of_(My)_\n",
      "Debug: No valid year found in matches for Hunger by Gay, Roxane: ['20', '20', '20', '20', '20', '20', '20', '19', '20', '20', '20', '20', '20']\n",
      "Debug: Text extracted for The Reckonings by Johnson, Lacy M.:\n",
      "The Reckonings Johnson, Lacy M. published in what year - Google Search×Please click here if you are not redirected within a few seconds.    AllNewsShoppingImages Maps Videos Books Search tools    Any timeAny timePast hourPast 24 hoursPast weekPast monthPast yearAll resultsAll resultsVerbatimThe Reckonings: Essays / Originally publishedOctober 9, 2018The Reckonings: EssaysBook by Lacy M. Johnson4.3/5 · Goodreads\n",
      "“Unflinching and honest…both timely and timeless” (Houston Chronicle), this extraordi\n",
      "Debug: No valid year found in matches for The Reckonings by Johnson, Lacy M.: ['20', '20', '20', '20', '20', '20', '20', '20', '20', '20', '20']\n",
      "Debug: Text extracted for Oedipus Rex by Sophocles:\n",
      "Oedipus Rex Sophocles published in what year - Google Search×Please click here if you are not redirected within a few seconds.    AllImagesShoppingVideos Maps News Books Search tools    Any timeAny timePast hourPast 24 hoursPast weekPast monthPast yearAll resultsAll resultsVerbatimSophocles, one of the most noted playwrights of the ancient world, wrote the tragedy Oedipus Rex in the first half of the decade 430–420 bc.The Plague of Thebes, a Historical Epidemic in Sophocles' Oedipus ...www.ncbi.\n",
      "Debug: No valid year found in matches for Oedipus Rex by Sophocles: ['19', '19', '20', '20', '20', '20', '20', '19', '20']\n",
      "Debug: Text extracted for Tender is the Night by Fitzgerald, F. Scott:\n",
      "Tender is the Night Fitzgerald, F. Scott published in what year - Google Search×Please click here if you are not redirected within a few seconds.    AllImagesBooksShopping Maps Videos News Search tools    Any timeAny timePast hourPast 24 hoursPast weekPast monthPast yearAll resultsAll resultsVerbatimFitzgerald completed the work in fall 1933, and Scribner's Magazine serialized the novel in four installments between January and April 1934 before its publication on April 12, 1934.Tender Is the Nig\n",
      "Debug: No valid year found in matches for Tender is the Night by Fitzgerald, F. Scott: ['19', '19', '19', '19', '19', '19', '19', '19', '19', '19', '19', '20', '19', '19']\n",
      "Debug: Text extracted for Hope in the Dark by Solnit, Rebecca:\n",
      "Hope in the Dark Solnit, Rebecca published in what year - Google Search×Please click here if you are not redirected within a few seconds.    AllImagesBooksNews Maps Videos Shopping Search tools    Any timeAny timePast hourPast 24 hoursPast weekPast monthPast yearAll resultsAll resultsVerbatimWhen the first edition of Hope in the Dark was published in mid-2004 it gained an instant cult audience. Many readers were so inspired by Solnit's book that they bought multiple copies to give to friends.Hop\n",
      "Debug: No valid year found in matches for Hope in the Dark by Solnit, Rebecca: ['20', '20', '20', '20', '20', '20', '20', '20', '20']\n"
     ]
    },
    {
     "name": "stderr",
     "output_type": "stream",
     "text": [
      "\r",
      "Processing books:  12%|██▌                   | 160/1346 [00:36<06:12,  3.18it/s]"
     ]
    },
    {
     "name": "stdout",
     "output_type": "stream",
     "text": [
      "Debug: Text extracted for Nightwood by Barnes, Djuna:\n",
      "Nightwood Barnes, Djuna published in what year - Google Search×Please click here if you are not redirected within a few seconds.    AllImagesShoppingBooks Maps Videos News Search tools    Any timeAny timePast hourPast 24 hoursPast weekPast monthPast yearAll resultsAll resultsVerbatimNightwood is a 1936 novel by American author Djuna Barnes that was first published by publishing house Faber and Faber. It is one of the early prominent novels to portray explicit homosexuality between women, and as \n",
      "Debug: No valid year found in matches for Nightwood by Barnes, Djuna: ['19', '19', '19', '19', '19', '19', '19', '19', '19', '20', '19', '19']\n",
      "Debug: Text extracted for The Metamorphoses by Ovid:\n",
      "The Metamorphoses Ovid published in what year - Google Search×Please click here if you are not redirected within a few seconds.    AllBooksImagesVideos Maps News Shopping Search tools    Any timeAny timePast hourPast 24 hoursPast weekPast monthPast yearAll resultsAll resultsVerbatimMetamorphoses, poem in 15 books, written in Latin about 8 ce by Ovid. It is written in hexameter verse.Metamorphoses | Summary, Poet, & Facts - Britannicawww.britannica.com › Literature › PoetryAbout Featured Snippets\n",
      "Debug: No valid year found in matches for The Metamorphoses by Ovid: ['20', '20']\n",
      "Debug: Text extracted for Lamia, Isabella, The Eve of St Agnes, and Other Poems by Keats, John:\n",
      "Lamia, Isabella, The Eve of St Agnes, and Other Poems Keats, John published in what year - Google Search×Please click here if you are not redirected within a few seconds.    AllImagesShoppingNews Maps Videos Books Search tools    Any timeAny timePast hourPast 24 hoursPast weekPast monthPast yearAll resultsAll resultsVerbatimLamia, Isabella, the Eve of St.Agnes and Other Poems / Originally published1820Lamia, Isabella, the Eve of St.Agnes and Other PoemsBook by John Keats4/5 · Goodreads\n",
      " This wor\n",
      "Debug: No valid year found in matches for Lamia, Isabella, The Eve of St Agnes, and Other Poems by Keats, John: ['20']\n",
      "Debug: Text extracted for Lord of the Flies by Golding, William:\n",
      "Lord of the Flies Golding, William published in what year - Google Search×Please click here if you are not redirected within a few seconds.    AllImagesNewsBooks Maps Videos Shopping Search tools    Any timeAny timePast hourPast 24 hoursPast weekPast monthPast yearAll resultsAll resultsVerbatimLord of the Flies / Originally publishedSeptember 17, 1954Lord of the FliesNovel by William Golding3.7/5 · Goodreads\n",
      "Lord of the Flies is the 1954 debut novel of British author William Golding. The plot co\n",
      "Debug: No valid year found in matches for Lord of the Flies by Golding, William: ['19', '19', '19', '19', '19', '19', '19', '19', '19', '19', '19', '19', '19']\n"
     ]
    },
    {
     "name": "stderr",
     "output_type": "stream",
     "text": [
      "Processing books:  12%|██▋                   | 163/1346 [00:37<03:22,  5.85it/s]"
     ]
    },
    {
     "name": "stdout",
     "output_type": "stream",
     "text": [
      "Debug: Text extracted for Hope in the Dark by Solnit, Rebecca:\n",
      "Hope in the Dark Solnit, Rebecca published in what year - Google Search×Please click here if you are not redirected within a few seconds.    AllShoppingImagesBooks Maps Videos News Search tools    Any timeAny timePast hourPast 24 hoursPast weekPast monthPast yearAll resultsAll resultsVerbatimWhen the first edition of Hope in the Dark was published in mid-2004 it gained an instant cult audience. Many readers were so inspired by Solnit's book that they bought multiple copies to give to friends.Hop\n",
      "Debug: No valid year found in matches for Hope in the Dark by Solnit, Rebecca: ['20', '20', '20', '20', '20', '20', '20', '20', '20']\n",
      "Debug: Text extracted for Tender is the Night by Fitzgerald, F. Scott:\n",
      "Tender is the Night Fitzgerald, F. Scott published in what year - Google Search×Please click here if you are not redirected within a few seconds.    AllImagesBooksShopping Maps Videos News Search tools    Any timeAny timePast hourPast 24 hoursPast weekPast monthPast yearAll resultsAll resultsVerbatimFitzgerald completed the work in fall 1933, and Scribner's Magazine serialized the novel in four installments between January and April 1934 before its publication on April 12, 1934.Tender Is the Nig\n",
      "Debug: No valid year found in matches for Tender is the Night by Fitzgerald, F. Scott: ['19', '19', '19', '19', '19', '19', '19', '19', '19', '19', '19', '20', '19', '19']\n",
      "Debug: Text extracted for The Cat and the Moon and Certain Poems by Yates, W.B.:\n",
      "The Cat and the Moon and Certain Poems Yates, W.B. published in what year - Google Search×Please click here if you are not redirected within a few seconds.    AllImagesBooksShopping Maps Videos News Search tools    Any timeAny timePast hourPast 24 hoursPast weekPast monthPast yearAll resultsAll resultsVerbatimDid you mean: The Cat and the Moon and Certain Poems Yeats, W.B. published in what yearThe Cat and the Moon and Certain Poems / Originally published1924People also askWhat is the meaning of\n",
      "Debug: No valid year found in matches for The Cat and the Moon and Certain Poems by Yates, W.B.: ['19', '19', '19', '20', '19', '19', '19', '19', '19', '20', '19', '19', '19', '19']\n",
      "Debug: Text extracted for The Reckonings by Johnson, Lacy M.:\n",
      "The Reckonings Johnson, Lacy M. published in what year - Google Search×Please click here if you are not redirected within a few seconds.    AllNewsImagesBooks Maps Videos Shopping Search tools    Any timeAny timePast hourPast 24 hoursPast weekPast monthPast yearAll resultsAll resultsVerbatimThe Reckonings: Essays / Originally publishedOctober 9, 2018The Reckonings | Book by Lacy M. Johnson - Simon & Schusterwww.simonandschuster.com › books › The-Reckonings › Lacy-M-Johnson$18.99“Unflinching and \n",
      "Debug: No valid year found in matches for The Reckonings by Johnson, Lacy M.: ['20', '20', '20', '20', '20', '20', '20', '20', '20', '20', '20']\n",
      "Debug: Text extracted for The Other Side by Johnson, Lacy M.:\n",
      "The Other Side Johnson, Lacy M. published in what year - Google Search×Please click here if you are not redirected within a few seconds.    AllImagesNewsBooks Maps Videos Shopping Search tools    Any timeAny timePast hourPast 24 hoursPast weekPast monthPast yearAll resultsAll resultsVerbatimThe Other Side : A memoir / Originally publishedJuly 15, 2014The Other Side : A memoirBook by Lacy M. Johnson4/5 · Goodreads\n",
      "Lacy Johnson's rich and poetic memoir, The Other Side, chronicles her brutal kidnap\n",
      "Debug: No valid year found in matches for The Other Side by Johnson, Lacy M.: ['20', '20', '20', '20', '20']\n",
      "Debug: Text extracted for Oedipus Rex by Sophocles:\n",
      "Oedipus Rex Sophocles published in what year - Google Search×Please click here if you are not redirected within a few seconds.    AllImagesVideosBooks Maps News Shopping Search tools    Any timeAny timePast hourPast 24 hoursPast weekPast monthPast yearAll resultsAll resultsVerbatimLesson Summary. Oedipus Rex was written by Sophocles during the 5th century BCE, also known as the Golden Age of Ancient Greece. When the play was written and performed in 429 BCE, Greece was at its highest point of cr\n",
      "Debug: No valid year found in matches for Oedipus Rex by Sophocles: ['19', '19', '20', '20', '20', '20', '20', '19', '20']\n"
     ]
    },
    {
     "name": "stderr",
     "output_type": "stream",
     "text": [
      "\r",
      "Processing books:  12%|██▋                   | 164/1346 [00:37<03:48,  5.18it/s]"
     ]
    },
    {
     "name": "stdout",
     "output_type": "stream",
     "text": [
      "Debug: Text extracted for Nightwood by Barnes, Djuna:\n",
      "Nightwood Barnes, Djuna published in what year - Google Search×Please click here if you are not redirected within a few seconds.    AllImagesBooksNews Maps Videos Shopping Search tools    Any timeAny timePast hourPast 24 hoursPast weekPast monthPast yearAll resultsAll resultsVerbatimNightwood is a 1936 novel by American author Djuna Barnes that was first published by publishing house Faber and Faber. It is one of the early prominent novels to portray explicit homosexuality between women, and as \n",
      "Debug: No valid year found in matches for Nightwood by Barnes, Djuna: ['19', '19', '19', '19', '19', '19', '19', '19', '19', '20', '19', '19', '20', '19', '19']\n",
      "Debug: Text extracted for The Metamorphoses by Ovid:\n",
      "The Metamorphoses Ovid published in what year - Google Search×Please click here if you are not redirected within a few seconds.    AllBooksImagesShopping Maps Videos News Search tools    Any timeAny timePast hourPast 24 hoursPast weekPast monthPast yearAll resultsAll resultsVerbatimMetamorphoses, poem in 15 books, written in Latin about 8 ce by Ovid. It is written in hexameter verse.Metamorphoses | Summary, Poet, & Facts - Britannicawww.britannica.com › Literature › PoetryAbout Featured Snippets\n",
      "Debug: No valid year found in matches for The Metamorphoses by Ovid: ['20', '20']\n",
      "Debug: Text extracted for Lamia, Isabella, The Eve of St Agnes, and Other Poems by Keats, John:\n",
      "Lamia, Isabella, The Eve of St Agnes, and Other Poems Keats, John published in what year - Google Search×Please click here if you are not redirected within a few seconds.    AllImagesShoppingNews Maps Videos Books Search tools    Any timeAny timePast hourPast 24 hoursPast weekPast monthPast yearAll resultsAll resultsVerbatimLamia, Isabella, the Eve of St.Agnes and Other Poems / Originally published1820Lamia, Isabella, the Eve of St.Agnes and Other PoemsBook by John Keats4/5 · Goodreads\n",
      " This wor\n",
      "Debug: No valid year found in matches for Lamia, Isabella, The Eve of St Agnes, and Other Poems by Keats, John: ['20']\n"
     ]
    },
    {
     "name": "stderr",
     "output_type": "stream",
     "text": [
      "\r",
      "Processing books:  12%|██▋                   | 165/1346 [00:37<05:04,  3.88it/s]"
     ]
    },
    {
     "name": "stdout",
     "output_type": "stream",
     "text": [
      "Debug: Text extracted for A Midsummer NIght's Dream by Shakespeare, William:\n",
      "A Midsummer NIght's Dream Shakespeare, William published in what year - Google Search×Please click here if you are not redirected within a few seconds.    AllImagesShoppingNews Maps Videos Books Search tools    Any timeAny timePast hourPast 24 hoursPast weekPast monthPast yearAll resultsAll resultsVerbatimIt was likely written between 1594 and 1596, around the same time Shakespeare was working on Romeo and Juliet and Richard II. The play was published in 1600 and again in 1619 after Shakespeare'\n",
      "Debug: No valid year found in matches for A Midsummer NIght's Dream by Shakespeare, William: ['19', '19', '20', '19', '20', '20', '19', '20']\n",
      "Debug: Text extracted for The White Goddess by Graves, Robert:\n",
      "The White Goddess Graves, Robert published in what year - Google Search×Please click here if you are not redirected within a few seconds.    AllImagesBooksNews Maps Videos Shopping Search tools    Any timeAny timePast hourPast 24 hoursPast weekPast monthPast yearAll resultsAll resultsVerbatimThe White Goddess, scholarly work by Robert Graves, published in 1948 and revised in 1952 and 1961. Graves's controversial and unorthodox theories of mythology, part invention and part based on his research \n",
      "Debug: No valid year found in matches for The White Goddess by Graves, Robert: ['19', '19', '19', '19', '20', '20', '19', '19', '19']\n",
      "Debug: Text extracted for The Simple Truth by Levine, Philip:\n",
      "The Simple Truth Levine, Philip published in what year - Google Search×Please click here if you are not redirected within a few seconds.    AllImagesNewsBooks Maps Videos Shopping Search tools    Any timeAny timePast hourPast 24 hoursPast weekPast monthPast yearAll resultsAll resultsVerbatimThe Simple Truth / Originally published1993The Simple Truth, by Philip Levine (Alfred A. Knopf)www.pulitzer.org › winners › philip-levinePhilip Levine's last book of poems, What Work Is, received the National\n",
      "Debug: No valid year found in matches for The Simple Truth by Levine, Philip: ['19', '19', '19', '19', '19', '19', '20', '19', '19', '19', '20', '20', '19', '20', '19', '19', '19', '19']\n",
      "Debug: Text extracted for The Cat and the Moon and Certain Poems by Yates, W.B.:\n",
      "The Cat and the Moon and Certain Poems Yates, W.B. published in what year - Google Search×Please click here if you are not redirected within a few seconds.    AllImagesBooksShopping Maps Videos News Search tools    Any timeAny timePast hourPast 24 hoursPast weekPast monthPast yearAll resultsAll resultsVerbatimDid you mean: The Cat and the Moon and Certain Poems Yeats, W.B. published in what yearThe Cat and the Moon and Certain Poems / Originally published1924Cat and the Moon and Certain Poems, 1\n",
      "Debug: No valid year found in matches for The Cat and the Moon and Certain Poems by Yates, W.B.: ['19', '19', '19', '19', '20', '19', '19', '19', '20', '19', '19', '19', '19', '19']\n",
      "Debug: Text extracted for Tender is the Night by Fitzgerald, F. Scott:\n",
      "Tender is the Night Fitzgerald, F. Scott published in what year - Google Search×Please click here if you are not redirected within a few seconds.    AllImagesBooksShopping Maps Videos News Search tools    Any timeAny timePast hourPast 24 hoursPast weekPast monthPast yearAll resultsAll resultsVerbatimFitzgerald completed the work in fall 1933, and Scribner's Magazine serialized the novel in four installments between January and April 1934 before its publication on April 12, 1934.Tender Is the Nig\n",
      "Debug: No valid year found in matches for Tender is the Night by Fitzgerald, F. Scott: ['19', '19', '19', '19', '19', '19', '19', '19', '19', '20', '19', '19', '19', '19']\n",
      "Debug: Text extracted for Oedipus Rex by Sophocles:\n",
      "Oedipus Rex Sophocles published in what year - Google Search×Please click here if you are not redirected within a few seconds.    AllImagesShoppingVideos Maps News Books Search tools    Any timeAny timePast hourPast 24 hoursPast weekPast monthPast yearAll resultsAll resultsVerbatimSophocles, one of the most noted playwrights of the ancient world, wrote the tragedy Oedipus Rex in the first half of the decade 430–420 bc.The Plague of Thebes, a Historical Epidemic in Sophocles' Oedipus ...www.ncbi.\n",
      "Debug: No valid year found in matches for Oedipus Rex by Sophocles: ['19', '19', '20', '20', '20', '20', '20', '19', '20']\n",
      "Debug: Text extracted for The Book of Laughter and Forgetting by Kundera, Milan:\n",
      "The Book of Laughter and Forgetting Kundera, Milan published in what year - Google Search×Please click here if you are not redirected within a few seconds.    AllBooksNewsShopping Images Maps Videos Search tools    Any timeAny timePast hourPast 24 hoursPast weekPast monthPast yearAll resultsAll resultsVerbatimThe Book of Laughter and ForgettingNovel by Milan Kundera4/5 · Goodreads\n",
      "The Book of Laughter and Forgetting is a novel by Milan Kundera, published in France in 1979. It is composed of seve\n",
      "Debug: No valid year found in matches for The Book of Laughter and Forgetting by Kundera, Milan: ['19', '19', '19', '19', '20', '19', '19', '19', '19']\n",
      "Debug: Text extracted for Labyrinths by Borges, Jorge Luis:\n",
      "Labyrinths Borges, Jorge Luis published in what year - Google Search×Please click here if you are not redirected within a few seconds.    AllImagesBooksNews Maps Videos Shopping Search tools    Any timeAny timePast hourPast 24 hoursPast weekPast monthPast yearAll resultsAll resultsVerbatimLabyrinths (1962, 1964, 1970, 1983) is a collection of short stories and essays by Argentine writer and poet Jorge Luis Borges. It was translated into English, published soon after Borges won the International \n",
      "Debug: No valid year found in matches for Labyrinths by Borges, Jorge Luis: ['19', '19', '19', '19', '20', '19', '19', '20', '19', '19', '19', '19', '20', '19', '19', '20', '19']\n"
     ]
    },
    {
     "name": "stderr",
     "output_type": "stream",
     "text": [
      "\r",
      "Processing books:  12%|██▋                   | 167/1346 [00:38<04:20,  4.53it/s]"
     ]
    },
    {
     "name": "stdout",
     "output_type": "stream",
     "text": [
      "Debug: Text extracted for The Metamorphoses by Ovid:\n",
      "The Metamorphoses Ovid published in what year - Google Search×Please click here if you are not redirected within a few seconds.    AllBooksImagesShopping Maps Videos News Search tools    Any timeAny timePast hourPast 24 hoursPast weekPast monthPast yearAll resultsAll resultsVerbatimMetamorphoses, poem in 15 books, written in Latin about 8 ce by Ovid. It is written in hexameter verse.Metamorphoses | Summary, Poet, & Facts - Britannicawww.britannica.com › Literature › PoetryAbout Featured Snippets\n",
      "Debug: No valid year found in matches for The Metamorphoses by Ovid: ['20', '20']\n",
      "Debug: Text extracted for Lamia, Isabella, The Eve of St Agnes, and Other Poems by Keats, John:\n",
      "Lamia, Isabella, The Eve of St Agnes, and Other Poems Keats, John published in what year - Google Search×Please click here if you are not redirected within a few seconds.    AllImagesShoppingNews Maps Videos Books Search tools    Any timeAny timePast hourPast 24 hoursPast weekPast monthPast yearAll resultsAll resultsVerbatimLamia, Isabella, the Eve of St.Agnes and Other Poems / Originally published1820Lamia, Isabella, the Eve of St.Agnes and Other PoemsBook by John Keats4/5 · Goodreads\n",
      " This wor\n",
      "Debug: No valid year found in matches for Lamia, Isabella, The Eve of St Agnes, and Other Poems by Keats, John: ['20']\n",
      "Debug: Text extracted for The Simple Truth by Levine, Philip:\n",
      "The Simple Truth Levine, Philip published in what year - Google Search×Please click here if you are not redirected within a few seconds.    AllImagesNewsBooks Maps Videos Shopping Search tools    Any timeAny timePast hourPast 24 hoursPast weekPast monthPast yearAll resultsAll resultsVerbatimThe Simple Truth / Originally published1993People also askWhen was Philip Levine poet Laureate?Who was the first person to write poetry?The Simple Truth, by Philip Levine (Alfred A. Knopf)www.pulitzer.org › w\n",
      "Debug: No valid year found in matches for The Simple Truth by Levine, Philip: ['19', '19', '19', '19', '19', '20', '19', '19', '19', '19', '20', '20', '19', '20', '19', '19', '19', '20', '20']\n"
     ]
    },
    {
     "name": "stderr",
     "output_type": "stream",
     "text": [
      "\r",
      "Processing books:  13%|██▊                   | 169/1346 [00:38<03:36,  5.44it/s]"
     ]
    },
    {
     "name": "stdout",
     "output_type": "stream",
     "text": [
      "Debug: Text extracted for The Cat and the Moon and Certain Poems by Yates, W.B.:\n",
      "The Cat and the Moon and Certain Poems Yates, W.B. published in what year - Google Search×Please click here if you are not redirected within a few seconds.    AllImagesBooksShopping Maps Videos News Search tools    Any timeAny timePast hourPast 24 hoursPast weekPast monthPast yearAll resultsAll resultsVerbatimDid you mean: The Cat and the Moon and Certain Poems Yeats, W.B. published in what yearThe Cat and the Moon and Certain Poems / Originally published1924People also askWhat is the meaning of\n",
      "Debug: No valid year found in matches for The Cat and the Moon and Certain Poems by Yates, W.B.: ['19', '19', '19', '20', '19', '19', '19', '20', '19', '19', '19', '19', '19', '19']\n",
      "Debug: Text extracted for A Midsummer NIght's Dream by Shakespeare, William:\n",
      "A Midsummer NIght's Dream Shakespeare, William published in what year - Google Search×Please click here if you are not redirected within a few seconds.    AllImagesShoppingNews Maps Videos Books Search tools    Any timeAny timePast hourPast 24 hoursPast weekPast monthPast yearAll resultsAll resultsVerbatimIt was likely written between 1594 and 1596, around the same time Shakespeare was working on Romeo and Juliet and Richard II. The play was published in 1600 and again in 1619 after Shakespeare'\n",
      "Debug: No valid year found in matches for A Midsummer NIght's Dream by Shakespeare, William: ['19', '19', '20', '19', '20', '20', '20', '19']\n",
      "Debug: Text extracted for The Painted Bird by Kosinski, Jerzy:\n",
      "The Painted Bird Kosinski, Jerzy published in what year - Google Search×Please click here if you are not redirected within a few seconds.    AllImagesBooksNews Maps Videos Shopping Search tools    Any timeAny timePast hourPast 24 hoursPast weekPast monthPast yearAll resultsAll resultsVerbatimOriginally published in 1965, The Painted Bird established Jerzy Kosinski as a major literary figure. Called by the Los Angeles Times “one of the most imposing novels of the decade,” it was eventually transl\n",
      "Debug: No valid year found in matches for The Painted Bird by Kosinski, Jerzy: ['19', '19', '19', '19', '19', '19', '19', '19', '20', '20', '19', '19', '19', '19', '19', '19']\n",
      "Debug: Text extracted for The Book of Laughter and Forgetting by Kundera, Milan:\n",
      "The Book of Laughter and Forgetting Kundera, Milan published in what year - Google Search×Please click here if you are not redirected within a few seconds.    AllBooksNewsImages Maps Videos Shopping Search tools    Any timeAny timePast hourPast 24 hoursPast weekPast monthPast yearAll resultsAll resultsVerbatimThe Book of Laughter and ForgettingNovel by Milan Kundera4/5 · Goodreads\n",
      "The Book of Laughter and Forgetting is a novel by Milan Kundera, published in France in 1979. It is composed of seve\n",
      "Debug: No valid year found in matches for The Book of Laughter and Forgetting by Kundera, Milan: ['19', '19', '19', '19', '20', '19', '19', '19', '19']\n",
      "Debug: Text extracted for The White Goddess by Graves, Robert:\n",
      "The White Goddess Graves, Robert published in what year - Google Search×Please click here if you are not redirected within a few seconds.    AllImagesBooksNews Maps Videos Shopping Search tools    Any timeAny timePast hourPast 24 hoursPast weekPast monthPast yearAll resultsAll resultsVerbatimThe White Goddess / Originally published1948The White GoddessBook by Robert Graves4/5 · Goodreads\n",
      "The White Goddess: a Historical Grammar of Poetic Myth is a book-length essay on the nature of poetic myth-ma\n",
      "Debug: No valid year found in matches for The White Goddess by Graves, Robert: ['19', '19', '19', '19', '19']\n",
      "Debug: Text extracted for The Diary of Anne Frank by Frank, Anne:\n",
      "The Diary of Anne Frank Frank, Anne published in what year - Google Search×Please click here if you are not redirected within a few seconds.    AllImagesBooksNews Maps Videos Shopping Search tools    Any timeAny timePast hourPast 24 hoursPast weekPast monthPast yearAll resultsAll resultsVerbatimThe book was published in 1947, just over five years after Anne's thirteenth birthday, the day she had received her diary. She had come up with the title of the book herself: Het Achterhuis (The Secret An\n",
      "Debug: No valid year found in matches for The Diary of Anne Frank by Frank, Anne: ['19', '19', '19', '19', '20', '19', '19', '19', '19', '20', '19']\n",
      "Debug: Text extracted for The Allegory of Love by Lewis, C.S.:\n",
      "The Allegory of Love Lewis, C.S. published in what year - Google Search×Please click here if you are not redirected within a few seconds.    AllImagesBooksVideos Maps News Shopping Search tools    Any timeAny timePast hourPast 24 hoursPast weekPast monthPast yearAll resultsAll resultsVerbatimThe Allegory of Love / Originally published1936The Allegory of LoveBook by C. S. Lewis4.1/5 · Goodreads\n",
      "The Allegory of Love: A Study in Medieval Tradition, by C. S. Lewis, is an exploration of the allegoric\n",
      "Debug: No valid year found in matches for The Allegory of Love by Lewis, C.S.: ['19', '19', '19', '19', '19', '19', '20', '20', '19']\n",
      "Debug: Text extracted for Labyrinths by Borges, Jorge Luis:\n",
      "Labyrinths Borges, Jorge Luis published in what year - Google Search×Please click here if you are not redirected within a few seconds.    AllImagesBooksNews Maps Videos Shopping Search tools    Any timeAny timePast hourPast 24 hoursPast weekPast monthPast yearAll resultsAll resultsVerbatimLabyrinths (1962, 1964, 1970, 1983) is a collection of short stories and essays by Argentine writer and poet Jorge Luis Borges.Labyrinths (short story collection) - Wikipediaen.wikipedia.org › wiki › Labyrinths\n",
      "Debug: No valid year found in matches for Labyrinths by Borges, Jorge Luis: ['19', '19', '19', '19', '20', '19', '20', '19', '19', '20', '19', '20', '19']\n",
      "Debug: Text extracted for The Prelude by Wordsworth, William:\n",
      "The Prelude Wordsworth, William published in what year - Google Search×Please click here if you are not redirected within a few seconds.    AllImagesNewsBooks Maps Videos Shopping Search tools    Any timeAny timePast hourPast 24 hoursPast weekPast monthPast yearAll resultsAll resultsVerbatimThe Prelude, autobiographical epic poem in blank verse by William Wordsworth, published posthumously in 1850. Originally planned as an introduction to another work, the poem is organized into 14 sections, or \n",
      "Debug: No year matches found for The Prelude by Wordsworth, William\n"
     ]
    },
    {
     "name": "stderr",
     "output_type": "stream",
     "text": [
      "\r",
      "Processing books:  13%|██▊                   | 170/1346 [00:38<05:14,  3.74it/s]"
     ]
    },
    {
     "name": "stdout",
     "output_type": "stream",
     "text": [
      "Debug: Text extracted for The Simple Truth by Levine, Philip:\n",
      "The Simple Truth Levine, Philip published in what year - Google Search×Please click here if you are not redirected within a few seconds.    AllShoppingImagesNews Maps Videos Books Search tools    Any timeAny timePast hourPast 24 hoursPast weekPast monthPast yearAll resultsAll resultsVerbatimThe Simple Truth / Originally published1993The Simple Truth, by Philip Levine (Alfred A. Knopf)www.pulitzer.org › winners › philip-levinePhilip Levine's last book of poems, What Work Is, received the National\n",
      "Debug: No valid year found in matches for The Simple Truth by Levine, Philip: ['19', '19', '19', '19', '19', '19', '20', '19', '19', '20', '20', '19', '20', '19', '19', '19', '19', '19']\n"
     ]
    },
    {
     "name": "stderr",
     "output_type": "stream",
     "text": [
      "\r",
      "Processing books:  13%|██▊                   | 171/1346 [00:39<06:07,  3.20it/s]"
     ]
    },
    {
     "name": "stdout",
     "output_type": "stream",
     "text": [
      "Debug: Text extracted for Moby-Dick by Melville, Herman:\n",
      "Moby-Dick Melville, Herman published in what year - Google Search×Please click here if you are not redirected within a few seconds.    AllShoppingImagesBooks Maps Videos News Search tools    Any timeAny timePast hourPast 24 hoursPast weekPast monthPast yearAll resultsAll resultsVerbatimWhat is Moby Dick? Moby Dick is a novel by Herman Melville, published in London in October 1851 as The Whale and a month later in New York City as Moby-Dick; or, The Whale. It is dedicated to Nathaniel Hawthorne. \n",
      "Debug: No valid year found in matches for Moby-Dick by Melville, Herman: ['20', '20', '20', '20']\n",
      "Debug: Text extracted for The Diary of Anne Frank by Frank, Anne:\n",
      "\n",
      "\n",
      "https://www.google.com/search?q=The%20Diary%20of%20Anne%20Frank%20Frank,%20Anne%20published%20in%20what%20year\n",
      "\n",
      "\n",
      "\n",
      "\n",
      "\n",
      "\n",
      "  In order to continue, please enable javascript on your web browser.\n",
      "\n",
      "\n",
      "\n",
      "\n",
      "\n",
      "\n",
      "\n",
      "\n",
      "\n",
      "About this page\n",
      "\n",
      "Our systems have detected unusual traffic from your computer network.  This page checks to see if it's really you sending the requests, and not a robot.  Why did this happen?\n",
      "\n",
      "This page appears when Google automatically detects requests coming from your computer network which appear t\n",
      "Debug: No valid year found in matches for The Diary of Anne Frank by Frank, Anne: ['20']\n",
      "Debug: Text extracted for A Midsummer NIght's Dream by Shakespeare, William:\n",
      "A Midsummer NIght's Dream Shakespeare, William published in what year - Google Search×Please click here if you are not redirected within a few seconds.    AllImagesShoppingNews Maps Videos Books Search tools    Any timeAny timePast hourPast 24 hoursPast weekPast monthPast yearAll resultsAll resultsVerbatimIt was likely written between 1594 and 1596, around the same time Shakespeare was working on Romeo and Juliet and Richard II. The play was published in 1600 and again in 1619 after Shakespeare'\n",
      "Debug: No valid year found in matches for A Midsummer NIght's Dream by Shakespeare, William: ['19', '19', '20', '19', '20', '20', '19', '20']\n"
     ]
    },
    {
     "name": "stderr",
     "output_type": "stream",
     "text": [
      "\r",
      "Processing books:  13%|██▊                   | 172/1346 [00:39<05:19,  3.68it/s]"
     ]
    },
    {
     "name": "stdout",
     "output_type": "stream",
     "text": [
      "Debug: Text extracted for The White Goddess by Graves, Robert:\n",
      "\n",
      "\n",
      "https://www.google.com/search?q=The%20White%20Goddess%20Graves,%20Robert%20published%20in%20what%20year\n",
      "\n",
      "\n",
      "\n",
      "\n",
      "\n",
      "\n",
      "  In order to continue, please enable javascript on your web browser.\n",
      "\n",
      "\n",
      "\n",
      "\n",
      "\n",
      "\n",
      "\n",
      "\n",
      "\n",
      "About this page\n",
      "\n",
      "Our systems have detected unusual traffic from your computer network.  This page checks to see if it's really you sending the requests, and not a robot.  Why did this happen?\n",
      "\n",
      "This page appears when Google automatically detects requests coming from your computer network which appear to be inDebug: Text extracted for The Allegory of Love by Lewis, C.S.:\n",
      "\n",
      "\n",
      "https://www.google.com/search?q=The%20Allegory%20of%20Love%20Lewis,%20C.S.%20published%20in%20what%20year\n",
      "\n",
      "\n",
      "\n",
      "\n",
      "\n",
      "\n",
      "  In order to continue, please enable javascript on your web browser.\n",
      "\n",
      "\n",
      "\n",
      "\n",
      "\n",
      "\n",
      "\n",
      "\n",
      "\n",
      "About this page\n",
      "\n",
      "Our systems have detected unusual traffic from your computer network.  This page checks to see if it's really you sending the requests, and not a robot.  Why did this happen?\n",
      "\n",
      "This page appears when Google automatically detects requests coming from your computer network which appear to be \n",
      "Debug: No valid year found in matches for The Allegory of Love by Lewis, C.S.: ['20']\n",
      "\n",
      "Debug: No valid year found in matches for The White Goddess by Graves, Robert: ['20']\n"
     ]
    },
    {
     "name": "stderr",
     "output_type": "stream",
     "text": [
      "\r",
      "Processing books:  13%|██▊                   | 173/1346 [00:39<05:22,  3.63it/s]"
     ]
    },
    {
     "name": "stdout",
     "output_type": "stream",
     "text": [
      "Debug: Text extracted for The Painted Bird by Kosinski, Jerzy:\n",
      "\n",
      "\n",
      "https://www.google.com/search?q=The%20Painted%20Bird%20Kosinski,%20Jerzy%20published%20in%20what%20year\n",
      "\n",
      "\n",
      "\n",
      "\n",
      "\n",
      "\n",
      "  In order to continue, please enable javascript on your web browser.\n",
      "\n",
      "\n",
      "\n",
      "\n",
      "\n",
      "\n",
      "\n",
      "\n",
      "\n",
      "About this page\n",
      "\n",
      "Our systems have detected unusual traffic from your computer network.  This page checks to see if it's really you sending the requests, and not a robot.  Why did this happen?\n",
      "\n",
      "This page appears when Google automatically detects requests coming from your computer network which appear to be in\n",
      "Debug: No valid year found in matches for The Painted Bird by Kosinski, Jerzy: ['20']\n",
      "Debug: Text extracted for The Book of Laughter and Forgetting by Kundera, Milan:\n",
      "\n",
      "\n",
      "https://www.google.com/search?q=The%20Book%20of%20Laughter%20and%20Forgetting%20Kundera,%20Milan%20published%20in%20what%20year\n",
      "\n",
      "\n",
      "\n",
      "\n",
      "\n",
      "\n",
      "  In order to continue, please enable javascript on your web browser.\n",
      "\n",
      "\n",
      "\n",
      "\n",
      "\n",
      "\n",
      "\n",
      "\n",
      "\n",
      "About this page\n",
      "\n",
      "Our systems have detected unusual traffic from your computer network.  This page checks to see if it's really you sending the requests, and not a robot.  Why did this happen?\n",
      "\n",
      "This page appears when Google automatically detects requests coming from your computer netwo\n",
      "Debug: No valid year found in matches for The Book of Laughter and Forgetting by Kundera, Milan: ['20']\n",
      "Debug: Text extracted for The Lord of the Rings by Tolkien, J.R.R.:\n",
      "\n",
      "\n",
      "https://www.google.com/search?q=The%20Lord%20of%20the%20Rings%20Tolkien,%20J.R.R.%20published%20in%20what%20year\n",
      "\n",
      "\n",
      "\n",
      "\n",
      "\n",
      "\n",
      "  In order to continue, please enable javascript on your web browser.\n",
      "\n",
      "\n",
      "\n",
      "\n",
      "\n",
      "\n",
      "\n",
      "\n",
      "\n",
      "About this page\n",
      "\n",
      "Our systems have detected unusual traffic from your computer network.  This page checks to see if it's really you sending the requests, and not a robot.  Why did this happen?\n",
      "\n",
      "This page appears when Google automatically detects requests coming from your computer network which appear\n",
      "Debug: No valid year found in matches for The Lord of the Rings by Tolkien, J.R.R.: ['20']\n",
      "Debug: Text extracted for Moby-Dick by Melville, Herman:\n",
      "\n",
      "\n",
      "https://www.google.com/search?q=Moby-Dick%20Melville,%20Herman%20published%20in%20what%20year\n",
      "\n",
      "\n",
      "\n",
      "\n",
      "\n",
      "\n",
      "  In order to continue, please enable javascript on your web browser.\n",
      "\n",
      "\n",
      "\n",
      "\n",
      "\n",
      "\n",
      "\n",
      "\n",
      "\n",
      "About this page\n",
      "\n",
      "Our systems have detected unusual traffic from your computer network.  This page checks to see if it's really you sending the requests, and not a robot.  Why did this happen?\n",
      "\n",
      "This page appears when Google automatically detects requests coming from your computer network which appear to be in violation\n",
      "Debug: No valid year found in matches for Moby-Dick by Melville, Herman: ['20']\n",
      "Debug: Text extracted for Ways of Seeing by Berger, John:\n",
      "\n",
      "\n",
      "https://www.google.com/search?q=Ways%20of%20Seeing%20Berger,%20John%20published%20in%20what%20year\n",
      "\n",
      "\n",
      "\n",
      "\n",
      "\n",
      "\n",
      "  In order to continue, please enable javascript on your web browser.\n",
      "\n",
      "\n",
      "\n",
      "\n",
      "\n",
      "\n",
      "\n",
      "\n",
      "\n",
      "About this page\n",
      "\n",
      "Our systems have detected unusual traffic from your computer network.  This page checks to see if it's really you sending the requests, and not a robot.  Why did this happen?\n",
      "\n",
      "This page appears when Google automatically detects requests coming from your computer network which appear to be in viol\n",
      "Debug: No valid year found in matches for Ways of Seeing by Berger, John: ['20']\n",
      "Debug: Text extracted for Song of the Lark by Cather, Willa:\n",
      "\n",
      "\n",
      "https://www.google.com/search?q=Song%20of%20the%20Lark%20Cather,%20Willa%20published%20in%20what%20year\n",
      "\n",
      "\n",
      "\n",
      "\n",
      "\n",
      "\n",
      "  In order to continue, please enable javascript on your web browser.\n",
      "\n",
      "\n",
      "\n",
      "\n",
      "\n",
      "\n",
      "\n",
      "\n",
      "\n",
      "About this page\n",
      "\n",
      "Our systems have detected unusual traffic from your computer network.  This page checks to see if it's really you sending the requests, and not a robot.  Why did this happen?\n",
      "\n",
      "This page appears when Google automatically detects requests coming from your computer network which appear to be in\n",
      "Debug: No valid year found in matches for Song of the Lark by Cather, Willa: ['20']\n",
      "Debug: Text extracted for The Prelude by Wordsworth, William:\n",
      "\n",
      "\n",
      "https://www.google.com/search?q=The%20Prelude%20Wordsworth,%20William%20published%20in%20what%20year\n",
      "\n",
      "\n",
      "\n",
      "\n",
      "\n",
      "\n",
      "  In order to continue, please enable javascript on your web browser.\n",
      "\n",
      "\n",
      "\n",
      "\n",
      "\n",
      "\n",
      "\n",
      "\n",
      "\n",
      "About this page\n",
      "\n",
      "Our systems have detected unusual traffic from your computer network.  This page checks to see if it's really you sending the requests, and not a robot.  Why did this happen?\n",
      "\n",
      "This page appears when Google automatically detects requests coming from your computer network which appear to be in vi\n",
      "Debug: No valid year found in matches for The Prelude by Wordsworth, William: ['20']\n",
      "Debug: Text extracted for The Souls of Black Folk by Du Boise, W.E.B.:\n",
      "\n",
      "\n",
      "https://www.google.com/search?q=The%20Souls%20of%20Black%20Folk%20Du%20Boise,%20W.E.B.%20published%20in%20what%20year\n",
      "\n",
      "\n",
      "\n",
      "\n",
      "\n",
      "\n",
      "  In order to continue, please enable javascript on your web browser.\n",
      "\n",
      "\n",
      "\n",
      "\n",
      "\n",
      "\n",
      "\n",
      "\n",
      "\n",
      "About this page\n",
      "\n",
      "Our systems have detected unusual traffic from your computer network.  This page checks to see if it's really you sending the requests, and not a robot.  Why did this happen?\n",
      "\n",
      "This page appears when Google automatically detects requests coming from your computer network which a\n",
      "Debug: No valid year found in matches for The Souls of Black Folk by Du Boise, W.E.B.: ['20']\n",
      "Debug: Text extracted for Moby-Dick by Melville, Herman:\n",
      "\n",
      "\n",
      "https://www.google.com/search?q=Moby-Dick%20Melville,%20Herman%20published%20in%20what%20year\n",
      "\n",
      "\n",
      "\n",
      "\n",
      "\n",
      "\n",
      "  In order to continue, please enable javascript on your web browser.\n",
      "\n",
      "\n",
      "\n",
      "\n",
      "\n",
      "\n",
      "\n",
      "\n",
      "\n",
      "About this page\n",
      "\n",
      "Our systems have detected unusual traffic from your computer network.  This page checks to see if it's really you sending the requests, and not a robot.  Why did this happen?\n",
      "\n",
      "This page appears when Google automatically detects requests coming from your computer network which appear to be in violation\n",
      "Debug: No valid year found in matches for Moby-Dick by Melville, Herman: ['20']\n"
     ]
    },
    {
     "name": "stderr",
     "output_type": "stream",
     "text": [
      "Processing books:  13%|██▊                   | 175/1346 [00:40<07:05,  2.75it/s]"
     ]
    },
    {
     "name": "stdout",
     "output_type": "stream",
     "text": [
      "Debug: Text extracted for The Allegory of Love by Lewis, C.S.:\n",
      "\n",
      "\n",
      "https://www.google.com/search?q=The%20Allegory%20of%20Love%20Lewis,%20C.S.%20published%20in%20what%20year\n",
      "\n",
      "\n",
      "\n",
      "\n",
      "\n",
      "\n",
      "  In order to continue, please enable javascript on your web browser.\n",
      "\n",
      "\n",
      "\n",
      "\n",
      "\n",
      "\n",
      "\n",
      "\n",
      "\n",
      "About this page\n",
      "\n",
      "Our systems have detected unusual traffic from your computer network.  This page checks to see if it's really you sending the requests, and not a robot.  Why did this happen?\n",
      "\n",
      "This page appears when Google automatically detects requests coming from your computer network which appear to be \n",
      "Debug: No valid year found in matches for The Allegory of Love by Lewis, C.S.: ['20']\n",
      "Debug: Text extracted for The Lord of the Rings by Tolkien, J.R.R.:\n",
      "\n",
      "\n",
      "https://www.google.com/search?q=The%20Lord%20of%20the%20Rings%20Tolkien,%20J.R.R.%20published%20in%20what%20year\n",
      "\n",
      "\n",
      "\n",
      "\n",
      "\n",
      "\n",
      "  In order to continue, please enable javascript on your web browser.\n",
      "\n",
      "\n",
      "\n",
      "\n",
      "\n",
      "\n",
      "\n",
      "\n",
      "\n",
      "About this page\n",
      "\n",
      "Our systems have detected unusual traffic from your computer network.  This page checks to see if it's really you sending the requests, and not a robot.  Why did this happen?\n",
      "\n",
      "This page appears when Google automatically detects requests coming from your computer network which appear\n",
      "Debug: No valid year found in matches for The Lord of the Rings by Tolkien, J.R.R.: ['20']\n",
      "Debug: Text extracted for Song of the Lark by Cather, Willa:\n",
      "\n",
      "\n",
      "https://www.google.com/search?q=Song%20of%20the%20Lark%20Cather,%20Willa%20published%20in%20what%20year\n",
      "\n",
      "\n",
      "\n",
      "\n",
      "\n",
      "\n",
      "  In order to continue, please enable javascript on your web browser.\n",
      "\n",
      "\n",
      "\n",
      "\n",
      "\n",
      "\n",
      "\n",
      "\n",
      "\n",
      "About this page\n",
      "\n",
      "Our systems have detected unusual traffic from your computer network.  This page checks to see if it's really you sending the requests, and not a robot.  Why did this happen?\n",
      "\n",
      "This page appears when Google automatically detects requests coming from your computer network which appear to be in\n",
      "Debug: No valid year found in matches for Song of the Lark by Cather, Willa: ['20']\n"
     ]
    },
    {
     "name": "stderr",
     "output_type": "stream",
     "text": [
      "Processing books:  13%|██▉                   | 178/1346 [00:41<04:30,  4.32it/s]"
     ]
    },
    {
     "name": "stdout",
     "output_type": "stream",
     "text": [
      "Debug: Text extracted for Labyrinths by Borges, Jorge Luis:\n",
      "\n",
      "\n",
      "https://www.google.com/search?q=Labyrinths%20Borges,%20Jorge%20Luis%20published%20in%20what%20year\n",
      "\n",
      "\n",
      "\n",
      "\n",
      "\n",
      "\n",
      "  In order to continue, please enable javascript on your web browser.\n",
      "\n",
      "\n",
      "\n",
      "\n",
      "\n",
      "\n",
      "\n",
      "\n",
      "\n",
      "About this page\n",
      "\n",
      "Our systems have detected unusual traffic from your computer network.  This page checks to see if it's really you sending the requests, and not a robot.  Why did this happen?\n",
      "\n",
      "This page appears when Google automatically detects requests coming from your computer network which appear to be in viol\n",
      "Debug: No valid year found in matches for Labyrinths by Borges, Jorge Luis: ['20']\n",
      "Debug: Text extracted for The Painted Bird by Kosinski, Jerzy:\n",
      "\n",
      "\n",
      "https://www.google.com/search?q=The%20Painted%20Bird%20Kosinski,%20Jerzy%20published%20in%20what%20year\n",
      "\n",
      "\n",
      "\n",
      "\n",
      "\n",
      "\n",
      "  In order to continue, please enable javascript on your web browser.\n",
      "\n",
      "\n",
      "\n",
      "\n",
      "\n",
      "\n",
      "\n",
      "\n",
      "\n",
      "About this page\n",
      "\n",
      "Our systems have detected unusual traffic from your computer network.  This page checks to see if it's really you sending the requests, and not a robot.  Why did this happen?\n",
      "\n",
      "This page appears when Google automatically detects requests coming from your computer network which appear to be in\n",
      "Debug: No valid year found in matches for The Painted Bird by Kosinski, Jerzy: ['20']\n",
      "Debug: Text extracted for Ways of Seeing by Berger, John:\n",
      "\n",
      "\n",
      "https://www.google.com/search?q=Ways%20of%20Seeing%20Berger,%20John%20published%20in%20what%20year\n",
      "\n",
      "\n",
      "\n",
      "\n",
      "\n",
      "\n",
      "  In order to continue, please enable javascript on your web browser.\n",
      "\n",
      "\n",
      "\n",
      "\n",
      "\n",
      "\n",
      "\n",
      "\n",
      "\n",
      "About this page\n",
      "\n",
      "Our systems have detected unusual traffic from your computer network.  This page checks to see if it's really you sending the requests, and not a robot.  Why did this happen?\n",
      "\n",
      "This page appears when Google automatically detects requests coming from your computer network which appear to be in viol\n",
      "Debug: No valid year found in matches for Ways of Seeing by Berger, John: ['20']\n",
      "Debug: Text extracted for The Prelude by Wordsworth, William:\n",
      "\n",
      "\n",
      "https://www.google.com/search?q=The%20Prelude%20Wordsworth,%20William%20published%20in%20what%20year\n",
      "\n",
      "\n",
      "\n",
      "\n",
      "\n",
      "\n",
      "  In order to continue, please enable javascript on your web browser.\n",
      "\n",
      "\n",
      "\n",
      "\n",
      "\n",
      "\n",
      "\n",
      "\n",
      "\n",
      "About this page\n",
      "\n",
      "Our systems have detected unusual traffic from your computer network.  This page checks to see if it's really you sending the requests, and not a robot.  Why did this happen?\n",
      "\n",
      "This page appears when Google automatically detects requests coming from your computer network which appear to be in vi\n",
      "Debug: No valid year found in matches for The Prelude by Wordsworth, William: ['20']\n",
      "Debug: Text extracted for The Souls of Black Folk by Du Boise, W.E.B.:\n",
      "\n",
      "\n",
      "https://www.google.com/search?q=The%20Souls%20of%20Black%20Folk%20Du%20Boise,%20W.E.B.%20published%20in%20what%20year\n",
      "\n",
      "\n",
      "\n",
      "\n",
      "\n",
      "\n",
      "  In order to continue, please enable javascript on your web browser.\n",
      "\n",
      "\n",
      "\n",
      "\n",
      "\n",
      "\n",
      "\n",
      "\n",
      "\n",
      "About this page\n",
      "\n",
      "Our systems have detected unusual traffic from your computer network.  This page checks to see if it's really you sending the requests, and not a robot.  Why did this happen?\n",
      "\n",
      "This page appears when Google automatically detects requests coming from your computer network which a\n",
      "Debug: No valid year found in matches for The Souls of Black Folk by Du Boise, W.E.B.: ['20']\n"
     ]
    },
    {
     "name": "stderr",
     "output_type": "stream",
     "text": [
      "\r",
      "Processing books:  13%|██▉                   | 179/1346 [00:41<06:10,  3.15it/s]"
     ]
    },
    {
     "name": "stdout",
     "output_type": "stream",
     "text": [
      "Debug: Text extracted for The Basketball Diaries by Carroll, Jim:\n",
      "\n",
      "\n",
      "https://www.google.com/search?q=The%20Basketball%20Diaries%20Carroll,%20Jim%20published%20in%20what%20year\n",
      "\n",
      "\n",
      "\n",
      "\n",
      "\n",
      "\n",
      "  In order to continue, please enable javascript on your web browser.\n",
      "\n",
      "\n",
      "\n",
      "\n",
      "\n",
      "\n",
      "\n",
      "\n",
      "\n",
      "About this page\n",
      "\n",
      "Our systems have detected unusual traffic from your computer network.  This page checks to see if it's really you sending the requests, and not a robot.  Why did this happen?\n",
      "\n",
      "This page appears when Google automatically detects requests coming from your computer network which appear to be\n",
      "Debug: No valid year found in matches for The Basketball Diaries by Carroll, Jim: ['20']\n",
      "Debug: Text extracted for The Lord of the Rings by Tolkien, J.R.R.:\n",
      "\n",
      "\n",
      "https://www.google.com/search?q=The%20Lord%20of%20the%20Rings%20Tolkien,%20J.R.R.%20published%20in%20what%20year\n",
      "\n",
      "\n",
      "\n",
      "\n",
      "\n",
      "\n",
      "  In order to continue, please enable javascript on your web browser.\n",
      "\n",
      "\n",
      "\n",
      "\n",
      "\n",
      "\n",
      "\n",
      "\n",
      "\n",
      "About this page\n",
      "\n",
      "Our systems have detected unusual traffic from your computer network.  This page checks to see if it's really you sending the requests, and not a robot.  Why did this happen?\n",
      "\n",
      "This page appears when Google automatically detects requests coming from your computer network which appear\n",
      "Debug: No valid year found in matches for The Lord of the Rings by Tolkien, J.R.R.: ['20']\n",
      "Debug: Text extracted for Song of the Lark by Cather, Willa:\n",
      "\n",
      "\n",
      "https://www.google.com/search?q=Song%20of%20the%20Lark%20Cather,%20Willa%20published%20in%20what%20year\n",
      "\n",
      "\n",
      "\n",
      "\n",
      "\n",
      "\n",
      "  In order to continue, please enable javascript on your web browser.\n",
      "\n",
      "\n",
      "\n",
      "\n",
      "\n",
      "\n",
      "\n",
      "\n",
      "\n",
      "About this page\n",
      "\n",
      "Our systems have detected unusual traffic from your computer network.  This page checks to see if it's really you sending the requests, and not a robot.  Why did this happen?\n",
      "\n",
      "This page appears when Google automatically detects requests coming from your computer network which appear to be in\n",
      "Debug: No valid year found in matches for Song of the Lark by Cather, Willa: ['20']\n",
      "Debug: Text extracted for The Wizard of Earthsea by Le Guin, Ursula K.:\n",
      "\n",
      "\n",
      "https://www.google.com/search?q=The%20Wizard%20of%20Earthsea%20Le%20Guin,%20Ursula%20K.%20published%20in%20what%20year\n",
      "\n",
      "\n",
      "\n",
      "\n",
      "\n",
      "\n",
      "  In order to continue, please enable javascript on your web browser.\n",
      "\n",
      "\n",
      "\n",
      "\n",
      "\n",
      "\n",
      "\n",
      "\n",
      "\n",
      "About this page\n",
      "\n",
      "Our systems have detected unusual traffic from your computer network.  This page checks to see if it's really you sending the requests, and not a robot.  Why did this happen?\n",
      "\n",
      "This page appears when Google automatically detects requests coming from your computer network which \n",
      "Debug: No valid year found in matches for The Wizard of Earthsea by Le Guin, Ursula K.: ['20']\n",
      "Debug: Text extracted for Great Expectations by Dickens, Charles:\n",
      "\n",
      "\n",
      "https://www.google.com/search?q=Great%20Expectations%20Dickens,%20Charles%20published%20in%20what%20year\n",
      "\n",
      "\n",
      "\n",
      "\n",
      "\n",
      "\n",
      "  In order to continue, please enable javascript on your web browser.\n",
      "\n",
      "\n",
      "\n",
      "\n",
      "\n",
      "\n",
      "\n",
      "\n",
      "\n",
      "About this page\n",
      "\n",
      "Our systems have detected unusual traffic from your computer network.  This page checks to see if it's really you sending the requests, and not a robot.  Why did this happen?\n",
      "\n",
      "This page appears when Google automatically detects requests coming from your computer network which appear to be i\n",
      "Debug: No valid year found in matches for Great Expectations by Dickens, Charles: ['20']\n",
      "Debug: Text extracted for Lord Jim by Conrad, Joseph:\n",
      "\n",
      "\n",
      "https://www.google.com/search?q=Lord%20Jim%20Conrad,%20Joseph%20published%20in%20what%20year\n",
      "\n",
      "\n",
      "\n",
      "\n",
      "\n",
      "\n",
      "  In order to continue, please enable javascript on your web browser.\n",
      "\n",
      "\n",
      "\n",
      "\n",
      "\n",
      "\n",
      "\n",
      "\n",
      "\n",
      "About this page\n",
      "\n",
      "Our systems have detected unusual traffic from your computer network.  This page checks to see if it's really you sending the requests, and not a robot.  Why did this happen?\n",
      "\n",
      "This page appears when Google automatically detects requests coming from your computer network which appear to be in violation \n",
      "Debug: No valid year found in matches for Lord Jim by Conrad, Joseph: ['20']\n"
     ]
    },
    {
     "name": "stderr",
     "output_type": "stream",
     "text": [
      "\r",
      "Processing books:  13%|██▉                   | 181/1346 [00:42<06:19,  3.07it/s]"
     ]
    },
    {
     "name": "stdout",
     "output_type": "stream",
     "text": [
      "Debug: Text extracted for Dune by Herbert, Frank:\n",
      "\n",
      "\n",
      "https://www.google.com/search?q=Dune%20Herbert,%20Frank%20published%20in%20what%20year\n",
      "\n",
      "\n",
      "\n",
      "\n",
      "\n",
      "\n",
      "  In order to continue, please enable javascript on your web browser.\n",
      "\n",
      "\n",
      "\n",
      "\n",
      "\n",
      "\n",
      "\n",
      "\n",
      "\n",
      "About this page\n",
      "\n",
      "Our systems have detected unusual traffic from your computer network.  This page checks to see if it's really you sending the requests, and not a robot.  Why did this happen?\n",
      "\n",
      "This page appears when Google automatically detects requests coming from your computer network which appear to be in violation of the\n",
      "Debug: No valid year found in matches for Dune by Herbert, Frank: ['20']\n",
      "Debug: Text extracted for Ways of Seeing by Berger, John:\n",
      "\n",
      "\n",
      "https://www.google.com/search?q=Ways%20of%20Seeing%20Berger,%20John%20published%20in%20what%20year\n",
      "\n",
      "\n",
      "\n",
      "\n",
      "\n",
      "\n",
      "  In order to continue, please enable javascript on your web browser.\n",
      "\n",
      "\n",
      "\n",
      "\n",
      "\n",
      "\n",
      "\n",
      "\n",
      "\n",
      "About this page\n",
      "\n",
      "Our systems have detected unusual traffic from your computer network.  This page checks to see if it's really you sending the requests, and not a robot.  Why did this happen?\n",
      "\n",
      "This page appears when Google automatically detects requests coming from your computer network which appear to be in viol\n",
      "Debug: No valid year found in matches for Ways of Seeing by Berger, John: ['20']\n",
      "Debug: Text extracted for The Basketball Diaries by Carroll, Jim:\n",
      "\n",
      "\n",
      "https://www.google.com/search?q=The%20Basketball%20Diaries%20Carroll,%20Jim%20published%20in%20what%20year\n",
      "\n",
      "\n",
      "\n",
      "\n",
      "\n",
      "\n",
      "  In order to continue, please enable javascript on your web browser.\n",
      "\n",
      "\n",
      "\n",
      "\n",
      "\n",
      "\n",
      "\n",
      "\n",
      "\n",
      "About this page\n",
      "\n",
      "Our systems have detected unusual traffic from your computer network.  This page checks to see if it's really you sending the requests, and not a robot.  Why did this happen?\n",
      "\n",
      "This page appears when Google automatically detects requests coming from your computer network which appear to be\n",
      "Debug: No valid year found in matches for The Basketball Diaries by Carroll, Jim: ['20']\n",
      "Debug: Text extracted for Deeper into the Movies by Kael, Pauline:\n",
      "\n",
      "\n",
      "https://www.google.com/search?q=Deeper%20into%20the%20Movies%20Kael,%20Pauline%20published%20in%20what%20year\n",
      "\n",
      "\n",
      "\n",
      "\n",
      "\n",
      "\n",
      "  In order to continue, please enable javascript on your web browser.\n",
      "\n",
      "\n",
      "\n",
      "\n",
      "\n",
      "\n",
      "\n",
      "\n",
      "\n",
      "About this page\n",
      "\n",
      "Our systems have detected unusual traffic from your computer network.  This page checks to see if it's really you sending the requests, and not a robot.  Why did this happen?\n",
      "\n",
      "This page appears when Google automatically detects requests coming from your computer network which appear to\n",
      "Debug: No valid year found in matches for Deeper into the Movies by Kael, Pauline: ['20']\n",
      "Debug: Text extracted for The English Patient by Ondaatje, Michael:\n",
      "\n",
      "\n",
      "https://www.google.com/search?q=The%20English%20Patient%20Ondaatje,%20Michael%20published%20in%20what%20year\n",
      "\n",
      "\n",
      "\n",
      "\n",
      "\n",
      "\n",
      "  In order to continue, please enable javascript on your web browser.\n",
      "\n",
      "\n",
      "\n",
      "\n",
      "\n",
      "\n",
      "\n",
      "\n",
      "\n",
      "About this page\n",
      "\n",
      "Our systems have detected unusual traffic from your computer network.  This page checks to see if it's really you sending the requests, and not a robot.  Why did this happen?\n",
      "\n",
      "This page appears when Google automatically detects requests coming from your computer network which appear to \n",
      "Debug: No valid year found in matches for The English Patient by Ondaatje, Michael: ['20']\n",
      "Debug: Text extracted for Lord Jim by Conrad, Joseph:\n",
      "\n",
      "\n",
      "https://www.google.com/search?q=Lord%20Jim%20Conrad,%20Joseph%20published%20in%20what%20year\n",
      "\n",
      "\n",
      "\n",
      "\n",
      "\n",
      "\n",
      "  In order to continue, please enable javascript on your web browser.\n",
      "\n",
      "\n",
      "\n",
      "\n",
      "\n",
      "\n",
      "\n",
      "\n",
      "\n",
      "About this page\n",
      "\n",
      "Our systems have detected unusual traffic from your computer network.  This page checks to see if it's really you sending the requests, and not a robot.  Why did this happen?\n",
      "\n",
      "This page appears when Google automatically detects requests coming from your computer network which appear to be in violation \n",
      "Debug: No valid year found in matches for Lord Jim by Conrad, Joseph: ['20']\n"
     ]
    },
    {
     "name": "stderr",
     "output_type": "stream",
     "text": [
      "\r",
      "Processing books:  14%|██▉                   | 182/1346 [00:43<10:19,  1.88it/s]"
     ]
    },
    {
     "name": "stdout",
     "output_type": "stream",
     "text": [
      "Debug: Text extracted for Dune by Herbert, Frank:\n",
      "\n",
      "\n",
      "https://www.google.com/search?q=Dune%20Herbert,%20Frank%20published%20in%20what%20year\n",
      "\n",
      "\n",
      "\n",
      "\n",
      "\n",
      "\n",
      "  In order to continue, please enable javascript on your web browser.\n",
      "\n",
      "\n",
      "\n",
      "\n",
      "\n",
      "\n",
      "\n",
      "\n",
      "\n",
      "About this page\n",
      "\n",
      "Our systems have detected unusual traffic from your computer network.  This page checks to see if it's really you sending the requests, and not a robot.  Why did this happen?\n",
      "\n",
      "This page appears when Google automatically detects requests coming from your computer network which appear to be in violation of the\n",
      "Debug: No valid year found in matches for Dune by Herbert, Frank: ['20']\n",
      "Debug: Text extracted for The Diary of Anne Frank by Frank, Anne:\n",
      "\n",
      "\n",
      "https://www.google.com/search?q=The%20Diary%20of%20Anne%20Frank%20Frank,%20Anne%20published%20in%20what%20year\n",
      "\n",
      "\n",
      "\n",
      "\n",
      "\n",
      "\n",
      "  In order to continue, please enable javascript on your web browser.\n",
      "\n",
      "\n",
      "\n",
      "\n",
      "\n",
      "\n",
      "\n",
      "\n",
      "\n",
      "About this page\n",
      "\n",
      "Our systems have detected unusual traffic from your computer network.  This page checks to see if it's really you sending the requests, and not a robot.  Why did this happen?\n",
      "\n",
      "This page appears when Google automatically detects requests coming from your computer network which appear t\n",
      "Debug: No valid year found in matches for The Diary of Anne Frank by Frank, Anne: ['20']\n",
      "Debug: Text extracted for Great Expectations by Dickens, Charles:\n",
      "\n",
      "\n",
      "https://www.google.com/search?q=Great%20Expectations%20Dickens,%20Charles%20published%20in%20what%20year\n",
      "\n",
      "\n",
      "\n",
      "\n",
      "\n",
      "\n",
      "  In order to continue, please enable javascript on your web browser.\n",
      "\n",
      "\n",
      "\n",
      "\n",
      "\n",
      "\n",
      "\n",
      "\n",
      "\n",
      "About this page\n",
      "\n",
      "Our systems have detected unusual traffic from your computer network.  This page checks to see if it's really you sending the requests, and not a robot.  Why did this happen?\n",
      "\n",
      "This page appears when Google automatically detects requests coming from your computer network which appear to be iDebug: Text extracted for Deeper into the Movies by Kael, Pauline:\n",
      "\n",
      "\n",
      "https://www.google.com/search?q=Deeper%20into%20the%20Movies%20Kael,%20Pauline%20published%20in%20what%20year\n",
      "\n",
      "\n",
      "\n",
      "\n",
      "\n",
      "\n",
      "  In order to continue, please enable javascript on your web browser.\n",
      "\n",
      "\n",
      "\n",
      "\n",
      "\n",
      "\n",
      "\n",
      "\n",
      "\n",
      "About this page\n",
      "\n",
      "Our systems have detected unusual traffic from your computer network.  This page checks to see if it's really you sending the requests, and not a robot.  Why did this happen?\n",
      "\n",
      "This page appears when Google automatically detects requests coming from your computer network which appear to\n",
      "Debug: No valid year found in matches for Deeper into the Movies by Kael, Pauline: ['20']\n",
      "\n",
      "Debug: No valid year found in matches for Great Expectations by Dickens, Charles: ['20']\n"
     ]
    },
    {
     "name": "stderr",
     "output_type": "stream",
     "text": [
      "\r",
      "Processing books:  14%|██▉                   | 183/1346 [00:44<12:03,  1.61it/s]"
     ]
    },
    {
     "name": "stdout",
     "output_type": "stream",
     "text": [
      "Debug: Text extracted for Nineteen Eighty-Four by Orwell, George:\n",
      "\n",
      "\n",
      "https://www.google.com/search?q=Nineteen%20Eighty-Four%20Orwell,%20George%20published%20in%20what%20year\n",
      "\n",
      "\n",
      "\n",
      "\n",
      "\n",
      "\n",
      "  In order to continue, please enable javascript on your web browser.\n",
      "\n",
      "\n",
      "\n",
      "\n",
      "\n",
      "\n",
      "\n",
      "\n",
      "\n",
      "About this page\n",
      "\n",
      "Our systems have detected unusual traffic from your computer network.  This page checks to see if it's really you sending the requests, and not a robot.  Why did this happen?\n",
      "\n",
      "This page appears when Google automatically detects requests coming from your computer network which appear to be i\n",
      "Debug: No valid year found in matches for Nineteen Eighty-Four by Orwell, George: ['20']\n",
      "Debug: Text extracted for The Souls of Black Folk by Du Boise, W.E.B.:\n",
      "\n",
      "\n",
      "https://www.google.com/search?q=The%20Souls%20of%20Black%20Folk%20Du%20Boise,%20W.E.B.%20published%20in%20what%20year\n",
      "\n",
      "\n",
      "\n",
      "\n",
      "\n",
      "\n",
      "  In order to continue, please enable javascript on your web browser.\n",
      "\n",
      "\n",
      "\n",
      "\n",
      "\n",
      "\n",
      "\n",
      "\n",
      "\n",
      "About this page\n",
      "\n",
      "Our systems have detected unusual traffic from your computer network.  This page checks to see if it's really you sending the requests, and not a robot.  Why did this happen?\n",
      "\n",
      "This page appears when Google automatically detects requests coming from your computer network which a\n",
      "Debug: No valid year found in matches for The Souls of Black Folk by Du Boise, W.E.B.: ['20']\n",
      "Debug: Text extracted for The Basketball Diaries by Carroll, Jim:\n",
      "\n",
      "\n",
      "https://www.google.com/search?q=The%20Basketball%20Diaries%20Carroll,%20Jim%20published%20in%20what%20year\n",
      "\n",
      "\n",
      "\n",
      "\n",
      "\n",
      "\n",
      "  In order to continue, please enable javascript on your web browser.\n",
      "\n",
      "\n",
      "\n",
      "\n",
      "\n",
      "\n",
      "\n",
      "\n",
      "\n",
      "About this page\n",
      "\n",
      "Our systems have detected unusual traffic from your computer network.  This page checks to see if it's really you sending the requests, and not a robot.  Why did this happen?\n",
      "\n",
      "This page appears when Google automatically detects requests coming from your computer network which appear to be\n",
      "Debug: No valid year found in matches for The Basketball Diaries by Carroll, Jim: ['20']\n"
     ]
    },
    {
     "name": "stderr",
     "output_type": "stream",
     "text": [
      "\r",
      "Processing books:  14%|███                   | 185/1346 [00:45<09:03,  2.14it/s]"
     ]
    },
    {
     "name": "stdout",
     "output_type": "stream",
     "text": [
      "Debug: Text extracted for Great Expectations by Dickens, Charles:\n",
      "\n",
      "\n",
      "https://www.google.com/search?q=Great%20Expectations%20Dickens,%20Charles%20published%20in%20what%20year\n",
      "\n",
      "\n",
      "\n",
      "\n",
      "\n",
      "\n",
      "  In order to continue, please enable javascript on your web browser.\n",
      "\n",
      "\n",
      "\n",
      "\n",
      "\n",
      "\n",
      "\n",
      "\n",
      "\n",
      "About this page\n",
      "\n",
      "Our systems have detected unusual traffic from your computer network.  This page checks to see if it's really you sending the requests, and not a robot.  Why did this happen?\n",
      "\n",
      "This page appears when Google automatically detects requests coming from your computer network which appear to be i\n",
      "Debug: No valid year found in matches for Great Expectations by Dickens, Charles: ['20']\n",
      "Debug: Text extracted for The Wizard of Earthsea by Le Guin, Ursula K.:\n",
      "\n",
      "\n",
      "https://www.google.com/search?q=The%20Wizard%20of%20Earthsea%20Le%20Guin,%20Ursula%20K.%20published%20in%20what%20year\n",
      "\n",
      "\n",
      "\n",
      "\n",
      "\n",
      "\n",
      "  In order to continue, please enable javascript on your web browser.\n",
      "\n",
      "\n",
      "\n",
      "\n",
      "\n",
      "\n",
      "\n",
      "\n",
      "\n",
      "About this page\n",
      "\n",
      "Our systems have detected unusual traffic from your computer network.  This page checks to see if it's really you sending the requests, and not a robot.  Why did this happen?\n",
      "\n",
      "This page appears when Google automatically detects requests coming from your computer network which \n",
      "Debug: No valid year found in matches for The Wizard of Earthsea by Le Guin, Ursula K.: ['20']\n",
      "Debug: Text extracted for Dune by Herbert, Frank:\n",
      "\n",
      "\n",
      "https://www.google.com/search?q=Dune%20Herbert,%20Frank%20published%20in%20what%20year\n",
      "\n",
      "\n",
      "\n",
      "\n",
      "\n",
      "\n",
      "  In order to continue, please enable javascript on your web browser.\n",
      "\n",
      "\n",
      "\n",
      "\n",
      "\n",
      "\n",
      "\n",
      "\n",
      "\n",
      "About this page\n",
      "\n",
      "Our systems have detected unusual traffic from your computer network.  This page checks to see if it's really you sending the requests, and not a robot.  Why did this happen?\n",
      "\n",
      "This page appears when Google automatically detects requests coming from your computer network which appear to be in violation of the\n",
      "Debug: No valid year found in matches for Dune by Herbert, Frank: ['20']\n"
     ]
    },
    {
     "name": "stderr",
     "output_type": "stream",
     "text": [
      "\r",
      "Processing books:  14%|███                   | 186/1346 [00:45<07:53,  2.45it/s]"
     ]
    },
    {
     "name": "stdout",
     "output_type": "stream",
     "text": [
      "Debug: Text extracted for Memoirs of a Beatnik by di Prima, Diane:\n",
      "\n",
      "\n",
      "https://www.google.com/search?q=Memoirs%20of%20a%20Beatnik%20di%20Prima,%20Diane%20published%20in%20what%20year\n",
      "\n",
      "\n",
      "\n",
      "\n",
      "\n",
      "\n",
      "  In order to continue, please enable javascript on your web browser.\n",
      "\n",
      "\n",
      "\n",
      "\n",
      "\n",
      "\n",
      "\n",
      "\n",
      "\n",
      "About this page\n",
      "\n",
      "Our systems have detected unusual traffic from your computer network.  This page checks to see if it's really you sending the requests, and not a robot.  Why did this happen?\n",
      "\n",
      "This page appears when Google automatically detects requests coming from your computer network which appear \n",
      "Debug: No valid year found in matches for Memoirs of a Beatnik by di Prima, Diane: ['20']\n",
      "Debug: Text extracted for Nineteen Eighty-Four by Orwell, George:\n",
      "\n",
      "\n",
      "https://www.google.com/search?q=Nineteen%20Eighty-Four%20Orwell,%20George%20published%20in%20what%20year\n",
      "\n",
      "\n",
      "\n",
      "\n",
      "\n",
      "\n",
      "  In order to continue, please enable javascript on your web browser.\n",
      "\n",
      "\n",
      "\n",
      "\n",
      "\n",
      "\n",
      "\n",
      "\n",
      "\n",
      "About this page\n",
      "\n",
      "Our systems have detected unusual traffic from your computer network.  This page checks to see if it's really you sending the requests, and not a robot.  Why did this happen?\n",
      "\n",
      "This page appears when Google automatically detects requests coming from your computer network which appear to be i\n",
      "Debug: No valid year found in matches for Nineteen Eighty-Four by Orwell, George: ['20']\n"
     ]
    },
    {
     "name": "stderr",
     "output_type": "stream",
     "text": [
      "\r",
      "Processing books:  14%|███                   | 187/1346 [00:45<08:09,  2.37it/s]"
     ]
    },
    {
     "name": "stdout",
     "output_type": "stream",
     "text": [
      "Debug: Text extracted for Deeper into the Movies by Kael, Pauline:\n",
      "\n",
      "\n",
      "https://www.google.com/search?q=Deeper%20into%20the%20Movies%20Kael,%20Pauline%20published%20in%20what%20year\n",
      "\n",
      "\n",
      "\n",
      "\n",
      "\n",
      "\n",
      "  In order to continue, please enable javascript on your web browser.\n",
      "\n",
      "\n",
      "\n",
      "\n",
      "\n",
      "\n",
      "\n",
      "\n",
      "\n",
      "About this page\n",
      "\n",
      "Our systems have detected unusual traffic from your computer network.  This page checks to see if it's really you sending the requests, and not a robot.  Why did this happen?\n",
      "\n",
      "This page appears when Google automatically detects requests coming from your computer network which appear to\n",
      "Debug: No valid year found in matches for Deeper into the Movies by Kael, Pauline: ['20']\n",
      "Debug: Text extracted for Richard Misrach on Landscape and Meaning by Misrach, Richard:\n",
      "\n",
      "\n",
      "https://www.google.com/search?q=Richard%20Misrach%20on%20Landscape%20and%20Meaning%20Misrach,%20Richard%20published%20in%20what%20year\n",
      "\n",
      "\n",
      "\n",
      "\n",
      "\n",
      "\n",
      "  In order to continue, please enable javascript on your web browser.\n",
      "\n",
      "\n",
      "\n",
      "\n",
      "\n",
      "\n",
      "\n",
      "\n",
      "\n",
      "About this page\n",
      "\n",
      "Our systems have detected unusual traffic from your computer network.  This page checks to see if it's really you sending the requests, and not a robot.  Why did this happen?\n",
      "\n",
      "This page appears when Google automatically detects requests coming from your compute\n",
      "Debug: No valid year found in matches for Richard Misrach on Landscape and Meaning by Misrach, Richard: ['20']\n",
      "Debug: Text extracted for Women, Art, and Society by Chadwick, Whitney:\n",
      "\n",
      "\n",
      "https://www.google.com/search?q=Women,%20Art,%20and%20Society%20Chadwick,%20Whitney%20published%20in%20what%20year\n",
      "\n",
      "\n",
      "\n",
      "\n",
      "\n",
      "\n",
      "  In order to continue, please enable javascript on your web browser.\n",
      "\n",
      "\n",
      "\n",
      "\n",
      "\n",
      "\n",
      "\n",
      "\n",
      "\n",
      "About this page\n",
      "\n",
      "Our systems have detected unusual traffic from your computer network.  This page checks to see if it's really you sending the requests, and not a robot.  Why did this happen?\n",
      "\n",
      "This page appears when Google automatically detects requests coming from your computer network which appe\n",
      "Debug: No valid year found in matches for Women, Art, and Society by Chadwick, Whitney: ['20']\n",
      "Debug: Text extracted for Heaven/Earth by Connor, Linda:\n",
      "\n",
      "\n",
      "https://www.google.com/search?q=Heaven/Earth%20Connor,%20Linda%20published%20in%20what%20year\n",
      "\n",
      "\n",
      "\n",
      "\n",
      "\n",
      "\n",
      "  In order to continue, please enable javascript on your web browser.\n",
      "\n",
      "\n",
      "\n",
      "\n",
      "\n",
      "\n",
      "\n",
      "\n",
      "\n",
      "About this page\n",
      "\n",
      "Our systems have detected unusual traffic from your computer network.  This page checks to see if it's really you sending the requests, and not a robot.  Why did this happen?\n",
      "\n",
      "This page appears when Google automatically detects requests coming from your computer network which appear to be in violation\n",
      "Debug: No valid year found in matches for Heaven/Earth by Connor, Linda: ['20']\n",
      "Debug: Text extracted for Memoirs of a Beatnik by di Prima, Diane:\n",
      "\n",
      "\n",
      "https://www.google.com/search?q=Memoirs%20of%20a%20Beatnik%20di%20Prima,%20Diane%20published%20in%20what%20year\n",
      "\n",
      "\n",
      "\n",
      "\n",
      "\n",
      "\n",
      "  In order to continue, please enable javascript on your web browser.\n",
      "\n",
      "\n",
      "\n",
      "\n",
      "\n",
      "\n",
      "\n",
      "\n",
      "\n",
      "About this page\n",
      "\n",
      "Our systems have detected unusual traffic from your computer network.  This page checks to see if it's really you sending the requests, and not a robot.  Why did this happen?\n",
      "\n",
      "This page appears when Google automatically detects requests coming from your computer network which appear \n",
      "Debug: No valid year found in matches for Memoirs of a Beatnik by di Prima, Diane: ['20']\n"
     ]
    },
    {
     "name": "stderr",
     "output_type": "stream",
     "text": [
      "\r",
      "Processing books:  14%|██▊                 | 188/1346 [00:59<1:12:13,  3.74s/it]"
     ]
    },
    {
     "name": "stdout",
     "output_type": "stream",
     "text": [
      "Debug: Text extracted for The Wizard of Earthsea by Le Guin, Ursula K.:\n",
      "\n",
      "\n",
      "https://www.google.com/search?q=The%20Wizard%20of%20Earthsea%20Le%20Guin,%20Ursula%20K.%20published%20in%20what%20year\n",
      "\n",
      "\n",
      "\n",
      "\n",
      "\n",
      "\n",
      "  In order to continue, please enable javascript on your web browser.\n",
      "\n",
      "\n",
      "\n",
      "\n",
      "\n",
      "\n",
      "\n",
      "\n",
      "\n",
      "About this page\n",
      "\n",
      "Our systems have detected unusual traffic from your computer network.  This page checks to see if it's really you sending the requests, and not a robot.  Why did this happen?\n",
      "\n",
      "This page appears when Google automatically detects requests coming from your computer network which \n",
      "Debug: No valid year found in matches for The Wizard of Earthsea by Le Guin, Ursula K.: ['20']\n"
     ]
    },
    {
     "name": "stderr",
     "output_type": "stream",
     "text": [
      "\r",
      "Processing books:  14%|███                   | 189/1346 [00:59<56:08,  2.91s/it]"
     ]
    },
    {
     "name": "stdout",
     "output_type": "stream",
     "text": [
      "Debug: Text extracted for Nineteen Eighty-Four by Orwell, George:\n",
      "\n",
      "\n",
      "https://www.google.com/search?q=Nineteen%20Eighty-Four%20Orwell,%20George%20published%20in%20what%20year\n",
      "\n",
      "\n",
      "\n",
      "\n",
      "\n",
      "\n",
      "  In order to continue, please enable javascript on your web browser.\n",
      "\n",
      "\n",
      "\n",
      "\n",
      "\n",
      "\n",
      "\n",
      "\n",
      "\n",
      "About this page\n",
      "\n",
      "Our systems have detected unusual traffic from your computer network.  This page checks to see if it's really you sending the requests, and not a robot.  Why did this happen?\n",
      "\n",
      "This page appears when Google automatically detects requests coming from your computer network which appear to be i\n",
      "Debug: No valid year found in matches for Nineteen Eighty-Four by Orwell, George: ['20']\n",
      "Debug: Text extracted for The H.D. Book by Duncan, Robert:\n",
      "\n",
      "\n",
      "https://www.google.com/search?q=The%20H.D.%20Book%20Duncan,%20Robert%20published%20in%20what%20year\n",
      "\n",
      "\n",
      "\n",
      "\n",
      "\n",
      "\n",
      "  In order to continue, please enable javascript on your web browser.\n",
      "\n",
      "\n",
      "\n",
      "\n",
      "\n",
      "\n",
      "\n",
      "\n",
      "\n",
      "About this page\n",
      "\n",
      "Our systems have detected unusual traffic from your computer network.  This page checks to see if it's really you sending the requests, and not a robot.  Why did this happen?\n",
      "\n",
      "This page appears when Google automatically detects requests coming from your computer network which appear to be in vio\n",
      "Debug: No valid year found in matches for The H.D. Book by Duncan, Robert: ['20']\n",
      "Debug: Text extracted for The H.D. Book by Duncan, Robert:\n",
      "\n",
      "\n",
      "https://www.google.com/search?q=The%20H.D.%20Book%20Duncan,%20Robert%20published%20in%20what%20year\n",
      "\n",
      "\n",
      "\n",
      "\n",
      "\n",
      "\n",
      "  In order to continue, please enable javascript on your web browser.\n",
      "\n",
      "\n",
      "\n",
      "\n",
      "\n",
      "\n",
      "\n",
      "\n",
      "\n",
      "About this page\n",
      "\n",
      "Our systems have detected unusual traffic from your computer network.  This page checks to see if it's really you sending the requests, and not a robot.  Why did this happen?\n",
      "\n",
      "This page appears when Google automatically detects requests coming from your computer network which appear to be in vio\n",
      "Debug: No valid year found in matches for The H.D. Book by Duncan, Robert: ['20']\n",
      "Debug: Text extracted for My Vocabulary Did This To Me by Spicer, Jack:\n",
      "\n",
      "\n",
      "https://www.google.com/search?q=My%20Vocabulary%20Did%20This%20To%20Me%20Spicer,%20Jack%20published%20in%20what%20year\n",
      "\n",
      "\n",
      "\n",
      "\n",
      "\n",
      "\n",
      "  In order to continue, please enable javascript on your web browser.\n",
      "\n",
      "\n",
      "\n",
      "\n",
      "\n",
      "\n",
      "\n",
      "\n",
      "\n",
      "About this page\n",
      "\n",
      "Our systems have detected unusual traffic from your computer network.  This page checks to see if it's really you sending the requests, and not a robot.  Why did this happen?\n",
      "\n",
      "This page appears when Google automatically detects requests coming from your computer network which \n",
      "Debug: No valid year found in matches for My Vocabulary Did This To Me by Spicer, Jack: ['20']\n",
      "Debug: Text extracted for Semina Culture: Wallace Berman & His Circle by Duncan, Michael and Kristine McKenna:\n",
      "\n",
      "\n",
      "https://www.google.com/search?q=Semina%20Culture:%20Wallace%20Berman%20&%20His%20Circle%20Duncan,%20Michael%20and%20Kristine%20McKenna%20published%20in%20what%20year\n",
      "\n",
      "\n",
      "\n",
      "\n",
      "\n",
      "\n",
      "  In order to continue, please enable javascript on your web browser.\n",
      "\n",
      "\n",
      "\n",
      "\n",
      "\n",
      "\n",
      "\n",
      "\n",
      "\n",
      "About this page\n",
      "\n",
      "Our systems have detected unusual traffic from your computer network.  This page checks to see if it's really you sending the requests, and not a robot.  Why did this happen?\n",
      "\n",
      "This page appears when Google automatically detects re\n",
      "Debug: No valid year found in matches for Semina Culture: Wallace Berman & His Circle by Duncan, Michael and Kristine McKenna: ['20']\n",
      "Debug: Text extracted for Semina Culture: Wallace Berman & His Circle by Duncan, Michael and Kristine McKenna:\n",
      "\n",
      "\n",
      "https://www.google.com/search?q=Semina%20Culture:%20Wallace%20Berman%20&%20His%20Circle%20Duncan,%20Michael%20and%20Kristine%20McKenna%20published%20in%20what%20year\n",
      "\n",
      "\n",
      "\n",
      "\n",
      "\n",
      "\n",
      "  In order to continue, please enable javascript on your web browser.\n",
      "\n",
      "\n",
      "\n",
      "\n",
      "\n",
      "\n",
      "\n",
      "\n",
      "\n",
      "About this page\n",
      "\n",
      "Our systems have detected unusual traffic from your computer network.  This page checks to see if it's really you sending the requests, and not a robot.  Why did this happen?\n",
      "\n",
      "This page appears when Google automatically detects re\n",
      "Debug: No valid year found in matches for Semina Culture: Wallace Berman & His Circle by Duncan, Michael and Kristine McKenna: ['20']\n",
      "Debug: Text extracted for Richard Misrach on Landscape and Meaning by Misrach, Richard:\n",
      "\n",
      "\n",
      "https://www.google.com/search?q=Richard%20Misrach%20on%20Landscape%20and%20Meaning%20Misrach,%20Richard%20published%20in%20what%20year\n",
      "\n",
      "\n",
      "\n",
      "\n",
      "\n",
      "\n",
      "  In order to continue, please enable javascript on your web browser.\n",
      "\n",
      "\n",
      "\n",
      "\n",
      "\n",
      "\n",
      "\n",
      "\n",
      "\n",
      "About this page\n",
      "\n",
      "Our systems have detected unusual traffic from your computer network.  This page checks to see if it's really you sending the requests, and not a robot.  Why did this happen?\n",
      "\n",
      "This page appears when Google automatically detects requests coming from your compute\n",
      "Debug: No valid year found in matches for Richard Misrach on Landscape and Meaning by Misrach, Richard: ['20']\n",
      "Error extracting year for Heaven/Earth by Connor, Linda: ('Connection aborted.', RemoteDisconnected('Remote end closed connection without response'))\n",
      "Error extracting year for Memoirs of a Beatnik by di Prima, Diane: ('Connection aborted.', RemoteDisconnected('Remote end closed connection without response'))\n"
     ]
    },
    {
     "name": "stderr",
     "output_type": "stream",
     "text": [
      "\r",
      "Processing books:  14%|███                   | 190/1346 [01:03<57:48,  3.00s/it]"
     ]
    },
    {
     "name": "stdout",
     "output_type": "stream",
     "text": [
      "Debug: Text extracted for Women, Art, and Society by Chadwick, Whitney:\n",
      "\n",
      "\n",
      "https://www.google.com/search?q=Women,%20Art,%20and%20Society%20Chadwick,%20Whitney%20published%20in%20what%20year\n",
      "\n",
      "\n",
      "\n",
      "\n",
      "\n",
      "\n",
      "  In order to continue, please enable javascript on your web browser.\n",
      "\n",
      "\n",
      "\n",
      "\n",
      "\n",
      "\n",
      "\n",
      "\n",
      "\n",
      "About this page\n",
      "\n",
      "Our systems have detected unusual traffic from your computer network.  This page checks to see if it's really you sending the requests, and not a robot.  Why did this happen?\n",
      "\n",
      "This page appears when Google automatically detects requests coming from your computer network which appe\n",
      "Debug: No valid year found in matches for Women, Art, and Society by Chadwick, Whitney: ['20']\n",
      "Debug: Text extracted for Richard Misrach on Landscape and Meaning by Misrach, Richard:\n",
      "\n",
      "\n",
      "https://www.google.com/search?q=Richard%20Misrach%20on%20Landscape%20and%20Meaning%20Misrach,%20Richard%20published%20in%20what%20year\n",
      "\n",
      "\n",
      "\n",
      "\n",
      "\n",
      "\n",
      "  In order to continue, please enable javascript on your web browser.\n",
      "\n",
      "\n",
      "\n",
      "\n",
      "\n",
      "\n",
      "\n",
      "\n",
      "\n",
      "About this page\n",
      "\n",
      "Our systems have detected unusual traffic from your computer network.  This page checks to see if it's really you sending the requests, and not a robot.  Why did this happen?\n",
      "\n",
      "This page appears when Google automatically detects requests coming from your compute\n",
      "Debug: No valid year found in matches for Richard Misrach on Landscape and Meaning by Misrach, Richard: ['20']\n"
     ]
    },
    {
     "name": "stderr",
     "output_type": "stream",
     "text": [
      "\r",
      "Processing books:  14%|███                   | 191/1346 [01:03<42:28,  2.21s/it]"
     ]
    },
    {
     "name": "stdout",
     "output_type": "stream",
     "text": [
      "Debug: Text extracted for Semina Culture: Wallace Berman & His Circle by Duncan, Michael and Kristine McKenna:\n",
      "\n",
      "\n",
      "https://www.google.com/search?q=Semina%20Culture:%20Wallace%20Berman%20&%20His%20Circle%20Duncan,%20Michael%20and%20Kristine%20McKenna%20published%20in%20what%20year\n",
      "\n",
      "\n",
      "\n",
      "\n",
      "\n",
      "\n",
      "  In order to continue, please enable javascript on your web browser.\n",
      "\n",
      "\n",
      "\n",
      "\n",
      "\n",
      "\n",
      "\n",
      "\n",
      "\n",
      "About this page\n",
      "\n",
      "Our systems have detected unusual traffic from your computer network.  This page checks to see if it's really you sending the requests, and not a robot.  Why did this happen?\n",
      "\n",
      "This page appears when Google automatically detects re\n",
      "Debug: No valid year found in matches for Semina Culture: Wallace Berman & His Circle by Duncan, Michael and Kristine McKenna: ['20']\n"
     ]
    },
    {
     "name": "stderr",
     "output_type": "stream",
     "text": [
      "\r",
      "Processing books:  14%|███▏                  | 192/1346 [01:03<33:05,  1.72s/it]"
     ]
    },
    {
     "name": "stdout",
     "output_type": "stream",
     "text": [
      "Debug: Text extracted for The H.D. Book by Duncan, Robert:\n",
      "\n",
      "\n",
      "https://www.google.com/search?q=The%20H.D.%20Book%20Duncan,%20Robert%20published%20in%20what%20year\n",
      "\n",
      "\n",
      "\n",
      "\n",
      "\n",
      "\n",
      "  In order to continue, please enable javascript on your web browser.\n",
      "\n",
      "\n",
      "\n",
      "\n",
      "\n",
      "\n",
      "\n",
      "\n",
      "\n",
      "About this page\n",
      "\n",
      "Our systems have detected unusual traffic from your computer network.  This page checks to see if it's really you sending the requests, and not a robot.  Why did this happen?\n",
      "\n",
      "This page appears when Google automatically detects requests coming from your computer network which appear to be in vio\n",
      "Debug: No valid year found in matches for The H.D. Book by Duncan, Robert: ['20']\n",
      "Debug: Text extracted for Touching the Edge by McClure, Michael:\n",
      "\n",
      "\n",
      "https://www.google.com/search?q=Touching%20the%20Edge%20McClure,%20Michael%20published%20in%20what%20year\n",
      "\n",
      "\n",
      "\n",
      "\n",
      "\n",
      "\n",
      "  In order to continue, please enable javascript on your web browser.\n",
      "\n",
      "\n",
      "\n",
      "\n",
      "\n",
      "\n",
      "\n",
      "\n",
      "\n",
      "About this page\n",
      "\n",
      "Our systems have detected unusual traffic from your computer network.  This page checks to see if it's really you sending the requests, and not a robot.  Why did this happen?\n",
      "\n",
      "This page appears when Google automatically detects requests coming from your computer network which appear to be \n",
      "Debug: No valid year found in matches for Touching the Edge by McClure, Michael: ['20']\n",
      "Debug: Text extracted for Jay Defeo: A Retrospective by Miller, Dana:\n",
      "\n",
      "\n",
      "https://www.google.com/search?q=Jay%20Defeo:%20A%20Retrospective%20Miller,%20Dana%20published%20in%20what%20year\n",
      "\n",
      "\n",
      "\n",
      "\n",
      "\n",
      "\n",
      "  In order to continue, please enable javascript on your web browser.\n",
      "\n",
      "\n",
      "\n",
      "\n",
      "\n",
      "\n",
      "\n",
      "\n",
      "\n",
      "About this page\n",
      "\n",
      "Our systems have detected unusual traffic from your computer network.  This page checks to see if it's really you sending the requests, and not a robot.  Why did this happen?\n",
      "\n",
      "This page appears when Google automatically detects requests coming from your computer network which appear\n",
      "Debug: No valid year found in matches for Jay Defeo: A Retrospective by Miller, Dana: ['20']\n",
      "Debug: Text extracted for My Vocabulary Did This To Me by Spicer, Jack:\n",
      "\n",
      "\n",
      "https://www.google.com/search?q=My%20Vocabulary%20Did%20This%20To%20Me%20Spicer,%20Jack%20published%20in%20what%20year\n",
      "\n",
      "\n",
      "\n",
      "\n",
      "\n",
      "\n",
      "  In order to continue, please enable javascript on your web browser.\n",
      "\n",
      "\n",
      "\n",
      "\n",
      "\n",
      "\n",
      "\n",
      "\n",
      "\n",
      "About this page\n",
      "\n",
      "Our systems have detected unusual traffic from your computer network.  This page checks to see if it's really you sending the requests, and not a robot.  Why did this happen?\n",
      "\n",
      "This page appears when Google automatically detects requests coming from your computer network which \n",
      "Debug: No valid year found in matches for My Vocabulary Did This To Me by Spicer, Jack: ['20']\n",
      "Debug: Text extracted for Touching the Edge by McClure, Michael:\n",
      "\n",
      "\n",
      "https://www.google.com/search?q=Touching%20the%20Edge%20McClure,%20Michael%20published%20in%20what%20year\n",
      "\n",
      "\n",
      "\n",
      "\n",
      "\n",
      "\n",
      "  In order to continue, please enable javascript on your web browser.\n",
      "\n",
      "\n",
      "\n",
      "\n",
      "\n",
      "\n",
      "\n",
      "\n",
      "\n",
      "About this page\n",
      "\n",
      "Our systems have detected unusual traffic from your computer network.  This page checks to see if it's really you sending the requests, and not a robot.  Why did this happen?\n",
      "\n",
      "This page appears when Google automatically detects requests coming from your computer network which appear to be \n",
      "Debug: No valid year found in matches for Touching the Edge by McClure, Michael: ['20']\n"
     ]
    },
    {
     "name": "stderr",
     "output_type": "stream",
     "text": [
      "\r",
      "Processing books:  14%|███▏                  | 193/1346 [01:05<34:18,  1.78s/it]"
     ]
    },
    {
     "name": "stdout",
     "output_type": "stream",
     "text": [
      "Debug: Text extracted for Jay Defeo: A Retrospective by Miller, Dana:\n",
      "\n",
      "\n",
      "https://www.google.com/search?q=Jay%20Defeo:%20A%20Retrospective%20Miller,%20Dana%20published%20in%20what%20year\n",
      "\n",
      "\n",
      "\n",
      "\n",
      "\n",
      "\n",
      "  In order to continue, please enable javascript on your web browser.\n",
      "\n",
      "\n",
      "\n",
      "\n",
      "\n",
      "\n",
      "\n",
      "\n",
      "\n",
      "About this page\n",
      "\n",
      "Our systems have detected unusual traffic from your computer network.  This page checks to see if it's really you sending the requests, and not a robot.  Why did this happen?\n",
      "\n",
      "This page appears when Google automatically detects requests coming from your computer network which appear\n",
      "Debug: No valid year found in matches for Jay Defeo: A Retrospective by Miller, Dana: ['20']\n",
      "Debug: Text extracted for My Vocabulary Did This To Me by Spicer, Jack:\n",
      "\n",
      "\n",
      "https://www.google.com/search?q=My%20Vocabulary%20Did%20This%20To%20Me%20Spicer,%20Jack%20published%20in%20what%20year\n",
      "\n",
      "\n",
      "\n",
      "\n",
      "\n",
      "\n",
      "  In order to continue, please enable javascript on your web browser.\n",
      "\n",
      "\n",
      "\n",
      "\n",
      "\n",
      "\n",
      "\n",
      "\n",
      "\n",
      "About this page\n",
      "\n",
      "Our systems have detected unusual traffic from your computer network.  This page checks to see if it's really you sending the requests, and not a robot.  Why did this happen?\n",
      "\n",
      "This page appears when Google automatically detects requests coming from your computer network which \n",
      "Debug: No valid year found in matches for My Vocabulary Did This To Me by Spicer, Jack: ['20']\n",
      "Error extracting year for Women, Art, and Society by Chadwick, Whitney: ('Connection aborted.', RemoteDisconnected('Remote end closed connection without response'))Error extracting year for Jay Defeo: A Retrospective by Miller, Dana: ('Connection aborted.', ConnectionResetError(54, 'Connection reset by peer'))\n",
      "Error extracting year for It's All True by Connor, Bruce: ('Connection aborted.', RemoteDisconnected('Remote end closed connection without response'))\n",
      "\n"
     ]
    },
    {
     "name": "stderr",
     "output_type": "stream",
     "text": [
      "Processing books:  14%|██▊                | 195/1346 [07:15<24:48:18, 77.58s/it]"
     ]
    },
    {
     "name": "stdout",
     "output_type": "stream",
     "text": [
      "Debug: Text extracted for Heaven/Earth by Connor, Linda:\n",
      "\n",
      "\n",
      "https://www.google.com/search?q=Heaven/Earth%20Connor,%20Linda%20published%20in%20what%20year\n",
      "\n",
      "\n",
      "\n",
      "\n",
      "\n",
      "\n",
      "  In order to continue, please enable javascript on your web browser.\n",
      "\n",
      "\n",
      "\n",
      "\n",
      "\n",
      "\n",
      "\n",
      "\n",
      "\n",
      "About this page\n",
      "\n",
      "Our systems have detected unusual traffic from your computer network.  This page checks to see if it's really you sending the requests, and not a robot.  Why did this happen?\n",
      "\n",
      "This page appears when Google automatically detects requests coming from your computer network which appear to be in violation\n",
      "Debug: No valid year found in matches for Heaven/Earth by Connor, Linda: ['20']\n",
      "Debug: Text extracted for Alice Neel: People Come First by Baum, Kelly and Randall Griffey:\n",
      "\n",
      "\n",
      "https://www.google.com/search?q=Alice%20Neel:%20People%20Come%20First%20Baum,%20Kelly%20and%20Randall%20Griffey%20published%20in%20what%20year\n",
      "\n",
      "\n",
      "\n",
      "\n",
      "\n",
      "\n",
      "  In order to continue, please enable javascript on your web browser.\n",
      "\n",
      "\n",
      "\n",
      "\n",
      "\n",
      "\n",
      "\n",
      "\n",
      "\n",
      "About this page\n",
      "\n",
      "Our systems have detected unusual traffic from your computer network.  This page checks to see if it's really you sending the requests, and not a robot.  Why did this happen?\n",
      "\n",
      "This page appears when Google automatically detects requests coming from your\n",
      "Debug: No valid year found in matches for Alice Neel: People Come First by Baum, Kelly and Randall Griffey: ['20']\n",
      "Debug: Text extracted for On the Road by Kerouac, Jack:\n",
      "\n",
      "\n",
      "https://www.google.com/search?q=On%20the%20Road%20Kerouac,%20Jack%20published%20in%20what%20year\n",
      "\n",
      "\n",
      "\n",
      "\n",
      "\n",
      "\n",
      "  In order to continue, please enable javascript on your web browser.\n",
      "\n",
      "\n",
      "\n",
      "\n",
      "\n",
      "\n",
      "\n",
      "\n",
      "\n",
      "About this page\n",
      "\n",
      "Our systems have detected unusual traffic from your computer network.  This page checks to see if it's really you sending the requests, and not a robot.  Why did this happen?\n",
      "\n",
      "This page appears when Google automatically detects requests coming from your computer network which appear to be in violat\n",
      "Debug: No valid year found in matches for On the Road by Kerouac, Jack: ['20']\n",
      "Debug: Text extracted for Alice Neel: People Come First by Baum, Kelly and Randall Griffey:\n",
      "\n",
      "\n",
      "https://www.google.com/search?q=Alice%20Neel:%20People%20Come%20First%20Baum,%20Kelly%20and%20Randall%20Griffey%20published%20in%20what%20year\n",
      "\n",
      "\n",
      "\n",
      "\n",
      "\n",
      "\n",
      "  In order to continue, please enable javascript on your web browser.\n",
      "\n",
      "\n",
      "\n",
      "\n",
      "\n",
      "\n",
      "\n",
      "\n",
      "\n",
      "About this page\n",
      "\n",
      "Our systems have detected unusual traffic from your computer network.  This page checks to see if it's really you sending the requests, and not a robot.  Why did this happen?\n",
      "\n",
      "This page appears when Google automatically detects requests coming from your\n",
      "Debug: No valid year found in matches for Alice Neel: People Come First by Baum, Kelly and Randall Griffey: ['20']\n"
     ]
    },
    {
     "name": "stderr",
     "output_type": "stream",
     "text": [
      "\r",
      "Processing books:  15%|██▊                | 196/1346 [07:16<17:31:23, 54.86s/it]"
     ]
    },
    {
     "name": "stdout",
     "output_type": "stream",
     "text": [
      "Debug: Text extracted for Alice Neel: People Come First by Baum, Kelly and Randall Griffey:\n",
      "\n",
      "\n",
      "https://www.google.com/search?q=Alice%20Neel:%20People%20Come%20First%20Baum,%20Kelly%20and%20Randall%20Griffey%20published%20in%20what%20year\n",
      "\n",
      "\n",
      "\n",
      "\n",
      "\n",
      "\n",
      "  In order to continue, please enable javascript on your web browser.\n",
      "\n",
      "\n",
      "\n",
      "\n",
      "\n",
      "\n",
      "\n",
      "\n",
      "\n",
      "About this page\n",
      "\n",
      "Our systems have detected unusual traffic from your computer network.  This page checks to see if it's really you sending the requests, and not a robot.  Why did this happen?\n",
      "\n",
      "This page appears when Google automatically detects requests coming from your\n",
      "Debug: No valid year found in matches for Alice Neel: People Come First by Baum, Kelly and Randall Griffey: ['20']\n",
      "Debug: Text extracted for On the Road by Kerouac, Jack:\n",
      "\n",
      "\n",
      "https://www.google.com/search?q=On%20the%20Road%20Kerouac,%20Jack%20published%20in%20what%20year\n",
      "\n",
      "\n",
      "\n",
      "\n",
      "\n",
      "\n",
      "  In order to continue, please enable javascript on your web browser.\n",
      "\n",
      "\n",
      "\n",
      "\n",
      "\n",
      "\n",
      "\n",
      "\n",
      "\n",
      "About this page\n",
      "\n",
      "Our systems have detected unusual traffic from your computer network.  This page checks to see if it's really you sending the requests, and not a robot.  Why did this happen?\n",
      "\n",
      "This page appears when Google automatically detects requests coming from your computer network which appear to be in violat\n",
      "Debug: No valid year found in matches for On the Road by Kerouac, Jack: ['20']\n"
     ]
    },
    {
     "name": "stderr",
     "output_type": "stream",
     "text": [
      "\r",
      "Processing books:  15%|██▊                | 197/1346 [07:17<12:20:14, 38.66s/it]"
     ]
    },
    {
     "name": "stdout",
     "output_type": "stream",
     "text": [
      "Debug: Text extracted for Naked Lunch by Burroughs, William:\n",
      "\n",
      "\n",
      "https://www.google.com/search?q=Naked%20Lunch%20Burroughs,%20William%20published%20in%20what%20year\n",
      "\n",
      "\n",
      "\n",
      "\n",
      "\n",
      "\n",
      "  In order to continue, please enable javascript on your web browser.\n",
      "\n",
      "\n",
      "\n",
      "\n",
      "\n",
      "\n",
      "\n",
      "\n",
      "\n",
      "About this page\n",
      "\n",
      "Our systems have detected unusual traffic from your computer network.  This page checks to see if it's really you sending the requests, and not a robot.  Why did this happen?\n",
      "\n",
      "This page appears when Google automatically detects requests coming from your computer network which appear to be in vio\n",
      "Debug: No valid year found in matches for Naked Lunch by Burroughs, William: ['20']\n",
      "Debug: Text extracted for On the Road by Kerouac, Jack:\n",
      "\n",
      "\n",
      "https://www.google.com/search?q=On%20the%20Road%20Kerouac,%20Jack%20published%20in%20what%20year\n",
      "\n",
      "\n",
      "\n",
      "\n",
      "\n",
      "\n",
      "  In order to continue, please enable javascript on your web browser.\n",
      "\n",
      "\n",
      "\n",
      "\n",
      "\n",
      "\n",
      "\n",
      "\n",
      "\n",
      "About this page\n",
      "\n",
      "Our systems have detected unusual traffic from your computer network.  This page checks to see if it's really you sending the requests, and not a robot.  Why did this happen?\n",
      "\n",
      "This page appears when Google automatically detects requests coming from your computer network which appear to be in violat\n",
      "Debug: No valid year found in matches for On the Road by Kerouac, Jack: ['20']\n",
      "Debug: Text extracted for Love and Death in the American Novel by Fiedler, Leslie:\n",
      "\n",
      "\n",
      "https://www.google.com/search?q=Love%20and%20Death%20in%20the%20American%20Novel%20Fiedler,%20Leslie%20published%20in%20what%20year\n",
      "\n",
      "\n",
      "\n",
      "\n",
      "\n",
      "\n",
      "  In order to continue, please enable javascript on your web browser.\n",
      "\n",
      "\n",
      "\n",
      "\n",
      "\n",
      "\n",
      "\n",
      "\n",
      "\n",
      "About this page\n",
      "\n",
      "Our systems have detected unusual traffic from your computer network.  This page checks to see if it's really you sending the requests, and not a robot.  Why did this happen?\n",
      "\n",
      "This page appears when Google automatically detects requests coming from your computer n\n",
      "Debug: No valid year found in matches for Love and Death in the American Novel by Fiedler, Leslie: ['20']\n",
      "Debug: Text extracted for A Season in Hell by Rimbaud, Arthur:\n",
      "\n",
      "\n",
      "https://www.google.com/search?q=A%20Season%20in%20Hell%20Rimbaud,%20Arthur%20published%20in%20what%20year\n",
      "\n",
      "\n",
      "\n",
      "\n",
      "\n",
      "\n",
      "  In order to continue, please enable javascript on your web browser.\n",
      "\n",
      "\n",
      "\n",
      "\n",
      "\n",
      "\n",
      "\n",
      "\n",
      "\n",
      "About this page\n",
      "\n",
      "Our systems have detected unusual traffic from your computer network.  This page checks to see if it's really you sending the requests, and not a robot.  Why did this happen?\n",
      "\n",
      "This page appears when Google automatically detects requests coming from your computer network which appear to be \n",
      "Debug: No valid year found in matches for A Season in Hell by Rimbaud, Arthur: ['20']\n",
      "Debug: Text extracted for Naked Lunch by Burroughs, William:\n",
      "\n",
      "\n",
      "https://www.google.com/search?q=Naked%20Lunch%20Burroughs,%20William%20published%20in%20what%20year\n",
      "\n",
      "\n",
      "\n",
      "\n",
      "\n",
      "\n",
      "  In order to continue, please enable javascript on your web browser.\n",
      "\n",
      "\n",
      "\n",
      "\n",
      "\n",
      "\n",
      "\n",
      "\n",
      "\n",
      "About this page\n",
      "\n",
      "Our systems have detected unusual traffic from your computer network.  This page checks to see if it's really you sending the requests, and not a robot.  Why did this happen?\n",
      "\n",
      "This page appears when Google automatically detects requests coming from your computer network which appear to be in vio\n",
      "Debug: No valid year found in matches for Naked Lunch by Burroughs, William: ['20']\n",
      "Debug: Text extracted for Love and Death in the American Novel by Fiedler, Leslie:\n",
      "\n",
      "\n",
      "https://www.google.com/search?q=Love%20and%20Death%20in%20the%20American%20Novel%20Fiedler,%20Leslie%20published%20in%20what%20year\n",
      "\n",
      "\n",
      "\n",
      "\n",
      "\n",
      "\n",
      "  In order to continue, please enable javascript on your web browser.\n",
      "\n",
      "\n",
      "\n",
      "\n",
      "\n",
      "\n",
      "\n",
      "\n",
      "\n",
      "About this page\n",
      "\n",
      "Our systems have detected unusual traffic from your computer network.  This page checks to see if it's really you sending the requests, and not a robot.  Why did this happen?\n",
      "\n",
      "This page appears when Google automatically detects requests coming from your computer n\n",
      "Debug: No valid year found in matches for Love and Death in the American Novel by Fiedler, Leslie: ['20']\n"
     ]
    },
    {
     "name": "stderr",
     "output_type": "stream",
     "text": [
      "\r",
      "Processing books:  15%|██▉                 | 198/1346 [07:18<8:45:42, 27.48s/it]"
     ]
    },
    {
     "name": "stdout",
     "output_type": "stream",
     "text": [
      "Debug: Text extracted for Naked Lunch by Burroughs, William:\n",
      "\n",
      "\n",
      "https://www.google.com/search?q=Naked%20Lunch%20Burroughs,%20William%20published%20in%20what%20year\n",
      "\n",
      "\n",
      "\n",
      "\n",
      "\n",
      "\n",
      "  In order to continue, please enable javascript on your web browser.\n",
      "\n",
      "\n",
      "\n",
      "\n",
      "\n",
      "\n",
      "\n",
      "\n",
      "\n",
      "About this page\n",
      "\n",
      "Our systems have detected unusual traffic from your computer network.  This page checks to see if it's really you sending the requests, and not a robot.  Why did this happen?\n",
      "\n",
      "This page appears when Google automatically detects requests coming from your computer network which appear to be in vio\n",
      "Debug: No valid year found in matches for Naked Lunch by Burroughs, William: ['20']\n",
      "Debug: Text extracted for Love and Death in the American Novel by Fiedler, Leslie:\n",
      "\n",
      "\n",
      "https://www.google.com/search?q=Love%20and%20Death%20in%20the%20American%20Novel%20Fiedler,%20Leslie%20published%20in%20what%20year\n",
      "\n",
      "\n",
      "\n",
      "\n",
      "\n",
      "\n",
      "  In order to continue, please enable javascript on your web browser.\n",
      "\n",
      "\n",
      "\n",
      "\n",
      "\n",
      "\n",
      "\n",
      "\n",
      "\n",
      "About this page\n",
      "\n",
      "Our systems have detected unusual traffic from your computer network.  This page checks to see if it's really you sending the requests, and not a robot.  Why did this happen?\n",
      "\n",
      "This page appears when Google automatically detects requests coming from your computer n\n",
      "Debug: No valid year found in matches for Love and Death in the American Novel by Fiedler, Leslie: ['20']\n"
     ]
    },
    {
     "name": "stderr",
     "output_type": "stream",
     "text": [
      "\r",
      "Processing books:  15%|██▉                 | 200/1346 [07:18<4:46:12, 14.99s/it]"
     ]
    },
    {
     "name": "stdout",
     "output_type": "stream",
     "text": [
      "Debug: Text extracted for Huckleberry Finn by Twain, Mark:\n",
      "\n",
      "\n",
      "https://www.google.com/search?q=Huckleberry%20Finn%20Twain,%20Mark%20published%20in%20what%20year\n",
      "\n",
      "\n",
      "\n",
      "\n",
      "\n",
      "\n",
      "  In order to continue, please enable javascript on your web browser.\n",
      "\n",
      "\n",
      "\n",
      "\n",
      "\n",
      "\n",
      "\n",
      "\n",
      "\n",
      "About this page\n",
      "\n",
      "Our systems have detected unusual traffic from your computer network.  This page checks to see if it's really you sending the requests, and not a robot.  Why did this happen?\n",
      "\n",
      "This page appears when Google automatically detects requests coming from your computer network which appear to be in viola\n",
      "Debug: No valid year found in matches for Huckleberry Finn by Twain, Mark: ['20']\n",
      "Debug: Text extracted for Portrait and Dreams by Berkson, Bill:\n",
      "\n",
      "\n",
      "https://www.google.com/search?q=Portrait%20and%20Dreams%20Berkson,%20Bill%20published%20in%20what%20year\n",
      "\n",
      "\n",
      "\n",
      "\n",
      "\n",
      "\n",
      "  In order to continue, please enable javascript on your web browser.\n",
      "\n",
      "\n",
      "\n",
      "\n",
      "\n",
      "\n",
      "\n",
      "\n",
      "\n",
      "About this page\n",
      "\n",
      "Our systems have detected unusual traffic from your computer network.  This page checks to see if it's really you sending the requests, and not a robot.  Why did this happen?\n",
      "\n",
      "This page appears when Google automatically detects requests coming from your computer network which appear to be i\n",
      "Debug: No valid year found in matches for Portrait and Dreams by Berkson, Bill: ['20']\n",
      "Debug: Text extracted for Huckleberry Finn by Twain, Mark:\n",
      "\n",
      "\n",
      "https://www.google.com/search?q=Huckleberry%20Finn%20Twain,%20Mark%20published%20in%20what%20year\n",
      "\n",
      "\n",
      "\n",
      "\n",
      "\n",
      "\n",
      "  In order to continue, please enable javascript on your web browser.\n",
      "\n",
      "\n",
      "\n",
      "\n",
      "\n",
      "\n",
      "\n",
      "\n",
      "\n",
      "About this page\n",
      "\n",
      "Our systems have detected unusual traffic from your computer network.  This page checks to see if it's really you sending the requests, and not a robot.  Why did this happen?\n",
      "\n",
      "This page appears when Google automatically detects requests coming from your computer network which appear to be in viola\n",
      "Debug: No valid year found in matches for Huckleberry Finn by Twain, Mark: ['20']\n",
      "Debug: Text extracted for Portrait and Dreams by Berkson, Bill:\n",
      "\n",
      "\n",
      "https://www.google.com/search?q=Portrait%20and%20Dreams%20Berkson,%20Bill%20published%20in%20what%20year\n",
      "\n",
      "\n",
      "\n",
      "\n",
      "\n",
      "\n",
      "  In order to continue, please enable javascript on your web browser.\n",
      "\n",
      "\n",
      "\n",
      "\n",
      "\n",
      "\n",
      "\n",
      "\n",
      "\n",
      "About this page\n",
      "\n",
      "Our systems have detected unusual traffic from your computer network.  This page checks to see if it's really you sending the requests, and not a robot.  Why did this happen?\n",
      "\n",
      "This page appears when Google automatically detects requests coming from your computer network which appear to be i\n",
      "Debug: No valid year found in matches for Portrait and Dreams by Berkson, Bill: ['20']\n",
      "Debug: Text extracted for Savage Dreams: A Journey into the Hidden Wars of the American West by Solnit, Rebecca:\n",
      "\n",
      "\n",
      "https://www.google.com/search?q=Savage%20Dreams:%20A%20Journey%20into%20the%20Hidden%20Wars%20of%20the%20American%20West%20Solnit,%20Rebecca%20published%20in%20what%20year\n",
      "\n",
      "\n",
      "\n",
      "\n",
      "\n",
      "\n",
      "  In order to continue, please enable javascript on your web browser.\n",
      "\n",
      "\n",
      "\n",
      "\n",
      "\n",
      "\n",
      "\n",
      "\n",
      "\n",
      "About this page\n",
      "\n",
      "Our systems have detected unusual traffic from your computer network.  This page checks to see if it's really you sending the requests, and not a robot.  Why did this happen?\n",
      "\n",
      "This page appears when Google automatically dete\n",
      "Debug: No valid year found in matches for Savage Dreams: A Journey into the Hidden Wars of the American West by Solnit, Rebecca: ['20']\n",
      "Debug: Text extracted for A Season in Hell by Rimbaud, Arthur:\n",
      "\n",
      "\n",
      "https://www.google.com/search?q=A%20Season%20in%20Hell%20Rimbaud,%20Arthur%20published%20in%20what%20year\n",
      "\n",
      "\n",
      "\n",
      "\n",
      "\n",
      "\n",
      "  In order to continue, please enable javascript on your web browser.\n",
      "\n",
      "\n",
      "\n",
      "\n",
      "\n",
      "\n",
      "\n",
      "\n",
      "\n",
      "About this page\n",
      "\n",
      "Our systems have detected unusual traffic from your computer network.  This page checks to see if it's really you sending the requests, and not a robot.  Why did this happen?\n",
      "\n",
      "This page appears when Google automatically detects requests coming from your computer network which appear to be \n",
      "Debug: No valid year found in matches for A Season in Hell by Rimbaud, Arthur: ['20']\n"
     ]
    },
    {
     "name": "stderr",
     "output_type": "stream",
     "text": [
      "Processing books:  15%|███                 | 203/1346 [07:20<2:17:45,  7.23s/it]"
     ]
    },
    {
     "name": "stdout",
     "output_type": "stream",
     "text": [
      "Debug: Text extracted for Portrait and Dreams by Berkson, Bill:\n",
      "\n",
      "\n",
      "https://www.google.com/search?q=Portrait%20and%20Dreams%20Berkson,%20Bill%20published%20in%20what%20year\n",
      "\n",
      "\n",
      "\n",
      "\n",
      "\n",
      "\n",
      "  In order to continue, please enable javascript on your web browser.\n",
      "\n",
      "\n",
      "\n",
      "\n",
      "\n",
      "\n",
      "\n",
      "\n",
      "\n",
      "About this page\n",
      "\n",
      "Our systems have detected unusual traffic from your computer network.  This page checks to see if it's really you sending the requests, and not a robot.  Why did this happen?\n",
      "\n",
      "This page appears when Google automatically detects requests coming from your computer network which appear to be iDebug: Text extracted for Savage Dreams: A Journey into the Hidden Wars of the American West by Solnit, Rebecca:\n",
      "\n",
      "\n",
      "https://www.google.com/search?q=Savage%20Dreams:%20A%20Journey%20into%20the%20Hidden%20Wars%20of%20the%20American%20West%20Solnit,%20Rebecca%20published%20in%20what%20year\n",
      "\n",
      "\n",
      "\n",
      "\n",
      "\n",
      "\n",
      "  In order to continue, please enable javascript on your web browser.\n",
      "\n",
      "\n",
      "\n",
      "\n",
      "\n",
      "\n",
      "\n",
      "\n",
      "\n",
      "About this page\n",
      "\n",
      "Our systems have detected unusual traffic from your computer network.  This page checks to see if it's really you sending the requests, and not a robot.  Why did this happen?\n",
      "\n",
      "This page appears when Google automatically dete\n",
      "Debug: No valid year found in matches for Savage Dreams: A Journey into the Hidden Wars of the American West by Solnit, Rebecca: ['20']\n",
      "\n",
      "Debug: No valid year found in matches for Portrait and Dreams by Berkson, Bill: ['20']\n",
      "Debug: Text extracted for Huckleberry Finn by Twain, Mark:\n",
      "\n",
      "\n",
      "https://www.google.com/search?q=Huckleberry%20Finn%20Twain,%20Mark%20published%20in%20what%20year\n",
      "\n",
      "\n",
      "\n",
      "\n",
      "\n",
      "\n",
      "  In order to continue, please enable javascript on your web browser.\n",
      "\n",
      "\n",
      "\n",
      "\n",
      "\n",
      "\n",
      "\n",
      "\n",
      "\n",
      "About this page\n",
      "\n",
      "Our systems have detected unusual traffic from your computer network.  This page checks to see if it's really you sending the requests, and not a robot.  Why did this happen?\n",
      "\n",
      "This page appears when Google automatically detects requests coming from your computer network which appear to be in viola\n",
      "Debug: No valid year found in matches for Huckleberry Finn by Twain, Mark: ['20']\n",
      "Debug: Text extracted for It's All True by Connor, Bruce:\n",
      "\n",
      "\n",
      "https://www.google.com/search?q=It's%20All%20True%20Connor,%20Bruce%20published%20in%20what%20year\n",
      "\n",
      "\n",
      "\n",
      "\n",
      "\n",
      "\n",
      "  In order to continue, please enable javascript on your web browser.\n",
      "\n",
      "\n",
      "\n",
      "\n",
      "\n",
      "\n",
      "\n",
      "\n",
      "\n",
      "About this page\n",
      "\n",
      "Our systems have detected unusual traffic from your computer network.  This page checks to see if it's really you sending the requests, and not a robot.  Why did this happen?\n",
      "\n",
      "This page appears when Google automatically detects requests coming from your computer network which appear to be in viol\n",
      "Debug: No valid year found in matches for It's All True by Connor, Bruce: ['20']\n",
      "Debug: Text extracted for A Season in Hell by Rimbaud, Arthur:\n",
      "\n",
      "\n",
      "https://www.google.com/search?q=A%20Season%20in%20Hell%20Rimbaud,%20Arthur%20published%20in%20what%20year\n",
      "\n",
      "\n",
      "\n",
      "\n",
      "\n",
      "\n",
      "  In order to continue, please enable javascript on your web browser.\n",
      "\n",
      "\n",
      "\n",
      "\n",
      "\n",
      "\n",
      "\n",
      "\n",
      "\n",
      "About this page\n",
      "\n",
      "Our systems have detected unusual traffic from your computer network.  This page checks to see if it's really you sending the requests, and not a robot.  Why did this happen?\n",
      "\n",
      "This page appears when Google automatically detects requests coming from your computer network which appear to be \n",
      "Debug: No valid year found in matches for A Season in Hell by Rimbaud, Arthur: ['20']\n",
      "Debug: Text extracted for The Lost Lunar Baedeker: Pomes of Mina Loy by Loy, Mina:\n",
      "\n",
      "\n",
      "https://www.google.com/search?q=The%20Lost%20Lunar%20Baedeker:%20Pomes%20of%20Mina%20Loy%20Loy,%20Mina%20published%20in%20what%20year\n",
      "\n",
      "\n",
      "\n",
      "\n",
      "\n",
      "\n",
      "  In order to continue, please enable javascript on your web browser.\n",
      "\n",
      "\n",
      "\n",
      "\n",
      "\n",
      "\n",
      "\n",
      "\n",
      "\n",
      "About this page\n",
      "\n",
      "Our systems have detected unusual traffic from your computer network.  This page checks to see if it's really you sending the requests, and not a robot.  Why did this happen?\n",
      "\n",
      "This page appears when Google automatically detects requests coming from your computer\n",
      "Debug: No valid year found in matches for The Lost Lunar Baedeker: Pomes of Mina Loy by Loy, Mina: ['20']\n"
     ]
    },
    {
     "name": "stderr",
     "output_type": "stream",
     "text": [
      "Processing books:  15%|███                 | 206/1346 [07:20<1:08:23,  3.60s/it]"
     ]
    },
    {
     "name": "stdout",
     "output_type": "stream",
     "text": [
      "Debug: Text extracted for The Lost Lunar Baedeker: Pomes of Mina Loy by Loy, Mina:\n",
      "\n",
      "\n",
      "https://www.google.com/search?q=The%20Lost%20Lunar%20Baedeker:%20Pomes%20of%20Mina%20Loy%20Loy,%20Mina%20published%20in%20what%20year\n",
      "\n",
      "\n",
      "\n",
      "\n",
      "\n",
      "\n",
      "  In order to continue, please enable javascript on your web browser.\n",
      "\n",
      "\n",
      "\n",
      "\n",
      "\n",
      "\n",
      "\n",
      "\n",
      "\n",
      "About this page\n",
      "\n",
      "Our systems have detected unusual traffic from your computer network.  This page checks to see if it's really you sending the requests, and not a robot.  Why did this happen?\n",
      "\n",
      "This page appears when Google automatically detects requests coming from your computerDebug: Text extracted for Secret Exhibition: Six California Artists of the Cold War Era by Solnit, Rebecca:\n",
      "\n",
      "\n",
      "https://www.google.com/search?q=Secret%20Exhibition:%20Six%20California%20Artists%20of%20the%20Cold%20War%20Era%20Solnit,%20Rebecca%20published%20in%20what%20year\n",
      "\n",
      "\n",
      "\n",
      "\n",
      "\n",
      "\n",
      "  In order to continue, please enable javascript on your web browser.\n",
      "\n",
      "\n",
      "\n",
      "\n",
      "\n",
      "\n",
      "\n",
      "\n",
      "\n",
      "About this page\n",
      "\n",
      "Our systems have detected unusual traffic from your computer network.  This page checks to see if it's really you sending the requests, and not a robot.  Why did this happen?\n",
      "\n",
      "This page appears when Google automatically detects reque\n",
      "Debug: No valid year found in matches for Secret Exhibition: Six California Artists of the Cold War Era by Solnit, Rebecca: ['20']\n",
      "Debug: Text extracted for The Price of the Ticket by Baldwin, James:\n",
      "\n",
      "\n",
      "https://www.google.com/search?q=The%20Price%20of%20the%20Ticket%20Baldwin,%20James%20published%20in%20what%20year\n",
      "\n",
      "\n",
      "\n",
      "\n",
      "\n",
      "\n",
      "  In order to continue, please enable javascript on your web browser.\n",
      "\n",
      "\n",
      "\n",
      "\n",
      "\n",
      "\n",
      "\n",
      "\n",
      "\n",
      "About this page\n",
      "\n",
      "Our systems have detected unusual traffic from your computer network.  This page checks to see if it's really you sending the requests, and not a robot.  Why did this happen?\n",
      "\n",
      "This page appears when Google automatically detects requests coming from your computer network which appea\n",
      "Debug: No valid year found in matches for The Price of the Ticket by Baldwin, James: ['20']\n",
      "\n",
      "Debug: No valid year found in matches for The Lost Lunar Baedeker: Pomes of Mina Loy by Loy, Mina: ['20']\n",
      "Debug: Text extracted for It's All True by Connor, Bruce:\n",
      "\n",
      "\n",
      "https://www.google.com/search?q=It's%20All%20True%20Connor,%20Bruce%20published%20in%20what%20year\n",
      "\n",
      "\n",
      "\n",
      "\n",
      "\n",
      "\n",
      "  In order to continue, please enable javascript on your web browser.\n",
      "\n",
      "\n",
      "\n",
      "\n",
      "\n",
      "\n",
      "\n",
      "\n",
      "\n",
      "About this page\n",
      "\n",
      "Our systems have detected unusual traffic from your computer network.  This page checks to see if it's really you sending the requests, and not a robot.  Why did this happen?\n",
      "\n",
      "This page appears when Google automatically detects requests coming from your computer network which appear to be in viol\n",
      "Debug: No valid year found in matches for It's All True by Connor, Bruce: ['20']\n",
      "Debug: Text extracted for Savage Dreams: A Journey into the Hidden Wars of the American West by Solnit, Rebecca:\n",
      "\n",
      "\n",
      "https://www.google.com/search?q=Savage%20Dreams:%20A%20Journey%20into%20the%20Hidden%20Wars%20of%20the%20American%20West%20Solnit,%20Rebecca%20published%20in%20what%20year\n",
      "\n",
      "\n",
      "\n",
      "\n",
      "\n",
      "\n",
      "  In order to continue, please enable javascript on your web browser.\n",
      "\n",
      "\n",
      "\n",
      "\n",
      "\n",
      "\n",
      "\n",
      "\n",
      "\n",
      "About this page\n",
      "\n",
      "Our systems have detected unusual traffic from your computer network.  This page checks to see if it's really you sending the requests, and not a robot.  Why did this happen?\n",
      "\n",
      "This page appears when Google automatically dete\n",
      "Debug: No valid year found in matches for Savage Dreams: A Journey into the Hidden Wars of the American West by Solnit, Rebecca: ['20']\n"
     ]
    },
    {
     "name": "stderr",
     "output_type": "stream",
     "text": [
      "\r",
      "Processing books:  15%|███▍                  | 207/1346 [07:21<54:00,  2.84s/it]"
     ]
    },
    {
     "name": "stdout",
     "output_type": "stream",
     "text": [
      "Debug: Text extracted for Son of the Morning Star: Custer and Little Big Horn by Connell, Evan S.:\n",
      "\n",
      "\n",
      "https://www.google.com/search?q=Son%20of%20the%20Morning%20Star:%20Custer%20and%20Little%20Big%20Horn%20Connell,%20Evan%20S.%20published%20in%20what%20year\n",
      "\n",
      "\n",
      "\n",
      "\n",
      "\n",
      "\n",
      "  In order to continue, please enable javascript on your web browser.\n",
      "\n",
      "\n",
      "\n",
      "\n",
      "\n",
      "\n",
      "\n",
      "\n",
      "\n",
      "About this page\n",
      "\n",
      "Our systems have detected unusual traffic from your computer network.  This page checks to see if it's really you sending the requests, and not a robot.  Why did this happen?\n",
      "\n",
      "This page appears when Google automatically detects requests com\n",
      "Debug: No valid year found in matches for Son of the Morning Star: Custer and Little Big Horn by Connell, Evan S.: ['20']\n",
      "Debug: Text extracted for The Lost Lunar Baedeker: Pomes of Mina Loy by Loy, Mina:\n",
      "\n",
      "\n",
      "https://www.google.com/search?q=The%20Lost%20Lunar%20Baedeker:%20Pomes%20of%20Mina%20Loy%20Loy,%20Mina%20published%20in%20what%20year\n",
      "\n",
      "\n",
      "\n",
      "\n",
      "\n",
      "\n",
      "  In order to continue, please enable javascript on your web browser.\n",
      "\n",
      "\n",
      "\n",
      "\n",
      "\n",
      "\n",
      "\n",
      "\n",
      "\n",
      "About this page\n",
      "\n",
      "Our systems have detected unusual traffic from your computer network.  This page checks to see if it's really you sending the requests, and not a robot.  Why did this happen?\n",
      "\n",
      "This page appears when Google automatically detects requests coming from your computer\n",
      "Debug: No valid year found in matches for The Lost Lunar Baedeker: Pomes of Mina Loy by Loy, Mina: ['20']\n",
      "Debug: Text extracted for Wanderlust by Solnit, Rebecca:\n",
      "\n",
      "\n",
      "https://www.google.com/search?q=Wanderlust%20Solnit,%20Rebecca%20published%20in%20what%20year\n",
      "\n",
      "\n",
      "\n",
      "\n",
      "\n",
      "\n",
      "  In order to continue, please enable javascript on your web browser.\n",
      "\n",
      "\n",
      "\n",
      "\n",
      "\n",
      "\n",
      "\n",
      "\n",
      "\n",
      "About this page\n",
      "\n",
      "Our systems have detected unusual traffic from your computer network.  This page checks to see if it's really you sending the requests, and not a robot.  Why did this happen?\n",
      "\n",
      "This page appears when Google automatically detects requests coming from your computer network which appear to be in violation\n",
      "Debug: No valid year found in matches for Wanderlust by Solnit, Rebecca: ['20']\n",
      "Debug: Text extracted for Secret Exhibition: Six California Artists of the Cold War Era by Solnit, Rebecca:\n",
      "\n",
      "\n",
      "https://www.google.com/search?q=Secret%20Exhibition:%20Six%20California%20Artists%20of%20the%20Cold%20War%20Era%20Solnit,%20Rebecca%20published%20in%20what%20year\n",
      "\n",
      "\n",
      "\n",
      "\n",
      "\n",
      "\n",
      "  In order to continue, please enable javascript on your web browser.\n",
      "\n",
      "\n",
      "\n",
      "\n",
      "\n",
      "\n",
      "\n",
      "\n",
      "\n",
      "About this page\n",
      "\n",
      "Our systems have detected unusual traffic from your computer network.  This page checks to see if it's really you sending the requests, and not a robot.  Why did this happen?\n",
      "\n",
      "This page appears when Google automatically detects reque\n",
      "Debug: No valid year found in matches for Secret Exhibition: Six California Artists of the Cold War Era by Solnit, Rebecca: ['20']\n",
      "Debug: Text extracted for The Price of the Ticket by Baldwin, James:\n",
      "\n",
      "\n",
      "https://www.google.com/search?q=The%20Price%20of%20the%20Ticket%20Baldwin,%20James%20published%20in%20what%20year\n",
      "\n",
      "\n",
      "\n",
      "\n",
      "\n",
      "\n",
      "  In order to continue, please enable javascript on your web browser.\n",
      "\n",
      "\n",
      "\n",
      "\n",
      "\n",
      "\n",
      "\n",
      "\n",
      "\n",
      "About this page\n",
      "\n",
      "Our systems have detected unusual traffic from your computer network.  This page checks to see if it's really you sending the requests, and not a robot.  Why did this happen?\n",
      "\n",
      "This page appears when Google automatically detects requests coming from your computer network which appea\n",
      "Debug: No valid year found in matches for The Price of the Ticket by Baldwin, James: ['20']\n",
      "Debug: Text extracted for A Field Guide to Getting Lost by Solnit, Rebecca:\n",
      "\n",
      "\n",
      "https://www.google.com/search?q=A%20Field%20Guide%20to%20Getting%20Lost%20Solnit,%20Rebecca%20published%20in%20what%20year\n",
      "\n",
      "\n",
      "\n",
      "\n",
      "\n",
      "\n",
      "  In order to continue, please enable javascript on your web browser.\n",
      "\n",
      "\n",
      "\n",
      "\n",
      "\n",
      "\n",
      "\n",
      "\n",
      "\n",
      "About this page\n",
      "\n",
      "Our systems have detected unusual traffic from your computer network.  This page checks to see if it's really you sending the requests, and not a robot.  Why did this happen?\n",
      "\n",
      "This page appears when Google automatically detects requests coming from your computer network wh\n",
      "Debug: No valid year found in matches for A Field Guide to Getting Lost by Solnit, Rebecca: ['20']\n",
      "Error extracting year for Son of the Morning Star: Custer and Little Big Horn by Connell, Evan S.: ('Connection aborted.', RemoteDisconnected('Remote end closed connection without response'))\n"
     ]
    },
    {
     "name": "stderr",
     "output_type": "stream",
     "text": [
      "\r",
      "Processing books:  15%|██▊               | 208/1346 [17:37<49:48:20, 157.56s/it]"
     ]
    },
    {
     "name": "stdout",
     "output_type": "stream",
     "text": [
      "Debug: Text extracted for Son of the Morning Star: Custer and Little Big Horn by Connell, Evan S.:\n",
      "\n",
      "\n",
      "https://www.google.com/search?q=Son%20of%20the%20Morning%20Star:%20Custer%20and%20Little%20Big%20Horn%20Connell,%20Evan%20S.%20published%20in%20what%20year\n",
      "\n",
      "\n",
      "\n",
      "\n",
      "\n",
      "\n",
      "  In order to continue, please enable javascript on your web browser.\n",
      "\n",
      "\n",
      "\n",
      "\n",
      "\n",
      "\n",
      "\n",
      "\n",
      "\n",
      "About this page\n",
      "\n",
      "Our systems have detected unusual traffic from your computer network.  This page checks to see if it's really you sending the requests, and not a robot.  Why did this happen?\n",
      "\n",
      "This page appears when Google automatically detects requests com\n",
      "Debug: No valid year found in matches for Son of the Morning Star: Custer and Little Big Horn by Connell, Evan S.: ['20']\n",
      "Debug: Text extracted for When Women Were Birds: Fifty-four Variations on Voice by Williams, Terry Tempest:\n",
      "\n",
      "\n",
      "https://www.google.com/search?q=When%20Women%20Were%20Birds:%20Fifty-four%20Variations%20on%20Voice%20Williams,%20Terry%20Tempest%20published%20in%20what%20year\n",
      "\n",
      "\n",
      "\n",
      "\n",
      "\n",
      "\n",
      "  In order to continue, please enable javascript on your web browser.\n",
      "\n",
      "\n",
      "\n",
      "\n",
      "\n",
      "\n",
      "\n",
      "\n",
      "\n",
      "About this page\n",
      "\n",
      "Our systems have detected unusual traffic from your computer network.  This page checks to see if it's really you sending the requests, and not a robot.  Why did this happen?\n",
      "\n",
      "This page appears when Google automatically detects request\n",
      "Debug: No valid year found in matches for When Women Were Birds: Fifty-four Variations on Voice by Williams, Terry Tempest: ['20']\n",
      "Debug: Text extracted for When Women Were Birds: Fifty-four Variations on Voice by Williams, Terry Tempest:\n",
      "\n",
      "\n",
      "https://www.google.com/search?q=When%20Women%20Were%20Birds:%20Fifty-four%20Variations%20on%20Voice%20Williams,%20Terry%20Tempest%20published%20in%20what%20year\n",
      "\n",
      "\n",
      "\n",
      "\n",
      "\n",
      "\n",
      "  In order to continue, please enable javascript on your web browser.\n",
      "\n",
      "\n",
      "\n",
      "\n",
      "\n",
      "\n",
      "\n",
      "\n",
      "\n",
      "About this page\n",
      "\n",
      "Our systems have detected unusual traffic from your computer network.  This page checks to see if it's really you sending the requests, and not a robot.  Why did this happen?\n",
      "\n",
      "This page appears when Google automatically detects request\n",
      "Debug: No valid year found in matches for When Women Were Birds: Fifty-four Variations on Voice by Williams, Terry Tempest: ['20']\n",
      "Error extracting year for When Women Were Birds: Fifty-four Variations on Voice by Williams, Terry Tempest: ('Connection aborted.', RemoteDisconnected('Remote end closed connection without response'))\n"
     ]
    },
    {
     "name": "stderr",
     "output_type": "stream",
     "text": [
      "\r",
      "Processing books:  16%|██▊               | 209/1346 [29:23<95:41:06, 302.96s/it]"
     ]
    },
    {
     "name": "stdout",
     "output_type": "stream",
     "text": [
      "Error extracting year for Men Explain Things to Me by Solnit, Rebecca: ('Connection aborted.', RemoteDisconnected('Remote end closed connection without response'))\n",
      "Debug: Text extracted for Men Explain Things to Me by Solnit, Rebecca:\n",
      "\n",
      "\n",
      "https://www.google.com/search?q=Men%20Explain%20Things%20to%20Me%20Solnit,%20Rebecca%20published%20in%20what%20year\n",
      "\n",
      "\n",
      "\n",
      "\n",
      "\n",
      "\n",
      "  In order to continue, please enable javascript on your web browser.\n",
      "\n",
      "\n",
      "\n",
      "\n",
      "\n",
      "\n",
      "\n",
      "\n",
      "\n",
      "About this page\n",
      "\n",
      "Our systems have detected unusual traffic from your computer network.  This page checks to see if it's really you sending the requests, and not a robot.  Why did this happen?\n",
      "\n",
      "This page appears when Google automatically detects requests coming from your computer network which app\n",
      "Debug: No valid year found in matches for Men Explain Things to Me by Solnit, Rebecca: ['20']\n"
     ]
    },
    {
     "name": "stderr",
     "output_type": "stream",
     "text": [
      "\r",
      "Processing books:  16%|██▋              | 210/1346 [36:57<108:38:36, 344.29s/it]"
     ]
    },
    {
     "name": "stdout",
     "output_type": "stream",
     "text": [
      "Debug: Text extracted for Men Explain Things to Me by Solnit, Rebecca:\n",
      "\n",
      "\n",
      "https://www.google.com/search?q=Men%20Explain%20Things%20to%20Me%20Solnit,%20Rebecca%20published%20in%20what%20year\n",
      "\n",
      "\n",
      "\n",
      "\n",
      "\n",
      "\n",
      "  In order to continue, please enable javascript on your web browser.\n",
      "\n",
      "\n",
      "\n",
      "\n",
      "\n",
      "\n",
      "\n",
      "\n",
      "\n",
      "About this page\n",
      "\n",
      "Our systems have detected unusual traffic from your computer network.  This page checks to see if it's really you sending the requests, and not a robot.  Why did this happen?\n",
      "\n",
      "This page appears when Google automatically detects requests coming from your computer network which app\n",
      "Debug: No valid year found in matches for Men Explain Things to Me by Solnit, Rebecca: ['20']\n",
      "Debug: Text extracted for A Pardaise Built in Hell by Solnit, Rebecca:\n",
      "\n",
      "\n",
      "https://www.google.com/search?q=A%20Pardaise%20Built%20in%20Hell%20Solnit,%20Rebecca%20published%20in%20what%20year\n",
      "\n",
      "\n",
      "\n",
      "\n",
      "\n",
      "\n",
      "  In order to continue, please enable javascript on your web browser.\n",
      "\n",
      "\n",
      "\n",
      "\n",
      "\n",
      "\n",
      "\n",
      "\n",
      "\n",
      "About this page\n",
      "\n",
      "Our systems have detected unusual traffic from your computer network.  This page checks to see if it's really you sending the requests, and not a robot.  Why did this happen?\n",
      "\n",
      "This page appears when Google automatically detects requests coming from your computer network which app\n",
      "Debug: No valid year found in matches for A Pardaise Built in Hell by Solnit, Rebecca: ['20']\n",
      "Debug: Text extracted for A Pardaise Built in Hell by Solnit, Rebecca:\n",
      "\n",
      "\n",
      "https://www.google.com/search?q=A%20Pardaise%20Built%20in%20Hell%20Solnit,%20Rebecca%20published%20in%20what%20year\n",
      "\n",
      "\n",
      "\n",
      "\n",
      "\n",
      "\n",
      "  In order to continue, please enable javascript on your web browser.\n",
      "\n",
      "\n",
      "\n",
      "\n",
      "\n",
      "\n",
      "\n",
      "\n",
      "\n",
      "About this page\n",
      "\n",
      "Our systems have detected unusual traffic from your computer network.  This page checks to see if it's really you sending the requests, and not a robot.  Why did this happen?\n",
      "\n",
      "This page appears when Google automatically detects requests coming from your computer network which app\n",
      "Debug: No valid year found in matches for A Pardaise Built in Hell by Solnit, Rebecca: ['20']\n"
     ]
    },
    {
     "name": "stderr",
     "output_type": "stream",
     "text": [
      "\r",
      "Processing books:  16%|██▊               | 211/1346 [36:59<78:09:19, 247.89s/it]"
     ]
    },
    {
     "name": "stdout",
     "output_type": "stream",
     "text": [
      "Debug: Text extracted for A Pardaise Built in Hell by Solnit, Rebecca:\n",
      "\n",
      "\n",
      "https://www.google.com/search?q=A%20Pardaise%20Built%20in%20Hell%20Solnit,%20Rebecca%20published%20in%20what%20year\n",
      "\n",
      "\n",
      "\n",
      "\n",
      "\n",
      "\n",
      "  In order to continue, please enable javascript on your web browser.\n",
      "\n",
      "\n",
      "\n",
      "\n",
      "\n",
      "\n",
      "\n",
      "\n",
      "\n",
      "About this page\n",
      "\n",
      "Our systems have detected unusual traffic from your computer network.  This page checks to see if it's really you sending the requests, and not a robot.  Why did this happen?\n",
      "\n",
      "This page appears when Google automatically detects requests coming from your computer network which app\n",
      "Debug: No valid year found in matches for A Pardaise Built in Hell by Solnit, Rebecca: ['20']\n",
      "Debug: Text extracted for The Way It Is: New and Selected Poems by Stafford, William:\n",
      "\n",
      "\n",
      "https://www.google.com/search?q=The%20Way%20It%20Is:%20New%20and%20Selected%20Poems%20Stafford,%20William%20published%20in%20what%20year\n",
      "\n",
      "\n",
      "\n",
      "\n",
      "\n",
      "\n",
      "  In order to continue, please enable javascript on your web browser.\n",
      "\n",
      "\n",
      "\n",
      "\n",
      "\n",
      "\n",
      "\n",
      "\n",
      "\n",
      "About this page\n",
      "\n",
      "Our systems have detected unusual traffic from your computer network.  This page checks to see if it's really you sending the requests, and not a robot.  Why did this happen?\n",
      "\n",
      "This page appears when Google automatically detects requests coming from your compu\n",
      "Debug: No valid year found in matches for The Way It Is: New and Selected Poems by Stafford, William: ['20']\n",
      "Debug: Text extracted for The Way It Is: New and Selected Poems by Stafford, William:\n",
      "\n",
      "\n",
      "https://www.google.com/search?q=The%20Way%20It%20Is:%20New%20and%20Selected%20Poems%20Stafford,%20William%20published%20in%20what%20year\n",
      "\n",
      "\n",
      "\n",
      "\n",
      "\n",
      "\n",
      "  In order to continue, please enable javascript on your web browser.\n",
      "\n",
      "\n",
      "\n",
      "\n",
      "\n",
      "\n",
      "\n",
      "\n",
      "\n",
      "About this page\n",
      "\n",
      "Our systems have detected unusual traffic from your computer network.  This page checks to see if it's really you sending the requests, and not a robot.  Why did this happen?\n",
      "\n",
      "This page appears when Google automatically detects requests coming from your compu\n",
      "Debug: No valid year found in matches for The Way It Is: New and Selected Poems by Stafford, William: ['20']\n"
     ]
    },
    {
     "name": "stderr",
     "output_type": "stream",
     "text": [
      "\r",
      "Processing books:  16%|██▊               | 212/1346 [38:06<61:43:51, 195.97s/it]"
     ]
    },
    {
     "name": "stdout",
     "output_type": "stream",
     "text": [
      "Debug: Text extracted for The Way It Is: New and Selected Poems by Stafford, William:\n",
      "\n",
      "\n",
      "https://www.google.com/search?q=The%20Way%20It%20Is:%20New%20and%20Selected%20Poems%20Stafford,%20William%20published%20in%20what%20year\n",
      "\n",
      "\n",
      "\n",
      "\n",
      "\n",
      "\n",
      "  In order to continue, please enable javascript on your web browser.\n",
      "\n",
      "\n",
      "\n",
      "\n",
      "\n",
      "\n",
      "\n",
      "\n",
      "\n",
      "About this page\n",
      "\n",
      "Our systems have detected unusual traffic from your computer network.  This page checks to see if it's really you sending the requests, and not a robot.  Why did this happen?\n",
      "\n",
      "This page appears when Google automatically detects requests coming from your compu\n",
      "Debug: No valid year found in matches for The Way It Is: New and Selected Poems by Stafford, William: ['20']\n",
      "Debug: Text extracted for *Fear and Trembling by Kierkegaard, Søren:\n",
      "\n",
      "\n",
      "https://www.google.com/search?q=*Fear%20and%20Trembling%20Kierkegaard,%20S%C3%B8ren%20published%20in%20what%20year\n",
      "\n",
      "\n",
      "\n",
      "\n",
      "\n",
      "\n",
      "  In order to continue, please enable javascript on your web browser.\n",
      "\n",
      "\n",
      "\n",
      "\n",
      "\n",
      "\n",
      "\n",
      "\n",
      "\n",
      "About this page\n",
      "\n",
      "Our systems have detected unusual traffic from your computer network.  This page checks to see if it's really you sending the requests, and not a robot.  Why did this happen?\n",
      "\n",
      "This page appears when Google automatically detects requests coming from your computer network which appe\n",
      "Debug: No valid year found in matches for *Fear and Trembling by Kierkegaard, Søren: ['20']\n",
      "Debug: Text extracted for *Fear and Trembling by Kierkegaard, Søren:\n",
      "\n",
      "\n",
      "https://www.google.com/search?q=*Fear%20and%20Trembling%20Kierkegaard,%20S%C3%B8ren%20published%20in%20what%20year\n",
      "\n",
      "\n",
      "\n",
      "\n",
      "\n",
      "\n",
      "  In order to continue, please enable javascript on your web browser.\n",
      "\n",
      "\n",
      "\n",
      "\n",
      "\n",
      "\n",
      "\n",
      "\n",
      "\n",
      "About this page\n",
      "\n",
      "Our systems have detected unusual traffic from your computer network.  This page checks to see if it's really you sending the requests, and not a robot.  Why did this happen?\n",
      "\n",
      "This page appears when Google automatically detects requests coming from your computer network which appe\n",
      "Debug: No valid year found in matches for *Fear and Trembling by Kierkegaard, Søren: ['20']\n"
     ]
    },
    {
     "name": "stderr",
     "output_type": "stream",
     "text": [
      "\r",
      "Processing books:  16%|██▊               | 213/1346 [38:09<44:02:48, 139.95s/it]"
     ]
    },
    {
     "name": "stdout",
     "output_type": "stream",
     "text": [
      "Debug: Text extracted for *Fear and Trembling by Kierkegaard, Søren:\n",
      "\n",
      "\n",
      "https://www.google.com/search?q=*Fear%20and%20Trembling%20Kierkegaard,%20S%C3%B8ren%20published%20in%20what%20year\n",
      "\n",
      "\n",
      "\n",
      "\n",
      "\n",
      "\n",
      "  In order to continue, please enable javascript on your web browser.\n",
      "\n",
      "\n",
      "\n",
      "\n",
      "\n",
      "\n",
      "\n",
      "\n",
      "\n",
      "About this page\n",
      "\n",
      "Our systems have detected unusual traffic from your computer network.  This page checks to see if it's really you sending the requests, and not a robot.  Why did this happen?\n",
      "\n",
      "This page appears when Google automatically detects requests coming from your computer network which appe\n",
      "Debug: No valid year found in matches for *Fear and Trembling by Kierkegaard, Søren: ['20']\n",
      "Error extracting year for The Double by Dostoyevsky, Fyodor: ('Connection aborted.', RemoteDisconnected('Remote end closed connection without response'))\n",
      "Debug: Text extracted for The Double by Dostoyevsky, Fyodor:\n",
      "\n",
      "\n",
      "https://www.google.com/search?q=The%20Double%20Dostoyevsky,%20Fyodor%20published%20in%20what%20year\n",
      "\n",
      "\n",
      "\n",
      "\n",
      "\n",
      "\n",
      "  In order to continue, please enable javascript on your web browser.\n",
      "\n",
      "\n",
      "\n",
      "\n",
      "\n",
      "\n",
      "\n",
      "\n",
      "\n",
      "About this page\n",
      "\n",
      "Our systems have detected unusual traffic from your computer network.  This page checks to see if it's really you sending the requests, and not a robot.  Why did this happen?\n",
      "\n",
      "This page appears when Google automatically detects requests coming from your computer network which appear to be in vio\n",
      "Debug: No valid year found in matches for The Double by Dostoyevsky, Fyodor: ['20']\n"
     ]
    },
    {
     "name": "stderr",
     "output_type": "stream",
     "text": [
      "Processing books:  16%|██▏           | 213/1346 [20:06:52<106:59:38, 339.96s/it]\n"
     ]
    }
   ],
   "source": [
    "import pandas as pd\n",
    "import requests\n",
    "from bs4 import BeautifulSoup\n",
    "import re\n",
    "import time\n",
    "from datetime import datetime\n",
    "from concurrent.futures import ThreadPoolExecutor, as_completed\n",
    "from tqdm import tqdm\n",
    "\n",
    "# Load the Google Sheets file (as CSV or Excel)\n",
    "  # Replace with the path to your file\n",
    "df6 = pd.read_csv(b)\n",
    "\n",
    "# Add a 'year' column initialized with None values\n",
    "df6['year'] = None\n",
    "\n",
    "# Get the current year\n",
    "current_year = datetime.now().year\n",
    "\n",
    "# Function to extract the publishing year from search results\n",
    "def get_publishing_year(row):\n",
    "    title = row['Connective_Title']\n",
    "    author = row['Connective_Author']\n",
    "    query = f\"{title} {author} published in what year\"\n",
    "    url = f\"https://www.google.com/search?q={query}\"\n",
    "    headers = {\n",
    "        'User-Agent': 'Mozilla/5.0 (Windows NT 10.0; Win64; x64) AppleWebKit/537.36 (KHTML, like Gecko) Chrome/58.0.3029.110 Safari/537.36'\n",
    "    }\n",
    "\n",
    "    for _ in range(3):  # Retry logic\n",
    "        try:\n",
    "            response = requests.get(url, headers=headers)\n",
    "            soup = BeautifulSoup(response.text, 'html.parser')\n",
    "\n",
    "            # Extract the publishing year from the search results using regex\n",
    "            text = soup.get_text()\n",
    "            # Simplified regex to match any four-digit year between 1800 and the current year\n",
    "            match = re.findall(r'\\b(19|20)\\d{2}\\b', text)\n",
    "            print(f\"Debug: Text extracted for {title} by {author}:\\n{text[:500]}\")  # Print the first 500 characters of the text\n",
    "            if match:\n",
    "                # Filter and find a plausible year\n",
    "                for year in match:\n",
    "                    year = int(year)\n",
    "                    if 1800 <= year <= current_year:\n",
    "                        return (row.name, year)\n",
    "                print(f\"Debug: No valid year found in matches for {title} by {author}: {match}\")\n",
    "            else:\n",
    "                print(f\"Debug: No year matches found for {title} by {author}\")\n",
    "        except Exception as e:\n",
    "            print(f\"Error extracting year for {title} by {author}: {e}\")\n",
    "            time.sleep(5)  # Wait for 5 seconds before retrying\n",
    "    return (row.name, None)\n",
    "\n",
    "# Function to update DataFrame with results\n",
    "def update_dataframe(results):\n",
    "    for index, year in results:\n",
    "        if year:\n",
    "            df6.at[index, 'year'] = year\n",
    "\n",
    "# Use ThreadPoolExecutor for concurrent requests with progress bar\n",
    "results = []\n",
    "with ThreadPoolExecutor(max_workers=10) as executor:\n",
    "    futures = {executor.submit(get_publishing_year, row): index for index, row in df6.iterrows()}\n",
    "    for future in tqdm(as_completed(futures), total=len(futures), desc=\"Processing books\"):\n",
    "        result = future.result()\n",
    "        if result:\n",
    "            results.append(result)\n",
    "\n",
    "# Update the DataFrame with the results\n",
    "update_dataframe(results)\n",
    "\n",
    "# Display the updated DataFrame\n",
    "print(df6.head())\n",
    "\n",
    "# Save the updated DataFrame to a new CSV file\n",
    "#df6.to_csv('updated_books6.csv', index=False)\n"
   ]
  }
 ],
 "metadata": {
  "kernelspec": {
   "display_name": "Python 3 (ipykernel)",
   "language": "python",
   "name": "python3"
  },
  "language_info": {
   "codemirror_mode": {
    "name": "ipython",
    "version": 3
   },
   "file_extension": ".py",
   "mimetype": "text/x-python",
   "name": "python",
   "nbconvert_exporter": "python",
   "pygments_lexer": "ipython3",
   "version": "3.10.9"
  }
 },
 "nbformat": 4,
 "nbformat_minor": 5
}
