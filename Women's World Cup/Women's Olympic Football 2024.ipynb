{
 "cells": [
  {
   "cell_type": "markdown",
   "id": "6be5de4c",
   "metadata": {},
   "source": [
    "I'm starting from code that I made for an analysis of Men's Euro's 2024 Cup, and working from there. I've changed some of the info to clean up the flow as well as added something I heard Julie Foudy talking about in teh last USA match against Germany--the time between matches was ridiculous in terms of turnaround for the teams. Also, that the teams were having to travel so much. So I've included some analysis of time between games for teams as well as how far they had to travel. Should be interesting!!"
   ]
  },
  {
   "cell_type": "code",
   "execution_count": 18,
   "id": "3d0727df",
   "metadata": {},
   "outputs": [
    {
     "ename": "SyntaxError",
     "evalue": "invalid syntax (3845940733.py, line 16)",
     "output_type": "error",
     "traceback": [
      "\u001b[0;36m  Cell \u001b[0;32mIn[18], line 16\u001b[0;36m\u001b[0m\n\u001b[0;31m    file_path = '/Users/mattnelson/Desktop/GitHub/Example-Work/Women's World Cup/Women's Football Olympics 2024 - Match_Info.csv'\u001b[0m\n\u001b[0m                                                                     ^\u001b[0m\n\u001b[0;31mSyntaxError\u001b[0m\u001b[0;31m:\u001b[0m invalid syntax\n"
     ]
    }
   ],
   "source": [
    "from datetime import date\n",
    "import pandas as pd\n",
    "import numpy as np\n",
    "import seaborn as sns\n",
    "import matplotlib.pyplot as plt\n",
    "from numpy import absolute\n",
    "import xgboost as xgb\n",
    "from xgboost import XGBRegressor\n",
    "from sklearn.pipeline import Pipeline\n",
    "from sklearn.model_selection import train_test_split\n",
    "from sklearn.metrics import mean_squared_error\n",
    "from skopt import BayesSearchCV\n",
    "from skopt.space import Real, Integer \n",
    "\n",
    "\n",
    "file_path = '/Users/mattnelson/Desktop/GitHub/Example-Work/Women's World Cup/Women's Football Olympics 2024 - Match_Info.csv'  \n",
    "df = pd.read_csv(file_path)\n"
   ]
  }
 ],
 "metadata": {
  "kernelspec": {
   "display_name": "Python 3 (ipykernel)",
   "language": "python",
   "name": "python3"
  },
  "language_info": {
   "codemirror_mode": {
    "name": "ipython",
    "version": 3
   },
   "file_extension": ".py",
   "mimetype": "text/x-python",
   "name": "python",
   "nbconvert_exporter": "python",
   "pygments_lexer": "ipython3",
   "version": "3.10.9"
  }
 },
 "nbformat": 4,
 "nbformat_minor": 5
}
